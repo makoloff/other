{
 "cells": [
  {
   "cell_type": "markdown",
   "metadata": {
    "id": "Uk66eTdc-WSe"
   },
   "source": [
    "1. <a href='#1'>Ручная модель скорринга. </a>\n",
    "\n",
    "2. <a href='#2'>Логистическая регрессия. </a>\n",
    "\n",
    "3. <a href='#3'>Логистическая регрессия по изначальным данным. </a>\n",
    "\n",
    "4. <a href='#4'>CatBoost Классификатор. </a>\n"
   ]
  },
  {
   "cell_type": "markdown",
   "metadata": {
    "id": "fXROhuUO8ls-"
   },
   "source": [
    "### 1. РУЧНАЯ МОДЕЛЬ СКОРРИНГА <a id='1'></a>"
   ]
  },
  {
   "cell_type": "code",
   "execution_count": 4,
   "metadata": {
    "id": "BkrF7CkdfRaa"
   },
   "outputs": [],
   "source": [
    "import pandas as pd\n",
    "df = pd.read_csv('/content/drive/My Drive/DATASETS/Яндекс_датасеты/1 Банк/1_Проект_банк_кредиты.csv')\n",
    "import numpy as np\n",
    "import pandas as pd\n",
    "import matplotlib\n",
    "import matplotlib.pyplot as plt\n",
    "import seaborn as sns\n",
    "sns.set(style=\"darkgrid\")"
   ]
  },
  {
   "cell_type": "code",
   "execution_count": 5,
   "metadata": {
    "colab": {
     "base_uri": "https://localhost:8080/",
     "height": 55
    },
    "id": "9c6eNBRGEmZ7",
    "outputId": "9e467150-710d-418d-c03e-f81f865d72d7"
   },
   "outputs": [
    {
     "name": "stdout",
     "output_type": "stream",
     "text": [
      "Drive already mounted at /content/drive; to attempt to forcibly remount, call drive.mount(\"/content/drive\", force_remount=True).\n"
     ]
    }
   ],
   "source": [
    "from google.colab import drive\n",
    "drive.mount('/content/drive')"
   ]
  },
  {
   "cell_type": "code",
   "execution_count": 6,
   "metadata": {
    "colab": {
     "base_uri": "https://localhost:8080/",
     "height": 309
    },
    "id": "NOtMM04WfSXU",
    "outputId": "d041405e-c8f8-4df3-cd00-7c19f893e943"
   },
   "outputs": [
    {
     "data": {
      "text/html": [
       "<div>\n",
       "<style scoped>\n",
       "    .dataframe tbody tr th:only-of-type {\n",
       "        vertical-align: middle;\n",
       "    }\n",
       "\n",
       "    .dataframe tbody tr th {\n",
       "        vertical-align: top;\n",
       "    }\n",
       "\n",
       "    .dataframe thead th {\n",
       "        text-align: right;\n",
       "    }\n",
       "</style>\n",
       "<table border=\"1\" class=\"dataframe\">\n",
       "  <thead>\n",
       "    <tr style=\"text-align: right;\">\n",
       "      <th></th>\n",
       "      <th>children</th>\n",
       "      <th>days_employed</th>\n",
       "      <th>dob_years</th>\n",
       "      <th>education</th>\n",
       "      <th>education_id</th>\n",
       "      <th>family_status</th>\n",
       "      <th>family_status_id</th>\n",
       "      <th>gender</th>\n",
       "      <th>income_type</th>\n",
       "      <th>debt</th>\n",
       "      <th>total_income</th>\n",
       "      <th>purpose</th>\n",
       "    </tr>\n",
       "  </thead>\n",
       "  <tbody>\n",
       "    <tr>\n",
       "      <th>0</th>\n",
       "      <td>1</td>\n",
       "      <td>-8437.673028</td>\n",
       "      <td>42</td>\n",
       "      <td>высшее</td>\n",
       "      <td>0</td>\n",
       "      <td>женат / замужем</td>\n",
       "      <td>0</td>\n",
       "      <td>F</td>\n",
       "      <td>сотрудник</td>\n",
       "      <td>0</td>\n",
       "      <td>253875.639453</td>\n",
       "      <td>покупка жилья</td>\n",
       "    </tr>\n",
       "    <tr>\n",
       "      <th>1</th>\n",
       "      <td>1</td>\n",
       "      <td>-4024.803754</td>\n",
       "      <td>36</td>\n",
       "      <td>среднее</td>\n",
       "      <td>1</td>\n",
       "      <td>женат / замужем</td>\n",
       "      <td>0</td>\n",
       "      <td>F</td>\n",
       "      <td>сотрудник</td>\n",
       "      <td>0</td>\n",
       "      <td>112080.014102</td>\n",
       "      <td>приобретение автомобиля</td>\n",
       "    </tr>\n",
       "    <tr>\n",
       "      <th>2</th>\n",
       "      <td>0</td>\n",
       "      <td>-5623.422610</td>\n",
       "      <td>33</td>\n",
       "      <td>Среднее</td>\n",
       "      <td>1</td>\n",
       "      <td>женат / замужем</td>\n",
       "      <td>0</td>\n",
       "      <td>M</td>\n",
       "      <td>сотрудник</td>\n",
       "      <td>0</td>\n",
       "      <td>145885.952297</td>\n",
       "      <td>покупка жилья</td>\n",
       "    </tr>\n",
       "    <tr>\n",
       "      <th>3</th>\n",
       "      <td>3</td>\n",
       "      <td>-4124.747207</td>\n",
       "      <td>32</td>\n",
       "      <td>среднее</td>\n",
       "      <td>1</td>\n",
       "      <td>женат / замужем</td>\n",
       "      <td>0</td>\n",
       "      <td>M</td>\n",
       "      <td>сотрудник</td>\n",
       "      <td>0</td>\n",
       "      <td>267628.550329</td>\n",
       "      <td>дополнительное образование</td>\n",
       "    </tr>\n",
       "    <tr>\n",
       "      <th>4</th>\n",
       "      <td>0</td>\n",
       "      <td>340266.072047</td>\n",
       "      <td>53</td>\n",
       "      <td>среднее</td>\n",
       "      <td>1</td>\n",
       "      <td>гражданский брак</td>\n",
       "      <td>1</td>\n",
       "      <td>F</td>\n",
       "      <td>пенсионер</td>\n",
       "      <td>0</td>\n",
       "      <td>158616.077870</td>\n",
       "      <td>сыграть свадьбу</td>\n",
       "    </tr>\n",
       "  </tbody>\n",
       "</table>\n",
       "</div>"
      ],
      "text/plain": [
       "   children  days_employed  ...   total_income                     purpose\n",
       "0         1   -8437.673028  ...  253875.639453               покупка жилья\n",
       "1         1   -4024.803754  ...  112080.014102     приобретение автомобиля\n",
       "2         0   -5623.422610  ...  145885.952297               покупка жилья\n",
       "3         3   -4124.747207  ...  267628.550329  дополнительное образование\n",
       "4         0  340266.072047  ...  158616.077870             сыграть свадьбу\n",
       "\n",
       "[5 rows x 12 columns]"
      ]
     },
     "execution_count": 6,
     "metadata": {
      "tags": []
     },
     "output_type": "execute_result"
    }
   ],
   "source": [
    "df.head()"
   ]
  },
  {
   "cell_type": "code",
   "execution_count": 7,
   "metadata": {
    "colab": {
     "base_uri": "https://localhost:8080/",
     "height": 243
    },
    "id": "y-cPZqq8f1h5",
    "outputId": "259db62c-88d1-4399-a223-e51b2363e23d"
   },
   "outputs": [
    {
     "data": {
      "text/plain": [
       "children            0.000000\n",
       "days_employed       0.100999\n",
       "dob_years           0.000000\n",
       "education           0.000000\n",
       "education_id        0.000000\n",
       "family_status       0.000000\n",
       "family_status_id    0.000000\n",
       "gender              0.000000\n",
       "income_type         0.000000\n",
       "debt                0.000000\n",
       "total_income        0.100999\n",
       "purpose             0.000000\n",
       "dtype: float64"
      ]
     },
     "execution_count": 7,
     "metadata": {
      "tags": []
     },
     "output_type": "execute_result"
    }
   ],
   "source": [
    "df.isna().mean()"
   ]
  },
  {
   "cell_type": "code",
   "execution_count": 8,
   "metadata": {
    "colab": {
     "base_uri": "https://localhost:8080/",
     "height": 347
    },
    "id": "HQ5SKysvf8ZA",
    "outputId": "0ac4e421-9062-49be-cb8e-8e04b4ec0a1c"
   },
   "outputs": [
    {
     "name": "stdout",
     "output_type": "stream",
     "text": [
      "<class 'pandas.core.frame.DataFrame'>\n",
      "RangeIndex: 21525 entries, 0 to 21524\n",
      "Data columns (total 12 columns):\n",
      " #   Column            Non-Null Count  Dtype  \n",
      "---  ------            --------------  -----  \n",
      " 0   children          21525 non-null  int64  \n",
      " 1   days_employed     19351 non-null  float64\n",
      " 2   dob_years         21525 non-null  int64  \n",
      " 3   education         21525 non-null  object \n",
      " 4   education_id      21525 non-null  int64  \n",
      " 5   family_status     21525 non-null  object \n",
      " 6   family_status_id  21525 non-null  int64  \n",
      " 7   gender            21525 non-null  object \n",
      " 8   income_type       21525 non-null  object \n",
      " 9   debt              21525 non-null  int64  \n",
      " 10  total_income      19351 non-null  float64\n",
      " 11  purpose           21525 non-null  object \n",
      "dtypes: float64(2), int64(5), object(5)\n",
      "memory usage: 2.0+ MB\n"
     ]
    }
   ],
   "source": [
    "df.info()"
   ]
  },
  {
   "cell_type": "code",
   "execution_count": 9,
   "metadata": {
    "id": "gN1qOoBlgCXU"
   },
   "outputs": [],
   "source": [
    "df = df.dropna()"
   ]
  },
  {
   "cell_type": "code",
   "execution_count": 10,
   "metadata": {
    "colab": {
     "base_uri": "https://localhost:8080/",
     "height": 243
    },
    "id": "stLRbtPNjYwJ",
    "outputId": "5432257f-8600-4cfd-f51f-99ceebab9ad4"
   },
   "outputs": [
    {
     "data": {
      "text/plain": [
       "children            0\n",
       "days_employed       0\n",
       "dob_years           0\n",
       "education           0\n",
       "education_id        0\n",
       "family_status       0\n",
       "family_status_id    0\n",
       "gender              0\n",
       "income_type         0\n",
       "debt                0\n",
       "total_income        0\n",
       "purpose             0\n",
       "dtype: int64"
      ]
     },
     "execution_count": 10,
     "metadata": {
      "tags": []
     },
     "output_type": "execute_result"
    }
   ],
   "source": [
    "df.isna().sum()"
   ]
  },
  {
   "cell_type": "code",
   "execution_count": 11,
   "metadata": {
    "id": "4w7BezbnZD7x"
   },
   "outputs": [],
   "source": [
    "df['children'] = abs(df['children'])"
   ]
  },
  {
   "cell_type": "code",
   "execution_count": 12,
   "metadata": {
    "id": "NfgW1Nm6jagY"
   },
   "outputs": [],
   "source": [
    "test = df.sample(frac=0.2, random_state=42).copy()"
   ]
  },
  {
   "cell_type": "code",
   "execution_count": 13,
   "metadata": {
    "id": "vHAwPInSmJ1O"
   },
   "outputs": [],
   "source": [
    "train = df[~df.index.isin(test.index)].copy()"
   ]
  },
  {
   "cell_type": "code",
   "execution_count": 14,
   "metadata": {
    "colab": {
     "base_uri": "https://localhost:8080/",
     "height": 35
    },
    "id": "jb_0SyX_mcHD",
    "outputId": "60419ba5-487e-4e8d-fade-e7c0aaa07c29"
   },
   "outputs": [
    {
     "data": {
      "text/plain": [
       "0"
      ]
     },
     "execution_count": 14,
     "metadata": {
      "tags": []
     },
     "output_type": "execute_result"
    }
   ],
   "source": [
    "len(train) + len(test) - len(df)"
   ]
  },
  {
   "cell_type": "code",
   "execution_count": 15,
   "metadata": {
    "colab": {
     "base_uri": "https://localhost:8080/",
     "height": 117
    },
    "id": "pJiBenONw3qn",
    "outputId": "90805044-7cb9-4a8e-ca0d-922b7776c567"
   },
   "outputs": [
    {
     "data": {
      "text/html": [
       "<div>\n",
       "<style scoped>\n",
       "    .dataframe tbody tr th:only-of-type {\n",
       "        vertical-align: middle;\n",
       "    }\n",
       "\n",
       "    .dataframe tbody tr th {\n",
       "        vertical-align: top;\n",
       "    }\n",
       "\n",
       "    .dataframe thead th {\n",
       "        text-align: right;\n",
       "    }\n",
       "</style>\n",
       "<table border=\"1\" class=\"dataframe\">\n",
       "  <thead>\n",
       "    <tr style=\"text-align: right;\">\n",
       "      <th></th>\n",
       "      <th>children</th>\n",
       "      <th>days_employed</th>\n",
       "      <th>dob_years</th>\n",
       "      <th>education</th>\n",
       "      <th>education_id</th>\n",
       "      <th>family_status</th>\n",
       "      <th>family_status_id</th>\n",
       "      <th>gender</th>\n",
       "      <th>income_type</th>\n",
       "      <th>debt</th>\n",
       "      <th>total_income</th>\n",
       "      <th>purpose</th>\n",
       "    </tr>\n",
       "  </thead>\n",
       "  <tbody>\n",
       "    <tr>\n",
       "      <th>1</th>\n",
       "      <td>1</td>\n",
       "      <td>-4024.803754</td>\n",
       "      <td>36</td>\n",
       "      <td>среднее</td>\n",
       "      <td>1</td>\n",
       "      <td>женат / замужем</td>\n",
       "      <td>0</td>\n",
       "      <td>F</td>\n",
       "      <td>сотрудник</td>\n",
       "      <td>0</td>\n",
       "      <td>112080.014102</td>\n",
       "      <td>приобретение автомобиля</td>\n",
       "    </tr>\n",
       "  </tbody>\n",
       "</table>\n",
       "</div>"
      ],
      "text/plain": [
       "   children  days_employed  ...   total_income                  purpose\n",
       "1         1   -4024.803754  ...  112080.014102  приобретение автомобиля\n",
       "\n",
       "[1 rows x 12 columns]"
      ]
     },
     "execution_count": 15,
     "metadata": {
      "tags": []
     },
     "output_type": "execute_result"
    }
   ],
   "source": [
    "train.head(1)"
   ]
  },
  {
   "cell_type": "code",
   "execution_count": 16,
   "metadata": {
    "colab": {
     "base_uri": "https://localhost:8080/",
     "height": 294
    },
    "id": "KTaHcneawtwr",
    "outputId": "3bade46f-ad0a-411a-971f-09ca2325d4de"
   },
   "outputs": [
    {
     "data": {
      "text/html": [
       "<div>\n",
       "<style scoped>\n",
       "    .dataframe tbody tr th:only-of-type {\n",
       "        vertical-align: middle;\n",
       "    }\n",
       "\n",
       "    .dataframe tbody tr th {\n",
       "        vertical-align: top;\n",
       "    }\n",
       "\n",
       "    .dataframe thead th {\n",
       "        text-align: right;\n",
       "    }\n",
       "</style>\n",
       "<table border=\"1\" class=\"dataframe\">\n",
       "  <thead>\n",
       "    <tr style=\"text-align: right;\">\n",
       "      <th></th>\n",
       "      <th>count</th>\n",
       "      <th>mean</th>\n",
       "    </tr>\n",
       "    <tr>\n",
       "      <th>children</th>\n",
       "      <th></th>\n",
       "      <th></th>\n",
       "    </tr>\n",
       "  </thead>\n",
       "  <tbody>\n",
       "    <tr>\n",
       "      <th>0</th>\n",
       "      <td>10157</td>\n",
       "      <td>0.075022</td>\n",
       "    </tr>\n",
       "    <tr>\n",
       "      <th>1</th>\n",
       "      <td>3521</td>\n",
       "      <td>0.097700</td>\n",
       "    </tr>\n",
       "    <tr>\n",
       "      <th>2</th>\n",
       "      <td>1492</td>\n",
       "      <td>0.091823</td>\n",
       "    </tr>\n",
       "    <tr>\n",
       "      <th>3</th>\n",
       "      <td>228</td>\n",
       "      <td>0.074561</td>\n",
       "    </tr>\n",
       "    <tr>\n",
       "      <th>4</th>\n",
       "      <td>27</td>\n",
       "      <td>0.111111</td>\n",
       "    </tr>\n",
       "    <tr>\n",
       "      <th>5</th>\n",
       "      <td>5</td>\n",
       "      <td>0.000000</td>\n",
       "    </tr>\n",
       "    <tr>\n",
       "      <th>20</th>\n",
       "      <td>51</td>\n",
       "      <td>0.078431</td>\n",
       "    </tr>\n",
       "  </tbody>\n",
       "</table>\n",
       "</div>"
      ],
      "text/plain": [
       "          count      mean\n",
       "children                 \n",
       "0         10157  0.075022\n",
       "1          3521  0.097700\n",
       "2          1492  0.091823\n",
       "3           228  0.074561\n",
       "4            27  0.111111\n",
       "5             5  0.000000\n",
       "20           51  0.078431"
      ]
     },
     "execution_count": 16,
     "metadata": {
      "tags": []
     },
     "output_type": "execute_result"
    }
   ],
   "source": [
    "train.groupby('children').agg(count = ('debt', 'count'), mean = ('debt' , 'mean'))"
   ]
  },
  {
   "cell_type": "code",
   "execution_count": 17,
   "metadata": {
    "id": "GPUyHlR3xKkz"
   },
   "outputs": [],
   "source": [
    "train['has_children'] = (train['children'] != 0) * 1"
   ]
  },
  {
   "cell_type": "code",
   "execution_count": 18,
   "metadata": {
    "colab": {
     "base_uri": "https://localhost:8080/",
     "height": 141
    },
    "id": "TD0qw4BHyCr6",
    "outputId": "2f57f055-27ec-482c-b8b9-12d4d8f4e744"
   },
   "outputs": [
    {
     "data": {
      "text/html": [
       "<div>\n",
       "<style scoped>\n",
       "    .dataframe tbody tr th:only-of-type {\n",
       "        vertical-align: middle;\n",
       "    }\n",
       "\n",
       "    .dataframe tbody tr th {\n",
       "        vertical-align: top;\n",
       "    }\n",
       "\n",
       "    .dataframe thead th {\n",
       "        text-align: right;\n",
       "    }\n",
       "</style>\n",
       "<table border=\"1\" class=\"dataframe\">\n",
       "  <thead>\n",
       "    <tr style=\"text-align: right;\">\n",
       "      <th></th>\n",
       "      <th>count</th>\n",
       "      <th>mean</th>\n",
       "    </tr>\n",
       "    <tr>\n",
       "      <th>has_children</th>\n",
       "      <th></th>\n",
       "      <th></th>\n",
       "    </tr>\n",
       "  </thead>\n",
       "  <tbody>\n",
       "    <tr>\n",
       "      <th>0</th>\n",
       "      <td>10157</td>\n",
       "      <td>0.075022</td>\n",
       "    </tr>\n",
       "    <tr>\n",
       "      <th>1</th>\n",
       "      <td>5324</td>\n",
       "      <td>0.094853</td>\n",
       "    </tr>\n",
       "  </tbody>\n",
       "</table>\n",
       "</div>"
      ],
      "text/plain": [
       "              count      mean\n",
       "has_children                 \n",
       "0             10157  0.075022\n",
       "1              5324  0.094853"
      ]
     },
     "execution_count": 18,
     "metadata": {
      "tags": []
     },
     "output_type": "execute_result"
    }
   ],
   "source": [
    "train.groupby('has_children').agg(count = ('debt', 'count'), mean = ('debt' , 'mean'))"
   ]
  },
  {
   "cell_type": "code",
   "execution_count": 19,
   "metadata": {
    "id": "eNe0MnzTyFqM"
   },
   "outputs": [],
   "source": [
    "train['education'] = train['education'].str.lower()\n",
    "test['education'] = test['education'].str.lower()"
   ]
  },
  {
   "cell_type": "code",
   "execution_count": 20,
   "metadata": {
    "colab": {
     "base_uri": "https://localhost:8080/",
     "height": 233
    },
    "id": "NeaP2U6cyMgU",
    "outputId": "85f09034-c449-4f04-e7a8-db584048daa6"
   },
   "outputs": [
    {
     "data": {
      "text/html": [
       "<div>\n",
       "<style scoped>\n",
       "    .dataframe tbody tr th:only-of-type {\n",
       "        vertical-align: middle;\n",
       "    }\n",
       "\n",
       "    .dataframe tbody tr th {\n",
       "        vertical-align: top;\n",
       "    }\n",
       "\n",
       "    .dataframe thead th {\n",
       "        text-align: right;\n",
       "    }\n",
       "</style>\n",
       "<table border=\"1\" class=\"dataframe\">\n",
       "  <thead>\n",
       "    <tr style=\"text-align: right;\">\n",
       "      <th></th>\n",
       "      <th>count</th>\n",
       "      <th>mean</th>\n",
       "    </tr>\n",
       "    <tr>\n",
       "      <th>education</th>\n",
       "      <th></th>\n",
       "      <th></th>\n",
       "    </tr>\n",
       "  </thead>\n",
       "  <tbody>\n",
       "    <tr>\n",
       "      <th>высшее</th>\n",
       "      <td>3790</td>\n",
       "      <td>0.054354</td>\n",
       "    </tr>\n",
       "    <tr>\n",
       "      <th>начальное</th>\n",
       "      <td>200</td>\n",
       "      <td>0.110000</td>\n",
       "    </tr>\n",
       "    <tr>\n",
       "      <th>неоконченное высшее</th>\n",
       "      <td>542</td>\n",
       "      <td>0.099631</td>\n",
       "    </tr>\n",
       "    <tr>\n",
       "      <th>среднее</th>\n",
       "      <td>10943</td>\n",
       "      <td>0.090012</td>\n",
       "    </tr>\n",
       "    <tr>\n",
       "      <th>ученая степень</th>\n",
       "      <td>6</td>\n",
       "      <td>0.000000</td>\n",
       "    </tr>\n",
       "  </tbody>\n",
       "</table>\n",
       "</div>"
      ],
      "text/plain": [
       "                     count      mean\n",
       "education                           \n",
       "высшее                3790  0.054354\n",
       "начальное              200  0.110000\n",
       "неоконченное высшее    542  0.099631\n",
       "среднее              10943  0.090012\n",
       "ученая степень           6  0.000000"
      ]
     },
     "execution_count": 20,
     "metadata": {
      "tags": []
     },
     "output_type": "execute_result"
    }
   ],
   "source": [
    "train.groupby('education').agg(count = ('debt', 'count'), mean = ('debt' , 'mean'))"
   ]
  },
  {
   "cell_type": "code",
   "execution_count": 21,
   "metadata": {
    "id": "3-mpUrHwyPUw"
   },
   "outputs": [],
   "source": [
    "train['no_college'] = (~train['education'].isin(['высшее','ученая степень'])) * 1"
   ]
  },
  {
   "cell_type": "code",
   "execution_count": 22,
   "metadata": {
    "colab": {
     "base_uri": "https://localhost:8080/",
     "height": 141
    },
    "id": "4xY5iW-dyulK",
    "outputId": "d7ab198d-01ca-4024-d40f-f39bcc3a08ec"
   },
   "outputs": [
    {
     "data": {
      "text/html": [
       "<div>\n",
       "<style scoped>\n",
       "    .dataframe tbody tr th:only-of-type {\n",
       "        vertical-align: middle;\n",
       "    }\n",
       "\n",
       "    .dataframe tbody tr th {\n",
       "        vertical-align: top;\n",
       "    }\n",
       "\n",
       "    .dataframe thead th {\n",
       "        text-align: right;\n",
       "    }\n",
       "</style>\n",
       "<table border=\"1\" class=\"dataframe\">\n",
       "  <thead>\n",
       "    <tr style=\"text-align: right;\">\n",
       "      <th></th>\n",
       "      <th>count</th>\n",
       "      <th>mean</th>\n",
       "    </tr>\n",
       "    <tr>\n",
       "      <th>no_college</th>\n",
       "      <th></th>\n",
       "      <th></th>\n",
       "    </tr>\n",
       "  </thead>\n",
       "  <tbody>\n",
       "    <tr>\n",
       "      <th>0</th>\n",
       "      <td>3796</td>\n",
       "      <td>0.054268</td>\n",
       "    </tr>\n",
       "    <tr>\n",
       "      <th>1</th>\n",
       "      <td>11685</td>\n",
       "      <td>0.090800</td>\n",
       "    </tr>\n",
       "  </tbody>\n",
       "</table>\n",
       "</div>"
      ],
      "text/plain": [
       "            count      mean\n",
       "no_college                 \n",
       "0            3796  0.054268\n",
       "1           11685  0.090800"
      ]
     },
     "execution_count": 22,
     "metadata": {
      "tags": []
     },
     "output_type": "execute_result"
    }
   ],
   "source": [
    "train.groupby('no_college').agg(count = ('debt', 'count'), mean = ('debt' , 'mean'))"
   ]
  },
  {
   "cell_type": "code",
   "execution_count": 23,
   "metadata": {
    "colab": {
     "base_uri": "https://localhost:8080/",
     "height": 305
    },
    "id": "rmHrPd3_yxvd",
    "outputId": "8093bbe3-ab50-43e9-df6d-648814ddba0f"
   },
   "outputs": [
    {
     "data": {
      "text/plain": [
       "<matplotlib.axes._subplots.AxesSubplot at 0x7f4769939e10>"
      ]
     },
     "execution_count": 23,
     "metadata": {
      "tags": []
     },
     "output_type": "execute_result"
    },
    {
     "data": {
      "image/png": "[encoded data removed]",
      "text/plain": [
       "<Figure size 432x288 with 1 Axes>"
      ]
     },
     "metadata": {
      "tags": []
     },
     "output_type": "display_data"
    }
   ],
   "source": [
    "train.groupby('dob_years')['debt'].mean().plot()"
   ]
  },
  {
   "cell_type": "code",
   "execution_count": 24,
   "metadata": {
    "colab": {
     "base_uri": "https://localhost:8080/",
     "height": 289
    },
    "id": "89AjsXCrzJJ_",
    "outputId": "c9c5c745-197b-4af5-bdf9-e8380559412f"
   },
   "outputs": [
    {
     "data": {
      "text/plain": [
       "<matplotlib.axes._subplots.AxesSubplot at 0x7f476ae2ba58>"
      ]
     },
     "execution_count": 24,
     "metadata": {
      "tags": []
     },
     "output_type": "execute_result"
    },
    {
     "data": {
      "image/png": "[encoded data removed]",
      "text/plain": [
       "<Figure size 432x288 with 1 Axes>"
      ]
     },
     "metadata": {
      "tags": []
     },
     "output_type": "display_data"
    }
   ],
   "source": [
    "train['dob_years'].hist()"
   ]
  },
  {
   "cell_type": "code",
   "execution_count": 25,
   "metadata": {
    "id": "LpRwlhDuz66O"
   },
   "outputs": [],
   "source": [
    "train['dob_years_norm'] = 1 - train['dob_years'] / train['dob_years'].max()"
   ]
  },
  {
   "cell_type": "code",
   "execution_count": 26,
   "metadata": {
    "id": "4QpxG6rk0a5k"
   },
   "outputs": [],
   "source": [
    "train['score'] = train['has_children'] + train['no_college'] + train['dob_years_norm']"
   ]
  },
  {
   "cell_type": "code",
   "execution_count": 27,
   "metadata": {
    "colab": {
     "base_uri": "https://localhost:8080/",
     "height": 285
    },
    "id": "1hPdiawT0yzB",
    "outputId": "419e7acf-77cb-4f25-cfa4-2c3d7059d06d"
   },
   "outputs": [
    {
     "data": {
      "text/plain": [
       "<matplotlib.axes._subplots.AxesSubplot at 0x7f47693dc1d0>"
      ]
     },
     "execution_count": 27,
     "metadata": {
      "tags": []
     },
     "output_type": "execute_result"
    },
    {
     "data": {
      "image/png": "[encoded data removed]",
      "text/plain": [
       "<Figure size 432x288 with 1 Axes>"
      ]
     },
     "metadata": {
      "tags": []
     },
     "output_type": "display_data"
    }
   ],
   "source": [
    "train['score'].hist()"
   ]
  },
  {
   "cell_type": "code",
   "execution_count": 28,
   "metadata": {
    "colab": {
     "base_uri": "https://localhost:8080/",
     "height": 303
    },
    "id": "0OlgwY4S08Kh",
    "outputId": "290abf42-1845-4086-e1aa-760db996b5c1"
   },
   "outputs": [
    {
     "data": {
      "text/plain": [
       "<matplotlib.axes._subplots.AxesSubplot at 0x7f4769350cc0>"
      ]
     },
     "execution_count": 28,
     "metadata": {
      "tags": []
     },
     "output_type": "execute_result"
    },
    {
     "data": {
      "image/png": "[encoded data removed]",
      "text/plain": [
       "<Figure size 432x288 with 1 Axes>"
      ]
     },
     "metadata": {
      "tags": []
     },
     "output_type": "display_data"
    }
   ],
   "source": [
    "train.groupby('score')['debt'].mean().plot()"
   ]
  },
  {
   "cell_type": "code",
   "execution_count": 29,
   "metadata": {
    "id": "QzFbDaXk1jhe"
   },
   "outputs": [],
   "source": [
    "train['score_round'] = train['score'].round()"
   ]
  },
  {
   "cell_type": "code",
   "execution_count": 30,
   "metadata": {
    "colab": {
     "base_uri": "https://localhost:8080/",
     "height": 202
    },
    "id": "kVZhi4Z-3Sxy",
    "outputId": "4e17950b-51a7-4811-fff1-4df320ef9869"
   },
   "outputs": [
    {
     "data": {
      "text/html": [
       "<div>\n",
       "<style scoped>\n",
       "    .dataframe tbody tr th:only-of-type {\n",
       "        vertical-align: middle;\n",
       "    }\n",
       "\n",
       "    .dataframe tbody tr th {\n",
       "        vertical-align: top;\n",
       "    }\n",
       "\n",
       "    .dataframe thead th {\n",
       "        text-align: right;\n",
       "    }\n",
       "</style>\n",
       "<table border=\"1\" class=\"dataframe\">\n",
       "  <thead>\n",
       "    <tr style=\"text-align: right;\">\n",
       "      <th></th>\n",
       "      <th>count</th>\n",
       "      <th>mean</th>\n",
       "    </tr>\n",
       "    <tr>\n",
       "      <th>score_round</th>\n",
       "      <th></th>\n",
       "      <th></th>\n",
       "    </tr>\n",
       "  </thead>\n",
       "  <tbody>\n",
       "    <tr>\n",
       "      <th>0.0</th>\n",
       "      <td>1516</td>\n",
       "      <td>0.043536</td>\n",
       "    </tr>\n",
       "    <tr>\n",
       "      <th>1.0</th>\n",
       "      <td>7367</td>\n",
       "      <td>0.067599</td>\n",
       "    </tr>\n",
       "    <tr>\n",
       "      <th>2.0</th>\n",
       "      <td>4770</td>\n",
       "      <td>0.097484</td>\n",
       "    </tr>\n",
       "    <tr>\n",
       "      <th>3.0</th>\n",
       "      <td>1828</td>\n",
       "      <td>0.130197</td>\n",
       "    </tr>\n",
       "  </tbody>\n",
       "</table>\n",
       "</div>"
      ],
      "text/plain": [
       "             count      mean\n",
       "score_round                 \n",
       "0.0           1516  0.043536\n",
       "1.0           7367  0.067599\n",
       "2.0           4770  0.097484\n",
       "3.0           1828  0.130197"
      ]
     },
     "execution_count": 30,
     "metadata": {
      "tags": []
     },
     "output_type": "execute_result"
    }
   ],
   "source": [
    "train.groupby('score_round').agg(count = ('debt', 'count'), mean = ('debt', 'mean'))"
   ]
  },
  {
   "cell_type": "code",
   "execution_count": 31,
   "metadata": {
    "id": "5ngWKFV31LK9"
   },
   "outputs": [],
   "source": [
    "train['score_norm'] = train['score'] / train['score'].max()"
   ]
  },
  {
   "cell_type": "code",
   "execution_count": 32,
   "metadata": {
    "colab": {
     "base_uri": "https://localhost:8080/",
     "height": 446
    },
    "id": "uXqZAhig1692",
    "outputId": "cf54a2f2-05ef-40d4-b6fa-a2cf469f21af"
   },
   "outputs": [
    {
     "data": {
      "text/html": [
       "<div>\n",
       "<style scoped>\n",
       "    .dataframe tbody tr th:only-of-type {\n",
       "        vertical-align: middle;\n",
       "    }\n",
       "\n",
       "    .dataframe tbody tr th {\n",
       "        vertical-align: top;\n",
       "    }\n",
       "\n",
       "    .dataframe thead th {\n",
       "        text-align: right;\n",
       "    }\n",
       "</style>\n",
       "<table border=\"1\" class=\"dataframe\">\n",
       "  <thead>\n",
       "    <tr style=\"text-align: right;\">\n",
       "      <th></th>\n",
       "      <th>count</th>\n",
       "      <th>mean</th>\n",
       "    </tr>\n",
       "    <tr>\n",
       "      <th>score_norm</th>\n",
       "      <th></th>\n",
       "      <th></th>\n",
       "    </tr>\n",
       "  </thead>\n",
       "  <tbody>\n",
       "    <tr>\n",
       "      <th>0.000000</th>\n",
       "      <td>1</td>\n",
       "      <td>0.000000</td>\n",
       "    </tr>\n",
       "    <tr>\n",
       "      <th>0.009009</th>\n",
       "      <td>6</td>\n",
       "      <td>0.000000</td>\n",
       "    </tr>\n",
       "    <tr>\n",
       "      <th>0.013514</th>\n",
       "      <td>6</td>\n",
       "      <td>0.000000</td>\n",
       "    </tr>\n",
       "    <tr>\n",
       "      <th>0.018018</th>\n",
       "      <td>8</td>\n",
       "      <td>0.125000</td>\n",
       "    </tr>\n",
       "    <tr>\n",
       "      <th>0.022523</th>\n",
       "      <td>11</td>\n",
       "      <td>0.181818</td>\n",
       "    </tr>\n",
       "    <tr>\n",
       "      <th>...</th>\n",
       "      <td>...</td>\n",
       "      <td>...</td>\n",
       "    </tr>\n",
       "    <tr>\n",
       "      <th>0.896396</th>\n",
       "      <td>37</td>\n",
       "      <td>0.081081</td>\n",
       "    </tr>\n",
       "    <tr>\n",
       "      <th>0.900901</th>\n",
       "      <td>18</td>\n",
       "      <td>0.222222</td>\n",
       "    </tr>\n",
       "    <tr>\n",
       "      <th>0.905405</th>\n",
       "      <td>11</td>\n",
       "      <td>0.090909</td>\n",
       "    </tr>\n",
       "    <tr>\n",
       "      <th>0.909910</th>\n",
       "      <td>5</td>\n",
       "      <td>0.000000</td>\n",
       "    </tr>\n",
       "    <tr>\n",
       "      <th>1.000000</th>\n",
       "      <td>12</td>\n",
       "      <td>0.083333</td>\n",
       "    </tr>\n",
       "  </tbody>\n",
       "</table>\n",
       "<p>165 rows × 2 columns</p>\n",
       "</div>"
      ],
      "text/plain": [
       "            count      mean\n",
       "score_norm                 \n",
       "0.000000        1  0.000000\n",
       "0.009009        6  0.000000\n",
       "0.013514        6  0.000000\n",
       "0.018018        8  0.125000\n",
       "0.022523       11  0.181818\n",
       "...           ...       ...\n",
       "0.896396       37  0.081081\n",
       "0.900901       18  0.222222\n",
       "0.905405       11  0.090909\n",
       "0.909910        5  0.000000\n",
       "1.000000       12  0.083333\n",
       "\n",
       "[165 rows x 2 columns]"
      ]
     },
     "execution_count": 32,
     "metadata": {
      "tags": []
     },
     "output_type": "execute_result"
    }
   ],
   "source": [
    "train.groupby('score_norm').agg(count = ('debt', 'count'), mean = ('debt', 'mean'))"
   ]
  },
  {
   "cell_type": "code",
   "execution_count": 33,
   "metadata": {
    "colab": {
     "base_uri": "https://localhost:8080/",
     "height": 280
    },
    "id": "OmKP49i_3gfE",
    "outputId": "b19f1be8-84ba-4def-a3c5-e93fcfacb1ee"
   },
   "outputs": [
    {
     "name": "stdout",
     "output_type": "stream",
     "text": [
      "Collecting scikit-plot\n",
      "  Downloading https://files.pythonhosted.org/packages/7c/47/32520e259340c140a4ad27c1b97050dd3254fdc517b1d59974d47037510e/scikit_plot-0.3.7-py3-none-any.whl\n",
      "Requirement already satisfied: matplotlib>=1.4.0 in /usr/local/lib/python3.6/dist-packages (from scikit-plot) (3.2.2)\n",
      "Requirement already satisfied: scipy>=0.9 in /usr/local/lib/python3.6/dist-packages (from scikit-plot) (1.4.1)\n",
      "Requirement already satisfied: joblib>=0.10 in /usr/local/lib/python3.6/dist-packages (from scikit-plot) (0.16.0)\n",
      "Requirement already satisfied: scikit-learn>=0.18 in /usr/local/lib/python3.6/dist-packages (from scikit-plot) (0.22.2.post1)\n",
      "Requirement already satisfied: cycler>=0.10 in /usr/local/lib/python3.6/dist-packages (from matplotlib>=1.4.0->scikit-plot) (0.10.0)\n",
      "Requirement already satisfied: kiwisolver>=1.0.1 in /usr/local/lib/python3.6/dist-packages (from matplotlib>=1.4.0->scikit-plot) (1.2.0)\n",
      "Requirement already satisfied: python-dateutil>=2.1 in /usr/local/lib/python3.6/dist-packages (from matplotlib>=1.4.0->scikit-plot) (2.8.1)\n",
      "Requirement already satisfied: pyparsing!=2.0.4,!=2.1.2,!=2.1.6,>=2.0.1 in /usr/local/lib/python3.6/dist-packages (from matplotlib>=1.4.0->scikit-plot) (2.4.7)\n",
      "Requirement already satisfied: numpy>=1.11 in /usr/local/lib/python3.6/dist-packages (from matplotlib>=1.4.0->scikit-plot) (1.18.5)\n",
      "Requirement already satisfied: six in /usr/local/lib/python3.6/dist-packages (from cycler>=0.10->matplotlib>=1.4.0->scikit-plot) (1.15.0)\n",
      "Installing collected packages: scikit-plot\n",
      "Successfully installed scikit-plot-0.3.7\n"
     ]
    }
   ],
   "source": [
    "!pip install scikit-plot"
   ]
  },
  {
   "cell_type": "code",
   "execution_count": 34,
   "metadata": {
    "id": "CKMj8yWp3ovn"
   },
   "outputs": [],
   "source": [
    "from scikitplot.helpers import cumulative_gain_curve"
   ]
  },
  {
   "cell_type": "code",
   "execution_count": 35,
   "metadata": {
    "id": "0-aaI-C13xXB"
   },
   "outputs": [],
   "source": [
    "t = pd.DataFrame(cumulative_gain_curve(train['debt'], train['score_norm'])).T"
   ]
  },
  {
   "cell_type": "code",
   "execution_count": 36,
   "metadata": {
    "colab": {
     "base_uri": "https://localhost:8080/",
     "height": 415
    },
    "id": "GU2A4kTY31As",
    "outputId": "627aed01-eb9d-49ec-8d18-44c302dd2107"
   },
   "outputs": [
    {
     "data": {
      "text/html": [
       "<div>\n",
       "<style scoped>\n",
       "    .dataframe tbody tr th:only-of-type {\n",
       "        vertical-align: middle;\n",
       "    }\n",
       "\n",
       "    .dataframe tbody tr th {\n",
       "        vertical-align: top;\n",
       "    }\n",
       "\n",
       "    .dataframe thead th {\n",
       "        text-align: right;\n",
       "    }\n",
       "</style>\n",
       "<table border=\"1\" class=\"dataframe\">\n",
       "  <thead>\n",
       "    <tr style=\"text-align: right;\">\n",
       "      <th></th>\n",
       "      <th>0</th>\n",
       "      <th>1</th>\n",
       "    </tr>\n",
       "  </thead>\n",
       "  <tbody>\n",
       "    <tr>\n",
       "      <th>0</th>\n",
       "      <td>0.000000</td>\n",
       "      <td>0.0</td>\n",
       "    </tr>\n",
       "    <tr>\n",
       "      <th>1</th>\n",
       "      <td>0.000065</td>\n",
       "      <td>0.0</td>\n",
       "    </tr>\n",
       "    <tr>\n",
       "      <th>2</th>\n",
       "      <td>0.000129</td>\n",
       "      <td>0.0</td>\n",
       "    </tr>\n",
       "    <tr>\n",
       "      <th>3</th>\n",
       "      <td>0.000194</td>\n",
       "      <td>0.0</td>\n",
       "    </tr>\n",
       "    <tr>\n",
       "      <th>4</th>\n",
       "      <td>0.000258</td>\n",
       "      <td>0.0</td>\n",
       "    </tr>\n",
       "    <tr>\n",
       "      <th>...</th>\n",
       "      <td>...</td>\n",
       "      <td>...</td>\n",
       "    </tr>\n",
       "    <tr>\n",
       "      <th>15477</th>\n",
       "      <td>0.999742</td>\n",
       "      <td>1.0</td>\n",
       "    </tr>\n",
       "    <tr>\n",
       "      <th>15478</th>\n",
       "      <td>0.999806</td>\n",
       "      <td>1.0</td>\n",
       "    </tr>\n",
       "    <tr>\n",
       "      <th>15479</th>\n",
       "      <td>0.999871</td>\n",
       "      <td>1.0</td>\n",
       "    </tr>\n",
       "    <tr>\n",
       "      <th>15480</th>\n",
       "      <td>0.999935</td>\n",
       "      <td>1.0</td>\n",
       "    </tr>\n",
       "    <tr>\n",
       "      <th>15481</th>\n",
       "      <td>1.000000</td>\n",
       "      <td>1.0</td>\n",
       "    </tr>\n",
       "  </tbody>\n",
       "</table>\n",
       "<p>15482 rows × 2 columns</p>\n",
       "</div>"
      ],
      "text/plain": [
       "              0    1\n",
       "0      0.000000  0.0\n",
       "1      0.000065  0.0\n",
       "2      0.000129  0.0\n",
       "3      0.000194  0.0\n",
       "4      0.000258  0.0\n",
       "...         ...  ...\n",
       "15477  0.999742  1.0\n",
       "15478  0.999806  1.0\n",
       "15479  0.999871  1.0\n",
       "15480  0.999935  1.0\n",
       "15481  1.000000  1.0\n",
       "\n",
       "[15482 rows x 2 columns]"
      ]
     },
     "execution_count": 36,
     "metadata": {
      "tags": []
     },
     "output_type": "execute_result"
    }
   ],
   "source": [
    "t"
   ]
  },
  {
   "cell_type": "code",
   "execution_count": 37,
   "metadata": {
    "id": "nc7010vf4aP7"
   },
   "outputs": [],
   "source": [
    "t['random'] = t[0]"
   ]
  },
  {
   "cell_type": "code",
   "execution_count": 38,
   "metadata": {
    "colab": {
     "base_uri": "https://localhost:8080/",
     "height": 361
    },
    "id": "fnGZ0MAX4thu",
    "outputId": "5fc3e9fe-767e-42a9-d7f9-4dbf4a79d43c"
   },
   "outputs": [
    {
     "data": {
      "text/plain": [
       "<matplotlib.axes._subplots.AxesSubplot at 0x7f47656864a8>"
      ]
     },
     "execution_count": 38,
     "metadata": {
      "tags": []
     },
     "output_type": "execute_result"
    },
    {
     "data": {
      "image/png": "[encoded data removed]",
      "text/plain": [
       "<Figure size 720x360 with 1 Axes>"
      ]
     },
     "metadata": {
      "tags": []
     },
     "output_type": "display_data"
    }
   ],
   "source": [
    "t.plot(x=0, y=[1,'random'],figsize=(10,5),grid=True,xlim=(0,1),ylim=(0,1))"
   ]
  },
  {
   "cell_type": "code",
   "execution_count": 39,
   "metadata": {
    "id": "hum_HNER44tk"
   },
   "outputs": [],
   "source": [
    "from sklearn.metrics import auc\n",
    "from sklearn.metrics import roc_auc_score"
   ]
  },
  {
   "cell_type": "code",
   "execution_count": 40,
   "metadata": {
    "id": "2fif5z8n5UR3"
   },
   "outputs": [],
   "source": [
    "auc_train_manual = auc(t[0],t[1])"
   ]
  },
  {
   "cell_type": "code",
   "execution_count": 41,
   "metadata": {
    "colab": {
     "base_uri": "https://localhost:8080/",
     "height": 35
    },
    "id": "bI6KNt0L5Wf-",
    "outputId": "975af299-97d9-48fa-f262-4411f81ede70"
   },
   "outputs": [
    {
     "data": {
      "text/plain": [
       "0.5861506685869539"
      ]
     },
     "execution_count": 41,
     "metadata": {
      "tags": []
     },
     "output_type": "execute_result"
    }
   ],
   "source": [
    "auc_train_manual"
   ]
  },
  {
   "cell_type": "code",
   "execution_count": 42,
   "metadata": {
    "colab": {
     "base_uri": "https://localhost:8080/",
     "height": 35
    },
    "id": "iSbFpc_d5gXR",
    "outputId": "4d7fee8e-7be9-471b-b4d6-53822bd14d75"
   },
   "outputs": [
    {
     "data": {
      "text/plain": [
       "0.5938913900265521"
      ]
     },
     "execution_count": 42,
     "metadata": {
      "tags": []
     },
     "output_type": "execute_result"
    }
   ],
   "source": [
    "roc_auc_score(train['debt'], train['score_norm'])"
   ]
  },
  {
   "cell_type": "code",
   "execution_count": 43,
   "metadata": {
    "id": "PXeV-Jqd56Kk"
   },
   "outputs": [],
   "source": [
    "test['has_children'] = (test['children'] != 0) * 1\n",
    "test['no_colledge'] = (~test['education'].isin(['высшее','ученая степень'])) * 1\n",
    "test['dob_years_norm'] = 1 - test['dob_years'] / test['dob_years'].max()\n",
    "test['score'] = test[['has_children','no_colledge','dob_years_norm']].sum(axis=1)\n",
    "test['score_norm'] = test['score'] / test['score'].max()"
   ]
  },
  {
   "cell_type": "code",
   "execution_count": 44,
   "metadata": {
    "id": "nUj7SleQ7dlG"
   },
   "outputs": [],
   "source": [
    "tt = pd.DataFrame(cumulative_gain_curve(test['debt'],test['score_norm'])).T"
   ]
  },
  {
   "cell_type": "code",
   "execution_count": 45,
   "metadata": {
    "colab": {
     "base_uri": "https://localhost:8080/",
     "height": 415
    },
    "id": "wd8brX0d7h8q",
    "outputId": "8c3a33f5-816c-41ce-8b40-56ca8f75f441"
   },
   "outputs": [
    {
     "data": {
      "text/html": [
       "<div>\n",
       "<style scoped>\n",
       "    .dataframe tbody tr th:only-of-type {\n",
       "        vertical-align: middle;\n",
       "    }\n",
       "\n",
       "    .dataframe tbody tr th {\n",
       "        vertical-align: top;\n",
       "    }\n",
       "\n",
       "    .dataframe thead th {\n",
       "        text-align: right;\n",
       "    }\n",
       "</style>\n",
       "<table border=\"1\" class=\"dataframe\">\n",
       "  <thead>\n",
       "    <tr style=\"text-align: right;\">\n",
       "      <th></th>\n",
       "      <th>0</th>\n",
       "      <th>1</th>\n",
       "    </tr>\n",
       "  </thead>\n",
       "  <tbody>\n",
       "    <tr>\n",
       "      <th>0</th>\n",
       "      <td>0.000000</td>\n",
       "      <td>0.000000</td>\n",
       "    </tr>\n",
       "    <tr>\n",
       "      <th>1</th>\n",
       "      <td>0.000258</td>\n",
       "      <td>0.003289</td>\n",
       "    </tr>\n",
       "    <tr>\n",
       "      <th>2</th>\n",
       "      <td>0.000517</td>\n",
       "      <td>0.003289</td>\n",
       "    </tr>\n",
       "    <tr>\n",
       "      <th>3</th>\n",
       "      <td>0.000775</td>\n",
       "      <td>0.006579</td>\n",
       "    </tr>\n",
       "    <tr>\n",
       "      <th>4</th>\n",
       "      <td>0.001034</td>\n",
       "      <td>0.006579</td>\n",
       "    </tr>\n",
       "    <tr>\n",
       "      <th>...</th>\n",
       "      <td>...</td>\n",
       "      <td>...</td>\n",
       "    </tr>\n",
       "    <tr>\n",
       "      <th>3866</th>\n",
       "      <td>0.998966</td>\n",
       "      <td>1.000000</td>\n",
       "    </tr>\n",
       "    <tr>\n",
       "      <th>3867</th>\n",
       "      <td>0.999225</td>\n",
       "      <td>1.000000</td>\n",
       "    </tr>\n",
       "    <tr>\n",
       "      <th>3868</th>\n",
       "      <td>0.999483</td>\n",
       "      <td>1.000000</td>\n",
       "    </tr>\n",
       "    <tr>\n",
       "      <th>3869</th>\n",
       "      <td>0.999742</td>\n",
       "      <td>1.000000</td>\n",
       "    </tr>\n",
       "    <tr>\n",
       "      <th>3870</th>\n",
       "      <td>1.000000</td>\n",
       "      <td>1.000000</td>\n",
       "    </tr>\n",
       "  </tbody>\n",
       "</table>\n",
       "<p>3871 rows × 2 columns</p>\n",
       "</div>"
      ],
      "text/plain": [
       "             0         1\n",
       "0     0.000000  0.000000\n",
       "1     0.000258  0.003289\n",
       "2     0.000517  0.003289\n",
       "3     0.000775  0.006579\n",
       "4     0.001034  0.006579\n",
       "...        ...       ...\n",
       "3866  0.998966  1.000000\n",
       "3867  0.999225  1.000000\n",
       "3868  0.999483  1.000000\n",
       "3869  0.999742  1.000000\n",
       "3870  1.000000  1.000000\n",
       "\n",
       "[3871 rows x 2 columns]"
      ]
     },
     "execution_count": 45,
     "metadata": {
      "tags": []
     },
     "output_type": "execute_result"
    }
   ],
   "source": [
    "tt"
   ]
  },
  {
   "cell_type": "code",
   "execution_count": 46,
   "metadata": {
    "id": "UEaFjxh37ijT"
   },
   "outputs": [],
   "source": [
    "tt['random'] = tt[0]"
   ]
  },
  {
   "cell_type": "code",
   "execution_count": 47,
   "metadata": {
    "colab": {
     "base_uri": "https://localhost:8080/",
     "height": 361
    },
    "id": "tUyRtODE7mOk",
    "outputId": "f08fa555-368a-4be6-b4ca-cdd2ae0e1834"
   },
   "outputs": [
    {
     "data": {
      "text/plain": [
       "<matplotlib.axes._subplots.AxesSubplot at 0x7f4764e86400>"
      ]
     },
     "execution_count": 47,
     "metadata": {
      "tags": []
     },
     "output_type": "execute_result"
    },
    {
     "data": {
      "image/png": "[encoded data removed]",
      "text/plain": [
       "<Figure size 720x360 with 1 Axes>"
      ]
     },
     "metadata": {
      "tags": []
     },
     "output_type": "display_data"
    }
   ],
   "source": [
    "tt.plot(x=0, y=[1,'random'],figsize=(10,5),grid=True,xlim=(0,1),ylim=(0,1))"
   ]
  },
  {
   "cell_type": "code",
   "execution_count": 48,
   "metadata": {
    "id": "8SIkDJIP7sTl"
   },
   "outputs": [],
   "source": [
    "auc_test_manual = auc(tt[0],tt[1])"
   ]
  },
  {
   "cell_type": "code",
   "execution_count": 49,
   "metadata": {
    "colab": {
     "base_uri": "https://localhost:8080/",
     "height": 35
    },
    "id": "csGB32oF7x9C",
    "outputId": "c24015ce-ff76-424d-9e23-bd9958c0a064"
   },
   "outputs": [
    {
     "data": {
      "text/plain": [
       "0.5696008431932544"
      ]
     },
     "execution_count": 49,
     "metadata": {
      "tags": []
     },
     "output_type": "execute_result"
    }
   ],
   "source": [
    "auc_test_manual"
   ]
  },
  {
   "cell_type": "code",
   "execution_count": 50,
   "metadata": {
    "colab": {
     "base_uri": "https://localhost:8080/",
     "height": 35
    },
    "id": "dZ-mJOuO7yzu",
    "outputId": "f3685006-df77-4f7e-f9b3-bf55ac728a28"
   },
   "outputs": [
    {
     "data": {
      "text/plain": [
       "0.5754032972223042"
      ]
     },
     "execution_count": 50,
     "metadata": {
      "tags": []
     },
     "output_type": "execute_result"
    }
   ],
   "source": [
    "roc_auc_score(test['debt'], test['score_norm'])"
   ]
  },
  {
   "cell_type": "markdown",
   "metadata": {
    "id": "SliLR4Ta76pH"
   },
   "source": [
    "### 2. ЛОГИСТИЧЕСКАЯ РЕГРЕССИЯ <a id='2'></a>"
   ]
  },
  {
   "cell_type": "code",
   "execution_count": 51,
   "metadata": {
    "id": "F4o4xgxH8kKE"
   },
   "outputs": [],
   "source": [
    "from sklearn.linear_model import LogisticRegression"
   ]
  },
  {
   "cell_type": "code",
   "execution_count": 52,
   "metadata": {
    "id": "fb1O60bY9B94"
   },
   "outputs": [],
   "source": [
    "Lr = LogisticRegression()"
   ]
  },
  {
   "cell_type": "code",
   "execution_count": 53,
   "metadata": {
    "colab": {
     "base_uri": "https://localhost:8080/",
     "height": 165
    },
    "id": "LgdWvSWR9pCK",
    "outputId": "5625c1a8-4a31-4130-ae43-3c50c37a956a"
   },
   "outputs": [
    {
     "data": {
      "text/html": [
       "<div>\n",
       "<style scoped>\n",
       "    .dataframe tbody tr th:only-of-type {\n",
       "        vertical-align: middle;\n",
       "    }\n",
       "\n",
       "    .dataframe tbody tr th {\n",
       "        vertical-align: top;\n",
       "    }\n",
       "\n",
       "    .dataframe thead th {\n",
       "        text-align: right;\n",
       "    }\n",
       "</style>\n",
       "<table border=\"1\" class=\"dataframe\">\n",
       "  <thead>\n",
       "    <tr style=\"text-align: right;\">\n",
       "      <th></th>\n",
       "      <th>children</th>\n",
       "      <th>days_employed</th>\n",
       "      <th>dob_years</th>\n",
       "      <th>education</th>\n",
       "      <th>education_id</th>\n",
       "      <th>family_status</th>\n",
       "      <th>family_status_id</th>\n",
       "      <th>gender</th>\n",
       "      <th>income_type</th>\n",
       "      <th>debt</th>\n",
       "      <th>total_income</th>\n",
       "      <th>purpose</th>\n",
       "      <th>has_children</th>\n",
       "      <th>no_college</th>\n",
       "      <th>dob_years_norm</th>\n",
       "      <th>score</th>\n",
       "      <th>score_round</th>\n",
       "      <th>score_norm</th>\n",
       "    </tr>\n",
       "  </thead>\n",
       "  <tbody>\n",
       "    <tr>\n",
       "      <th>1</th>\n",
       "      <td>1</td>\n",
       "      <td>-4024.803754</td>\n",
       "      <td>36</td>\n",
       "      <td>среднее</td>\n",
       "      <td>1</td>\n",
       "      <td>женат / замужем</td>\n",
       "      <td>0</td>\n",
       "      <td>F</td>\n",
       "      <td>сотрудник</td>\n",
       "      <td>0</td>\n",
       "      <td>112080.014102</td>\n",
       "      <td>приобретение автомобиля</td>\n",
       "      <td>1</td>\n",
       "      <td>1</td>\n",
       "      <td>0.513514</td>\n",
       "      <td>2.513514</td>\n",
       "      <td>3.0</td>\n",
       "      <td>0.837838</td>\n",
       "    </tr>\n",
       "    <tr>\n",
       "      <th>2</th>\n",
       "      <td>0</td>\n",
       "      <td>-5623.422610</td>\n",
       "      <td>33</td>\n",
       "      <td>среднее</td>\n",
       "      <td>1</td>\n",
       "      <td>женат / замужем</td>\n",
       "      <td>0</td>\n",
       "      <td>M</td>\n",
       "      <td>сотрудник</td>\n",
       "      <td>0</td>\n",
       "      <td>145885.952297</td>\n",
       "      <td>покупка жилья</td>\n",
       "      <td>0</td>\n",
       "      <td>1</td>\n",
       "      <td>0.554054</td>\n",
       "      <td>1.554054</td>\n",
       "      <td>2.0</td>\n",
       "      <td>0.518018</td>\n",
       "    </tr>\n",
       "  </tbody>\n",
       "</table>\n",
       "</div>"
      ],
      "text/plain": [
       "   children  days_employed  dob_years  ...     score  score_round score_norm\n",
       "1         1   -4024.803754         36  ...  2.513514          3.0   0.837838\n",
       "2         0   -5623.422610         33  ...  1.554054          2.0   0.518018\n",
       "\n",
       "[2 rows x 18 columns]"
      ]
     },
     "execution_count": 53,
     "metadata": {
      "tags": []
     },
     "output_type": "execute_result"
    }
   ],
   "source": [
    "train.head(2)"
   ]
  },
  {
   "cell_type": "code",
   "execution_count": 54,
   "metadata": {
    "colab": {
     "base_uri": "https://localhost:8080/",
     "height": 104
    },
    "id": "Sgv61WIe9H33",
    "outputId": "47c9d5fa-21f2-467c-b529-a8265082d676"
   },
   "outputs": [
    {
     "data": {
      "text/plain": [
       "LogisticRegression(C=1.0, class_weight=None, dual=False, fit_intercept=True,\n",
       "                   intercept_scaling=1, l1_ratio=None, max_iter=100,\n",
       "                   multi_class='auto', n_jobs=None, penalty='l2',\n",
       "                   random_state=None, solver='lbfgs', tol=0.0001, verbose=0,\n",
       "                   warm_start=False)"
      ]
     },
     "execution_count": 54,
     "metadata": {
      "tags": []
     },
     "output_type": "execute_result"
    }
   ],
   "source": [
    "Lr.fit(train[['has_children','no_college','dob_years_norm']], train['debt'])"
   ]
  },
  {
   "cell_type": "code",
   "execution_count": 55,
   "metadata": {
    "colab": {
     "base_uri": "https://localhost:8080/",
     "height": 52
    },
    "id": "5AObJAlQ-L9N",
    "outputId": "ada6a72e-2417-4481-913e-8d5cc1bb36f7"
   },
   "outputs": [
    {
     "data": {
      "text/plain": [
       "array([0.11009527, 0.10685361, 0.0705544 , ..., 0.05231973, 0.1057167 ,\n",
       "       0.10149241])"
      ]
     },
     "execution_count": 55,
     "metadata": {
      "tags": []
     },
     "output_type": "execute_result"
    }
   ],
   "source": [
    "Lr.predict_proba(train[['has_children','no_college','dob_years_norm']])[:,1]\n",
    "# вероятность для каждого id быть классом 1 - т.е. иметь debt(лежит в 1 столбце, в 0 столбце вероятность быть классом 0)"
   ]
  },
  {
   "cell_type": "code",
   "execution_count": 56,
   "metadata": {
    "id": "eMykMX0X9j-0"
   },
   "outputs": [],
   "source": [
    "train['lr_debt_pred'] = Lr.predict_proba(train[['has_children','no_college','dob_years_norm']])[:,1]"
   ]
  },
  {
   "cell_type": "code",
   "execution_count": 57,
   "metadata": {
    "colab": {
     "base_uri": "https://localhost:8080/",
     "height": 35
    },
    "id": "yNe3LT0d-5sO",
    "outputId": "26417db5-e8ed-4c10-bfc5-5e48147aad48"
   },
   "outputs": [
    {
     "data": {
      "text/plain": [
       "0.610634889909778"
      ]
     },
     "execution_count": 57,
     "metadata": {
      "tags": []
     },
     "output_type": "execute_result"
    }
   ],
   "source": [
    "roc_auc_score(train['debt'], train['lr_debt_pred'])"
   ]
  },
  {
   "cell_type": "code",
   "execution_count": 58,
   "metadata": {
    "id": "wdht-czN-_1-"
   },
   "outputs": [],
   "source": [
    "lr_t = pd.DataFrame(cumulative_gain_curve(train['debt'],train['lr_debt_pred'])).T"
   ]
  },
  {
   "cell_type": "code",
   "execution_count": 59,
   "metadata": {
    "id": "aYUStqip_RMf"
   },
   "outputs": [],
   "source": [
    "lr_t['random'] = lr_t[0]"
   ]
  },
  {
   "cell_type": "code",
   "execution_count": 60,
   "metadata": {
    "colab": {
     "base_uri": "https://localhost:8080/",
     "height": 361
    },
    "id": "a4f96ywb_Uz1",
    "outputId": "8f94deea-f067-4008-9597-3c5881f648d2"
   },
   "outputs": [
    {
     "data": {
      "text/plain": [
       "<matplotlib.axes._subplots.AxesSubplot at 0x7f47653f8400>"
      ]
     },
     "execution_count": 60,
     "metadata": {
      "tags": []
     },
     "output_type": "execute_result"
    },
    {
     "data": {
      "image/png": "[encoded data removed]",
      "text/plain": [
       "<Figure size 720x360 with 1 Axes>"
      ]
     },
     "metadata": {
      "tags": []
     },
     "output_type": "display_data"
    }
   ],
   "source": [
    "lr_t.plot(x=0, y=[1,'random'],figsize=(10,5),grid=True,xlim=(0,1),ylim=(0,1) )"
   ]
  },
  {
   "cell_type": "code",
   "execution_count": 61,
   "metadata": {
    "id": "Ye5QZqHP_cnj"
   },
   "outputs": [],
   "source": [
    "auc_train_lr = auc(lr_t[0],lr_t[1])"
   ]
  },
  {
   "cell_type": "code",
   "execution_count": 62,
   "metadata": {
    "colab": {
     "base_uri": "https://localhost:8080/",
     "height": 35
    },
    "id": "MJbeAEeL_pcP",
    "outputId": "333b7da4-1267-4d7c-f030-6b804627b062"
   },
   "outputs": [
    {
     "data": {
      "text/plain": [
       "0.6015695232901782"
      ]
     },
     "execution_count": 62,
     "metadata": {
      "tags": []
     },
     "output_type": "execute_result"
    }
   ],
   "source": [
    "auc_train_lr"
   ]
  },
  {
   "cell_type": "code",
   "execution_count": 63,
   "metadata": {
    "colab": {
     "base_uri": "https://localhost:8080/",
     "height": 117
    },
    "id": "4q521SHM_7mN",
    "outputId": "89acb5eb-1d52-40b9-cf48-0abb6f6ba96a"
   },
   "outputs": [
    {
     "data": {
      "text/html": [
       "<div>\n",
       "<style scoped>\n",
       "    .dataframe tbody tr th:only-of-type {\n",
       "        vertical-align: middle;\n",
       "    }\n",
       "\n",
       "    .dataframe tbody tr th {\n",
       "        vertical-align: top;\n",
       "    }\n",
       "\n",
       "    .dataframe thead th {\n",
       "        text-align: right;\n",
       "    }\n",
       "</style>\n",
       "<table border=\"1\" class=\"dataframe\">\n",
       "  <thead>\n",
       "    <tr style=\"text-align: right;\">\n",
       "      <th></th>\n",
       "      <th>children</th>\n",
       "      <th>days_employed</th>\n",
       "      <th>dob_years</th>\n",
       "      <th>education</th>\n",
       "      <th>education_id</th>\n",
       "      <th>family_status</th>\n",
       "      <th>family_status_id</th>\n",
       "      <th>gender</th>\n",
       "      <th>income_type</th>\n",
       "      <th>debt</th>\n",
       "      <th>total_income</th>\n",
       "      <th>purpose</th>\n",
       "      <th>has_children</th>\n",
       "      <th>no_colledge</th>\n",
       "      <th>dob_years_norm</th>\n",
       "      <th>score</th>\n",
       "      <th>score_norm</th>\n",
       "    </tr>\n",
       "  </thead>\n",
       "  <tbody>\n",
       "    <tr>\n",
       "      <th>1607</th>\n",
       "      <td>0</td>\n",
       "      <td>-4144.711272</td>\n",
       "      <td>49</td>\n",
       "      <td>высшее</td>\n",
       "      <td>0</td>\n",
       "      <td>женат / замужем</td>\n",
       "      <td>0</td>\n",
       "      <td>M</td>\n",
       "      <td>компаньон</td>\n",
       "      <td>0</td>\n",
       "      <td>264985.908498</td>\n",
       "      <td>свой автомобиль</td>\n",
       "      <td>0</td>\n",
       "      <td>0</td>\n",
       "      <td>0.346667</td>\n",
       "      <td>0.346667</td>\n",
       "      <td>0.115556</td>\n",
       "    </tr>\n",
       "  </tbody>\n",
       "</table>\n",
       "</div>"
      ],
      "text/plain": [
       "      children  days_employed  dob_years  ... dob_years_norm     score score_norm\n",
       "1607         0   -4144.711272         49  ...       0.346667  0.346667   0.115556\n",
       "\n",
       "[1 rows x 17 columns]"
      ]
     },
     "execution_count": 63,
     "metadata": {
      "tags": []
     },
     "output_type": "execute_result"
    }
   ],
   "source": [
    "test.head(1)"
   ]
  },
  {
   "cell_type": "code",
   "execution_count": 64,
   "metadata": {
    "id": "QAF4R1pK_qiY"
   },
   "outputs": [],
   "source": [
    "test['lr_debt_pred'] = Lr.predict_proba(test[['has_children','no_colledge','dob_years_norm']])[:,1]"
   ]
  },
  {
   "cell_type": "code",
   "execution_count": 65,
   "metadata": {
    "colab": {
     "base_uri": "https://localhost:8080/",
     "height": 35
    },
    "id": "B0eR6hDE_54E",
    "outputId": "5a591df5-9282-4e11-a705-3f037b8c9e08"
   },
   "outputs": [
    {
     "data": {
      "text/plain": [
       "0.5938625394810638"
      ]
     },
     "execution_count": 65,
     "metadata": {
      "tags": []
     },
     "output_type": "execute_result"
    }
   ],
   "source": [
    "roc_auc_score(test['debt'], test['lr_debt_pred'])"
   ]
  },
  {
   "cell_type": "code",
   "execution_count": 66,
   "metadata": {
    "id": "wArA5GaFAIrk"
   },
   "outputs": [],
   "source": [
    "lr_tt = pd.DataFrame(cumulative_gain_curve(test['debt'],test['lr_debt_pred'])).T"
   ]
  },
  {
   "cell_type": "code",
   "execution_count": 67,
   "metadata": {
    "id": "CqOWfudJAP6h"
   },
   "outputs": [],
   "source": [
    "lr_tt['random'] = lr_tt[0]"
   ]
  },
  {
   "cell_type": "code",
   "execution_count": 68,
   "metadata": {
    "colab": {
     "base_uri": "https://localhost:8080/",
     "height": 361
    },
    "id": "uZHfsJEgATDt",
    "outputId": "d376f24c-28ef-4966-a76a-12a538404ba4"
   },
   "outputs": [
    {
     "data": {
      "text/plain": [
       "<matplotlib.axes._subplots.AxesSubplot at 0x7f4765410630>"
      ]
     },
     "execution_count": 68,
     "metadata": {
      "tags": []
     },
     "output_type": "execute_result"
    },
    {
     "data": {
      "image/png": "[encoded data removed]",
      "text/plain": [
       "<Figure size 720x360 with 1 Axes>"
      ]
     },
     "metadata": {
      "tags": []
     },
     "output_type": "display_data"
    }
   ],
   "source": [
    "lr_tt.plot(x=0, y=[1,'random'],figsize=(10,5),grid=True,xlim=(0,1),ylim=(0,1) )"
   ]
  },
  {
   "cell_type": "code",
   "execution_count": 69,
   "metadata": {
    "id": "QvnFjmugAWqo"
   },
   "outputs": [],
   "source": [
    "auc_test_lr = auc(lr_tt[0],lr_tt[1])"
   ]
  },
  {
   "cell_type": "code",
   "execution_count": 70,
   "metadata": {
    "colab": {
     "base_uri": "https://localhost:8080/",
     "height": 35
    },
    "id": "OA51X7UMAdqq",
    "outputId": "e227543f-22a1-4a35-e482-0de91a735c33"
   },
   "outputs": [
    {
     "data": {
      "text/plain": [
       "0.5862700598395213"
      ]
     },
     "execution_count": 70,
     "metadata": {
      "tags": []
     },
     "output_type": "execute_result"
    }
   ],
   "source": [
    "auc_test_lr"
   ]
  },
  {
   "cell_type": "markdown",
   "metadata": {
    "id": "Jx9DZ146aWrB"
   },
   "source": [
    "### 3. ЛОГИСТИЧЕСКАЯ РЕГРЕССИЯ ПО ИЗНАЧАЛЬНЫМ ДАННЫМ <a id='3'></a>"
   ]
  },
  {
   "cell_type": "code",
   "execution_count": 71,
   "metadata": {
    "id": "hIHJINCBZvn-"
   },
   "outputs": [],
   "source": [
    "cat_features = ['education']\n",
    "train = pd.get_dummies(train, columns=cat_features)"
   ]
  },
  {
   "cell_type": "code",
   "execution_count": 72,
   "metadata": {
    "colab": {
     "base_uri": "https://localhost:8080/",
     "height": 134
    },
    "id": "JAAlFUufZ_xz",
    "outputId": "45b6bd9b-7eda-48e4-cb7f-c16a595a5a80"
   },
   "outputs": [
    {
     "data": {
      "text/html": [
       "<div>\n",
       "<style scoped>\n",
       "    .dataframe tbody tr th:only-of-type {\n",
       "        vertical-align: middle;\n",
       "    }\n",
       "\n",
       "    .dataframe tbody tr th {\n",
       "        vertical-align: top;\n",
       "    }\n",
       "\n",
       "    .dataframe thead th {\n",
       "        text-align: right;\n",
       "    }\n",
       "</style>\n",
       "<table border=\"1\" class=\"dataframe\">\n",
       "  <thead>\n",
       "    <tr style=\"text-align: right;\">\n",
       "      <th></th>\n",
       "      <th>children</th>\n",
       "      <th>days_employed</th>\n",
       "      <th>dob_years</th>\n",
       "      <th>education_id</th>\n",
       "      <th>family_status</th>\n",
       "      <th>family_status_id</th>\n",
       "      <th>gender</th>\n",
       "      <th>income_type</th>\n",
       "      <th>debt</th>\n",
       "      <th>total_income</th>\n",
       "      <th>purpose</th>\n",
       "      <th>has_children</th>\n",
       "      <th>no_college</th>\n",
       "      <th>dob_years_norm</th>\n",
       "      <th>score</th>\n",
       "      <th>score_round</th>\n",
       "      <th>score_norm</th>\n",
       "      <th>lr_debt_pred</th>\n",
       "      <th>education_высшее</th>\n",
       "      <th>education_начальное</th>\n",
       "      <th>education_неоконченное высшее</th>\n",
       "      <th>education_среднее</th>\n",
       "      <th>education_ученая степень</th>\n",
       "    </tr>\n",
       "  </thead>\n",
       "  <tbody>\n",
       "    <tr>\n",
       "      <th>1</th>\n",
       "      <td>1</td>\n",
       "      <td>-4024.803754</td>\n",
       "      <td>36</td>\n",
       "      <td>1</td>\n",
       "      <td>женат / замужем</td>\n",
       "      <td>0</td>\n",
       "      <td>F</td>\n",
       "      <td>сотрудник</td>\n",
       "      <td>0</td>\n",
       "      <td>112080.014102</td>\n",
       "      <td>приобретение автомобиля</td>\n",
       "      <td>1</td>\n",
       "      <td>1</td>\n",
       "      <td>0.513514</td>\n",
       "      <td>2.513514</td>\n",
       "      <td>3.0</td>\n",
       "      <td>0.837838</td>\n",
       "      <td>0.110095</td>\n",
       "      <td>0</td>\n",
       "      <td>0</td>\n",
       "      <td>0</td>\n",
       "      <td>1</td>\n",
       "      <td>0</td>\n",
       "    </tr>\n",
       "  </tbody>\n",
       "</table>\n",
       "</div>"
      ],
      "text/plain": [
       "   children  days_employed  ...  education_среднее  education_ученая степень\n",
       "1         1   -4024.803754  ...                  1                         0\n",
       "\n",
       "[1 rows x 23 columns]"
      ]
     },
     "execution_count": 72,
     "metadata": {
      "tags": []
     },
     "output_type": "execute_result"
    }
   ],
   "source": [
    "train.head(1)"
   ]
  },
  {
   "cell_type": "code",
   "execution_count": 73,
   "metadata": {
    "colab": {
     "base_uri": "https://localhost:8080/",
     "height": 104
    },
    "id": "Rg_MQmAwZXxC",
    "outputId": "a69255da-082b-46f3-e996-398dfb2d6d57"
   },
   "outputs": [
    {
     "data": {
      "text/plain": [
       "LogisticRegression(C=1.0, class_weight=None, dual=False, fit_intercept=True,\n",
       "                   intercept_scaling=1, l1_ratio=None, max_iter=100,\n",
       "                   multi_class='auto', n_jobs=None, penalty='l2',\n",
       "                   random_state=None, solver='lbfgs', tol=0.0001, verbose=0,\n",
       "                   warm_start=False)"
      ]
     },
     "execution_count": 73,
     "metadata": {
      "tags": []
     },
     "output_type": "execute_result"
    }
   ],
   "source": [
    "cols = ['children','dob_years', 'education_высшее', 'education_начальное', \n",
    "        'education_неоконченное высшее','education_среднее']\n",
    "Lr.fit(train[cols], train['debt'])"
   ]
  },
  {
   "cell_type": "code",
   "execution_count": 74,
   "metadata": {
    "colab": {
     "base_uri": "https://localhost:8080/",
     "height": 52
    },
    "id": "bUSQqYZnZYQC",
    "outputId": "4142b598-da34-4cda-e996-bc28481e55ad"
   },
   "outputs": [
    {
     "data": {
      "text/plain": [
       "array([0.10534225, 0.11267128, 0.07139166, ..., 0.05133214, 0.10070614,\n",
       "       0.09623288])"
      ]
     },
     "execution_count": 74,
     "metadata": {
      "tags": []
     },
     "output_type": "execute_result"
    }
   ],
   "source": [
    "Lr.predict_proba(train[cols])[:,1]\n",
    "# вероятность для каждого id быть классом 1 - т.е. иметь debt(лежит в 1 столбце, в 0 столбце вероятность быть классом 0)"
   ]
  },
  {
   "cell_type": "code",
   "execution_count": 75,
   "metadata": {
    "id": "fkEyjssHZYLt"
   },
   "outputs": [],
   "source": [
    "train['lr_debt_pred_2nd'] = Lr.predict_proba(train[cols])[:,1]"
   ]
  },
  {
   "cell_type": "code",
   "execution_count": 76,
   "metadata": {
    "colab": {
     "base_uri": "https://localhost:8080/",
     "height": 35
    },
    "id": "urxtbKwDZYIy",
    "outputId": "d4d26a1c-381d-4abd-9d4e-6c39adf84bdf"
   },
   "outputs": [
    {
     "data": {
      "text/plain": [
       "0.6103166070469336"
      ]
     },
     "execution_count": 76,
     "metadata": {
      "tags": []
     },
     "output_type": "execute_result"
    }
   ],
   "source": [
    "roc_auc_score(train['debt'], train['lr_debt_pred_2nd'])"
   ]
  },
  {
   "cell_type": "code",
   "execution_count": 77,
   "metadata": {
    "id": "1_97_743bCZN"
   },
   "outputs": [],
   "source": [
    "lr_t_2nd = pd.DataFrame(cumulative_gain_curve(train['debt'],train['lr_debt_pred_2nd'])).T"
   ]
  },
  {
   "cell_type": "code",
   "execution_count": 78,
   "metadata": {
    "id": "E4lKBY7fbCWJ"
   },
   "outputs": [],
   "source": [
    "lr_t_2nd['random'] = lr_t_2nd[0]"
   ]
  },
  {
   "cell_type": "code",
   "execution_count": 79,
   "metadata": {
    "colab": {
     "base_uri": "https://localhost:8080/",
     "height": 35
    },
    "id": "A4FNb7H_btYr",
    "outputId": "9257f404-ee41-45e3-f3da-64a2229e84c9"
   },
   "outputs": [
    {
     "data": {
      "text/plain": [
       "0.6012828975325152"
      ]
     },
     "execution_count": 79,
     "metadata": {
      "tags": []
     },
     "output_type": "execute_result"
    }
   ],
   "source": [
    "auc_train_lr_2nd = auc(lr_t_2nd[0],lr_t_2nd[1])\n",
    "\n",
    "auc_train_lr_2nd"
   ]
  },
  {
   "cell_type": "code",
   "execution_count": 80,
   "metadata": {
    "colab": {
     "base_uri": "https://localhost:8080/",
     "height": 361
    },
    "id": "MxjNsME4bCQh",
    "outputId": "f7208802-5d6b-49cf-b17c-b12b4d6ae0ee"
   },
   "outputs": [
    {
     "data": {
      "text/plain": [
       "<matplotlib.axes._subplots.AxesSubplot at 0x7f4765504f98>"
      ]
     },
     "execution_count": 80,
     "metadata": {
      "tags": []
     },
     "output_type": "execute_result"
    },
    {
     "data": {
      "image/png": "[encoded data removed]",
      "text/plain": [
       "<Figure size 720x360 with 1 Axes>"
      ]
     },
     "metadata": {
      "tags": []
     },
     "output_type": "display_data"
    }
   ],
   "source": [
    "lr_t_2nd.plot(x=0, y=[1,'random'],figsize=(10,5),grid=True,xlim=(0,1),ylim=(0,1))"
   ]
  },
  {
   "cell_type": "code",
   "execution_count": 81,
   "metadata": {
    "id": "WgZk14V9bCK5"
   },
   "outputs": [],
   "source": [
    "cat_features = ['education']\n",
    "test = pd.get_dummies(test, columns=cat_features)"
   ]
  },
  {
   "cell_type": "code",
   "execution_count": 82,
   "metadata": {
    "colab": {
     "base_uri": "https://localhost:8080/",
     "height": 134
    },
    "id": "FIhCxB7tcqd3",
    "outputId": "628122b9-925a-40f1-b18a-40b7a15de16a"
   },
   "outputs": [
    {
     "data": {
      "text/html": [
       "<div>\n",
       "<style scoped>\n",
       "    .dataframe tbody tr th:only-of-type {\n",
       "        vertical-align: middle;\n",
       "    }\n",
       "\n",
       "    .dataframe tbody tr th {\n",
       "        vertical-align: top;\n",
       "    }\n",
       "\n",
       "    .dataframe thead th {\n",
       "        text-align: right;\n",
       "    }\n",
       "</style>\n",
       "<table border=\"1\" class=\"dataframe\">\n",
       "  <thead>\n",
       "    <tr style=\"text-align: right;\">\n",
       "      <th></th>\n",
       "      <th>children</th>\n",
       "      <th>days_employed</th>\n",
       "      <th>dob_years</th>\n",
       "      <th>education_id</th>\n",
       "      <th>family_status</th>\n",
       "      <th>family_status_id</th>\n",
       "      <th>gender</th>\n",
       "      <th>income_type</th>\n",
       "      <th>debt</th>\n",
       "      <th>total_income</th>\n",
       "      <th>purpose</th>\n",
       "      <th>has_children</th>\n",
       "      <th>no_colledge</th>\n",
       "      <th>dob_years_norm</th>\n",
       "      <th>score</th>\n",
       "      <th>score_norm</th>\n",
       "      <th>lr_debt_pred</th>\n",
       "      <th>education_высшее</th>\n",
       "      <th>education_начальное</th>\n",
       "      <th>education_неоконченное высшее</th>\n",
       "      <th>education_среднее</th>\n",
       "    </tr>\n",
       "  </thead>\n",
       "  <tbody>\n",
       "    <tr>\n",
       "      <th>1607</th>\n",
       "      <td>0</td>\n",
       "      <td>-4144.711272</td>\n",
       "      <td>49</td>\n",
       "      <td>0</td>\n",
       "      <td>женат / замужем</td>\n",
       "      <td>0</td>\n",
       "      <td>M</td>\n",
       "      <td>компаньон</td>\n",
       "      <td>0</td>\n",
       "      <td>264985.908498</td>\n",
       "      <td>свой автомобиль</td>\n",
       "      <td>0</td>\n",
       "      <td>0</td>\n",
       "      <td>0.346667</td>\n",
       "      <td>0.346667</td>\n",
       "      <td>0.115556</td>\n",
       "      <td>0.042897</td>\n",
       "      <td>1</td>\n",
       "      <td>0</td>\n",
       "      <td>0</td>\n",
       "      <td>0</td>\n",
       "    </tr>\n",
       "  </tbody>\n",
       "</table>\n",
       "</div>"
      ],
      "text/plain": [
       "      children  days_employed  ...  education_неоконченное высшее  education_среднее\n",
       "1607         0   -4144.711272  ...                              0                  0\n",
       "\n",
       "[1 rows x 21 columns]"
      ]
     },
     "execution_count": 82,
     "metadata": {
      "tags": []
     },
     "output_type": "execute_result"
    }
   ],
   "source": [
    "test.head(1)"
   ]
  },
  {
   "cell_type": "code",
   "execution_count": 83,
   "metadata": {
    "id": "9xH24XOze8rg"
   },
   "outputs": [],
   "source": [
    "test['lr_debt_pred_2nd'] = Lr.predict_proba(test[cols])[:,1]"
   ]
  },
  {
   "cell_type": "code",
   "execution_count": 84,
   "metadata": {
    "colab": {
     "base_uri": "https://localhost:8080/",
     "height": 35
    },
    "id": "qu3j5TibcW1O",
    "outputId": "f9f71785-acbd-4c9c-de70-fcab06cd654f"
   },
   "outputs": [
    {
     "data": {
      "text/plain": [
       "0.5970191796794285"
      ]
     },
     "execution_count": 84,
     "metadata": {
      "tags": []
     },
     "output_type": "execute_result"
    }
   ],
   "source": [
    "roc_auc_score(test['debt'], test['lr_debt_pred_2nd'])"
   ]
  },
  {
   "cell_type": "code",
   "execution_count": 85,
   "metadata": {
    "id": "aLhgXH0gcWtG"
   },
   "outputs": [],
   "source": [
    "lr_tt_2nd = pd.DataFrame(cumulative_gain_curve(test['debt'],test['lr_debt_pred_2nd'])).T"
   ]
  },
  {
   "cell_type": "code",
   "execution_count": 86,
   "metadata": {
    "id": "bUAyWHSRiFPL"
   },
   "outputs": [],
   "source": [
    "lr_tt_2nd['random'] = lr_tt_2nd[0]"
   ]
  },
  {
   "cell_type": "code",
   "execution_count": 87,
   "metadata": {
    "colab": {
     "base_uri": "https://localhost:8080/",
     "height": 35
    },
    "id": "2nfZMFRIiTIV",
    "outputId": "2f6cfed8-0b82-4e3f-f2ad-cd88c2d1c147"
   },
   "outputs": [
    {
     "data": {
      "text/plain": [
       "0.589250135998912"
      ]
     },
     "execution_count": 87,
     "metadata": {
      "tags": []
     },
     "output_type": "execute_result"
    }
   ],
   "source": [
    "auc_test_lr_2nd = auc(lr_tt_2nd[0],lr_tt_2nd[1])\n",
    "\n",
    "auc_test_lr_2nd"
   ]
  },
  {
   "cell_type": "code",
   "execution_count": 88,
   "metadata": {
    "colab": {
     "base_uri": "https://localhost:8080/",
     "height": 361
    },
    "id": "cHbMZrFPiFvb",
    "outputId": "01252cea-d8ee-4144-a266-0008b3982a4a"
   },
   "outputs": [
    {
     "data": {
      "text/plain": [
       "<matplotlib.axes._subplots.AxesSubplot at 0x7f47655946d8>"
      ]
     },
     "execution_count": 88,
     "metadata": {
      "tags": []
     },
     "output_type": "execute_result"
    },
    {
     "data": {
      "image/png": "[encoded data removed]",
      "text/plain": [
       "<Figure size 720x360 with 1 Axes>"
      ]
     },
     "metadata": {
      "tags": []
     },
     "output_type": "display_data"
    }
   ],
   "source": [
    "lr_tt_2nd.plot(x=0, y=[1,'random'],figsize=(10,5),grid=True,xlim=(0,1),ylim=(0,1))"
   ]
  },
  {
   "cell_type": "markdown",
   "metadata": {
    "id": "GsIH4axnAfhQ"
   },
   "source": [
    "### 4. CATBOOST КЛАССИФИКАТОР <a id='4'></a>"
   ]
  },
  {
   "cell_type": "code",
   "execution_count": 89,
   "metadata": {
    "colab": {
     "base_uri": "https://localhost:8080/",
     "height": 349
    },
    "id": "-du8-bJ2WzX1",
    "outputId": "18883e23-7302-450b-db5b-1711718a70c1"
   },
   "outputs": [
    {
     "name": "stdout",
     "output_type": "stream",
     "text": [
      "Collecting catboost\n",
      "\u001b[?25l  Downloading https://files.pythonhosted.org/packages/52/39/128fff65072c8327371e3c594f3c826d29c85b21cb6485980353b168e0e4/catboost-0.24.2-cp36-none-manylinux1_x86_64.whl (66.1MB)\n",
      "\u001b[K     |████████████████████████████████| 66.2MB 51kB/s \n",
      "\u001b[?25hRequirement already satisfied: plotly in /usr/local/lib/python3.6/dist-packages (from catboost) (4.4.1)\n",
      "Requirement already satisfied: pandas>=0.24.0 in /usr/local/lib/python3.6/dist-packages (from catboost) (1.1.2)\n",
      "Requirement already satisfied: six in /usr/local/lib/python3.6/dist-packages (from catboost) (1.15.0)\n",
      "Requirement already satisfied: numpy>=1.16.0 in /usr/local/lib/python3.6/dist-packages (from catboost) (1.18.5)\n",
      "Requirement already satisfied: matplotlib in /usr/local/lib/python3.6/dist-packages (from catboost) (3.2.2)\n",
      "Requirement already satisfied: graphviz in /usr/local/lib/python3.6/dist-packages (from catboost) (0.10.1)\n",
      "Requirement already satisfied: scipy in /usr/local/lib/python3.6/dist-packages (from catboost) (1.4.1)\n",
      "Requirement already satisfied: retrying>=1.3.3 in /usr/local/lib/python3.6/dist-packages (from plotly->catboost) (1.3.3)\n",
      "Requirement already satisfied: pytz>=2017.2 in /usr/local/lib/python3.6/dist-packages (from pandas>=0.24.0->catboost) (2018.9)\n",
      "Requirement already satisfied: python-dateutil>=2.7.3 in /usr/local/lib/python3.6/dist-packages (from pandas>=0.24.0->catboost) (2.8.1)\n",
      "Requirement already satisfied: cycler>=0.10 in /usr/local/lib/python3.6/dist-packages (from matplotlib->catboost) (0.10.0)\n",
      "Requirement already satisfied: pyparsing!=2.0.4,!=2.1.2,!=2.1.6,>=2.0.1 in /usr/local/lib/python3.6/dist-packages (from matplotlib->catboost) (2.4.7)\n",
      "Requirement already satisfied: kiwisolver>=1.0.1 in /usr/local/lib/python3.6/dist-packages (from matplotlib->catboost) (1.2.0)\n",
      "Installing collected packages: catboost\n",
      "Successfully installed catboost-0.24.2\n"
     ]
    }
   ],
   "source": [
    "!pip install catboost"
   ]
  },
  {
   "cell_type": "code",
   "execution_count": 90,
   "metadata": {
    "colab": {
     "base_uri": "https://localhost:8080/",
     "height": 52
    },
    "id": "T_OiuBtOYoZ2",
    "outputId": "d41400b7-e92e-427a-a56c-66aead3be524"
   },
   "outputs": [
    {
     "name": "stdout",
     "output_type": "stream",
     "text": [
      "0:\tlearn: 0.5800330\ttotal: 47.9ms\tremaining: 47.9ms\n",
      "1:\tlearn: 0.4935379\ttotal: 48.5ms\tremaining: 0us\n"
     ]
    }
   ],
   "source": [
    "from catboost import CatBoostClassifier\n",
    "# Initialize data\n",
    "cat_features = [0, 1]\n",
    "train_data = [[\"a\", \"b\", 1, 4, 5, 6],\n",
    "              [\"a\", \"b\", 4, 5, 6, 7],\n",
    "              [\"c\", \"d\", 30, 40, 50, 60]]\n",
    "train_labels = [1, 1, -1]\n",
    "eval_data = [[\"a\", \"b\", 2, 4, 6, 8],\n",
    "             [\"a\", \"d\", 1, 4, 50, 60]]\n",
    "\n",
    "# Initialize CatBoostClassifier\n",
    "model = CatBoostClassifier(iterations=2,\n",
    "                           learning_rate=1,\n",
    "                           depth=2)\n",
    "# Fit model\n",
    "model.fit(train_data, train_labels, cat_features)\n",
    "# Get predicted classes\n",
    "preds_class = model.predict(eval_data)\n",
    "# Get predicted probabilities for each class\n",
    "preds_proba = model.predict_proba(eval_data)\n",
    "# Get predicted RawFormulaVal\n",
    "preds_raw = model.predict(eval_data, prediction_type='RawFormulaVal')"
   ]
  },
  {
   "cell_type": "code",
   "execution_count": 91,
   "metadata": {
    "colab": {
     "base_uri": "https://localhost:8080/",
     "height": 134
    },
    "id": "eafcZ8rPYwQc",
    "outputId": "170dbf60-a408-40d3-e92b-4851db225880"
   },
   "outputs": [
    {
     "data": {
      "text/html": [
       "<div>\n",
       "<style scoped>\n",
       "    .dataframe tbody tr th:only-of-type {\n",
       "        vertical-align: middle;\n",
       "    }\n",
       "\n",
       "    .dataframe tbody tr th {\n",
       "        vertical-align: top;\n",
       "    }\n",
       "\n",
       "    .dataframe thead th {\n",
       "        text-align: right;\n",
       "    }\n",
       "</style>\n",
       "<table border=\"1\" class=\"dataframe\">\n",
       "  <thead>\n",
       "    <tr style=\"text-align: right;\">\n",
       "      <th></th>\n",
       "      <th>children</th>\n",
       "      <th>days_employed</th>\n",
       "      <th>dob_years</th>\n",
       "      <th>education_id</th>\n",
       "      <th>family_status</th>\n",
       "      <th>family_status_id</th>\n",
       "      <th>gender</th>\n",
       "      <th>income_type</th>\n",
       "      <th>debt</th>\n",
       "      <th>total_income</th>\n",
       "      <th>purpose</th>\n",
       "      <th>has_children</th>\n",
       "      <th>no_college</th>\n",
       "      <th>dob_years_norm</th>\n",
       "      <th>score</th>\n",
       "      <th>score_round</th>\n",
       "      <th>score_norm</th>\n",
       "      <th>lr_debt_pred</th>\n",
       "      <th>education_высшее</th>\n",
       "      <th>education_начальное</th>\n",
       "      <th>education_неоконченное высшее</th>\n",
       "      <th>education_среднее</th>\n",
       "      <th>education_ученая степень</th>\n",
       "      <th>lr_debt_pred_2nd</th>\n",
       "    </tr>\n",
       "  </thead>\n",
       "  <tbody>\n",
       "    <tr>\n",
       "      <th>1</th>\n",
       "      <td>1</td>\n",
       "      <td>-4024.803754</td>\n",
       "      <td>36</td>\n",
       "      <td>1</td>\n",
       "      <td>женат / замужем</td>\n",
       "      <td>0</td>\n",
       "      <td>F</td>\n",
       "      <td>сотрудник</td>\n",
       "      <td>0</td>\n",
       "      <td>112080.014102</td>\n",
       "      <td>приобретение автомобиля</td>\n",
       "      <td>1</td>\n",
       "      <td>1</td>\n",
       "      <td>0.513514</td>\n",
       "      <td>2.513514</td>\n",
       "      <td>3.0</td>\n",
       "      <td>0.837838</td>\n",
       "      <td>0.110095</td>\n",
       "      <td>0</td>\n",
       "      <td>0</td>\n",
       "      <td>0</td>\n",
       "      <td>1</td>\n",
       "      <td>0</td>\n",
       "      <td>0.105342</td>\n",
       "    </tr>\n",
       "  </tbody>\n",
       "</table>\n",
       "</div>"
      ],
      "text/plain": [
       "   children  days_employed  ...  education_ученая степень  lr_debt_pred_2nd\n",
       "1         1   -4024.803754  ...                         0          0.105342\n",
       "\n",
       "[1 rows x 24 columns]"
      ]
     },
     "execution_count": 91,
     "metadata": {
      "tags": []
     },
     "output_type": "execute_result"
    }
   ],
   "source": [
    "train.head(1)"
   ]
  },
  {
   "cell_type": "code",
   "execution_count": 92,
   "metadata": {
    "colab": {
     "base_uri": "https://localhost:8080/",
     "height": 35
    },
    "id": "4gvpbFpH4VmF",
    "outputId": "85ce56f8-1753-4b65-f825-c01ddbb386ab"
   },
   "outputs": [
    {
     "data": {
      "text/plain": [
       "array([1, 0, 2, 3, 4])"
      ]
     },
     "execution_count": 92,
     "metadata": {
      "tags": []
     },
     "output_type": "execute_result"
    }
   ],
   "source": [
    "train.education_id.unique()"
   ]
  },
  {
   "cell_type": "code",
   "execution_count": 93,
   "metadata": {
    "id": "WSmevl7PixYW"
   },
   "outputs": [],
   "source": [
    "X_col = ['children', 'dob_years', 'education_высшее','education_начальное',\n",
    "         'education_неоконченное высшее','education_среднее']\n",
    "y_col = ['debt']\n",
    "cat_features1 = ['children','education']"
   ]
  },
  {
   "cell_type": "code",
   "execution_count": 94,
   "metadata": {
    "id": "ibULSxQYjqIK"
   },
   "outputs": [],
   "source": [
    "model = CatBoostClassifier()"
   ]
  },
  {
   "cell_type": "code",
   "execution_count": 95,
   "metadata": {
    "colab": {
     "base_uri": "https://localhost:8080/",
     "height": 1000
    },
    "id": "KKftJqcgjtKH",
    "outputId": "fbce2864-34db-49e7-f8fd-2f6c259683b2"
   },
   "outputs": [
    {
     "name": "stdout",
     "output_type": "stream",
     "text": [
      "Learning rate set to 0.033188\n",
      "0:\tlearn: 0.6599677\ttotal: 9.89ms\tremaining: 9.88s\n",
      "1:\tlearn: 0.6294622\ttotal: 18.4ms\tremaining: 9.16s\n",
      "2:\tlearn: 0.6016060\ttotal: 27.1ms\tremaining: 9.02s\n",
      "3:\tlearn: 0.5753020\ttotal: 35.6ms\tremaining: 8.85s\n",
      "4:\tlearn: 0.5513051\ttotal: 42.2ms\tremaining: 8.39s\n",
      "5:\tlearn: 0.5296461\ttotal: 49.1ms\tremaining: 8.14s\n",
      "6:\tlearn: 0.5092333\ttotal: 56ms\tremaining: 7.94s\n",
      "7:\tlearn: 0.4908225\ttotal: 62.9ms\tremaining: 7.8s\n",
      "8:\tlearn: 0.4736800\ttotal: 73.6ms\tremaining: 8.1s\n",
      "9:\tlearn: 0.4585679\ttotal: 79.8ms\tremaining: 7.9s\n",
      "10:\tlearn: 0.4441766\ttotal: 85.2ms\tremaining: 7.66s\n",
      "11:\tlearn: 0.4309256\ttotal: 93.6ms\tremaining: 7.7s\n",
      "12:\tlearn: 0.4189006\ttotal: 102ms\tremaining: 7.73s\n",
      "13:\tlearn: 0.4077548\ttotal: 110ms\tremaining: 7.76s\n",
      "14:\tlearn: 0.3977670\ttotal: 118ms\tremaining: 7.74s\n",
      "15:\tlearn: 0.3885249\ttotal: 125ms\tremaining: 7.7s\n",
      "16:\tlearn: 0.3798067\ttotal: 134ms\tremaining: 7.72s\n",
      "17:\tlearn: 0.3719573\ttotal: 148ms\tremaining: 8.1s\n",
      "18:\tlearn: 0.3646319\ttotal: 157ms\tremaining: 8.1s\n",
      "19:\tlearn: 0.3579784\ttotal: 163ms\tremaining: 8.01s\n",
      "20:\tlearn: 0.3518287\ttotal: 172ms\tremaining: 8s\n",
      "21:\tlearn: 0.3463172\ttotal: 178ms\tremaining: 7.91s\n",
      "22:\tlearn: 0.3410464\ttotal: 186ms\tremaining: 7.91s\n",
      "23:\tlearn: 0.3362948\ttotal: 194ms\tremaining: 7.91s\n",
      "24:\tlearn: 0.3319400\ttotal: 205ms\tremaining: 7.99s\n",
      "25:\tlearn: 0.3278309\ttotal: 213ms\tremaining: 7.98s\n",
      "26:\tlearn: 0.3241366\ttotal: 221ms\tremaining: 7.98s\n",
      "27:\tlearn: 0.3206935\ttotal: 230ms\tremaining: 7.97s\n",
      "28:\tlearn: 0.3176469\ttotal: 235ms\tremaining: 7.85s\n",
      "29:\tlearn: 0.3146576\ttotal: 244ms\tremaining: 7.9s\n",
      "30:\tlearn: 0.3118981\ttotal: 253ms\tremaining: 7.89s\n",
      "31:\tlearn: 0.3094513\ttotal: 258ms\tremaining: 7.82s\n",
      "32:\tlearn: 0.3070613\ttotal: 266ms\tremaining: 7.79s\n",
      "33:\tlearn: 0.3048568\ttotal: 277ms\tremaining: 7.87s\n",
      "34:\tlearn: 0.3028455\ttotal: 285ms\tremaining: 7.85s\n",
      "35:\tlearn: 0.3010156\ttotal: 293ms\tremaining: 7.85s\n",
      "36:\tlearn: 0.2994031\ttotal: 298ms\tremaining: 7.76s\n",
      "37:\tlearn: 0.2978583\ttotal: 306ms\tremaining: 7.75s\n",
      "38:\tlearn: 0.2964065\ttotal: 314ms\tremaining: 7.73s\n",
      "39:\tlearn: 0.2950802\ttotal: 320ms\tremaining: 7.67s\n",
      "40:\tlearn: 0.2937917\ttotal: 328ms\tremaining: 7.68s\n",
      "41:\tlearn: 0.2925962\ttotal: 337ms\tremaining: 7.68s\n",
      "42:\tlearn: 0.2915670\ttotal: 343ms\tremaining: 7.63s\n",
      "43:\tlearn: 0.2905682\ttotal: 351ms\tremaining: 7.63s\n",
      "44:\tlearn: 0.2895669\ttotal: 359ms\tremaining: 7.63s\n",
      "45:\tlearn: 0.2887470\ttotal: 365ms\tremaining: 7.56s\n",
      "46:\tlearn: 0.2879375\ttotal: 373ms\tremaining: 7.56s\n",
      "47:\tlearn: 0.2871309\ttotal: 380ms\tremaining: 7.54s\n",
      "48:\tlearn: 0.2863831\ttotal: 389ms\tremaining: 7.54s\n",
      "49:\tlearn: 0.2857189\ttotal: 397ms\tremaining: 7.54s\n",
      "50:\tlearn: 0.2850824\ttotal: 408ms\tremaining: 7.59s\n",
      "51:\tlearn: 0.2845074\ttotal: 415ms\tremaining: 7.57s\n",
      "52:\tlearn: 0.2839587\ttotal: 423ms\tremaining: 7.57s\n",
      "53:\tlearn: 0.2834488\ttotal: 432ms\tremaining: 7.57s\n",
      "54:\tlearn: 0.2829977\ttotal: 437ms\tremaining: 7.51s\n",
      "55:\tlearn: 0.2825687\ttotal: 447ms\tremaining: 7.54s\n",
      "56:\tlearn: 0.2821559\ttotal: 456ms\tremaining: 7.55s\n",
      "57:\tlearn: 0.2817514\ttotal: 465ms\tremaining: 7.55s\n",
      "58:\tlearn: 0.2814090\ttotal: 475ms\tremaining: 7.58s\n",
      "59:\tlearn: 0.2810622\ttotal: 490ms\tremaining: 7.68s\n",
      "60:\tlearn: 0.2807480\ttotal: 500ms\tremaining: 7.7s\n",
      "61:\tlearn: 0.2804494\ttotal: 511ms\tremaining: 7.73s\n",
      "62:\tlearn: 0.2801993\ttotal: 518ms\tremaining: 7.7s\n",
      "63:\tlearn: 0.2799819\ttotal: 525ms\tremaining: 7.67s\n",
      "64:\tlearn: 0.2797705\ttotal: 532ms\tremaining: 7.65s\n",
      "65:\tlearn: 0.2795375\ttotal: 540ms\tremaining: 7.64s\n",
      "66:\tlearn: 0.2793288\ttotal: 548ms\tremaining: 7.64s\n",
      "67:\tlearn: 0.2791254\ttotal: 557ms\tremaining: 7.63s\n",
      "68:\tlearn: 0.2789673\ttotal: 563ms\tremaining: 7.6s\n",
      "69:\tlearn: 0.2788296\ttotal: 568ms\tremaining: 7.55s\n",
      "70:\tlearn: 0.2786974\ttotal: 586ms\tremaining: 7.67s\n",
      "71:\tlearn: 0.2785294\ttotal: 595ms\tremaining: 7.66s\n",
      "72:\tlearn: 0.2783763\ttotal: 612ms\tremaining: 7.77s\n",
      "73:\tlearn: 0.2782604\ttotal: 621ms\tremaining: 7.77s\n",
      "74:\tlearn: 0.2781316\ttotal: 630ms\tremaining: 7.76s\n",
      "75:\tlearn: 0.2780085\ttotal: 639ms\tremaining: 7.76s\n",
      "76:\tlearn: 0.2779066\ttotal: 647ms\tremaining: 7.76s\n",
      "77:\tlearn: 0.2777885\ttotal: 656ms\tremaining: 7.75s\n",
      "78:\tlearn: 0.2776918\ttotal: 663ms\tremaining: 7.73s\n",
      "79:\tlearn: 0.2775906\ttotal: 672ms\tremaining: 7.73s\n",
      "80:\tlearn: 0.2775079\ttotal: 681ms\tremaining: 7.72s\n",
      "81:\tlearn: 0.2774263\ttotal: 687ms\tremaining: 7.68s\n",
      "82:\tlearn: 0.2773516\ttotal: 697ms\tremaining: 7.7s\n",
      "83:\tlearn: 0.2772757\ttotal: 705ms\tremaining: 7.69s\n",
      "84:\tlearn: 0.2772117\ttotal: 712ms\tremaining: 7.66s\n",
      "85:\tlearn: 0.2771394\ttotal: 719ms\tremaining: 7.64s\n",
      "86:\tlearn: 0.2770499\ttotal: 727ms\tremaining: 7.63s\n",
      "87:\tlearn: 0.2770001\ttotal: 733ms\tremaining: 7.6s\n",
      "88:\tlearn: 0.2769261\ttotal: 742ms\tremaining: 7.59s\n",
      "89:\tlearn: 0.2768683\ttotal: 750ms\tremaining: 7.58s\n",
      "90:\tlearn: 0.2768361\ttotal: 755ms\tremaining: 7.54s\n",
      "91:\tlearn: 0.2768060\ttotal: 761ms\tremaining: 7.51s\n",
      "92:\tlearn: 0.2767438\ttotal: 770ms\tremaining: 7.51s\n",
      "93:\tlearn: 0.2766761\ttotal: 778ms\tremaining: 7.5s\n",
      "94:\tlearn: 0.2766149\ttotal: 787ms\tremaining: 7.49s\n",
      "95:\tlearn: 0.2765821\ttotal: 794ms\tremaining: 7.47s\n",
      "96:\tlearn: 0.2765494\ttotal: 801ms\tremaining: 7.45s\n",
      "97:\tlearn: 0.2765040\ttotal: 809ms\tremaining: 7.44s\n",
      "98:\tlearn: 0.2764533\ttotal: 821ms\tremaining: 7.47s\n",
      "99:\tlearn: 0.2764342\ttotal: 826ms\tremaining: 7.43s\n",
      "100:\tlearn: 0.2763902\ttotal: 834ms\tremaining: 7.43s\n",
      "101:\tlearn: 0.2763494\ttotal: 845ms\tremaining: 7.44s\n",
      "102:\tlearn: 0.2763117\ttotal: 852ms\tremaining: 7.42s\n",
      "103:\tlearn: 0.2762767\ttotal: 861ms\tremaining: 7.42s\n",
      "104:\tlearn: 0.2762650\ttotal: 866ms\tremaining: 7.38s\n",
      "105:\tlearn: 0.2762446\ttotal: 873ms\tremaining: 7.36s\n",
      "106:\tlearn: 0.2762139\ttotal: 881ms\tremaining: 7.36s\n",
      "107:\tlearn: 0.2761929\ttotal: 889ms\tremaining: 7.34s\n",
      "108:\tlearn: 0.2761677\ttotal: 900ms\tremaining: 7.35s\n",
      "109:\tlearn: 0.2761533\ttotal: 906ms\tremaining: 7.33s\n",
      "110:\tlearn: 0.2761276\ttotal: 915ms\tremaining: 7.33s\n",
      "111:\tlearn: 0.2761180\ttotal: 923ms\tremaining: 7.31s\n",
      "112:\tlearn: 0.2761028\ttotal: 928ms\tremaining: 7.28s\n",
      "113:\tlearn: 0.2760492\ttotal: 936ms\tremaining: 7.28s\n",
      "114:\tlearn: 0.2760332\ttotal: 945ms\tremaining: 7.27s\n",
      "115:\tlearn: 0.2759945\ttotal: 953ms\tremaining: 7.26s\n",
      "116:\tlearn: 0.2759763\ttotal: 962ms\tremaining: 7.26s\n",
      "117:\tlearn: 0.2759701\ttotal: 968ms\tremaining: 7.23s\n",
      "118:\tlearn: 0.2759484\ttotal: 976ms\tremaining: 7.23s\n",
      "119:\tlearn: 0.2759050\ttotal: 984ms\tremaining: 7.22s\n",
      "120:\tlearn: 0.2758841\ttotal: 993ms\tremaining: 7.21s\n",
      "121:\tlearn: 0.2758390\ttotal: 1s\tremaining: 7.21s\n",
      "122:\tlearn: 0.2758009\ttotal: 1.01s\tremaining: 7.24s\n",
      "123:\tlearn: 0.2757893\ttotal: 1.02s\tremaining: 7.23s\n",
      "124:\tlearn: 0.2757826\ttotal: 1.03s\tremaining: 7.21s\n",
      "125:\tlearn: 0.2757651\ttotal: 1.04s\tremaining: 7.2s\n",
      "126:\tlearn: 0.2757524\ttotal: 1.05s\tremaining: 7.19s\n",
      "127:\tlearn: 0.2757374\ttotal: 1.05s\tremaining: 7.18s\n",
      "128:\tlearn: 0.2757201\ttotal: 1.06s\tremaining: 7.17s\n",
      "129:\tlearn: 0.2756995\ttotal: 1.07s\tremaining: 7.16s\n",
      "130:\tlearn: 0.2756740\ttotal: 1.08s\tremaining: 7.15s\n",
      "131:\tlearn: 0.2756534\ttotal: 1.09s\tremaining: 7.15s\n",
      "132:\tlearn: 0.2756246\ttotal: 1.09s\tremaining: 7.14s\n",
      "133:\tlearn: 0.2755863\ttotal: 1.11s\tremaining: 7.16s\n",
      "134:\tlearn: 0.2755599\ttotal: 1.11s\tremaining: 7.15s\n",
      "135:\tlearn: 0.2755430\ttotal: 1.12s\tremaining: 7.14s\n",
      "136:\tlearn: 0.2755167\ttotal: 1.13s\tremaining: 7.13s\n",
      "137:\tlearn: 0.2754817\ttotal: 1.14s\tremaining: 7.13s\n",
      "138:\tlearn: 0.2754532\ttotal: 1.15s\tremaining: 7.12s\n",
      "139:\tlearn: 0.2754317\ttotal: 1.16s\tremaining: 7.11s\n",
      "140:\tlearn: 0.2754305\ttotal: 1.16s\tremaining: 7.08s\n",
      "141:\tlearn: 0.2754214\ttotal: 1.17s\tremaining: 7.06s\n",
      "142:\tlearn: 0.2754157\ttotal: 1.18s\tremaining: 7.05s\n",
      "143:\tlearn: 0.2753990\ttotal: 1.18s\tremaining: 7.04s\n",
      "144:\tlearn: 0.2753837\ttotal: 1.19s\tremaining: 7.03s\n",
      "145:\tlearn: 0.2753725\ttotal: 1.2s\tremaining: 7.03s\n",
      "146:\tlearn: 0.2753538\ttotal: 1.21s\tremaining: 7.02s\n",
      "147:\tlearn: 0.2753283\ttotal: 1.22s\tremaining: 7.03s\n",
      "148:\tlearn: 0.2753119\ttotal: 1.23s\tremaining: 7.03s\n",
      "149:\tlearn: 0.2753000\ttotal: 1.24s\tremaining: 7.02s\n",
      "150:\tlearn: 0.2752706\ttotal: 1.25s\tremaining: 7.01s\n",
      "151:\tlearn: 0.2752641\ttotal: 1.25s\tremaining: 7s\n",
      "152:\tlearn: 0.2752624\ttotal: 1.26s\tremaining: 6.99s\n",
      "153:\tlearn: 0.2752353\ttotal: 1.27s\tremaining: 6.99s\n",
      "154:\tlearn: 0.2752265\ttotal: 1.28s\tremaining: 6.98s\n",
      "155:\tlearn: 0.2752112\ttotal: 1.29s\tremaining: 6.97s\n",
      "156:\tlearn: 0.2751941\ttotal: 1.3s\tremaining: 6.96s\n",
      "157:\tlearn: 0.2751818\ttotal: 1.3s\tremaining: 6.96s\n",
      "158:\tlearn: 0.2751691\ttotal: 1.32s\tremaining: 6.96s\n",
      "159:\tlearn: 0.2751464\ttotal: 1.32s\tremaining: 6.95s\n",
      "160:\tlearn: 0.2751151\ttotal: 1.33s\tremaining: 6.95s\n",
      "161:\tlearn: 0.2751028\ttotal: 1.34s\tremaining: 6.94s\n",
      "162:\tlearn: 0.2750793\ttotal: 1.35s\tremaining: 6.95s\n",
      "163:\tlearn: 0.2750668\ttotal: 1.36s\tremaining: 6.94s\n",
      "164:\tlearn: 0.2750546\ttotal: 1.37s\tremaining: 6.93s\n",
      "165:\tlearn: 0.2750417\ttotal: 1.38s\tremaining: 6.92s\n",
      "166:\tlearn: 0.2750052\ttotal: 1.39s\tremaining: 6.93s\n",
      "167:\tlearn: 0.2749814\ttotal: 1.4s\tremaining: 6.93s\n",
      "168:\tlearn: 0.2749623\ttotal: 1.41s\tremaining: 6.92s\n",
      "169:\tlearn: 0.2749567\ttotal: 1.41s\tremaining: 6.91s\n",
      "170:\tlearn: 0.2749493\ttotal: 1.43s\tremaining: 6.91s\n",
      "171:\tlearn: 0.2749461\ttotal: 1.43s\tremaining: 6.89s\n",
      "172:\tlearn: 0.2749341\ttotal: 1.44s\tremaining: 6.89s\n",
      "173:\tlearn: 0.2749115\ttotal: 1.45s\tremaining: 6.88s\n",
      "174:\tlearn: 0.2749015\ttotal: 1.46s\tremaining: 6.87s\n",
      "175:\tlearn: 0.2748949\ttotal: 1.47s\tremaining: 6.86s\n",
      "176:\tlearn: 0.2748882\ttotal: 1.48s\tremaining: 6.87s\n",
      "177:\tlearn: 0.2748805\ttotal: 1.49s\tremaining: 6.88s\n",
      "178:\tlearn: 0.2748748\ttotal: 1.5s\tremaining: 6.87s\n",
      "179:\tlearn: 0.2748655\ttotal: 1.51s\tremaining: 6.88s\n",
      "180:\tlearn: 0.2748569\ttotal: 1.52s\tremaining: 6.87s\n",
      "181:\tlearn: 0.2748494\ttotal: 1.53s\tremaining: 6.87s\n",
      "182:\tlearn: 0.2748392\ttotal: 1.54s\tremaining: 6.86s\n",
      "183:\tlearn: 0.2748214\ttotal: 1.54s\tremaining: 6.85s\n",
      "184:\tlearn: 0.2748167\ttotal: 1.55s\tremaining: 6.83s\n",
      "185:\tlearn: 0.2747855\ttotal: 1.56s\tremaining: 6.83s\n",
      "186:\tlearn: 0.2747720\ttotal: 1.57s\tremaining: 6.82s\n",
      "187:\tlearn: 0.2747602\ttotal: 1.58s\tremaining: 6.81s\n",
      "188:\tlearn: 0.2747484\ttotal: 1.58s\tremaining: 6.8s\n",
      "189:\tlearn: 0.2747245\ttotal: 1.59s\tremaining: 6.79s\n",
      "190:\tlearn: 0.2747151\ttotal: 1.6s\tremaining: 6.78s\n",
      "191:\tlearn: 0.2746932\ttotal: 1.61s\tremaining: 6.77s\n",
      "192:\tlearn: 0.2746808\ttotal: 1.62s\tremaining: 6.76s\n",
      "193:\tlearn: 0.2746719\ttotal: 1.63s\tremaining: 6.78s\n",
      "194:\tlearn: 0.2746588\ttotal: 1.64s\tremaining: 6.77s\n",
      "195:\tlearn: 0.2746581\ttotal: 1.65s\tremaining: 6.75s\n",
      "196:\tlearn: 0.2746459\ttotal: 1.65s\tremaining: 6.74s\n",
      "197:\tlearn: 0.2746294\ttotal: 1.66s\tremaining: 6.73s\n",
      "198:\tlearn: 0.2746167\ttotal: 1.67s\tremaining: 6.73s\n",
      "199:\tlearn: 0.2746141\ttotal: 1.68s\tremaining: 6.71s\n",
      "200:\tlearn: 0.2746116\ttotal: 1.69s\tremaining: 6.7s\n",
      "201:\tlearn: 0.2746046\ttotal: 1.69s\tremaining: 6.69s\n",
      "202:\tlearn: 0.2745911\ttotal: 1.7s\tremaining: 6.68s\n",
      "203:\tlearn: 0.2745779\ttotal: 1.71s\tremaining: 6.67s\n",
      "204:\tlearn: 0.2745589\ttotal: 1.72s\tremaining: 6.67s\n",
      "205:\tlearn: 0.2745492\ttotal: 1.73s\tremaining: 6.66s\n",
      "206:\tlearn: 0.2745456\ttotal: 1.74s\tremaining: 6.66s\n",
      "207:\tlearn: 0.2745404\ttotal: 1.75s\tremaining: 6.65s\n",
      "208:\tlearn: 0.2745193\ttotal: 1.75s\tremaining: 6.64s\n",
      "209:\tlearn: 0.2745095\ttotal: 1.76s\tremaining: 6.63s\n",
      "210:\tlearn: 0.2745022\ttotal: 1.77s\tremaining: 6.63s\n",
      "211:\tlearn: 0.2744928\ttotal: 1.78s\tremaining: 6.63s\n",
      "212:\tlearn: 0.2744803\ttotal: 1.79s\tremaining: 6.62s\n",
      "213:\tlearn: 0.2744779\ttotal: 1.8s\tremaining: 6.6s\n",
      "214:\tlearn: 0.2744741\ttotal: 1.81s\tremaining: 6.59s\n",
      "215:\tlearn: 0.2744631\ttotal: 1.81s\tremaining: 6.58s\n",
      "216:\tlearn: 0.2744531\ttotal: 1.82s\tremaining: 6.58s\n",
      "217:\tlearn: 0.2744370\ttotal: 1.83s\tremaining: 6.57s\n",
      "218:\tlearn: 0.2743941\ttotal: 1.84s\tremaining: 6.57s\n",
      "219:\tlearn: 0.2743863\ttotal: 1.85s\tremaining: 6.56s\n",
      "220:\tlearn: 0.2743663\ttotal: 1.86s\tremaining: 6.55s\n",
      "221:\tlearn: 0.2743614\ttotal: 1.87s\tremaining: 6.54s\n",
      "222:\tlearn: 0.2743613\ttotal: 1.87s\tremaining: 6.52s\n",
      "223:\tlearn: 0.2743476\ttotal: 1.88s\tremaining: 6.51s\n",
      "224:\tlearn: 0.2743432\ttotal: 1.89s\tremaining: 6.5s\n",
      "225:\tlearn: 0.2743229\ttotal: 1.9s\tremaining: 6.49s\n",
      "226:\tlearn: 0.2743001\ttotal: 1.9s\tremaining: 6.49s\n",
      "227:\tlearn: 0.2742634\ttotal: 1.92s\tremaining: 6.49s\n",
      "228:\tlearn: 0.2742542\ttotal: 1.93s\tremaining: 6.49s\n",
      "229:\tlearn: 0.2742469\ttotal: 1.93s\tremaining: 6.48s\n",
      "230:\tlearn: 0.2742401\ttotal: 1.94s\tremaining: 6.47s\n",
      "231:\tlearn: 0.2742236\ttotal: 1.95s\tremaining: 6.46s\n",
      "232:\tlearn: 0.2742099\ttotal: 1.96s\tremaining: 6.45s\n",
      "233:\tlearn: 0.2741963\ttotal: 1.97s\tremaining: 6.44s\n",
      "234:\tlearn: 0.2741719\ttotal: 1.98s\tremaining: 6.43s\n",
      "235:\tlearn: 0.2741514\ttotal: 1.99s\tremaining: 6.43s\n",
      "236:\tlearn: 0.2741441\ttotal: 1.99s\tremaining: 6.42s\n",
      "237:\tlearn: 0.2741292\ttotal: 2s\tremaining: 6.41s\n",
      "238:\tlearn: 0.2741210\ttotal: 2.01s\tremaining: 6.4s\n",
      "239:\tlearn: 0.2740892\ttotal: 2.02s\tremaining: 6.39s\n",
      "240:\tlearn: 0.2740768\ttotal: 2.03s\tremaining: 6.39s\n",
      "241:\tlearn: 0.2740604\ttotal: 2.04s\tremaining: 6.39s\n",
      "242:\tlearn: 0.2740544\ttotal: 2.05s\tremaining: 6.38s\n",
      "243:\tlearn: 0.2740527\ttotal: 2.06s\tremaining: 6.37s\n",
      "244:\tlearn: 0.2740381\ttotal: 2.06s\tremaining: 6.36s\n",
      "245:\tlearn: 0.2740296\ttotal: 2.07s\tremaining: 6.35s\n",
      "246:\tlearn: 0.2740214\ttotal: 2.08s\tremaining: 6.34s\n",
      "247:\tlearn: 0.2739982\ttotal: 2.09s\tremaining: 6.33s\n",
      "248:\tlearn: 0.2739930\ttotal: 2.1s\tremaining: 6.32s\n",
      "249:\tlearn: 0.2739741\ttotal: 2.1s\tremaining: 6.31s\n",
      "250:\tlearn: 0.2739632\ttotal: 2.12s\tremaining: 6.33s\n",
      "251:\tlearn: 0.2739523\ttotal: 2.13s\tremaining: 6.32s\n",
      "252:\tlearn: 0.2739447\ttotal: 2.14s\tremaining: 6.31s\n",
      "253:\tlearn: 0.2739365\ttotal: 2.14s\tremaining: 6.3s\n",
      "254:\tlearn: 0.2739324\ttotal: 2.15s\tremaining: 6.29s\n",
      "255:\tlearn: 0.2739324\ttotal: 2.16s\tremaining: 6.27s\n",
      "256:\tlearn: 0.2739242\ttotal: 2.17s\tremaining: 6.27s\n",
      "257:\tlearn: 0.2739206\ttotal: 2.18s\tremaining: 6.26s\n",
      "258:\tlearn: 0.2739135\ttotal: 2.19s\tremaining: 6.25s\n",
      "259:\tlearn: 0.2739057\ttotal: 2.19s\tremaining: 6.25s\n",
      "260:\tlearn: 0.2739021\ttotal: 2.2s\tremaining: 6.24s\n",
      "261:\tlearn: 0.2738876\ttotal: 2.21s\tremaining: 6.23s\n",
      "262:\tlearn: 0.2738794\ttotal: 2.22s\tremaining: 6.22s\n",
      "263:\tlearn: 0.2738708\ttotal: 2.23s\tremaining: 6.21s\n",
      "264:\tlearn: 0.2738674\ttotal: 2.23s\tremaining: 6.2s\n",
      "265:\tlearn: 0.2738594\ttotal: 2.25s\tremaining: 6.2s\n",
      "266:\tlearn: 0.2738442\ttotal: 2.26s\tremaining: 6.2s\n",
      "267:\tlearn: 0.2738284\ttotal: 2.27s\tremaining: 6.19s\n",
      "268:\tlearn: 0.2738284\ttotal: 2.27s\tremaining: 6.17s\n",
      "269:\tlearn: 0.2738153\ttotal: 2.28s\tremaining: 6.17s\n",
      "270:\tlearn: 0.2738011\ttotal: 2.29s\tremaining: 6.16s\n",
      "271:\tlearn: 0.2737960\ttotal: 2.3s\tremaining: 6.15s\n",
      "272:\tlearn: 0.2737858\ttotal: 2.31s\tremaining: 6.15s\n",
      "273:\tlearn: 0.2737742\ttotal: 2.32s\tremaining: 6.15s\n",
      "274:\tlearn: 0.2737635\ttotal: 2.33s\tremaining: 6.14s\n",
      "275:\tlearn: 0.2737527\ttotal: 2.34s\tremaining: 6.14s\n",
      "276:\tlearn: 0.2737379\ttotal: 2.35s\tremaining: 6.13s\n",
      "277:\tlearn: 0.2737368\ttotal: 2.36s\tremaining: 6.12s\n",
      "278:\tlearn: 0.2737243\ttotal: 2.37s\tremaining: 6.11s\n",
      "279:\tlearn: 0.2736988\ttotal: 2.37s\tremaining: 6.11s\n",
      "280:\tlearn: 0.2736882\ttotal: 2.38s\tremaining: 6.1s\n",
      "281:\tlearn: 0.2736847\ttotal: 2.39s\tremaining: 6.09s\n",
      "282:\tlearn: 0.2736738\ttotal: 2.4s\tremaining: 6.08s\n",
      "283:\tlearn: 0.2736460\ttotal: 2.41s\tremaining: 6.08s\n",
      "284:\tlearn: 0.2736246\ttotal: 2.42s\tremaining: 6.07s\n",
      "285:\tlearn: 0.2735911\ttotal: 2.43s\tremaining: 6.06s\n",
      "286:\tlearn: 0.2735801\ttotal: 2.44s\tremaining: 6.05s\n",
      "287:\tlearn: 0.2735684\ttotal: 2.45s\tremaining: 6.05s\n",
      "288:\tlearn: 0.2735542\ttotal: 2.46s\tremaining: 6.04s\n",
      "289:\tlearn: 0.2735328\ttotal: 2.47s\tremaining: 6.05s\n",
      "290:\tlearn: 0.2735254\ttotal: 2.48s\tremaining: 6.05s\n",
      "291:\tlearn: 0.2735067\ttotal: 2.49s\tremaining: 6.04s\n",
      "292:\tlearn: 0.2734839\ttotal: 2.5s\tremaining: 6.03s\n",
      "293:\tlearn: 0.2734664\ttotal: 2.51s\tremaining: 6.03s\n",
      "294:\tlearn: 0.2734628\ttotal: 2.51s\tremaining: 6.01s\n",
      "295:\tlearn: 0.2734463\ttotal: 2.53s\tremaining: 6.01s\n",
      "296:\tlearn: 0.2734444\ttotal: 2.53s\tremaining: 6s\n",
      "297:\tlearn: 0.2734385\ttotal: 2.54s\tremaining: 5.98s\n",
      "298:\tlearn: 0.2734269\ttotal: 2.55s\tremaining: 5.97s\n",
      "299:\tlearn: 0.2734103\ttotal: 2.56s\tremaining: 5.97s\n",
      "300:\tlearn: 0.2733872\ttotal: 2.56s\tremaining: 5.96s\n",
      "301:\tlearn: 0.2733780\ttotal: 2.57s\tremaining: 5.95s\n",
      "302:\tlearn: 0.2733661\ttotal: 2.58s\tremaining: 5.94s\n",
      "303:\tlearn: 0.2733650\ttotal: 2.59s\tremaining: 5.92s\n",
      "304:\tlearn: 0.2733549\ttotal: 2.6s\tremaining: 5.92s\n",
      "305:\tlearn: 0.2733517\ttotal: 2.6s\tremaining: 5.91s\n",
      "306:\tlearn: 0.2733517\ttotal: 2.61s\tremaining: 5.89s\n",
      "307:\tlearn: 0.2733417\ttotal: 2.61s\tremaining: 5.88s\n",
      "308:\tlearn: 0.2733413\ttotal: 2.62s\tremaining: 5.86s\n",
      "309:\tlearn: 0.2733386\ttotal: 2.63s\tremaining: 5.85s\n",
      "310:\tlearn: 0.2733285\ttotal: 2.64s\tremaining: 5.84s\n",
      "311:\tlearn: 0.2733285\ttotal: 2.64s\tremaining: 5.82s\n",
      "312:\tlearn: 0.2733150\ttotal: 2.65s\tremaining: 5.82s\n",
      "313:\tlearn: 0.2733031\ttotal: 2.66s\tremaining: 5.81s\n",
      "314:\tlearn: 0.2732865\ttotal: 2.67s\tremaining: 5.8s\n",
      "315:\tlearn: 0.2732768\ttotal: 2.68s\tremaining: 5.8s\n",
      "316:\tlearn: 0.2732602\ttotal: 2.69s\tremaining: 5.79s\n",
      "317:\tlearn: 0.2732476\ttotal: 2.69s\tremaining: 5.78s\n",
      "318:\tlearn: 0.2732264\ttotal: 2.7s\tremaining: 5.77s\n",
      "319:\tlearn: 0.2732117\ttotal: 2.71s\tremaining: 5.76s\n",
      "320:\tlearn: 0.2731908\ttotal: 2.72s\tremaining: 5.75s\n",
      "321:\tlearn: 0.2731728\ttotal: 2.73s\tremaining: 5.75s\n",
      "322:\tlearn: 0.2731578\ttotal: 2.74s\tremaining: 5.74s\n",
      "323:\tlearn: 0.2731263\ttotal: 2.75s\tremaining: 5.74s\n",
      "324:\tlearn: 0.2731140\ttotal: 2.76s\tremaining: 5.73s\n",
      "325:\tlearn: 0.2731091\ttotal: 2.77s\tremaining: 5.72s\n",
      "326:\tlearn: 0.2730965\ttotal: 2.77s\tremaining: 5.71s\n",
      "327:\tlearn: 0.2730879\ttotal: 2.78s\tremaining: 5.7s\n",
      "328:\tlearn: 0.2730668\ttotal: 2.79s\tremaining: 5.69s\n",
      "329:\tlearn: 0.2730535\ttotal: 2.8s\tremaining: 5.68s\n",
      "330:\tlearn: 0.2730416\ttotal: 2.81s\tremaining: 5.67s\n",
      "331:\tlearn: 0.2730301\ttotal: 2.81s\tremaining: 5.67s\n",
      "332:\tlearn: 0.2730282\ttotal: 2.82s\tremaining: 5.65s\n",
      "333:\tlearn: 0.2730127\ttotal: 2.83s\tremaining: 5.64s\n",
      "334:\tlearn: 0.2729836\ttotal: 2.84s\tremaining: 5.64s\n",
      "335:\tlearn: 0.2729704\ttotal: 2.85s\tremaining: 5.63s\n",
      "336:\tlearn: 0.2729674\ttotal: 2.86s\tremaining: 5.63s\n",
      "337:\tlearn: 0.2729533\ttotal: 2.87s\tremaining: 5.62s\n",
      "338:\tlearn: 0.2729334\ttotal: 2.88s\tremaining: 5.61s\n",
      "339:\tlearn: 0.2729215\ttotal: 2.88s\tremaining: 5.6s\n",
      "340:\tlearn: 0.2729023\ttotal: 2.9s\tremaining: 5.59s\n",
      "341:\tlearn: 0.2728845\ttotal: 2.9s\tremaining: 5.59s\n",
      "342:\tlearn: 0.2728769\ttotal: 2.91s\tremaining: 5.58s\n",
      "343:\tlearn: 0.2728566\ttotal: 2.92s\tremaining: 5.57s\n",
      "344:\tlearn: 0.2728425\ttotal: 2.93s\tremaining: 5.56s\n",
      "345:\tlearn: 0.2728088\ttotal: 2.94s\tremaining: 5.55s\n",
      "346:\tlearn: 0.2727901\ttotal: 2.95s\tremaining: 5.55s\n",
      "347:\tlearn: 0.2727645\ttotal: 2.96s\tremaining: 5.55s\n",
      "348:\tlearn: 0.2727486\ttotal: 2.97s\tremaining: 5.54s\n",
      "349:\tlearn: 0.2727332\ttotal: 2.98s\tremaining: 5.53s\n",
      "350:\tlearn: 0.2727171\ttotal: 2.99s\tremaining: 5.52s\n",
      "351:\tlearn: 0.2727046\ttotal: 3s\tremaining: 5.52s\n",
      "352:\tlearn: 0.2726903\ttotal: 3s\tremaining: 5.51s\n",
      "353:\tlearn: 0.2726676\ttotal: 3.02s\tremaining: 5.5s\n",
      "354:\tlearn: 0.2726560\ttotal: 3.02s\tremaining: 5.49s\n",
      "355:\tlearn: 0.2726432\ttotal: 3.03s\tremaining: 5.49s\n",
      "356:\tlearn: 0.2726204\ttotal: 3.04s\tremaining: 5.48s\n",
      "357:\tlearn: 0.2726051\ttotal: 3.05s\tremaining: 5.47s\n",
      "358:\tlearn: 0.2725917\ttotal: 3.06s\tremaining: 5.47s\n",
      "359:\tlearn: 0.2725760\ttotal: 3.07s\tremaining: 5.46s\n",
      "360:\tlearn: 0.2725419\ttotal: 3.08s\tremaining: 5.46s\n",
      "361:\tlearn: 0.2725177\ttotal: 3.09s\tremaining: 5.45s\n",
      "362:\tlearn: 0.2725004\ttotal: 3.1s\tremaining: 5.44s\n",
      "363:\tlearn: 0.2724651\ttotal: 3.11s\tremaining: 5.43s\n",
      "364:\tlearn: 0.2724526\ttotal: 3.12s\tremaining: 5.42s\n",
      "365:\tlearn: 0.2724387\ttotal: 3.13s\tremaining: 5.41s\n",
      "366:\tlearn: 0.2724164\ttotal: 3.13s\tremaining: 5.41s\n",
      "367:\tlearn: 0.2724019\ttotal: 3.15s\tremaining: 5.4s\n",
      "368:\tlearn: 0.2723908\ttotal: 3.15s\tremaining: 5.39s\n",
      "369:\tlearn: 0.2723794\ttotal: 3.16s\tremaining: 5.38s\n",
      "370:\tlearn: 0.2723680\ttotal: 3.17s\tremaining: 5.38s\n",
      "371:\tlearn: 0.2723371\ttotal: 3.18s\tremaining: 5.37s\n",
      "372:\tlearn: 0.2723215\ttotal: 3.19s\tremaining: 5.36s\n",
      "373:\tlearn: 0.2723111\ttotal: 3.2s\tremaining: 5.35s\n",
      "374:\tlearn: 0.2722937\ttotal: 3.21s\tremaining: 5.34s\n",
      "375:\tlearn: 0.2722736\ttotal: 3.21s\tremaining: 5.33s\n",
      "376:\tlearn: 0.2722631\ttotal: 3.22s\tremaining: 5.33s\n",
      "377:\tlearn: 0.2722350\ttotal: 3.23s\tremaining: 5.32s\n",
      "378:\tlearn: 0.2722086\ttotal: 3.24s\tremaining: 5.31s\n",
      "379:\tlearn: 0.2721990\ttotal: 3.25s\tremaining: 5.3s\n",
      "380:\tlearn: 0.2721892\ttotal: 3.26s\tremaining: 5.29s\n",
      "381:\tlearn: 0.2721787\ttotal: 3.27s\tremaining: 5.29s\n",
      "382:\tlearn: 0.2721694\ttotal: 3.28s\tremaining: 5.28s\n",
      "383:\tlearn: 0.2721505\ttotal: 3.29s\tremaining: 5.27s\n",
      "384:\tlearn: 0.2721441\ttotal: 3.29s\tremaining: 5.26s\n",
      "385:\tlearn: 0.2721232\ttotal: 3.3s\tremaining: 5.25s\n",
      "386:\tlearn: 0.2720916\ttotal: 3.31s\tremaining: 5.25s\n",
      "387:\tlearn: 0.2720830\ttotal: 3.32s\tremaining: 5.24s\n",
      "388:\tlearn: 0.2720565\ttotal: 3.33s\tremaining: 5.23s\n",
      "389:\tlearn: 0.2720477\ttotal: 3.34s\tremaining: 5.22s\n",
      "390:\tlearn: 0.2720394\ttotal: 3.35s\tremaining: 5.22s\n",
      "391:\tlearn: 0.2720323\ttotal: 3.36s\tremaining: 5.21s\n",
      "392:\tlearn: 0.2720224\ttotal: 3.37s\tremaining: 5.2s\n",
      "393:\tlearn: 0.2719895\ttotal: 3.38s\tremaining: 5.19s\n",
      "394:\tlearn: 0.2719824\ttotal: 3.38s\tremaining: 5.18s\n",
      "395:\tlearn: 0.2719757\ttotal: 3.39s\tremaining: 5.18s\n",
      "396:\tlearn: 0.2719617\ttotal: 3.4s\tremaining: 5.17s\n",
      "397:\tlearn: 0.2719492\ttotal: 3.41s\tremaining: 5.16s\n",
      "398:\tlearn: 0.2719427\ttotal: 3.42s\tremaining: 5.15s\n",
      "399:\tlearn: 0.2719228\ttotal: 3.43s\tremaining: 5.14s\n",
      "400:\tlearn: 0.2719166\ttotal: 3.44s\tremaining: 5.13s\n",
      "401:\tlearn: 0.2719095\ttotal: 3.45s\tremaining: 5.13s\n",
      "402:\tlearn: 0.2718999\ttotal: 3.46s\tremaining: 5.12s\n",
      "403:\tlearn: 0.2718885\ttotal: 3.47s\tremaining: 5.13s\n",
      "404:\tlearn: 0.2718743\ttotal: 3.48s\tremaining: 5.12s\n",
      "405:\tlearn: 0.2718682\ttotal: 3.49s\tremaining: 5.11s\n",
      "406:\tlearn: 0.2718594\ttotal: 3.5s\tremaining: 5.1s\n",
      "407:\tlearn: 0.2718372\ttotal: 3.51s\tremaining: 5.09s\n",
      "408:\tlearn: 0.2718093\ttotal: 3.52s\tremaining: 5.08s\n",
      "409:\tlearn: 0.2717940\ttotal: 3.53s\tremaining: 5.08s\n",
      "410:\tlearn: 0.2717847\ttotal: 3.54s\tremaining: 5.07s\n",
      "411:\tlearn: 0.2717632\ttotal: 3.55s\tremaining: 5.06s\n",
      "412:\tlearn: 0.2717360\ttotal: 3.56s\tremaining: 5.06s\n",
      "413:\tlearn: 0.2717247\ttotal: 3.57s\tremaining: 5.05s\n",
      "414:\tlearn: 0.2717181\ttotal: 3.57s\tremaining: 5.04s\n",
      "415:\tlearn: 0.2717127\ttotal: 3.58s\tremaining: 5.03s\n",
      "416:\tlearn: 0.2717069\ttotal: 3.59s\tremaining: 5.02s\n",
      "417:\tlearn: 0.2716980\ttotal: 3.6s\tremaining: 5.01s\n",
      "418:\tlearn: 0.2716800\ttotal: 3.61s\tremaining: 5s\n",
      "419:\tlearn: 0.2716663\ttotal: 3.62s\tremaining: 5s\n",
      "420:\tlearn: 0.2716546\ttotal: 3.63s\tremaining: 4.99s\n",
      "421:\tlearn: 0.2716404\ttotal: 3.63s\tremaining: 4.98s\n",
      "422:\tlearn: 0.2716312\ttotal: 3.64s\tremaining: 4.97s\n",
      "423:\tlearn: 0.2716068\ttotal: 3.65s\tremaining: 4.96s\n",
      "424:\tlearn: 0.2715983\ttotal: 3.66s\tremaining: 4.95s\n",
      "425:\tlearn: 0.2715873\ttotal: 3.67s\tremaining: 4.94s\n",
      "426:\tlearn: 0.2715594\ttotal: 3.68s\tremaining: 4.93s\n",
      "427:\tlearn: 0.2715521\ttotal: 3.69s\tremaining: 4.93s\n",
      "428:\tlearn: 0.2715442\ttotal: 3.69s\tremaining: 4.92s\n",
      "429:\tlearn: 0.2715307\ttotal: 3.7s\tremaining: 4.91s\n",
      "430:\tlearn: 0.2715219\ttotal: 3.71s\tremaining: 4.9s\n",
      "431:\tlearn: 0.2714956\ttotal: 3.72s\tremaining: 4.89s\n",
      "432:\tlearn: 0.2714825\ttotal: 3.73s\tremaining: 4.88s\n",
      "433:\tlearn: 0.2714626\ttotal: 3.74s\tremaining: 4.87s\n",
      "434:\tlearn: 0.2714499\ttotal: 3.75s\tremaining: 4.87s\n",
      "435:\tlearn: 0.2714401\ttotal: 3.76s\tremaining: 4.86s\n",
      "436:\tlearn: 0.2714338\ttotal: 3.77s\tremaining: 4.85s\n",
      "437:\tlearn: 0.2714267\ttotal: 3.77s\tremaining: 4.84s\n",
      "438:\tlearn: 0.2714134\ttotal: 3.78s\tremaining: 4.83s\n",
      "439:\tlearn: 0.2713901\ttotal: 3.79s\tremaining: 4.83s\n",
      "440:\tlearn: 0.2713833\ttotal: 3.8s\tremaining: 4.82s\n",
      "441:\tlearn: 0.2713615\ttotal: 3.81s\tremaining: 4.81s\n",
      "442:\tlearn: 0.2713413\ttotal: 3.82s\tremaining: 4.8s\n",
      "443:\tlearn: 0.2713341\ttotal: 3.83s\tremaining: 4.8s\n",
      "444:\tlearn: 0.2713155\ttotal: 3.84s\tremaining: 4.79s\n",
      "445:\tlearn: 0.2713051\ttotal: 3.85s\tremaining: 4.78s\n",
      "446:\tlearn: 0.2712831\ttotal: 3.86s\tremaining: 4.77s\n",
      "447:\tlearn: 0.2712748\ttotal: 3.87s\tremaining: 4.76s\n",
      "448:\tlearn: 0.2712670\ttotal: 3.88s\tremaining: 4.76s\n",
      "449:\tlearn: 0.2712461\ttotal: 3.89s\tremaining: 4.75s\n",
      "450:\tlearn: 0.2712417\ttotal: 3.9s\tremaining: 4.74s\n",
      "451:\tlearn: 0.2712329\ttotal: 3.9s\tremaining: 4.73s\n",
      "452:\tlearn: 0.2712231\ttotal: 3.91s\tremaining: 4.72s\n",
      "453:\tlearn: 0.2712100\ttotal: 3.92s\tremaining: 4.71s\n",
      "454:\tlearn: 0.2712006\ttotal: 3.93s\tremaining: 4.71s\n",
      "455:\tlearn: 0.2711896\ttotal: 3.94s\tremaining: 4.7s\n",
      "456:\tlearn: 0.2711703\ttotal: 3.95s\tremaining: 4.69s\n",
      "457:\tlearn: 0.2711608\ttotal: 3.96s\tremaining: 4.68s\n",
      "458:\tlearn: 0.2711511\ttotal: 3.97s\tremaining: 4.68s\n",
      "459:\tlearn: 0.2711434\ttotal: 3.98s\tremaining: 4.67s\n",
      "460:\tlearn: 0.2711280\ttotal: 3.98s\tremaining: 4.66s\n",
      "461:\tlearn: 0.2711093\ttotal: 3.99s\tremaining: 4.65s\n",
      "462:\tlearn: 0.2710986\ttotal: 4s\tremaining: 4.64s\n",
      "463:\tlearn: 0.2710928\ttotal: 4.01s\tremaining: 4.63s\n",
      "464:\tlearn: 0.2710799\ttotal: 4.02s\tremaining: 4.63s\n",
      "465:\tlearn: 0.2710743\ttotal: 4.03s\tremaining: 4.62s\n",
      "466:\tlearn: 0.2710655\ttotal: 4.04s\tremaining: 4.61s\n",
      "467:\tlearn: 0.2710564\ttotal: 4.04s\tremaining: 4.6s\n",
      "468:\tlearn: 0.2710524\ttotal: 4.05s\tremaining: 4.59s\n",
      "469:\tlearn: 0.2710321\ttotal: 4.06s\tremaining: 4.58s\n",
      "470:\tlearn: 0.2710155\ttotal: 4.07s\tremaining: 4.57s\n",
      "471:\tlearn: 0.2709967\ttotal: 4.08s\tremaining: 4.57s\n",
      "472:\tlearn: 0.2709912\ttotal: 4.09s\tremaining: 4.56s\n",
      "473:\tlearn: 0.2709790\ttotal: 4.1s\tremaining: 4.55s\n",
      "474:\tlearn: 0.2709590\ttotal: 4.11s\tremaining: 4.54s\n",
      "475:\tlearn: 0.2709474\ttotal: 4.12s\tremaining: 4.53s\n",
      "476:\tlearn: 0.2709408\ttotal: 4.12s\tremaining: 4.52s\n",
      "477:\tlearn: 0.2709312\ttotal: 4.13s\tremaining: 4.51s\n",
      "478:\tlearn: 0.2709195\ttotal: 4.14s\tremaining: 4.5s\n",
      "479:\tlearn: 0.2709128\ttotal: 4.15s\tremaining: 4.5s\n",
      "480:\tlearn: 0.2709042\ttotal: 4.16s\tremaining: 4.49s\n",
      "481:\tlearn: 0.2708953\ttotal: 4.17s\tremaining: 4.48s\n",
      "482:\tlearn: 0.2708835\ttotal: 4.18s\tremaining: 4.47s\n",
      "483:\tlearn: 0.2708762\ttotal: 4.19s\tremaining: 4.46s\n",
      "484:\tlearn: 0.2708645\ttotal: 4.2s\tremaining: 4.46s\n",
      "485:\tlearn: 0.2708486\ttotal: 4.2s\tremaining: 4.45s\n",
      "486:\tlearn: 0.2708398\ttotal: 4.21s\tremaining: 4.44s\n",
      "487:\tlearn: 0.2708276\ttotal: 4.22s\tremaining: 4.43s\n",
      "488:\tlearn: 0.2708105\ttotal: 4.23s\tremaining: 4.42s\n",
      "489:\tlearn: 0.2707973\ttotal: 4.24s\tremaining: 4.41s\n",
      "490:\tlearn: 0.2707819\ttotal: 4.25s\tremaining: 4.4s\n",
      "491:\tlearn: 0.2707710\ttotal: 4.25s\tremaining: 4.39s\n",
      "492:\tlearn: 0.2707645\ttotal: 4.26s\tremaining: 4.38s\n",
      "493:\tlearn: 0.2707476\ttotal: 4.27s\tremaining: 4.38s\n",
      "494:\tlearn: 0.2707416\ttotal: 4.29s\tremaining: 4.37s\n",
      "495:\tlearn: 0.2707226\ttotal: 4.3s\tremaining: 4.37s\n",
      "496:\tlearn: 0.2707077\ttotal: 4.3s\tremaining: 4.36s\n",
      "497:\tlearn: 0.2706982\ttotal: 4.32s\tremaining: 4.35s\n",
      "498:\tlearn: 0.2706861\ttotal: 4.32s\tremaining: 4.34s\n",
      "499:\tlearn: 0.2706778\ttotal: 4.33s\tremaining: 4.33s\n",
      "500:\tlearn: 0.2706675\ttotal: 4.34s\tremaining: 4.32s\n",
      "501:\tlearn: 0.2706580\ttotal: 4.35s\tremaining: 4.32s\n",
      "502:\tlearn: 0.2706399\ttotal: 4.36s\tremaining: 4.31s\n",
      "503:\tlearn: 0.2706143\ttotal: 4.37s\tremaining: 4.3s\n",
      "504:\tlearn: 0.2706038\ttotal: 4.38s\tremaining: 4.29s\n",
      "505:\tlearn: 0.2705969\ttotal: 4.39s\tremaining: 4.28s\n",
      "506:\tlearn: 0.2705850\ttotal: 4.4s\tremaining: 4.28s\n",
      "507:\tlearn: 0.2705642\ttotal: 4.41s\tremaining: 4.27s\n",
      "508:\tlearn: 0.2705584\ttotal: 4.41s\tremaining: 4.26s\n",
      "509:\tlearn: 0.2705526\ttotal: 4.42s\tremaining: 4.25s\n",
      "510:\tlearn: 0.2705437\ttotal: 4.43s\tremaining: 4.24s\n",
      "511:\tlearn: 0.2705285\ttotal: 4.44s\tremaining: 4.23s\n",
      "512:\tlearn: 0.2705092\ttotal: 4.45s\tremaining: 4.22s\n",
      "513:\tlearn: 0.2704956\ttotal: 4.46s\tremaining: 4.22s\n",
      "514:\tlearn: 0.2704829\ttotal: 4.47s\tremaining: 4.21s\n",
      "515:\tlearn: 0.2704771\ttotal: 4.48s\tremaining: 4.2s\n",
      "516:\tlearn: 0.2704638\ttotal: 4.5s\tremaining: 4.2s\n",
      "517:\tlearn: 0.2704594\ttotal: 4.5s\tremaining: 4.19s\n",
      "518:\tlearn: 0.2704522\ttotal: 4.51s\tremaining: 4.18s\n",
      "519:\tlearn: 0.2704487\ttotal: 4.52s\tremaining: 4.17s\n",
      "520:\tlearn: 0.2704405\ttotal: 4.53s\tremaining: 4.17s\n",
      "521:\tlearn: 0.2704231\ttotal: 4.54s\tremaining: 4.16s\n",
      "522:\tlearn: 0.2704202\ttotal: 4.55s\tremaining: 4.15s\n",
      "523:\tlearn: 0.2704147\ttotal: 4.56s\tremaining: 4.14s\n",
      "524:\tlearn: 0.2704007\ttotal: 4.57s\tremaining: 4.14s\n",
      "525:\tlearn: 0.2703937\ttotal: 4.58s\tremaining: 4.13s\n",
      "526:\tlearn: 0.2703875\ttotal: 4.59s\tremaining: 4.12s\n",
      "527:\tlearn: 0.2703611\ttotal: 4.6s\tremaining: 4.11s\n",
      "528:\tlearn: 0.2703590\ttotal: 4.61s\tremaining: 4.1s\n",
      "529:\tlearn: 0.2703546\ttotal: 4.61s\tremaining: 4.09s\n",
      "530:\tlearn: 0.2703494\ttotal: 4.62s\tremaining: 4.08s\n",
      "531:\tlearn: 0.2703390\ttotal: 4.63s\tremaining: 4.07s\n",
      "532:\tlearn: 0.2703256\ttotal: 4.64s\tremaining: 4.07s\n",
      "533:\tlearn: 0.2703129\ttotal: 4.65s\tremaining: 4.06s\n",
      "534:\tlearn: 0.2703090\ttotal: 4.66s\tremaining: 4.05s\n",
      "535:\tlearn: 0.2702941\ttotal: 4.67s\tremaining: 4.04s\n",
      "536:\tlearn: 0.2702797\ttotal: 4.67s\tremaining: 4.03s\n",
      "537:\tlearn: 0.2702665\ttotal: 4.68s\tremaining: 4.02s\n",
      "538:\tlearn: 0.2702634\ttotal: 4.69s\tremaining: 4.01s\n",
      "539:\tlearn: 0.2702509\ttotal: 4.71s\tremaining: 4.01s\n",
      "540:\tlearn: 0.2702415\ttotal: 4.72s\tremaining: 4s\n",
      "541:\tlearn: 0.2702320\ttotal: 4.72s\tremaining: 3.99s\n",
      "542:\tlearn: 0.2702225\ttotal: 4.73s\tremaining: 3.98s\n",
      "543:\tlearn: 0.2702159\ttotal: 4.74s\tremaining: 3.98s\n",
      "544:\tlearn: 0.2702097\ttotal: 4.76s\tremaining: 3.97s\n",
      "545:\tlearn: 0.2702019\ttotal: 4.76s\tremaining: 3.96s\n",
      "546:\tlearn: 0.2701962\ttotal: 4.77s\tremaining: 3.95s\n",
      "547:\tlearn: 0.2701749\ttotal: 4.78s\tremaining: 3.94s\n",
      "548:\tlearn: 0.2701644\ttotal: 4.79s\tremaining: 3.94s\n",
      "549:\tlearn: 0.2701564\ttotal: 4.8s\tremaining: 3.93s\n",
      "550:\tlearn: 0.2701525\ttotal: 4.81s\tremaining: 3.92s\n",
      "551:\tlearn: 0.2701479\ttotal: 4.82s\tremaining: 3.91s\n",
      "552:\tlearn: 0.2701408\ttotal: 4.83s\tremaining: 3.9s\n",
      "553:\tlearn: 0.2701338\ttotal: 4.83s\tremaining: 3.89s\n",
      "554:\tlearn: 0.2701247\ttotal: 4.84s\tremaining: 3.88s\n",
      "555:\tlearn: 0.2701209\ttotal: 4.85s\tremaining: 3.88s\n",
      "556:\tlearn: 0.2701117\ttotal: 4.86s\tremaining: 3.87s\n",
      "557:\tlearn: 0.2701014\ttotal: 4.87s\tremaining: 3.86s\n",
      "558:\tlearn: 0.2700796\ttotal: 4.88s\tremaining: 3.85s\n",
      "559:\tlearn: 0.2700689\ttotal: 4.89s\tremaining: 3.84s\n",
      "560:\tlearn: 0.2700621\ttotal: 4.9s\tremaining: 3.83s\n",
      "561:\tlearn: 0.2700542\ttotal: 4.91s\tremaining: 3.82s\n",
      "562:\tlearn: 0.2700438\ttotal: 4.91s\tremaining: 3.81s\n",
      "563:\tlearn: 0.2700336\ttotal: 4.92s\tremaining: 3.81s\n",
      "564:\tlearn: 0.2700212\ttotal: 4.93s\tremaining: 3.8s\n",
      "565:\tlearn: 0.2699999\ttotal: 4.94s\tremaining: 3.79s\n",
      "566:\tlearn: 0.2699898\ttotal: 4.95s\tremaining: 3.78s\n",
      "567:\tlearn: 0.2699779\ttotal: 4.96s\tremaining: 3.77s\n",
      "568:\tlearn: 0.2699706\ttotal: 4.97s\tremaining: 3.76s\n",
      "569:\tlearn: 0.2699583\ttotal: 4.98s\tremaining: 3.75s\n",
      "570:\tlearn: 0.2699525\ttotal: 4.99s\tremaining: 3.75s\n",
      "571:\tlearn: 0.2699429\ttotal: 4.99s\tremaining: 3.74s\n",
      "572:\tlearn: 0.2699316\ttotal: 5s\tremaining: 3.73s\n",
      "573:\tlearn: 0.2699213\ttotal: 5.01s\tremaining: 3.72s\n",
      "574:\tlearn: 0.2699185\ttotal: 5.02s\tremaining: 3.71s\n",
      "575:\tlearn: 0.2699151\ttotal: 5.03s\tremaining: 3.7s\n",
      "576:\tlearn: 0.2699045\ttotal: 5.04s\tremaining: 3.69s\n",
      "577:\tlearn: 0.2698977\ttotal: 5.05s\tremaining: 3.68s\n",
      "578:\tlearn: 0.2698919\ttotal: 5.05s\tremaining: 3.67s\n",
      "579:\tlearn: 0.2698704\ttotal: 5.06s\tremaining: 3.67s\n",
      "580:\tlearn: 0.2698529\ttotal: 5.07s\tremaining: 3.66s\n",
      "581:\tlearn: 0.2698471\ttotal: 5.08s\tremaining: 3.65s\n",
      "582:\tlearn: 0.2698390\ttotal: 5.09s\tremaining: 3.64s\n",
      "583:\tlearn: 0.2698267\ttotal: 5.11s\tremaining: 3.64s\n",
      "584:\tlearn: 0.2698228\ttotal: 5.11s\tremaining: 3.63s\n",
      "585:\tlearn: 0.2698170\ttotal: 5.12s\tremaining: 3.62s\n",
      "586:\tlearn: 0.2698075\ttotal: 5.13s\tremaining: 3.61s\n",
      "587:\tlearn: 0.2698008\ttotal: 5.14s\tremaining: 3.6s\n",
      "588:\tlearn: 0.2697904\ttotal: 5.15s\tremaining: 3.59s\n",
      "589:\tlearn: 0.2697808\ttotal: 5.16s\tremaining: 3.58s\n",
      "590:\tlearn: 0.2697642\ttotal: 5.17s\tremaining: 3.58s\n",
      "591:\tlearn: 0.2697576\ttotal: 5.18s\tremaining: 3.57s\n",
      "592:\tlearn: 0.2697540\ttotal: 5.19s\tremaining: 3.56s\n",
      "593:\tlearn: 0.2697482\ttotal: 5.2s\tremaining: 3.55s\n",
      "594:\tlearn: 0.2697322\ttotal: 5.2s\tremaining: 3.54s\n",
      "595:\tlearn: 0.2697238\ttotal: 5.21s\tremaining: 3.53s\n",
      "596:\tlearn: 0.2697202\ttotal: 5.22s\tremaining: 3.52s\n",
      "597:\tlearn: 0.2697147\ttotal: 5.23s\tremaining: 3.52s\n",
      "598:\tlearn: 0.2697061\ttotal: 5.24s\tremaining: 3.51s\n",
      "599:\tlearn: 0.2696926\ttotal: 5.25s\tremaining: 3.5s\n",
      "600:\tlearn: 0.2696730\ttotal: 5.25s\tremaining: 3.49s\n",
      "601:\tlearn: 0.2696698\ttotal: 5.26s\tremaining: 3.48s\n",
      "602:\tlearn: 0.2696598\ttotal: 5.27s\tremaining: 3.47s\n",
      "603:\tlearn: 0.2696480\ttotal: 5.28s\tremaining: 3.46s\n",
      "604:\tlearn: 0.2696271\ttotal: 5.29s\tremaining: 3.45s\n",
      "605:\tlearn: 0.2696208\ttotal: 5.3s\tremaining: 3.44s\n",
      "606:\tlearn: 0.2696026\ttotal: 5.31s\tremaining: 3.44s\n",
      "607:\tlearn: 0.2695967\ttotal: 5.32s\tremaining: 3.43s\n",
      "608:\tlearn: 0.2695862\ttotal: 5.33s\tremaining: 3.42s\n",
      "609:\tlearn: 0.2695770\ttotal: 5.33s\tremaining: 3.41s\n",
      "610:\tlearn: 0.2695662\ttotal: 5.34s\tremaining: 3.4s\n",
      "611:\tlearn: 0.2695590\ttotal: 5.35s\tremaining: 3.39s\n",
      "612:\tlearn: 0.2695501\ttotal: 5.36s\tremaining: 3.39s\n",
      "613:\tlearn: 0.2695336\ttotal: 5.37s\tremaining: 3.38s\n",
      "614:\tlearn: 0.2695230\ttotal: 5.38s\tremaining: 3.37s\n",
      "615:\tlearn: 0.2695173\ttotal: 5.39s\tremaining: 3.36s\n",
      "616:\tlearn: 0.2695119\ttotal: 5.4s\tremaining: 3.35s\n",
      "617:\tlearn: 0.2695075\ttotal: 5.41s\tremaining: 3.34s\n",
      "618:\tlearn: 0.2694962\ttotal: 5.42s\tremaining: 3.33s\n",
      "619:\tlearn: 0.2694885\ttotal: 5.43s\tremaining: 3.33s\n",
      "620:\tlearn: 0.2694821\ttotal: 5.44s\tremaining: 3.32s\n",
      "621:\tlearn: 0.2694748\ttotal: 5.45s\tremaining: 3.31s\n",
      "622:\tlearn: 0.2694709\ttotal: 5.46s\tremaining: 3.31s\n",
      "623:\tlearn: 0.2694641\ttotal: 5.47s\tremaining: 3.3s\n",
      "624:\tlearn: 0.2694594\ttotal: 5.48s\tremaining: 3.29s\n",
      "625:\tlearn: 0.2694497\ttotal: 5.49s\tremaining: 3.28s\n",
      "626:\tlearn: 0.2694432\ttotal: 5.5s\tremaining: 3.27s\n",
      "627:\tlearn: 0.2694397\ttotal: 5.51s\tremaining: 3.27s\n",
      "628:\tlearn: 0.2694316\ttotal: 5.52s\tremaining: 3.26s\n",
      "629:\tlearn: 0.2694248\ttotal: 5.53s\tremaining: 3.25s\n",
      "630:\tlearn: 0.2694200\ttotal: 5.54s\tremaining: 3.24s\n",
      "631:\tlearn: 0.2694164\ttotal: 5.55s\tremaining: 3.23s\n",
      "632:\tlearn: 0.2694063\ttotal: 5.56s\tremaining: 3.22s\n",
      "633:\tlearn: 0.2693986\ttotal: 5.57s\tremaining: 3.22s\n",
      "634:\tlearn: 0.2693885\ttotal: 5.58s\tremaining: 3.21s\n",
      "635:\tlearn: 0.2693836\ttotal: 5.59s\tremaining: 3.2s\n",
      "636:\tlearn: 0.2693633\ttotal: 5.6s\tremaining: 3.19s\n",
      "637:\tlearn: 0.2693591\ttotal: 5.61s\tremaining: 3.18s\n",
      "638:\tlearn: 0.2693395\ttotal: 5.61s\tremaining: 3.17s\n",
      "639:\tlearn: 0.2693342\ttotal: 5.62s\tremaining: 3.16s\n",
      "640:\tlearn: 0.2693292\ttotal: 5.63s\tremaining: 3.15s\n",
      "641:\tlearn: 0.2693198\ttotal: 5.64s\tremaining: 3.14s\n",
      "642:\tlearn: 0.2693137\ttotal: 5.65s\tremaining: 3.13s\n",
      "643:\tlearn: 0.2693082\ttotal: 5.66s\tremaining: 3.13s\n",
      "644:\tlearn: 0.2692934\ttotal: 5.67s\tremaining: 3.12s\n",
      "645:\tlearn: 0.2692802\ttotal: 5.67s\tremaining: 3.11s\n",
      "646:\tlearn: 0.2692768\ttotal: 5.68s\tremaining: 3.1s\n",
      "647:\tlearn: 0.2692606\ttotal: 5.69s\tremaining: 3.09s\n",
      "648:\tlearn: 0.2692574\ttotal: 5.7s\tremaining: 3.08s\n",
      "649:\tlearn: 0.2692527\ttotal: 5.71s\tremaining: 3.07s\n",
      "650:\tlearn: 0.2692445\ttotal: 5.72s\tremaining: 3.06s\n",
      "651:\tlearn: 0.2692375\ttotal: 5.73s\tremaining: 3.06s\n",
      "652:\tlearn: 0.2692257\ttotal: 5.74s\tremaining: 3.05s\n",
      "653:\tlearn: 0.2692188\ttotal: 5.74s\tremaining: 3.04s\n",
      "654:\tlearn: 0.2692127\ttotal: 5.75s\tremaining: 3.03s\n",
      "655:\tlearn: 0.2692059\ttotal: 5.76s\tremaining: 3.02s\n",
      "656:\tlearn: 0.2692029\ttotal: 5.77s\tremaining: 3.01s\n",
      "657:\tlearn: 0.2692004\ttotal: 5.78s\tremaining: 3s\n",
      "658:\tlearn: 0.2691871\ttotal: 5.79s\tremaining: 3s\n",
      "659:\tlearn: 0.2691822\ttotal: 5.8s\tremaining: 2.99s\n",
      "660:\tlearn: 0.2691748\ttotal: 5.81s\tremaining: 2.98s\n",
      "661:\tlearn: 0.2691717\ttotal: 5.82s\tremaining: 2.97s\n",
      "662:\tlearn: 0.2691619\ttotal: 5.83s\tremaining: 2.96s\n",
      "663:\tlearn: 0.2691529\ttotal: 5.83s\tremaining: 2.95s\n",
      "664:\tlearn: 0.2691475\ttotal: 5.84s\tremaining: 2.94s\n",
      "665:\tlearn: 0.2691413\ttotal: 5.85s\tremaining: 2.93s\n",
      "666:\tlearn: 0.2691222\ttotal: 5.86s\tremaining: 2.92s\n",
      "667:\tlearn: 0.2691135\ttotal: 5.87s\tremaining: 2.92s\n",
      "668:\tlearn: 0.2691048\ttotal: 5.88s\tremaining: 2.91s\n",
      "669:\tlearn: 0.2691016\ttotal: 5.89s\tremaining: 2.9s\n",
      "670:\tlearn: 0.2690987\ttotal: 5.89s\tremaining: 2.89s\n",
      "671:\tlearn: 0.2690886\ttotal: 5.9s\tremaining: 2.88s\n",
      "672:\tlearn: 0.2690828\ttotal: 5.91s\tremaining: 2.87s\n",
      "673:\tlearn: 0.2690776\ttotal: 5.92s\tremaining: 2.87s\n",
      "674:\tlearn: 0.2690634\ttotal: 5.93s\tremaining: 2.86s\n",
      "675:\tlearn: 0.2690488\ttotal: 5.94s\tremaining: 2.85s\n",
      "676:\tlearn: 0.2690400\ttotal: 5.95s\tremaining: 2.84s\n",
      "677:\tlearn: 0.2690365\ttotal: 5.96s\tremaining: 2.83s\n",
      "678:\tlearn: 0.2690311\ttotal: 5.96s\tremaining: 2.82s\n",
      "679:\tlearn: 0.2690208\ttotal: 5.98s\tremaining: 2.81s\n",
      "680:\tlearn: 0.2690180\ttotal: 5.99s\tremaining: 2.8s\n",
      "681:\tlearn: 0.2690085\ttotal: 6s\tremaining: 2.79s\n",
      "682:\tlearn: 0.2690033\ttotal: 6s\tremaining: 2.79s\n",
      "683:\tlearn: 0.2689967\ttotal: 6.01s\tremaining: 2.78s\n",
      "684:\tlearn: 0.2689885\ttotal: 6.02s\tremaining: 2.77s\n",
      "685:\tlearn: 0.2689827\ttotal: 6.03s\tremaining: 2.76s\n",
      "686:\tlearn: 0.2689746\ttotal: 6.04s\tremaining: 2.75s\n",
      "687:\tlearn: 0.2689714\ttotal: 6.05s\tremaining: 2.74s\n",
      "688:\tlearn: 0.2689673\ttotal: 6.05s\tremaining: 2.73s\n",
      "689:\tlearn: 0.2689493\ttotal: 6.06s\tremaining: 2.72s\n",
      "690:\tlearn: 0.2689328\ttotal: 6.07s\tremaining: 2.71s\n",
      "691:\tlearn: 0.2689132\ttotal: 6.08s\tremaining: 2.71s\n",
      "692:\tlearn: 0.2689042\ttotal: 6.09s\tremaining: 2.7s\n",
      "693:\tlearn: 0.2688971\ttotal: 6.1s\tremaining: 2.69s\n",
      "694:\tlearn: 0.2688860\ttotal: 6.11s\tremaining: 2.68s\n",
      "695:\tlearn: 0.2688753\ttotal: 6.11s\tremaining: 2.67s\n",
      "696:\tlearn: 0.2688676\ttotal: 6.13s\tremaining: 2.67s\n",
      "697:\tlearn: 0.2688589\ttotal: 6.14s\tremaining: 2.66s\n",
      "698:\tlearn: 0.2688399\ttotal: 6.15s\tremaining: 2.65s\n",
      "699:\tlearn: 0.2688319\ttotal: 6.16s\tremaining: 2.64s\n",
      "700:\tlearn: 0.2688284\ttotal: 6.17s\tremaining: 2.63s\n",
      "701:\tlearn: 0.2688247\ttotal: 6.18s\tremaining: 2.62s\n",
      "702:\tlearn: 0.2688167\ttotal: 6.19s\tremaining: 2.61s\n",
      "703:\tlearn: 0.2688115\ttotal: 6.2s\tremaining: 2.6s\n",
      "704:\tlearn: 0.2687974\ttotal: 6.21s\tremaining: 2.6s\n",
      "705:\tlearn: 0.2687934\ttotal: 6.21s\tremaining: 2.59s\n",
      "706:\tlearn: 0.2687827\ttotal: 6.22s\tremaining: 2.58s\n",
      "707:\tlearn: 0.2687725\ttotal: 6.23s\tremaining: 2.57s\n",
      "708:\tlearn: 0.2687665\ttotal: 6.24s\tremaining: 2.56s\n",
      "709:\tlearn: 0.2687590\ttotal: 6.25s\tremaining: 2.55s\n",
      "710:\tlearn: 0.2687526\ttotal: 6.26s\tremaining: 2.54s\n",
      "711:\tlearn: 0.2687450\ttotal: 6.27s\tremaining: 2.54s\n",
      "712:\tlearn: 0.2687356\ttotal: 6.28s\tremaining: 2.53s\n",
      "713:\tlearn: 0.2687310\ttotal: 6.28s\tremaining: 2.52s\n",
      "714:\tlearn: 0.2687269\ttotal: 6.29s\tremaining: 2.51s\n",
      "715:\tlearn: 0.2687172\ttotal: 6.3s\tremaining: 2.5s\n",
      "716:\tlearn: 0.2687141\ttotal: 6.31s\tremaining: 2.49s\n",
      "717:\tlearn: 0.2687067\ttotal: 6.32s\tremaining: 2.48s\n",
      "718:\tlearn: 0.2686964\ttotal: 6.33s\tremaining: 2.47s\n",
      "719:\tlearn: 0.2686942\ttotal: 6.34s\tremaining: 2.46s\n",
      "720:\tlearn: 0.2686837\ttotal: 6.35s\tremaining: 2.46s\n",
      "721:\tlearn: 0.2686805\ttotal: 6.36s\tremaining: 2.45s\n",
      "722:\tlearn: 0.2686751\ttotal: 6.37s\tremaining: 2.44s\n",
      "723:\tlearn: 0.2686698\ttotal: 6.38s\tremaining: 2.43s\n",
      "724:\tlearn: 0.2686659\ttotal: 6.39s\tremaining: 2.42s\n",
      "725:\tlearn: 0.2686633\ttotal: 6.4s\tremaining: 2.41s\n",
      "726:\tlearn: 0.2686558\ttotal: 6.41s\tremaining: 2.4s\n",
      "727:\tlearn: 0.2686506\ttotal: 6.41s\tremaining: 2.4s\n",
      "728:\tlearn: 0.2686420\ttotal: 6.42s\tremaining: 2.39s\n",
      "729:\tlearn: 0.2686343\ttotal: 6.43s\tremaining: 2.38s\n",
      "730:\tlearn: 0.2686178\ttotal: 6.44s\tremaining: 2.37s\n",
      "731:\tlearn: 0.2686095\ttotal: 6.46s\tremaining: 2.36s\n",
      "732:\tlearn: 0.2685974\ttotal: 6.46s\tremaining: 2.35s\n",
      "733:\tlearn: 0.2685927\ttotal: 6.47s\tremaining: 2.35s\n",
      "734:\tlearn: 0.2685862\ttotal: 6.48s\tremaining: 2.34s\n",
      "735:\tlearn: 0.2685781\ttotal: 6.49s\tremaining: 2.33s\n",
      "736:\tlearn: 0.2685628\ttotal: 6.5s\tremaining: 2.32s\n",
      "737:\tlearn: 0.2685488\ttotal: 6.51s\tremaining: 2.31s\n",
      "738:\tlearn: 0.2685405\ttotal: 6.51s\tremaining: 2.3s\n",
      "739:\tlearn: 0.2685313\ttotal: 6.52s\tremaining: 2.29s\n",
      "740:\tlearn: 0.2685231\ttotal: 6.53s\tremaining: 2.28s\n",
      "741:\tlearn: 0.2685160\ttotal: 6.54s\tremaining: 2.27s\n",
      "742:\tlearn: 0.2685087\ttotal: 6.55s\tremaining: 2.27s\n",
      "743:\tlearn: 0.2684839\ttotal: 6.56s\tremaining: 2.26s\n",
      "744:\tlearn: 0.2684674\ttotal: 6.57s\tremaining: 2.25s\n",
      "745:\tlearn: 0.2684600\ttotal: 6.58s\tremaining: 2.24s\n",
      "746:\tlearn: 0.2684511\ttotal: 6.59s\tremaining: 2.23s\n",
      "747:\tlearn: 0.2684462\ttotal: 6.6s\tremaining: 2.22s\n",
      "748:\tlearn: 0.2684404\ttotal: 6.61s\tremaining: 2.21s\n",
      "749:\tlearn: 0.2684322\ttotal: 6.62s\tremaining: 2.21s\n",
      "750:\tlearn: 0.2684299\ttotal: 6.63s\tremaining: 2.2s\n",
      "751:\tlearn: 0.2684234\ttotal: 6.63s\tremaining: 2.19s\n",
      "752:\tlearn: 0.2684202\ttotal: 6.64s\tremaining: 2.18s\n",
      "753:\tlearn: 0.2684068\ttotal: 6.65s\tremaining: 2.17s\n",
      "754:\tlearn: 0.2684014\ttotal: 6.66s\tremaining: 2.16s\n",
      "755:\tlearn: 0.2683984\ttotal: 6.67s\tremaining: 2.15s\n",
      "756:\tlearn: 0.2683947\ttotal: 6.68s\tremaining: 2.14s\n",
      "757:\tlearn: 0.2683893\ttotal: 6.69s\tremaining: 2.13s\n",
      "758:\tlearn: 0.2683806\ttotal: 6.69s\tremaining: 2.13s\n",
      "759:\tlearn: 0.2683711\ttotal: 6.7s\tremaining: 2.12s\n",
      "760:\tlearn: 0.2683519\ttotal: 6.71s\tremaining: 2.11s\n",
      "761:\tlearn: 0.2683451\ttotal: 6.72s\tremaining: 2.1s\n",
      "762:\tlearn: 0.2683405\ttotal: 6.73s\tremaining: 2.09s\n",
      "763:\tlearn: 0.2683331\ttotal: 6.74s\tremaining: 2.08s\n",
      "764:\tlearn: 0.2683241\ttotal: 6.75s\tremaining: 2.07s\n",
      "765:\tlearn: 0.2683196\ttotal: 6.76s\tremaining: 2.06s\n",
      "766:\tlearn: 0.2683108\ttotal: 6.77s\tremaining: 2.06s\n",
      "767:\tlearn: 0.2683012\ttotal: 6.78s\tremaining: 2.05s\n",
      "768:\tlearn: 0.2682993\ttotal: 6.79s\tremaining: 2.04s\n",
      "769:\tlearn: 0.2682933\ttotal: 6.8s\tremaining: 2.03s\n",
      "770:\tlearn: 0.2682864\ttotal: 6.8s\tremaining: 2.02s\n",
      "771:\tlearn: 0.2682846\ttotal: 6.81s\tremaining: 2.01s\n",
      "772:\tlearn: 0.2682784\ttotal: 6.82s\tremaining: 2s\n",
      "773:\tlearn: 0.2682702\ttotal: 6.83s\tremaining: 1.99s\n",
      "774:\tlearn: 0.2682650\ttotal: 6.84s\tremaining: 1.99s\n",
      "775:\tlearn: 0.2682596\ttotal: 6.85s\tremaining: 1.98s\n",
      "776:\tlearn: 0.2682459\ttotal: 6.86s\tremaining: 1.97s\n",
      "777:\tlearn: 0.2682403\ttotal: 6.87s\tremaining: 1.96s\n",
      "778:\tlearn: 0.2682378\ttotal: 6.87s\tremaining: 1.95s\n",
      "779:\tlearn: 0.2682222\ttotal: 6.88s\tremaining: 1.94s\n",
      "780:\tlearn: 0.2682151\ttotal: 6.89s\tremaining: 1.93s\n",
      "781:\tlearn: 0.2682074\ttotal: 6.9s\tremaining: 1.92s\n",
      "782:\tlearn: 0.2682013\ttotal: 6.91s\tremaining: 1.91s\n",
      "783:\tlearn: 0.2681971\ttotal: 6.92s\tremaining: 1.91s\n",
      "784:\tlearn: 0.2681888\ttotal: 6.92s\tremaining: 1.9s\n",
      "785:\tlearn: 0.2681850\ttotal: 6.93s\tremaining: 1.89s\n",
      "786:\tlearn: 0.2681808\ttotal: 6.94s\tremaining: 1.88s\n",
      "787:\tlearn: 0.2681757\ttotal: 6.96s\tremaining: 1.87s\n",
      "788:\tlearn: 0.2681712\ttotal: 6.96s\tremaining: 1.86s\n",
      "789:\tlearn: 0.2681591\ttotal: 6.97s\tremaining: 1.85s\n",
      "790:\tlearn: 0.2681524\ttotal: 6.98s\tremaining: 1.84s\n",
      "791:\tlearn: 0.2681452\ttotal: 6.99s\tremaining: 1.84s\n",
      "792:\tlearn: 0.2681410\ttotal: 7s\tremaining: 1.83s\n",
      "793:\tlearn: 0.2681364\ttotal: 7.01s\tremaining: 1.82s\n",
      "794:\tlearn: 0.2681322\ttotal: 7.02s\tremaining: 1.81s\n",
      "795:\tlearn: 0.2681189\ttotal: 7.03s\tremaining: 1.8s\n",
      "796:\tlearn: 0.2681079\ttotal: 7.04s\tremaining: 1.79s\n",
      "797:\tlearn: 0.2681013\ttotal: 7.06s\tremaining: 1.79s\n",
      "798:\tlearn: 0.2680988\ttotal: 7.07s\tremaining: 1.78s\n",
      "799:\tlearn: 0.2680909\ttotal: 7.08s\tremaining: 1.77s\n",
      "800:\tlearn: 0.2680847\ttotal: 7.08s\tremaining: 1.76s\n",
      "801:\tlearn: 0.2680815\ttotal: 7.09s\tremaining: 1.75s\n",
      "802:\tlearn: 0.2680781\ttotal: 7.1s\tremaining: 1.74s\n",
      "803:\tlearn: 0.2680694\ttotal: 7.11s\tremaining: 1.73s\n",
      "804:\tlearn: 0.2680654\ttotal: 7.12s\tremaining: 1.73s\n",
      "805:\tlearn: 0.2680512\ttotal: 7.13s\tremaining: 1.72s\n",
      "806:\tlearn: 0.2680458\ttotal: 7.14s\tremaining: 1.71s\n",
      "807:\tlearn: 0.2680381\ttotal: 7.15s\tremaining: 1.7s\n",
      "808:\tlearn: 0.2680293\ttotal: 7.16s\tremaining: 1.69s\n",
      "809:\tlearn: 0.2680262\ttotal: 7.17s\tremaining: 1.68s\n",
      "810:\tlearn: 0.2680201\ttotal: 7.18s\tremaining: 1.67s\n",
      "811:\tlearn: 0.2680120\ttotal: 7.19s\tremaining: 1.66s\n",
      "812:\tlearn: 0.2680025\ttotal: 7.2s\tremaining: 1.66s\n",
      "813:\tlearn: 0.2679978\ttotal: 7.21s\tremaining: 1.65s\n",
      "814:\tlearn: 0.2679921\ttotal: 7.21s\tremaining: 1.64s\n",
      "815:\tlearn: 0.2679886\ttotal: 7.22s\tremaining: 1.63s\n",
      "816:\tlearn: 0.2679734\ttotal: 7.23s\tremaining: 1.62s\n",
      "817:\tlearn: 0.2679711\ttotal: 7.24s\tremaining: 1.61s\n",
      "818:\tlearn: 0.2679584\ttotal: 7.25s\tremaining: 1.6s\n",
      "819:\tlearn: 0.2679476\ttotal: 7.26s\tremaining: 1.59s\n",
      "820:\tlearn: 0.2679436\ttotal: 7.27s\tremaining: 1.58s\n",
      "821:\tlearn: 0.2679383\ttotal: 7.28s\tremaining: 1.57s\n",
      "822:\tlearn: 0.2679200\ttotal: 7.28s\tremaining: 1.57s\n",
      "823:\tlearn: 0.2679167\ttotal: 7.29s\tremaining: 1.56s\n",
      "824:\tlearn: 0.2679147\ttotal: 7.3s\tremaining: 1.55s\n",
      "825:\tlearn: 0.2679134\ttotal: 7.31s\tremaining: 1.54s\n",
      "826:\tlearn: 0.2679094\ttotal: 7.32s\tremaining: 1.53s\n",
      "827:\tlearn: 0.2678953\ttotal: 7.33s\tremaining: 1.52s\n",
      "828:\tlearn: 0.2678926\ttotal: 7.33s\tremaining: 1.51s\n",
      "829:\tlearn: 0.2678819\ttotal: 7.34s\tremaining: 1.5s\n",
      "830:\tlearn: 0.2678745\ttotal: 7.35s\tremaining: 1.5s\n",
      "831:\tlearn: 0.2678704\ttotal: 7.36s\tremaining: 1.49s\n",
      "832:\tlearn: 0.2678668\ttotal: 7.37s\tremaining: 1.48s\n",
      "833:\tlearn: 0.2678568\ttotal: 7.38s\tremaining: 1.47s\n",
      "834:\tlearn: 0.2678354\ttotal: 7.39s\tremaining: 1.46s\n",
      "835:\tlearn: 0.2678322\ttotal: 7.4s\tremaining: 1.45s\n",
      "836:\tlearn: 0.2678276\ttotal: 7.41s\tremaining: 1.44s\n",
      "837:\tlearn: 0.2678207\ttotal: 7.42s\tremaining: 1.43s\n",
      "838:\tlearn: 0.2678187\ttotal: 7.43s\tremaining: 1.43s\n",
      "839:\tlearn: 0.2678148\ttotal: 7.45s\tremaining: 1.42s\n",
      "840:\tlearn: 0.2678124\ttotal: 7.45s\tremaining: 1.41s\n",
      "841:\tlearn: 0.2678038\ttotal: 7.46s\tremaining: 1.4s\n",
      "842:\tlearn: 0.2677980\ttotal: 7.47s\tremaining: 1.39s\n",
      "843:\tlearn: 0.2677949\ttotal: 7.48s\tremaining: 1.38s\n",
      "844:\tlearn: 0.2677902\ttotal: 7.49s\tremaining: 1.37s\n",
      "845:\tlearn: 0.2677789\ttotal: 7.5s\tremaining: 1.36s\n",
      "846:\tlearn: 0.2677711\ttotal: 7.5s\tremaining: 1.35s\n",
      "847:\tlearn: 0.2677593\ttotal: 7.51s\tremaining: 1.35s\n",
      "848:\tlearn: 0.2677564\ttotal: 7.52s\tremaining: 1.34s\n",
      "849:\tlearn: 0.2677538\ttotal: 7.53s\tremaining: 1.33s\n",
      "850:\tlearn: 0.2677486\ttotal: 7.54s\tremaining: 1.32s\n",
      "851:\tlearn: 0.2677445\ttotal: 7.55s\tremaining: 1.31s\n",
      "852:\tlearn: 0.2677400\ttotal: 7.56s\tremaining: 1.3s\n",
      "853:\tlearn: 0.2677376\ttotal: 7.57s\tremaining: 1.29s\n",
      "854:\tlearn: 0.2677335\ttotal: 7.58s\tremaining: 1.28s\n",
      "855:\tlearn: 0.2677282\ttotal: 7.59s\tremaining: 1.28s\n",
      "856:\tlearn: 0.2677241\ttotal: 7.59s\tremaining: 1.27s\n",
      "857:\tlearn: 0.2677127\ttotal: 7.61s\tremaining: 1.26s\n",
      "858:\tlearn: 0.2677085\ttotal: 7.62s\tremaining: 1.25s\n",
      "859:\tlearn: 0.2677058\ttotal: 7.63s\tremaining: 1.24s\n",
      "860:\tlearn: 0.2676980\ttotal: 7.63s\tremaining: 1.23s\n",
      "861:\tlearn: 0.2676935\ttotal: 7.64s\tremaining: 1.22s\n",
      "862:\tlearn: 0.2676870\ttotal: 7.65s\tremaining: 1.21s\n",
      "863:\tlearn: 0.2676705\ttotal: 7.66s\tremaining: 1.21s\n",
      "864:\tlearn: 0.2676669\ttotal: 7.67s\tremaining: 1.2s\n",
      "865:\tlearn: 0.2676497\ttotal: 7.68s\tremaining: 1.19s\n",
      "866:\tlearn: 0.2676465\ttotal: 7.69s\tremaining: 1.18s\n",
      "867:\tlearn: 0.2676351\ttotal: 7.7s\tremaining: 1.17s\n",
      "868:\tlearn: 0.2676228\ttotal: 7.7s\tremaining: 1.16s\n",
      "869:\tlearn: 0.2676159\ttotal: 7.71s\tremaining: 1.15s\n",
      "870:\tlearn: 0.2676117\ttotal: 7.72s\tremaining: 1.14s\n",
      "871:\tlearn: 0.2676090\ttotal: 7.73s\tremaining: 1.13s\n",
      "872:\tlearn: 0.2675934\ttotal: 7.74s\tremaining: 1.13s\n",
      "873:\tlearn: 0.2675860\ttotal: 7.75s\tremaining: 1.12s\n",
      "874:\tlearn: 0.2675793\ttotal: 7.75s\tremaining: 1.11s\n",
      "875:\tlearn: 0.2675733\ttotal: 7.76s\tremaining: 1.1s\n",
      "876:\tlearn: 0.2675613\ttotal: 7.78s\tremaining: 1.09s\n",
      "877:\tlearn: 0.2675575\ttotal: 7.78s\tremaining: 1.08s\n",
      "878:\tlearn: 0.2675512\ttotal: 7.79s\tremaining: 1.07s\n",
      "879:\tlearn: 0.2675465\ttotal: 7.8s\tremaining: 1.06s\n",
      "880:\tlearn: 0.2675420\ttotal: 7.81s\tremaining: 1.05s\n",
      "881:\tlearn: 0.2675331\ttotal: 7.82s\tremaining: 1.05s\n",
      "882:\tlearn: 0.2675266\ttotal: 7.84s\tremaining: 1.04s\n",
      "883:\tlearn: 0.2675218\ttotal: 7.85s\tremaining: 1.03s\n",
      "884:\tlearn: 0.2675164\ttotal: 7.86s\tremaining: 1.02s\n",
      "885:\tlearn: 0.2675139\ttotal: 7.86s\tremaining: 1.01s\n",
      "886:\tlearn: 0.2675114\ttotal: 7.87s\tremaining: 1s\n",
      "887:\tlearn: 0.2675095\ttotal: 7.88s\tremaining: 994ms\n",
      "888:\tlearn: 0.2675079\ttotal: 7.89s\tremaining: 985ms\n",
      "889:\tlearn: 0.2675048\ttotal: 7.9s\tremaining: 976ms\n",
      "890:\tlearn: 0.2675018\ttotal: 7.91s\tremaining: 967ms\n",
      "891:\tlearn: 0.2674971\ttotal: 7.92s\tremaining: 958ms\n",
      "892:\tlearn: 0.2674952\ttotal: 7.92s\tremaining: 949ms\n",
      "893:\tlearn: 0.2674913\ttotal: 7.93s\tremaining: 941ms\n",
      "894:\tlearn: 0.2674869\ttotal: 7.94s\tremaining: 932ms\n",
      "895:\tlearn: 0.2674771\ttotal: 7.95s\tremaining: 923ms\n",
      "896:\tlearn: 0.2674707\ttotal: 7.97s\tremaining: 915ms\n",
      "897:\tlearn: 0.2674632\ttotal: 7.99s\tremaining: 908ms\n",
      "898:\tlearn: 0.2674484\ttotal: 8.01s\tremaining: 900ms\n",
      "899:\tlearn: 0.2674460\ttotal: 8.02s\tremaining: 891ms\n",
      "900:\tlearn: 0.2674415\ttotal: 8.03s\tremaining: 883ms\n",
      "901:\tlearn: 0.2674220\ttotal: 8.04s\tremaining: 874ms\n",
      "902:\tlearn: 0.2674170\ttotal: 8.05s\tremaining: 865ms\n",
      "903:\tlearn: 0.2674136\ttotal: 8.06s\tremaining: 856ms\n",
      "904:\tlearn: 0.2674110\ttotal: 8.07s\tremaining: 847ms\n",
      "905:\tlearn: 0.2674086\ttotal: 8.08s\tremaining: 838ms\n",
      "906:\tlearn: 0.2674051\ttotal: 8.08s\tremaining: 829ms\n",
      "907:\tlearn: 0.2674036\ttotal: 8.09s\tremaining: 820ms\n",
      "908:\tlearn: 0.2673913\ttotal: 8.1s\tremaining: 811ms\n",
      "909:\tlearn: 0.2673884\ttotal: 8.11s\tremaining: 802ms\n",
      "910:\tlearn: 0.2673829\ttotal: 8.12s\tremaining: 793ms\n",
      "911:\tlearn: 0.2673786\ttotal: 8.13s\tremaining: 784ms\n",
      "912:\tlearn: 0.2673765\ttotal: 8.13s\tremaining: 775ms\n",
      "913:\tlearn: 0.2673749\ttotal: 8.14s\tremaining: 766ms\n",
      "914:\tlearn: 0.2673704\ttotal: 8.15s\tremaining: 757ms\n",
      "915:\tlearn: 0.2673589\ttotal: 8.16s\tremaining: 748ms\n",
      "916:\tlearn: 0.2673562\ttotal: 8.17s\tremaining: 740ms\n",
      "917:\tlearn: 0.2673529\ttotal: 8.18s\tremaining: 731ms\n",
      "918:\tlearn: 0.2673462\ttotal: 8.19s\tremaining: 722ms\n",
      "919:\tlearn: 0.2673396\ttotal: 8.2s\tremaining: 713ms\n",
      "920:\tlearn: 0.2673261\ttotal: 8.21s\tremaining: 704ms\n",
      "921:\tlearn: 0.2673160\ttotal: 8.22s\tremaining: 696ms\n",
      "922:\tlearn: 0.2673104\ttotal: 8.23s\tremaining: 687ms\n",
      "923:\tlearn: 0.2672965\ttotal: 8.24s\tremaining: 678ms\n",
      "924:\tlearn: 0.2672895\ttotal: 8.25s\tremaining: 669ms\n",
      "925:\tlearn: 0.2672859\ttotal: 8.26s\tremaining: 660ms\n",
      "926:\tlearn: 0.2672785\ttotal: 8.26s\tremaining: 651ms\n",
      "927:\tlearn: 0.2672747\ttotal: 8.27s\tremaining: 642ms\n",
      "928:\tlearn: 0.2672716\ttotal: 8.28s\tremaining: 633ms\n",
      "929:\tlearn: 0.2672680\ttotal: 8.29s\tremaining: 624ms\n",
      "930:\tlearn: 0.2672626\ttotal: 8.3s\tremaining: 615ms\n",
      "931:\tlearn: 0.2672560\ttotal: 8.31s\tremaining: 606ms\n",
      "932:\tlearn: 0.2672421\ttotal: 8.32s\tremaining: 597ms\n",
      "933:\tlearn: 0.2672397\ttotal: 8.32s\tremaining: 588ms\n",
      "934:\tlearn: 0.2672366\ttotal: 8.34s\tremaining: 579ms\n",
      "935:\tlearn: 0.2672292\ttotal: 8.34s\tremaining: 571ms\n",
      "936:\tlearn: 0.2672223\ttotal: 8.35s\tremaining: 562ms\n",
      "937:\tlearn: 0.2672047\ttotal: 8.36s\tremaining: 553ms\n",
      "938:\tlearn: 0.2671971\ttotal: 8.37s\tremaining: 544ms\n",
      "939:\tlearn: 0.2671900\ttotal: 8.38s\tremaining: 535ms\n",
      "940:\tlearn: 0.2671850\ttotal: 8.39s\tremaining: 526ms\n",
      "941:\tlearn: 0.2671824\ttotal: 8.4s\tremaining: 517ms\n",
      "942:\tlearn: 0.2671619\ttotal: 8.41s\tremaining: 508ms\n",
      "943:\tlearn: 0.2671578\ttotal: 8.42s\tremaining: 499ms\n",
      "944:\tlearn: 0.2671532\ttotal: 8.44s\tremaining: 491ms\n",
      "945:\tlearn: 0.2671518\ttotal: 8.45s\tremaining: 482ms\n",
      "946:\tlearn: 0.2671449\ttotal: 8.45s\tremaining: 473ms\n",
      "947:\tlearn: 0.2671406\ttotal: 8.46s\tremaining: 464ms\n",
      "948:\tlearn: 0.2671377\ttotal: 8.47s\tremaining: 455ms\n",
      "949:\tlearn: 0.2671346\ttotal: 8.48s\tremaining: 446ms\n",
      "950:\tlearn: 0.2671307\ttotal: 8.49s\tremaining: 437ms\n",
      "951:\tlearn: 0.2671247\ttotal: 8.5s\tremaining: 428ms\n",
      "952:\tlearn: 0.2671226\ttotal: 8.51s\tremaining: 419ms\n",
      "953:\tlearn: 0.2671157\ttotal: 8.51s\tremaining: 411ms\n",
      "954:\tlearn: 0.2671145\ttotal: 8.52s\tremaining: 402ms\n",
      "955:\tlearn: 0.2671055\ttotal: 8.53s\tremaining: 393ms\n",
      "956:\tlearn: 0.2671001\ttotal: 8.54s\tremaining: 384ms\n",
      "957:\tlearn: 0.2670933\ttotal: 8.55s\tremaining: 375ms\n",
      "958:\tlearn: 0.2670833\ttotal: 8.56s\tremaining: 366ms\n",
      "959:\tlearn: 0.2670726\ttotal: 8.56s\tremaining: 357ms\n",
      "960:\tlearn: 0.2670711\ttotal: 8.57s\tremaining: 348ms\n",
      "961:\tlearn: 0.2670664\ttotal: 8.58s\tremaining: 339ms\n",
      "962:\tlearn: 0.2670631\ttotal: 8.59s\tremaining: 330ms\n",
      "963:\tlearn: 0.2670550\ttotal: 8.6s\tremaining: 321ms\n",
      "964:\tlearn: 0.2670530\ttotal: 8.61s\tremaining: 312ms\n",
      "965:\tlearn: 0.2670457\ttotal: 8.62s\tremaining: 303ms\n",
      "966:\tlearn: 0.2670442\ttotal: 8.63s\tremaining: 294ms\n",
      "967:\tlearn: 0.2670336\ttotal: 8.64s\tremaining: 286ms\n",
      "968:\tlearn: 0.2670268\ttotal: 8.65s\tremaining: 277ms\n",
      "969:\tlearn: 0.2670235\ttotal: 8.66s\tremaining: 268ms\n",
      "970:\tlearn: 0.2670173\ttotal: 8.67s\tremaining: 259ms\n",
      "971:\tlearn: 0.2670133\ttotal: 8.68s\tremaining: 250ms\n",
      "972:\tlearn: 0.2670068\ttotal: 8.69s\tremaining: 241ms\n",
      "973:\tlearn: 0.2669997\ttotal: 8.7s\tremaining: 232ms\n",
      "974:\tlearn: 0.2669977\ttotal: 8.71s\tremaining: 223ms\n",
      "975:\tlearn: 0.2669934\ttotal: 8.72s\tremaining: 214ms\n",
      "976:\tlearn: 0.2669852\ttotal: 8.73s\tremaining: 205ms\n",
      "977:\tlearn: 0.2669729\ttotal: 8.74s\tremaining: 197ms\n",
      "978:\tlearn: 0.2669660\ttotal: 8.74s\tremaining: 188ms\n",
      "979:\tlearn: 0.2669632\ttotal: 8.75s\tremaining: 179ms\n",
      "980:\tlearn: 0.2669489\ttotal: 8.76s\tremaining: 170ms\n",
      "981:\tlearn: 0.2669445\ttotal: 8.77s\tremaining: 161ms\n",
      "982:\tlearn: 0.2669414\ttotal: 8.78s\tremaining: 152ms\n",
      "983:\tlearn: 0.2669387\ttotal: 8.79s\tremaining: 143ms\n",
      "984:\tlearn: 0.2669273\ttotal: 8.8s\tremaining: 134ms\n",
      "985:\tlearn: 0.2669204\ttotal: 8.81s\tremaining: 125ms\n",
      "986:\tlearn: 0.2669154\ttotal: 8.82s\tremaining: 116ms\n",
      "987:\tlearn: 0.2669097\ttotal: 8.82s\tremaining: 107ms\n",
      "988:\tlearn: 0.2669053\ttotal: 8.83s\tremaining: 98.3ms\n",
      "989:\tlearn: 0.2669028\ttotal: 8.85s\tremaining: 89.3ms\n",
      "990:\tlearn: 0.2668981\ttotal: 8.85s\tremaining: 80.4ms\n",
      "991:\tlearn: 0.2668930\ttotal: 8.86s\tremaining: 71.5ms\n",
      "992:\tlearn: 0.2668910\ttotal: 8.87s\tremaining: 62.5ms\n",
      "993:\tlearn: 0.2668851\ttotal: 8.88s\tremaining: 53.6ms\n",
      "994:\tlearn: 0.2668840\ttotal: 8.89s\tremaining: 44.7ms\n",
      "995:\tlearn: 0.2668782\ttotal: 8.9s\tremaining: 35.7ms\n",
      "996:\tlearn: 0.2668684\ttotal: 8.9s\tremaining: 26.8ms\n",
      "997:\tlearn: 0.2668619\ttotal: 8.91s\tremaining: 17.9ms\n",
      "998:\tlearn: 0.2668583\ttotal: 8.92s\tremaining: 8.93ms\n",
      "999:\tlearn: 0.2668554\ttotal: 8.93s\tremaining: 0us\n"
     ]
    },
    {
     "data": {
      "text/plain": [
       "<catboost.core.CatBoostClassifier at 0x7f47625525c0>"
      ]
     },
     "execution_count": 95,
     "metadata": {
      "tags": []
     },
     "output_type": "execute_result"
    }
   ],
   "source": [
    "model.fit(train[X_col],train[y_col])"
   ]
  },
  {
   "cell_type": "code",
   "execution_count": 96,
   "metadata": {
    "id": "7mCVF1YU2EPz"
   },
   "outputs": [],
   "source": [
    "train['cat_debt_pred'] = model.predict_proba(train[X_col])[:,1]"
   ]
  },
  {
   "cell_type": "code",
   "execution_count": 97,
   "metadata": {
    "id": "NQHRuvUk4n43"
   },
   "outputs": [],
   "source": [
    "cat = pd.DataFrame(cumulative_gain_curve(train['debt'],train['cat_debt_pred'])).T"
   ]
  },
  {
   "cell_type": "code",
   "execution_count": 98,
   "metadata": {
    "colab": {
     "base_uri": "https://localhost:8080/",
     "height": 415
    },
    "id": "xVeDs6Hi4sG2",
    "outputId": "5f113e00-1179-43ba-a373-8baac02175f1"
   },
   "outputs": [
    {
     "data": {
      "text/html": [
       "<div>\n",
       "<style scoped>\n",
       "    .dataframe tbody tr th:only-of-type {\n",
       "        vertical-align: middle;\n",
       "    }\n",
       "\n",
       "    .dataframe tbody tr th {\n",
       "        vertical-align: top;\n",
       "    }\n",
       "\n",
       "    .dataframe thead th {\n",
       "        text-align: right;\n",
       "    }\n",
       "</style>\n",
       "<table border=\"1\" class=\"dataframe\">\n",
       "  <thead>\n",
       "    <tr style=\"text-align: right;\">\n",
       "      <th></th>\n",
       "      <th>0</th>\n",
       "      <th>1</th>\n",
       "    </tr>\n",
       "  </thead>\n",
       "  <tbody>\n",
       "    <tr>\n",
       "      <th>0</th>\n",
       "      <td>0.000000</td>\n",
       "      <td>0.000000</td>\n",
       "    </tr>\n",
       "    <tr>\n",
       "      <th>1</th>\n",
       "      <td>0.000065</td>\n",
       "      <td>0.000789</td>\n",
       "    </tr>\n",
       "    <tr>\n",
       "      <th>2</th>\n",
       "      <td>0.000129</td>\n",
       "      <td>0.001579</td>\n",
       "    </tr>\n",
       "    <tr>\n",
       "      <th>3</th>\n",
       "      <td>0.000194</td>\n",
       "      <td>0.002368</td>\n",
       "    </tr>\n",
       "    <tr>\n",
       "      <th>4</th>\n",
       "      <td>0.000258</td>\n",
       "      <td>0.003157</td>\n",
       "    </tr>\n",
       "    <tr>\n",
       "      <th>...</th>\n",
       "      <td>...</td>\n",
       "      <td>...</td>\n",
       "    </tr>\n",
       "    <tr>\n",
       "      <th>15477</th>\n",
       "      <td>0.999742</td>\n",
       "      <td>1.000000</td>\n",
       "    </tr>\n",
       "    <tr>\n",
       "      <th>15478</th>\n",
       "      <td>0.999806</td>\n",
       "      <td>1.000000</td>\n",
       "    </tr>\n",
       "    <tr>\n",
       "      <th>15479</th>\n",
       "      <td>0.999871</td>\n",
       "      <td>1.000000</td>\n",
       "    </tr>\n",
       "    <tr>\n",
       "      <th>15480</th>\n",
       "      <td>0.999935</td>\n",
       "      <td>1.000000</td>\n",
       "    </tr>\n",
       "    <tr>\n",
       "      <th>15481</th>\n",
       "      <td>1.000000</td>\n",
       "      <td>1.000000</td>\n",
       "    </tr>\n",
       "  </tbody>\n",
       "</table>\n",
       "<p>15482 rows × 2 columns</p>\n",
       "</div>"
      ],
      "text/plain": [
       "              0         1\n",
       "0      0.000000  0.000000\n",
       "1      0.000065  0.000789\n",
       "2      0.000129  0.001579\n",
       "3      0.000194  0.002368\n",
       "4      0.000258  0.003157\n",
       "...         ...       ...\n",
       "15477  0.999742  1.000000\n",
       "15478  0.999806  1.000000\n",
       "15479  0.999871  1.000000\n",
       "15480  0.999935  1.000000\n",
       "15481  1.000000  1.000000\n",
       "\n",
       "[15482 rows x 2 columns]"
      ]
     },
     "execution_count": 98,
     "metadata": {
      "tags": []
     },
     "output_type": "execute_result"
    }
   ],
   "source": [
    "cat"
   ]
  },
  {
   "cell_type": "code",
   "execution_count": 99,
   "metadata": {
    "id": "C1jhsyDQ4swS"
   },
   "outputs": [],
   "source": [
    "cat['random'] = cat[0]"
   ]
  },
  {
   "cell_type": "code",
   "execution_count": 100,
   "metadata": {
    "colab": {
     "base_uri": "https://localhost:8080/",
     "height": 361
    },
    "id": "BjYDPoRp4xI0",
    "outputId": "38a0a4c2-f114-46d3-ed93-d9ac1a0cd6cb"
   },
   "outputs": [
    {
     "data": {
      "text/plain": [
       "<matplotlib.axes._subplots.AxesSubplot at 0x7f476251c278>"
      ]
     },
     "execution_count": 100,
     "metadata": {
      "tags": []
     },
     "output_type": "execute_result"
    },
    {
     "data": {
      "image/png": "[encoded data removed]",
      "text/plain": [
       "<Figure size 720x360 with 1 Axes>"
      ]
     },
     "metadata": {
      "tags": []
     },
     "output_type": "display_data"
    }
   ],
   "source": [
    "cat.plot(x=0, y=[1,'random'],figsize=(10,5),grid=True,xlim=(0,1),ylim=(0,1))"
   ]
  },
  {
   "cell_type": "code",
   "execution_count": 101,
   "metadata": {
    "colab": {
     "base_uri": "https://localhost:8080/",
     "height": 35
    },
    "id": "JPUNqIIB45Wn",
    "outputId": "27a3c5b3-5a1d-4d76-8c52-0c35ea8c8cdf"
   },
   "outputs": [
    {
     "data": {
      "text/plain": [
       "0.6598615141803531"
      ]
     },
     "execution_count": 101,
     "metadata": {
      "tags": []
     },
     "output_type": "execute_result"
    }
   ],
   "source": [
    "auc_cat_train = auc(cat[0],cat[1])\n",
    "\n",
    "auc_cat_train"
   ]
  },
  {
   "cell_type": "code",
   "execution_count": 102,
   "metadata": {
    "colab": {
     "base_uri": "https://localhost:8080/",
     "height": 35
    },
    "id": "k80tN03E5AYO",
    "outputId": "3bf2e091-7afb-43be-d194-e14e582cea47"
   },
   "outputs": [
    {
     "data": {
      "text/plain": [
       "0.6741062231851408"
      ]
     },
     "execution_count": 102,
     "metadata": {
      "tags": []
     },
     "output_type": "execute_result"
    }
   ],
   "source": [
    "roc_auc_score(train['debt'], train['cat_debt_pred'])"
   ]
  },
  {
   "cell_type": "code",
   "execution_count": 103,
   "metadata": {
    "id": "zTqYfmgw5USH"
   },
   "outputs": [],
   "source": [
    "test['cat_debt_pred'] = model.predict_proba(test[X_col])[:,1]"
   ]
  },
  {
   "cell_type": "code",
   "execution_count": 104,
   "metadata": {
    "id": "uhL3zSN86NQ4"
   },
   "outputs": [],
   "source": [
    "cat_test = pd.DataFrame(cumulative_gain_curve(test['debt'],test['cat_debt_pred'])).T"
   ]
  },
  {
   "cell_type": "code",
   "execution_count": 105,
   "metadata": {
    "colab": {
     "base_uri": "https://localhost:8080/",
     "height": 415
    },
    "id": "vBvjSndU6sAM",
    "outputId": "045a77cf-4053-44d3-e594-c3b2c9f1d485"
   },
   "outputs": [
    {
     "data": {
      "text/html": [
       "<div>\n",
       "<style scoped>\n",
       "    .dataframe tbody tr th:only-of-type {\n",
       "        vertical-align: middle;\n",
       "    }\n",
       "\n",
       "    .dataframe tbody tr th {\n",
       "        vertical-align: top;\n",
       "    }\n",
       "\n",
       "    .dataframe thead th {\n",
       "        text-align: right;\n",
       "    }\n",
       "</style>\n",
       "<table border=\"1\" class=\"dataframe\">\n",
       "  <thead>\n",
       "    <tr style=\"text-align: right;\">\n",
       "      <th></th>\n",
       "      <th>0</th>\n",
       "      <th>1</th>\n",
       "    </tr>\n",
       "  </thead>\n",
       "  <tbody>\n",
       "    <tr>\n",
       "      <th>0</th>\n",
       "      <td>0.000000</td>\n",
       "      <td>0.0</td>\n",
       "    </tr>\n",
       "    <tr>\n",
       "      <th>1</th>\n",
       "      <td>0.000258</td>\n",
       "      <td>0.0</td>\n",
       "    </tr>\n",
       "    <tr>\n",
       "      <th>2</th>\n",
       "      <td>0.000517</td>\n",
       "      <td>0.0</td>\n",
       "    </tr>\n",
       "    <tr>\n",
       "      <th>3</th>\n",
       "      <td>0.000775</td>\n",
       "      <td>0.0</td>\n",
       "    </tr>\n",
       "    <tr>\n",
       "      <th>4</th>\n",
       "      <td>0.001034</td>\n",
       "      <td>0.0</td>\n",
       "    </tr>\n",
       "    <tr>\n",
       "      <th>...</th>\n",
       "      <td>...</td>\n",
       "      <td>...</td>\n",
       "    </tr>\n",
       "    <tr>\n",
       "      <th>3866</th>\n",
       "      <td>0.998966</td>\n",
       "      <td>1.0</td>\n",
       "    </tr>\n",
       "    <tr>\n",
       "      <th>3867</th>\n",
       "      <td>0.999225</td>\n",
       "      <td>1.0</td>\n",
       "    </tr>\n",
       "    <tr>\n",
       "      <th>3868</th>\n",
       "      <td>0.999483</td>\n",
       "      <td>1.0</td>\n",
       "    </tr>\n",
       "    <tr>\n",
       "      <th>3869</th>\n",
       "      <td>0.999742</td>\n",
       "      <td>1.0</td>\n",
       "    </tr>\n",
       "    <tr>\n",
       "      <th>3870</th>\n",
       "      <td>1.000000</td>\n",
       "      <td>1.0</td>\n",
       "    </tr>\n",
       "  </tbody>\n",
       "</table>\n",
       "<p>3871 rows × 2 columns</p>\n",
       "</div>"
      ],
      "text/plain": [
       "             0    1\n",
       "0     0.000000  0.0\n",
       "1     0.000258  0.0\n",
       "2     0.000517  0.0\n",
       "3     0.000775  0.0\n",
       "4     0.001034  0.0\n",
       "...        ...  ...\n",
       "3866  0.998966  1.0\n",
       "3867  0.999225  1.0\n",
       "3868  0.999483  1.0\n",
       "3869  0.999742  1.0\n",
       "3870  1.000000  1.0\n",
       "\n",
       "[3871 rows x 2 columns]"
      ]
     },
     "execution_count": 105,
     "metadata": {
      "tags": []
     },
     "output_type": "execute_result"
    }
   ],
   "source": [
    "cat_test"
   ]
  },
  {
   "cell_type": "code",
   "execution_count": 106,
   "metadata": {
    "id": "U8fmGIBr6s9N"
   },
   "outputs": [],
   "source": [
    "cat_test['random'] = cat_test[0]"
   ]
  },
  {
   "cell_type": "code",
   "execution_count": 107,
   "metadata": {
    "colab": {
     "base_uri": "https://localhost:8080/",
     "height": 361
    },
    "id": "5puINYyc6xFS",
    "outputId": "1e515a1d-3faf-48a0-d08d-aa7f5b342c3d"
   },
   "outputs": [
    {
     "data": {
      "text/plain": [
       "<matplotlib.axes._subplots.AxesSubplot at 0x7f47624914e0>"
      ]
     },
     "execution_count": 107,
     "metadata": {
      "tags": []
     },
     "output_type": "execute_result"
    },
    {
     "data": {
      "image/png": "[encoded data removed]",
      "text/plain": [
       "<Figure size 720x360 with 1 Axes>"
      ]
     },
     "metadata": {
      "tags": []
     },
     "output_type": "display_data"
    }
   ],
   "source": [
    "cat_test.plot(x=0, y=[1,'random'],figsize=(10,5),grid=True,xlim=(0,1),ylim=(0,1))"
   ]
  },
  {
   "cell_type": "code",
   "execution_count": 108,
   "metadata": {
    "colab": {
     "base_uri": "https://localhost:8080/",
     "height": 35
    },
    "id": "eNn-dNSe604T",
    "outputId": "6ba7a71e-84a6-46da-c669-0921499097d2"
   },
   "outputs": [
    {
     "data": {
      "text/plain": [
       "0.5640546375628995"
      ]
     },
     "execution_count": 108,
     "metadata": {
      "tags": []
     },
     "output_type": "execute_result"
    }
   ],
   "source": [
    "auc_cat_test = auc(cat_test[0],cat_test[1])\n",
    "\n",
    "auc_cat_test"
   ]
  },
  {
   "cell_type": "code",
   "execution_count": 109,
   "metadata": {
    "colab": {
     "base_uri": "https://localhost:8080/",
     "height": 35
    },
    "id": "zyUK6TRk665j",
    "outputId": "503f1f49-2e5d-46fe-876b-c6d8d8d90840"
   },
   "outputs": [
    {
     "data": {
      "text/plain": [
       "0.5696268854975353"
      ]
     },
     "execution_count": 109,
     "metadata": {
      "tags": []
     },
     "output_type": "execute_result"
    }
   ],
   "source": [
    "roc_auc_score(test['debt'], test['cat_debt_pred'])"
   ]
  },
  {
   "cell_type": "code",
   "execution_count": 110,
   "metadata": {
    "colab": {
     "base_uri": "https://localhost:8080/",
     "height": 104
    },
    "id": "y1el0ByZ7UlS",
    "outputId": "340019ff-513f-4df2-c618-3a009826363d"
   },
   "outputs": [
    {
     "name": "stdout",
     "output_type": "stream",
     "text": [
      "Данные по ручному методу скорринга\n"
     ]
    },
    {
     "data": {
      "text/plain": [
       "(0.5861506685869539,\n",
       " 0.5696008431932544,\n",
       " 0.5938913900265521,\n",
       " 0.5754032972223042)"
      ]
     },
     "execution_count": 110,
     "metadata": {
      "tags": []
     },
     "output_type": "execute_result"
    }
   ],
   "source": [
    "print('Данные по ручному методу скорринга')\n",
    "auc_train_manual,\\\n",
    "auc_test_manual,\\\n",
    "roc_auc_score(train['debt'], train['score_norm']),\\\n",
    "roc_auc_score(test['debt'], test['score_norm'])"
   ]
  },
  {
   "cell_type": "code",
   "execution_count": 111,
   "metadata": {
    "colab": {
     "base_uri": "https://localhost:8080/",
     "height": 52
    },
    "id": "-Z2NEY7i8UDd",
    "outputId": "bcf10a5f-79b1-4adb-a057-b971af03e696"
   },
   "outputs": [
    {
     "name": "stdout",
     "output_type": "stream",
     "text": [
      "Данные по логистической регрессии\n"
     ]
    },
    {
     "data": {
      "text/plain": [
       "(0.6015695232901782, 0.5862700598395213, 0.610634889909778, 0.5938625394810638)"
      ]
     },
     "execution_count": 111,
     "metadata": {
      "tags": []
     },
     "output_type": "execute_result"
    }
   ],
   "source": [
    "print('Данные по логистической регрессии')\n",
    "auc_train_lr,\\\n",
    "auc_test_lr,\\\n",
    "roc_auc_score(train['debt'], train['lr_debt_pred']),\\\n",
    "roc_auc_score(test['debt'], test['lr_debt_pred'])"
   ]
  },
  {
   "cell_type": "code",
   "execution_count": 112,
   "metadata": {
    "colab": {
     "base_uri": "https://localhost:8080/",
     "height": 52
    },
    "id": "vVVC9NgI8eUu",
    "outputId": "3c01f587-8a1a-46eb-da58-e78e7a47e9c5"
   },
   "outputs": [
    {
     "name": "stdout",
     "output_type": "stream",
     "text": [
      "Данные по логистической регрессии изначальных данных\n"
     ]
    },
    {
     "data": {
      "text/plain": [
       "(0.6012828975325152, 0.589250135998912, 0.6103166070469336, 0.5970191796794285)"
      ]
     },
     "execution_count": 112,
     "metadata": {
      "tags": []
     },
     "output_type": "execute_result"
    }
   ],
   "source": [
    "print('Данные по логистической регрессии изначальных данных')\n",
    "auc_train_lr_2nd,\\\n",
    "auc_test_lr_2nd,\\\n",
    "roc_auc_score(train['debt'], train['lr_debt_pred_2nd']),\\\n",
    "roc_auc_score(test['debt'], test['lr_debt_pred_2nd'])"
   ]
  },
  {
   "cell_type": "code",
   "execution_count": 113,
   "metadata": {
    "colab": {
     "base_uri": "https://localhost:8080/",
     "height": 104
    },
    "id": "8jInjoQE8zoG",
    "outputId": "50b2bd9e-9fda-4ba0-92b8-96f65cef79f6"
   },
   "outputs": [
    {
     "name": "stdout",
     "output_type": "stream",
     "text": [
      "Данные по catboost\n"
     ]
    },
    {
     "data": {
      "text/plain": [
       "(0.6598615141803531,\n",
       " 0.5640546375628995,\n",
       " 0.6741062231851408,\n",
       " 0.5696268854975353)"
      ]
     },
     "execution_count": 113,
     "metadata": {
      "tags": []
     },
     "output_type": "execute_result"
    }
   ],
   "source": [
    "print('Данные по catboost')\n",
    "auc_cat_train,\\\n",
    "auc_cat_test,\\\n",
    "roc_auc_score(train['debt'], train['cat_debt_pred']),\\\n",
    "roc_auc_score(test['debt'], test['cat_debt_pred'])"
   ]
  },
  {
   "cell_type": "code",
   "execution_count": 113,
   "metadata": {
    "id": "Pfar2h4BATEt"
   },
   "outputs": [],
   "source": []
  }
 ],
 "metadata": {
  "colab": {
   "name": "Bank_score_manual_+_Logistic_Regression_+_Catboost.ipynb",
   "provenance": []
  },
  "kernelspec": {
   "display_name": "Python 3",
   "language": "python",
   "name": "python3"
  },
  "language_info": {
   "codemirror_mode": {
    "name": "ipython",
    "version": 3
   },
   "file_extension": ".py",
   "mimetype": "text/x-python",
   "name": "python",
   "nbconvert_exporter": "python",
   "pygments_lexer": "ipython3",
   "version": "3.8.3"
  }
 },
 "nbformat": 4,
 "nbformat_minor": 1
}
