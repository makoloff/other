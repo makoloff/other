{
  "nbformat": 4,
  "nbformat_minor": 0,
  "metadata": {
    "kernelspec": {
      "display_name": "Python 3",
      "language": "python",
      "name": "python3"
    },
    "language_info": {
      "codemirror_mode": {
        "name": "ipython",
        "version": 3
      },
      "file_extension": ".py",
      "mimetype": "text/x-python",
      "name": "python",
      "nbconvert_exporter": "python",
      "pygments_lexer": "ipython3",
      "version": "3.8.3"
    },
    "colab": {
      "name": "__cons_project.ipynb",
      "provenance": []
    }
  },
  "cells": [
    {
      "cell_type": "code",
      "metadata": {
        "id": "eaRlrh_LEoqu"
      },
      "source": [
        "import pandas as pd\n",
        "import numpy as np\n",
        "from matplotlib import pyplot as plt\n",
        "\n",
        "import math\n",
        "from scipy import stats\n",
        "\n",
        "from datetime import datetime, timedelta\n",
        "\n",
        "from statsmodels.stats.proportion import proportions_ztest"
      ],
      "execution_count": null,
      "outputs": []
    },
    {
      "cell_type": "markdown",
      "metadata": {
        "id": "OSvztOn0Eoqv"
      },
      "source": [
        "# Введение"
      ]
    },
    {
      "cell_type": "markdown",
      "metadata": {
        "id": "qPEwb7zJEoqw"
      },
      "source": [
        "Вы — аналитик интернет-магазина, работающего, в основном, с аудиторией в Европе. Продуктовые менеджеры готовятся внести изменения в onboarding-воронку для новых пользователей. Чтобы померить эффективнось новой воронки, они просят вас помочь провести АВ-тест.\n",
        "\n",
        "Представьте, что на калентаре 1-е ноября 2020 года."
      ]
    },
    {
      "cell_type": "markdown",
      "metadata": {
        "id": "j9S01T52Eoqw"
      },
      "source": [
        "# 1. Подготовка к проведению теста"
      ]
    },
    {
      "cell_type": "markdown",
      "metadata": {
        "id": "tdAv9mZYEoqw"
      },
      "source": [
        "Вы еще раз все обсудили менеджерами и решили, что тест должен проводиться по вот такому сценарию:\n",
        "- Тест должен затрагивать только 20% новых юзеров в вашем основном регионе (EU);\n",
        "- Метрики теста:\n",
        "    - Конверсия в покупку, ожидается, что она повысится минимум на 25%;\n",
        "    - Средняя длительность сессии в минутах, ожидатеся, что она вырастет на 15%.\n",
        "- Тест должен быть запущен не раньше 1 декабря 2020 года - отдел разработки не успевает все закончить раньше;\n",
        "- Название теста `new_interface_test`;\n",
        "- В тесте должны быть две группа:\n",
        "    - `А` - контрольная, нет изменений; \n",
        "    - `B` - тестовая, с новой платежной воронкой. "
      ]
    },
    {
      "cell_type": "markdown",
      "metadata": {
        "id": "bwhINET5Eoqw"
      },
      "source": [
        "## 1.1 Предобработка данных"
      ]
    },
    {
      "cell_type": "markdown",
      "metadata": {
        "id": "D4r2oO9XEoqw"
      },
      "source": [
        "Грузим исторические данные:"
      ]
    },
    {
      "cell_type": "code",
      "metadata": {
        "id": "yfavHc3UEoqw"
      },
      "source": [
        "new_users = pd.read_csv('cons_users_history.csv')\n",
        "sessions = pd.read_csv('cons_sessions_history.csv')\n",
        "purchases = pd.read_csv('cons_purchases_history.csv')\n",
        "marketing_events = pd.read_csv('cons_marketing_events.csv')"
      ],
      "execution_count": null,
      "outputs": []
    },
    {
      "cell_type": "markdown",
      "metadata": {
        "id": "QTJbHnqGEoqw"
      },
      "source": [
        "Изучаем данные:"
      ]
    },
    {
      "cell_type": "code",
      "metadata": {
        "id": "Cpl0l7MIEoqw",
        "outputId": "071bcc3a-3d79-4ff9-f79a-f9bdba7786ac"
      },
      "source": [
        "display(new_users.head(5))\n",
        "new_users.info()"
      ],
      "execution_count": null,
      "outputs": [
        {
          "output_type": "display_data",
          "data": {
            "text/html": [
              "<div>\n",
              "<style scoped>\n",
              "    .dataframe tbody tr th:only-of-type {\n",
              "        vertical-align: middle;\n",
              "    }\n",
              "\n",
              "    .dataframe tbody tr th {\n",
              "        vertical-align: top;\n",
              "    }\n",
              "\n",
              "    .dataframe thead th {\n",
              "        text-align: right;\n",
              "    }\n",
              "</style>\n",
              "<table border=\"1\" class=\"dataframe\">\n",
              "  <thead>\n",
              "    <tr style=\"text-align: right;\">\n",
              "      <th></th>\n",
              "      <th>user_id</th>\n",
              "      <th>first_date</th>\n",
              "      <th>region</th>\n",
              "      <th>device</th>\n",
              "    </tr>\n",
              "  </thead>\n",
              "  <tbody>\n",
              "    <tr>\n",
              "      <th>0</th>\n",
              "      <td>E302123B7000BFE4</td>\n",
              "      <td>2020-09-07</td>\n",
              "      <td>APAC</td>\n",
              "      <td>Android</td>\n",
              "    </tr>\n",
              "    <tr>\n",
              "      <th>1</th>\n",
              "      <td>2530F72E221829FB</td>\n",
              "      <td>2020-09-07</td>\n",
              "      <td>EU</td>\n",
              "      <td>iPhone</td>\n",
              "    </tr>\n",
              "    <tr>\n",
              "      <th>2</th>\n",
              "      <td>876E020A4FC512F5</td>\n",
              "      <td>2020-09-07</td>\n",
              "      <td>EU</td>\n",
              "      <td>PC</td>\n",
              "    </tr>\n",
              "    <tr>\n",
              "      <th>3</th>\n",
              "      <td>2640B349E1D81584</td>\n",
              "      <td>2020-09-07</td>\n",
              "      <td>EU</td>\n",
              "      <td>Android</td>\n",
              "    </tr>\n",
              "    <tr>\n",
              "      <th>4</th>\n",
              "      <td>94E1CBFAEF1F5EE9</td>\n",
              "      <td>2020-09-07</td>\n",
              "      <td>APAC</td>\n",
              "      <td>Android</td>\n",
              "    </tr>\n",
              "  </tbody>\n",
              "</table>\n",
              "</div>"
            ],
            "text/plain": [
              "            user_id  first_date region   device\n",
              "0  E302123B7000BFE4  2020-09-07   APAC  Android\n",
              "1  2530F72E221829FB  2020-09-07     EU   iPhone\n",
              "2  876E020A4FC512F5  2020-09-07     EU       PC\n",
              "3  2640B349E1D81584  2020-09-07     EU  Android\n",
              "4  94E1CBFAEF1F5EE9  2020-09-07   APAC  Android"
            ]
          },
          "metadata": {
            "tags": []
          }
        },
        {
          "output_type": "stream",
          "text": [
            "<class 'pandas.core.frame.DataFrame'>\n",
            "RangeIndex: 144641 entries, 0 to 144640\n",
            "Data columns (total 4 columns):\n",
            " #   Column      Non-Null Count   Dtype \n",
            "---  ------      --------------   ----- \n",
            " 0   user_id     144641 non-null  object\n",
            " 1   first_date  144641 non-null  object\n",
            " 2   region      144641 non-null  object\n",
            " 3   device      144641 non-null  object\n",
            "dtypes: object(4)\n",
            "memory usage: 4.4+ MB\n"
          ],
          "name": "stdout"
        }
      ]
    },
    {
      "cell_type": "code",
      "metadata": {
        "id": "6kcBMwH4Eoqy",
        "outputId": "493f65b8-8c8f-43e7-877a-737436e1d9cd"
      },
      "source": [
        "display(sessions.head(5))\n",
        "sessions.info()"
      ],
      "execution_count": null,
      "outputs": [
        {
          "output_type": "display_data",
          "data": {
            "text/html": [
              "<div>\n",
              "<style scoped>\n",
              "    .dataframe tbody tr th:only-of-type {\n",
              "        vertical-align: middle;\n",
              "    }\n",
              "\n",
              "    .dataframe tbody tr th {\n",
              "        vertical-align: top;\n",
              "    }\n",
              "\n",
              "    .dataframe thead th {\n",
              "        text-align: right;\n",
              "    }\n",
              "</style>\n",
              "<table border=\"1\" class=\"dataframe\">\n",
              "  <thead>\n",
              "    <tr style=\"text-align: right;\">\n",
              "      <th></th>\n",
              "      <th>user_id</th>\n",
              "      <th>session_start</th>\n",
              "      <th>session_duration</th>\n",
              "    </tr>\n",
              "  </thead>\n",
              "  <tbody>\n",
              "    <tr>\n",
              "      <th>0</th>\n",
              "      <td>72AC8300FD24B022</td>\n",
              "      <td>2020-09-01 00:29:54</td>\n",
              "      <td>1.887177</td>\n",
              "    </tr>\n",
              "    <tr>\n",
              "      <th>1</th>\n",
              "      <td>557FDAFEDC0F995C</td>\n",
              "      <td>2020-09-01 00:23:48</td>\n",
              "      <td>1.969538</td>\n",
              "    </tr>\n",
              "    <tr>\n",
              "      <th>2</th>\n",
              "      <td>BE0816B88B7650F2</td>\n",
              "      <td>2020-09-01 11:30:05</td>\n",
              "      <td>2.705548</td>\n",
              "    </tr>\n",
              "    <tr>\n",
              "      <th>3</th>\n",
              "      <td>806173CEAC3A1859</td>\n",
              "      <td>2020-09-01 20:15:17</td>\n",
              "      <td>6.164533</td>\n",
              "    </tr>\n",
              "    <tr>\n",
              "      <th>4</th>\n",
              "      <td>EDB219D52C071EC8</td>\n",
              "      <td>2020-09-01 21:26:30</td>\n",
              "      <td>5.716415</td>\n",
              "    </tr>\n",
              "  </tbody>\n",
              "</table>\n",
              "</div>"
            ],
            "text/plain": [
              "            user_id        session_start  session_duration\n",
              "0  72AC8300FD24B022  2020-09-01 00:29:54          1.887177\n",
              "1  557FDAFEDC0F995C  2020-09-01 00:23:48          1.969538\n",
              "2  BE0816B88B7650F2  2020-09-01 11:30:05          2.705548\n",
              "3  806173CEAC3A1859  2020-09-01 20:15:17          6.164533\n",
              "4  EDB219D52C071EC8  2020-09-01 21:26:30          5.716415"
            ]
          },
          "metadata": {
            "tags": []
          }
        },
        {
          "output_type": "stream",
          "text": [
            "<class 'pandas.core.frame.DataFrame'>\n",
            "RangeIndex: 663863 entries, 0 to 663862\n",
            "Data columns (total 3 columns):\n",
            " #   Column            Non-Null Count   Dtype  \n",
            "---  ------            --------------   -----  \n",
            " 0   user_id           663863 non-null  object \n",
            " 1   session_start     663863 non-null  object \n",
            " 2   session_duration  663863 non-null  float64\n",
            "dtypes: float64(1), object(2)\n",
            "memory usage: 15.2+ MB\n"
          ],
          "name": "stdout"
        }
      ]
    },
    {
      "cell_type": "code",
      "metadata": {
        "id": "izdlfVZvEoqy",
        "outputId": "f7d652a5-313d-4874-a6a3-6b10578b010c"
      },
      "source": [
        "display(purchases.head(5))\n",
        "purchases.info()"
      ],
      "execution_count": null,
      "outputs": [
        {
          "output_type": "display_data",
          "data": {
            "text/html": [
              "<div>\n",
              "<style scoped>\n",
              "    .dataframe tbody tr th:only-of-type {\n",
              "        vertical-align: middle;\n",
              "    }\n",
              "\n",
              "    .dataframe tbody tr th {\n",
              "        vertical-align: top;\n",
              "    }\n",
              "\n",
              "    .dataframe thead th {\n",
              "        text-align: right;\n",
              "    }\n",
              "</style>\n",
              "<table border=\"1\" class=\"dataframe\">\n",
              "  <thead>\n",
              "    <tr style=\"text-align: right;\">\n",
              "      <th></th>\n",
              "      <th>user_id</th>\n",
              "      <th>event_dt</th>\n",
              "      <th>revenue</th>\n",
              "    </tr>\n",
              "  </thead>\n",
              "  <tbody>\n",
              "    <tr>\n",
              "      <th>0</th>\n",
              "      <td>72AC8300FD24B022</td>\n",
              "      <td>2020-09-01 00:29:54</td>\n",
              "      <td>4.99</td>\n",
              "    </tr>\n",
              "    <tr>\n",
              "      <th>1</th>\n",
              "      <td>B73A1EC68AEB1BDF</td>\n",
              "      <td>2020-09-01 09:42:59</td>\n",
              "      <td>9.99</td>\n",
              "    </tr>\n",
              "    <tr>\n",
              "      <th>2</th>\n",
              "      <td>4367810A6E3F8A89</td>\n",
              "      <td>2020-09-01 11:32:11</td>\n",
              "      <td>4.99</td>\n",
              "    </tr>\n",
              "    <tr>\n",
              "      <th>3</th>\n",
              "      <td>0FFBE1A139D092CB</td>\n",
              "      <td>2020-09-01 20:52:06</td>\n",
              "      <td>4.99</td>\n",
              "    </tr>\n",
              "    <tr>\n",
              "      <th>4</th>\n",
              "      <td>5EF776307EE761E7</td>\n",
              "      <td>2020-09-01 18:58:31</td>\n",
              "      <td>9.99</td>\n",
              "    </tr>\n",
              "  </tbody>\n",
              "</table>\n",
              "</div>"
            ],
            "text/plain": [
              "            user_id             event_dt  revenue\n",
              "0  72AC8300FD24B022  2020-09-01 00:29:54     4.99\n",
              "1  B73A1EC68AEB1BDF  2020-09-01 09:42:59     9.99\n",
              "2  4367810A6E3F8A89  2020-09-01 11:32:11     4.99\n",
              "3  0FFBE1A139D092CB  2020-09-01 20:52:06     4.99\n",
              "4  5EF776307EE761E7  2020-09-01 18:58:31     9.99"
            ]
          },
          "metadata": {
            "tags": []
          }
        },
        {
          "output_type": "stream",
          "text": [
            "<class 'pandas.core.frame.DataFrame'>\n",
            "RangeIndex: 223216 entries, 0 to 223215\n",
            "Data columns (total 3 columns):\n",
            " #   Column    Non-Null Count   Dtype  \n",
            "---  ------    --------------   -----  \n",
            " 0   user_id   223216 non-null  object \n",
            " 1   event_dt  223216 non-null  object \n",
            " 2   revenue   223216 non-null  float64\n",
            "dtypes: float64(1), object(2)\n",
            "memory usage: 5.1+ MB\n"
          ],
          "name": "stdout"
        }
      ]
    },
    {
      "cell_type": "code",
      "metadata": {
        "id": "TZMNu_vzEoqz",
        "outputId": "95291c0f-7624-48bc-f109-a5bb77cca95c"
      },
      "source": [
        "display(marketing_events.head(5))\n",
        "marketing_events.info()"
      ],
      "execution_count": null,
      "outputs": [
        {
          "output_type": "display_data",
          "data": {
            "text/html": [
              "<div>\n",
              "<style scoped>\n",
              "    .dataframe tbody tr th:only-of-type {\n",
              "        vertical-align: middle;\n",
              "    }\n",
              "\n",
              "    .dataframe tbody tr th {\n",
              "        vertical-align: top;\n",
              "    }\n",
              "\n",
              "    .dataframe thead th {\n",
              "        text-align: right;\n",
              "    }\n",
              "</style>\n",
              "<table border=\"1\" class=\"dataframe\">\n",
              "  <thead>\n",
              "    <tr style=\"text-align: right;\">\n",
              "      <th></th>\n",
              "      <th>name</th>\n",
              "      <th>regions</th>\n",
              "      <th>start_dt</th>\n",
              "      <th>finish_dt</th>\n",
              "    </tr>\n",
              "  </thead>\n",
              "  <tbody>\n",
              "    <tr>\n",
              "      <th>0</th>\n",
              "      <td>Christmas&amp;New Year Promo</td>\n",
              "      <td>EU, N.America</td>\n",
              "      <td>2020-12-25</td>\n",
              "      <td>2021-01-03</td>\n",
              "    </tr>\n",
              "    <tr>\n",
              "      <th>1</th>\n",
              "      <td>St. Valentine's Day Giveaway</td>\n",
              "      <td>EU, CIS, APAC, N.America</td>\n",
              "      <td>2020-02-14</td>\n",
              "      <td>2020-02-16</td>\n",
              "    </tr>\n",
              "    <tr>\n",
              "      <th>2</th>\n",
              "      <td>St. Patric's Day Promo</td>\n",
              "      <td>EU, N.America</td>\n",
              "      <td>2020-03-17</td>\n",
              "      <td>2020-03-19</td>\n",
              "    </tr>\n",
              "    <tr>\n",
              "      <th>3</th>\n",
              "      <td>Easter Promo</td>\n",
              "      <td>EU, CIS, APAC, N.America</td>\n",
              "      <td>2020-04-12</td>\n",
              "      <td>2020-04-19</td>\n",
              "    </tr>\n",
              "    <tr>\n",
              "      <th>4</th>\n",
              "      <td>4th of July Promo</td>\n",
              "      <td>N.America</td>\n",
              "      <td>2020-07-04</td>\n",
              "      <td>2020-07-11</td>\n",
              "    </tr>\n",
              "  </tbody>\n",
              "</table>\n",
              "</div>"
            ],
            "text/plain": [
              "                           name                   regions    start_dt  \\\n",
              "0      Christmas&New Year Promo             EU, N.America  2020-12-25   \n",
              "1  St. Valentine's Day Giveaway  EU, CIS, APAC, N.America  2020-02-14   \n",
              "2        St. Patric's Day Promo             EU, N.America  2020-03-17   \n",
              "3                  Easter Promo  EU, CIS, APAC, N.America  2020-04-12   \n",
              "4             4th of July Promo                 N.America  2020-07-04   \n",
              "\n",
              "    finish_dt  \n",
              "0  2021-01-03  \n",
              "1  2020-02-16  \n",
              "2  2020-03-19  \n",
              "3  2020-04-19  \n",
              "4  2020-07-11  "
            ]
          },
          "metadata": {
            "tags": []
          }
        },
        {
          "output_type": "stream",
          "text": [
            "<class 'pandas.core.frame.DataFrame'>\n",
            "RangeIndex: 14 entries, 0 to 13\n",
            "Data columns (total 4 columns):\n",
            " #   Column     Non-Null Count  Dtype \n",
            "---  ------     --------------  ----- \n",
            " 0   name       14 non-null     object\n",
            " 1   regions    14 non-null     object\n",
            " 2   start_dt   14 non-null     object\n",
            " 3   finish_dt  14 non-null     object\n",
            "dtypes: object(4)\n",
            "memory usage: 576.0+ bytes\n"
          ],
          "name": "stdout"
        }
      ]
    },
    {
      "cell_type": "markdown",
      "metadata": {
        "id": "PElpAVihEoqz"
      },
      "source": [
        "Выводы:\n",
        "- пропусков нет;\n",
        "- даты имеет смысл привести к datetime."
      ]
    },
    {
      "cell_type": "code",
      "metadata": {
        "id": "dq1NsTssEoqz"
      },
      "source": [
        "new_users['first_date'] = pd.to_datetime(new_users['first_date'])\n",
        "sessions['session_start'] = pd.to_datetime(sessions['session_start'])\n",
        "purchases['event_dt'] = pd.to_datetime(purchases['event_dt']) \n",
        "marketing_events['start_dt'] = pd.to_datetime(marketing_events['start_dt'])\n",
        "marketing_events['finish_dt'] = pd.to_datetime(marketing_events['finish_dt'])"
      ],
      "execution_count": null,
      "outputs": []
    },
    {
      "cell_type": "markdown",
      "metadata": {
        "id": "4KGf3-1HEoqz"
      },
      "source": [
        "Отбираем только новых пользователей и только из нужного региона. Плюс из календаря маркетинга отбираем только активности для нужного региона."
      ]
    },
    {
      "cell_type": "code",
      "metadata": {
        "id": "_dA7pv-4Eoqz",
        "outputId": "65d37d23-c1ee-44d1-88c1-2943b7e74a98"
      },
      "source": [
        "eu_new_users = new_users.query('region == \"EU\"')\n",
        "eu_sessions = sessions.copy()[sessions['user_id'].isin(eu_new_users['user_id'])]\n",
        "eu_purchases = purchases[purchases['user_id'].isin(eu_new_users['user_id'])]\n",
        "marketing_events['is_eu'] = marketing_events['regions'].apply(lambda x: 'EU' in x.split(', '))\n",
        "eu_marketing_events = marketing_events.query('is_eu == True')\n",
        "eu_marketing_events"
      ],
      "execution_count": null,
      "outputs": [
        {
          "output_type": "execute_result",
          "data": {
            "text/html": [
              "<div>\n",
              "<style scoped>\n",
              "    .dataframe tbody tr th:only-of-type {\n",
              "        vertical-align: middle;\n",
              "    }\n",
              "\n",
              "    .dataframe tbody tr th {\n",
              "        vertical-align: top;\n",
              "    }\n",
              "\n",
              "    .dataframe thead th {\n",
              "        text-align: right;\n",
              "    }\n",
              "</style>\n",
              "<table border=\"1\" class=\"dataframe\">\n",
              "  <thead>\n",
              "    <tr style=\"text-align: right;\">\n",
              "      <th></th>\n",
              "      <th>name</th>\n",
              "      <th>regions</th>\n",
              "      <th>start_dt</th>\n",
              "      <th>finish_dt</th>\n",
              "      <th>is_eu</th>\n",
              "    </tr>\n",
              "  </thead>\n",
              "  <tbody>\n",
              "    <tr>\n",
              "      <th>0</th>\n",
              "      <td>Christmas&amp;New Year Promo</td>\n",
              "      <td>EU, N.America</td>\n",
              "      <td>2020-12-25</td>\n",
              "      <td>2021-01-03</td>\n",
              "      <td>True</td>\n",
              "    </tr>\n",
              "    <tr>\n",
              "      <th>1</th>\n",
              "      <td>St. Valentine's Day Giveaway</td>\n",
              "      <td>EU, CIS, APAC, N.America</td>\n",
              "      <td>2020-02-14</td>\n",
              "      <td>2020-02-16</td>\n",
              "      <td>True</td>\n",
              "    </tr>\n",
              "    <tr>\n",
              "      <th>2</th>\n",
              "      <td>St. Patric's Day Promo</td>\n",
              "      <td>EU, N.America</td>\n",
              "      <td>2020-03-17</td>\n",
              "      <td>2020-03-19</td>\n",
              "      <td>True</td>\n",
              "    </tr>\n",
              "    <tr>\n",
              "      <th>3</th>\n",
              "      <td>Easter Promo</td>\n",
              "      <td>EU, CIS, APAC, N.America</td>\n",
              "      <td>2020-04-12</td>\n",
              "      <td>2020-04-19</td>\n",
              "      <td>True</td>\n",
              "    </tr>\n",
              "    <tr>\n",
              "      <th>5</th>\n",
              "      <td>Black Friday Ads Campaign</td>\n",
              "      <td>EU, CIS, APAC, N.America</td>\n",
              "      <td>2020-11-26</td>\n",
              "      <td>2020-12-01</td>\n",
              "      <td>True</td>\n",
              "    </tr>\n",
              "    <tr>\n",
              "      <th>7</th>\n",
              "      <td>Labor day (May 1st) Ads Campaign</td>\n",
              "      <td>EU, CIS, APAC</td>\n",
              "      <td>2020-05-01</td>\n",
              "      <td>2020-05-03</td>\n",
              "      <td>True</td>\n",
              "    </tr>\n",
              "    <tr>\n",
              "      <th>8</th>\n",
              "      <td>International Women's Day Promo</td>\n",
              "      <td>EU, CIS, APAC</td>\n",
              "      <td>2020-03-08</td>\n",
              "      <td>2020-03-10</td>\n",
              "      <td>True</td>\n",
              "    </tr>\n",
              "  </tbody>\n",
              "</table>\n",
              "</div>"
            ],
            "text/plain": [
              "                               name                   regions   start_dt  \\\n",
              "0          Christmas&New Year Promo             EU, N.America 2020-12-25   \n",
              "1      St. Valentine's Day Giveaway  EU, CIS, APAC, N.America 2020-02-14   \n",
              "2            St. Patric's Day Promo             EU, N.America 2020-03-17   \n",
              "3                      Easter Promo  EU, CIS, APAC, N.America 2020-04-12   \n",
              "5         Black Friday Ads Campaign  EU, CIS, APAC, N.America 2020-11-26   \n",
              "7  Labor day (May 1st) Ads Campaign             EU, CIS, APAC 2020-05-01   \n",
              "8   International Women's Day Promo             EU, CIS, APAC 2020-03-08   \n",
              "\n",
              "   finish_dt  is_eu  \n",
              "0 2021-01-03   True  \n",
              "1 2020-02-16   True  \n",
              "2 2020-03-19   True  \n",
              "3 2020-04-19   True  \n",
              "5 2020-12-01   True  \n",
              "7 2020-05-03   True  \n",
              "8 2020-03-10   True  "
            ]
          },
          "metadata": {
            "tags": []
          },
          "execution_count": 8
        }
      ]
    },
    {
      "cell_type": "markdown",
      "metadata": {
        "id": "Jkf1ToC6Eoqz"
      },
      "source": [
        "## 2.1 Определение длительности теста\n",
        "- Составляем список метрик и для каждой метрики задайте практическую значимость;\n",
        "- Задаем уровень статистической значимости и требуемую мощность;\n",
        "- Проводим коррекцию уровня значимости в соотвествии с количеством метрик;\n",
        "- Расчитывыем необходимую длительность теста для кажой из метрик, выберите общую длительность теста."
      ]
    },
    {
      "cell_type": "code",
      "metadata": {
        "id": "g4wz1GXyEoqz",
        "outputId": "d9a55cc9-9289-4209-98f5-ce38c6e3d1a0"
      },
      "source": [
        "pd.set_option('display.max_colwidth', None)\n",
        "# задаем набор метрик\n",
        "metrics = pd.DataFrame([\n",
        "                        ['Конверсия в покупку', None, None, 0.25, None, None, None],\n",
        "                        ['Средняя длительность сессии', None, None, 0.15, None, None, None],\n",
        "                       ], columns = ['Метрика', \n",
        "                                     'mean', \n",
        "                                     'std', \n",
        "                                     'Относительная практическая значимость', \n",
        "                                     'Количество наблюдений',\n",
        "                                     'Наблюдений в день',\n",
        "                                     'Длительность']).set_index('Метрика')\n",
        "metrics"
      ],
      "execution_count": null,
      "outputs": [
        {
          "output_type": "execute_result",
          "data": {
            "text/html": [
              "<div>\n",
              "<style scoped>\n",
              "    .dataframe tbody tr th:only-of-type {\n",
              "        vertical-align: middle;\n",
              "    }\n",
              "\n",
              "    .dataframe tbody tr th {\n",
              "        vertical-align: top;\n",
              "    }\n",
              "\n",
              "    .dataframe thead th {\n",
              "        text-align: right;\n",
              "    }\n",
              "</style>\n",
              "<table border=\"1\" class=\"dataframe\">\n",
              "  <thead>\n",
              "    <tr style=\"text-align: right;\">\n",
              "      <th></th>\n",
              "      <th>mean</th>\n",
              "      <th>std</th>\n",
              "      <th>Относительная практическая значимость</th>\n",
              "      <th>Количество наблюдений</th>\n",
              "      <th>Наблюдений в день</th>\n",
              "      <th>Длительность</th>\n",
              "    </tr>\n",
              "    <tr>\n",
              "      <th>Метрика</th>\n",
              "      <th></th>\n",
              "      <th></th>\n",
              "      <th></th>\n",
              "      <th></th>\n",
              "      <th></th>\n",
              "      <th></th>\n",
              "    </tr>\n",
              "  </thead>\n",
              "  <tbody>\n",
              "    <tr>\n",
              "      <th>Конверсия в покупку</th>\n",
              "      <td>None</td>\n",
              "      <td>None</td>\n",
              "      <td>0.25</td>\n",
              "      <td>None</td>\n",
              "      <td>None</td>\n",
              "      <td>None</td>\n",
              "    </tr>\n",
              "    <tr>\n",
              "      <th>Средняя длительность сессии</th>\n",
              "      <td>None</td>\n",
              "      <td>None</td>\n",
              "      <td>0.15</td>\n",
              "      <td>None</td>\n",
              "      <td>None</td>\n",
              "      <td>None</td>\n",
              "    </tr>\n",
              "  </tbody>\n",
              "</table>\n",
              "</div>"
            ],
            "text/plain": [
              "                             mean   std  \\\n",
              "Метрика                                   \n",
              "Конверсия в покупку          None  None   \n",
              "Средняя длительность сессии  None  None   \n",
              "\n",
              "                             Относительная практическая значимость  \\\n",
              "Метрика                                                              \n",
              "Конверсия в покупку                                           0.25   \n",
              "Средняя длительность сессии                                   0.15   \n",
              "\n",
              "                            Количество наблюдений Наблюдений в день  \\\n",
              "Метрика                                                               \n",
              "Конверсия в покупку                          None              None   \n",
              "Средняя длительность сессии                  None              None   \n",
              "\n",
              "                            Длительность  \n",
              "Метрика                                   \n",
              "Конверсия в покупку                 None  \n",
              "Средняя длительность сессии         None  "
            ]
          },
          "metadata": {
            "tags": []
          },
          "execution_count": 9
        }
      ]
    },
    {
      "cell_type": "markdown",
      "metadata": {
        "id": "9brXEMChEoq0"
      },
      "source": [
        "Заполняем средние и СКО по историческим данным:\n",
        "- Конверсия в покупку"
      ]
    },
    {
      "cell_type": "code",
      "metadata": {
        "id": "GQzCAn9cEoq0",
        "outputId": "22586707-45cd-4148-9bee-5cf43c645378"
      },
      "source": [
        "p = len(eu_purchases['user_id'].unique()) / len(eu_new_users['user_id'].unique())\n",
        "metrics.loc[metrics.index == 'Конверсия в покупку', ['mean', 'std']] = [p, np.sqrt(p * (1 - p))]\n",
        "\n",
        "metrics"
      ],
      "execution_count": null,
      "outputs": [
        {
          "output_type": "execute_result",
          "data": {
            "text/html": [
              "<div>\n",
              "<style scoped>\n",
              "    .dataframe tbody tr th:only-of-type {\n",
              "        vertical-align: middle;\n",
              "    }\n",
              "\n",
              "    .dataframe tbody tr th {\n",
              "        vertical-align: top;\n",
              "    }\n",
              "\n",
              "    .dataframe thead th {\n",
              "        text-align: right;\n",
              "    }\n",
              "</style>\n",
              "<table border=\"1\" class=\"dataframe\">\n",
              "  <thead>\n",
              "    <tr style=\"text-align: right;\">\n",
              "      <th></th>\n",
              "      <th>mean</th>\n",
              "      <th>std</th>\n",
              "      <th>Относительная практическая значимость</th>\n",
              "      <th>Количество наблюдений</th>\n",
              "      <th>Наблюдений в день</th>\n",
              "      <th>Длительность</th>\n",
              "    </tr>\n",
              "    <tr>\n",
              "      <th>Метрика</th>\n",
              "      <th></th>\n",
              "      <th></th>\n",
              "      <th></th>\n",
              "      <th></th>\n",
              "      <th></th>\n",
              "      <th></th>\n",
              "    </tr>\n",
              "  </thead>\n",
              "  <tbody>\n",
              "    <tr>\n",
              "      <th>Конверсия в покупку</th>\n",
              "      <td>0.459969</td>\n",
              "      <td>0.498395</td>\n",
              "      <td>0.25</td>\n",
              "      <td>None</td>\n",
              "      <td>None</td>\n",
              "      <td>None</td>\n",
              "    </tr>\n",
              "    <tr>\n",
              "      <th>Средняя длительность сессии</th>\n",
              "      <td>None</td>\n",
              "      <td>None</td>\n",
              "      <td>0.15</td>\n",
              "      <td>None</td>\n",
              "      <td>None</td>\n",
              "      <td>None</td>\n",
              "    </tr>\n",
              "  </tbody>\n",
              "</table>\n",
              "</div>"
            ],
            "text/plain": [
              "                                 mean       std  \\\n",
              "Метрика                                           \n",
              "Конверсия в покупку          0.459969  0.498395   \n",
              "Средняя длительность сессии      None      None   \n",
              "\n",
              "                             Относительная практическая значимость  \\\n",
              "Метрика                                                              \n",
              "Конверсия в покупку                                           0.25   \n",
              "Средняя длительность сессии                                   0.15   \n",
              "\n",
              "                            Количество наблюдений Наблюдений в день  \\\n",
              "Метрика                                                               \n",
              "Конверсия в покупку                          None              None   \n",
              "Средняя длительность сессии                  None              None   \n",
              "\n",
              "                            Длительность  \n",
              "Метрика                                   \n",
              "Конверсия в покупку                 None  \n",
              "Средняя длительность сессии         None  "
            ]
          },
          "metadata": {
            "tags": []
          },
          "execution_count": 10
        }
      ]
    },
    {
      "cell_type": "markdown",
      "metadata": {
        "id": "Am8uEEmZEoq0"
      },
      "source": [
        "- Средняя длительность сессии"
      ]
    },
    {
      "cell_type": "code",
      "metadata": {
        "id": "j4tHve4KEoq0",
        "outputId": "407501cf-5c6b-4b4a-8734-15c617877b9f"
      },
      "source": [
        "report = eu_sessions.copy()\n",
        "display(report.describe(percentiles = [0.05, 0.5, 0.95]).T)\n",
        "\n",
        "plt.subplots(figsize = (10, 5))\n",
        "report.hist(ax = plt.subplot(1, 2, 1))\n",
        "report.boxplot(ax = plt.subplot(1, 2, 2))\n",
        "plt.show()"
      ],
      "execution_count": null,
      "outputs": [
        {
          "output_type": "display_data",
          "data": {
            "text/html": [
              "<div>\n",
              "<style scoped>\n",
              "    .dataframe tbody tr th:only-of-type {\n",
              "        vertical-align: middle;\n",
              "    }\n",
              "\n",
              "    .dataframe tbody tr th {\n",
              "        vertical-align: top;\n",
              "    }\n",
              "\n",
              "    .dataframe thead th {\n",
              "        text-align: right;\n",
              "    }\n",
              "</style>\n",
              "<table border=\"1\" class=\"dataframe\">\n",
              "  <thead>\n",
              "    <tr style=\"text-align: right;\">\n",
              "      <th></th>\n",
              "      <th>count</th>\n",
              "      <th>mean</th>\n",
              "      <th>std</th>\n",
              "      <th>min</th>\n",
              "      <th>5%</th>\n",
              "      <th>50%</th>\n",
              "      <th>95%</th>\n",
              "      <th>max</th>\n",
              "    </tr>\n",
              "  </thead>\n",
              "  <tbody>\n",
              "    <tr>\n",
              "      <th>session_duration</th>\n",
              "      <td>280623.0</td>\n",
              "      <td>5.005079</td>\n",
              "      <td>5.013423</td>\n",
              "      <td>0.00002</td>\n",
              "      <td>0.258142</td>\n",
              "      <td>3.472495</td>\n",
              "      <td>15.008576</td>\n",
              "      <td>86.071318</td>\n",
              "    </tr>\n",
              "  </tbody>\n",
              "</table>\n",
              "</div>"
            ],
            "text/plain": [
              "                     count      mean       std      min        5%       50%  \\\n",
              "session_duration  280623.0  5.005079  5.013423  0.00002  0.258142  3.472495   \n",
              "\n",
              "                        95%        max  \n",
              "session_duration  15.008576  86.071318  "
            ]
          },
          "metadata": {
            "tags": []
          }
        },
        {
          "output_type": "display_data",
          "data": {
            "image/png": "[encoded data removed]",
            "text/plain": [
              "<Figure size 720x360 with 2 Axes>"
            ]
          },
          "metadata": {
            "tags": [],
            "needs_background": "light"
          }
        }
      ]
    },
    {
      "cell_type": "markdown",
      "metadata": {
        "id": "cpPlxeRlEoq0"
      },
      "source": [
        "Выбросы есть, почистим их, а потом почситаем среднее и СКО:"
      ]
    },
    {
      "cell_type": "code",
      "metadata": {
        "id": "_KYwP92-Eoq0",
        "outputId": "b1862383-4397-4855-d137-9ccffbbc876c"
      },
      "source": [
        "p95 = report.describe(percentiles = [0.05, 0.5, 0.95]).T['95%']['session_duration']\n",
        "report = report.query('session_duration <= @p95')\n",
        "\n",
        "plt.subplots(figsize = (10, 5))\n",
        "report.hist(ax = plt.subplot(1, 2, 1))\n",
        "report.boxplot(ax = plt.subplot(1, 2, 2))\n",
        "plt.show()\n",
        "\n",
        "metrics.loc[metrics.index == 'Средняя длительность сессии', ['mean', 'std']] = [report['session_duration'].mean(), \n",
        "                                                                                report['session_duration'].std()]\n",
        "metrics"
      ],
      "execution_count": null,
      "outputs": [
        {
          "output_type": "display_data",
          "data": {
            "image/png": "[encoded data removed]",
            "text/plain": [
              "<Figure size 720x360 with 2 Axes>"
            ]
          },
          "metadata": {
            "tags": [],
            "needs_background": "light"
          }
        },
        {
          "output_type": "execute_result",
          "data": {
            "text/html": [
              "<div>\n",
              "<style scoped>\n",
              "    .dataframe tbody tr th:only-of-type {\n",
              "        vertical-align: middle;\n",
              "    }\n",
              "\n",
              "    .dataframe tbody tr th {\n",
              "        vertical-align: top;\n",
              "    }\n",
              "\n",
              "    .dataframe thead th {\n",
              "        text-align: right;\n",
              "    }\n",
              "</style>\n",
              "<table border=\"1\" class=\"dataframe\">\n",
              "  <thead>\n",
              "    <tr style=\"text-align: right;\">\n",
              "      <th></th>\n",
              "      <th>mean</th>\n",
              "      <th>std</th>\n",
              "      <th>Относительная практическая значимость</th>\n",
              "      <th>Количество наблюдений</th>\n",
              "      <th>Наблюдений в день</th>\n",
              "      <th>Длительность</th>\n",
              "    </tr>\n",
              "    <tr>\n",
              "      <th>Метрика</th>\n",
              "      <th></th>\n",
              "      <th></th>\n",
              "      <th></th>\n",
              "      <th></th>\n",
              "      <th></th>\n",
              "      <th></th>\n",
              "    </tr>\n",
              "  </thead>\n",
              "  <tbody>\n",
              "    <tr>\n",
              "      <th>Конверсия в покупку</th>\n",
              "      <td>0.459969</td>\n",
              "      <td>0.498395</td>\n",
              "      <td>0.25</td>\n",
              "      <td>None</td>\n",
              "      <td>None</td>\n",
              "      <td>None</td>\n",
              "    </tr>\n",
              "    <tr>\n",
              "      <th>Средняя длительность сессии</th>\n",
              "      <td>4.21232</td>\n",
              "      <td>3.54534</td>\n",
              "      <td>0.15</td>\n",
              "      <td>None</td>\n",
              "      <td>None</td>\n",
              "      <td>None</td>\n",
              "    </tr>\n",
              "  </tbody>\n",
              "</table>\n",
              "</div>"
            ],
            "text/plain": [
              "                                 mean       std  \\\n",
              "Метрика                                           \n",
              "Конверсия в покупку          0.459969  0.498395   \n",
              "Средняя длительность сессии   4.21232   3.54534   \n",
              "\n",
              "                             Относительная практическая значимость  \\\n",
              "Метрика                                                              \n",
              "Конверсия в покупку                                           0.25   \n",
              "Средняя длительность сессии                                   0.15   \n",
              "\n",
              "                            Количество наблюдений Наблюдений в день  \\\n",
              "Метрика                                                               \n",
              "Конверсия в покупку                          None              None   \n",
              "Средняя длительность сессии                  None              None   \n",
              "\n",
              "                            Длительность  \n",
              "Метрика                                   \n",
              "Конверсия в покупку                 None  \n",
              "Средняя длительность сессии         None  "
            ]
          },
          "metadata": {
            "tags": []
          },
          "execution_count": 12
        }
      ]
    },
    {
      "cell_type": "markdown",
      "metadata": {
        "id": "zh3bLXBrEoq0"
      },
      "source": [
        "Задаем уровень значимости и мощность, корректируем уровень значимости. Для уровня значимости и мощности берем дежурные значения, коррекцию проводим методом Бонферрони:"
      ]
    },
    {
      "cell_type": "code",
      "metadata": {
        "id": "g5F7gBmnEoq1",
        "outputId": "4882485a-01ce-4e78-f891-5e474f735494"
      },
      "source": [
        "alpha = 0.05\n",
        "power = 0.8\n",
        "alpha = alpha / metrics.shape[0]\n",
        "alpha, power"
      ],
      "execution_count": null,
      "outputs": [
        {
          "output_type": "execute_result",
          "data": {
            "text/plain": [
              "(0.025, 0.8)"
            ]
          },
          "metadata": {
            "tags": []
          },
          "execution_count": 13
        }
      ]
    },
    {
      "cell_type": "markdown",
      "metadata": {
        "id": "aJatIUuuEoq1"
      },
      "source": [
        "Расчитываем количество наблюдений:"
      ]
    },
    {
      "cell_type": "code",
      "metadata": {
        "id": "ALWIRmNqEoq1",
        "outputId": "f15c941f-5b10-47fc-df11-08238185de97"
      },
      "source": [
        "# функция для расчета длительности теста \n",
        "def get_sample_size(mean, \n",
        "                    std,                            \n",
        "                    relative_practical_significance, \n",
        "                    alpha, \n",
        "                    power):\n",
        "    \n",
        "    z = stats.norm.ppf(1 - alpha / 2) + abs(stats.norm.ppf(1 - power))\n",
        "    d = mean * relative_practical_significance\n",
        "    \n",
        "    return math.ceil(2 * ((std * z / d) ** 2))\n",
        "\n",
        "metrics['Количество наблюдений'] = metrics.apply(lambda x: get_sample_size(x['mean'], \n",
        "                                                                           x['std'], \n",
        "                                                                           x['Относительная практическая значимость'],\n",
        "                                                                           alpha, \n",
        "                                                                           power), axis = 1)\n",
        "metrics"
      ],
      "execution_count": null,
      "outputs": [
        {
          "output_type": "execute_result",
          "data": {
            "text/html": [
              "<div>\n",
              "<style scoped>\n",
              "    .dataframe tbody tr th:only-of-type {\n",
              "        vertical-align: middle;\n",
              "    }\n",
              "\n",
              "    .dataframe tbody tr th {\n",
              "        vertical-align: top;\n",
              "    }\n",
              "\n",
              "    .dataframe thead th {\n",
              "        text-align: right;\n",
              "    }\n",
              "</style>\n",
              "<table border=\"1\" class=\"dataframe\">\n",
              "  <thead>\n",
              "    <tr style=\"text-align: right;\">\n",
              "      <th></th>\n",
              "      <th>mean</th>\n",
              "      <th>std</th>\n",
              "      <th>Относительная практическая значимость</th>\n",
              "      <th>Количество наблюдений</th>\n",
              "      <th>Наблюдений в день</th>\n",
              "      <th>Длительность</th>\n",
              "    </tr>\n",
              "    <tr>\n",
              "      <th>Метрика</th>\n",
              "      <th></th>\n",
              "      <th></th>\n",
              "      <th></th>\n",
              "      <th></th>\n",
              "      <th></th>\n",
              "      <th></th>\n",
              "    </tr>\n",
              "  </thead>\n",
              "  <tbody>\n",
              "    <tr>\n",
              "      <th>Конверсия в покупку</th>\n",
              "      <td>0.459969</td>\n",
              "      <td>0.498395</td>\n",
              "      <td>0.25</td>\n",
              "      <td>358</td>\n",
              "      <td>None</td>\n",
              "      <td>None</td>\n",
              "    </tr>\n",
              "    <tr>\n",
              "      <th>Средняя длительность сессии</th>\n",
              "      <td>4.21232</td>\n",
              "      <td>3.54534</td>\n",
              "      <td>0.15</td>\n",
              "      <td>599</td>\n",
              "      <td>None</td>\n",
              "      <td>None</td>\n",
              "    </tr>\n",
              "  </tbody>\n",
              "</table>\n",
              "</div>"
            ],
            "text/plain": [
              "                                 mean       std  \\\n",
              "Метрика                                           \n",
              "Конверсия в покупку          0.459969  0.498395   \n",
              "Средняя длительность сессии   4.21232   3.54534   \n",
              "\n",
              "                             Относительная практическая значимость  \\\n",
              "Метрика                                                              \n",
              "Конверсия в покупку                                           0.25   \n",
              "Средняя длительность сессии                                   0.15   \n",
              "\n",
              "                             Количество наблюдений Наблюдений в день  \\\n",
              "Метрика                                                                \n",
              "Конверсия в покупку                            358              None   \n",
              "Средняя длительность сессии                    599              None   \n",
              "\n",
              "                            Длительность  \n",
              "Метрика                                   \n",
              "Конверсия в покупку                 None  \n",
              "Средняя длительность сессии         None  "
            ]
          },
          "metadata": {
            "tags": []
          },
          "execution_count": 14
        }
      ]
    },
    {
      "cell_type": "markdown",
      "metadata": {
        "id": "hXfysZZjEoq1"
      },
      "source": [
        "Заполняем количество наблюдений в единицу времени (день):\n",
        "- Для конверсии в покупку наблюдение это каждый новый пользователь;\n",
        "- Для длительности сессий наблюдение это одна сессия. Т.к. один пользователь сгенерирует как минимум одну сессию, можем считать, что количество наблюдений в день равно как минимум числу новых пользователей в день.\n",
        "\n",
        "При расчете учитываем, что в тест будут попадать только 20% новых пользователей."
      ]
    },
    {
      "cell_type": "code",
      "metadata": {
        "id": "67FP2KbbEoq1",
        "outputId": "ace59288-052f-4c08-accd-2788ebbb3678"
      },
      "source": [
        "test_audience_percent = 0.2\n",
        "\n",
        "# конверсия в покупку\n",
        "mean_daily_users = eu_new_users.groupby('first_date').agg({'user_id': 'nunique'})['user_id'].mean()\n",
        "metrics.loc[metrics.index == 'Конверсия в покупку', 'Наблюдений в день'] = mean_daily_users * test_audience_percent\n",
        "\n",
        "# средняя длительность сессии\n",
        "metrics.loc[metrics.index == 'Средняя длительность сессии', 'Наблюдений в день'] = mean_daily_users * test_audience_percent\n",
        "\n",
        "metrics['Наблюдений в день'] = metrics['Наблюдений в день'].astype(int)\n",
        "\n",
        "metrics  "
      ],
      "execution_count": null,
      "outputs": [
        {
          "output_type": "execute_result",
          "data": {
            "text/html": [
              "<div>\n",
              "<style scoped>\n",
              "    .dataframe tbody tr th:only-of-type {\n",
              "        vertical-align: middle;\n",
              "    }\n",
              "\n",
              "    .dataframe tbody tr th {\n",
              "        vertical-align: top;\n",
              "    }\n",
              "\n",
              "    .dataframe thead th {\n",
              "        text-align: right;\n",
              "    }\n",
              "</style>\n",
              "<table border=\"1\" class=\"dataframe\">\n",
              "  <thead>\n",
              "    <tr style=\"text-align: right;\">\n",
              "      <th></th>\n",
              "      <th>mean</th>\n",
              "      <th>std</th>\n",
              "      <th>Относительная практическая значимость</th>\n",
              "      <th>Количество наблюдений</th>\n",
              "      <th>Наблюдений в день</th>\n",
              "      <th>Длительность</th>\n",
              "    </tr>\n",
              "    <tr>\n",
              "      <th>Метрика</th>\n",
              "      <th></th>\n",
              "      <th></th>\n",
              "      <th></th>\n",
              "      <th></th>\n",
              "      <th></th>\n",
              "      <th></th>\n",
              "    </tr>\n",
              "  </thead>\n",
              "  <tbody>\n",
              "    <tr>\n",
              "      <th>Конверсия в покупку</th>\n",
              "      <td>0.459969</td>\n",
              "      <td>0.498395</td>\n",
              "      <td>0.25</td>\n",
              "      <td>358</td>\n",
              "      <td>241</td>\n",
              "      <td>None</td>\n",
              "    </tr>\n",
              "    <tr>\n",
              "      <th>Средняя длительность сессии</th>\n",
              "      <td>4.21232</td>\n",
              "      <td>3.54534</td>\n",
              "      <td>0.15</td>\n",
              "      <td>599</td>\n",
              "      <td>241</td>\n",
              "      <td>None</td>\n",
              "    </tr>\n",
              "  </tbody>\n",
              "</table>\n",
              "</div>"
            ],
            "text/plain": [
              "                                 mean       std  \\\n",
              "Метрика                                           \n",
              "Конверсия в покупку          0.459969  0.498395   \n",
              "Средняя длительность сессии   4.21232   3.54534   \n",
              "\n",
              "                             Относительная практическая значимость  \\\n",
              "Метрика                                                              \n",
              "Конверсия в покупку                                           0.25   \n",
              "Средняя длительность сессии                                   0.15   \n",
              "\n",
              "                             Количество наблюдений  Наблюдений в день  \\\n",
              "Метрика                                                                 \n",
              "Конверсия в покупку                            358                241   \n",
              "Средняя длительность сессии                    599                241   \n",
              "\n",
              "                            Длительность  \n",
              "Метрика                                   \n",
              "Конверсия в покупку                 None  \n",
              "Средняя длительность сессии         None  "
            ]
          },
          "metadata": {
            "tags": []
          },
          "execution_count": 15
        }
      ]
    },
    {
      "cell_type": "markdown",
      "metadata": {
        "id": "ZCayUrLeEoq1"
      },
      "source": [
        "Расчитаем длительности тестов, учитывая количество групп в тесте:"
      ]
    },
    {
      "cell_type": "code",
      "metadata": {
        "id": "ya_xVbvMEoq1",
        "outputId": "6bf6869b-dbb2-48ff-aeea-29614a7857ac"
      },
      "source": [
        "test_groups_num = 2\n",
        "metrics['Длительность'] = np.ceil(metrics['Количество наблюдений'] / metrics['Наблюдений в день'] * test_groups_num).astype(int)\n",
        "display(metrics)\n",
        "\n",
        "test_duration = metrics['Длительность'].max()\n",
        "print('Рекомендованная длительность теста: {} дня(ей)'.format(test_duration))"
      ],
      "execution_count": null,
      "outputs": [
        {
          "output_type": "display_data",
          "data": {
            "text/html": [
              "<div>\n",
              "<style scoped>\n",
              "    .dataframe tbody tr th:only-of-type {\n",
              "        vertical-align: middle;\n",
              "    }\n",
              "\n",
              "    .dataframe tbody tr th {\n",
              "        vertical-align: top;\n",
              "    }\n",
              "\n",
              "    .dataframe thead th {\n",
              "        text-align: right;\n",
              "    }\n",
              "</style>\n",
              "<table border=\"1\" class=\"dataframe\">\n",
              "  <thead>\n",
              "    <tr style=\"text-align: right;\">\n",
              "      <th></th>\n",
              "      <th>mean</th>\n",
              "      <th>std</th>\n",
              "      <th>Относительная практическая значимость</th>\n",
              "      <th>Количество наблюдений</th>\n",
              "      <th>Наблюдений в день</th>\n",
              "      <th>Длительность</th>\n",
              "    </tr>\n",
              "    <tr>\n",
              "      <th>Метрика</th>\n",
              "      <th></th>\n",
              "      <th></th>\n",
              "      <th></th>\n",
              "      <th></th>\n",
              "      <th></th>\n",
              "      <th></th>\n",
              "    </tr>\n",
              "  </thead>\n",
              "  <tbody>\n",
              "    <tr>\n",
              "      <th>Конверсия в покупку</th>\n",
              "      <td>0.459969</td>\n",
              "      <td>0.498395</td>\n",
              "      <td>0.25</td>\n",
              "      <td>358</td>\n",
              "      <td>241</td>\n",
              "      <td>3</td>\n",
              "    </tr>\n",
              "    <tr>\n",
              "      <th>Средняя длительность сессии</th>\n",
              "      <td>4.21232</td>\n",
              "      <td>3.54534</td>\n",
              "      <td>0.15</td>\n",
              "      <td>599</td>\n",
              "      <td>241</td>\n",
              "      <td>5</td>\n",
              "    </tr>\n",
              "  </tbody>\n",
              "</table>\n",
              "</div>"
            ],
            "text/plain": [
              "                                 mean       std  \\\n",
              "Метрика                                           \n",
              "Конверсия в покупку          0.459969  0.498395   \n",
              "Средняя длительность сессии   4.21232   3.54534   \n",
              "\n",
              "                             Относительная практическая значимость  \\\n",
              "Метрика                                                              \n",
              "Конверсия в покупку                                           0.25   \n",
              "Средняя длительность сессии                                   0.15   \n",
              "\n",
              "                             Количество наблюдений  Наблюдений в день  \\\n",
              "Метрика                                                                 \n",
              "Конверсия в покупку                            358                241   \n",
              "Средняя длительность сессии                    599                241   \n",
              "\n",
              "                             Длительность  \n",
              "Метрика                                    \n",
              "Конверсия в покупку                     3  \n",
              "Средняя длительность сессии             5  "
            ]
          },
          "metadata": {
            "tags": []
          }
        },
        {
          "output_type": "stream",
          "text": [
            "Рекомендованная длительность теста: 5 дня(ей)\n"
          ],
          "name": "stdout"
        }
      ]
    },
    {
      "cell_type": "markdown",
      "metadata": {
        "id": "TvzYcvu-Eoq1"
      },
      "source": [
        "Проверим, демонстрируют ли данные сезонность:"
      ]
    },
    {
      "cell_type": "code",
      "metadata": {
        "id": "hUoWVw-IEoq1",
        "outputId": "d660d87d-63ec-4184-fae9-f21c21b13abb"
      },
      "source": [
        "plt.subplots(figsize = (10, 5))\n",
        "\n",
        "report = eu_new_users.copy()\n",
        "report['first_date'] = report['first_date'].dt.date\n",
        "(report.groupby('first_date').agg({'user_id': 'nunique'})\n",
        "       .rename(columns = {'user_id': 'Пользователи'})\n",
        "       .plot(ax = plt.subplot(1, 2, 1), grid = True))\n",
        "plt.xlabel('Дата')\n",
        "plt.xticks(rotation = 45)\n",
        "plt.title('Новые пользователи в день')\n",
        "\n",
        "report = eu_sessions.copy()\n",
        "report['session_start'] = report['session_start'].dt.date\n",
        "(report.groupby('session_start').agg({'user_id': 'count'})\n",
        "       .rename(columns = {'user_id': 'Сессии'})\n",
        "       .plot(ax = plt.subplot(1, 2, 2), grid = True))\n",
        "plt.xlabel('Дата')\n",
        "plt.xticks(rotation = 45)\n",
        "plt.title('Сессии в день')\n",
        "\n",
        "plt.show()"
      ],
      "execution_count": null,
      "outputs": [
        {
          "output_type": "display_data",
          "data": {
            "image/png": "[encoded data removed]",
            "text/plain": [
              "<Figure size 720x360 with 2 Axes>"
            ]
          },
          "metadata": {
            "tags": [],
            "needs_background": "light"
          }
        }
      ]
    },
    {
      "cell_type": "markdown",
      "metadata": {
        "id": "uUSvz3QwEoq2"
      },
      "source": [
        "Вывод: данные демонстрируют явную недельную сезонность. \n",
        "\n",
        "Имеет смысл установить длительность теста кратной одной недели. Расчитаем длительность теста с учетом недельной сезонности."
      ]
    },
    {
      "cell_type": "code",
      "metadata": {
        "id": "ty8nyC5xEoq2",
        "outputId": "9c13a6b8-a01c-424b-ad34-2d966dc4d0c4"
      },
      "source": [
        "test_duration_adjusted = int(np.ceil(test_duration / 7) * 7)\n",
        "print('Рекомендованная длительность теста (с учетом недельной сезонности): {} дня(ей)'.format(test_duration_adjusted))"
      ],
      "execution_count": null,
      "outputs": [
        {
          "output_type": "stream",
          "text": [
            "Рекомендованная длительность теста (с учетом недельной сезонности): 7 дня(ей)\n"
          ],
          "name": "stdout"
        }
      ]
    },
    {
      "cell_type": "markdown",
      "metadata": {
        "id": "AzJxtaISEoq2"
      },
      "source": [
        "Вывод: тест должен быть не короче 7 дней для того, чтобы набрать нужное количество пользователей. "
      ]
    },
    {
      "cell_type": "markdown",
      "metadata": {
        "id": "moOcowzJEoq2"
      },
      "source": [
        "## 1.3 Определение момента запуска и остановки теста"
      ]
    },
    {
      "cell_type": "markdown",
      "metadata": {
        "id": "et9cVt1IEoq2"
      },
      "source": [
        "Заказчик просит запустить тест не ранее 01.12, отфильтруем все промки попадающие в интервал времени после начала декабря."
      ]
    },
    {
      "cell_type": "code",
      "metadata": {
        "id": "kFIA1J8IEoq2",
        "outputId": "b8ae8a2f-76e7-4b52-fe98-72501818f605"
      },
      "source": [
        "eu_marketing_events.query('finish_dt >= \"2020-12-01\"')"
      ],
      "execution_count": null,
      "outputs": [
        {
          "output_type": "execute_result",
          "data": {
            "text/html": [
              "<div>\n",
              "<style scoped>\n",
              "    .dataframe tbody tr th:only-of-type {\n",
              "        vertical-align: middle;\n",
              "    }\n",
              "\n",
              "    .dataframe tbody tr th {\n",
              "        vertical-align: top;\n",
              "    }\n",
              "\n",
              "    .dataframe thead th {\n",
              "        text-align: right;\n",
              "    }\n",
              "</style>\n",
              "<table border=\"1\" class=\"dataframe\">\n",
              "  <thead>\n",
              "    <tr style=\"text-align: right;\">\n",
              "      <th></th>\n",
              "      <th>name</th>\n",
              "      <th>regions</th>\n",
              "      <th>start_dt</th>\n",
              "      <th>finish_dt</th>\n",
              "      <th>is_eu</th>\n",
              "    </tr>\n",
              "  </thead>\n",
              "  <tbody>\n",
              "    <tr>\n",
              "      <th>0</th>\n",
              "      <td>Christmas&amp;New Year Promo</td>\n",
              "      <td>EU, N.America</td>\n",
              "      <td>2020-12-25</td>\n",
              "      <td>2021-01-03</td>\n",
              "      <td>True</td>\n",
              "    </tr>\n",
              "    <tr>\n",
              "      <th>5</th>\n",
              "      <td>Black Friday Ads Campaign</td>\n",
              "      <td>EU, CIS, APAC, N.America</td>\n",
              "      <td>2020-11-26</td>\n",
              "      <td>2020-12-01</td>\n",
              "      <td>True</td>\n",
              "    </tr>\n",
              "  </tbody>\n",
              "</table>\n",
              "</div>"
            ],
            "text/plain": [
              "                        name                   regions   start_dt  finish_dt  \\\n",
              "0   Christmas&New Year Promo             EU, N.America 2020-12-25 2021-01-03   \n",
              "5  Black Friday Ads Campaign  EU, CIS, APAC, N.America 2020-11-26 2020-12-01   \n",
              "\n",
              "   is_eu  \n",
              "0   True  \n",
              "5   True  "
            ]
          },
          "metadata": {
            "tags": []
          },
          "execution_count": 19
        }
      ]
    },
    {
      "cell_type": "markdown",
      "metadata": {
        "id": "6KU2s0o9Eoq2"
      },
      "source": [
        "## 1.4 Составление технического задания для разработчиков"
      ]
    },
    {
      "cell_type": "markdown",
      "metadata": {
        "id": "7_yD7DRvEoq2"
      },
      "source": [
        "Параметры теста:\n",
        "- Наименование теста: new_interface_test;\n",
        "- Группы: А (котрольная), B (новая платежная воронка);\n",
        "- Дата запуска: 2021-01-04\n",
        "- Дата остановки набора новых пользователей: 2021-01-10;\n",
        "- Дата остановки: 2021-01-16 (+7 дней активности);\n",
        "- Аудитория: 20% новых пользователей из региона EU;\n",
        "- Назначение теста: тестирование изменений, связанных с внедрением улучшенной onboarding-воронки;\n",
        "- Ожидаемый эфект: конверсия в покупку изменится на 25%, средняя длительность сессии изменится на 15%."
      ]
    },
    {
      "cell_type": "markdown",
      "metadata": {
        "id": "vG2tAsuQEoq2"
      },
      "source": [
        "Задаем временные границы теста:"
      ]
    },
    {
      "cell_type": "code",
      "metadata": {
        "id": "bs7EbG5qEoq2"
      },
      "source": [
        "test_start = pd.to_datetime('2021-01-04')\n",
        "user_acquisition_duration = 7\n",
        "activity_duration = 1\n",
        "user_acquisition_end = test_start + timedelta(user_acquisition_duration - 1)"
      ],
      "execution_count": null,
      "outputs": []
    },
    {
      "cell_type": "markdown",
      "metadata": {
        "id": "pjnIptCiEoq2"
      },
      "source": [
        "# 2. Проведение теста: ситуация через 5 дней после запуска"
      ]
    },
    {
      "cell_type": "markdown",
      "metadata": {
        "id": "kFFFXLveEoq2"
      },
      "source": [
        "После долгих размышлений тест все же решили запустить 4-го января 2021 года. Представьте, что сейчас на календаре 5й день теста - 8-е января 2021. Вам нужно проанализировать промежуточные результаты теста и принять решение о его остановке или продолжении."
      ]
    },
    {
      "cell_type": "markdown",
      "metadata": {
        "id": "DsOXtTZVEoq2"
      },
      "source": [
        "## 2.1 Загрузка и подготовка данных"
      ]
    },
    {
      "cell_type": "markdown",
      "metadata": {
        "id": "lAg1AW-CEoq2"
      },
      "source": [
        "Загружаем данные, преобразуем даты и время:"
      ]
    },
    {
      "cell_type": "code",
      "metadata": {
        "id": "68jvqyQhEoq3"
      },
      "source": [
        "new_users = pd.read_csv('cons_new_users_monitoring.csv')\n",
        "sessions = pd.read_csv('cons_sessions_monitoring.csv')\n",
        "purchases = pd.read_csv('cons_purchases_monitoring.csv')\n",
        "test_participants = pd.read_csv('cons_participants_monitoring.csv')\n",
        "\n",
        "new_users['first_date'] = pd.to_datetime(new_users['first_date']).dt.date\n",
        "sessions['session_start'] = pd.to_datetime(sessions['session_start']).dt.date\n",
        "purchases['event_dt'] = pd.to_datetime(purchases['event_dt']).dt.date"
      ],
      "execution_count": null,
      "outputs": []
    },
    {
      "cell_type": "markdown",
      "metadata": {
        "id": "0ssHLoHOEoq3"
      },
      "source": [
        "Посмотрим, как у нас обстоят дела с участниками теста:"
      ]
    },
    {
      "cell_type": "code",
      "metadata": {
        "id": "oVtuBo4wEoq3",
        "outputId": "4e3feeef-12d4-4cbe-c0d2-184e7aeb5c3b"
      },
      "source": [
        "test_participants.groupby(['ab_test', 'group']).agg({'user_id': 'nunique'})"
      ],
      "execution_count": null,
      "outputs": [
        {
          "output_type": "execute_result",
          "data": {
            "text/html": [
              "<div>\n",
              "<style scoped>\n",
              "    .dataframe tbody tr th:only-of-type {\n",
              "        vertical-align: middle;\n",
              "    }\n",
              "\n",
              "    .dataframe tbody tr th {\n",
              "        vertical-align: top;\n",
              "    }\n",
              "\n",
              "    .dataframe thead th {\n",
              "        text-align: right;\n",
              "    }\n",
              "</style>\n",
              "<table border=\"1\" class=\"dataframe\">\n",
              "  <thead>\n",
              "    <tr style=\"text-align: right;\">\n",
              "      <th></th>\n",
              "      <th></th>\n",
              "      <th>user_id</th>\n",
              "    </tr>\n",
              "    <tr>\n",
              "      <th>ab_test</th>\n",
              "      <th>group</th>\n",
              "      <th></th>\n",
              "    </tr>\n",
              "  </thead>\n",
              "  <tbody>\n",
              "    <tr>\n",
              "      <th rowspan=\"2\" valign=\"top\">another_test</th>\n",
              "      <th>A</th>\n",
              "      <td>33</td>\n",
              "    </tr>\n",
              "    <tr>\n",
              "      <th>B</th>\n",
              "      <td>32</td>\n",
              "    </tr>\n",
              "    <tr>\n",
              "      <th rowspan=\"2\" valign=\"top\">new_interface_test</th>\n",
              "      <th>A</th>\n",
              "      <td>695</td>\n",
              "    </tr>\n",
              "    <tr>\n",
              "      <th>B</th>\n",
              "      <td>612</td>\n",
              "    </tr>\n",
              "  </tbody>\n",
              "</table>\n",
              "</div>"
            ],
            "text/plain": [
              "                          user_id\n",
              "ab_test            group         \n",
              "another_test       A           33\n",
              "                   B           32\n",
              "new_interface_test A          695\n",
              "                   B          612"
            ]
          },
          "metadata": {
            "tags": []
          },
          "execution_count": 22
        }
      ]
    },
    {
      "cell_type": "markdown",
      "metadata": {
        "id": "fgIbed2KEoq3"
      },
      "source": [
        "Кроме нашего теста, оказывается был еще параллельный тест another_test. Посмотрим, насколько пересеклись их аудитории:"
      ]
    },
    {
      "cell_type": "code",
      "metadata": {
        "id": "SL_862dFEoq3",
        "outputId": "17844ca1-bdbc-43ab-f188-82b791b1acfe"
      },
      "source": [
        "test_participants.groupby('user_id').agg({'ab_test': 'nunique'}).sort_values(by = 'ab_test', ascending = False).head(3)"
      ],
      "execution_count": null,
      "outputs": [
        {
          "output_type": "execute_result",
          "data": {
            "text/html": [
              "<div>\n",
              "<style scoped>\n",
              "    .dataframe tbody tr th:only-of-type {\n",
              "        vertical-align: middle;\n",
              "    }\n",
              "\n",
              "    .dataframe tbody tr th {\n",
              "        vertical-align: top;\n",
              "    }\n",
              "\n",
              "    .dataframe thead th {\n",
              "        text-align: right;\n",
              "    }\n",
              "</style>\n",
              "<table border=\"1\" class=\"dataframe\">\n",
              "  <thead>\n",
              "    <tr style=\"text-align: right;\">\n",
              "      <th></th>\n",
              "      <th>ab_test</th>\n",
              "    </tr>\n",
              "    <tr>\n",
              "      <th>user_id</th>\n",
              "      <th></th>\n",
              "    </tr>\n",
              "  </thead>\n",
              "  <tbody>\n",
              "    <tr>\n",
              "      <th>10B478AFB18AFF23</th>\n",
              "      <td>2</td>\n",
              "    </tr>\n",
              "    <tr>\n",
              "      <th>0001710F4DDB1D1B</th>\n",
              "      <td>1</td>\n",
              "    </tr>\n",
              "    <tr>\n",
              "      <th>AA1B82640E331B47</th>\n",
              "      <td>1</td>\n",
              "    </tr>\n",
              "  </tbody>\n",
              "</table>\n",
              "</div>"
            ],
            "text/plain": [
              "                  ab_test\n",
              "user_id                  \n",
              "10B478AFB18AFF23        2\n",
              "0001710F4DDB1D1B        1\n",
              "AA1B82640E331B47        1"
            ]
          },
          "metadata": {
            "tags": []
          },
          "execution_count": 23
        }
      ]
    },
    {
      "cell_type": "markdown",
      "metadata": {
        "id": "F94xm_PTEoq3"
      },
      "source": [
        "Всего один пользователь угодил сразу в два теста. Просто отфильтруем another_test."
      ]
    },
    {
      "cell_type": "code",
      "metadata": {
        "id": "eCEa0JWbEoq3"
      },
      "source": [
        "test_participants = test_participants.query('ab_test == \"new_interface_test\"')"
      ],
      "execution_count": null,
      "outputs": []
    },
    {
      "cell_type": "markdown",
      "metadata": {
        "id": "mUMlxEJpEoq3"
      },
      "source": [
        "В остальных данных уберем все, что не касается участников теста:"
      ]
    },
    {
      "cell_type": "code",
      "metadata": {
        "id": "44OSIjDPEoq3"
      },
      "source": [
        "test_new_users = new_users[new_users['user_id'].isin(test_participants['user_id'])].merge(test_participants, on = 'user_id')\n",
        "test_sessions = sessions[sessions['user_id'].isin(test_participants['user_id'])].merge(test_participants, on = 'user_id')\n",
        "test_purchases = purchases[purchases['user_id'].isin(test_participants['user_id'])].merge(test_participants, on = 'user_id')"
      ],
      "execution_count": null,
      "outputs": []
    },
    {
      "cell_type": "markdown",
      "metadata": {
        "id": "Ex4OzlqVEoq3"
      },
      "source": [
        "## 2.2 Проверка корректности проведения теста"
      ]
    },
    {
      "cell_type": "markdown",
      "metadata": {
        "id": "6jmXBc2sEoq3"
      },
      "source": [
        "Посмотрим на состав участников теста по регионам:"
      ]
    },
    {
      "cell_type": "code",
      "metadata": {
        "id": "RmIzyM9DEoq3",
        "outputId": "609e3bc6-91b9-48c1-e48e-c38873e6737d"
      },
      "source": [
        "report = test_new_users.groupby('region').agg({'user_id': 'nunique'}).rename(columns = {'user_id': 'Участники'})\n",
        "report['% участников'] = (report['Участники'] / report['Участники'].sum()).round(2)\n",
        "report.sort_values(by = 'Участники', ascending = False)"
      ],
      "execution_count": null,
      "outputs": [
        {
          "output_type": "execute_result",
          "data": {
            "text/html": [
              "<div>\n",
              "<style scoped>\n",
              "    .dataframe tbody tr th:only-of-type {\n",
              "        vertical-align: middle;\n",
              "    }\n",
              "\n",
              "    .dataframe tbody tr th {\n",
              "        vertical-align: top;\n",
              "    }\n",
              "\n",
              "    .dataframe thead th {\n",
              "        text-align: right;\n",
              "    }\n",
              "</style>\n",
              "<table border=\"1\" class=\"dataframe\">\n",
              "  <thead>\n",
              "    <tr style=\"text-align: right;\">\n",
              "      <th></th>\n",
              "      <th>Участники</th>\n",
              "      <th>% участников</th>\n",
              "    </tr>\n",
              "    <tr>\n",
              "      <th>region</th>\n",
              "      <th></th>\n",
              "      <th></th>\n",
              "    </tr>\n",
              "  </thead>\n",
              "  <tbody>\n",
              "    <tr>\n",
              "      <th>EU</th>\n",
              "      <td>1231</td>\n",
              "      <td>0.94</td>\n",
              "    </tr>\n",
              "    <tr>\n",
              "      <th>CIS</th>\n",
              "      <td>44</td>\n",
              "      <td>0.03</td>\n",
              "    </tr>\n",
              "    <tr>\n",
              "      <th>APAC</th>\n",
              "      <td>18</td>\n",
              "      <td>0.01</td>\n",
              "    </tr>\n",
              "    <tr>\n",
              "      <th>N.America</th>\n",
              "      <td>14</td>\n",
              "      <td>0.01</td>\n",
              "    </tr>\n",
              "  </tbody>\n",
              "</table>\n",
              "</div>"
            ],
            "text/plain": [
              "           Участники  % участников\n",
              "region                            \n",
              "EU              1231          0.94\n",
              "CIS               44          0.03\n",
              "APAC              18          0.01\n",
              "N.America         14          0.01"
            ]
          },
          "metadata": {
            "tags": []
          },
          "execution_count": 26
        }
      ]
    },
    {
      "cell_type": "markdown",
      "metadata": {
        "id": "iGuEtealEoq4"
      },
      "source": [
        "Основная масса участников была из нужного региона, все ок. Небольшое количество учатников из других регионов можно объяснить перелетами, использованием VPN и т.д.\n",
        "\n",
        "Проверим, составили ли участники теста нужный % от общего числа новых пользователей в регионе (возьмем только пользователей, пришедших во время теста):"
      ]
    },
    {
      "cell_type": "code",
      "metadata": {
        "id": "lhnzbWU3Eoq4",
        "outputId": "1543428c-3b54-4dfd-90d4-589b8a391b14"
      },
      "source": [
        "eu_test_users = test_new_users.query('region == \"EU\"').shape[0]\n",
        "eu_users = new_users.query('region == \"EU\" and first_date >= @test_start and first_date <= @user_acquisition_end').shape[0]\n",
        "eu_test_users / eu_users"
      ],
      "execution_count": null,
      "outputs": [
        {
          "output_type": "execute_result",
          "data": {
            "text/plain": [
              "0.19980522642428178"
            ]
          },
          "metadata": {
            "tags": []
          },
          "execution_count": 27
        }
      ]
    },
    {
      "cell_type": "markdown",
      "metadata": {
        "id": "X2z8lQmBEoq4"
      },
      "source": [
        "Чуть выше уровня, который закладывался в техническом задании. Это нормально. Проведем тест, чтобы проверить действительно ли это статистически значимое различие:\n",
        "- H0: для пользователя из региона EU вероятность попасть в тест составляет 20%;\n",
        "- H1: для пользователя из региона EU вероятность попасть в тест отличается от 20%.\n",
        "\n",
        "Уровень значимости установим 0.05 и откорректируем методом Бонферрони т.к. мы проводим в этой части два теста - текущий и тест на распрееление пользователей по группам."
      ]
    },
    {
      "cell_type": "code",
      "metadata": {
        "id": "bJAgAyqfEoq4",
        "outputId": "6ffa4941-2d70-49c3-efa9-290cf9682113"
      },
      "source": [
        "alpha = 0.05\n",
        "alpha = alpha / 2\n",
        "pvalue = proportions_ztest(eu_test_users, eu_users, value = 0.2)[1]\n",
        "print('p-value: {}'.format(pvalue))\n",
        "if pvalue >= alpha: \n",
        "    print('Нулевая гипотеза не отвергается: для пользователя из региона EU вероятность попасть в тест составляет 20%.')\n",
        "else:\n",
        "    print('Нулевая гипотеза отвергается: для пользователя из региона EU вероятность попасть в тест отличается от 20%.')"
      ],
      "execution_count": null,
      "outputs": [
        {
          "output_type": "stream",
          "text": [
            "p-value: 0.969500787738556\n",
            "Нулевая гипотеза не отвергается: для пользователя из региона EU вероятность попасть в тест составляет 20%.\n"
          ],
          "name": "stdout"
        }
      ]
    },
    {
      "cell_type": "markdown",
      "metadata": {
        "id": "-7P8RauvEoq4"
      },
      "source": [
        "Теперь проверим, была ли вероятность попасть в группы одинаковой:"
      ]
    },
    {
      "cell_type": "code",
      "metadata": {
        "id": "TNHxkM4zEoq4",
        "outputId": "633a468a-9c34-4ff2-a514-5a42e2321e00"
      },
      "source": [
        "a_users = test_new_users.query('group == \"A\"').shape[0]\n",
        "all_participants = test_new_users.shape[0]\n",
        "a_users / all_participants"
      ],
      "execution_count": null,
      "outputs": [
        {
          "output_type": "execute_result",
          "data": {
            "text/plain": [
              "0.531752104055088"
            ]
          },
          "metadata": {
            "tags": []
          },
          "execution_count": 29
        }
      ]
    },
    {
      "cell_type": "markdown",
      "metadata": {
        "id": "bHzhF96MEoq4"
      },
      "source": [
        "Вероятность попасть в группу А составила 53%. Проверим одновыборочным z-тестом:\n",
        "- H0: вероятность попасть в группу А составляет 50%;\n",
        "- H1: веростность попасть в группу А отличается от 50%"
      ]
    },
    {
      "cell_type": "code",
      "metadata": {
        "id": "Aim6ZxdMEoq4",
        "outputId": "0c3ad9a5-cf8b-4976-9a69-db56e6eb1cdb"
      },
      "source": [
        "alpha = 0.05\n",
        "alpha = alpha / 2\n",
        "pvalue = proportions_ztest(a_users, all_participants, value = 0.5)[1]\n",
        "print('p-value: {}'.format(pvalue))\n",
        "if pvalue >= alpha: \n",
        "    print('Нулевая гипотеза не отвергается: вероятность попасть в группу А составляет 50%')\n",
        "else:\n",
        "    print('Нулевая гипотеза отвергается: вероятность попасть в группу А отличается от 50%')"
      ],
      "execution_count": null,
      "outputs": [
        {
          "output_type": "stream",
          "text": [
            "p-value: 0.021421246374848806\n",
            "Нулевая гипотеза отвергается: вероятность попасть в группу А отличается от 50%\n"
          ],
          "name": "stdout"
        }
      ]
    },
    {
      "cell_type": "markdown",
      "metadata": {
        "id": "ah_680C0Eoq4"
      },
      "source": [
        "Отлично, значит нам показалось и вероятность попасть в каждую группу равна 50%."
      ]
    },
    {
      "cell_type": "markdown",
      "metadata": {
        "id": "MwYOgwotEoq4"
      },
      "source": [
        "## 2.3 Анализ накопительных метрик и принятие решения об остановке"
      ]
    },
    {
      "cell_type": "markdown",
      "metadata": {
        "id": "v4nhROFaEoq5"
      },
      "source": [
        "Установим уровень для необходимого минимального числа участников теста."
      ]
    },
    {
      "cell_type": "code",
      "metadata": {
        "id": "Azn_7IzTEoq5",
        "outputId": "88ac38da-d1bc-4ead-8551-19cd685ce0d8"
      },
      "source": [
        "metrics"
      ],
      "execution_count": null,
      "outputs": [
        {
          "output_type": "execute_result",
          "data": {
            "text/html": [
              "<div>\n",
              "<style scoped>\n",
              "    .dataframe tbody tr th:only-of-type {\n",
              "        vertical-align: middle;\n",
              "    }\n",
              "\n",
              "    .dataframe tbody tr th {\n",
              "        vertical-align: top;\n",
              "    }\n",
              "\n",
              "    .dataframe thead th {\n",
              "        text-align: right;\n",
              "    }\n",
              "</style>\n",
              "<table border=\"1\" class=\"dataframe\">\n",
              "  <thead>\n",
              "    <tr style=\"text-align: right;\">\n",
              "      <th></th>\n",
              "      <th>mean</th>\n",
              "      <th>std</th>\n",
              "      <th>Относительная практическая значимость</th>\n",
              "      <th>Количество наблюдений</th>\n",
              "      <th>Наблюдений в день</th>\n",
              "      <th>Длительность</th>\n",
              "    </tr>\n",
              "    <tr>\n",
              "      <th>Метрика</th>\n",
              "      <th></th>\n",
              "      <th></th>\n",
              "      <th></th>\n",
              "      <th></th>\n",
              "      <th></th>\n",
              "      <th></th>\n",
              "    </tr>\n",
              "  </thead>\n",
              "  <tbody>\n",
              "    <tr>\n",
              "      <th>Конверсия в покупку</th>\n",
              "      <td>0.459969</td>\n",
              "      <td>0.498395</td>\n",
              "      <td>0.25</td>\n",
              "      <td>358</td>\n",
              "      <td>241</td>\n",
              "      <td>3</td>\n",
              "    </tr>\n",
              "    <tr>\n",
              "      <th>Средняя длительность сессии</th>\n",
              "      <td>4.21232</td>\n",
              "      <td>3.54534</td>\n",
              "      <td>0.15</td>\n",
              "      <td>599</td>\n",
              "      <td>241</td>\n",
              "      <td>5</td>\n",
              "    </tr>\n",
              "  </tbody>\n",
              "</table>\n",
              "</div>"
            ],
            "text/plain": [
              "                                 mean       std  \\\n",
              "Метрика                                           \n",
              "Конверсия в покупку          0.459969  0.498395   \n",
              "Средняя длительность сессии   4.21232   3.54534   \n",
              "\n",
              "                             Относительная практическая значимость  \\\n",
              "Метрика                                                              \n",
              "Конверсия в покупку                                           0.25   \n",
              "Средняя длительность сессии                                   0.15   \n",
              "\n",
              "                             Количество наблюдений  Наблюдений в день  \\\n",
              "Метрика                                                                 \n",
              "Конверсия в покупку                            358                241   \n",
              "Средняя длительность сессии                    599                241   \n",
              "\n",
              "                             Длительность  \n",
              "Метрика                                    \n",
              "Конверсия в покупку                     3  \n",
              "Средняя длительность сессии             5  "
            ]
          },
          "metadata": {
            "tags": []
          },
          "execution_count": 31
        }
      ]
    },
    {
      "cell_type": "markdown",
      "metadata": {
        "id": "ViqSjKTtEoq5"
      },
      "source": [
        "Для необходимого минимального числа участников теста мы берем потребное количество наблюдений для метрики \"Средняя длительность сессии\" т.к. именно она влиятет на длительность проведения теста."
      ]
    },
    {
      "cell_type": "code",
      "metadata": {
        "id": "5F_4r8DEEoq5",
        "outputId": "c2ae60e9-6322-4653-8532-b8722a0f05dd"
      },
      "source": [
        "required_participants = metrics.loc['Средняя длительность сессии', 'Количество наблюдений'] * test_groups_num\n",
        "required_participants"
      ],
      "execution_count": null,
      "outputs": [
        {
          "output_type": "execute_result",
          "data": {
            "text/plain": [
              "1198"
            ]
          },
          "metadata": {
            "tags": []
          },
          "execution_count": 32
        }
      ]
    },
    {
      "cell_type": "markdown",
      "metadata": {
        "id": "19TynWZ_Eoq5"
      },
      "source": [
        "Кумулятивная динамика:"
      ]
    },
    {
      "cell_type": "code",
      "metadata": {
        "id": "IcSIJRnEEoq5",
        "outputId": "f752f52d-98c4-45ec-eb2e-288c27bed30d"
      },
      "source": [
        "current_aquisition_duration = 5\n",
        "test_dates = pd.date_range(start = test_start, periods = current_aquisition_duration)\n",
        "\n",
        "plt.subplots(figsize = (15, 10))\n",
        "\n",
        "cumulative_test_users = pd.DataFrame(columns = ['A', 'B'])\n",
        "cumulative_test_payers = pd.DataFrame(columns = ['A', 'B'])\n",
        "cumulative_test_sessions = pd.DataFrame(columns = ['A', 'B'])\n",
        "\n",
        "for i, dt in enumerate(test_dates):\n",
        "\n",
        "    #участники теста\n",
        "    current_test_users = test_new_users.query('first_date <= @dt').groupby('group').agg({'user_id': 'nunique'}).T\n",
        "    current_test_users['date'] = dt\n",
        "    current_test_users['test_day'] = i\n",
        "    cumulative_test_users = cumulative_test_users.append(current_test_users, sort = False)\n",
        "    \n",
        "    #платящие участники теста\n",
        "    current_test_purchases = test_purchases.query('event_dt <= @dt').groupby('user_id').agg({'revenue': 'sum'})\n",
        "    current_test_payers = (test_new_users.merge(current_test_purchases, on = 'user_id', how = 'inner')\n",
        "                                         .query('first_date <= @dt')\n",
        "                                         .groupby('group').agg({'user_id': 'nunique'}).T)\n",
        "    current_test_payers['date'] = dt\n",
        "    current_test_payers['test_day'] = i\n",
        "    cumulative_test_payers = cumulative_test_payers.append(current_test_payers, sort = False)\n",
        "    \n",
        "    #длительность сессий\n",
        "    current_test_sessions = test_sessions.query('session_start <= @dt').groupby('group').agg({'session_duration': 'median'}).T\n",
        "    current_test_sessions['date'] = dt\n",
        "    current_test_sessions['test_day'] = i\n",
        "    cumulative_test_sessions = cumulative_test_sessions.append(current_test_sessions, sort = False)\n",
        "    \n",
        "#новые участники теста без накопления\n",
        "pd.pivot_table(test_new_users, \n",
        "               index = 'first_date', \n",
        "               columns = 'group', \n",
        "               values = 'user_id', \n",
        "               aggfunc = 'count').plot(ax = plt.subplot(2, 3, 1), grid = True)\n",
        "plt.title('Новые участники теста в день')\n",
        "plt.xlabel('Дата')\n",
        "plt.xticks(rotation = 45)\n",
        "plt.legend()\n",
        "\n",
        "#участники теста\n",
        "cumulative_test_users = cumulative_test_users.query('date >= @test_start and date <= @user_acquisition_end').set_index('test_day')[['A', 'B']]\n",
        "cumulative_test_users['Всего'] = cumulative_test_users['A'] + cumulative_test_users['B']\n",
        "cumulative_test_users.plot(ax = plt.subplot(2, 3, 2), grid = True, xticks = cumulative_test_users.index)\n",
        "plt.axhline(y = required_participants, label = 'Ожидаемое число участников', color = 'red', linestyle = '--')\n",
        "plt.title('Участники теста')\n",
        "plt.legend()\n",
        "plt.xlabel('День теста')\n",
        "\n",
        "#конверсии \n",
        "cumulative_test_payers = cumulative_test_payers.query('date >= @test_start and date <= @user_acquisition_end').set_index('test_day')[['A', 'B']]\n",
        "cumulative_test_payers.div(cumulative_test_users)[['A', 'B']].fillna(0).plot(ax = plt.subplot(2, 3, 4), grid = True, xticks = cumulative_test_users.index)\n",
        "plt.title('Конверсия в покупку')\n",
        "plt.legend()\n",
        "plt.xlabel('День теста')\n",
        "\n",
        "#длительности сессий\n",
        "cumulative_test_sessions = cumulative_test_sessions.query('date >= @test_start and date <= @user_acquisition_end').set_index('test_day')[['A', 'B']]\n",
        "cumulative_test_sessions.plot(ax = plt.subplot(2, 3, 5), grid = True, xticks = cumulative_test_users.index)\n",
        "plt.title('Медианные длительности сессий')\n",
        "plt.legend()\n",
        "plt.xlabel('День теста')\n",
        "\n",
        "plt.tight_layout()\n",
        "plt.show()"
      ],
      "execution_count": null,
      "outputs": [
        {
          "output_type": "display_data",
          "data": {
            "image/png": "[encoded data removed]",
            "text/plain": [
              "<Figure size 1080x720 with 4 Axes>"
            ]
          },
          "metadata": {
            "tags": [],
            "needs_background": "light"
          }
        }
      ]
    },
    {
      "cell_type": "markdown",
      "metadata": {
        "id": "xvaiIubNEoq5"
      },
      "source": [
        "Выводы и наблюдения:\n",
        "- Кумулятивные метрики практически достигли стабильности, но лучше посмотреть еще пару дней;\n",
        "- Необходимое количество пользователей едва набрано;\n",
        "- Набор новых пользователей останавливать, тем не менее, не будем т.к. впереди уикенд, который может повлиять на результаты по конверсии;\n",
        "- Сам тесте останавливать не будет т.к. нам нужно для каждого пользователя получить хотя бы неделю активности после первого захода на сайт."
      ]
    },
    {
      "cell_type": "markdown",
      "metadata": {
        "id": "4f_1dezqEoq5"
      },
      "source": [
        "# 3. Анализ результатов теста"
      ]
    },
    {
      "cell_type": "markdown",
      "metadata": {
        "id": "fEL-wLWNEoq5"
      },
      "source": [
        "На календаре 17 января 2020 года, тест завершен. Вам нужно проанализировать его результаты."
      ]
    },
    {
      "cell_type": "markdown",
      "metadata": {
        "id": "eqSRHtzsEoq5"
      },
      "source": [
        "## 3.1 Подготовка данных"
      ]
    },
    {
      "cell_type": "markdown",
      "metadata": {
        "id": "fDFoM3nCEoq5"
      },
      "source": [
        "Загружаем данные, преобразуем даты и веремя:"
      ]
    },
    {
      "cell_type": "code",
      "metadata": {
        "id": "5l913fznEoq5"
      },
      "source": [
        "new_users = pd.read_csv('cons_users_test.csv')\n",
        "sessions = pd.read_csv('cons_sessions_test.csv')\n",
        "purchases = pd.read_csv('cons_purchases_test.csv')\n",
        "test_participants = pd.read_csv('cons_participants_test.csv')\n",
        "\n",
        "new_users['first_date'] = pd.to_datetime(new_users['first_date']).dt.date\n",
        "sessions['session_start'] = pd.to_datetime(sessions['session_start']).dt.date\n",
        "purchases['event_dt'] = pd.to_datetime(purchases['event_dt']).dt.date"
      ],
      "execution_count": null,
      "outputs": []
    },
    {
      "cell_type": "markdown",
      "metadata": {
        "id": "y4I5nYrjEoq5"
      },
      "source": [
        "Посмотрим, как у нас обстоят дела с участниками теста:"
      ]
    },
    {
      "cell_type": "code",
      "metadata": {
        "id": "Is70u9VtEoq6",
        "outputId": "a8e21948-0a06-45ed-e860-9a3830e5338d"
      },
      "source": [
        "test_participants.groupby(['ab_test', 'group']).agg({'user_id': 'nunique'})"
      ],
      "execution_count": null,
      "outputs": [
        {
          "output_type": "execute_result",
          "data": {
            "text/html": [
              "<div>\n",
              "<style scoped>\n",
              "    .dataframe tbody tr th:only-of-type {\n",
              "        vertical-align: middle;\n",
              "    }\n",
              "\n",
              "    .dataframe tbody tr th {\n",
              "        vertical-align: top;\n",
              "    }\n",
              "\n",
              "    .dataframe thead th {\n",
              "        text-align: right;\n",
              "    }\n",
              "</style>\n",
              "<table border=\"1\" class=\"dataframe\">\n",
              "  <thead>\n",
              "    <tr style=\"text-align: right;\">\n",
              "      <th></th>\n",
              "      <th></th>\n",
              "      <th>user_id</th>\n",
              "    </tr>\n",
              "    <tr>\n",
              "      <th>ab_test</th>\n",
              "      <th>group</th>\n",
              "      <th></th>\n",
              "    </tr>\n",
              "  </thead>\n",
              "  <tbody>\n",
              "    <tr>\n",
              "      <th rowspan=\"2\" valign=\"top\">another_test</th>\n",
              "      <th>A</th>\n",
              "      <td>43</td>\n",
              "    </tr>\n",
              "    <tr>\n",
              "      <th>B</th>\n",
              "      <td>47</td>\n",
              "    </tr>\n",
              "    <tr>\n",
              "      <th rowspan=\"2\" valign=\"top\">new_interface_test</th>\n",
              "      <th>A</th>\n",
              "      <td>1022</td>\n",
              "    </tr>\n",
              "    <tr>\n",
              "      <th>B</th>\n",
              "      <td>919</td>\n",
              "    </tr>\n",
              "  </tbody>\n",
              "</table>\n",
              "</div>"
            ],
            "text/plain": [
              "                          user_id\n",
              "ab_test            group         \n",
              "another_test       A           43\n",
              "                   B           47\n",
              "new_interface_test A         1022\n",
              "                   B          919"
            ]
          },
          "metadata": {
            "tags": []
          },
          "execution_count": 47
        }
      ]
    },
    {
      "cell_type": "markdown",
      "metadata": {
        "id": "kj6TKhCeEoq6"
      },
      "source": [
        "Отфильтруем new_login_screen_apac."
      ]
    },
    {
      "cell_type": "code",
      "metadata": {
        "id": "3h4TJBmiEoq6"
      },
      "source": [
        "test_participants = test_participants.query('ab_test == \"new_interface_test\"')"
      ],
      "execution_count": null,
      "outputs": []
    },
    {
      "cell_type": "markdown",
      "metadata": {
        "id": "Z0RdkUd4Eoq6"
      },
      "source": [
        "В остальных данных уберем все, что не касается участников теста:"
      ]
    },
    {
      "cell_type": "code",
      "metadata": {
        "id": "OUAKW1IDEoq6"
      },
      "source": [
        "test_new_users = new_users[new_users['user_id'].isin(test_participants['user_id'])].merge(test_participants, on = 'user_id')\n",
        "test_sessions = sessions[sessions['user_id'].isin(test_participants['user_id'])].merge(test_participants, on = 'user_id')\n",
        "test_purchases = purchases[purchases['user_id'].isin(test_participants['user_id'])].merge(test_participants, on = 'user_id')"
      ],
      "execution_count": null,
      "outputs": []
    },
    {
      "cell_type": "markdown",
      "metadata": {
        "id": "ym-tS-tGEoq6"
      },
      "source": [
        "## 3.2 Анализ накопительных метрик \n",
        "\n",
        "Установим уровень для необходимого минимального числа участников теста."
      ]
    },
    {
      "cell_type": "code",
      "metadata": {
        "id": "0PulklHqEoq6",
        "outputId": "e184eadd-08cd-474e-d557-383b647415f2"
      },
      "source": [
        "metrics"
      ],
      "execution_count": null,
      "outputs": [
        {
          "output_type": "execute_result",
          "data": {
            "text/html": [
              "<div>\n",
              "<style scoped>\n",
              "    .dataframe tbody tr th:only-of-type {\n",
              "        vertical-align: middle;\n",
              "    }\n",
              "\n",
              "    .dataframe tbody tr th {\n",
              "        vertical-align: top;\n",
              "    }\n",
              "\n",
              "    .dataframe thead th {\n",
              "        text-align: right;\n",
              "    }\n",
              "</style>\n",
              "<table border=\"1\" class=\"dataframe\">\n",
              "  <thead>\n",
              "    <tr style=\"text-align: right;\">\n",
              "      <th></th>\n",
              "      <th>mean</th>\n",
              "      <th>std</th>\n",
              "      <th>Относительная практическая значимость</th>\n",
              "      <th>Количество наблюдений</th>\n",
              "      <th>Наблюдений в день</th>\n",
              "      <th>Длительность</th>\n",
              "    </tr>\n",
              "    <tr>\n",
              "      <th>Метрика</th>\n",
              "      <th></th>\n",
              "      <th></th>\n",
              "      <th></th>\n",
              "      <th></th>\n",
              "      <th></th>\n",
              "      <th></th>\n",
              "    </tr>\n",
              "  </thead>\n",
              "  <tbody>\n",
              "    <tr>\n",
              "      <th>Конверсия в покупку</th>\n",
              "      <td>0.459969</td>\n",
              "      <td>0.498395</td>\n",
              "      <td>0.25</td>\n",
              "      <td>358</td>\n",
              "      <td>241</td>\n",
              "      <td>3</td>\n",
              "    </tr>\n",
              "    <tr>\n",
              "      <th>Средняя длительность сессии</th>\n",
              "      <td>4.21232</td>\n",
              "      <td>3.54534</td>\n",
              "      <td>0.15</td>\n",
              "      <td>599</td>\n",
              "      <td>241</td>\n",
              "      <td>5</td>\n",
              "    </tr>\n",
              "  </tbody>\n",
              "</table>\n",
              "</div>"
            ],
            "text/plain": [
              "                                 mean       std  \\\n",
              "Метрика                                           \n",
              "Конверсия в покупку          0.459969  0.498395   \n",
              "Средняя длительность сессии   4.21232   3.54534   \n",
              "\n",
              "                             Относительная практическая значимость  \\\n",
              "Метрика                                                              \n",
              "Конверсия в покупку                                           0.25   \n",
              "Средняя длительность сессии                                   0.15   \n",
              "\n",
              "                             Количество наблюдений  Наблюдений в день  \\\n",
              "Метрика                                                                 \n",
              "Конверсия в покупку                            358                241   \n",
              "Средняя длительность сессии                    599                241   \n",
              "\n",
              "                             Длительность  \n",
              "Метрика                                    \n",
              "Конверсия в покупку                     3  \n",
              "Средняя длительность сессии             5  "
            ]
          },
          "metadata": {
            "tags": []
          },
          "execution_count": 50
        }
      ]
    },
    {
      "cell_type": "code",
      "metadata": {
        "id": "rihFjeM8Eoq6"
      },
      "source": [
        "required_participants = metrics.loc['Средняя длительность сессии', 'Количество наблюдений'] * test_groups_num"
      ],
      "execution_count": null,
      "outputs": []
    },
    {
      "cell_type": "markdown",
      "metadata": {
        "id": "e6q__qYZEoq6"
      },
      "source": [
        "Кумулятивная динамика:"
      ]
    },
    {
      "cell_type": "code",
      "metadata": {
        "id": "_FKZslfZEoq6",
        "outputId": "641aded4-68f1-447d-d178-e54a87cee738"
      },
      "source": [
        "current_aquisition_duration = 7\n",
        "test_dates = pd.date_range(start = test_start, periods = current_aquisition_duration)\n",
        "\n",
        "plt.subplots(figsize = (15, 10))\n",
        "\n",
        "cumulative_test_users = pd.DataFrame(columns = ['A', 'B'])\n",
        "cumulative_test_payers = pd.DataFrame(columns = ['A', 'B'])\n",
        "cumulative_test_sessions = pd.DataFrame(columns = ['A', 'B'])\n",
        "\n",
        "for i, dt in enumerate(test_dates):\n",
        "\n",
        "    #участники теста\n",
        "    current_test_users = test_new_users.query('first_date <= @dt').groupby('group').agg({'user_id': 'nunique'}).T\n",
        "    current_test_users['date'] = dt\n",
        "    current_test_users['test_day'] = i\n",
        "    cumulative_test_users = cumulative_test_users.append(current_test_users, sort = False)\n",
        "    \n",
        "    #платящие участники теста\n",
        "    current_test_purchases = test_purchases.query('event_dt <= @dt').groupby('user_id').agg({'revenue': 'sum'})\n",
        "    current_test_payers = (test_new_users.merge(current_test_purchases, on = 'user_id', how = 'inner')\n",
        "                                         .query('first_date <= @dt')\n",
        "                                         .groupby('group').agg({'user_id': 'nunique'}).T)\n",
        "    current_test_payers['date'] = dt\n",
        "    current_test_payers['test_day'] = i\n",
        "    cumulative_test_payers = cumulative_test_payers.append(current_test_payers, sort = False)\n",
        "    \n",
        "    #длительность сессий\n",
        "    current_test_sessions = test_sessions.query('session_start <= @dt').groupby('group').agg({'session_duration': 'median'}).T\n",
        "    current_test_sessions['date'] = dt\n",
        "    current_test_sessions['test_day'] = i\n",
        "    cumulative_test_sessions = cumulative_test_sessions.append(current_test_sessions, sort = False)\n",
        "    \n",
        "#новые участники теста без накопления\n",
        "pd.pivot_table(test_new_users, \n",
        "               index = 'first_date', \n",
        "               columns = 'group', \n",
        "               values = 'user_id', \n",
        "               aggfunc = 'count').plot(ax = plt.subplot(2, 3, 1), grid = True)\n",
        "plt.title('Новые участники теста в день')\n",
        "plt.xlabel('Дата')\n",
        "plt.xticks(rotation = 45)\n",
        "plt.legend()\n",
        "\n",
        "#участники теста\n",
        "cumulative_test_users = cumulative_test_users.query('date >= @test_start and date <= @user_acquisition_end').set_index('test_day')[['A', 'B']]\n",
        "cumulative_test_users['Всего'] = cumulative_test_users['A'] + cumulative_test_users['B']\n",
        "cumulative_test_users.plot(ax = plt.subplot(2, 3, 2), grid = True, xticks = cumulative_test_users.index)\n",
        "plt.axhline(y = required_participants, label = 'Ожидаемое число участников', color = 'red', linestyle = '--')\n",
        "plt.title('Участники теста')\n",
        "plt.legend()\n",
        "plt.xlabel('День теста')\n",
        "\n",
        "#конверсии \n",
        "cumulative_test_payers = cumulative_test_payers.query('date >= @test_start and date <= @user_acquisition_end').set_index('test_day')[['A', 'B']]\n",
        "cumulative_test_payers.div(cumulative_test_users)[['A', 'B']].fillna(0).plot(ax = plt.subplot(2, 3, 4), grid = True, xticks = cumulative_test_users.index)\n",
        "plt.title('Конверсия в покупку')\n",
        "plt.legend()\n",
        "plt.xlabel('День теста')\n",
        "\n",
        "#длительности сессий\n",
        "cumulative_test_sessions = cumulative_test_sessions.query('date >= @test_start and date <= @user_acquisition_end').set_index('test_day')[['A', 'B']]\n",
        "cumulative_test_sessions.plot(ax = plt.subplot(2, 3, 5), grid = True, xticks = cumulative_test_users.index)\n",
        "plt.title('Медианные длительности сессий')\n",
        "plt.legend()\n",
        "plt.xlabel('День теста')\n",
        "\n",
        "plt.tight_layout()\n",
        "plt.show()"
      ],
      "execution_count": null,
      "outputs": [
        {
          "output_type": "display_data",
          "data": {
            "image/png": "[encoded data removed]",
            "text/plain": [
              "<Figure size 1080x720 with 4 Axes>"
            ]
          },
          "metadata": {
            "tags": [],
            "needs_background": "light"
          }
        }
      ]
    },
    {
      "cell_type": "markdown",
      "metadata": {
        "id": "8qC057fmEoq7"
      },
      "source": [
        "Выводы и наблюдения:\n",
        "- Накопительные метрики достигли относительной стабильности по обеим группам;\n",
        "- По конверсии, визуально, выиграла группа А;\n",
        "- По длительности сессии, похоже, выиграла группа В;\n",
        "- Нужные количества наблюдений достигнуты практически по всем метрикам еще на 5-й день, так что у нас достаточно данных для проведения тестов. "
      ]
    },
    {
      "cell_type": "markdown",
      "metadata": {
        "id": "TWS2XYdbEoq7"
      },
      "source": [
        "## 4.3 Проверка гипотез"
      ]
    },
    {
      "cell_type": "markdown",
      "metadata": {
        "id": "1E5FHUcNEoq7"
      },
      "source": [
        "Будем проводить три теста:\n",
        "- Процент конвертации в покупку проведем с помощью двухвыборочного z-теста т.к. здесь мы имеем дело с вероятностью конверсии (пропорцией);\n",
        "- Медианную длительность сессии проверим t-тестом и тестом Манна-Уитни (просто чтобы иметь возможность сравнить результаты).\n",
        "\n",
        "Поскольку тестов (и гипотез) у нас три, приведем коррекцию уровня значимости методом Бонферрони:"
      ]
    },
    {
      "cell_type": "code",
      "metadata": {
        "id": "SlCWrx2YEoq7",
        "outputId": "6102c115-b065-4f54-e75a-483f2b0439f6"
      },
      "source": [
        "alpha = 0.05\n",
        "alpha = alpha / 3\n",
        "alpha"
      ],
      "execution_count": null,
      "outputs": [
        {
          "output_type": "execute_result",
          "data": {
            "text/plain": [
              "0.016666666666666666"
            ]
          },
          "metadata": {
            "tags": []
          },
          "execution_count": 54
        }
      ]
    },
    {
      "cell_type": "markdown",
      "metadata": {
        "id": "FUyIEcA_Eoq7"
      },
      "source": [
        "Процент конвертации в покупку:"
      ]
    },
    {
      "cell_type": "code",
      "metadata": {
        "id": "wsGkuxq_Eoq7",
        "outputId": "d4457f3f-5469-4eee-f6e9-42f2323e5d8d"
      },
      "source": [
        "report = test_participants.merge(test_purchases.groupby('user_id').agg({'revenue': 'sum'}), on = 'user_id', how = 'left')\n",
        "report['is_buyer'] = (report['revenue'] > 0).astype(int)\n",
        "report = (report.groupby('group').agg({'user_id': 'count', 'is_buyer': 'sum'})\n",
        "                                 .rename(columns = {'user_id': 'Участники', 'is_buyer': 'Покупатели'}))\n",
        "report['Конверсия'] = (report['Покупатели'] / report['Участники']).round(2)\n",
        "report"
      ],
      "execution_count": null,
      "outputs": [
        {
          "output_type": "execute_result",
          "data": {
            "text/html": [
              "<div>\n",
              "<style scoped>\n",
              "    .dataframe tbody tr th:only-of-type {\n",
              "        vertical-align: middle;\n",
              "    }\n",
              "\n",
              "    .dataframe tbody tr th {\n",
              "        vertical-align: top;\n",
              "    }\n",
              "\n",
              "    .dataframe thead th {\n",
              "        text-align: right;\n",
              "    }\n",
              "</style>\n",
              "<table border=\"1\" class=\"dataframe\">\n",
              "  <thead>\n",
              "    <tr style=\"text-align: right;\">\n",
              "      <th></th>\n",
              "      <th>Участники</th>\n",
              "      <th>Покупатели</th>\n",
              "      <th>Конверсия</th>\n",
              "    </tr>\n",
              "    <tr>\n",
              "      <th>group</th>\n",
              "      <th></th>\n",
              "      <th></th>\n",
              "      <th></th>\n",
              "    </tr>\n",
              "  </thead>\n",
              "  <tbody>\n",
              "    <tr>\n",
              "      <th>A</th>\n",
              "      <td>1022</td>\n",
              "      <td>424</td>\n",
              "      <td>0.41</td>\n",
              "    </tr>\n",
              "    <tr>\n",
              "      <th>B</th>\n",
              "      <td>919</td>\n",
              "      <td>346</td>\n",
              "      <td>0.38</td>\n",
              "    </tr>\n",
              "  </tbody>\n",
              "</table>\n",
              "</div>"
            ],
            "text/plain": [
              "       Участники  Покупатели  Конверсия\n",
              "group                                  \n",
              "A           1022         424       0.41\n",
              "B            919         346       0.38"
            ]
          },
          "metadata": {
            "tags": []
          },
          "execution_count": 55
        }
      ]
    },
    {
      "cell_type": "markdown",
      "metadata": {
        "id": "qVxpCstVEoq7"
      },
      "source": [
        "Похоже, что конверсия в группе В сильно ниже. Проверим есть ли отличие с помощью стат-теста:\n",
        "- H0: Между группами A и B нет различий в % конверсии в покупку;\n",
        "- H1: Между группами A и B есть различие % конверсии в покупку."
      ]
    },
    {
      "cell_type": "code",
      "metadata": {
        "id": "7xxBKMQqEoq7",
        "outputId": "5f44d5e9-0e72-448d-e7e4-674b914f1f81"
      },
      "source": [
        "count = list(report['Покупатели'].values)\n",
        "nobs = list(report['Участники'].values)\n",
        "\n",
        "pvalue = proportions_ztest(count, nobs, value = 0)[1]\n",
        "print('p-value: {}'.format(pvalue))\n",
        "if pvalue >= alpha: \n",
        "    print('Нулевая гипотеза не отвергается: между группами A и B нет различий в % конверсии в покупку.')\n",
        "else:\n",
        "    print('Нулевая гипотеза отвергается: между группами A и B есть различие % конверсии в покупку.')"
      ],
      "execution_count": null,
      "outputs": [
        {
          "output_type": "stream",
          "text": [
            "p-value: 0.08442039873710082\n",
            "Нулевая гипотеза не отвергается: между группами A и B нет различий в % конверсии в покупку.\n"
          ],
          "name": "stdout"
        }
      ]
    },
    {
      "cell_type": "markdown",
      "metadata": {
        "id": "luI3jKurEoq8"
      },
      "source": [
        "Средняя длительность сессии:"
      ]
    },
    {
      "cell_type": "code",
      "metadata": {
        "id": "yeG65wLMEoq8",
        "outputId": "87f507b8-3484-4ab2-9413-cf69520c63ca"
      },
      "source": [
        "report = test_sessions.copy()\n",
        "\n",
        "plt.subplots(figsize = (10, 5))\n",
        "report.boxplot('session_duration', by = 'group', ax = plt.subplot(1, 2, 1))\n",
        "plt.title('Распределения длительностей сессий\\n до чистки выбросов')\n",
        "\n",
        "a_sessions = report.query('group == \"A\"')[['session_duration', 'group']]\n",
        "b_sessions = report.query('group == \"B\"')[['session_duration', 'group']]\n",
        "\n",
        "#чистим выбросы\n",
        "a_sessions = a_sessions[a_sessions['session_duration'] < a_sessions['session_duration'].quantile(0.95)]\n",
        "b_sessions = b_sessions[b_sessions['session_duration'] < b_sessions['session_duration'].quantile(0.95)]\n",
        "a_sessions.append(b_sessions).boxplot('session_duration', by = 'group', ax = plt.subplot(1, 2, 2))\n",
        "plt.suptitle('')\n",
        "plt.title('Распределения длительностей сессий\\n после чистки выбросов')\n",
        "plt.show()"
      ],
      "execution_count": null,
      "outputs": [
        {
          "output_type": "display_data",
          "data": {
            "image/png": "[encoded data removed]",
            "text/plain": [
              "<Figure size 720x360 with 2 Axes>"
            ]
          },
          "metadata": {
            "tags": [],
            "needs_background": "light"
          }
        }
      ]
    },
    {
      "cell_type": "markdown",
      "metadata": {
        "id": "FeZijWC6Eoq8"
      },
      "source": [
        "Видно, что средняя длительность сессий в группе В заметно подросла. Проверим это t-тестом:\n",
        "- H0: медианная длительность сессий в группах А и В одинаковая;\n",
        "- H1: медианная длительность сессий в группах А и В отличается;"
      ]
    },
    {
      "cell_type": "code",
      "metadata": {
        "id": "p_zj3-wFEoq8",
        "outputId": "6d098623-1e0b-4481-aed7-cc5e0d173657"
      },
      "source": [
        "pvalue = stats.ttest_ind(a_sessions['session_duration'].values, b_sessions['session_duration'].values).pvalue\n",
        "\n",
        "print('p-value: {}'.format(pvalue))\n",
        "if pvalue >= alpha: \n",
        "    print('Нулевая гипотеза не отвергается: медианная длительность сессий в группах А и В одинаковая.')\n",
        "else:\n",
        "    print('Нулевая гипотеза отвергается: медианная длительность сессий в группах А и В отличается.')\n",
        "    \n",
        "delta = b_sessions['session_duration'].mean() - a_sessions['session_duration'].mean()\n",
        "b_sessions['session_duration'].mean(), a_sessions['session_duration'].mean(), delta, (b_sessions['session_duration'].mean() - 4.21) / 4.21"
      ],
      "execution_count": null,
      "outputs": [
        {
          "output_type": "stream",
          "text": [
            "p-value: 9.086879816551812e-13\n",
            "Нулевая гипотеза отвергается: медианная длительность сессий в группах А и В отличается.\n"
          ],
          "name": "stdout"
        },
        {
          "output_type": "execute_result",
          "data": {
            "text/plain": [
              "(6.914043391568251, 5.828877476324837, 1.0851659152434143, 0.6422905918214373)"
            ]
          },
          "metadata": {
            "tags": []
          },
          "execution_count": 68
        }
      ]
    },
    {
      "cell_type": "markdown",
      "metadata": {
        "id": "OXK6DXv3Eoq8"
      },
      "source": [
        "Разница между группами составляет примерно 1.3 минуты в пользу группы В.\n",
        "\n",
        "Продублируем тестом Манна-Уитни, без чистки выбросов:"
      ]
    },
    {
      "cell_type": "code",
      "metadata": {
        "id": "iD4bHz4sEoq8",
        "outputId": "1832ab76-c2bc-4a20-cdc4-b2f83331ee31"
      },
      "source": [
        "a_sessions = report.query('group == \"A\"')[['session_duration', 'group']]\n",
        "b_sessions = report.query('group == \"B\"')[['session_duration', 'group']]\n",
        "\n",
        "pvalue = stats.mannwhitneyu(a_sessions['session_duration'].values, b_sessions['session_duration'].values)[1]\n",
        "\n",
        "print('p-value: {}'.format(pvalue))\n",
        "if pvalue >= alpha: \n",
        "    print('Нулевая гипотеза не отвергается: медианная длительность сессий в группах А и В одинаковая.')\n",
        "else:\n",
        "    print('Нулевая гипотеза отвергается: медианная длительность сессий в группах А и В отличается.')\n",
        "     \n",
        "b_sessions['session_duration'].median(), a_sessions['session_duration'].median(), b_sessions['session_duration'].median() - a_sessions['session_duration'].median()"
      ],
      "execution_count": null,
      "outputs": [
        {
          "output_type": "stream",
          "text": [
            "p-value: 1.1492569552944105e-54\n",
            "Нулевая гипотеза отвергается: медианная длительность сессий в группах А и В отличается.\n"
          ],
          "name": "stdout"
        },
        {
          "output_type": "execute_result",
          "data": {
            "text/plain": [
              "(5.50858544202298, 3.9575410318479314, 1.5510444101750487)"
            ]
          },
          "metadata": {
            "tags": []
          },
          "execution_count": 70
        }
      ]
    },
    {
      "cell_type": "markdown",
      "metadata": {
        "id": "a_ErezdpEoq8"
      },
      "source": [
        "Можно заключить, что средняя длительность сессии в тестовой группе выросла на 64% по сравнению с базовой длительностью (4.21 минуты)."
      ]
    },
    {
      "cell_type": "markdown",
      "metadata": {
        "id": "Ucq4qdCOEoq8"
      },
      "source": [
        "## Выводы"
      ]
    },
    {
      "cell_type": "markdown",
      "metadata": {
        "id": "igtQlZVqEoq8"
      },
      "source": [
        "Выводы:\n",
        "1. Тест был проведен в соответствии с ТЗ с небольшими, практически незначимыми отклонениями;\n",
        "2. Между группами наблюдаются статистически и практически значимое различие в длительности сессий - она выросла на 60% по сравнению с бейзлайном:\n",
        "3. По конверсии статистически значимых отличий не обнаружилось.\n",
        "    \n",
        "Рекомендации для заказчика:\n",
        "- Новая onboarding-воронка работает не хуже старой, пользователи проводят на сайте больше времени, конверсия не задета. Рекоммендуем внедрять ее на всех пользователей."
      ]
    }
  ]
}