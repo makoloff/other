{
  "nbformat": 4,
  "nbformat_minor": 0,
  "metadata": {
    "colab": {
      "name": "Прогресс.ipynb",
      "provenance": [],
      "collapsed_sections": []
    },
    "kernelspec": {
      "name": "python3",
      "display_name": "Python 3"
    }
  },
  "cells": [
    {
      "cell_type": "code",
      "metadata": {
        "id": "WX1dRdYn-tuc"
      },
      "source": [
        "import pandas as pd\n",
        "pd.set_option('display.max_columns', 500)\n",
        "import matplotlib.pyplot as plt\n",
        "import numpy as np\n",
        "import seaborn as sns\n",
        "#sns.set(style=\"darkgrid\")\n",
        "\n",
        "from scipy import stats as st\n",
        "\n",
        "import plotly.express as px\n",
        "import warnings\n",
        "warnings.filterwarnings('ignore')"
      ],
      "execution_count": null,
      "outputs": []
    },
    {
      "cell_type": "code",
      "metadata": {
        "id": "9T7_OvSf-xW3"
      },
      "source": [
        "df = pd.read_excel('/content/drive/MyDrive/DATASETS/Тестовые/Тест_Старший_аналитик.xlsx', sheet_name=0)"
      ],
      "execution_count": null,
      "outputs": []
    },
    {
      "cell_type": "code",
      "metadata": {
        "colab": {
          "base_uri": "https://localhost:8080/",
          "height": 200
        },
        "id": "6ndjrn8H--Ca",
        "outputId": "5d215265-e559-4202-d2a3-4dd8ff200cdb"
      },
      "source": [
        "df.head()"
      ],
      "execution_count": null,
      "outputs": [
        {
          "output_type": "execute_result",
          "data": {
            "text/html": [
              "<div>\n",
              "<style scoped>\n",
              "    .dataframe tbody tr th:only-of-type {\n",
              "        vertical-align: middle;\n",
              "    }\n",
              "\n",
              "    .dataframe tbody tr th {\n",
              "        vertical-align: top;\n",
              "    }\n",
              "\n",
              "    .dataframe thead th {\n",
              "        text-align: right;\n",
              "    }\n",
              "</style>\n",
              "<table border=\"1\" class=\"dataframe\">\n",
              "  <thead>\n",
              "    <tr style=\"text-align: right;\">\n",
              "      <th></th>\n",
              "      <th>Дивизион</th>\n",
              "      <th>Канал</th>\n",
              "      <th>Вывеска</th>\n",
              "      <th>Проект</th>\n",
              "      <th>Бренд</th>\n",
              "      <th>Брендобъем</th>\n",
              "      <th>Год</th>\n",
              "      <th>Месяц</th>\n",
              "      <th>План руб</th>\n",
              "      <th>Факт руб</th>\n",
              "      <th>План тонны</th>\n",
              "      <th>Факт тонны</th>\n",
              "    </tr>\n",
              "  </thead>\n",
              "  <tbody>\n",
              "    <tr>\n",
              "      <th>0</th>\n",
              "      <td>ВОСТОК_ПРГ</td>\n",
              "      <td>ГОСЗАКУПКИ</td>\n",
              "      <td>NaN</td>\n",
              "      <td>ДП</td>\n",
              "      <td>МАЛЫШАМ</td>\n",
              "      <td>Сок МАЛЫШАМ 0.200 Тетра Пак</td>\n",
              "      <td>2013</td>\n",
              "      <td>Январь</td>\n",
              "      <td>6521069.72</td>\n",
              "      <td>8182954.10</td>\n",
              "      <td>261.674580</td>\n",
              "      <td>256.003254</td>\n",
              "    </tr>\n",
              "    <tr>\n",
              "      <th>1</th>\n",
              "      <td>ВОСТОК_ПРГ</td>\n",
              "      <td>ГОСЗАКУПКИ</td>\n",
              "      <td>NaN</td>\n",
              "      <td>ДП</td>\n",
              "      <td>МАЛЫШАМ</td>\n",
              "      <td>Сок МАЛЫШАМ 0.200 Тетра Пак</td>\n",
              "      <td>2013</td>\n",
              "      <td>Февраль</td>\n",
              "      <td>4795901.79</td>\n",
              "      <td>5632817.79</td>\n",
              "      <td>192.826769</td>\n",
              "      <td>183.638664</td>\n",
              "    </tr>\n",
              "    <tr>\n",
              "      <th>2</th>\n",
              "      <td>ВОСТОК_ПРГ</td>\n",
              "      <td>ГОСЗАКУПКИ</td>\n",
              "      <td>NaN</td>\n",
              "      <td>ДП</td>\n",
              "      <td>МАЛЫШАМ</td>\n",
              "      <td>Сок МАЛЫШАМ 0.200 Тетра Пак</td>\n",
              "      <td>2013</td>\n",
              "      <td>Март</td>\n",
              "      <td>10627862.78</td>\n",
              "      <td>3076383.72</td>\n",
              "      <td>390.499715</td>\n",
              "      <td>104.779083</td>\n",
              "    </tr>\n",
              "    <tr>\n",
              "      <th>3</th>\n",
              "      <td>ВОСТОК_ПРГ</td>\n",
              "      <td>ГОСЗАКУПКИ</td>\n",
              "      <td>NaN</td>\n",
              "      <td>ДП</td>\n",
              "      <td>МАЛЫШАМ</td>\n",
              "      <td>Сок МАЛЫШАМ 0.200 Тетра Пак</td>\n",
              "      <td>2013</td>\n",
              "      <td>Апрель</td>\n",
              "      <td>5891326.35</td>\n",
              "      <td>1886433.67</td>\n",
              "      <td>216.566416</td>\n",
              "      <td>66.719268</td>\n",
              "    </tr>\n",
              "    <tr>\n",
              "      <th>4</th>\n",
              "      <td>ВОСТОК_ПРГ</td>\n",
              "      <td>ГОСЗАКУПКИ</td>\n",
              "      <td>NaN</td>\n",
              "      <td>ДП</td>\n",
              "      <td>МАЛЫШАМ</td>\n",
              "      <td>Сок МАЛЫШАМ 0.200 Тетра Пак</td>\n",
              "      <td>2013</td>\n",
              "      <td>Май</td>\n",
              "      <td>4971125.78</td>\n",
              "      <td>1944910.39</td>\n",
              "      <td>182.794337</td>\n",
              "      <td>67.253220</td>\n",
              "    </tr>\n",
              "  </tbody>\n",
              "</table>\n",
              "</div>"
            ],
            "text/plain": [
              "     Дивизион       Канал Вывеска Проект    Бренд  \\\n",
              "0  ВОСТОК_ПРГ  ГОСЗАКУПКИ     NaN     ДП  МАЛЫШАМ   \n",
              "1  ВОСТОК_ПРГ  ГОСЗАКУПКИ     NaN     ДП  МАЛЫШАМ   \n",
              "2  ВОСТОК_ПРГ  ГОСЗАКУПКИ     NaN     ДП  МАЛЫШАМ   \n",
              "3  ВОСТОК_ПРГ  ГОСЗАКУПКИ     NaN     ДП  МАЛЫШАМ   \n",
              "4  ВОСТОК_ПРГ  ГОСЗАКУПКИ     NaN     ДП  МАЛЫШАМ   \n",
              "\n",
              "                    Брендобъем   Год    Месяц     План руб    Факт руб  \\\n",
              "0  Сок МАЛЫШАМ 0.200 Тетра Пак  2013   Январь   6521069.72  8182954.10   \n",
              "1  Сок МАЛЫШАМ 0.200 Тетра Пак  2013  Февраль   4795901.79  5632817.79   \n",
              "2  Сок МАЛЫШАМ 0.200 Тетра Пак  2013     Март  10627862.78  3076383.72   \n",
              "3  Сок МАЛЫШАМ 0.200 Тетра Пак  2013   Апрель   5891326.35  1886433.67   \n",
              "4  Сок МАЛЫШАМ 0.200 Тетра Пак  2013      Май   4971125.78  1944910.39   \n",
              "\n",
              "   План тонны  Факт тонны  \n",
              "0  261.674580  256.003254  \n",
              "1  192.826769  183.638664  \n",
              "2  390.499715  104.779083  \n",
              "3  216.566416   66.719268  \n",
              "4  182.794337   67.253220  "
            ]
          },
          "metadata": {
            "tags": []
          },
          "execution_count": 3
        }
      ]
    },
    {
      "cell_type": "code",
      "metadata": {
        "id": "mQzbMlwgzZJB"
      },
      "source": [
        "df.fillna(0.0, inplace=True)\n",
        "df['План руб'] = df['План руб'] / 1000000\n",
        "df['Факт руб'] = df['Факт руб'] / 1000000\n",
        "\n",
        "def asd(month):\n",
        "  if month == 'Январь':\n",
        "    return 1\n",
        "  if month == 'Февраль':\n",
        "    return 2\n",
        "  if month == 'Март':\n",
        "    return 3\n",
        "  if month == 'Апрель':\n",
        "    return 4\n",
        "  if month == 'Май':\n",
        "    return 5\n",
        "\n",
        "df['month'] = df['Месяц'].apply(asd)"
      ],
      "execution_count": null,
      "outputs": []
    },
    {
      "cell_type": "markdown",
      "metadata": {
        "id": "IafpBgIu5S9q"
      },
      "source": [
        "# ЧАСТЬ 1"
      ]
    },
    {
      "cell_type": "markdown",
      "metadata": {
        "id": "svCA66KL5Vl_"
      },
      "source": [
        "Вопрос №1"
      ]
    },
    {
      "cell_type": "code",
      "metadata": {
        "colab": {
          "base_uri": "https://localhost:8080/",
          "height": 542
        },
        "id": "4JEuimitF7HA",
        "outputId": "121ed002-5f11-471a-8b32-2943d04ab54d"
      },
      "source": [
        "# группируем данные\n",
        "t = df[df['Год'] == 2014].groupby(['Год', 'month','Бренд']).agg({'Факт руб' : 'sum'}).reset_index()\n",
        "\n",
        "t['Факт руб'] = t['Факт руб'].round(0)\n",
        "\n",
        "\n",
        "\n",
        "# строим график\n",
        "fig = px.bar(t.sort_values(by=['Год', 'month', 'Факт руб']), x='month', y='Факт руб', color='Бренд',\\\n",
        "            title='Фактические продажи брендов по месяцам, млн руб',\\\n",
        "             text ='Факт руб',\n",
        "             labels={'month' : 'Номер Месяца'}\n",
        "            )\n",
        "fig.update_layout(barmode='group', xaxis_tickangle=0, title_font_family=\"Times New Roman\")\n",
        "fig.update_traces( textposition='outside', textangle=0)\n",
        "fig.show()"
      ],
      "execution_count": null,
      "outputs": [
        {
          "output_type": "display_data",
          "data": {
            "text/html": [
              "<html>\n",
              "<head><meta charset=\"utf-8\" /></head>\n",
              "<body>\n",
              "    <div>\n",
              "            <script src=\"https://cdnjs.cloudflare.com/ajax/libs/mathjax/2.7.5/MathJax.js?config=TeX-AMS-MML_SVG\"></script><script type=\"text/javascript\">if (window.MathJax) {MathJax.Hub.Config({SVG: {font: \"STIX-Web\"}});}</script>\n",
              "                <script type=\"text/javascript\">window.PlotlyConfig = {MathJaxConfig: 'local'};</script>\n",
              "        <script src=\"https://cdn.plot.ly/plotly-latest.min.js\"></script>    \n",
              "            <div id=\"c2825225-df99-41b0-985b-4b90c673e206\" class=\"plotly-graph-div\" style=\"height:525px; width:100%;\"></div>\n",
              "            <script type=\"text/javascript\">\n",
              "                \n",
              "                    window.PLOTLYENV=window.PLOTLYENV || {};\n",
              "                    \n",
              "                if (document.getElementById(\"c2825225-df99-41b0-985b-4b90c673e206\")) {\n",
              "                    Plotly.newPlot(\n",
              "                        'c2825225-df99-41b0-985b-4b90c673e206',\n",
              "                        [{\"alignmentgroup\": \"True\", \"hoverlabel\": {\"namelength\": 0}, \"hovertemplate\": \"\\u0411\\u0440\\u0435\\u043d\\u0434=\\u041b\\u0411\\u042e\\u0412\\u0415\\u04225.0<br>\\u041d\\u043e\\u043c\\u0435\\u0440 \\u041c\\u0435\\u0441\\u044f\\u0446\\u0430=%{x}<br>\\u0424\\u0430\\u043a\\u0442 \\u0440\\u0443\\u0431=%{text}\", \"legendgroup\": \"\\u0411\\u0440\\u0435\\u043d\\u0434=\\u041b\\u0411\\u042e\\u0412\\u0415\\u04225.0\", \"marker\": {\"color\": \"#636efa\"}, \"name\": \"\\u0411\\u0440\\u0435\\u043d\\u0434=\\u041b\\u0411\\u042e\\u0412\\u0415\\u04225.0\", \"offsetgroup\": \"\\u0411\\u0440\\u0435\\u043d\\u0434=\\u041b\\u0411\\u042e\\u0412\\u0415\\u04225.0\", \"orientation\": \"v\", \"showlegend\": true, \"text\": [6.0, 7.0, 6.0, 8.0, 9.0], \"textangle\": 0, \"textposition\": \"outside\", \"type\": \"bar\", \"x\": [1, 2, 3, 4, 5], \"xaxis\": \"x\", \"y\": [6.0, 7.0, 6.0, 8.0, 9.0], \"yaxis\": \"y\"}, {\"alignmentgroup\": \"True\", \"hoverlabel\": {\"namelength\": 0}, \"hovertemplate\": \"\\u0411\\u0440\\u0435\\u043d\\u0434=\\u041b\\u0411\\u042e\\u0412\\u0415\\u04220305<br>\\u041d\\u043e\\u043c\\u0435\\u0440 \\u041c\\u0435\\u0441\\u044f\\u0446\\u0430=%{x}<br>\\u0424\\u0430\\u043a\\u0442 \\u0440\\u0443\\u0431=%{text}\", \"legendgroup\": \"\\u0411\\u0440\\u0435\\u043d\\u0434=\\u041b\\u0411\\u042e\\u0412\\u0415\\u04220305\", \"marker\": {\"color\": \"#EF553B\"}, \"name\": \"\\u0411\\u0440\\u0435\\u043d\\u0434=\\u041b\\u0411\\u042e\\u0412\\u0415\\u04220305\", \"offsetgroup\": \"\\u0411\\u0440\\u0435\\u043d\\u0434=\\u041b\\u0411\\u042e\\u0412\\u0415\\u04220305\", \"orientation\": \"v\", \"showlegend\": true, \"text\": [7.0, 9.0, 11.0, 19.0, 24.0], \"textangle\": 0, \"textposition\": \"outside\", \"type\": \"bar\", \"x\": [1, 2, 3, 4, 5], \"xaxis\": \"x\", \"y\": [7.0, 9.0, 11.0, 19.0, 24.0], \"yaxis\": \"y\"}, {\"alignmentgroup\": \"True\", \"hoverlabel\": {\"namelength\": 0}, \"hovertemplate\": \"\\u0411\\u0440\\u0435\\u043d\\u0434=\\u041b\\u0411\\u042e\\u0412\\u0415\\u04221.5<br>\\u041d\\u043e\\u043c\\u0435\\u0440 \\u041c\\u0435\\u0441\\u044f\\u0446\\u0430=%{x}<br>\\u0424\\u0430\\u043a\\u0442 \\u0440\\u0443\\u0431=%{text}\", \"legendgroup\": \"\\u0411\\u0440\\u0435\\u043d\\u0434=\\u041b\\u0411\\u042e\\u0412\\u0415\\u04221.5\", \"marker\": {\"color\": \"#00cc96\"}, \"name\": \"\\u0411\\u0440\\u0435\\u043d\\u0434=\\u041b\\u0411\\u042e\\u0412\\u0415\\u04221.5\", \"offsetgroup\": \"\\u0411\\u0440\\u0435\\u043d\\u0434=\\u041b\\u0411\\u042e\\u0412\\u0415\\u04221.5\", \"orientation\": \"v\", \"showlegend\": true, \"text\": [35.0, 41.0, 48.0, 67.0, 97.0], \"textangle\": 0, \"textposition\": \"outside\", \"type\": \"bar\", \"x\": [1, 2, 3, 4, 5], \"xaxis\": \"x\", \"y\": [35.0, 41.0, 48.0, 67.0, 97.0], \"yaxis\": \"y\"}, {\"alignmentgroup\": \"True\", \"hoverlabel\": {\"namelength\": 0}, \"hovertemplate\": \"\\u0411\\u0440\\u0435\\u043d\\u0434=\\u041c\\u0410\\u041b\\u042b\\u0428\\u0410\\u041c<br>\\u041d\\u043e\\u043c\\u0435\\u0440 \\u041c\\u0435\\u0441\\u044f\\u0446\\u0430=%{x}<br>\\u0424\\u0430\\u043a\\u0442 \\u0440\\u0443\\u0431=%{text}\", \"legendgroup\": \"\\u0411\\u0440\\u0435\\u043d\\u0434=\\u041c\\u0410\\u041b\\u042b\\u0428\\u0410\\u041c\", \"marker\": {\"color\": \"#ab63fa\"}, \"name\": \"\\u0411\\u0440\\u0435\\u043d\\u0434=\\u041c\\u0410\\u041b\\u042b\\u0428\\u0410\\u041c\", \"offsetgroup\": \"\\u0411\\u0440\\u0435\\u043d\\u0434=\\u041c\\u0410\\u041b\\u042b\\u0428\\u0410\\u041c\", \"orientation\": \"v\", \"showlegend\": true, \"text\": [121.0, 148.0, 181.0, 192.0, 193.0], \"textangle\": 0, \"textposition\": \"outside\", \"type\": \"bar\", \"x\": [1, 2, 3, 4, 5], \"xaxis\": \"x\", \"y\": [121.0, 148.0, 181.0, 192.0, 193.0], \"yaxis\": \"y\"}],\n",
              "                        {\"barmode\": \"group\", \"legend\": {\"tracegroupgap\": 0}, \"template\": {\"data\": {\"bar\": [{\"error_x\": {\"color\": \"#2a3f5f\"}, \"error_y\": {\"color\": \"#2a3f5f\"}, \"marker\": {\"line\": {\"color\": \"#E5ECF6\", \"width\": 0.5}}, \"type\": \"bar\"}], \"barpolar\": [{\"marker\": {\"line\": {\"color\": \"#E5ECF6\", \"width\": 0.5}}, \"type\": \"barpolar\"}], \"carpet\": [{\"aaxis\": {\"endlinecolor\": \"#2a3f5f\", \"gridcolor\": \"white\", \"linecolor\": \"white\", \"minorgridcolor\": \"white\", \"startlinecolor\": \"#2a3f5f\"}, \"baxis\": {\"endlinecolor\": \"#2a3f5f\", \"gridcolor\": \"white\", \"linecolor\": \"white\", \"minorgridcolor\": \"white\", \"startlinecolor\": \"#2a3f5f\"}, \"type\": \"carpet\"}], \"choropleth\": [{\"colorbar\": {\"outlinewidth\": 0, \"ticks\": \"\"}, \"type\": \"choropleth\"}], \"contour\": [{\"colorbar\": {\"outlinewidth\": 0, \"ticks\": \"\"}, \"colorscale\": [[0.0, \"#0d0887\"], [0.1111111111111111, \"#46039f\"], [0.2222222222222222, \"#7201a8\"], [0.3333333333333333, \"#9c179e\"], [0.4444444444444444, \"#bd3786\"], [0.5555555555555556, \"#d8576b\"], [0.6666666666666666, \"#ed7953\"], [0.7777777777777778, \"#fb9f3a\"], [0.8888888888888888, \"#fdca26\"], [1.0, \"#f0f921\"]], \"type\": \"contour\"}], \"contourcarpet\": [{\"colorbar\": {\"outlinewidth\": 0, \"ticks\": \"\"}, \"type\": \"contourcarpet\"}], \"heatmap\": [{\"colorbar\": {\"outlinewidth\": 0, \"ticks\": \"\"}, \"colorscale\": [[0.0, \"#0d0887\"], [0.1111111111111111, \"#46039f\"], [0.2222222222222222, \"#7201a8\"], [0.3333333333333333, \"#9c179e\"], [0.4444444444444444, \"#bd3786\"], [0.5555555555555556, \"#d8576b\"], [0.6666666666666666, \"#ed7953\"], [0.7777777777777778, \"#fb9f3a\"], [0.8888888888888888, \"#fdca26\"], [1.0, \"#f0f921\"]], \"type\": \"heatmap\"}], \"heatmapgl\": [{\"colorbar\": {\"outlinewidth\": 0, \"ticks\": \"\"}, \"colorscale\": [[0.0, \"#0d0887\"], [0.1111111111111111, \"#46039f\"], [0.2222222222222222, \"#7201a8\"], [0.3333333333333333, \"#9c179e\"], [0.4444444444444444, \"#bd3786\"], [0.5555555555555556, \"#d8576b\"], [0.6666666666666666, \"#ed7953\"], [0.7777777777777778, \"#fb9f3a\"], [0.8888888888888888, \"#fdca26\"], [1.0, \"#f0f921\"]], \"type\": \"heatmapgl\"}], \"histogram\": [{\"marker\": {\"colorbar\": {\"outlinewidth\": 0, \"ticks\": \"\"}}, \"type\": \"histogram\"}], \"histogram2d\": [{\"colorbar\": {\"outlinewidth\": 0, \"ticks\": \"\"}, \"colorscale\": [[0.0, \"#0d0887\"], [0.1111111111111111, \"#46039f\"], [0.2222222222222222, \"#7201a8\"], [0.3333333333333333, \"#9c179e\"], [0.4444444444444444, \"#bd3786\"], [0.5555555555555556, \"#d8576b\"], [0.6666666666666666, \"#ed7953\"], [0.7777777777777778, \"#fb9f3a\"], [0.8888888888888888, \"#fdca26\"], [1.0, \"#f0f921\"]], \"type\": \"histogram2d\"}], \"histogram2dcontour\": [{\"colorbar\": {\"outlinewidth\": 0, \"ticks\": \"\"}, \"colorscale\": [[0.0, \"#0d0887\"], [0.1111111111111111, \"#46039f\"], [0.2222222222222222, \"#7201a8\"], [0.3333333333333333, \"#9c179e\"], [0.4444444444444444, \"#bd3786\"], [0.5555555555555556, \"#d8576b\"], [0.6666666666666666, \"#ed7953\"], [0.7777777777777778, \"#fb9f3a\"], [0.8888888888888888, \"#fdca26\"], [1.0, \"#f0f921\"]], \"type\": \"histogram2dcontour\"}], \"mesh3d\": [{\"colorbar\": {\"outlinewidth\": 0, \"ticks\": \"\"}, \"type\": \"mesh3d\"}], \"parcoords\": [{\"line\": {\"colorbar\": {\"outlinewidth\": 0, \"ticks\": \"\"}}, \"type\": \"parcoords\"}], \"pie\": [{\"automargin\": true, \"type\": \"pie\"}], \"scatter\": [{\"marker\": {\"colorbar\": {\"outlinewidth\": 0, \"ticks\": \"\"}}, \"type\": \"scatter\"}], \"scatter3d\": [{\"line\": {\"colorbar\": {\"outlinewidth\": 0, \"ticks\": \"\"}}, \"marker\": {\"colorbar\": {\"outlinewidth\": 0, \"ticks\": \"\"}}, \"type\": \"scatter3d\"}], \"scattercarpet\": [{\"marker\": {\"colorbar\": {\"outlinewidth\": 0, \"ticks\": \"\"}}, \"type\": \"scattercarpet\"}], \"scattergeo\": [{\"marker\": {\"colorbar\": {\"outlinewidth\": 0, \"ticks\": \"\"}}, \"type\": \"scattergeo\"}], \"scattergl\": [{\"marker\": {\"colorbar\": {\"outlinewidth\": 0, \"ticks\": \"\"}}, \"type\": \"scattergl\"}], \"scattermapbox\": [{\"marker\": {\"colorbar\": {\"outlinewidth\": 0, \"ticks\": \"\"}}, \"type\": \"scattermapbox\"}], \"scatterpolar\": [{\"marker\": {\"colorbar\": {\"outlinewidth\": 0, \"ticks\": \"\"}}, \"type\": \"scatterpolar\"}], \"scatterpolargl\": [{\"marker\": {\"colorbar\": {\"outlinewidth\": 0, \"ticks\": \"\"}}, \"type\": \"scatterpolargl\"}], \"scatterternary\": [{\"marker\": {\"colorbar\": {\"outlinewidth\": 0, \"ticks\": \"\"}}, \"type\": \"scatterternary\"}], \"surface\": [{\"colorbar\": {\"outlinewidth\": 0, \"ticks\": \"\"}, \"colorscale\": [[0.0, \"#0d0887\"], [0.1111111111111111, \"#46039f\"], [0.2222222222222222, \"#7201a8\"], [0.3333333333333333, \"#9c179e\"], [0.4444444444444444, \"#bd3786\"], [0.5555555555555556, \"#d8576b\"], [0.6666666666666666, \"#ed7953\"], [0.7777777777777778, \"#fb9f3a\"], [0.8888888888888888, \"#fdca26\"], [1.0, \"#f0f921\"]], \"type\": \"surface\"}], \"table\": [{\"cells\": {\"fill\": {\"color\": \"#EBF0F8\"}, \"line\": {\"color\": \"white\"}}, \"header\": {\"fill\": {\"color\": \"#C8D4E3\"}, \"line\": {\"color\": \"white\"}}, \"type\": \"table\"}]}, \"layout\": {\"annotationdefaults\": {\"arrowcolor\": \"#2a3f5f\", \"arrowhead\": 0, \"arrowwidth\": 1}, \"coloraxis\": {\"colorbar\": {\"outlinewidth\": 0, \"ticks\": \"\"}}, \"colorscale\": {\"diverging\": [[0, \"#8e0152\"], [0.1, \"#c51b7d\"], [0.2, \"#de77ae\"], [0.3, \"#f1b6da\"], [0.4, \"#fde0ef\"], [0.5, \"#f7f7f7\"], [0.6, \"#e6f5d0\"], [0.7, \"#b8e186\"], [0.8, \"#7fbc41\"], [0.9, \"#4d9221\"], [1, \"#276419\"]], \"sequential\": [[0.0, \"#0d0887\"], [0.1111111111111111, \"#46039f\"], [0.2222222222222222, \"#7201a8\"], [0.3333333333333333, \"#9c179e\"], [0.4444444444444444, \"#bd3786\"], [0.5555555555555556, \"#d8576b\"], [0.6666666666666666, \"#ed7953\"], [0.7777777777777778, \"#fb9f3a\"], [0.8888888888888888, \"#fdca26\"], [1.0, \"#f0f921\"]], \"sequentialminus\": [[0.0, \"#0d0887\"], [0.1111111111111111, \"#46039f\"], [0.2222222222222222, \"#7201a8\"], [0.3333333333333333, \"#9c179e\"], [0.4444444444444444, \"#bd3786\"], [0.5555555555555556, \"#d8576b\"], [0.6666666666666666, \"#ed7953\"], [0.7777777777777778, \"#fb9f3a\"], [0.8888888888888888, \"#fdca26\"], [1.0, \"#f0f921\"]]}, \"colorway\": [\"#636efa\", \"#EF553B\", \"#00cc96\", \"#ab63fa\", \"#FFA15A\", \"#19d3f3\", \"#FF6692\", \"#B6E880\", \"#FF97FF\", \"#FECB52\"], \"font\": {\"color\": \"#2a3f5f\"}, \"geo\": {\"bgcolor\": \"white\", \"lakecolor\": \"white\", \"landcolor\": \"#E5ECF6\", \"showlakes\": true, \"showland\": true, \"subunitcolor\": \"white\"}, \"hoverlabel\": {\"align\": \"left\"}, \"hovermode\": \"closest\", \"mapbox\": {\"style\": \"light\"}, \"paper_bgcolor\": \"white\", \"plot_bgcolor\": \"#E5ECF6\", \"polar\": {\"angularaxis\": {\"gridcolor\": \"white\", \"linecolor\": \"white\", \"ticks\": \"\"}, \"bgcolor\": \"#E5ECF6\", \"radialaxis\": {\"gridcolor\": \"white\", \"linecolor\": \"white\", \"ticks\": \"\"}}, \"scene\": {\"xaxis\": {\"backgroundcolor\": \"#E5ECF6\", \"gridcolor\": \"white\", \"gridwidth\": 2, \"linecolor\": \"white\", \"showbackground\": true, \"ticks\": \"\", \"zerolinecolor\": \"white\"}, \"yaxis\": {\"backgroundcolor\": \"#E5ECF6\", \"gridcolor\": \"white\", \"gridwidth\": 2, \"linecolor\": \"white\", \"showbackground\": true, \"ticks\": \"\", \"zerolinecolor\": \"white\"}, \"zaxis\": {\"backgroundcolor\": \"#E5ECF6\", \"gridcolor\": \"white\", \"gridwidth\": 2, \"linecolor\": \"white\", \"showbackground\": true, \"ticks\": \"\", \"zerolinecolor\": \"white\"}}, \"shapedefaults\": {\"line\": {\"color\": \"#2a3f5f\"}}, \"ternary\": {\"aaxis\": {\"gridcolor\": \"white\", \"linecolor\": \"white\", \"ticks\": \"\"}, \"baxis\": {\"gridcolor\": \"white\", \"linecolor\": \"white\", \"ticks\": \"\"}, \"bgcolor\": \"#E5ECF6\", \"caxis\": {\"gridcolor\": \"white\", \"linecolor\": \"white\", \"ticks\": \"\"}}, \"title\": {\"x\": 0.05}, \"xaxis\": {\"automargin\": true, \"gridcolor\": \"white\", \"linecolor\": \"white\", \"ticks\": \"\", \"title\": {\"standoff\": 15}, \"zerolinecolor\": \"white\", \"zerolinewidth\": 2}, \"yaxis\": {\"automargin\": true, \"gridcolor\": \"white\", \"linecolor\": \"white\", \"ticks\": \"\", \"title\": {\"standoff\": 15}, \"zerolinecolor\": \"white\", \"zerolinewidth\": 2}}}, \"title\": {\"font\": {\"family\": \"Times New Roman\"}, \"text\": \"\\u0424\\u0430\\u043a\\u0442\\u0438\\u0447\\u0435\\u0441\\u043a\\u0438\\u0435 \\u043f\\u0440\\u043e\\u0434\\u0430\\u0436\\u0438 \\u0431\\u0440\\u0435\\u043d\\u0434\\u043e\\u0432 \\u043f\\u043e \\u043c\\u0435\\u0441\\u044f\\u0446\\u0430\\u043c, \\u043c\\u043b\\u043d \\u0440\\u0443\\u0431\"}, \"xaxis\": {\"anchor\": \"y\", \"domain\": [0.0, 1.0], \"tickangle\": 0, \"title\": {\"text\": \"\\u041d\\u043e\\u043c\\u0435\\u0440 \\u041c\\u0435\\u0441\\u044f\\u0446\\u0430\"}}, \"yaxis\": {\"anchor\": \"x\", \"domain\": [0.0, 1.0], \"title\": {\"text\": \"\\u0424\\u0430\\u043a\\u0442 \\u0440\\u0443\\u0431\"}}},\n",
              "                        {\"responsive\": true}\n",
              "                    ).then(function(){\n",
              "                            \n",
              "var gd = document.getElementById('c2825225-df99-41b0-985b-4b90c673e206');\n",
              "var x = new MutationObserver(function (mutations, observer) {{\n",
              "        var display = window.getComputedStyle(gd).display;\n",
              "        if (!display || display === 'none') {{\n",
              "            console.log([gd, 'removed!']);\n",
              "            Plotly.purge(gd);\n",
              "            observer.disconnect();\n",
              "        }}\n",
              "}});\n",
              "\n",
              "// Listen for the removal of the full notebook cells\n",
              "var notebookContainer = gd.closest('#notebook-container');\n",
              "if (notebookContainer) {{\n",
              "    x.observe(notebookContainer, {childList: true});\n",
              "}}\n",
              "\n",
              "// Listen for the clearing of the current output cell\n",
              "var outputEl = gd.closest('.output');\n",
              "if (outputEl) {{\n",
              "    x.observe(outputEl, {childList: true});\n",
              "}}\n",
              "\n",
              "                        })\n",
              "                };\n",
              "                \n",
              "            </script>\n",
              "        </div>\n",
              "</body>\n",
              "</html>"
            ]
          },
          "metadata": {
            "tags": []
          }
        }
      ]
    },
    {
      "cell_type": "markdown",
      "metadata": {
        "id": "zZl20ZaxZcR9"
      },
      "source": [
        "Краткий вывод\n",
        "1. Идет рост продаж от месяца к месяцу\n",
        "2. Яркий лидер бренд - \"Малышам\""
      ]
    },
    {
      "cell_type": "code",
      "metadata": {
        "colab": {
          "base_uri": "https://localhost:8080/",
          "height": 542
        },
        "id": "w7lGCwFVF7NM",
        "outputId": "e9cb6bee-3b60-49af-c91d-d1ccb7f22522"
      },
      "source": [
        "tt = df[df['Год'] == 2014].groupby(['Год', 'month','Бренд']).agg({'Факт руб' : 'sum', 'План руб' : 'sum'}).reset_index()\n",
        "tt['Выполнение_плана'] = tt['Факт руб'] / tt['План руб'] -1\n",
        "tt['Выполнение_плана'] = tt['Выполнение_плана'].round(2)\n",
        "#tt\n",
        "\n",
        "# график\n",
        "fig = px.bar(tt, x='month', y='Выполнение_плана', color='Бренд',\\\n",
        "            title='Выполнения плана по брендам и по месяцам',\\\n",
        "             text ='Выполнение_плана',\n",
        "             labels={'month' : 'Номер Месяца'}\n",
        "            )\n",
        "fig.update_layout(barmode='group', xaxis_tickangle=0, title_font_family=\"Times New Roman\")\n",
        "fig.update_traces( textposition='outside', textangle=0)\n",
        "fig.show()"
      ],
      "execution_count": null,
      "outputs": [
        {
          "output_type": "display_data",
          "data": {
            "text/html": [
              "<html>\n",
              "<head><meta charset=\"utf-8\" /></head>\n",
              "<body>\n",
              "    <div>\n",
              "            <script src=\"https://cdnjs.cloudflare.com/ajax/libs/mathjax/2.7.5/MathJax.js?config=TeX-AMS-MML_SVG\"></script><script type=\"text/javascript\">if (window.MathJax) {MathJax.Hub.Config({SVG: {font: \"STIX-Web\"}});}</script>\n",
              "                <script type=\"text/javascript\">window.PlotlyConfig = {MathJaxConfig: 'local'};</script>\n",
              "        <script src=\"https://cdn.plot.ly/plotly-latest.min.js\"></script>    \n",
              "            <div id=\"acc98383-56db-4718-a30a-39f6f2e91efe\" class=\"plotly-graph-div\" style=\"height:525px; width:100%;\"></div>\n",
              "            <script type=\"text/javascript\">\n",
              "                \n",
              "                    window.PLOTLYENV=window.PLOTLYENV || {};\n",
              "                    \n",
              "                if (document.getElementById(\"acc98383-56db-4718-a30a-39f6f2e91efe\")) {\n",
              "                    Plotly.newPlot(\n",
              "                        'acc98383-56db-4718-a30a-39f6f2e91efe',\n",
              "                        [{\"alignmentgroup\": \"True\", \"hoverlabel\": {\"namelength\": 0}, \"hovertemplate\": \"\\u0411\\u0440\\u0435\\u043d\\u0434=\\u041b\\u0411\\u042e\\u0412\\u0415\\u04220305<br>\\u041d\\u043e\\u043c\\u0435\\u0440 \\u041c\\u0435\\u0441\\u044f\\u0446\\u0430=%{x}<br>\\u0412\\u044b\\u043f\\u043e\\u043b\\u043d\\u0435\\u043d\\u0438\\u0435_\\u043f\\u043b\\u0430\\u043d\\u0430=%{text}\", \"legendgroup\": \"\\u0411\\u0440\\u0435\\u043d\\u0434=\\u041b\\u0411\\u042e\\u0412\\u0415\\u04220305\", \"marker\": {\"color\": \"#636efa\"}, \"name\": \"\\u0411\\u0440\\u0435\\u043d\\u0434=\\u041b\\u0411\\u042e\\u0412\\u0415\\u04220305\", \"offsetgroup\": \"\\u0411\\u0440\\u0435\\u043d\\u0434=\\u041b\\u0411\\u042e\\u0412\\u0415\\u04220305\", \"orientation\": \"v\", \"showlegend\": true, \"text\": [-0.23, -0.07, -0.1, 0.21, -0.05], \"textangle\": 0, \"textposition\": \"outside\", \"type\": \"bar\", \"x\": [1, 2, 3, 4, 5], \"xaxis\": \"x\", \"y\": [-0.23, -0.07, -0.1, 0.21, -0.05], \"yaxis\": \"y\"}, {\"alignmentgroup\": \"True\", \"hoverlabel\": {\"namelength\": 0}, \"hovertemplate\": \"\\u0411\\u0440\\u0435\\u043d\\u0434=\\u041b\\u0411\\u042e\\u0412\\u0415\\u04221.5<br>\\u041d\\u043e\\u043c\\u0435\\u0440 \\u041c\\u0435\\u0441\\u044f\\u0446\\u0430=%{x}<br>\\u0412\\u044b\\u043f\\u043e\\u043b\\u043d\\u0435\\u043d\\u0438\\u0435_\\u043f\\u043b\\u0430\\u043d\\u0430=%{text}\", \"legendgroup\": \"\\u0411\\u0440\\u0435\\u043d\\u0434=\\u041b\\u0411\\u042e\\u0412\\u0415\\u04221.5\", \"marker\": {\"color\": \"#EF553B\"}, \"name\": \"\\u0411\\u0440\\u0435\\u043d\\u0434=\\u041b\\u0411\\u042e\\u0412\\u0415\\u04221.5\", \"offsetgroup\": \"\\u0411\\u0440\\u0435\\u043d\\u0434=\\u041b\\u0411\\u042e\\u0412\\u0415\\u04221.5\", \"orientation\": \"v\", \"showlegend\": true, \"text\": [-0.1, -0.08, -0.09, 0.02, 0.13], \"textangle\": 0, \"textposition\": \"outside\", \"type\": \"bar\", \"x\": [1, 2, 3, 4, 5], \"xaxis\": \"x\", \"y\": [-0.1, -0.08, -0.09, 0.02, 0.13], \"yaxis\": \"y\"}, {\"alignmentgroup\": \"True\", \"hoverlabel\": {\"namelength\": 0}, \"hovertemplate\": \"\\u0411\\u0440\\u0435\\u043d\\u0434=\\u041b\\u0411\\u042e\\u0412\\u0415\\u04225.0<br>\\u041d\\u043e\\u043c\\u0435\\u0440 \\u041c\\u0435\\u0441\\u044f\\u0446\\u0430=%{x}<br>\\u0412\\u044b\\u043f\\u043e\\u043b\\u043d\\u0435\\u043d\\u0438\\u0435_\\u043f\\u043b\\u0430\\u043d\\u0430=%{text}\", \"legendgroup\": \"\\u0411\\u0440\\u0435\\u043d\\u0434=\\u041b\\u0411\\u042e\\u0412\\u0415\\u04225.0\", \"marker\": {\"color\": \"#00cc96\"}, \"name\": \"\\u0411\\u0440\\u0435\\u043d\\u0434=\\u041b\\u0411\\u042e\\u0412\\u0415\\u04225.0\", \"offsetgroup\": \"\\u0411\\u0440\\u0435\\u043d\\u0434=\\u041b\\u0411\\u042e\\u0412\\u0415\\u04225.0\", \"orientation\": \"v\", \"showlegend\": true, \"text\": [-0.14, -0.09, -0.21, -0.14, -0.06], \"textangle\": 0, \"textposition\": \"outside\", \"type\": \"bar\", \"x\": [1, 2, 3, 4, 5], \"xaxis\": \"x\", \"y\": [-0.14, -0.09, -0.21, -0.14, -0.06], \"yaxis\": \"y\"}, {\"alignmentgroup\": \"True\", \"hoverlabel\": {\"namelength\": 0}, \"hovertemplate\": \"\\u0411\\u0440\\u0435\\u043d\\u0434=\\u041c\\u0410\\u041b\\u042b\\u0428\\u0410\\u041c<br>\\u041d\\u043e\\u043c\\u0435\\u0440 \\u041c\\u0435\\u0441\\u044f\\u0446\\u0430=%{x}<br>\\u0412\\u044b\\u043f\\u043e\\u043b\\u043d\\u0435\\u043d\\u0438\\u0435_\\u043f\\u043b\\u0430\\u043d\\u0430=%{text}\", \"legendgroup\": \"\\u0411\\u0440\\u0435\\u043d\\u0434=\\u041c\\u0410\\u041b\\u042b\\u0428\\u0410\\u041c\", \"marker\": {\"color\": \"#ab63fa\"}, \"name\": \"\\u0411\\u0440\\u0435\\u043d\\u0434=\\u041c\\u0410\\u041b\\u042b\\u0428\\u0410\\u041c\", \"offsetgroup\": \"\\u0411\\u0440\\u0435\\u043d\\u0434=\\u041c\\u0410\\u041b\\u042b\\u0428\\u0410\\u041c\", \"orientation\": \"v\", \"showlegend\": true, \"text\": [-0.14, -0.11, -0.07, -0.09, -0.13], \"textangle\": 0, \"textposition\": \"outside\", \"type\": \"bar\", \"x\": [1, 2, 3, 4, 5], \"xaxis\": \"x\", \"y\": [-0.14, -0.11, -0.07, -0.09, -0.13], \"yaxis\": \"y\"}],\n",
              "                        {\"barmode\": \"group\", \"legend\": {\"tracegroupgap\": 0}, \"template\": {\"data\": {\"bar\": [{\"error_x\": {\"color\": \"#2a3f5f\"}, \"error_y\": {\"color\": \"#2a3f5f\"}, \"marker\": {\"line\": {\"color\": \"#E5ECF6\", \"width\": 0.5}}, \"type\": \"bar\"}], \"barpolar\": [{\"marker\": {\"line\": {\"color\": \"#E5ECF6\", \"width\": 0.5}}, \"type\": \"barpolar\"}], \"carpet\": [{\"aaxis\": {\"endlinecolor\": \"#2a3f5f\", \"gridcolor\": \"white\", \"linecolor\": \"white\", \"minorgridcolor\": \"white\", \"startlinecolor\": \"#2a3f5f\"}, \"baxis\": {\"endlinecolor\": \"#2a3f5f\", \"gridcolor\": \"white\", \"linecolor\": \"white\", \"minorgridcolor\": \"white\", \"startlinecolor\": \"#2a3f5f\"}, \"type\": \"carpet\"}], \"choropleth\": [{\"colorbar\": {\"outlinewidth\": 0, \"ticks\": \"\"}, \"type\": \"choropleth\"}], \"contour\": [{\"colorbar\": {\"outlinewidth\": 0, \"ticks\": \"\"}, \"colorscale\": [[0.0, \"#0d0887\"], [0.1111111111111111, \"#46039f\"], [0.2222222222222222, \"#7201a8\"], [0.3333333333333333, \"#9c179e\"], [0.4444444444444444, \"#bd3786\"], [0.5555555555555556, \"#d8576b\"], [0.6666666666666666, \"#ed7953\"], [0.7777777777777778, \"#fb9f3a\"], [0.8888888888888888, \"#fdca26\"], [1.0, \"#f0f921\"]], \"type\": \"contour\"}], \"contourcarpet\": [{\"colorbar\": {\"outlinewidth\": 0, \"ticks\": \"\"}, \"type\": \"contourcarpet\"}], \"heatmap\": [{\"colorbar\": {\"outlinewidth\": 0, \"ticks\": \"\"}, \"colorscale\": [[0.0, \"#0d0887\"], [0.1111111111111111, \"#46039f\"], [0.2222222222222222, \"#7201a8\"], [0.3333333333333333, \"#9c179e\"], [0.4444444444444444, \"#bd3786\"], [0.5555555555555556, \"#d8576b\"], [0.6666666666666666, \"#ed7953\"], [0.7777777777777778, \"#fb9f3a\"], [0.8888888888888888, \"#fdca26\"], [1.0, \"#f0f921\"]], \"type\": \"heatmap\"}], \"heatmapgl\": [{\"colorbar\": {\"outlinewidth\": 0, \"ticks\": \"\"}, \"colorscale\": [[0.0, \"#0d0887\"], [0.1111111111111111, \"#46039f\"], [0.2222222222222222, \"#7201a8\"], [0.3333333333333333, \"#9c179e\"], [0.4444444444444444, \"#bd3786\"], [0.5555555555555556, \"#d8576b\"], [0.6666666666666666, \"#ed7953\"], [0.7777777777777778, \"#fb9f3a\"], [0.8888888888888888, \"#fdca26\"], [1.0, \"#f0f921\"]], \"type\": \"heatmapgl\"}], \"histogram\": [{\"marker\": {\"colorbar\": {\"outlinewidth\": 0, \"ticks\": \"\"}}, \"type\": \"histogram\"}], \"histogram2d\": [{\"colorbar\": {\"outlinewidth\": 0, \"ticks\": \"\"}, \"colorscale\": [[0.0, \"#0d0887\"], [0.1111111111111111, \"#46039f\"], [0.2222222222222222, \"#7201a8\"], [0.3333333333333333, \"#9c179e\"], [0.4444444444444444, \"#bd3786\"], [0.5555555555555556, \"#d8576b\"], [0.6666666666666666, \"#ed7953\"], [0.7777777777777778, \"#fb9f3a\"], [0.8888888888888888, \"#fdca26\"], [1.0, \"#f0f921\"]], \"type\": \"histogram2d\"}], \"histogram2dcontour\": [{\"colorbar\": {\"outlinewidth\": 0, \"ticks\": \"\"}, \"colorscale\": [[0.0, \"#0d0887\"], [0.1111111111111111, \"#46039f\"], [0.2222222222222222, \"#7201a8\"], [0.3333333333333333, \"#9c179e\"], [0.4444444444444444, \"#bd3786\"], [0.5555555555555556, \"#d8576b\"], [0.6666666666666666, \"#ed7953\"], [0.7777777777777778, \"#fb9f3a\"], [0.8888888888888888, \"#fdca26\"], [1.0, \"#f0f921\"]], \"type\": \"histogram2dcontour\"}], \"mesh3d\": [{\"colorbar\": {\"outlinewidth\": 0, \"ticks\": \"\"}, \"type\": \"mesh3d\"}], \"parcoords\": [{\"line\": {\"colorbar\": {\"outlinewidth\": 0, \"ticks\": \"\"}}, \"type\": \"parcoords\"}], \"pie\": [{\"automargin\": true, \"type\": \"pie\"}], \"scatter\": [{\"marker\": {\"colorbar\": {\"outlinewidth\": 0, \"ticks\": \"\"}}, \"type\": \"scatter\"}], \"scatter3d\": [{\"line\": {\"colorbar\": {\"outlinewidth\": 0, \"ticks\": \"\"}}, \"marker\": {\"colorbar\": {\"outlinewidth\": 0, \"ticks\": \"\"}}, \"type\": \"scatter3d\"}], \"scattercarpet\": [{\"marker\": {\"colorbar\": {\"outlinewidth\": 0, \"ticks\": \"\"}}, \"type\": \"scattercarpet\"}], \"scattergeo\": [{\"marker\": {\"colorbar\": {\"outlinewidth\": 0, \"ticks\": \"\"}}, \"type\": \"scattergeo\"}], \"scattergl\": [{\"marker\": {\"colorbar\": {\"outlinewidth\": 0, \"ticks\": \"\"}}, \"type\": \"scattergl\"}], \"scattermapbox\": [{\"marker\": {\"colorbar\": {\"outlinewidth\": 0, \"ticks\": \"\"}}, \"type\": \"scattermapbox\"}], \"scatterpolar\": [{\"marker\": {\"colorbar\": {\"outlinewidth\": 0, \"ticks\": \"\"}}, \"type\": \"scatterpolar\"}], \"scatterpolargl\": [{\"marker\": {\"colorbar\": {\"outlinewidth\": 0, \"ticks\": \"\"}}, \"type\": \"scatterpolargl\"}], \"scatterternary\": [{\"marker\": {\"colorbar\": {\"outlinewidth\": 0, \"ticks\": \"\"}}, \"type\": \"scatterternary\"}], \"surface\": [{\"colorbar\": {\"outlinewidth\": 0, \"ticks\": \"\"}, \"colorscale\": [[0.0, \"#0d0887\"], [0.1111111111111111, \"#46039f\"], [0.2222222222222222, \"#7201a8\"], [0.3333333333333333, \"#9c179e\"], [0.4444444444444444, \"#bd3786\"], [0.5555555555555556, \"#d8576b\"], [0.6666666666666666, \"#ed7953\"], [0.7777777777777778, \"#fb9f3a\"], [0.8888888888888888, \"#fdca26\"], [1.0, \"#f0f921\"]], \"type\": \"surface\"}], \"table\": [{\"cells\": {\"fill\": {\"color\": \"#EBF0F8\"}, \"line\": {\"color\": \"white\"}}, \"header\": {\"fill\": {\"color\": \"#C8D4E3\"}, \"line\": {\"color\": \"white\"}}, \"type\": \"table\"}]}, \"layout\": {\"annotationdefaults\": {\"arrowcolor\": \"#2a3f5f\", \"arrowhead\": 0, \"arrowwidth\": 1}, \"coloraxis\": {\"colorbar\": {\"outlinewidth\": 0, \"ticks\": \"\"}}, \"colorscale\": {\"diverging\": [[0, \"#8e0152\"], [0.1, \"#c51b7d\"], [0.2, \"#de77ae\"], [0.3, \"#f1b6da\"], [0.4, \"#fde0ef\"], [0.5, \"#f7f7f7\"], [0.6, \"#e6f5d0\"], [0.7, \"#b8e186\"], [0.8, \"#7fbc41\"], [0.9, \"#4d9221\"], [1, \"#276419\"]], \"sequential\": [[0.0, \"#0d0887\"], [0.1111111111111111, \"#46039f\"], [0.2222222222222222, \"#7201a8\"], [0.3333333333333333, \"#9c179e\"], [0.4444444444444444, \"#bd3786\"], [0.5555555555555556, \"#d8576b\"], [0.6666666666666666, \"#ed7953\"], [0.7777777777777778, \"#fb9f3a\"], [0.8888888888888888, \"#fdca26\"], [1.0, \"#f0f921\"]], \"sequentialminus\": [[0.0, \"#0d0887\"], [0.1111111111111111, \"#46039f\"], [0.2222222222222222, \"#7201a8\"], [0.3333333333333333, \"#9c179e\"], [0.4444444444444444, \"#bd3786\"], [0.5555555555555556, \"#d8576b\"], [0.6666666666666666, \"#ed7953\"], [0.7777777777777778, \"#fb9f3a\"], [0.8888888888888888, \"#fdca26\"], [1.0, \"#f0f921\"]]}, \"colorway\": [\"#636efa\", \"#EF553B\", \"#00cc96\", \"#ab63fa\", \"#FFA15A\", \"#19d3f3\", \"#FF6692\", \"#B6E880\", \"#FF97FF\", \"#FECB52\"], \"font\": {\"color\": \"#2a3f5f\"}, \"geo\": {\"bgcolor\": \"white\", \"lakecolor\": \"white\", \"landcolor\": \"#E5ECF6\", \"showlakes\": true, \"showland\": true, \"subunitcolor\": \"white\"}, \"hoverlabel\": {\"align\": \"left\"}, \"hovermode\": \"closest\", \"mapbox\": {\"style\": \"light\"}, \"paper_bgcolor\": \"white\", \"plot_bgcolor\": \"#E5ECF6\", \"polar\": {\"angularaxis\": {\"gridcolor\": \"white\", \"linecolor\": \"white\", \"ticks\": \"\"}, \"bgcolor\": \"#E5ECF6\", \"radialaxis\": {\"gridcolor\": \"white\", \"linecolor\": \"white\", \"ticks\": \"\"}}, \"scene\": {\"xaxis\": {\"backgroundcolor\": \"#E5ECF6\", \"gridcolor\": \"white\", \"gridwidth\": 2, \"linecolor\": \"white\", \"showbackground\": true, \"ticks\": \"\", \"zerolinecolor\": \"white\"}, \"yaxis\": {\"backgroundcolor\": \"#E5ECF6\", \"gridcolor\": \"white\", \"gridwidth\": 2, \"linecolor\": \"white\", \"showbackground\": true, \"ticks\": \"\", \"zerolinecolor\": \"white\"}, \"zaxis\": {\"backgroundcolor\": \"#E5ECF6\", \"gridcolor\": \"white\", \"gridwidth\": 2, \"linecolor\": \"white\", \"showbackground\": true, \"ticks\": \"\", \"zerolinecolor\": \"white\"}}, \"shapedefaults\": {\"line\": {\"color\": \"#2a3f5f\"}}, \"ternary\": {\"aaxis\": {\"gridcolor\": \"white\", \"linecolor\": \"white\", \"ticks\": \"\"}, \"baxis\": {\"gridcolor\": \"white\", \"linecolor\": \"white\", \"ticks\": \"\"}, \"bgcolor\": \"#E5ECF6\", \"caxis\": {\"gridcolor\": \"white\", \"linecolor\": \"white\", \"ticks\": \"\"}}, \"title\": {\"x\": 0.05}, \"xaxis\": {\"automargin\": true, \"gridcolor\": \"white\", \"linecolor\": \"white\", \"ticks\": \"\", \"title\": {\"standoff\": 15}, \"zerolinecolor\": \"white\", \"zerolinewidth\": 2}, \"yaxis\": {\"automargin\": true, \"gridcolor\": \"white\", \"linecolor\": \"white\", \"ticks\": \"\", \"title\": {\"standoff\": 15}, \"zerolinecolor\": \"white\", \"zerolinewidth\": 2}}}, \"title\": {\"font\": {\"family\": \"Times New Roman\"}, \"text\": \"\\u0412\\u044b\\u043f\\u043e\\u043b\\u043d\\u0435\\u043d\\u0438\\u044f \\u043f\\u043b\\u0430\\u043d\\u0430 \\u043f\\u043e \\u0431\\u0440\\u0435\\u043d\\u0434\\u0430\\u043c \\u0438 \\u043f\\u043e \\u043c\\u0435\\u0441\\u044f\\u0446\\u0430\\u043c\"}, \"xaxis\": {\"anchor\": \"y\", \"domain\": [0.0, 1.0], \"tickangle\": 0, \"title\": {\"text\": \"\\u041d\\u043e\\u043c\\u0435\\u0440 \\u041c\\u0435\\u0441\\u044f\\u0446\\u0430\"}}, \"yaxis\": {\"anchor\": \"x\", \"domain\": [0.0, 1.0], \"title\": {\"text\": \"\\u0412\\u044b\\u043f\\u043e\\u043b\\u043d\\u0435\\u043d\\u0438\\u0435_\\u043f\\u043b\\u0430\\u043d\\u0430\"}}},\n",
              "                        {\"responsive\": true}\n",
              "                    ).then(function(){\n",
              "                            \n",
              "var gd = document.getElementById('acc98383-56db-4718-a30a-39f6f2e91efe');\n",
              "var x = new MutationObserver(function (mutations, observer) {{\n",
              "        var display = window.getComputedStyle(gd).display;\n",
              "        if (!display || display === 'none') {{\n",
              "            console.log([gd, 'removed!']);\n",
              "            Plotly.purge(gd);\n",
              "            observer.disconnect();\n",
              "        }}\n",
              "}});\n",
              "\n",
              "// Listen for the removal of the full notebook cells\n",
              "var notebookContainer = gd.closest('#notebook-container');\n",
              "if (notebookContainer) {{\n",
              "    x.observe(notebookContainer, {childList: true});\n",
              "}}\n",
              "\n",
              "// Listen for the clearing of the current output cell\n",
              "var outputEl = gd.closest('.output');\n",
              "if (outputEl) {{\n",
              "    x.observe(outputEl, {childList: true});\n",
              "}}\n",
              "\n",
              "                        })\n",
              "                };\n",
              "                \n",
              "            </script>\n",
              "        </div>\n",
              "</body>\n",
              "</html>"
            ]
          },
          "metadata": {
            "tags": []
          }
        }
      ]
    },
    {
      "cell_type": "markdown",
      "metadata": {
        "id": "9R5b0q8uZ2e5"
      },
      "source": [
        "Краткий вывод\n",
        "1. Почти по всем брендам и месяцам идет невыполнение плана, в среднем -15%\n",
        "2. Достаточно сильное перевыполнение плана только в апреле у ЛБЮВЕТ0305 и в мае у ЛБЮВЕТ5.0"
      ]
    },
    {
      "cell_type": "code",
      "metadata": {
        "id": "vkIq7qV6LiAd"
      },
      "source": [
        "t2 = df[df['Год'] == 2013].groupby(['Год', 'month','Бренд']).agg({'Факт руб' : 'sum'}).reset_index()\n",
        "\n",
        "report = t.merge(t2, on=['month', 'Бренд'])\n",
        "report['Прирост'] = (report['Факт руб_x'] / report['Факт руб_y'] -1 )\n",
        "report.Прирост = report.Прирост.round(2)"
      ],
      "execution_count": null,
      "outputs": []
    },
    {
      "cell_type": "code",
      "metadata": {
        "colab": {
          "base_uri": "https://localhost:8080/",
          "height": 542
        },
        "id": "azmr-i4SON6U",
        "outputId": "9e2a3d99-0c52-4300-f5c0-4dd04d040631"
      },
      "source": [
        "fig = px.bar(report, x='month', y='Прирост', color='Бренд',\\\n",
        "            title='Прирост продаж к прошлому году по брендам по месяцам',\\\n",
        "             text ='Прирост',\n",
        "             labels={'month' : 'Номер Месяца'}\n",
        "            )\n",
        "fig.update_layout(barmode='group', xaxis_tickangle=0, title_font_family=\"Times New Roman\")\n",
        "fig.update_traces( textposition='outside', textangle=0)\n",
        "fig.show()"
      ],
      "execution_count": null,
      "outputs": [
        {
          "output_type": "display_data",
          "data": {
            "text/html": [
              "<html>\n",
              "<head><meta charset=\"utf-8\" /></head>\n",
              "<body>\n",
              "    <div>\n",
              "            <script src=\"https://cdnjs.cloudflare.com/ajax/libs/mathjax/2.7.5/MathJax.js?config=TeX-AMS-MML_SVG\"></script><script type=\"text/javascript\">if (window.MathJax) {MathJax.Hub.Config({SVG: {font: \"STIX-Web\"}});}</script>\n",
              "                <script type=\"text/javascript\">window.PlotlyConfig = {MathJaxConfig: 'local'};</script>\n",
              "        <script src=\"https://cdn.plot.ly/plotly-latest.min.js\"></script>    \n",
              "            <div id=\"d12488cf-ee04-4a51-bdb7-0ae06e949ec5\" class=\"plotly-graph-div\" style=\"height:525px; width:100%;\"></div>\n",
              "            <script type=\"text/javascript\">\n",
              "                \n",
              "                    window.PLOTLYENV=window.PLOTLYENV || {};\n",
              "                    \n",
              "                if (document.getElementById(\"d12488cf-ee04-4a51-bdb7-0ae06e949ec5\")) {\n",
              "                    Plotly.newPlot(\n",
              "                        'd12488cf-ee04-4a51-bdb7-0ae06e949ec5',\n",
              "                        [{\"alignmentgroup\": \"True\", \"hoverlabel\": {\"namelength\": 0}, \"hovertemplate\": \"\\u0411\\u0440\\u0435\\u043d\\u0434=\\u041b\\u0411\\u042e\\u0412\\u0415\\u04220305<br>\\u041d\\u043e\\u043c\\u0435\\u0440 \\u041c\\u0435\\u0441\\u044f\\u0446\\u0430=%{x}<br>\\u041f\\u0440\\u0438\\u0440\\u043e\\u0441\\u0442=%{text}\", \"legendgroup\": \"\\u0411\\u0440\\u0435\\u043d\\u0434=\\u041b\\u0411\\u042e\\u0412\\u0415\\u04220305\", \"marker\": {\"color\": \"#636efa\"}, \"name\": \"\\u0411\\u0440\\u0435\\u043d\\u0434=\\u041b\\u0411\\u042e\\u0412\\u0415\\u04220305\", \"offsetgroup\": \"\\u0411\\u0440\\u0435\\u043d\\u0434=\\u041b\\u0411\\u042e\\u0412\\u0415\\u04220305\", \"orientation\": \"v\", \"showlegend\": true, \"text\": [0.23, 0.05, 0.12, 0.19, 0.01], \"textangle\": 0, \"textposition\": \"outside\", \"type\": \"bar\", \"x\": [1, 2, 3, 4, 5], \"xaxis\": \"x\", \"y\": [0.23, 0.05, 0.12, 0.19, 0.01], \"yaxis\": \"y\"}, {\"alignmentgroup\": \"True\", \"hoverlabel\": {\"namelength\": 0}, \"hovertemplate\": \"\\u0411\\u0440\\u0435\\u043d\\u0434=\\u041b\\u0411\\u042e\\u0412\\u0415\\u04221.5<br>\\u041d\\u043e\\u043c\\u0435\\u0440 \\u041c\\u0435\\u0441\\u044f\\u0446\\u0430=%{x}<br>\\u041f\\u0440\\u0438\\u0440\\u043e\\u0441\\u0442=%{text}\", \"legendgroup\": \"\\u0411\\u0440\\u0435\\u043d\\u0434=\\u041b\\u0411\\u042e\\u0412\\u0415\\u04221.5\", \"marker\": {\"color\": \"#EF553B\"}, \"name\": \"\\u0411\\u0440\\u0435\\u043d\\u0434=\\u041b\\u0411\\u042e\\u0412\\u0415\\u04221.5\", \"offsetgroup\": \"\\u0411\\u0440\\u0435\\u043d\\u0434=\\u041b\\u0411\\u042e\\u0412\\u0415\\u04221.5\", \"orientation\": \"v\", \"showlegend\": true, \"text\": [-0.2, -0.01, -0.05, -0.02, 0.1], \"textangle\": 0, \"textposition\": \"outside\", \"type\": \"bar\", \"x\": [1, 2, 3, 4, 5], \"xaxis\": \"x\", \"y\": [-0.2, -0.01, -0.05, -0.02, 0.1], \"yaxis\": \"y\"}, {\"alignmentgroup\": \"True\", \"hoverlabel\": {\"namelength\": 0}, \"hovertemplate\": \"\\u0411\\u0440\\u0435\\u043d\\u0434=\\u041b\\u0411\\u042e\\u0412\\u0415\\u04225.0<br>\\u041d\\u043e\\u043c\\u0435\\u0440 \\u041c\\u0435\\u0441\\u044f\\u0446\\u0430=%{x}<br>\\u041f\\u0440\\u0438\\u0440\\u043e\\u0441\\u0442=%{text}\", \"legendgroup\": \"\\u0411\\u0440\\u0435\\u043d\\u0434=\\u041b\\u0411\\u042e\\u0412\\u0415\\u04225.0\", \"marker\": {\"color\": \"#00cc96\"}, \"name\": \"\\u0411\\u0440\\u0435\\u043d\\u0434=\\u041b\\u0411\\u042e\\u0412\\u0415\\u04225.0\", \"offsetgroup\": \"\\u0411\\u0440\\u0435\\u043d\\u0434=\\u041b\\u0411\\u042e\\u0412\\u0415\\u04225.0\", \"orientation\": \"v\", \"showlegend\": true, \"text\": [0.01, 0.27, -0.03, -0.07, 0.03], \"textangle\": 0, \"textposition\": \"outside\", \"type\": \"bar\", \"x\": [1, 2, 3, 4, 5], \"xaxis\": \"x\", \"y\": [0.01, 0.27, -0.03, -0.07, 0.03], \"yaxis\": \"y\"}, {\"alignmentgroup\": \"True\", \"hoverlabel\": {\"namelength\": 0}, \"hovertemplate\": \"\\u0411\\u0440\\u0435\\u043d\\u0434=\\u041c\\u0410\\u041b\\u042b\\u0428\\u0410\\u041c<br>\\u041d\\u043e\\u043c\\u0435\\u0440 \\u041c\\u0435\\u0441\\u044f\\u0446\\u0430=%{x}<br>\\u041f\\u0440\\u0438\\u0440\\u043e\\u0441\\u0442=%{text}\", \"legendgroup\": \"\\u0411\\u0440\\u0435\\u043d\\u0434=\\u041c\\u0410\\u041b\\u042b\\u0428\\u0410\\u041c\", \"marker\": {\"color\": \"#ab63fa\"}, \"name\": \"\\u0411\\u0440\\u0435\\u043d\\u0434=\\u041c\\u0410\\u041b\\u042b\\u0428\\u0410\\u041c\", \"offsetgroup\": \"\\u0411\\u0440\\u0435\\u043d\\u0434=\\u041c\\u0410\\u041b\\u042b\\u0428\\u0410\\u041c\", \"orientation\": \"v\", \"showlegend\": true, \"text\": [-0.06, 0.06, 0.13, 0.02, -0.06], \"textangle\": 0, \"textposition\": \"outside\", \"type\": \"bar\", \"x\": [1, 2, 3, 4, 5], \"xaxis\": \"x\", \"y\": [-0.06, 0.06, 0.13, 0.02, -0.06], \"yaxis\": \"y\"}],\n",
              "                        {\"barmode\": \"group\", \"legend\": {\"tracegroupgap\": 0}, \"template\": {\"data\": {\"bar\": [{\"error_x\": {\"color\": \"#2a3f5f\"}, \"error_y\": {\"color\": \"#2a3f5f\"}, \"marker\": {\"line\": {\"color\": \"#E5ECF6\", \"width\": 0.5}}, \"type\": \"bar\"}], \"barpolar\": [{\"marker\": {\"line\": {\"color\": \"#E5ECF6\", \"width\": 0.5}}, \"type\": \"barpolar\"}], \"carpet\": [{\"aaxis\": {\"endlinecolor\": \"#2a3f5f\", \"gridcolor\": \"white\", \"linecolor\": \"white\", \"minorgridcolor\": \"white\", \"startlinecolor\": \"#2a3f5f\"}, \"baxis\": {\"endlinecolor\": \"#2a3f5f\", \"gridcolor\": \"white\", \"linecolor\": \"white\", \"minorgridcolor\": \"white\", \"startlinecolor\": \"#2a3f5f\"}, \"type\": \"carpet\"}], \"choropleth\": [{\"colorbar\": {\"outlinewidth\": 0, \"ticks\": \"\"}, \"type\": \"choropleth\"}], \"contour\": [{\"colorbar\": {\"outlinewidth\": 0, \"ticks\": \"\"}, \"colorscale\": [[0.0, \"#0d0887\"], [0.1111111111111111, \"#46039f\"], [0.2222222222222222, \"#7201a8\"], [0.3333333333333333, \"#9c179e\"], [0.4444444444444444, \"#bd3786\"], [0.5555555555555556, \"#d8576b\"], [0.6666666666666666, \"#ed7953\"], [0.7777777777777778, \"#fb9f3a\"], [0.8888888888888888, \"#fdca26\"], [1.0, \"#f0f921\"]], \"type\": \"contour\"}], \"contourcarpet\": [{\"colorbar\": {\"outlinewidth\": 0, \"ticks\": \"\"}, \"type\": \"contourcarpet\"}], \"heatmap\": [{\"colorbar\": {\"outlinewidth\": 0, \"ticks\": \"\"}, \"colorscale\": [[0.0, \"#0d0887\"], [0.1111111111111111, \"#46039f\"], [0.2222222222222222, \"#7201a8\"], [0.3333333333333333, \"#9c179e\"], [0.4444444444444444, \"#bd3786\"], [0.5555555555555556, \"#d8576b\"], [0.6666666666666666, \"#ed7953\"], [0.7777777777777778, \"#fb9f3a\"], [0.8888888888888888, \"#fdca26\"], [1.0, \"#f0f921\"]], \"type\": \"heatmap\"}], \"heatmapgl\": [{\"colorbar\": {\"outlinewidth\": 0, \"ticks\": \"\"}, \"colorscale\": [[0.0, \"#0d0887\"], [0.1111111111111111, \"#46039f\"], [0.2222222222222222, \"#7201a8\"], [0.3333333333333333, \"#9c179e\"], [0.4444444444444444, \"#bd3786\"], [0.5555555555555556, \"#d8576b\"], [0.6666666666666666, \"#ed7953\"], [0.7777777777777778, \"#fb9f3a\"], [0.8888888888888888, \"#fdca26\"], [1.0, \"#f0f921\"]], \"type\": \"heatmapgl\"}], \"histogram\": [{\"marker\": {\"colorbar\": {\"outlinewidth\": 0, \"ticks\": \"\"}}, \"type\": \"histogram\"}], \"histogram2d\": [{\"colorbar\": {\"outlinewidth\": 0, \"ticks\": \"\"}, \"colorscale\": [[0.0, \"#0d0887\"], [0.1111111111111111, \"#46039f\"], [0.2222222222222222, \"#7201a8\"], [0.3333333333333333, \"#9c179e\"], [0.4444444444444444, \"#bd3786\"], [0.5555555555555556, \"#d8576b\"], [0.6666666666666666, \"#ed7953\"], [0.7777777777777778, \"#fb9f3a\"], [0.8888888888888888, \"#fdca26\"], [1.0, \"#f0f921\"]], \"type\": \"histogram2d\"}], \"histogram2dcontour\": [{\"colorbar\": {\"outlinewidth\": 0, \"ticks\": \"\"}, \"colorscale\": [[0.0, \"#0d0887\"], [0.1111111111111111, \"#46039f\"], [0.2222222222222222, \"#7201a8\"], [0.3333333333333333, \"#9c179e\"], [0.4444444444444444, \"#bd3786\"], [0.5555555555555556, \"#d8576b\"], [0.6666666666666666, \"#ed7953\"], [0.7777777777777778, \"#fb9f3a\"], [0.8888888888888888, \"#fdca26\"], [1.0, \"#f0f921\"]], \"type\": \"histogram2dcontour\"}], \"mesh3d\": [{\"colorbar\": {\"outlinewidth\": 0, \"ticks\": \"\"}, \"type\": \"mesh3d\"}], \"parcoords\": [{\"line\": {\"colorbar\": {\"outlinewidth\": 0, \"ticks\": \"\"}}, \"type\": \"parcoords\"}], \"pie\": [{\"automargin\": true, \"type\": \"pie\"}], \"scatter\": [{\"marker\": {\"colorbar\": {\"outlinewidth\": 0, \"ticks\": \"\"}}, \"type\": \"scatter\"}], \"scatter3d\": [{\"line\": {\"colorbar\": {\"outlinewidth\": 0, \"ticks\": \"\"}}, \"marker\": {\"colorbar\": {\"outlinewidth\": 0, \"ticks\": \"\"}}, \"type\": \"scatter3d\"}], \"scattercarpet\": [{\"marker\": {\"colorbar\": {\"outlinewidth\": 0, \"ticks\": \"\"}}, \"type\": \"scattercarpet\"}], \"scattergeo\": [{\"marker\": {\"colorbar\": {\"outlinewidth\": 0, \"ticks\": \"\"}}, \"type\": \"scattergeo\"}], \"scattergl\": [{\"marker\": {\"colorbar\": {\"outlinewidth\": 0, \"ticks\": \"\"}}, \"type\": \"scattergl\"}], \"scattermapbox\": [{\"marker\": {\"colorbar\": {\"outlinewidth\": 0, \"ticks\": \"\"}}, \"type\": \"scattermapbox\"}], \"scatterpolar\": [{\"marker\": {\"colorbar\": {\"outlinewidth\": 0, \"ticks\": \"\"}}, \"type\": \"scatterpolar\"}], \"scatterpolargl\": [{\"marker\": {\"colorbar\": {\"outlinewidth\": 0, \"ticks\": \"\"}}, \"type\": \"scatterpolargl\"}], \"scatterternary\": [{\"marker\": {\"colorbar\": {\"outlinewidth\": 0, \"ticks\": \"\"}}, \"type\": \"scatterternary\"}], \"surface\": [{\"colorbar\": {\"outlinewidth\": 0, \"ticks\": \"\"}, \"colorscale\": [[0.0, \"#0d0887\"], [0.1111111111111111, \"#46039f\"], [0.2222222222222222, \"#7201a8\"], [0.3333333333333333, \"#9c179e\"], [0.4444444444444444, \"#bd3786\"], [0.5555555555555556, \"#d8576b\"], [0.6666666666666666, \"#ed7953\"], [0.7777777777777778, \"#fb9f3a\"], [0.8888888888888888, \"#fdca26\"], [1.0, \"#f0f921\"]], \"type\": \"surface\"}], \"table\": [{\"cells\": {\"fill\": {\"color\": \"#EBF0F8\"}, \"line\": {\"color\": \"white\"}}, \"header\": {\"fill\": {\"color\": \"#C8D4E3\"}, \"line\": {\"color\": \"white\"}}, \"type\": \"table\"}]}, \"layout\": {\"annotationdefaults\": {\"arrowcolor\": \"#2a3f5f\", \"arrowhead\": 0, \"arrowwidth\": 1}, \"coloraxis\": {\"colorbar\": {\"outlinewidth\": 0, \"ticks\": \"\"}}, \"colorscale\": {\"diverging\": [[0, \"#8e0152\"], [0.1, \"#c51b7d\"], [0.2, \"#de77ae\"], [0.3, \"#f1b6da\"], [0.4, \"#fde0ef\"], [0.5, \"#f7f7f7\"], [0.6, \"#e6f5d0\"], [0.7, \"#b8e186\"], [0.8, \"#7fbc41\"], [0.9, \"#4d9221\"], [1, \"#276419\"]], \"sequential\": [[0.0, \"#0d0887\"], [0.1111111111111111, \"#46039f\"], [0.2222222222222222, \"#7201a8\"], [0.3333333333333333, \"#9c179e\"], [0.4444444444444444, \"#bd3786\"], [0.5555555555555556, \"#d8576b\"], [0.6666666666666666, \"#ed7953\"], [0.7777777777777778, \"#fb9f3a\"], [0.8888888888888888, \"#fdca26\"], [1.0, \"#f0f921\"]], \"sequentialminus\": [[0.0, \"#0d0887\"], [0.1111111111111111, \"#46039f\"], [0.2222222222222222, \"#7201a8\"], [0.3333333333333333, \"#9c179e\"], [0.4444444444444444, \"#bd3786\"], [0.5555555555555556, \"#d8576b\"], [0.6666666666666666, \"#ed7953\"], [0.7777777777777778, \"#fb9f3a\"], [0.8888888888888888, \"#fdca26\"], [1.0, \"#f0f921\"]]}, \"colorway\": [\"#636efa\", \"#EF553B\", \"#00cc96\", \"#ab63fa\", \"#FFA15A\", \"#19d3f3\", \"#FF6692\", \"#B6E880\", \"#FF97FF\", \"#FECB52\"], \"font\": {\"color\": \"#2a3f5f\"}, \"geo\": {\"bgcolor\": \"white\", \"lakecolor\": \"white\", \"landcolor\": \"#E5ECF6\", \"showlakes\": true, \"showland\": true, \"subunitcolor\": \"white\"}, \"hoverlabel\": {\"align\": \"left\"}, \"hovermode\": \"closest\", \"mapbox\": {\"style\": \"light\"}, \"paper_bgcolor\": \"white\", \"plot_bgcolor\": \"#E5ECF6\", \"polar\": {\"angularaxis\": {\"gridcolor\": \"white\", \"linecolor\": \"white\", \"ticks\": \"\"}, \"bgcolor\": \"#E5ECF6\", \"radialaxis\": {\"gridcolor\": \"white\", \"linecolor\": \"white\", \"ticks\": \"\"}}, \"scene\": {\"xaxis\": {\"backgroundcolor\": \"#E5ECF6\", \"gridcolor\": \"white\", \"gridwidth\": 2, \"linecolor\": \"white\", \"showbackground\": true, \"ticks\": \"\", \"zerolinecolor\": \"white\"}, \"yaxis\": {\"backgroundcolor\": \"#E5ECF6\", \"gridcolor\": \"white\", \"gridwidth\": 2, \"linecolor\": \"white\", \"showbackground\": true, \"ticks\": \"\", \"zerolinecolor\": \"white\"}, \"zaxis\": {\"backgroundcolor\": \"#E5ECF6\", \"gridcolor\": \"white\", \"gridwidth\": 2, \"linecolor\": \"white\", \"showbackground\": true, \"ticks\": \"\", \"zerolinecolor\": \"white\"}}, \"shapedefaults\": {\"line\": {\"color\": \"#2a3f5f\"}}, \"ternary\": {\"aaxis\": {\"gridcolor\": \"white\", \"linecolor\": \"white\", \"ticks\": \"\"}, \"baxis\": {\"gridcolor\": \"white\", \"linecolor\": \"white\", \"ticks\": \"\"}, \"bgcolor\": \"#E5ECF6\", \"caxis\": {\"gridcolor\": \"white\", \"linecolor\": \"white\", \"ticks\": \"\"}}, \"title\": {\"x\": 0.05}, \"xaxis\": {\"automargin\": true, \"gridcolor\": \"white\", \"linecolor\": \"white\", \"ticks\": \"\", \"title\": {\"standoff\": 15}, \"zerolinecolor\": \"white\", \"zerolinewidth\": 2}, \"yaxis\": {\"automargin\": true, \"gridcolor\": \"white\", \"linecolor\": \"white\", \"ticks\": \"\", \"title\": {\"standoff\": 15}, \"zerolinecolor\": \"white\", \"zerolinewidth\": 2}}}, \"title\": {\"font\": {\"family\": \"Times New Roman\"}, \"text\": \"\\u041f\\u0440\\u0438\\u0440\\u043e\\u0441\\u0442 \\u043f\\u0440\\u043e\\u0434\\u0430\\u0436 \\u043a \\u043f\\u0440\\u043e\\u0448\\u043b\\u043e\\u043c\\u0443 \\u0433\\u043e\\u0434\\u0443 \\u043f\\u043e \\u0431\\u0440\\u0435\\u043d\\u0434\\u0430\\u043c \\u043f\\u043e \\u043c\\u0435\\u0441\\u044f\\u0446\\u0430\\u043c\"}, \"xaxis\": {\"anchor\": \"y\", \"domain\": [0.0, 1.0], \"tickangle\": 0, \"title\": {\"text\": \"\\u041d\\u043e\\u043c\\u0435\\u0440 \\u041c\\u0435\\u0441\\u044f\\u0446\\u0430\"}}, \"yaxis\": {\"anchor\": \"x\", \"domain\": [0.0, 1.0], \"title\": {\"text\": \"\\u041f\\u0440\\u0438\\u0440\\u043e\\u0441\\u0442\"}}},\n",
              "                        {\"responsive\": true}\n",
              "                    ).then(function(){\n",
              "                            \n",
              "var gd = document.getElementById('d12488cf-ee04-4a51-bdb7-0ae06e949ec5');\n",
              "var x = new MutationObserver(function (mutations, observer) {{\n",
              "        var display = window.getComputedStyle(gd).display;\n",
              "        if (!display || display === 'none') {{\n",
              "            console.log([gd, 'removed!']);\n",
              "            Plotly.purge(gd);\n",
              "            observer.disconnect();\n",
              "        }}\n",
              "}});\n",
              "\n",
              "// Listen for the removal of the full notebook cells\n",
              "var notebookContainer = gd.closest('#notebook-container');\n",
              "if (notebookContainer) {{\n",
              "    x.observe(notebookContainer, {childList: true});\n",
              "}}\n",
              "\n",
              "// Listen for the clearing of the current output cell\n",
              "var outputEl = gd.closest('.output');\n",
              "if (outputEl) {{\n",
              "    x.observe(outputEl, {childList: true});\n",
              "}}\n",
              "\n",
              "                        })\n",
              "                };\n",
              "                \n",
              "            </script>\n",
              "        </div>\n",
              "</body>\n",
              "</html>"
            ]
          },
          "metadata": {
            "tags": []
          }
        }
      ]
    },
    {
      "cell_type": "markdown",
      "metadata": {
        "id": "LAqQVO9Tax0v"
      },
      "source": [
        "Краткий вывод\n",
        "1. В начале года отмечаем сильный прирост к прошлому году\n",
        "2. В мае продажи +- равны маю 2013"
      ]
    },
    {
      "cell_type": "markdown",
      "metadata": {
        "id": "-MCoGje3lQsg"
      },
      "source": [
        "Вопрос №2"
      ]
    },
    {
      "cell_type": "code",
      "metadata": {
        "id": "OuBB8i-pX5aW"
      },
      "source": [
        "s = df.loc[df['Год'] == 2014,['Бренд', 'month','Факт руб']]\n",
        "#s\n",
        "df.loc[(df['Год'] == 2014) & (df['Бренд'] == 'МАЛЫШАМ'),['Факт руб']].sum()\n",
        "df.query('Год==2014 and Бренд==\"ЛБЮВЕТ0305\"')['Факт руб'].sum()\n",
        "ss = s.groupby(['month', 'Бренд']).sum().groupby('Бренд').cumsum().reset_index()\n",
        "\n",
        "ss['Факт руб_'] = ss['Факт руб'].round(2)"
      ],
      "execution_count": null,
      "outputs": []
    },
    {
      "cell_type": "code",
      "metadata": {
        "colab": {
          "base_uri": "https://localhost:8080/",
          "height": 542
        },
        "id": "d6lDLsoyQ1F2",
        "outputId": "c5617c9d-94a3-4f89-bcc9-40893df4ff91"
      },
      "source": [
        "fig = px.bar(ss, x='month', y='Факт руб', color='Бренд',\\\n",
        "            title='Накопительные фактические продажи по брендов и по месяцам, млн руб',\\\n",
        "             text ='Факт руб_',\n",
        "             labels={'month' : 'Номер Месяца'}\n",
        "            )\n",
        "fig.update_layout(barmode='stack', xaxis_tickangle=0, title_font_family=\"Times New Roman\")\n",
        "fig.update_traces( textposition='outside', textangle=0)\n",
        "fig.show()"
      ],
      "execution_count": null,
      "outputs": [
        {
          "output_type": "display_data",
          "data": {
            "text/html": [
              "<html>\n",
              "<head><meta charset=\"utf-8\" /></head>\n",
              "<body>\n",
              "    <div>\n",
              "            <script src=\"https://cdnjs.cloudflare.com/ajax/libs/mathjax/2.7.5/MathJax.js?config=TeX-AMS-MML_SVG\"></script><script type=\"text/javascript\">if (window.MathJax) {MathJax.Hub.Config({SVG: {font: \"STIX-Web\"}});}</script>\n",
              "                <script type=\"text/javascript\">window.PlotlyConfig = {MathJaxConfig: 'local'};</script>\n",
              "        <script src=\"https://cdn.plot.ly/plotly-latest.min.js\"></script>    \n",
              "            <div id=\"b36dc520-0087-4848-9a4d-0ef79566f18a\" class=\"plotly-graph-div\" style=\"height:525px; width:100%;\"></div>\n",
              "            <script type=\"text/javascript\">\n",
              "                \n",
              "                    window.PLOTLYENV=window.PLOTLYENV || {};\n",
              "                    \n",
              "                if (document.getElementById(\"b36dc520-0087-4848-9a4d-0ef79566f18a\")) {\n",
              "                    Plotly.newPlot(\n",
              "                        'b36dc520-0087-4848-9a4d-0ef79566f18a',\n",
              "                        [{\"alignmentgroup\": \"True\", \"hoverlabel\": {\"namelength\": 0}, \"hovertemplate\": \"\\u0411\\u0440\\u0435\\u043d\\u0434=\\u041b\\u0411\\u042e\\u0412\\u0415\\u04220305<br>\\u041d\\u043e\\u043c\\u0435\\u0440 \\u041c\\u0435\\u0441\\u044f\\u0446\\u0430=%{x}<br>\\u0424\\u0430\\u043a\\u0442 \\u0440\\u0443\\u0431=%{y}<br>\\u0424\\u0430\\u043a\\u0442 \\u0440\\u0443\\u0431_=%{text}\", \"legendgroup\": \"\\u0411\\u0440\\u0435\\u043d\\u0434=\\u041b\\u0411\\u042e\\u0412\\u0415\\u04220305\", \"marker\": {\"color\": \"#636efa\"}, \"name\": \"\\u0411\\u0440\\u0435\\u043d\\u0434=\\u041b\\u0411\\u042e\\u0412\\u0415\\u04220305\", \"offsetgroup\": \"\\u0411\\u0440\\u0435\\u043d\\u0434=\\u041b\\u0411\\u042e\\u0412\\u0415\\u04220305\", \"orientation\": \"v\", \"showlegend\": true, \"text\": [6.73, 16.1, 26.63, 45.79, 70.1], \"textangle\": 0, \"textposition\": \"outside\", \"type\": \"bar\", \"x\": [1, 2, 3, 4, 5], \"xaxis\": \"x\", \"y\": [6.730448899999999, 16.10333233, 26.63373072, 45.793121, 70.09844648999999], \"yaxis\": \"y\"}, {\"alignmentgroup\": \"True\", \"hoverlabel\": {\"namelength\": 0}, \"hovertemplate\": \"\\u0411\\u0440\\u0435\\u043d\\u0434=\\u041b\\u0411\\u042e\\u0412\\u0415\\u04221.5<br>\\u041d\\u043e\\u043c\\u0435\\u0440 \\u041c\\u0435\\u0441\\u044f\\u0446\\u0430=%{x}<br>\\u0424\\u0430\\u043a\\u0442 \\u0440\\u0443\\u0431=%{y}<br>\\u0424\\u0430\\u043a\\u0442 \\u0440\\u0443\\u0431_=%{text}\", \"legendgroup\": \"\\u0411\\u0440\\u0435\\u043d\\u0434=\\u041b\\u0411\\u042e\\u0412\\u0415\\u04221.5\", \"marker\": {\"color\": \"#EF553B\"}, \"name\": \"\\u0411\\u0440\\u0435\\u043d\\u0434=\\u041b\\u0411\\u042e\\u0412\\u0415\\u04221.5\", \"offsetgroup\": \"\\u0411\\u0440\\u0435\\u043d\\u0434=\\u041b\\u0411\\u042e\\u0412\\u0415\\u04221.5\", \"orientation\": \"v\", \"showlegend\": true, \"text\": [34.94, 75.46, 123.21, 190.46, 287.48], \"textangle\": 0, \"textposition\": \"outside\", \"type\": \"bar\", \"x\": [1, 2, 3, 4, 5], \"xaxis\": \"x\", \"y\": [34.94227689, 75.45620104, 123.20987483, 190.46310412000003, 287.47881501000006], \"yaxis\": \"y\"}, {\"alignmentgroup\": \"True\", \"hoverlabel\": {\"namelength\": 0}, \"hovertemplate\": \"\\u0411\\u0440\\u0435\\u043d\\u0434=\\u041b\\u0411\\u042e\\u0412\\u0415\\u04225.0<br>\\u041d\\u043e\\u043c\\u0435\\u0440 \\u041c\\u0435\\u0441\\u044f\\u0446\\u0430=%{x}<br>\\u0424\\u0430\\u043a\\u0442 \\u0440\\u0443\\u0431=%{y}<br>\\u0424\\u0430\\u043a\\u0442 \\u0440\\u0443\\u0431_=%{text}\", \"legendgroup\": \"\\u0411\\u0440\\u0435\\u043d\\u0434=\\u041b\\u0411\\u042e\\u0412\\u0415\\u04225.0\", \"marker\": {\"color\": \"#00cc96\"}, \"name\": \"\\u0411\\u0440\\u0435\\u043d\\u0434=\\u041b\\u0411\\u042e\\u0412\\u0415\\u04225.0\", \"offsetgroup\": \"\\u0411\\u0440\\u0435\\u043d\\u0434=\\u041b\\u0411\\u042e\\u0412\\u0415\\u04225.0\", \"orientation\": \"v\", \"showlegend\": true, \"text\": [5.76, 12.44, 18.44, 26.43, 35.51], \"textangle\": 0, \"textposition\": \"outside\", \"type\": \"bar\", \"x\": [1, 2, 3, 4, 5], \"xaxis\": \"x\", \"y\": [5.755361520000001, 12.437690349999999, 18.437103459999996, 26.434557549999997, 35.51301665], \"yaxis\": \"y\"}, {\"alignmentgroup\": \"True\", \"hoverlabel\": {\"namelength\": 0}, \"hovertemplate\": \"\\u0411\\u0440\\u0435\\u043d\\u0434=\\u041c\\u0410\\u041b\\u042b\\u0428\\u0410\\u041c<br>\\u041d\\u043e\\u043c\\u0435\\u0440 \\u041c\\u0435\\u0441\\u044f\\u0446\\u0430=%{x}<br>\\u0424\\u0430\\u043a\\u0442 \\u0440\\u0443\\u0431=%{y}<br>\\u0424\\u0430\\u043a\\u0442 \\u0440\\u0443\\u0431_=%{text}\", \"legendgroup\": \"\\u0411\\u0440\\u0435\\u043d\\u0434=\\u041c\\u0410\\u041b\\u042b\\u0428\\u0410\\u041c\", \"marker\": {\"color\": \"#ab63fa\"}, \"name\": \"\\u0411\\u0440\\u0435\\u043d\\u0434=\\u041c\\u0410\\u041b\\u042b\\u0428\\u0410\\u041c\", \"offsetgroup\": \"\\u0411\\u0440\\u0435\\u043d\\u0434=\\u041c\\u0410\\u041b\\u042b\\u0428\\u0410\\u041c\", \"orientation\": \"v\", \"showlegend\": true, \"text\": [121.47, 269.0, 450.35, 642.42, 835.11], \"textangle\": 0, \"textposition\": \"outside\", \"type\": \"bar\", \"x\": [1, 2, 3, 4, 5], \"xaxis\": \"x\", \"y\": [121.46823423375305, 268.9985113150571, 450.3509871873831, 642.422651065292, 835.1057874968321], \"yaxis\": \"y\"}],\n",
              "                        {\"barmode\": \"stack\", \"legend\": {\"tracegroupgap\": 0}, \"template\": {\"data\": {\"bar\": [{\"error_x\": {\"color\": \"#2a3f5f\"}, \"error_y\": {\"color\": \"#2a3f5f\"}, \"marker\": {\"line\": {\"color\": \"#E5ECF6\", \"width\": 0.5}}, \"type\": \"bar\"}], \"barpolar\": [{\"marker\": {\"line\": {\"color\": \"#E5ECF6\", \"width\": 0.5}}, \"type\": \"barpolar\"}], \"carpet\": [{\"aaxis\": {\"endlinecolor\": \"#2a3f5f\", \"gridcolor\": \"white\", \"linecolor\": \"white\", \"minorgridcolor\": \"white\", \"startlinecolor\": \"#2a3f5f\"}, \"baxis\": {\"endlinecolor\": \"#2a3f5f\", \"gridcolor\": \"white\", \"linecolor\": \"white\", \"minorgridcolor\": \"white\", \"startlinecolor\": \"#2a3f5f\"}, \"type\": \"carpet\"}], \"choropleth\": [{\"colorbar\": {\"outlinewidth\": 0, \"ticks\": \"\"}, \"type\": \"choropleth\"}], \"contour\": [{\"colorbar\": {\"outlinewidth\": 0, \"ticks\": \"\"}, \"colorscale\": [[0.0, \"#0d0887\"], [0.1111111111111111, \"#46039f\"], [0.2222222222222222, \"#7201a8\"], [0.3333333333333333, \"#9c179e\"], [0.4444444444444444, \"#bd3786\"], [0.5555555555555556, \"#d8576b\"], [0.6666666666666666, \"#ed7953\"], [0.7777777777777778, \"#fb9f3a\"], [0.8888888888888888, \"#fdca26\"], [1.0, \"#f0f921\"]], \"type\": \"contour\"}], \"contourcarpet\": [{\"colorbar\": {\"outlinewidth\": 0, \"ticks\": \"\"}, \"type\": \"contourcarpet\"}], \"heatmap\": [{\"colorbar\": {\"outlinewidth\": 0, \"ticks\": \"\"}, \"colorscale\": [[0.0, \"#0d0887\"], [0.1111111111111111, \"#46039f\"], [0.2222222222222222, \"#7201a8\"], [0.3333333333333333, \"#9c179e\"], [0.4444444444444444, \"#bd3786\"], [0.5555555555555556, \"#d8576b\"], [0.6666666666666666, \"#ed7953\"], [0.7777777777777778, \"#fb9f3a\"], [0.8888888888888888, \"#fdca26\"], [1.0, \"#f0f921\"]], \"type\": \"heatmap\"}], \"heatmapgl\": [{\"colorbar\": {\"outlinewidth\": 0, \"ticks\": \"\"}, \"colorscale\": [[0.0, \"#0d0887\"], [0.1111111111111111, \"#46039f\"], [0.2222222222222222, \"#7201a8\"], [0.3333333333333333, \"#9c179e\"], [0.4444444444444444, \"#bd3786\"], [0.5555555555555556, \"#d8576b\"], [0.6666666666666666, \"#ed7953\"], [0.7777777777777778, \"#fb9f3a\"], [0.8888888888888888, \"#fdca26\"], [1.0, \"#f0f921\"]], \"type\": \"heatmapgl\"}], \"histogram\": [{\"marker\": {\"colorbar\": {\"outlinewidth\": 0, \"ticks\": \"\"}}, \"type\": \"histogram\"}], \"histogram2d\": [{\"colorbar\": {\"outlinewidth\": 0, \"ticks\": \"\"}, \"colorscale\": [[0.0, \"#0d0887\"], [0.1111111111111111, \"#46039f\"], [0.2222222222222222, \"#7201a8\"], [0.3333333333333333, \"#9c179e\"], [0.4444444444444444, \"#bd3786\"], [0.5555555555555556, \"#d8576b\"], [0.6666666666666666, \"#ed7953\"], [0.7777777777777778, \"#fb9f3a\"], [0.8888888888888888, \"#fdca26\"], [1.0, \"#f0f921\"]], \"type\": \"histogram2d\"}], \"histogram2dcontour\": [{\"colorbar\": {\"outlinewidth\": 0, \"ticks\": \"\"}, \"colorscale\": [[0.0, \"#0d0887\"], [0.1111111111111111, \"#46039f\"], [0.2222222222222222, \"#7201a8\"], [0.3333333333333333, \"#9c179e\"], [0.4444444444444444, \"#bd3786\"], [0.5555555555555556, \"#d8576b\"], [0.6666666666666666, \"#ed7953\"], [0.7777777777777778, \"#fb9f3a\"], [0.8888888888888888, \"#fdca26\"], [1.0, \"#f0f921\"]], \"type\": \"histogram2dcontour\"}], \"mesh3d\": [{\"colorbar\": {\"outlinewidth\": 0, \"ticks\": \"\"}, \"type\": \"mesh3d\"}], \"parcoords\": [{\"line\": {\"colorbar\": {\"outlinewidth\": 0, \"ticks\": \"\"}}, \"type\": \"parcoords\"}], \"pie\": [{\"automargin\": true, \"type\": \"pie\"}], \"scatter\": [{\"marker\": {\"colorbar\": {\"outlinewidth\": 0, \"ticks\": \"\"}}, \"type\": \"scatter\"}], \"scatter3d\": [{\"line\": {\"colorbar\": {\"outlinewidth\": 0, \"ticks\": \"\"}}, \"marker\": {\"colorbar\": {\"outlinewidth\": 0, \"ticks\": \"\"}}, \"type\": \"scatter3d\"}], \"scattercarpet\": [{\"marker\": {\"colorbar\": {\"outlinewidth\": 0, \"ticks\": \"\"}}, \"type\": \"scattercarpet\"}], \"scattergeo\": [{\"marker\": {\"colorbar\": {\"outlinewidth\": 0, \"ticks\": \"\"}}, \"type\": \"scattergeo\"}], \"scattergl\": [{\"marker\": {\"colorbar\": {\"outlinewidth\": 0, \"ticks\": \"\"}}, \"type\": \"scattergl\"}], \"scattermapbox\": [{\"marker\": {\"colorbar\": {\"outlinewidth\": 0, \"ticks\": \"\"}}, \"type\": \"scattermapbox\"}], \"scatterpolar\": [{\"marker\": {\"colorbar\": {\"outlinewidth\": 0, \"ticks\": \"\"}}, \"type\": \"scatterpolar\"}], \"scatterpolargl\": [{\"marker\": {\"colorbar\": {\"outlinewidth\": 0, \"ticks\": \"\"}}, \"type\": \"scatterpolargl\"}], \"scatterternary\": [{\"marker\": {\"colorbar\": {\"outlinewidth\": 0, \"ticks\": \"\"}}, \"type\": \"scatterternary\"}], \"surface\": [{\"colorbar\": {\"outlinewidth\": 0, \"ticks\": \"\"}, \"colorscale\": [[0.0, \"#0d0887\"], [0.1111111111111111, \"#46039f\"], [0.2222222222222222, \"#7201a8\"], [0.3333333333333333, \"#9c179e\"], [0.4444444444444444, \"#bd3786\"], [0.5555555555555556, \"#d8576b\"], [0.6666666666666666, \"#ed7953\"], [0.7777777777777778, \"#fb9f3a\"], [0.8888888888888888, \"#fdca26\"], [1.0, \"#f0f921\"]], \"type\": \"surface\"}], \"table\": [{\"cells\": {\"fill\": {\"color\": \"#EBF0F8\"}, \"line\": {\"color\": \"white\"}}, \"header\": {\"fill\": {\"color\": \"#C8D4E3\"}, \"line\": {\"color\": \"white\"}}, \"type\": \"table\"}]}, \"layout\": {\"annotationdefaults\": {\"arrowcolor\": \"#2a3f5f\", \"arrowhead\": 0, \"arrowwidth\": 1}, \"coloraxis\": {\"colorbar\": {\"outlinewidth\": 0, \"ticks\": \"\"}}, \"colorscale\": {\"diverging\": [[0, \"#8e0152\"], [0.1, \"#c51b7d\"], [0.2, \"#de77ae\"], [0.3, \"#f1b6da\"], [0.4, \"#fde0ef\"], [0.5, \"#f7f7f7\"], [0.6, \"#e6f5d0\"], [0.7, \"#b8e186\"], [0.8, \"#7fbc41\"], [0.9, \"#4d9221\"], [1, \"#276419\"]], \"sequential\": [[0.0, \"#0d0887\"], [0.1111111111111111, \"#46039f\"], [0.2222222222222222, \"#7201a8\"], [0.3333333333333333, \"#9c179e\"], [0.4444444444444444, \"#bd3786\"], [0.5555555555555556, \"#d8576b\"], [0.6666666666666666, \"#ed7953\"], [0.7777777777777778, \"#fb9f3a\"], [0.8888888888888888, \"#fdca26\"], [1.0, \"#f0f921\"]], \"sequentialminus\": [[0.0, \"#0d0887\"], [0.1111111111111111, \"#46039f\"], [0.2222222222222222, \"#7201a8\"], [0.3333333333333333, \"#9c179e\"], [0.4444444444444444, \"#bd3786\"], [0.5555555555555556, \"#d8576b\"], [0.6666666666666666, \"#ed7953\"], [0.7777777777777778, \"#fb9f3a\"], [0.8888888888888888, \"#fdca26\"], [1.0, \"#f0f921\"]]}, \"colorway\": [\"#636efa\", \"#EF553B\", \"#00cc96\", \"#ab63fa\", \"#FFA15A\", \"#19d3f3\", \"#FF6692\", \"#B6E880\", \"#FF97FF\", \"#FECB52\"], \"font\": {\"color\": \"#2a3f5f\"}, \"geo\": {\"bgcolor\": \"white\", \"lakecolor\": \"white\", \"landcolor\": \"#E5ECF6\", \"showlakes\": true, \"showland\": true, \"subunitcolor\": \"white\"}, \"hoverlabel\": {\"align\": \"left\"}, \"hovermode\": \"closest\", \"mapbox\": {\"style\": \"light\"}, \"paper_bgcolor\": \"white\", \"plot_bgcolor\": \"#E5ECF6\", \"polar\": {\"angularaxis\": {\"gridcolor\": \"white\", \"linecolor\": \"white\", \"ticks\": \"\"}, \"bgcolor\": \"#E5ECF6\", \"radialaxis\": {\"gridcolor\": \"white\", \"linecolor\": \"white\", \"ticks\": \"\"}}, \"scene\": {\"xaxis\": {\"backgroundcolor\": \"#E5ECF6\", \"gridcolor\": \"white\", \"gridwidth\": 2, \"linecolor\": \"white\", \"showbackground\": true, \"ticks\": \"\", \"zerolinecolor\": \"white\"}, \"yaxis\": {\"backgroundcolor\": \"#E5ECF6\", \"gridcolor\": \"white\", \"gridwidth\": 2, \"linecolor\": \"white\", \"showbackground\": true, \"ticks\": \"\", \"zerolinecolor\": \"white\"}, \"zaxis\": {\"backgroundcolor\": \"#E5ECF6\", \"gridcolor\": \"white\", \"gridwidth\": 2, \"linecolor\": \"white\", \"showbackground\": true, \"ticks\": \"\", \"zerolinecolor\": \"white\"}}, \"shapedefaults\": {\"line\": {\"color\": \"#2a3f5f\"}}, \"ternary\": {\"aaxis\": {\"gridcolor\": \"white\", \"linecolor\": \"white\", \"ticks\": \"\"}, \"baxis\": {\"gridcolor\": \"white\", \"linecolor\": \"white\", \"ticks\": \"\"}, \"bgcolor\": \"#E5ECF6\", \"caxis\": {\"gridcolor\": \"white\", \"linecolor\": \"white\", \"ticks\": \"\"}}, \"title\": {\"x\": 0.05}, \"xaxis\": {\"automargin\": true, \"gridcolor\": \"white\", \"linecolor\": \"white\", \"ticks\": \"\", \"title\": {\"standoff\": 15}, \"zerolinecolor\": \"white\", \"zerolinewidth\": 2}, \"yaxis\": {\"automargin\": true, \"gridcolor\": \"white\", \"linecolor\": \"white\", \"ticks\": \"\", \"title\": {\"standoff\": 15}, \"zerolinecolor\": \"white\", \"zerolinewidth\": 2}}}, \"title\": {\"font\": {\"family\": \"Times New Roman\"}, \"text\": \"\\u041d\\u0430\\u043a\\u043e\\u043f\\u0438\\u0442\\u0435\\u043b\\u044c\\u043d\\u044b\\u0435 \\u0444\\u0430\\u043a\\u0442\\u0438\\u0447\\u0435\\u0441\\u043a\\u0438\\u0435 \\u043f\\u0440\\u043e\\u0434\\u0430\\u0436\\u0438 \\u043f\\u043e \\u0431\\u0440\\u0435\\u043d\\u0434\\u043e\\u0432 \\u0438 \\u043f\\u043e \\u043c\\u0435\\u0441\\u044f\\u0446\\u0430\\u043c, \\u043c\\u043b\\u043d \\u0440\\u0443\\u0431\"}, \"xaxis\": {\"anchor\": \"y\", \"domain\": [0.0, 1.0], \"tickangle\": 0, \"title\": {\"text\": \"\\u041d\\u043e\\u043c\\u0435\\u0440 \\u041c\\u0435\\u0441\\u044f\\u0446\\u0430\"}}, \"yaxis\": {\"anchor\": \"x\", \"domain\": [0.0, 1.0], \"title\": {\"text\": \"\\u0424\\u0430\\u043a\\u0442 \\u0440\\u0443\\u0431\"}}},\n",
              "                        {\"responsive\": true}\n",
              "                    ).then(function(){\n",
              "                            \n",
              "var gd = document.getElementById('b36dc520-0087-4848-9a4d-0ef79566f18a');\n",
              "var x = new MutationObserver(function (mutations, observer) {{\n",
              "        var display = window.getComputedStyle(gd).display;\n",
              "        if (!display || display === 'none') {{\n",
              "            console.log([gd, 'removed!']);\n",
              "            Plotly.purge(gd);\n",
              "            observer.disconnect();\n",
              "        }}\n",
              "}});\n",
              "\n",
              "// Listen for the removal of the full notebook cells\n",
              "var notebookContainer = gd.closest('#notebook-container');\n",
              "if (notebookContainer) {{\n",
              "    x.observe(notebookContainer, {childList: true});\n",
              "}}\n",
              "\n",
              "// Listen for the clearing of the current output cell\n",
              "var outputEl = gd.closest('.output');\n",
              "if (outputEl) {{\n",
              "    x.observe(outputEl, {childList: true});\n",
              "}}\n",
              "\n",
              "                        })\n",
              "                };\n",
              "                \n",
              "            </script>\n",
              "        </div>\n",
              "</body>\n",
              "</html>"
            ]
          },
          "metadata": {
            "tags": []
          }
        }
      ]
    },
    {
      "cell_type": "markdown",
      "metadata": {
        "id": "qGcO9vfcblRl"
      },
      "source": [
        "Краткий вывод\n",
        "1. Доля брендов в динамике достаточно стабильна. Явный лидер - \"Малыши\""
      ]
    },
    {
      "cell_type": "code",
      "metadata": {
        "id": "mzWdajQGQ1DN"
      },
      "source": [
        "d = df.loc[df['Год'] == 2014,['Бренд', 'month','Факт руб', 'План руб']]\n",
        "dd = d.groupby(['month', 'Бренд']).sum().groupby('Бренд').cumsum().reset_index()\n",
        "#dd\n",
        "dd['Выполнение плана'] = dd['Факт руб'] / dd['План руб'] - 1\n",
        "dd['Выполнение плана'] = dd['Выполнение плана'].round(2)"
      ],
      "execution_count": null,
      "outputs": []
    },
    {
      "cell_type": "code",
      "metadata": {
        "colab": {
          "base_uri": "https://localhost:8080/",
          "height": 542
        },
        "id": "rLzaprQjQ04_",
        "outputId": "497864e1-19f2-4020-ef57-789e3a0956e5"
      },
      "source": [
        "fig = px.bar(dd, x='month', y='Выполнение плана', color='Бренд',\\\n",
        "            title='Накопительное выполнение плана по брендам и по месяцам',\\\n",
        "             text ='Выполнение плана',\n",
        "             labels={'month' : 'Номер Месяца'}\n",
        "            )\n",
        "fig.update_layout(barmode='group', xaxis_tickangle=0, title_font_family=\"Times New Roman\")\n",
        "fig.update_traces( textposition='outside', textangle=0)\n",
        "fig.show()"
      ],
      "execution_count": null,
      "outputs": [
        {
          "output_type": "display_data",
          "data": {
            "text/html": [
              "<html>\n",
              "<head><meta charset=\"utf-8\" /></head>\n",
              "<body>\n",
              "    <div>\n",
              "            <script src=\"https://cdnjs.cloudflare.com/ajax/libs/mathjax/2.7.5/MathJax.js?config=TeX-AMS-MML_SVG\"></script><script type=\"text/javascript\">if (window.MathJax) {MathJax.Hub.Config({SVG: {font: \"STIX-Web\"}});}</script>\n",
              "                <script type=\"text/javascript\">window.PlotlyConfig = {MathJaxConfig: 'local'};</script>\n",
              "        <script src=\"https://cdn.plot.ly/plotly-latest.min.js\"></script>    \n",
              "            <div id=\"51922b38-62c4-440e-bee3-821d1a20051f\" class=\"plotly-graph-div\" style=\"height:525px; width:100%;\"></div>\n",
              "            <script type=\"text/javascript\">\n",
              "                \n",
              "                    window.PLOTLYENV=window.PLOTLYENV || {};\n",
              "                    \n",
              "                if (document.getElementById(\"51922b38-62c4-440e-bee3-821d1a20051f\")) {\n",
              "                    Plotly.newPlot(\n",
              "                        '51922b38-62c4-440e-bee3-821d1a20051f',\n",
              "                        [{\"alignmentgroup\": \"True\", \"hoverlabel\": {\"namelength\": 0}, \"hovertemplate\": \"\\u0411\\u0440\\u0435\\u043d\\u0434=\\u041b\\u0411\\u042e\\u0412\\u0415\\u04220305<br>\\u041d\\u043e\\u043c\\u0435\\u0440 \\u041c\\u0435\\u0441\\u044f\\u0446\\u0430=%{x}<br>\\u0412\\u044b\\u043f\\u043e\\u043b\\u043d\\u0435\\u043d\\u0438\\u0435 \\u043f\\u043b\\u0430\\u043d\\u0430=%{text}\", \"legendgroup\": \"\\u0411\\u0440\\u0435\\u043d\\u0434=\\u041b\\u0411\\u042e\\u0412\\u0415\\u04220305\", \"marker\": {\"color\": \"#636efa\"}, \"name\": \"\\u0411\\u0440\\u0435\\u043d\\u0434=\\u041b\\u0411\\u042e\\u0412\\u0415\\u04220305\", \"offsetgroup\": \"\\u0411\\u0440\\u0435\\u043d\\u0434=\\u041b\\u0411\\u042e\\u0412\\u0415\\u04220305\", \"orientation\": \"v\", \"showlegend\": true, \"text\": [-0.23, -0.14, -0.13, -0.01, -0.02], \"textangle\": 0, \"textposition\": \"outside\", \"type\": \"bar\", \"x\": [1, 2, 3, 4, 5], \"xaxis\": \"x\", \"y\": [-0.23, -0.14, -0.13, -0.01, -0.02], \"yaxis\": \"y\"}, {\"alignmentgroup\": \"True\", \"hoverlabel\": {\"namelength\": 0}, \"hovertemplate\": \"\\u0411\\u0440\\u0435\\u043d\\u0434=\\u041b\\u0411\\u042e\\u0412\\u0415\\u04221.5<br>\\u041d\\u043e\\u043c\\u0435\\u0440 \\u041c\\u0435\\u0441\\u044f\\u0446\\u0430=%{x}<br>\\u0412\\u044b\\u043f\\u043e\\u043b\\u043d\\u0435\\u043d\\u0438\\u0435 \\u043f\\u043b\\u0430\\u043d\\u0430=%{text}\", \"legendgroup\": \"\\u0411\\u0440\\u0435\\u043d\\u0434=\\u041b\\u0411\\u042e\\u0412\\u0415\\u04221.5\", \"marker\": {\"color\": \"#EF553B\"}, \"name\": \"\\u0411\\u0440\\u0435\\u043d\\u0434=\\u041b\\u0411\\u042e\\u0412\\u0415\\u04221.5\", \"offsetgroup\": \"\\u0411\\u0440\\u0435\\u043d\\u0434=\\u041b\\u0411\\u042e\\u0412\\u0415\\u04221.5\", \"orientation\": \"v\", \"showlegend\": true, \"text\": [-0.1, -0.09, -0.09, -0.05, 0.0], \"textangle\": 0, \"textposition\": \"outside\", \"type\": \"bar\", \"x\": [1, 2, 3, 4, 5], \"xaxis\": \"x\", \"y\": [-0.1, -0.09, -0.09, -0.05, 0.0], \"yaxis\": \"y\"}, {\"alignmentgroup\": \"True\", \"hoverlabel\": {\"namelength\": 0}, \"hovertemplate\": \"\\u0411\\u0440\\u0435\\u043d\\u0434=\\u041b\\u0411\\u042e\\u0412\\u0415\\u04225.0<br>\\u041d\\u043e\\u043c\\u0435\\u0440 \\u041c\\u0435\\u0441\\u044f\\u0446\\u0430=%{x}<br>\\u0412\\u044b\\u043f\\u043e\\u043b\\u043d\\u0435\\u043d\\u0438\\u0435 \\u043f\\u043b\\u0430\\u043d\\u0430=%{text}\", \"legendgroup\": \"\\u0411\\u0440\\u0435\\u043d\\u0434=\\u041b\\u0411\\u042e\\u0412\\u0415\\u04225.0\", \"marker\": {\"color\": \"#00cc96\"}, \"name\": \"\\u0411\\u0440\\u0435\\u043d\\u0434=\\u041b\\u0411\\u042e\\u0412\\u0415\\u04225.0\", \"offsetgroup\": \"\\u0411\\u0440\\u0435\\u043d\\u0434=\\u041b\\u0411\\u042e\\u0412\\u0415\\u04225.0\", \"orientation\": \"v\", \"showlegend\": true, \"text\": [-0.14, -0.12, -0.15, -0.14, -0.12], \"textangle\": 0, \"textposition\": \"outside\", \"type\": \"bar\", \"x\": [1, 2, 3, 4, 5], \"xaxis\": \"x\", \"y\": [-0.14, -0.12, -0.15, -0.14, -0.12], \"yaxis\": \"y\"}, {\"alignmentgroup\": \"True\", \"hoverlabel\": {\"namelength\": 0}, \"hovertemplate\": \"\\u0411\\u0440\\u0435\\u043d\\u0434=\\u041c\\u0410\\u041b\\u042b\\u0428\\u0410\\u041c<br>\\u041d\\u043e\\u043c\\u0435\\u0440 \\u041c\\u0435\\u0441\\u044f\\u0446\\u0430=%{x}<br>\\u0412\\u044b\\u043f\\u043e\\u043b\\u043d\\u0435\\u043d\\u0438\\u0435 \\u043f\\u043b\\u0430\\u043d\\u0430=%{text}\", \"legendgroup\": \"\\u0411\\u0440\\u0435\\u043d\\u0434=\\u041c\\u0410\\u041b\\u042b\\u0428\\u0410\\u041c\", \"marker\": {\"color\": \"#ab63fa\"}, \"name\": \"\\u0411\\u0440\\u0435\\u043d\\u0434=\\u041c\\u0410\\u041b\\u042b\\u0428\\u0410\\u041c\", \"offsetgroup\": \"\\u0411\\u0440\\u0435\\u043d\\u0434=\\u041c\\u0410\\u041b\\u042b\\u0428\\u0410\\u041c\", \"orientation\": \"v\", \"showlegend\": true, \"text\": [-0.14, -0.13, -0.11, -0.1, -0.11], \"textangle\": 0, \"textposition\": \"outside\", \"type\": \"bar\", \"x\": [1, 2, 3, 4, 5], \"xaxis\": \"x\", \"y\": [-0.14, -0.13, -0.11, -0.1, -0.11], \"yaxis\": \"y\"}],\n",
              "                        {\"barmode\": \"group\", \"legend\": {\"tracegroupgap\": 0}, \"template\": {\"data\": {\"bar\": [{\"error_x\": {\"color\": \"#2a3f5f\"}, \"error_y\": {\"color\": \"#2a3f5f\"}, \"marker\": {\"line\": {\"color\": \"#E5ECF6\", \"width\": 0.5}}, \"type\": \"bar\"}], \"barpolar\": [{\"marker\": {\"line\": {\"color\": \"#E5ECF6\", \"width\": 0.5}}, \"type\": \"barpolar\"}], \"carpet\": [{\"aaxis\": {\"endlinecolor\": \"#2a3f5f\", \"gridcolor\": \"white\", \"linecolor\": \"white\", \"minorgridcolor\": \"white\", \"startlinecolor\": \"#2a3f5f\"}, \"baxis\": {\"endlinecolor\": \"#2a3f5f\", \"gridcolor\": \"white\", \"linecolor\": \"white\", \"minorgridcolor\": \"white\", \"startlinecolor\": \"#2a3f5f\"}, \"type\": \"carpet\"}], \"choropleth\": [{\"colorbar\": {\"outlinewidth\": 0, \"ticks\": \"\"}, \"type\": \"choropleth\"}], \"contour\": [{\"colorbar\": {\"outlinewidth\": 0, \"ticks\": \"\"}, \"colorscale\": [[0.0, \"#0d0887\"], [0.1111111111111111, \"#46039f\"], [0.2222222222222222, \"#7201a8\"], [0.3333333333333333, \"#9c179e\"], [0.4444444444444444, \"#bd3786\"], [0.5555555555555556, \"#d8576b\"], [0.6666666666666666, \"#ed7953\"], [0.7777777777777778, \"#fb9f3a\"], [0.8888888888888888, \"#fdca26\"], [1.0, \"#f0f921\"]], \"type\": \"contour\"}], \"contourcarpet\": [{\"colorbar\": {\"outlinewidth\": 0, \"ticks\": \"\"}, \"type\": \"contourcarpet\"}], \"heatmap\": [{\"colorbar\": {\"outlinewidth\": 0, \"ticks\": \"\"}, \"colorscale\": [[0.0, \"#0d0887\"], [0.1111111111111111, \"#46039f\"], [0.2222222222222222, \"#7201a8\"], [0.3333333333333333, \"#9c179e\"], [0.4444444444444444, \"#bd3786\"], [0.5555555555555556, \"#d8576b\"], [0.6666666666666666, \"#ed7953\"], [0.7777777777777778, \"#fb9f3a\"], [0.8888888888888888, \"#fdca26\"], [1.0, \"#f0f921\"]], \"type\": \"heatmap\"}], \"heatmapgl\": [{\"colorbar\": {\"outlinewidth\": 0, \"ticks\": \"\"}, \"colorscale\": [[0.0, \"#0d0887\"], [0.1111111111111111, \"#46039f\"], [0.2222222222222222, \"#7201a8\"], [0.3333333333333333, \"#9c179e\"], [0.4444444444444444, \"#bd3786\"], [0.5555555555555556, \"#d8576b\"], [0.6666666666666666, \"#ed7953\"], [0.7777777777777778, \"#fb9f3a\"], [0.8888888888888888, \"#fdca26\"], [1.0, \"#f0f921\"]], \"type\": \"heatmapgl\"}], \"histogram\": [{\"marker\": {\"colorbar\": {\"outlinewidth\": 0, \"ticks\": \"\"}}, \"type\": \"histogram\"}], \"histogram2d\": [{\"colorbar\": {\"outlinewidth\": 0, \"ticks\": \"\"}, \"colorscale\": [[0.0, \"#0d0887\"], [0.1111111111111111, \"#46039f\"], [0.2222222222222222, \"#7201a8\"], [0.3333333333333333, \"#9c179e\"], [0.4444444444444444, \"#bd3786\"], [0.5555555555555556, \"#d8576b\"], [0.6666666666666666, \"#ed7953\"], [0.7777777777777778, \"#fb9f3a\"], [0.8888888888888888, \"#fdca26\"], [1.0, \"#f0f921\"]], \"type\": \"histogram2d\"}], \"histogram2dcontour\": [{\"colorbar\": {\"outlinewidth\": 0, \"ticks\": \"\"}, \"colorscale\": [[0.0, \"#0d0887\"], [0.1111111111111111, \"#46039f\"], [0.2222222222222222, \"#7201a8\"], [0.3333333333333333, \"#9c179e\"], [0.4444444444444444, \"#bd3786\"], [0.5555555555555556, \"#d8576b\"], [0.6666666666666666, \"#ed7953\"], [0.7777777777777778, \"#fb9f3a\"], [0.8888888888888888, \"#fdca26\"], [1.0, \"#f0f921\"]], \"type\": \"histogram2dcontour\"}], \"mesh3d\": [{\"colorbar\": {\"outlinewidth\": 0, \"ticks\": \"\"}, \"type\": \"mesh3d\"}], \"parcoords\": [{\"line\": {\"colorbar\": {\"outlinewidth\": 0, \"ticks\": \"\"}}, \"type\": \"parcoords\"}], \"pie\": [{\"automargin\": true, \"type\": \"pie\"}], \"scatter\": [{\"marker\": {\"colorbar\": {\"outlinewidth\": 0, \"ticks\": \"\"}}, \"type\": \"scatter\"}], \"scatter3d\": [{\"line\": {\"colorbar\": {\"outlinewidth\": 0, \"ticks\": \"\"}}, \"marker\": {\"colorbar\": {\"outlinewidth\": 0, \"ticks\": \"\"}}, \"type\": \"scatter3d\"}], \"scattercarpet\": [{\"marker\": {\"colorbar\": {\"outlinewidth\": 0, \"ticks\": \"\"}}, \"type\": \"scattercarpet\"}], \"scattergeo\": [{\"marker\": {\"colorbar\": {\"outlinewidth\": 0, \"ticks\": \"\"}}, \"type\": \"scattergeo\"}], \"scattergl\": [{\"marker\": {\"colorbar\": {\"outlinewidth\": 0, \"ticks\": \"\"}}, \"type\": \"scattergl\"}], \"scattermapbox\": [{\"marker\": {\"colorbar\": {\"outlinewidth\": 0, \"ticks\": \"\"}}, \"type\": \"scattermapbox\"}], \"scatterpolar\": [{\"marker\": {\"colorbar\": {\"outlinewidth\": 0, \"ticks\": \"\"}}, \"type\": \"scatterpolar\"}], \"scatterpolargl\": [{\"marker\": {\"colorbar\": {\"outlinewidth\": 0, \"ticks\": \"\"}}, \"type\": \"scatterpolargl\"}], \"scatterternary\": [{\"marker\": {\"colorbar\": {\"outlinewidth\": 0, \"ticks\": \"\"}}, \"type\": \"scatterternary\"}], \"surface\": [{\"colorbar\": {\"outlinewidth\": 0, \"ticks\": \"\"}, \"colorscale\": [[0.0, \"#0d0887\"], [0.1111111111111111, \"#46039f\"], [0.2222222222222222, \"#7201a8\"], [0.3333333333333333, \"#9c179e\"], [0.4444444444444444, \"#bd3786\"], [0.5555555555555556, \"#d8576b\"], [0.6666666666666666, \"#ed7953\"], [0.7777777777777778, \"#fb9f3a\"], [0.8888888888888888, \"#fdca26\"], [1.0, \"#f0f921\"]], \"type\": \"surface\"}], \"table\": [{\"cells\": {\"fill\": {\"color\": \"#EBF0F8\"}, \"line\": {\"color\": \"white\"}}, \"header\": {\"fill\": {\"color\": \"#C8D4E3\"}, \"line\": {\"color\": \"white\"}}, \"type\": \"table\"}]}, \"layout\": {\"annotationdefaults\": {\"arrowcolor\": \"#2a3f5f\", \"arrowhead\": 0, \"arrowwidth\": 1}, \"coloraxis\": {\"colorbar\": {\"outlinewidth\": 0, \"ticks\": \"\"}}, \"colorscale\": {\"diverging\": [[0, \"#8e0152\"], [0.1, \"#c51b7d\"], [0.2, \"#de77ae\"], [0.3, \"#f1b6da\"], [0.4, \"#fde0ef\"], [0.5, \"#f7f7f7\"], [0.6, \"#e6f5d0\"], [0.7, \"#b8e186\"], [0.8, \"#7fbc41\"], [0.9, \"#4d9221\"], [1, \"#276419\"]], \"sequential\": [[0.0, \"#0d0887\"], [0.1111111111111111, \"#46039f\"], [0.2222222222222222, \"#7201a8\"], [0.3333333333333333, \"#9c179e\"], [0.4444444444444444, \"#bd3786\"], [0.5555555555555556, \"#d8576b\"], [0.6666666666666666, \"#ed7953\"], [0.7777777777777778, \"#fb9f3a\"], [0.8888888888888888, \"#fdca26\"], [1.0, \"#f0f921\"]], \"sequentialminus\": [[0.0, \"#0d0887\"], [0.1111111111111111, \"#46039f\"], [0.2222222222222222, \"#7201a8\"], [0.3333333333333333, \"#9c179e\"], [0.4444444444444444, \"#bd3786\"], [0.5555555555555556, \"#d8576b\"], [0.6666666666666666, \"#ed7953\"], [0.7777777777777778, \"#fb9f3a\"], [0.8888888888888888, \"#fdca26\"], [1.0, \"#f0f921\"]]}, \"colorway\": [\"#636efa\", \"#EF553B\", \"#00cc96\", \"#ab63fa\", \"#FFA15A\", \"#19d3f3\", \"#FF6692\", \"#B6E880\", \"#FF97FF\", \"#FECB52\"], \"font\": {\"color\": \"#2a3f5f\"}, \"geo\": {\"bgcolor\": \"white\", \"lakecolor\": \"white\", \"landcolor\": \"#E5ECF6\", \"showlakes\": true, \"showland\": true, \"subunitcolor\": \"white\"}, \"hoverlabel\": {\"align\": \"left\"}, \"hovermode\": \"closest\", \"mapbox\": {\"style\": \"light\"}, \"paper_bgcolor\": \"white\", \"plot_bgcolor\": \"#E5ECF6\", \"polar\": {\"angularaxis\": {\"gridcolor\": \"white\", \"linecolor\": \"white\", \"ticks\": \"\"}, \"bgcolor\": \"#E5ECF6\", \"radialaxis\": {\"gridcolor\": \"white\", \"linecolor\": \"white\", \"ticks\": \"\"}}, \"scene\": {\"xaxis\": {\"backgroundcolor\": \"#E5ECF6\", \"gridcolor\": \"white\", \"gridwidth\": 2, \"linecolor\": \"white\", \"showbackground\": true, \"ticks\": \"\", \"zerolinecolor\": \"white\"}, \"yaxis\": {\"backgroundcolor\": \"#E5ECF6\", \"gridcolor\": \"white\", \"gridwidth\": 2, \"linecolor\": \"white\", \"showbackground\": true, \"ticks\": \"\", \"zerolinecolor\": \"white\"}, \"zaxis\": {\"backgroundcolor\": \"#E5ECF6\", \"gridcolor\": \"white\", \"gridwidth\": 2, \"linecolor\": \"white\", \"showbackground\": true, \"ticks\": \"\", \"zerolinecolor\": \"white\"}}, \"shapedefaults\": {\"line\": {\"color\": \"#2a3f5f\"}}, \"ternary\": {\"aaxis\": {\"gridcolor\": \"white\", \"linecolor\": \"white\", \"ticks\": \"\"}, \"baxis\": {\"gridcolor\": \"white\", \"linecolor\": \"white\", \"ticks\": \"\"}, \"bgcolor\": \"#E5ECF6\", \"caxis\": {\"gridcolor\": \"white\", \"linecolor\": \"white\", \"ticks\": \"\"}}, \"title\": {\"x\": 0.05}, \"xaxis\": {\"automargin\": true, \"gridcolor\": \"white\", \"linecolor\": \"white\", \"ticks\": \"\", \"title\": {\"standoff\": 15}, \"zerolinecolor\": \"white\", \"zerolinewidth\": 2}, \"yaxis\": {\"automargin\": true, \"gridcolor\": \"white\", \"linecolor\": \"white\", \"ticks\": \"\", \"title\": {\"standoff\": 15}, \"zerolinecolor\": \"white\", \"zerolinewidth\": 2}}}, \"title\": {\"font\": {\"family\": \"Times New Roman\"}, \"text\": \"\\u041d\\u0430\\u043a\\u043e\\u043f\\u0438\\u0442\\u0435\\u043b\\u044c\\u043d\\u043e\\u0435 \\u0432\\u044b\\u043f\\u043e\\u043b\\u043d\\u0435\\u043d\\u0438\\u0435 \\u043f\\u043b\\u0430\\u043d\\u0430 \\u043f\\u043e \\u0431\\u0440\\u0435\\u043d\\u0434\\u0430\\u043c \\u0438 \\u043f\\u043e \\u043c\\u0435\\u0441\\u044f\\u0446\\u0430\\u043c\"}, \"xaxis\": {\"anchor\": \"y\", \"domain\": [0.0, 1.0], \"tickangle\": 0, \"title\": {\"text\": \"\\u041d\\u043e\\u043c\\u0435\\u0440 \\u041c\\u0435\\u0441\\u044f\\u0446\\u0430\"}}, \"yaxis\": {\"anchor\": \"x\", \"domain\": [0.0, 1.0], \"title\": {\"text\": \"\\u0412\\u044b\\u043f\\u043e\\u043b\\u043d\\u0435\\u043d\\u0438\\u0435 \\u043f\\u043b\\u0430\\u043d\\u0430\"}}},\n",
              "                        {\"responsive\": true}\n",
              "                    ).then(function(){\n",
              "                            \n",
              "var gd = document.getElementById('51922b38-62c4-440e-bee3-821d1a20051f');\n",
              "var x = new MutationObserver(function (mutations, observer) {{\n",
              "        var display = window.getComputedStyle(gd).display;\n",
              "        if (!display || display === 'none') {{\n",
              "            console.log([gd, 'removed!']);\n",
              "            Plotly.purge(gd);\n",
              "            observer.disconnect();\n",
              "        }}\n",
              "}});\n",
              "\n",
              "// Listen for the removal of the full notebook cells\n",
              "var notebookContainer = gd.closest('#notebook-container');\n",
              "if (notebookContainer) {{\n",
              "    x.observe(notebookContainer, {childList: true});\n",
              "}}\n",
              "\n",
              "// Listen for the clearing of the current output cell\n",
              "var outputEl = gd.closest('.output');\n",
              "if (outputEl) {{\n",
              "    x.observe(outputEl, {childList: true});\n",
              "}}\n",
              "\n",
              "                        })\n",
              "                };\n",
              "                \n",
              "            </script>\n",
              "        </div>\n",
              "</body>\n",
              "</html>"
            ]
          },
          "metadata": {
            "tags": []
          }
        }
      ]
    },
    {
      "cell_type": "markdown",
      "metadata": {
        "id": "ZaKmgxTgciue"
      },
      "source": [
        "Краткий вывод\n",
        "1. Сильное невыполнение у брендов \"Малыши\" и \"ЛБЮВЕТ5.0\": >10%\n",
        "2. Бренд ЛЮБЮВЕТ1.5 выполнил план"
      ]
    },
    {
      "cell_type": "code",
      "metadata": {
        "id": "iTfPeGcMQ02c"
      },
      "source": [
        "s1 = df.loc[df['Год'] == 2013,['Бренд', 'month','Факт руб']]\n",
        "ss1 = s1.groupby(['month', 'Бренд']).sum().groupby('Бренд').cumsum().reset_index()\n",
        "rep = ss.merge(ss1, on=['month', 'Бренд'])\n",
        "rep['Прирост'] = rep['Факт руб_x'] / rep['Факт руб_y'] - 1\n",
        "rep['Прирост'] = rep['Прирост'].round(2)\n",
        "#rep"
      ],
      "execution_count": null,
      "outputs": []
    },
    {
      "cell_type": "code",
      "metadata": {
        "colab": {
          "base_uri": "https://localhost:8080/",
          "height": 542
        },
        "id": "IVSx0meYny6B",
        "outputId": "02e81e50-2174-44b4-965c-cf30e4f8e678"
      },
      "source": [
        "fig = px.bar(rep, x='month', y='Прирост', color='Бренд',\\\n",
        "            title='Прирост накопительных продаж по брендам к прошлому году',\\\n",
        "             text ='Прирост',\n",
        "             labels={'month' : 'Номер Месяца'}\n",
        "            )\n",
        "fig.update_layout(barmode='group', xaxis_tickangle=0, title_font_family=\"Times New Roman\")\n",
        "fig.update_traces( textposition='outside', textangle=0)\n",
        "fig.show()"
      ],
      "execution_count": null,
      "outputs": [
        {
          "output_type": "display_data",
          "data": {
            "text/html": [
              "<html>\n",
              "<head><meta charset=\"utf-8\" /></head>\n",
              "<body>\n",
              "    <div>\n",
              "            <script src=\"https://cdnjs.cloudflare.com/ajax/libs/mathjax/2.7.5/MathJax.js?config=TeX-AMS-MML_SVG\"></script><script type=\"text/javascript\">if (window.MathJax) {MathJax.Hub.Config({SVG: {font: \"STIX-Web\"}});}</script>\n",
              "                <script type=\"text/javascript\">window.PlotlyConfig = {MathJaxConfig: 'local'};</script>\n",
              "        <script src=\"https://cdn.plot.ly/plotly-latest.min.js\"></script>    \n",
              "            <div id=\"3ea396e1-7c96-4b0e-b02c-329ece6f7b80\" class=\"plotly-graph-div\" style=\"height:525px; width:100%;\"></div>\n",
              "            <script type=\"text/javascript\">\n",
              "                \n",
              "                    window.PLOTLYENV=window.PLOTLYENV || {};\n",
              "                    \n",
              "                if (document.getElementById(\"3ea396e1-7c96-4b0e-b02c-329ece6f7b80\")) {\n",
              "                    Plotly.newPlot(\n",
              "                        '3ea396e1-7c96-4b0e-b02c-329ece6f7b80',\n",
              "                        [{\"alignmentgroup\": \"True\", \"hoverlabel\": {\"namelength\": 0}, \"hovertemplate\": \"\\u0411\\u0440\\u0435\\u043d\\u0434=\\u041b\\u0411\\u042e\\u0412\\u0415\\u04220305<br>\\u041d\\u043e\\u043c\\u0435\\u0440 \\u041c\\u0435\\u0441\\u044f\\u0446\\u0430=%{x}<br>\\u041f\\u0440\\u0438\\u0440\\u043e\\u0441\\u0442=%{text}\", \"legendgroup\": \"\\u0411\\u0440\\u0435\\u043d\\u0434=\\u041b\\u0411\\u042e\\u0412\\u0415\\u04220305\", \"marker\": {\"color\": \"#636efa\"}, \"name\": \"\\u0411\\u0440\\u0435\\u043d\\u0434=\\u041b\\u0411\\u042e\\u0412\\u0415\\u04220305\", \"offsetgroup\": \"\\u0411\\u0440\\u0435\\u043d\\u0434=\\u041b\\u0411\\u042e\\u0412\\u0415\\u04220305\", \"orientation\": \"v\", \"showlegend\": true, \"text\": [0.19, 0.13, 0.11, 0.14, 0.1], \"textangle\": 0, \"textposition\": \"outside\", \"type\": \"bar\", \"x\": [1, 2, 3, 4, 5], \"xaxis\": \"x\", \"y\": [0.19, 0.13, 0.11, 0.14, 0.1], \"yaxis\": \"y\"}, {\"alignmentgroup\": \"True\", \"hoverlabel\": {\"namelength\": 0}, \"hovertemplate\": \"\\u0411\\u0440\\u0435\\u043d\\u0434=\\u041b\\u0411\\u042e\\u0412\\u0415\\u04221.5<br>\\u041d\\u043e\\u043c\\u0435\\u0440 \\u041c\\u0435\\u0441\\u044f\\u0446\\u0430=%{x}<br>\\u041f\\u0440\\u0438\\u0440\\u043e\\u0441\\u0442=%{text}\", \"legendgroup\": \"\\u0411\\u0440\\u0435\\u043d\\u0434=\\u041b\\u0411\\u042e\\u0412\\u0415\\u04221.5\", \"marker\": {\"color\": \"#EF553B\"}, \"name\": \"\\u0411\\u0440\\u0435\\u043d\\u0434=\\u041b\\u0411\\u042e\\u0412\\u0415\\u04221.5\", \"offsetgroup\": \"\\u0411\\u0440\\u0435\\u043d\\u0434=\\u041b\\u0411\\u042e\\u0412\\u0415\\u04221.5\", \"orientation\": \"v\", \"showlegend\": true, \"text\": [-0.2, -0.11, -0.09, -0.07, -0.02], \"textangle\": 0, \"textposition\": \"outside\", \"type\": \"bar\", \"x\": [1, 2, 3, 4, 5], \"xaxis\": \"x\", \"y\": [-0.2, -0.11, -0.09, -0.07, -0.02], \"yaxis\": \"y\"}, {\"alignmentgroup\": \"True\", \"hoverlabel\": {\"namelength\": 0}, \"hovertemplate\": \"\\u0411\\u0440\\u0435\\u043d\\u0434=\\u041b\\u0411\\u042e\\u0412\\u0415\\u04225.0<br>\\u041d\\u043e\\u043c\\u0435\\u0440 \\u041c\\u0435\\u0441\\u044f\\u0446\\u0430=%{x}<br>\\u041f\\u0440\\u0438\\u0440\\u043e\\u0441\\u0442=%{text}\", \"legendgroup\": \"\\u0411\\u0440\\u0435\\u043d\\u0434=\\u041b\\u0411\\u042e\\u0412\\u0415\\u04225.0\", \"marker\": {\"color\": \"#00cc96\"}, \"name\": \"\\u0411\\u0440\\u0435\\u043d\\u0434=\\u041b\\u0411\\u042e\\u0412\\u0415\\u04225.0\", \"offsetgroup\": \"\\u0411\\u0440\\u0435\\u043d\\u0434=\\u041b\\u0411\\u042e\\u0412\\u0415\\u04225.0\", \"orientation\": \"v\", \"showlegend\": true, \"text\": [-0.03, 0.09, 0.05, 0.01, 0.02], \"textangle\": 0, \"textposition\": \"outside\", \"type\": \"bar\", \"x\": [1, 2, 3, 4, 5], \"xaxis\": \"x\", \"y\": [-0.03, 0.09, 0.05, 0.01, 0.02], \"yaxis\": \"y\"}, {\"alignmentgroup\": \"True\", \"hoverlabel\": {\"namelength\": 0}, \"hovertemplate\": \"\\u0411\\u0440\\u0435\\u043d\\u0434=\\u041c\\u0410\\u041b\\u042b\\u0428\\u0410\\u041c<br>\\u041d\\u043e\\u043c\\u0435\\u0440 \\u041c\\u0435\\u0441\\u044f\\u0446\\u0430=%{x}<br>\\u041f\\u0440\\u0438\\u0440\\u043e\\u0441\\u0442=%{text}\", \"legendgroup\": \"\\u0411\\u0440\\u0435\\u043d\\u0434=\\u041c\\u0410\\u041b\\u042b\\u0428\\u0410\\u041c\", \"marker\": {\"color\": \"#ab63fa\"}, \"name\": \"\\u0411\\u0440\\u0435\\u043d\\u0434=\\u041c\\u0410\\u041b\\u042b\\u0428\\u0410\\u041c\", \"offsetgroup\": \"\\u0411\\u0440\\u0435\\u043d\\u0434=\\u041c\\u0410\\u041b\\u042b\\u0428\\u0410\\u041c\", \"orientation\": \"v\", \"showlegend\": true, \"text\": [-0.06, 0.0, 0.05, 0.04, 0.02], \"textangle\": 0, \"textposition\": \"outside\", \"type\": \"bar\", \"x\": [1, 2, 3, 4, 5], \"xaxis\": \"x\", \"y\": [-0.06, 0.0, 0.05, 0.04, 0.02], \"yaxis\": \"y\"}],\n",
              "                        {\"barmode\": \"group\", \"legend\": {\"tracegroupgap\": 0}, \"template\": {\"data\": {\"bar\": [{\"error_x\": {\"color\": \"#2a3f5f\"}, \"error_y\": {\"color\": \"#2a3f5f\"}, \"marker\": {\"line\": {\"color\": \"#E5ECF6\", \"width\": 0.5}}, \"type\": \"bar\"}], \"barpolar\": [{\"marker\": {\"line\": {\"color\": \"#E5ECF6\", \"width\": 0.5}}, \"type\": \"barpolar\"}], \"carpet\": [{\"aaxis\": {\"endlinecolor\": \"#2a3f5f\", \"gridcolor\": \"white\", \"linecolor\": \"white\", \"minorgridcolor\": \"white\", \"startlinecolor\": \"#2a3f5f\"}, \"baxis\": {\"endlinecolor\": \"#2a3f5f\", \"gridcolor\": \"white\", \"linecolor\": \"white\", \"minorgridcolor\": \"white\", \"startlinecolor\": \"#2a3f5f\"}, \"type\": \"carpet\"}], \"choropleth\": [{\"colorbar\": {\"outlinewidth\": 0, \"ticks\": \"\"}, \"type\": \"choropleth\"}], \"contour\": [{\"colorbar\": {\"outlinewidth\": 0, \"ticks\": \"\"}, \"colorscale\": [[0.0, \"#0d0887\"], [0.1111111111111111, \"#46039f\"], [0.2222222222222222, \"#7201a8\"], [0.3333333333333333, \"#9c179e\"], [0.4444444444444444, \"#bd3786\"], [0.5555555555555556, \"#d8576b\"], [0.6666666666666666, \"#ed7953\"], [0.7777777777777778, \"#fb9f3a\"], [0.8888888888888888, \"#fdca26\"], [1.0, \"#f0f921\"]], \"type\": \"contour\"}], \"contourcarpet\": [{\"colorbar\": {\"outlinewidth\": 0, \"ticks\": \"\"}, \"type\": \"contourcarpet\"}], \"heatmap\": [{\"colorbar\": {\"outlinewidth\": 0, \"ticks\": \"\"}, \"colorscale\": [[0.0, \"#0d0887\"], [0.1111111111111111, \"#46039f\"], [0.2222222222222222, \"#7201a8\"], [0.3333333333333333, \"#9c179e\"], [0.4444444444444444, \"#bd3786\"], [0.5555555555555556, \"#d8576b\"], [0.6666666666666666, \"#ed7953\"], [0.7777777777777778, \"#fb9f3a\"], [0.8888888888888888, \"#fdca26\"], [1.0, \"#f0f921\"]], \"type\": \"heatmap\"}], \"heatmapgl\": [{\"colorbar\": {\"outlinewidth\": 0, \"ticks\": \"\"}, \"colorscale\": [[0.0, \"#0d0887\"], [0.1111111111111111, \"#46039f\"], [0.2222222222222222, \"#7201a8\"], [0.3333333333333333, \"#9c179e\"], [0.4444444444444444, \"#bd3786\"], [0.5555555555555556, \"#d8576b\"], [0.6666666666666666, \"#ed7953\"], [0.7777777777777778, \"#fb9f3a\"], [0.8888888888888888, \"#fdca26\"], [1.0, \"#f0f921\"]], \"type\": \"heatmapgl\"}], \"histogram\": [{\"marker\": {\"colorbar\": {\"outlinewidth\": 0, \"ticks\": \"\"}}, \"type\": \"histogram\"}], \"histogram2d\": [{\"colorbar\": {\"outlinewidth\": 0, \"ticks\": \"\"}, \"colorscale\": [[0.0, \"#0d0887\"], [0.1111111111111111, \"#46039f\"], [0.2222222222222222, \"#7201a8\"], [0.3333333333333333, \"#9c179e\"], [0.4444444444444444, \"#bd3786\"], [0.5555555555555556, \"#d8576b\"], [0.6666666666666666, \"#ed7953\"], [0.7777777777777778, \"#fb9f3a\"], [0.8888888888888888, \"#fdca26\"], [1.0, \"#f0f921\"]], \"type\": \"histogram2d\"}], \"histogram2dcontour\": [{\"colorbar\": {\"outlinewidth\": 0, \"ticks\": \"\"}, \"colorscale\": [[0.0, \"#0d0887\"], [0.1111111111111111, \"#46039f\"], [0.2222222222222222, \"#7201a8\"], [0.3333333333333333, \"#9c179e\"], [0.4444444444444444, \"#bd3786\"], [0.5555555555555556, \"#d8576b\"], [0.6666666666666666, \"#ed7953\"], [0.7777777777777778, \"#fb9f3a\"], [0.8888888888888888, \"#fdca26\"], [1.0, \"#f0f921\"]], \"type\": \"histogram2dcontour\"}], \"mesh3d\": [{\"colorbar\": {\"outlinewidth\": 0, \"ticks\": \"\"}, \"type\": \"mesh3d\"}], \"parcoords\": [{\"line\": {\"colorbar\": {\"outlinewidth\": 0, \"ticks\": \"\"}}, \"type\": \"parcoords\"}], \"pie\": [{\"automargin\": true, \"type\": \"pie\"}], \"scatter\": [{\"marker\": {\"colorbar\": {\"outlinewidth\": 0, \"ticks\": \"\"}}, \"type\": \"scatter\"}], \"scatter3d\": [{\"line\": {\"colorbar\": {\"outlinewidth\": 0, \"ticks\": \"\"}}, \"marker\": {\"colorbar\": {\"outlinewidth\": 0, \"ticks\": \"\"}}, \"type\": \"scatter3d\"}], \"scattercarpet\": [{\"marker\": {\"colorbar\": {\"outlinewidth\": 0, \"ticks\": \"\"}}, \"type\": \"scattercarpet\"}], \"scattergeo\": [{\"marker\": {\"colorbar\": {\"outlinewidth\": 0, \"ticks\": \"\"}}, \"type\": \"scattergeo\"}], \"scattergl\": [{\"marker\": {\"colorbar\": {\"outlinewidth\": 0, \"ticks\": \"\"}}, \"type\": \"scattergl\"}], \"scattermapbox\": [{\"marker\": {\"colorbar\": {\"outlinewidth\": 0, \"ticks\": \"\"}}, \"type\": \"scattermapbox\"}], \"scatterpolar\": [{\"marker\": {\"colorbar\": {\"outlinewidth\": 0, \"ticks\": \"\"}}, \"type\": \"scatterpolar\"}], \"scatterpolargl\": [{\"marker\": {\"colorbar\": {\"outlinewidth\": 0, \"ticks\": \"\"}}, \"type\": \"scatterpolargl\"}], \"scatterternary\": [{\"marker\": {\"colorbar\": {\"outlinewidth\": 0, \"ticks\": \"\"}}, \"type\": \"scatterternary\"}], \"surface\": [{\"colorbar\": {\"outlinewidth\": 0, \"ticks\": \"\"}, \"colorscale\": [[0.0, \"#0d0887\"], [0.1111111111111111, \"#46039f\"], [0.2222222222222222, \"#7201a8\"], [0.3333333333333333, \"#9c179e\"], [0.4444444444444444, \"#bd3786\"], [0.5555555555555556, \"#d8576b\"], [0.6666666666666666, \"#ed7953\"], [0.7777777777777778, \"#fb9f3a\"], [0.8888888888888888, \"#fdca26\"], [1.0, \"#f0f921\"]], \"type\": \"surface\"}], \"table\": [{\"cells\": {\"fill\": {\"color\": \"#EBF0F8\"}, \"line\": {\"color\": \"white\"}}, \"header\": {\"fill\": {\"color\": \"#C8D4E3\"}, \"line\": {\"color\": \"white\"}}, \"type\": \"table\"}]}, \"layout\": {\"annotationdefaults\": {\"arrowcolor\": \"#2a3f5f\", \"arrowhead\": 0, \"arrowwidth\": 1}, \"coloraxis\": {\"colorbar\": {\"outlinewidth\": 0, \"ticks\": \"\"}}, \"colorscale\": {\"diverging\": [[0, \"#8e0152\"], [0.1, \"#c51b7d\"], [0.2, \"#de77ae\"], [0.3, \"#f1b6da\"], [0.4, \"#fde0ef\"], [0.5, \"#f7f7f7\"], [0.6, \"#e6f5d0\"], [0.7, \"#b8e186\"], [0.8, \"#7fbc41\"], [0.9, \"#4d9221\"], [1, \"#276419\"]], \"sequential\": [[0.0, \"#0d0887\"], [0.1111111111111111, \"#46039f\"], [0.2222222222222222, \"#7201a8\"], [0.3333333333333333, \"#9c179e\"], [0.4444444444444444, \"#bd3786\"], [0.5555555555555556, \"#d8576b\"], [0.6666666666666666, \"#ed7953\"], [0.7777777777777778, \"#fb9f3a\"], [0.8888888888888888, \"#fdca26\"], [1.0, \"#f0f921\"]], \"sequentialminus\": [[0.0, \"#0d0887\"], [0.1111111111111111, \"#46039f\"], [0.2222222222222222, \"#7201a8\"], [0.3333333333333333, \"#9c179e\"], [0.4444444444444444, \"#bd3786\"], [0.5555555555555556, \"#d8576b\"], [0.6666666666666666, \"#ed7953\"], [0.7777777777777778, \"#fb9f3a\"], [0.8888888888888888, \"#fdca26\"], [1.0, \"#f0f921\"]]}, \"colorway\": [\"#636efa\", \"#EF553B\", \"#00cc96\", \"#ab63fa\", \"#FFA15A\", \"#19d3f3\", \"#FF6692\", \"#B6E880\", \"#FF97FF\", \"#FECB52\"], \"font\": {\"color\": \"#2a3f5f\"}, \"geo\": {\"bgcolor\": \"white\", \"lakecolor\": \"white\", \"landcolor\": \"#E5ECF6\", \"showlakes\": true, \"showland\": true, \"subunitcolor\": \"white\"}, \"hoverlabel\": {\"align\": \"left\"}, \"hovermode\": \"closest\", \"mapbox\": {\"style\": \"light\"}, \"paper_bgcolor\": \"white\", \"plot_bgcolor\": \"#E5ECF6\", \"polar\": {\"angularaxis\": {\"gridcolor\": \"white\", \"linecolor\": \"white\", \"ticks\": \"\"}, \"bgcolor\": \"#E5ECF6\", \"radialaxis\": {\"gridcolor\": \"white\", \"linecolor\": \"white\", \"ticks\": \"\"}}, \"scene\": {\"xaxis\": {\"backgroundcolor\": \"#E5ECF6\", \"gridcolor\": \"white\", \"gridwidth\": 2, \"linecolor\": \"white\", \"showbackground\": true, \"ticks\": \"\", \"zerolinecolor\": \"white\"}, \"yaxis\": {\"backgroundcolor\": \"#E5ECF6\", \"gridcolor\": \"white\", \"gridwidth\": 2, \"linecolor\": \"white\", \"showbackground\": true, \"ticks\": \"\", \"zerolinecolor\": \"white\"}, \"zaxis\": {\"backgroundcolor\": \"#E5ECF6\", \"gridcolor\": \"white\", \"gridwidth\": 2, \"linecolor\": \"white\", \"showbackground\": true, \"ticks\": \"\", \"zerolinecolor\": \"white\"}}, \"shapedefaults\": {\"line\": {\"color\": \"#2a3f5f\"}}, \"ternary\": {\"aaxis\": {\"gridcolor\": \"white\", \"linecolor\": \"white\", \"ticks\": \"\"}, \"baxis\": {\"gridcolor\": \"white\", \"linecolor\": \"white\", \"ticks\": \"\"}, \"bgcolor\": \"#E5ECF6\", \"caxis\": {\"gridcolor\": \"white\", \"linecolor\": \"white\", \"ticks\": \"\"}}, \"title\": {\"x\": 0.05}, \"xaxis\": {\"automargin\": true, \"gridcolor\": \"white\", \"linecolor\": \"white\", \"ticks\": \"\", \"title\": {\"standoff\": 15}, \"zerolinecolor\": \"white\", \"zerolinewidth\": 2}, \"yaxis\": {\"automargin\": true, \"gridcolor\": \"white\", \"linecolor\": \"white\", \"ticks\": \"\", \"title\": {\"standoff\": 15}, \"zerolinecolor\": \"white\", \"zerolinewidth\": 2}}}, \"title\": {\"font\": {\"family\": \"Times New Roman\"}, \"text\": \"\\u041f\\u0440\\u0438\\u0440\\u043e\\u0441\\u0442 \\u043d\\u0430\\u043a\\u043e\\u043f\\u0438\\u0442\\u0435\\u043b\\u044c\\u043d\\u044b\\u0445 \\u043f\\u0440\\u043e\\u0434\\u0430\\u0436 \\u043f\\u043e \\u0431\\u0440\\u0435\\u043d\\u0434\\u0430\\u043c \\u043a \\u043f\\u0440\\u043e\\u0448\\u043b\\u043e\\u043c\\u0443 \\u0433\\u043e\\u0434\\u0443\"}, \"xaxis\": {\"anchor\": \"y\", \"domain\": [0.0, 1.0], \"tickangle\": 0, \"title\": {\"text\": \"\\u041d\\u043e\\u043c\\u0435\\u0440 \\u041c\\u0435\\u0441\\u044f\\u0446\\u0430\"}}, \"yaxis\": {\"anchor\": \"x\", \"domain\": [0.0, 1.0], \"title\": {\"text\": \"\\u041f\\u0440\\u0438\\u0440\\u043e\\u0441\\u0442\"}}},\n",
              "                        {\"responsive\": true}\n",
              "                    ).then(function(){\n",
              "                            \n",
              "var gd = document.getElementById('3ea396e1-7c96-4b0e-b02c-329ece6f7b80');\n",
              "var x = new MutationObserver(function (mutations, observer) {{\n",
              "        var display = window.getComputedStyle(gd).display;\n",
              "        if (!display || display === 'none') {{\n",
              "            console.log([gd, 'removed!']);\n",
              "            Plotly.purge(gd);\n",
              "            observer.disconnect();\n",
              "        }}\n",
              "}});\n",
              "\n",
              "// Listen for the removal of the full notebook cells\n",
              "var notebookContainer = gd.closest('#notebook-container');\n",
              "if (notebookContainer) {{\n",
              "    x.observe(notebookContainer, {childList: true});\n",
              "}}\n",
              "\n",
              "// Listen for the clearing of the current output cell\n",
              "var outputEl = gd.closest('.output');\n",
              "if (outputEl) {{\n",
              "    x.observe(outputEl, {childList: true});\n",
              "}}\n",
              "\n",
              "                        })\n",
              "                };\n",
              "                \n",
              "            </script>\n",
              "        </div>\n",
              "</body>\n",
              "</html>"
            ]
          },
          "metadata": {
            "tags": []
          }
        }
      ]
    },
    {
      "cell_type": "markdown",
      "metadata": {
        "id": "QV_J8X38c345"
      },
      "source": [
        "Краткий вывод\n",
        "1. По итогу мая накопительные продажи всех брендов, кроме ЛБЮВЕТ1.5, вышли в плюс по сравнению с прошлым годом"
      ]
    },
    {
      "cell_type": "markdown",
      "metadata": {
        "id": "QAutef7LoBYP"
      },
      "source": [
        "# ЧАСТЬ 2"
      ]
    },
    {
      "cell_type": "markdown",
      "metadata": {
        "id": "v3Esx1YePTW9"
      },
      "source": [
        "Вопрос №1"
      ]
    },
    {
      "cell_type": "code",
      "metadata": {
        "colab": {
          "base_uri": "https://localhost:8080/",
          "height": 542
        },
        "id": "znrZiwJBrKok",
        "outputId": "52b8756d-eb4f-4dce-97fc-d15404da0c4f"
      },
      "source": [
        "z = df[df['Год'] == 2014].groupby(['Год', 'month','Канал']).agg({'Факт руб' : 'sum'}).reset_index()\n",
        "\n",
        "z['Факт руб'] = z['Факт руб'].round(2)\n",
        "\n",
        "\n",
        "# график\n",
        "fig = px.bar(z.sort_values(by=['month', 'Факт руб']), x='month', y='Факт руб', color='Канал',\\\n",
        "            title='Фактические продажи по каналам и по месяцам, млн руб',\\\n",
        "             text ='Факт руб',\n",
        "             labels={'month' : 'Номер Месяца'}\n",
        "            )\n",
        "fig.update_layout(barmode='group', xaxis_tickangle=0, title_font_family=\"Times New Roman\")\n",
        "fig.update_traces( textposition='outside', textangle=0)\n",
        "fig.show()"
      ],
      "execution_count": null,
      "outputs": [
        {
          "output_type": "display_data",
          "data": {
            "text/html": [
              "<html>\n",
              "<head><meta charset=\"utf-8\" /></head>\n",
              "<body>\n",
              "    <div>\n",
              "            <script src=\"https://cdnjs.cloudflare.com/ajax/libs/mathjax/2.7.5/MathJax.js?config=TeX-AMS-MML_SVG\"></script><script type=\"text/javascript\">if (window.MathJax) {MathJax.Hub.Config({SVG: {font: \"STIX-Web\"}});}</script>\n",
              "                <script type=\"text/javascript\">window.PlotlyConfig = {MathJaxConfig: 'local'};</script>\n",
              "        <script src=\"https://cdn.plot.ly/plotly-latest.min.js\"></script>    \n",
              "            <div id=\"a4b0f19e-cbc2-4c44-9d1b-92bf19cd225a\" class=\"plotly-graph-div\" style=\"height:525px; width:100%;\"></div>\n",
              "            <script type=\"text/javascript\">\n",
              "                \n",
              "                    window.PLOTLYENV=window.PLOTLYENV || {};\n",
              "                    \n",
              "                if (document.getElementById(\"a4b0f19e-cbc2-4c44-9d1b-92bf19cd225a\")) {\n",
              "                    Plotly.newPlot(\n",
              "                        'a4b0f19e-cbc2-4c44-9d1b-92bf19cd225a',\n",
              "                        [{\"alignmentgroup\": \"True\", \"hoverlabel\": {\"namelength\": 0}, \"hovertemplate\": \"\\u041a\\u0430\\u043d\\u0430\\u043b=HORECA<br>\\u041d\\u043e\\u043c\\u0435\\u0440 \\u041c\\u0435\\u0441\\u044f\\u0446\\u0430=%{x}<br>\\u0424\\u0430\\u043a\\u0442 \\u0440\\u0443\\u0431=%{text}\", \"legendgroup\": \"\\u041a\\u0430\\u043d\\u0430\\u043b=HORECA\", \"marker\": {\"color\": \"#636efa\"}, \"name\": \"\\u041a\\u0430\\u043d\\u0430\\u043b=HORECA\", \"offsetgroup\": \"\\u041a\\u0430\\u043d\\u0430\\u043b=HORECA\", \"orientation\": \"v\", \"showlegend\": true, \"text\": [0.0, 0.0, 0.0, 0.0, 0.31], \"textangle\": 0, \"textposition\": \"outside\", \"type\": \"bar\", \"x\": [1, 2, 3, 4, 5], \"xaxis\": \"x\", \"y\": [0.0, 0.0, 0.0, 0.0, 0.31], \"yaxis\": \"y\"}, {\"alignmentgroup\": \"True\", \"hoverlabel\": {\"namelength\": 0}, \"hovertemplate\": \"\\u041a\\u0430\\u043d\\u0430\\u043b=\\u041f\\u0420\\u041e\\u0427\\u0415\\u0415<br>\\u041d\\u043e\\u043c\\u0435\\u0440 \\u041c\\u0435\\u0441\\u044f\\u0446\\u0430=%{x}<br>\\u0424\\u0430\\u043a\\u0442 \\u0440\\u0443\\u0431=%{text}\", \"legendgroup\": \"\\u041a\\u0430\\u043d\\u0430\\u043b=\\u041f\\u0420\\u041e\\u0427\\u0415\\u0415\", \"marker\": {\"color\": \"#EF553B\"}, \"name\": \"\\u041a\\u0430\\u043d\\u0430\\u043b=\\u041f\\u0420\\u041e\\u0427\\u0415\\u0415\", \"offsetgroup\": \"\\u041a\\u0430\\u043d\\u0430\\u043b=\\u041f\\u0420\\u041e\\u0427\\u0415\\u0415\", \"orientation\": \"v\", \"showlegend\": true, \"text\": [0.0, 0.0, 0.0, 0.0, 0.0], \"textangle\": 0, \"textposition\": \"outside\", \"type\": \"bar\", \"x\": [1, 2, 3, 4, 5], \"xaxis\": \"x\", \"y\": [0.0, 0.0, 0.0, 0.0, 0.0], \"yaxis\": \"y\"}, {\"alignmentgroup\": \"True\", \"hoverlabel\": {\"namelength\": 0}, \"hovertemplate\": \"\\u041a\\u0430\\u043d\\u0430\\u043b=\\u0424\\u0418\\u0417\\u041b\\u0418\\u0426\\u041e<br>\\u041d\\u043e\\u043c\\u0435\\u0440 \\u041c\\u0435\\u0441\\u044f\\u0446\\u0430=%{x}<br>\\u0424\\u0430\\u043a\\u0442 \\u0440\\u0443\\u0431=%{text}\", \"legendgroup\": \"\\u041a\\u0430\\u043d\\u0430\\u043b=\\u0424\\u0418\\u0417\\u041b\\u0418\\u0426\\u041e\", \"marker\": {\"color\": \"#00cc96\"}, \"name\": \"\\u041a\\u0430\\u043d\\u0430\\u043b=\\u0424\\u0418\\u0417\\u041b\\u0418\\u0426\\u041e\", \"offsetgroup\": \"\\u041a\\u0430\\u043d\\u0430\\u043b=\\u0424\\u0418\\u0417\\u041b\\u0418\\u0426\\u041e\", \"orientation\": \"v\", \"showlegend\": true, \"text\": [0.01, 0.02, 0.02, 0.02, 0.02], \"textangle\": 0, \"textposition\": \"outside\", \"type\": \"bar\", \"x\": [1, 2, 3, 4, 5], \"xaxis\": \"x\", \"y\": [0.01, 0.02, 0.02, 0.02, 0.02], \"yaxis\": \"y\"}, {\"alignmentgroup\": \"True\", \"hoverlabel\": {\"namelength\": 0}, \"hovertemplate\": \"\\u041a\\u0430\\u043d\\u0430\\u043b=\\u0420\\u041e\\u0417\\u041d\\u0418\\u0426\\u0410<br>\\u041d\\u043e\\u043c\\u0435\\u0440 \\u041c\\u0435\\u0441\\u044f\\u0446\\u0430=%{x}<br>\\u0424\\u0430\\u043a\\u0442 \\u0440\\u0443\\u0431=%{text}\", \"legendgroup\": \"\\u041a\\u0430\\u043d\\u0430\\u043b=\\u0420\\u041e\\u0417\\u041d\\u0418\\u0426\\u0410\", \"marker\": {\"color\": \"#ab63fa\"}, \"name\": \"\\u041a\\u0430\\u043d\\u0430\\u043b=\\u0420\\u041e\\u0417\\u041d\\u0418\\u0426\\u0410\", \"offsetgroup\": \"\\u041a\\u0430\\u043d\\u0430\\u043b=\\u0420\\u041e\\u0417\\u041d\\u0418\\u0426\\u0410\", \"orientation\": \"v\", \"showlegend\": true, \"text\": [0.03, 0.03, 0.02, 0.03, 0.02], \"textangle\": 0, \"textposition\": \"outside\", \"type\": \"bar\", \"x\": [1, 2, 3, 4, 5], \"xaxis\": \"x\", \"y\": [0.03, 0.03, 0.02, 0.03, 0.02], \"yaxis\": \"y\"}, {\"alignmentgroup\": \"True\", \"hoverlabel\": {\"namelength\": 0}, \"hovertemplate\": \"\\u041a\\u0430\\u043d\\u0430\\u043b=\\u0413\\u041e\\u0421\\u0417\\u0410\\u041a\\u0423\\u041f\\u041a\\u0418<br>\\u041d\\u043e\\u043c\\u0435\\u0440 \\u041c\\u0435\\u0441\\u044f\\u0446\\u0430=%{x}<br>\\u0424\\u0430\\u043a\\u0442 \\u0440\\u0443\\u0431=%{text}\", \"legendgroup\": \"\\u041a\\u0430\\u043d\\u0430\\u043b=\\u0413\\u041e\\u0421\\u0417\\u0410\\u041a\\u0423\\u041f\\u041a\\u0418\", \"marker\": {\"color\": \"#FFA15A\"}, \"name\": \"\\u041a\\u0430\\u043d\\u0430\\u043b=\\u0413\\u041e\\u0421\\u0417\\u0410\\u041a\\u0423\\u041f\\u041a\\u0418\", \"offsetgroup\": \"\\u041a\\u0430\\u043d\\u0430\\u043b=\\u0413\\u041e\\u0421\\u0417\\u0410\\u041a\\u0423\\u041f\\u041a\\u0418\", \"orientation\": \"v\", \"showlegend\": true, \"text\": [3.38, 3.44, 4.64, 5.7, 5.18], \"textangle\": 0, \"textposition\": \"outside\", \"type\": \"bar\", \"x\": [1, 2, 3, 4, 5], \"xaxis\": \"x\", \"y\": [3.38, 3.44, 4.64, 5.7, 5.18], \"yaxis\": \"y\"}, {\"alignmentgroup\": \"True\", \"hoverlabel\": {\"namelength\": 0}, \"hovertemplate\": \"\\u041a\\u0430\\u043d\\u0430\\u043b=\\u041b\\u041a<br>\\u041d\\u043e\\u043c\\u0435\\u0440 \\u041c\\u0435\\u0441\\u044f\\u0446\\u0430=%{x}<br>\\u0424\\u0430\\u043a\\u0442 \\u0440\\u0443\\u0431=%{text}\", \"legendgroup\": \"\\u041a\\u0430\\u043d\\u0430\\u043b=\\u041b\\u041a\", \"marker\": {\"color\": \"#19d3f3\"}, \"name\": \"\\u041a\\u0430\\u043d\\u0430\\u043b=\\u041b\\u041a\", \"offsetgroup\": \"\\u041a\\u0430\\u043d\\u0430\\u043b=\\u041b\\u041a\", \"orientation\": \"v\", \"showlegend\": true, \"text\": [11.78, 15.83, 25.3, 26.07, 24.27], \"textangle\": 0, \"textposition\": \"outside\", \"type\": \"bar\", \"x\": [1, 2, 3, 4, 5], \"xaxis\": \"x\", \"y\": [11.78, 15.83, 25.3, 26.07, 24.27], \"yaxis\": \"y\"}, {\"alignmentgroup\": \"True\", \"hoverlabel\": {\"namelength\": 0}, \"hovertemplate\": \"\\u041a\\u0430\\u043d\\u0430\\u043b=\\u0414\\u0418\\u0421\\u0422\\u0420\\u0418\\u0411\\u042c\\u042e\\u0422\\u041e\\u0420<br>\\u041d\\u043e\\u043c\\u0435\\u0440 \\u041c\\u0435\\u0441\\u044f\\u0446\\u0430=%{x}<br>\\u0424\\u0430\\u043a\\u0442 \\u0440\\u0443\\u0431=%{text}\", \"legendgroup\": \"\\u041a\\u0430\\u043d\\u0430\\u043b=\\u0414\\u0418\\u0421\\u0422\\u0420\\u0418\\u0411\\u042c\\u042e\\u0422\\u041e\\u0420\", \"marker\": {\"color\": \"#FF6692\"}, \"name\": \"\\u041a\\u0430\\u043d\\u0430\\u043b=\\u0414\\u0418\\u0421\\u0422\\u0420\\u0418\\u0411\\u042c\\u042e\\u0422\\u041e\\u0420\", \"offsetgroup\": \"\\u041a\\u0430\\u043d\\u0430\\u043b=\\u0414\\u0418\\u0421\\u0422\\u0420\\u0418\\u0411\\u042c\\u042e\\u0422\\u041e\\u0420\", \"orientation\": \"v\", \"showlegend\": true, \"text\": [73.71, 109.55, 122.32, 146.24, 167.47], \"textangle\": 0, \"textposition\": \"outside\", \"type\": \"bar\", \"x\": [1, 2, 3, 4, 5], \"xaxis\": \"x\", \"y\": [73.71, 109.55, 122.32, 146.24, 167.47], \"yaxis\": \"y\"}, {\"alignmentgroup\": \"True\", \"hoverlabel\": {\"namelength\": 0}, \"hovertemplate\": \"\\u041a\\u0430\\u043d\\u0430\\u043b=\\u0424\\u041a<br>\\u041d\\u043e\\u043c\\u0435\\u0440 \\u041c\\u0435\\u0441\\u044f\\u0446\\u0430=%{x}<br>\\u0424\\u0430\\u043a\\u0442 \\u0440\\u0443\\u0431=%{text}\", \"legendgroup\": \"\\u041a\\u0430\\u043d\\u0430\\u043b=\\u0424\\u041a\", \"marker\": {\"color\": \"#B6E880\"}, \"name\": \"\\u041a\\u0430\\u043d\\u0430\\u043b=\\u0424\\u041a\", \"offsetgroup\": \"\\u041a\\u0430\\u043d\\u0430\\u043b=\\u0424\\u041a\", \"orientation\": \"v\", \"showlegend\": true, \"text\": [80.0, 75.23, 93.34, 108.43, 125.81], \"textangle\": 0, \"textposition\": \"outside\", \"type\": \"bar\", \"x\": [1, 2, 3, 4, 5], \"xaxis\": \"x\", \"y\": [80.0, 75.23, 93.34, 108.43, 125.81], \"yaxis\": \"y\"}],\n",
              "                        {\"barmode\": \"group\", \"legend\": {\"tracegroupgap\": 0}, \"template\": {\"data\": {\"bar\": [{\"error_x\": {\"color\": \"#2a3f5f\"}, \"error_y\": {\"color\": \"#2a3f5f\"}, \"marker\": {\"line\": {\"color\": \"#E5ECF6\", \"width\": 0.5}}, \"type\": \"bar\"}], \"barpolar\": [{\"marker\": {\"line\": {\"color\": \"#E5ECF6\", \"width\": 0.5}}, \"type\": \"barpolar\"}], \"carpet\": [{\"aaxis\": {\"endlinecolor\": \"#2a3f5f\", \"gridcolor\": \"white\", \"linecolor\": \"white\", \"minorgridcolor\": \"white\", \"startlinecolor\": \"#2a3f5f\"}, \"baxis\": {\"endlinecolor\": \"#2a3f5f\", \"gridcolor\": \"white\", \"linecolor\": \"white\", \"minorgridcolor\": \"white\", \"startlinecolor\": \"#2a3f5f\"}, \"type\": \"carpet\"}], \"choropleth\": [{\"colorbar\": {\"outlinewidth\": 0, \"ticks\": \"\"}, \"type\": \"choropleth\"}], \"contour\": [{\"colorbar\": {\"outlinewidth\": 0, \"ticks\": \"\"}, \"colorscale\": [[0.0, \"#0d0887\"], [0.1111111111111111, \"#46039f\"], [0.2222222222222222, \"#7201a8\"], [0.3333333333333333, \"#9c179e\"], [0.4444444444444444, \"#bd3786\"], [0.5555555555555556, \"#d8576b\"], [0.6666666666666666, \"#ed7953\"], [0.7777777777777778, \"#fb9f3a\"], [0.8888888888888888, \"#fdca26\"], [1.0, \"#f0f921\"]], \"type\": \"contour\"}], \"contourcarpet\": [{\"colorbar\": {\"outlinewidth\": 0, \"ticks\": \"\"}, \"type\": \"contourcarpet\"}], \"heatmap\": [{\"colorbar\": {\"outlinewidth\": 0, \"ticks\": \"\"}, \"colorscale\": [[0.0, \"#0d0887\"], [0.1111111111111111, \"#46039f\"], [0.2222222222222222, \"#7201a8\"], [0.3333333333333333, \"#9c179e\"], [0.4444444444444444, \"#bd3786\"], [0.5555555555555556, \"#d8576b\"], [0.6666666666666666, \"#ed7953\"], [0.7777777777777778, \"#fb9f3a\"], [0.8888888888888888, \"#fdca26\"], [1.0, \"#f0f921\"]], \"type\": \"heatmap\"}], \"heatmapgl\": [{\"colorbar\": {\"outlinewidth\": 0, \"ticks\": \"\"}, \"colorscale\": [[0.0, \"#0d0887\"], [0.1111111111111111, \"#46039f\"], [0.2222222222222222, \"#7201a8\"], [0.3333333333333333, \"#9c179e\"], [0.4444444444444444, \"#bd3786\"], [0.5555555555555556, \"#d8576b\"], [0.6666666666666666, \"#ed7953\"], [0.7777777777777778, \"#fb9f3a\"], [0.8888888888888888, \"#fdca26\"], [1.0, \"#f0f921\"]], \"type\": \"heatmapgl\"}], \"histogram\": [{\"marker\": {\"colorbar\": {\"outlinewidth\": 0, \"ticks\": \"\"}}, \"type\": \"histogram\"}], \"histogram2d\": [{\"colorbar\": {\"outlinewidth\": 0, \"ticks\": \"\"}, \"colorscale\": [[0.0, \"#0d0887\"], [0.1111111111111111, \"#46039f\"], [0.2222222222222222, \"#7201a8\"], [0.3333333333333333, \"#9c179e\"], [0.4444444444444444, \"#bd3786\"], [0.5555555555555556, \"#d8576b\"], [0.6666666666666666, \"#ed7953\"], [0.7777777777777778, \"#fb9f3a\"], [0.8888888888888888, \"#fdca26\"], [1.0, \"#f0f921\"]], \"type\": \"histogram2d\"}], \"histogram2dcontour\": [{\"colorbar\": {\"outlinewidth\": 0, \"ticks\": \"\"}, \"colorscale\": [[0.0, \"#0d0887\"], [0.1111111111111111, \"#46039f\"], [0.2222222222222222, \"#7201a8\"], [0.3333333333333333, \"#9c179e\"], [0.4444444444444444, \"#bd3786\"], [0.5555555555555556, \"#d8576b\"], [0.6666666666666666, \"#ed7953\"], [0.7777777777777778, \"#fb9f3a\"], [0.8888888888888888, \"#fdca26\"], [1.0, \"#f0f921\"]], \"type\": \"histogram2dcontour\"}], \"mesh3d\": [{\"colorbar\": {\"outlinewidth\": 0, \"ticks\": \"\"}, \"type\": \"mesh3d\"}], \"parcoords\": [{\"line\": {\"colorbar\": {\"outlinewidth\": 0, \"ticks\": \"\"}}, \"type\": \"parcoords\"}], \"pie\": [{\"automargin\": true, \"type\": \"pie\"}], \"scatter\": [{\"marker\": {\"colorbar\": {\"outlinewidth\": 0, \"ticks\": \"\"}}, \"type\": \"scatter\"}], \"scatter3d\": [{\"line\": {\"colorbar\": {\"outlinewidth\": 0, \"ticks\": \"\"}}, \"marker\": {\"colorbar\": {\"outlinewidth\": 0, \"ticks\": \"\"}}, \"type\": \"scatter3d\"}], \"scattercarpet\": [{\"marker\": {\"colorbar\": {\"outlinewidth\": 0, \"ticks\": \"\"}}, \"type\": \"scattercarpet\"}], \"scattergeo\": [{\"marker\": {\"colorbar\": {\"outlinewidth\": 0, \"ticks\": \"\"}}, \"type\": \"scattergeo\"}], \"scattergl\": [{\"marker\": {\"colorbar\": {\"outlinewidth\": 0, \"ticks\": \"\"}}, \"type\": \"scattergl\"}], \"scattermapbox\": [{\"marker\": {\"colorbar\": {\"outlinewidth\": 0, \"ticks\": \"\"}}, \"type\": \"scattermapbox\"}], \"scatterpolar\": [{\"marker\": {\"colorbar\": {\"outlinewidth\": 0, \"ticks\": \"\"}}, \"type\": \"scatterpolar\"}], \"scatterpolargl\": [{\"marker\": {\"colorbar\": {\"outlinewidth\": 0, \"ticks\": \"\"}}, \"type\": \"scatterpolargl\"}], \"scatterternary\": [{\"marker\": {\"colorbar\": {\"outlinewidth\": 0, \"ticks\": \"\"}}, \"type\": \"scatterternary\"}], \"surface\": [{\"colorbar\": {\"outlinewidth\": 0, \"ticks\": \"\"}, \"colorscale\": [[0.0, \"#0d0887\"], [0.1111111111111111, \"#46039f\"], [0.2222222222222222, \"#7201a8\"], [0.3333333333333333, \"#9c179e\"], [0.4444444444444444, \"#bd3786\"], [0.5555555555555556, \"#d8576b\"], [0.6666666666666666, \"#ed7953\"], [0.7777777777777778, \"#fb9f3a\"], [0.8888888888888888, \"#fdca26\"], [1.0, \"#f0f921\"]], \"type\": \"surface\"}], \"table\": [{\"cells\": {\"fill\": {\"color\": \"#EBF0F8\"}, \"line\": {\"color\": \"white\"}}, \"header\": {\"fill\": {\"color\": \"#C8D4E3\"}, \"line\": {\"color\": \"white\"}}, \"type\": \"table\"}]}, \"layout\": {\"annotationdefaults\": {\"arrowcolor\": \"#2a3f5f\", \"arrowhead\": 0, \"arrowwidth\": 1}, \"coloraxis\": {\"colorbar\": {\"outlinewidth\": 0, \"ticks\": \"\"}}, \"colorscale\": {\"diverging\": [[0, \"#8e0152\"], [0.1, \"#c51b7d\"], [0.2, \"#de77ae\"], [0.3, \"#f1b6da\"], [0.4, \"#fde0ef\"], [0.5, \"#f7f7f7\"], [0.6, \"#e6f5d0\"], [0.7, \"#b8e186\"], [0.8, \"#7fbc41\"], [0.9, \"#4d9221\"], [1, \"#276419\"]], \"sequential\": [[0.0, \"#0d0887\"], [0.1111111111111111, \"#46039f\"], [0.2222222222222222, \"#7201a8\"], [0.3333333333333333, \"#9c179e\"], [0.4444444444444444, \"#bd3786\"], [0.5555555555555556, \"#d8576b\"], [0.6666666666666666, \"#ed7953\"], [0.7777777777777778, \"#fb9f3a\"], [0.8888888888888888, \"#fdca26\"], [1.0, \"#f0f921\"]], \"sequentialminus\": [[0.0, \"#0d0887\"], [0.1111111111111111, \"#46039f\"], [0.2222222222222222, \"#7201a8\"], [0.3333333333333333, \"#9c179e\"], [0.4444444444444444, \"#bd3786\"], [0.5555555555555556, \"#d8576b\"], [0.6666666666666666, \"#ed7953\"], [0.7777777777777778, \"#fb9f3a\"], [0.8888888888888888, \"#fdca26\"], [1.0, \"#f0f921\"]]}, \"colorway\": [\"#636efa\", \"#EF553B\", \"#00cc96\", \"#ab63fa\", \"#FFA15A\", \"#19d3f3\", \"#FF6692\", \"#B6E880\", \"#FF97FF\", \"#FECB52\"], \"font\": {\"color\": \"#2a3f5f\"}, \"geo\": {\"bgcolor\": \"white\", \"lakecolor\": \"white\", \"landcolor\": \"#E5ECF6\", \"showlakes\": true, \"showland\": true, \"subunitcolor\": \"white\"}, \"hoverlabel\": {\"align\": \"left\"}, \"hovermode\": \"closest\", \"mapbox\": {\"style\": \"light\"}, \"paper_bgcolor\": \"white\", \"plot_bgcolor\": \"#E5ECF6\", \"polar\": {\"angularaxis\": {\"gridcolor\": \"white\", \"linecolor\": \"white\", \"ticks\": \"\"}, \"bgcolor\": \"#E5ECF6\", \"radialaxis\": {\"gridcolor\": \"white\", \"linecolor\": \"white\", \"ticks\": \"\"}}, \"scene\": {\"xaxis\": {\"backgroundcolor\": \"#E5ECF6\", \"gridcolor\": \"white\", \"gridwidth\": 2, \"linecolor\": \"white\", \"showbackground\": true, \"ticks\": \"\", \"zerolinecolor\": \"white\"}, \"yaxis\": {\"backgroundcolor\": \"#E5ECF6\", \"gridcolor\": \"white\", \"gridwidth\": 2, \"linecolor\": \"white\", \"showbackground\": true, \"ticks\": \"\", \"zerolinecolor\": \"white\"}, \"zaxis\": {\"backgroundcolor\": \"#E5ECF6\", \"gridcolor\": \"white\", \"gridwidth\": 2, \"linecolor\": \"white\", \"showbackground\": true, \"ticks\": \"\", \"zerolinecolor\": \"white\"}}, \"shapedefaults\": {\"line\": {\"color\": \"#2a3f5f\"}}, \"ternary\": {\"aaxis\": {\"gridcolor\": \"white\", \"linecolor\": \"white\", \"ticks\": \"\"}, \"baxis\": {\"gridcolor\": \"white\", \"linecolor\": \"white\", \"ticks\": \"\"}, \"bgcolor\": \"#E5ECF6\", \"caxis\": {\"gridcolor\": \"white\", \"linecolor\": \"white\", \"ticks\": \"\"}}, \"title\": {\"x\": 0.05}, \"xaxis\": {\"automargin\": true, \"gridcolor\": \"white\", \"linecolor\": \"white\", \"ticks\": \"\", \"title\": {\"standoff\": 15}, \"zerolinecolor\": \"white\", \"zerolinewidth\": 2}, \"yaxis\": {\"automargin\": true, \"gridcolor\": \"white\", \"linecolor\": \"white\", \"ticks\": \"\", \"title\": {\"standoff\": 15}, \"zerolinecolor\": \"white\", \"zerolinewidth\": 2}}}, \"title\": {\"font\": {\"family\": \"Times New Roman\"}, \"text\": \"\\u0424\\u0430\\u043a\\u0442\\u0438\\u0447\\u0435\\u0441\\u043a\\u0438\\u0435 \\u043f\\u0440\\u043e\\u0434\\u0430\\u0436\\u0438 \\u043f\\u043e \\u043a\\u0430\\u043d\\u0430\\u043b\\u0430\\u043c \\u0438 \\u043f\\u043e \\u043c\\u0435\\u0441\\u044f\\u0446\\u0430\\u043c, \\u043c\\u043b\\u043d \\u0440\\u0443\\u0431\"}, \"xaxis\": {\"anchor\": \"y\", \"domain\": [0.0, 1.0], \"tickangle\": 0, \"title\": {\"text\": \"\\u041d\\u043e\\u043c\\u0435\\u0440 \\u041c\\u0435\\u0441\\u044f\\u0446\\u0430\"}}, \"yaxis\": {\"anchor\": \"x\", \"domain\": [0.0, 1.0], \"title\": {\"text\": \"\\u0424\\u0430\\u043a\\u0442 \\u0440\\u0443\\u0431\"}}},\n",
              "                        {\"responsive\": true}\n",
              "                    ).then(function(){\n",
              "                            \n",
              "var gd = document.getElementById('a4b0f19e-cbc2-4c44-9d1b-92bf19cd225a');\n",
              "var x = new MutationObserver(function (mutations, observer) {{\n",
              "        var display = window.getComputedStyle(gd).display;\n",
              "        if (!display || display === 'none') {{\n",
              "            console.log([gd, 'removed!']);\n",
              "            Plotly.purge(gd);\n",
              "            observer.disconnect();\n",
              "        }}\n",
              "}});\n",
              "\n",
              "// Listen for the removal of the full notebook cells\n",
              "var notebookContainer = gd.closest('#notebook-container');\n",
              "if (notebookContainer) {{\n",
              "    x.observe(notebookContainer, {childList: true});\n",
              "}}\n",
              "\n",
              "// Listen for the clearing of the current output cell\n",
              "var outputEl = gd.closest('.output');\n",
              "if (outputEl) {{\n",
              "    x.observe(outputEl, {childList: true});\n",
              "}}\n",
              "\n",
              "                        })\n",
              "                };\n",
              "                \n",
              "            </script>\n",
              "        </div>\n",
              "</body>\n",
              "</html>"
            ]
          },
          "metadata": {
            "tags": []
          }
        }
      ]
    },
    {
      "cell_type": "markdown",
      "metadata": {
        "id": "M3_G4zFddPqQ"
      },
      "source": [
        "Краткий вывод\n",
        "1. В январе было 2 явных лидера среди каналов сбыта: ФК и Дистрибьютор\n",
        "2. в остальных месяцах лидер уже Дистрибьютор"
      ]
    },
    {
      "cell_type": "code",
      "metadata": {
        "colab": {
          "base_uri": "https://localhost:8080/",
          "height": 542
        },
        "id": "Q711pUf6sIml",
        "outputId": "8daaea04-91b4-4770-b234-bbbeab7c2e0e"
      },
      "source": [
        "zz = df[df['Год'] == 2014].groupby(['Год','month','Канал']).agg({'Факт руб' : 'sum', 'План руб' : 'sum'}).reset_index()\n",
        "zz['Выполнение_плана'] = zz['Факт руб'] / zz['План руб'] -1\n",
        "zz['Выполнение_плана'] = zz['Выполнение_плана'].round(2)\n",
        "#zz\n",
        "\n",
        "# график\n",
        "fig = px.bar(zz, x='month', y='Выполнение_плана', color='Канал',\\\n",
        "            title='Выполнения плана по каналам в динамике по месяцам, млн руб',\\\n",
        "             text ='Выполнение_плана',\n",
        "             labels={'month' : 'Номер Месяца'}\n",
        "            )\n",
        "fig.update_layout(barmode='group', xaxis_tickangle=0, title_font_family=\"Times New Roman\")\n",
        "fig.update_traces( textposition='outside', textangle=0)\n",
        "fig.show()"
      ],
      "execution_count": null,
      "outputs": [
        {
          "output_type": "display_data",
          "data": {
            "text/html": [
              "<html>\n",
              "<head><meta charset=\"utf-8\" /></head>\n",
              "<body>\n",
              "    <div>\n",
              "            <script src=\"https://cdnjs.cloudflare.com/ajax/libs/mathjax/2.7.5/MathJax.js?config=TeX-AMS-MML_SVG\"></script><script type=\"text/javascript\">if (window.MathJax) {MathJax.Hub.Config({SVG: {font: \"STIX-Web\"}});}</script>\n",
              "                <script type=\"text/javascript\">window.PlotlyConfig = {MathJaxConfig: 'local'};</script>\n",
              "        <script src=\"https://cdn.plot.ly/plotly-latest.min.js\"></script>    \n",
              "            <div id=\"2cd3c1ee-9e9b-4c80-bbdb-609a547d0b7d\" class=\"plotly-graph-div\" style=\"height:525px; width:100%;\"></div>\n",
              "            <script type=\"text/javascript\">\n",
              "                \n",
              "                    window.PLOTLYENV=window.PLOTLYENV || {};\n",
              "                    \n",
              "                if (document.getElementById(\"2cd3c1ee-9e9b-4c80-bbdb-609a547d0b7d\")) {\n",
              "                    Plotly.newPlot(\n",
              "                        '2cd3c1ee-9e9b-4c80-bbdb-609a547d0b7d',\n",
              "                        [{\"alignmentgroup\": \"True\", \"hoverlabel\": {\"namelength\": 0}, \"hovertemplate\": \"\\u041a\\u0430\\u043d\\u0430\\u043b=HORECA<br>\\u041d\\u043e\\u043c\\u0435\\u0440 \\u041c\\u0435\\u0441\\u044f\\u0446\\u0430=%{x}<br>\\u0412\\u044b\\u043f\\u043e\\u043b\\u043d\\u0435\\u043d\\u0438\\u0435_\\u043f\\u043b\\u0430\\u043d\\u0430=%{text}\", \"legendgroup\": \"\\u041a\\u0430\\u043d\\u0430\\u043b=HORECA\", \"marker\": {\"color\": \"#636efa\"}, \"name\": \"\\u041a\\u0430\\u043d\\u0430\\u043b=HORECA\", \"offsetgroup\": \"\\u041a\\u0430\\u043d\\u0430\\u043b=HORECA\", \"orientation\": \"v\", \"showlegend\": true, \"text\": [-1.0, -1.0, -1.0, -1.0, null], \"textangle\": 0, \"textposition\": \"outside\", \"type\": \"bar\", \"x\": [1, 2, 3, 4, 5], \"xaxis\": \"x\", \"y\": [-1.0, -1.0, -1.0, -1.0, null], \"yaxis\": \"y\"}, {\"alignmentgroup\": \"True\", \"hoverlabel\": {\"namelength\": 0}, \"hovertemplate\": \"\\u041a\\u0430\\u043d\\u0430\\u043b=\\u0413\\u041e\\u0421\\u0417\\u0410\\u041a\\u0423\\u041f\\u041a\\u0418<br>\\u041d\\u043e\\u043c\\u0435\\u0440 \\u041c\\u0435\\u0441\\u044f\\u0446\\u0430=%{x}<br>\\u0412\\u044b\\u043f\\u043e\\u043b\\u043d\\u0435\\u043d\\u0438\\u0435_\\u043f\\u043b\\u0430\\u043d\\u0430=%{text}\", \"legendgroup\": \"\\u041a\\u0430\\u043d\\u0430\\u043b=\\u0413\\u041e\\u0421\\u0417\\u0410\\u041a\\u0423\\u041f\\u041a\\u0418\", \"marker\": {\"color\": \"#EF553B\"}, \"name\": \"\\u041a\\u0430\\u043d\\u0430\\u043b=\\u0413\\u041e\\u0421\\u0417\\u0410\\u041a\\u0423\\u041f\\u041a\\u0418\", \"offsetgroup\": \"\\u041a\\u0430\\u043d\\u0430\\u043b=\\u0413\\u041e\\u0421\\u0417\\u0410\\u041a\\u0423\\u041f\\u041a\\u0418\", \"orientation\": \"v\", \"showlegend\": true, \"text\": [-0.16, -0.06, 0.04, 0.3, 0.16], \"textangle\": 0, \"textposition\": \"outside\", \"type\": \"bar\", \"x\": [1, 2, 3, 4, 5], \"xaxis\": \"x\", \"y\": [-0.16, -0.06, 0.04, 0.3, 0.16], \"yaxis\": \"y\"}, {\"alignmentgroup\": \"True\", \"hoverlabel\": {\"namelength\": 0}, \"hovertemplate\": \"\\u041a\\u0430\\u043d\\u0430\\u043b=\\u0414\\u0418\\u0421\\u0422\\u0420\\u0418\\u0411\\u042c\\u042e\\u0422\\u041e\\u0420<br>\\u041d\\u043e\\u043c\\u0435\\u0440 \\u041c\\u0435\\u0441\\u044f\\u0446\\u0430=%{x}<br>\\u0412\\u044b\\u043f\\u043e\\u043b\\u043d\\u0435\\u043d\\u0438\\u0435_\\u043f\\u043b\\u0430\\u043d\\u0430=%{text}\", \"legendgroup\": \"\\u041a\\u0430\\u043d\\u0430\\u043b=\\u0414\\u0418\\u0421\\u0422\\u0420\\u0418\\u0411\\u042c\\u042e\\u0422\\u041e\\u0420\", \"marker\": {\"color\": \"#00cc96\"}, \"name\": \"\\u041a\\u0430\\u043d\\u0430\\u043b=\\u0414\\u0418\\u0421\\u0422\\u0420\\u0418\\u0411\\u042c\\u042e\\u0422\\u041e\\u0420\", \"offsetgroup\": \"\\u041a\\u0430\\u043d\\u0430\\u043b=\\u0414\\u0418\\u0421\\u0422\\u0420\\u0418\\u0411\\u042c\\u042e\\u0422\\u041e\\u0420\", \"orientation\": \"v\", \"showlegend\": true, \"text\": [-0.22, -0.08, -0.13, -0.15, -0.17], \"textangle\": 0, \"textposition\": \"outside\", \"type\": \"bar\", \"x\": [1, 2, 3, 4, 5], \"xaxis\": \"x\", \"y\": [-0.22, -0.08, -0.13, -0.15, -0.17], \"yaxis\": \"y\"}, {\"alignmentgroup\": \"True\", \"hoverlabel\": {\"namelength\": 0}, \"hovertemplate\": \"\\u041a\\u0430\\u043d\\u0430\\u043b=\\u041b\\u041a<br>\\u041d\\u043e\\u043c\\u0435\\u0440 \\u041c\\u0435\\u0441\\u044f\\u0446\\u0430=%{x}<br>\\u0412\\u044b\\u043f\\u043e\\u043b\\u043d\\u0435\\u043d\\u0438\\u0435_\\u043f\\u043b\\u0430\\u043d\\u0430=%{text}\", \"legendgroup\": \"\\u041a\\u0430\\u043d\\u0430\\u043b=\\u041b\\u041a\", \"marker\": {\"color\": \"#ab63fa\"}, \"name\": \"\\u041a\\u0430\\u043d\\u0430\\u043b=\\u041b\\u041a\", \"offsetgroup\": \"\\u041a\\u0430\\u043d\\u0430\\u043b=\\u041b\\u041a\", \"orientation\": \"v\", \"showlegend\": true, \"text\": [-0.18, -0.12, 0.08, 0.09, -0.12], \"textangle\": 0, \"textposition\": \"outside\", \"type\": \"bar\", \"x\": [1, 2, 3, 4, 5], \"xaxis\": \"x\", \"y\": [-0.18, -0.12, 0.08, 0.09, -0.12], \"yaxis\": \"y\"}, {\"alignmentgroup\": \"True\", \"hoverlabel\": {\"namelength\": 0}, \"hovertemplate\": \"\\u041a\\u0430\\u043d\\u0430\\u043b=\\u041f\\u0420\\u041e\\u0427\\u0415\\u0415<br>\\u041d\\u043e\\u043c\\u0435\\u0440 \\u041c\\u0435\\u0441\\u044f\\u0446\\u0430=%{x}<br>\\u0412\\u044b\\u043f\\u043e\\u043b\\u043d\\u0435\\u043d\\u0438\\u0435_\\u043f\\u043b\\u0430\\u043d\\u0430=%{text}\", \"legendgroup\": \"\\u041a\\u0430\\u043d\\u0430\\u043b=\\u041f\\u0420\\u041e\\u0427\\u0415\\u0415\", \"marker\": {\"color\": \"#FFA15A\"}, \"name\": \"\\u041a\\u0430\\u043d\\u0430\\u043b=\\u041f\\u0420\\u041e\\u0427\\u0415\\u0415\", \"offsetgroup\": \"\\u041a\\u0430\\u043d\\u0430\\u043b=\\u041f\\u0420\\u041e\\u0427\\u0415\\u0415\", \"orientation\": \"v\", \"showlegend\": true, \"text\": [null, null, null, null, null], \"textangle\": 0, \"textposition\": \"outside\", \"type\": \"bar\", \"x\": [1, 2, 3, 4, 5], \"xaxis\": \"x\", \"y\": [null, null, null, null, null], \"yaxis\": \"y\"}, {\"alignmentgroup\": \"True\", \"hoverlabel\": {\"namelength\": 0}, \"hovertemplate\": \"\\u041a\\u0430\\u043d\\u0430\\u043b=\\u0420\\u041e\\u0417\\u041d\\u0418\\u0426\\u0410<br>\\u041d\\u043e\\u043c\\u0435\\u0440 \\u041c\\u0435\\u0441\\u044f\\u0446\\u0430=%{x}<br>\\u0412\\u044b\\u043f\\u043e\\u043b\\u043d\\u0435\\u043d\\u0438\\u0435_\\u043f\\u043b\\u0430\\u043d\\u0430=%{text}\", \"legendgroup\": \"\\u041a\\u0430\\u043d\\u0430\\u043b=\\u0420\\u041e\\u0417\\u041d\\u0418\\u0426\\u0410\", \"marker\": {\"color\": \"#19d3f3\"}, \"name\": \"\\u041a\\u0430\\u043d\\u0430\\u043b=\\u0420\\u041e\\u0417\\u041d\\u0418\\u0426\\u0410\", \"offsetgroup\": \"\\u041a\\u0430\\u043d\\u0430\\u043b=\\u0420\\u041e\\u0417\\u041d\\u0418\\u0426\\u0410\", \"orientation\": \"v\", \"showlegend\": true, \"text\": [-0.12, -0.07, -0.52, -0.5, -0.42], \"textangle\": 0, \"textposition\": \"outside\", \"type\": \"bar\", \"x\": [1, 2, 3, 4, 5], \"xaxis\": \"x\", \"y\": [-0.12, -0.07, -0.52, -0.5, -0.42], \"yaxis\": \"y\"}, {\"alignmentgroup\": \"True\", \"hoverlabel\": {\"namelength\": 0}, \"hovertemplate\": \"\\u041a\\u0430\\u043d\\u0430\\u043b=\\u0424\\u0418\\u0417\\u041b\\u0418\\u0426\\u041e<br>\\u041d\\u043e\\u043c\\u0435\\u0440 \\u041c\\u0435\\u0441\\u044f\\u0446\\u0430=%{x}<br>\\u0412\\u044b\\u043f\\u043e\\u043b\\u043d\\u0435\\u043d\\u0438\\u0435_\\u043f\\u043b\\u0430\\u043d\\u0430=%{text}\", \"legendgroup\": \"\\u041a\\u0430\\u043d\\u0430\\u043b=\\u0424\\u0418\\u0417\\u041b\\u0418\\u0426\\u041e\", \"marker\": {\"color\": \"#FF6692\"}, \"name\": \"\\u041a\\u0430\\u043d\\u0430\\u043b=\\u0424\\u0418\\u0417\\u041b\\u0418\\u0426\\u041e\", \"offsetgroup\": \"\\u041a\\u0430\\u043d\\u0430\\u043b=\\u0424\\u0418\\u0417\\u041b\\u0418\\u0426\\u041e\", \"orientation\": \"v\", \"showlegend\": true, \"text\": [null, null, null, null, null], \"textangle\": 0, \"textposition\": \"outside\", \"type\": \"bar\", \"x\": [1, 2, 3, 4, 5], \"xaxis\": \"x\", \"y\": [null, null, null, null, null], \"yaxis\": \"y\"}, {\"alignmentgroup\": \"True\", \"hoverlabel\": {\"namelength\": 0}, \"hovertemplate\": \"\\u041a\\u0430\\u043d\\u0430\\u043b=\\u0424\\u041a<br>\\u041d\\u043e\\u043c\\u0435\\u0440 \\u041c\\u0435\\u0441\\u044f\\u0446\\u0430=%{x}<br>\\u0412\\u044b\\u043f\\u043e\\u043b\\u043d\\u0435\\u043d\\u0438\\u0435_\\u043f\\u043b\\u0430\\u043d\\u0430=%{text}\", \"legendgroup\": \"\\u041a\\u0430\\u043d\\u0430\\u043b=\\u0424\\u041a\", \"marker\": {\"color\": \"#B6E880\"}, \"name\": \"\\u041a\\u0430\\u043d\\u0430\\u043b=\\u0424\\u041a\", \"offsetgroup\": \"\\u041a\\u0430\\u043d\\u0430\\u043b=\\u0424\\u041a\", \"orientation\": \"v\", \"showlegend\": true, \"text\": [-0.02, -0.14, -0.05, 0.08, 0.16], \"textangle\": 0, \"textposition\": \"outside\", \"type\": \"bar\", \"x\": [1, 2, 3, 4, 5], \"xaxis\": \"x\", \"y\": [-0.02, -0.14, -0.05, 0.08, 0.16], \"yaxis\": \"y\"}],\n",
              "                        {\"barmode\": \"group\", \"legend\": {\"tracegroupgap\": 0}, \"template\": {\"data\": {\"bar\": [{\"error_x\": {\"color\": \"#2a3f5f\"}, \"error_y\": {\"color\": \"#2a3f5f\"}, \"marker\": {\"line\": {\"color\": \"#E5ECF6\", \"width\": 0.5}}, \"type\": \"bar\"}], \"barpolar\": [{\"marker\": {\"line\": {\"color\": \"#E5ECF6\", \"width\": 0.5}}, \"type\": \"barpolar\"}], \"carpet\": [{\"aaxis\": {\"endlinecolor\": \"#2a3f5f\", \"gridcolor\": \"white\", \"linecolor\": \"white\", \"minorgridcolor\": \"white\", \"startlinecolor\": \"#2a3f5f\"}, \"baxis\": {\"endlinecolor\": \"#2a3f5f\", \"gridcolor\": \"white\", \"linecolor\": \"white\", \"minorgridcolor\": \"white\", \"startlinecolor\": \"#2a3f5f\"}, \"type\": \"carpet\"}], \"choropleth\": [{\"colorbar\": {\"outlinewidth\": 0, \"ticks\": \"\"}, \"type\": \"choropleth\"}], \"contour\": [{\"colorbar\": {\"outlinewidth\": 0, \"ticks\": \"\"}, \"colorscale\": [[0.0, \"#0d0887\"], [0.1111111111111111, \"#46039f\"], [0.2222222222222222, \"#7201a8\"], [0.3333333333333333, \"#9c179e\"], [0.4444444444444444, \"#bd3786\"], [0.5555555555555556, \"#d8576b\"], [0.6666666666666666, \"#ed7953\"], [0.7777777777777778, \"#fb9f3a\"], [0.8888888888888888, \"#fdca26\"], [1.0, \"#f0f921\"]], \"type\": \"contour\"}], \"contourcarpet\": [{\"colorbar\": {\"outlinewidth\": 0, \"ticks\": \"\"}, \"type\": \"contourcarpet\"}], \"heatmap\": [{\"colorbar\": {\"outlinewidth\": 0, \"ticks\": \"\"}, \"colorscale\": [[0.0, \"#0d0887\"], [0.1111111111111111, \"#46039f\"], [0.2222222222222222, \"#7201a8\"], [0.3333333333333333, \"#9c179e\"], [0.4444444444444444, \"#bd3786\"], [0.5555555555555556, \"#d8576b\"], [0.6666666666666666, \"#ed7953\"], [0.7777777777777778, \"#fb9f3a\"], [0.8888888888888888, \"#fdca26\"], [1.0, \"#f0f921\"]], \"type\": \"heatmap\"}], \"heatmapgl\": [{\"colorbar\": {\"outlinewidth\": 0, \"ticks\": \"\"}, \"colorscale\": [[0.0, \"#0d0887\"], [0.1111111111111111, \"#46039f\"], [0.2222222222222222, \"#7201a8\"], [0.3333333333333333, \"#9c179e\"], [0.4444444444444444, \"#bd3786\"], [0.5555555555555556, \"#d8576b\"], [0.6666666666666666, \"#ed7953\"], [0.7777777777777778, \"#fb9f3a\"], [0.8888888888888888, \"#fdca26\"], [1.0, \"#f0f921\"]], \"type\": \"heatmapgl\"}], \"histogram\": [{\"marker\": {\"colorbar\": {\"outlinewidth\": 0, \"ticks\": \"\"}}, \"type\": \"histogram\"}], \"histogram2d\": [{\"colorbar\": {\"outlinewidth\": 0, \"ticks\": \"\"}, \"colorscale\": [[0.0, \"#0d0887\"], [0.1111111111111111, \"#46039f\"], [0.2222222222222222, \"#7201a8\"], [0.3333333333333333, \"#9c179e\"], [0.4444444444444444, \"#bd3786\"], [0.5555555555555556, \"#d8576b\"], [0.6666666666666666, \"#ed7953\"], [0.7777777777777778, \"#fb9f3a\"], [0.8888888888888888, \"#fdca26\"], [1.0, \"#f0f921\"]], \"type\": \"histogram2d\"}], \"histogram2dcontour\": [{\"colorbar\": {\"outlinewidth\": 0, \"ticks\": \"\"}, \"colorscale\": [[0.0, \"#0d0887\"], [0.1111111111111111, \"#46039f\"], [0.2222222222222222, \"#7201a8\"], [0.3333333333333333, \"#9c179e\"], [0.4444444444444444, \"#bd3786\"], [0.5555555555555556, \"#d8576b\"], [0.6666666666666666, \"#ed7953\"], [0.7777777777777778, \"#fb9f3a\"], [0.8888888888888888, \"#fdca26\"], [1.0, \"#f0f921\"]], \"type\": \"histogram2dcontour\"}], \"mesh3d\": [{\"colorbar\": {\"outlinewidth\": 0, \"ticks\": \"\"}, \"type\": \"mesh3d\"}], \"parcoords\": [{\"line\": {\"colorbar\": {\"outlinewidth\": 0, \"ticks\": \"\"}}, \"type\": \"parcoords\"}], \"pie\": [{\"automargin\": true, \"type\": \"pie\"}], \"scatter\": [{\"marker\": {\"colorbar\": {\"outlinewidth\": 0, \"ticks\": \"\"}}, \"type\": \"scatter\"}], \"scatter3d\": [{\"line\": {\"colorbar\": {\"outlinewidth\": 0, \"ticks\": \"\"}}, \"marker\": {\"colorbar\": {\"outlinewidth\": 0, \"ticks\": \"\"}}, \"type\": \"scatter3d\"}], \"scattercarpet\": [{\"marker\": {\"colorbar\": {\"outlinewidth\": 0, \"ticks\": \"\"}}, \"type\": \"scattercarpet\"}], \"scattergeo\": [{\"marker\": {\"colorbar\": {\"outlinewidth\": 0, \"ticks\": \"\"}}, \"type\": \"scattergeo\"}], \"scattergl\": [{\"marker\": {\"colorbar\": {\"outlinewidth\": 0, \"ticks\": \"\"}}, \"type\": \"scattergl\"}], \"scattermapbox\": [{\"marker\": {\"colorbar\": {\"outlinewidth\": 0, \"ticks\": \"\"}}, \"type\": \"scattermapbox\"}], \"scatterpolar\": [{\"marker\": {\"colorbar\": {\"outlinewidth\": 0, \"ticks\": \"\"}}, \"type\": \"scatterpolar\"}], \"scatterpolargl\": [{\"marker\": {\"colorbar\": {\"outlinewidth\": 0, \"ticks\": \"\"}}, \"type\": \"scatterpolargl\"}], \"scatterternary\": [{\"marker\": {\"colorbar\": {\"outlinewidth\": 0, \"ticks\": \"\"}}, \"type\": \"scatterternary\"}], \"surface\": [{\"colorbar\": {\"outlinewidth\": 0, \"ticks\": \"\"}, \"colorscale\": [[0.0, \"#0d0887\"], [0.1111111111111111, \"#46039f\"], [0.2222222222222222, \"#7201a8\"], [0.3333333333333333, \"#9c179e\"], [0.4444444444444444, \"#bd3786\"], [0.5555555555555556, \"#d8576b\"], [0.6666666666666666, \"#ed7953\"], [0.7777777777777778, \"#fb9f3a\"], [0.8888888888888888, \"#fdca26\"], [1.0, \"#f0f921\"]], \"type\": \"surface\"}], \"table\": [{\"cells\": {\"fill\": {\"color\": \"#EBF0F8\"}, \"line\": {\"color\": \"white\"}}, \"header\": {\"fill\": {\"color\": \"#C8D4E3\"}, \"line\": {\"color\": \"white\"}}, \"type\": \"table\"}]}, \"layout\": {\"annotationdefaults\": {\"arrowcolor\": \"#2a3f5f\", \"arrowhead\": 0, \"arrowwidth\": 1}, \"coloraxis\": {\"colorbar\": {\"outlinewidth\": 0, \"ticks\": \"\"}}, \"colorscale\": {\"diverging\": [[0, \"#8e0152\"], [0.1, \"#c51b7d\"], [0.2, \"#de77ae\"], [0.3, \"#f1b6da\"], [0.4, \"#fde0ef\"], [0.5, \"#f7f7f7\"], [0.6, \"#e6f5d0\"], [0.7, \"#b8e186\"], [0.8, \"#7fbc41\"], [0.9, \"#4d9221\"], [1, \"#276419\"]], \"sequential\": [[0.0, \"#0d0887\"], [0.1111111111111111, \"#46039f\"], [0.2222222222222222, \"#7201a8\"], [0.3333333333333333, \"#9c179e\"], [0.4444444444444444, \"#bd3786\"], [0.5555555555555556, \"#d8576b\"], [0.6666666666666666, \"#ed7953\"], [0.7777777777777778, \"#fb9f3a\"], [0.8888888888888888, \"#fdca26\"], [1.0, \"#f0f921\"]], \"sequentialminus\": [[0.0, \"#0d0887\"], [0.1111111111111111, \"#46039f\"], [0.2222222222222222, \"#7201a8\"], [0.3333333333333333, \"#9c179e\"], [0.4444444444444444, \"#bd3786\"], [0.5555555555555556, \"#d8576b\"], [0.6666666666666666, \"#ed7953\"], [0.7777777777777778, \"#fb9f3a\"], [0.8888888888888888, \"#fdca26\"], [1.0, \"#f0f921\"]]}, \"colorway\": [\"#636efa\", \"#EF553B\", \"#00cc96\", \"#ab63fa\", \"#FFA15A\", \"#19d3f3\", \"#FF6692\", \"#B6E880\", \"#FF97FF\", \"#FECB52\"], \"font\": {\"color\": \"#2a3f5f\"}, \"geo\": {\"bgcolor\": \"white\", \"lakecolor\": \"white\", \"landcolor\": \"#E5ECF6\", \"showlakes\": true, \"showland\": true, \"subunitcolor\": \"white\"}, \"hoverlabel\": {\"align\": \"left\"}, \"hovermode\": \"closest\", \"mapbox\": {\"style\": \"light\"}, \"paper_bgcolor\": \"white\", \"plot_bgcolor\": \"#E5ECF6\", \"polar\": {\"angularaxis\": {\"gridcolor\": \"white\", \"linecolor\": \"white\", \"ticks\": \"\"}, \"bgcolor\": \"#E5ECF6\", \"radialaxis\": {\"gridcolor\": \"white\", \"linecolor\": \"white\", \"ticks\": \"\"}}, \"scene\": {\"xaxis\": {\"backgroundcolor\": \"#E5ECF6\", \"gridcolor\": \"white\", \"gridwidth\": 2, \"linecolor\": \"white\", \"showbackground\": true, \"ticks\": \"\", \"zerolinecolor\": \"white\"}, \"yaxis\": {\"backgroundcolor\": \"#E5ECF6\", \"gridcolor\": \"white\", \"gridwidth\": 2, \"linecolor\": \"white\", \"showbackground\": true, \"ticks\": \"\", \"zerolinecolor\": \"white\"}, \"zaxis\": {\"backgroundcolor\": \"#E5ECF6\", \"gridcolor\": \"white\", \"gridwidth\": 2, \"linecolor\": \"white\", \"showbackground\": true, \"ticks\": \"\", \"zerolinecolor\": \"white\"}}, \"shapedefaults\": {\"line\": {\"color\": \"#2a3f5f\"}}, \"ternary\": {\"aaxis\": {\"gridcolor\": \"white\", \"linecolor\": \"white\", \"ticks\": \"\"}, \"baxis\": {\"gridcolor\": \"white\", \"linecolor\": \"white\", \"ticks\": \"\"}, \"bgcolor\": \"#E5ECF6\", \"caxis\": {\"gridcolor\": \"white\", \"linecolor\": \"white\", \"ticks\": \"\"}}, \"title\": {\"x\": 0.05}, \"xaxis\": {\"automargin\": true, \"gridcolor\": \"white\", \"linecolor\": \"white\", \"ticks\": \"\", \"title\": {\"standoff\": 15}, \"zerolinecolor\": \"white\", \"zerolinewidth\": 2}, \"yaxis\": {\"automargin\": true, \"gridcolor\": \"white\", \"linecolor\": \"white\", \"ticks\": \"\", \"title\": {\"standoff\": 15}, \"zerolinecolor\": \"white\", \"zerolinewidth\": 2}}}, \"title\": {\"font\": {\"family\": \"Times New Roman\"}, \"text\": \"\\u0412\\u044b\\u043f\\u043e\\u043b\\u043d\\u0435\\u043d\\u0438\\u044f \\u043f\\u043b\\u0430\\u043d\\u0430 \\u043f\\u043e \\u043a\\u0430\\u043d\\u0430\\u043b\\u0430\\u043c \\u0432 \\u0434\\u0438\\u043d\\u0430\\u043c\\u0438\\u043a\\u0435 \\u043f\\u043e \\u043c\\u0435\\u0441\\u044f\\u0446\\u0430\\u043c, \\u043c\\u043b\\u043d \\u0440\\u0443\\u0431\"}, \"xaxis\": {\"anchor\": \"y\", \"domain\": [0.0, 1.0], \"tickangle\": 0, \"title\": {\"text\": \"\\u041d\\u043e\\u043c\\u0435\\u0440 \\u041c\\u0435\\u0441\\u044f\\u0446\\u0430\"}}, \"yaxis\": {\"anchor\": \"x\", \"domain\": [0.0, 1.0], \"title\": {\"text\": \"\\u0412\\u044b\\u043f\\u043e\\u043b\\u043d\\u0435\\u043d\\u0438\\u0435_\\u043f\\u043b\\u0430\\u043d\\u0430\"}}},\n",
              "                        {\"responsive\": true}\n",
              "                    ).then(function(){\n",
              "                            \n",
              "var gd = document.getElementById('2cd3c1ee-9e9b-4c80-bbdb-609a547d0b7d');\n",
              "var x = new MutationObserver(function (mutations, observer) {{\n",
              "        var display = window.getComputedStyle(gd).display;\n",
              "        if (!display || display === 'none') {{\n",
              "            console.log([gd, 'removed!']);\n",
              "            Plotly.purge(gd);\n",
              "            observer.disconnect();\n",
              "        }}\n",
              "}});\n",
              "\n",
              "// Listen for the removal of the full notebook cells\n",
              "var notebookContainer = gd.closest('#notebook-container');\n",
              "if (notebookContainer) {{\n",
              "    x.observe(notebookContainer, {childList: true});\n",
              "}}\n",
              "\n",
              "// Listen for the clearing of the current output cell\n",
              "var outputEl = gd.closest('.output');\n",
              "if (outputEl) {{\n",
              "    x.observe(outputEl, {childList: true});\n",
              "}}\n",
              "\n",
              "                        })\n",
              "                };\n",
              "                \n",
              "            </script>\n",
              "        </div>\n",
              "</body>\n",
              "</html>"
            ]
          },
          "metadata": {
            "tags": []
          }
        }
      ]
    },
    {
      "cell_type": "markdown",
      "metadata": {
        "id": "ajPqYFw4diTI"
      },
      "source": [
        "Краткой вывод\n",
        "1. Фактически выполнение идет по каналам Физлицо, ФК и ЛК "
      ]
    },
    {
      "cell_type": "code",
      "metadata": {
        "id": "g7ZH0kGux69c"
      },
      "source": [
        "z2 = df[df['Год'] == 2013].groupby(['Год', 'month','Канал']).agg({'Факт руб' : 'sum'}).reset_index()\n",
        "\n",
        "\n",
        "r1 = z.merge(z2, on=['month', 'Канал'], how='outer')\n",
        "#z.head()\n",
        "#z2.head()\n",
        "r1['Прирост'] = r1['Факт руб_x'] / r1['Факт руб_y'] -1\n",
        "r1['Прирост'] = r1['Прирост'].round(2)\n",
        "#r1"
      ],
      "execution_count": null,
      "outputs": []
    },
    {
      "cell_type": "code",
      "metadata": {
        "colab": {
          "base_uri": "https://localhost:8080/",
          "height": 542
        },
        "id": "yPhF7eCa3g8f",
        "outputId": "5aa1afec-686b-4fc0-83ab-8eb3e5280784"
      },
      "source": [
        "fig = px.bar(r1.sort_values(by=['month', 'Прирост']), x='month', y='Прирост', color='Канал',\\\n",
        "            title='Прирост продаж к прошлому году по каналам в динамике по месяцам',\\\n",
        "             text ='Прирост',\n",
        "             labels={'month' : 'Номер Месяца'}\n",
        "            )\n",
        "fig.update_layout(barmode='group', xaxis_tickangle=0, title_font_family=\"Times New Roman\")\n",
        "fig.update_traces( textposition='outside', textangle=0)\n",
        "fig.show()"
      ],
      "execution_count": null,
      "outputs": [
        {
          "output_type": "display_data",
          "data": {
            "text/html": [
              "<html>\n",
              "<head><meta charset=\"utf-8\" /></head>\n",
              "<body>\n",
              "    <div>\n",
              "            <script src=\"https://cdnjs.cloudflare.com/ajax/libs/mathjax/2.7.5/MathJax.js?config=TeX-AMS-MML_SVG\"></script><script type=\"text/javascript\">if (window.MathJax) {MathJax.Hub.Config({SVG: {font: \"STIX-Web\"}});}</script>\n",
              "                <script type=\"text/javascript\">window.PlotlyConfig = {MathJaxConfig: 'local'};</script>\n",
              "        <script src=\"https://cdn.plot.ly/plotly-latest.min.js\"></script>    \n",
              "            <div id=\"ae86d768-197e-4add-a8d8-cbfec95db81d\" class=\"plotly-graph-div\" style=\"height:525px; width:100%;\"></div>\n",
              "            <script type=\"text/javascript\">\n",
              "                \n",
              "                    window.PLOTLYENV=window.PLOTLYENV || {};\n",
              "                    \n",
              "                if (document.getElementById(\"ae86d768-197e-4add-a8d8-cbfec95db81d\")) {\n",
              "                    Plotly.newPlot(\n",
              "                        'ae86d768-197e-4add-a8d8-cbfec95db81d',\n",
              "                        [{\"alignmentgroup\": \"True\", \"hoverlabel\": {\"namelength\": 0}, \"hovertemplate\": \"\\u041a\\u0430\\u043d\\u0430\\u043b=HORECA<br>\\u041d\\u043e\\u043c\\u0435\\u0440 \\u041c\\u0435\\u0441\\u044f\\u0446\\u0430=%{x}<br>\\u041f\\u0440\\u0438\\u0440\\u043e\\u0441\\u0442=%{text}\", \"legendgroup\": \"\\u041a\\u0430\\u043d\\u0430\\u043b=HORECA\", \"marker\": {\"color\": \"#636efa\"}, \"name\": \"\\u041a\\u0430\\u043d\\u0430\\u043b=HORECA\", \"offsetgroup\": \"\\u041a\\u0430\\u043d\\u0430\\u043b=HORECA\", \"orientation\": \"v\", \"showlegend\": true, \"text\": [-1.0, -1.0, -1.0, -1.0, 27.36], \"textangle\": 0, \"textposition\": \"outside\", \"type\": \"bar\", \"x\": [1, 2, 3, 4, 5], \"xaxis\": \"x\", \"y\": [-1.0, -1.0, -1.0, -1.0, 27.36], \"yaxis\": \"y\"}, {\"alignmentgroup\": \"True\", \"hoverlabel\": {\"namelength\": 0}, \"hovertemplate\": \"\\u041a\\u0430\\u043d\\u0430\\u043b=\\u0420\\u041e\\u0417\\u041d\\u0418\\u0426\\u0410<br>\\u041d\\u043e\\u043c\\u0435\\u0440 \\u041c\\u0435\\u0441\\u044f\\u0446\\u0430=%{x}<br>\\u041f\\u0440\\u0438\\u0440\\u043e\\u0441\\u0442=%{text}\", \"legendgroup\": \"\\u041a\\u0430\\u043d\\u0430\\u043b=\\u0420\\u041e\\u0417\\u041d\\u0418\\u0426\\u0410\", \"marker\": {\"color\": \"#EF553B\"}, \"name\": \"\\u041a\\u0430\\u043d\\u0430\\u043b=\\u0420\\u041e\\u0417\\u041d\\u0418\\u0426\\u0410\", \"offsetgroup\": \"\\u041a\\u0430\\u043d\\u0430\\u043b=\\u0420\\u041e\\u0417\\u041d\\u0418\\u0426\\u0410\", \"orientation\": \"v\", \"showlegend\": true, \"text\": [-0.94, -0.95, -0.97, -0.96, -0.97], \"textangle\": 0, \"textposition\": \"outside\", \"type\": \"bar\", \"x\": [1, 2, 3, 4, 5], \"xaxis\": \"x\", \"y\": [-0.94, -0.95, -0.97, -0.96, -0.97], \"yaxis\": \"y\"}, {\"alignmentgroup\": \"True\", \"hoverlabel\": {\"namelength\": 0}, \"hovertemplate\": \"\\u041a\\u0430\\u043d\\u0430\\u043b=\\u0413\\u041e\\u0421\\u0417\\u0410\\u041a\\u0423\\u041f\\u041a\\u0418<br>\\u041d\\u043e\\u043c\\u0435\\u0440 \\u041c\\u0435\\u0441\\u044f\\u0446\\u0430=%{x}<br>\\u041f\\u0440\\u0438\\u0440\\u043e\\u0441\\u0442=%{text}\", \"legendgroup\": \"\\u041a\\u0430\\u043d\\u0430\\u043b=\\u0413\\u041e\\u0421\\u0417\\u0410\\u041a\\u0423\\u041f\\u041a\\u0418\", \"marker\": {\"color\": \"#00cc96\"}, \"name\": \"\\u041a\\u0430\\u043d\\u0430\\u043b=\\u0413\\u041e\\u0421\\u0417\\u0410\\u041a\\u0423\\u041f\\u041a\\u0418\", \"offsetgroup\": \"\\u041a\\u0430\\u043d\\u0430\\u043b=\\u0413\\u041e\\u0421\\u0417\\u0410\\u041a\\u0423\\u041f\\u041a\\u0418\", \"orientation\": \"v\", \"showlegend\": true, \"text\": [-0.81, -0.78, -0.71, -0.71, -0.67], \"textangle\": 0, \"textposition\": \"outside\", \"type\": \"bar\", \"x\": [1, 2, 3, 4, 5], \"xaxis\": \"x\", \"y\": [-0.81, -0.78, -0.71, -0.71, -0.67], \"yaxis\": \"y\"}, {\"alignmentgroup\": \"True\", \"hoverlabel\": {\"namelength\": 0}, \"hovertemplate\": \"\\u041a\\u0430\\u043d\\u0430\\u043b=\\u0414\\u0418\\u0421\\u0422\\u0420\\u0418\\u0411\\u042c\\u042e\\u0422\\u041e\\u0420<br>\\u041d\\u043e\\u043c\\u0435\\u0440 \\u041c\\u0435\\u0441\\u044f\\u0446\\u0430=%{x}<br>\\u041f\\u0440\\u0438\\u0440\\u043e\\u0441\\u0442=%{text}\", \"legendgroup\": \"\\u041a\\u0430\\u043d\\u0430\\u043b=\\u0414\\u0418\\u0421\\u0422\\u0420\\u0418\\u0411\\u042c\\u042e\\u0422\\u041e\\u0420\", \"marker\": {\"color\": \"#ab63fa\"}, \"name\": \"\\u041a\\u0430\\u043d\\u0430\\u043b=\\u0414\\u0418\\u0421\\u0422\\u0420\\u0418\\u0411\\u042c\\u042e\\u0422\\u041e\\u0420\", \"offsetgroup\": \"\\u041a\\u0430\\u043d\\u0430\\u043b=\\u0414\\u0418\\u0421\\u0422\\u0420\\u0418\\u0411\\u042c\\u042e\\u0422\\u041e\\u0420\", \"orientation\": \"v\", \"showlegend\": true, \"text\": [-0.12, 0.05, 0.04, 0.02, -0.06], \"textangle\": 0, \"textposition\": \"outside\", \"type\": \"bar\", \"x\": [1, 2, 3, 4, 5], \"xaxis\": \"x\", \"y\": [-0.12, 0.05, 0.04, 0.02, -0.06], \"yaxis\": \"y\"}, {\"alignmentgroup\": \"True\", \"hoverlabel\": {\"namelength\": 0}, \"hovertemplate\": \"\\u041a\\u0430\\u043d\\u0430\\u043b=\\u0424\\u041a<br>\\u041d\\u043e\\u043c\\u0435\\u0440 \\u041c\\u0435\\u0441\\u044f\\u0446\\u0430=%{x}<br>\\u041f\\u0440\\u0438\\u0440\\u043e\\u0441\\u0442=%{text}\", \"legendgroup\": \"\\u041a\\u0430\\u043d\\u0430\\u043b=\\u0424\\u041a\", \"marker\": {\"color\": \"#FFA15A\"}, \"name\": \"\\u041a\\u0430\\u043d\\u0430\\u043b=\\u0424\\u041a\", \"offsetgroup\": \"\\u041a\\u0430\\u043d\\u0430\\u043b=\\u0424\\u041a\", \"orientation\": \"v\", \"showlegend\": true, \"text\": [0.1, 0.19, 0.19, 0.05, 0.13], \"textangle\": 0, \"textposition\": \"outside\", \"type\": \"bar\", \"x\": [1, 2, 3, 4, 5], \"xaxis\": \"x\", \"y\": [0.1, 0.19, 0.19, 0.05, 0.13], \"yaxis\": \"y\"}, {\"alignmentgroup\": \"True\", \"hoverlabel\": {\"namelength\": 0}, \"hovertemplate\": \"\\u041a\\u0430\\u043d\\u0430\\u043b=\\u041b\\u041a<br>\\u041d\\u043e\\u043c\\u0435\\u0440 \\u041c\\u0435\\u0441\\u044f\\u0446\\u0430=%{x}<br>\\u041f\\u0440\\u0438\\u0440\\u043e\\u0441\\u0442=%{text}\", \"legendgroup\": \"\\u041a\\u0430\\u043d\\u0430\\u043b=\\u041b\\u041a\", \"marker\": {\"color\": \"#19d3f3\"}, \"name\": \"\\u041a\\u0430\\u043d\\u0430\\u043b=\\u041b\\u041a\", \"offsetgroup\": \"\\u041a\\u0430\\u043d\\u0430\\u043b=\\u041b\\u041a\", \"orientation\": \"v\", \"showlegend\": true, \"text\": [0.2, 0.5, 0.77, 0.83, 0.21], \"textangle\": 0, \"textposition\": \"outside\", \"type\": \"bar\", \"x\": [1, 2, 3, 4, 5], \"xaxis\": \"x\", \"y\": [0.2, 0.5, 0.77, 0.83, 0.21], \"yaxis\": \"y\"}, {\"alignmentgroup\": \"True\", \"hoverlabel\": {\"namelength\": 0}, \"hovertemplate\": \"\\u041a\\u0430\\u043d\\u0430\\u043b=\\u0424\\u0418\\u0417\\u041b\\u0418\\u0426\\u041e<br>\\u041d\\u043e\\u043c\\u0435\\u0440 \\u041c\\u0435\\u0441\\u044f\\u0446\\u0430=%{x}<br>\\u041f\\u0440\\u0438\\u0440\\u043e\\u0441\\u0442=%{text}\", \"legendgroup\": \"\\u041a\\u0430\\u043d\\u0430\\u043b=\\u0424\\u0418\\u0417\\u041b\\u0418\\u0426\\u041e\", \"marker\": {\"color\": \"#FF6692\"}, \"name\": \"\\u041a\\u0430\\u043d\\u0430\\u043b=\\u0424\\u0418\\u0417\\u041b\\u0418\\u0426\\u041e\", \"offsetgroup\": \"\\u041a\\u0430\\u043d\\u0430\\u043b=\\u0424\\u0418\\u0417\\u041b\\u0418\\u0426\\u041e\", \"orientation\": \"v\", \"showlegend\": true, \"text\": [1.56, 1.33, 2.13, 3.37, 3.93], \"textangle\": 0, \"textposition\": \"outside\", \"type\": \"bar\", \"x\": [1, 2, 3, 4, 5], \"xaxis\": \"x\", \"y\": [1.56, 1.33, 2.13, 3.37, 3.93], \"yaxis\": \"y\"}, {\"alignmentgroup\": \"True\", \"hoverlabel\": {\"namelength\": 0}, \"hovertemplate\": \"\\u041a\\u0430\\u043d\\u0430\\u043b=\\u041f\\u0420\\u041e\\u0427\\u0415\\u0415<br>\\u041d\\u043e\\u043c\\u0435\\u0440 \\u041c\\u0435\\u0441\\u044f\\u0446\\u0430=%{x}<br>\\u041f\\u0440\\u0438\\u0440\\u043e\\u0441\\u0442=%{text}\", \"legendgroup\": \"\\u041a\\u0430\\u043d\\u0430\\u043b=\\u041f\\u0420\\u041e\\u0427\\u0415\\u0415\", \"marker\": {\"color\": \"#B6E880\"}, \"name\": \"\\u041a\\u0430\\u043d\\u0430\\u043b=\\u041f\\u0420\\u041e\\u0427\\u0415\\u0415\", \"offsetgroup\": \"\\u041a\\u0430\\u043d\\u0430\\u043b=\\u041f\\u0420\\u041e\\u0427\\u0415\\u0415\", \"orientation\": \"v\", \"showlegend\": true, \"text\": [null, -1.0, -1.0, -1.0, -1.0], \"textangle\": 0, \"textposition\": \"outside\", \"type\": \"bar\", \"x\": [1, 2, 3, 4, 5], \"xaxis\": \"x\", \"y\": [null, -1.0, -1.0, -1.0, -1.0], \"yaxis\": \"y\"}],\n",
              "                        {\"barmode\": \"group\", \"legend\": {\"tracegroupgap\": 0}, \"template\": {\"data\": {\"bar\": [{\"error_x\": {\"color\": \"#2a3f5f\"}, \"error_y\": {\"color\": \"#2a3f5f\"}, \"marker\": {\"line\": {\"color\": \"#E5ECF6\", \"width\": 0.5}}, \"type\": \"bar\"}], \"barpolar\": [{\"marker\": {\"line\": {\"color\": \"#E5ECF6\", \"width\": 0.5}}, \"type\": \"barpolar\"}], \"carpet\": [{\"aaxis\": {\"endlinecolor\": \"#2a3f5f\", \"gridcolor\": \"white\", \"linecolor\": \"white\", \"minorgridcolor\": \"white\", \"startlinecolor\": \"#2a3f5f\"}, \"baxis\": {\"endlinecolor\": \"#2a3f5f\", \"gridcolor\": \"white\", \"linecolor\": \"white\", \"minorgridcolor\": \"white\", \"startlinecolor\": \"#2a3f5f\"}, \"type\": \"carpet\"}], \"choropleth\": [{\"colorbar\": {\"outlinewidth\": 0, \"ticks\": \"\"}, \"type\": \"choropleth\"}], \"contour\": [{\"colorbar\": {\"outlinewidth\": 0, \"ticks\": \"\"}, \"colorscale\": [[0.0, \"#0d0887\"], [0.1111111111111111, \"#46039f\"], [0.2222222222222222, \"#7201a8\"], [0.3333333333333333, \"#9c179e\"], [0.4444444444444444, \"#bd3786\"], [0.5555555555555556, \"#d8576b\"], [0.6666666666666666, \"#ed7953\"], [0.7777777777777778, \"#fb9f3a\"], [0.8888888888888888, \"#fdca26\"], [1.0, \"#f0f921\"]], \"type\": \"contour\"}], \"contourcarpet\": [{\"colorbar\": {\"outlinewidth\": 0, \"ticks\": \"\"}, \"type\": \"contourcarpet\"}], \"heatmap\": [{\"colorbar\": {\"outlinewidth\": 0, \"ticks\": \"\"}, \"colorscale\": [[0.0, \"#0d0887\"], [0.1111111111111111, \"#46039f\"], [0.2222222222222222, \"#7201a8\"], [0.3333333333333333, \"#9c179e\"], [0.4444444444444444, \"#bd3786\"], [0.5555555555555556, \"#d8576b\"], [0.6666666666666666, \"#ed7953\"], [0.7777777777777778, \"#fb9f3a\"], [0.8888888888888888, \"#fdca26\"], [1.0, \"#f0f921\"]], \"type\": \"heatmap\"}], \"heatmapgl\": [{\"colorbar\": {\"outlinewidth\": 0, \"ticks\": \"\"}, \"colorscale\": [[0.0, \"#0d0887\"], [0.1111111111111111, \"#46039f\"], [0.2222222222222222, \"#7201a8\"], [0.3333333333333333, \"#9c179e\"], [0.4444444444444444, \"#bd3786\"], [0.5555555555555556, \"#d8576b\"], [0.6666666666666666, \"#ed7953\"], [0.7777777777777778, \"#fb9f3a\"], [0.8888888888888888, \"#fdca26\"], [1.0, \"#f0f921\"]], \"type\": \"heatmapgl\"}], \"histogram\": [{\"marker\": {\"colorbar\": {\"outlinewidth\": 0, \"ticks\": \"\"}}, \"type\": \"histogram\"}], \"histogram2d\": [{\"colorbar\": {\"outlinewidth\": 0, \"ticks\": \"\"}, \"colorscale\": [[0.0, \"#0d0887\"], [0.1111111111111111, \"#46039f\"], [0.2222222222222222, \"#7201a8\"], [0.3333333333333333, \"#9c179e\"], [0.4444444444444444, \"#bd3786\"], [0.5555555555555556, \"#d8576b\"], [0.6666666666666666, \"#ed7953\"], [0.7777777777777778, \"#fb9f3a\"], [0.8888888888888888, \"#fdca26\"], [1.0, \"#f0f921\"]], \"type\": \"histogram2d\"}], \"histogram2dcontour\": [{\"colorbar\": {\"outlinewidth\": 0, \"ticks\": \"\"}, \"colorscale\": [[0.0, \"#0d0887\"], [0.1111111111111111, \"#46039f\"], [0.2222222222222222, \"#7201a8\"], [0.3333333333333333, \"#9c179e\"], [0.4444444444444444, \"#bd3786\"], [0.5555555555555556, \"#d8576b\"], [0.6666666666666666, \"#ed7953\"], [0.7777777777777778, \"#fb9f3a\"], [0.8888888888888888, \"#fdca26\"], [1.0, \"#f0f921\"]], \"type\": \"histogram2dcontour\"}], \"mesh3d\": [{\"colorbar\": {\"outlinewidth\": 0, \"ticks\": \"\"}, \"type\": \"mesh3d\"}], \"parcoords\": [{\"line\": {\"colorbar\": {\"outlinewidth\": 0, \"ticks\": \"\"}}, \"type\": \"parcoords\"}], \"pie\": [{\"automargin\": true, \"type\": \"pie\"}], \"scatter\": [{\"marker\": {\"colorbar\": {\"outlinewidth\": 0, \"ticks\": \"\"}}, \"type\": \"scatter\"}], \"scatter3d\": [{\"line\": {\"colorbar\": {\"outlinewidth\": 0, \"ticks\": \"\"}}, \"marker\": {\"colorbar\": {\"outlinewidth\": 0, \"ticks\": \"\"}}, \"type\": \"scatter3d\"}], \"scattercarpet\": [{\"marker\": {\"colorbar\": {\"outlinewidth\": 0, \"ticks\": \"\"}}, \"type\": \"scattercarpet\"}], \"scattergeo\": [{\"marker\": {\"colorbar\": {\"outlinewidth\": 0, \"ticks\": \"\"}}, \"type\": \"scattergeo\"}], \"scattergl\": [{\"marker\": {\"colorbar\": {\"outlinewidth\": 0, \"ticks\": \"\"}}, \"type\": \"scattergl\"}], \"scattermapbox\": [{\"marker\": {\"colorbar\": {\"outlinewidth\": 0, \"ticks\": \"\"}}, \"type\": \"scattermapbox\"}], \"scatterpolar\": [{\"marker\": {\"colorbar\": {\"outlinewidth\": 0, \"ticks\": \"\"}}, \"type\": \"scatterpolar\"}], \"scatterpolargl\": [{\"marker\": {\"colorbar\": {\"outlinewidth\": 0, \"ticks\": \"\"}}, \"type\": \"scatterpolargl\"}], \"scatterternary\": [{\"marker\": {\"colorbar\": {\"outlinewidth\": 0, \"ticks\": \"\"}}, \"type\": \"scatterternary\"}], \"surface\": [{\"colorbar\": {\"outlinewidth\": 0, \"ticks\": \"\"}, \"colorscale\": [[0.0, \"#0d0887\"], [0.1111111111111111, \"#46039f\"], [0.2222222222222222, \"#7201a8\"], [0.3333333333333333, \"#9c179e\"], [0.4444444444444444, \"#bd3786\"], [0.5555555555555556, \"#d8576b\"], [0.6666666666666666, \"#ed7953\"], [0.7777777777777778, \"#fb9f3a\"], [0.8888888888888888, \"#fdca26\"], [1.0, \"#f0f921\"]], \"type\": \"surface\"}], \"table\": [{\"cells\": {\"fill\": {\"color\": \"#EBF0F8\"}, \"line\": {\"color\": \"white\"}}, \"header\": {\"fill\": {\"color\": \"#C8D4E3\"}, \"line\": {\"color\": \"white\"}}, \"type\": \"table\"}]}, \"layout\": {\"annotationdefaults\": {\"arrowcolor\": \"#2a3f5f\", \"arrowhead\": 0, \"arrowwidth\": 1}, \"coloraxis\": {\"colorbar\": {\"outlinewidth\": 0, \"ticks\": \"\"}}, \"colorscale\": {\"diverging\": [[0, \"#8e0152\"], [0.1, \"#c51b7d\"], [0.2, \"#de77ae\"], [0.3, \"#f1b6da\"], [0.4, \"#fde0ef\"], [0.5, \"#f7f7f7\"], [0.6, \"#e6f5d0\"], [0.7, \"#b8e186\"], [0.8, \"#7fbc41\"], [0.9, \"#4d9221\"], [1, \"#276419\"]], \"sequential\": [[0.0, \"#0d0887\"], [0.1111111111111111, \"#46039f\"], [0.2222222222222222, \"#7201a8\"], [0.3333333333333333, \"#9c179e\"], [0.4444444444444444, \"#bd3786\"], [0.5555555555555556, \"#d8576b\"], [0.6666666666666666, \"#ed7953\"], [0.7777777777777778, \"#fb9f3a\"], [0.8888888888888888, \"#fdca26\"], [1.0, \"#f0f921\"]], \"sequentialminus\": [[0.0, \"#0d0887\"], [0.1111111111111111, \"#46039f\"], [0.2222222222222222, \"#7201a8\"], [0.3333333333333333, \"#9c179e\"], [0.4444444444444444, \"#bd3786\"], [0.5555555555555556, \"#d8576b\"], [0.6666666666666666, \"#ed7953\"], [0.7777777777777778, \"#fb9f3a\"], [0.8888888888888888, \"#fdca26\"], [1.0, \"#f0f921\"]]}, \"colorway\": [\"#636efa\", \"#EF553B\", \"#00cc96\", \"#ab63fa\", \"#FFA15A\", \"#19d3f3\", \"#FF6692\", \"#B6E880\", \"#FF97FF\", \"#FECB52\"], \"font\": {\"color\": \"#2a3f5f\"}, \"geo\": {\"bgcolor\": \"white\", \"lakecolor\": \"white\", \"landcolor\": \"#E5ECF6\", \"showlakes\": true, \"showland\": true, \"subunitcolor\": \"white\"}, \"hoverlabel\": {\"align\": \"left\"}, \"hovermode\": \"closest\", \"mapbox\": {\"style\": \"light\"}, \"paper_bgcolor\": \"white\", \"plot_bgcolor\": \"#E5ECF6\", \"polar\": {\"angularaxis\": {\"gridcolor\": \"white\", \"linecolor\": \"white\", \"ticks\": \"\"}, \"bgcolor\": \"#E5ECF6\", \"radialaxis\": {\"gridcolor\": \"white\", \"linecolor\": \"white\", \"ticks\": \"\"}}, \"scene\": {\"xaxis\": {\"backgroundcolor\": \"#E5ECF6\", \"gridcolor\": \"white\", \"gridwidth\": 2, \"linecolor\": \"white\", \"showbackground\": true, \"ticks\": \"\", \"zerolinecolor\": \"white\"}, \"yaxis\": {\"backgroundcolor\": \"#E5ECF6\", \"gridcolor\": \"white\", \"gridwidth\": 2, \"linecolor\": \"white\", \"showbackground\": true, \"ticks\": \"\", \"zerolinecolor\": \"white\"}, \"zaxis\": {\"backgroundcolor\": \"#E5ECF6\", \"gridcolor\": \"white\", \"gridwidth\": 2, \"linecolor\": \"white\", \"showbackground\": true, \"ticks\": \"\", \"zerolinecolor\": \"white\"}}, \"shapedefaults\": {\"line\": {\"color\": \"#2a3f5f\"}}, \"ternary\": {\"aaxis\": {\"gridcolor\": \"white\", \"linecolor\": \"white\", \"ticks\": \"\"}, \"baxis\": {\"gridcolor\": \"white\", \"linecolor\": \"white\", \"ticks\": \"\"}, \"bgcolor\": \"#E5ECF6\", \"caxis\": {\"gridcolor\": \"white\", \"linecolor\": \"white\", \"ticks\": \"\"}}, \"title\": {\"x\": 0.05}, \"xaxis\": {\"automargin\": true, \"gridcolor\": \"white\", \"linecolor\": \"white\", \"ticks\": \"\", \"title\": {\"standoff\": 15}, \"zerolinecolor\": \"white\", \"zerolinewidth\": 2}, \"yaxis\": {\"automargin\": true, \"gridcolor\": \"white\", \"linecolor\": \"white\", \"ticks\": \"\", \"title\": {\"standoff\": 15}, \"zerolinecolor\": \"white\", \"zerolinewidth\": 2}}}, \"title\": {\"font\": {\"family\": \"Times New Roman\"}, \"text\": \"\\u041f\\u0440\\u0438\\u0440\\u043e\\u0441\\u0442 \\u043f\\u0440\\u043e\\u0434\\u0430\\u0436 \\u043a \\u043f\\u0440\\u043e\\u0448\\u043b\\u043e\\u043c\\u0443 \\u0433\\u043e\\u0434\\u0443 \\u043f\\u043e \\u043a\\u0430\\u043d\\u0430\\u043b\\u0430\\u043c \\u0432 \\u0434\\u0438\\u043d\\u0430\\u043c\\u0438\\u043a\\u0435 \\u043f\\u043e \\u043c\\u0435\\u0441\\u044f\\u0446\\u0430\\u043c\"}, \"xaxis\": {\"anchor\": \"y\", \"domain\": [0.0, 1.0], \"tickangle\": 0, \"title\": {\"text\": \"\\u041d\\u043e\\u043c\\u0435\\u0440 \\u041c\\u0435\\u0441\\u044f\\u0446\\u0430\"}}, \"yaxis\": {\"anchor\": \"x\", \"domain\": [0.0, 1.0], \"title\": {\"text\": \"\\u041f\\u0440\\u0438\\u0440\\u043e\\u0441\\u0442\"}}},\n",
              "                        {\"responsive\": true}\n",
              "                    ).then(function(){\n",
              "                            \n",
              "var gd = document.getElementById('ae86d768-197e-4add-a8d8-cbfec95db81d');\n",
              "var x = new MutationObserver(function (mutations, observer) {{\n",
              "        var display = window.getComputedStyle(gd).display;\n",
              "        if (!display || display === 'none') {{\n",
              "            console.log([gd, 'removed!']);\n",
              "            Plotly.purge(gd);\n",
              "            observer.disconnect();\n",
              "        }}\n",
              "}});\n",
              "\n",
              "// Listen for the removal of the full notebook cells\n",
              "var notebookContainer = gd.closest('#notebook-container');\n",
              "if (notebookContainer) {{\n",
              "    x.observe(notebookContainer, {childList: true});\n",
              "}}\n",
              "\n",
              "// Listen for the clearing of the current output cell\n",
              "var outputEl = gd.closest('.output');\n",
              "if (outputEl) {{\n",
              "    x.observe(outputEl, {childList: true});\n",
              "}}\n",
              "\n",
              "                        })\n",
              "                };\n",
              "                \n",
              "            </script>\n",
              "        </div>\n",
              "</body>\n",
              "</html>"
            ]
          },
          "metadata": {
            "tags": []
          }
        }
      ]
    },
    {
      "cell_type": "markdown",
      "metadata": {
        "id": "zUoRzNzJd-o4"
      },
      "source": [
        "Краткий вывод\n",
        "1. Сильный прирост идет по каналу Физлицо, ЛК и Horeca в мае 2014"
      ]
    },
    {
      "cell_type": "markdown",
      "metadata": {
        "id": "mlLWGe7U4F5j"
      },
      "source": [
        "Вопрос №2"
      ]
    },
    {
      "cell_type": "code",
      "metadata": {
        "id": "acNrZZ4L6DsD"
      },
      "source": [
        "x = df.loc[df['Год'] == 2014, ['month','Канал', 'Факт руб']]\n",
        "xx = x.groupby(['month', 'Канал']).sum().groupby('Канал').cumsum().reset_index()\n",
        "xx['Факт руб_'] = xx['Факт руб'].round(2)"
      ],
      "execution_count": null,
      "outputs": []
    },
    {
      "cell_type": "code",
      "metadata": {
        "colab": {
          "base_uri": "https://localhost:8080/",
          "height": 542
        },
        "id": "Bl4mZbJp7dVy",
        "outputId": "2acf583d-6417-43f8-c9d0-ffc08da1ffa9"
      },
      "source": [
        "fig = px.bar(xx.sort_values(by=['month','Факт руб']), x='month', y='Факт руб', color='Канал',\\\n",
        "            title='Накопительные фактические продажи по каналам и по месяцам, млн руб',\\\n",
        "             text ='Факт руб_',\n",
        "             labels={'month' : 'Номер Месяца'}\n",
        "            )\n",
        "fig.update_layout(barmode='stack', xaxis_tickangle=0, title_font_family=\"Times New Roman\")\n",
        "fig.update_traces( textposition='outside', textangle=0)\n",
        "fig.show()"
      ],
      "execution_count": null,
      "outputs": [
        {
          "output_type": "display_data",
          "data": {
            "text/html": [
              "<html>\n",
              "<head><meta charset=\"utf-8\" /></head>\n",
              "<body>\n",
              "    <div>\n",
              "            <script src=\"https://cdnjs.cloudflare.com/ajax/libs/mathjax/2.7.5/MathJax.js?config=TeX-AMS-MML_SVG\"></script><script type=\"text/javascript\">if (window.MathJax) {MathJax.Hub.Config({SVG: {font: \"STIX-Web\"}});}</script>\n",
              "                <script type=\"text/javascript\">window.PlotlyConfig = {MathJaxConfig: 'local'};</script>\n",
              "        <script src=\"https://cdn.plot.ly/plotly-latest.min.js\"></script>    \n",
              "            <div id=\"102f4a48-b0b1-440d-a7e4-f174db93f1af\" class=\"plotly-graph-div\" style=\"height:525px; width:100%;\"></div>\n",
              "            <script type=\"text/javascript\">\n",
              "                \n",
              "                    window.PLOTLYENV=window.PLOTLYENV || {};\n",
              "                    \n",
              "                if (document.getElementById(\"102f4a48-b0b1-440d-a7e4-f174db93f1af\")) {\n",
              "                    Plotly.newPlot(\n",
              "                        '102f4a48-b0b1-440d-a7e4-f174db93f1af',\n",
              "                        [{\"alignmentgroup\": \"True\", \"hoverlabel\": {\"namelength\": 0}, \"hovertemplate\": \"\\u041a\\u0430\\u043d\\u0430\\u043b=HORECA<br>\\u041d\\u043e\\u043c\\u0435\\u0440 \\u041c\\u0435\\u0441\\u044f\\u0446\\u0430=%{x}<br>\\u0424\\u0430\\u043a\\u0442 \\u0440\\u0443\\u0431=%{y}<br>\\u0424\\u0430\\u043a\\u0442 \\u0440\\u0443\\u0431_=%{text}\", \"legendgroup\": \"\\u041a\\u0430\\u043d\\u0430\\u043b=HORECA\", \"marker\": {\"color\": \"#636efa\"}, \"name\": \"\\u041a\\u0430\\u043d\\u0430\\u043b=HORECA\", \"offsetgroup\": \"\\u041a\\u0430\\u043d\\u0430\\u043b=HORECA\", \"orientation\": \"v\", \"showlegend\": true, \"text\": [0.0, 0.0, 0.0, 0.0, 0.31], \"textangle\": 0, \"textposition\": \"outside\", \"type\": \"bar\", \"x\": [1, 2, 3, 4, 5], \"xaxis\": \"x\", \"y\": [0.0, 0.0, 0.0, 0.0, 0.31246409999999997], \"yaxis\": \"y\"}, {\"alignmentgroup\": \"True\", \"hoverlabel\": {\"namelength\": 0}, \"hovertemplate\": \"\\u041a\\u0430\\u043d\\u0430\\u043b=\\u041f\\u0420\\u041e\\u0427\\u0415\\u0415<br>\\u041d\\u043e\\u043c\\u0435\\u0440 \\u041c\\u0435\\u0441\\u044f\\u0446\\u0430=%{x}<br>\\u0424\\u0430\\u043a\\u0442 \\u0440\\u0443\\u0431=%{y}<br>\\u0424\\u0430\\u043a\\u0442 \\u0440\\u0443\\u0431_=%{text}\", \"legendgroup\": \"\\u041a\\u0430\\u043d\\u0430\\u043b=\\u041f\\u0420\\u041e\\u0427\\u0415\\u0415\", \"marker\": {\"color\": \"#EF553B\"}, \"name\": \"\\u041a\\u0430\\u043d\\u0430\\u043b=\\u041f\\u0420\\u041e\\u0427\\u0415\\u0415\", \"offsetgroup\": \"\\u041a\\u0430\\u043d\\u0430\\u043b=\\u041f\\u0420\\u041e\\u0427\\u0415\\u0415\", \"orientation\": \"v\", \"showlegend\": true, \"text\": [0.0, 0.0, 0.01, 0.01, 0.01], \"textangle\": 0, \"textposition\": \"outside\", \"type\": \"bar\", \"x\": [1, 2, 3, 4, 5], \"xaxis\": \"x\", \"y\": [0.00098847, 0.0035842300000000003, 0.006283820000000001, 0.00794511, 0.01027718], \"yaxis\": \"y\"}, {\"alignmentgroup\": \"True\", \"hoverlabel\": {\"namelength\": 0}, \"hovertemplate\": \"\\u041a\\u0430\\u043d\\u0430\\u043b=\\u0424\\u0418\\u0417\\u041b\\u0418\\u0426\\u041e<br>\\u041d\\u043e\\u043c\\u0435\\u0440 \\u041c\\u0435\\u0441\\u044f\\u0446\\u0430=%{x}<br>\\u0424\\u0430\\u043a\\u0442 \\u0440\\u0443\\u0431=%{y}<br>\\u0424\\u0430\\u043a\\u0442 \\u0440\\u0443\\u0431_=%{text}\", \"legendgroup\": \"\\u041a\\u0430\\u043d\\u0430\\u043b=\\u0424\\u0418\\u0417\\u041b\\u0418\\u0426\\u041e\", \"marker\": {\"color\": \"#00cc96\"}, \"name\": \"\\u041a\\u0430\\u043d\\u0430\\u043b=\\u0424\\u0418\\u0417\\u041b\\u0418\\u0426\\u041e\", \"offsetgroup\": \"\\u041a\\u0430\\u043d\\u0430\\u043b=\\u0424\\u0418\\u0417\\u041b\\u0418\\u0426\\u041e\", \"orientation\": \"v\", \"showlegend\": true, \"text\": [0.01, 0.02, 0.04, 0.06, 0.09], \"textangle\": 0, \"textposition\": \"outside\", \"type\": \"bar\", \"x\": [1, 2, 3, 4, 5], \"xaxis\": \"x\", \"y\": [0.00720262, 0.022794460000000002, 0.03847834, 0.06336846, 0.08796752999999999], \"yaxis\": \"y\"}, {\"alignmentgroup\": \"True\", \"hoverlabel\": {\"namelength\": 0}, \"hovertemplate\": \"\\u041a\\u0430\\u043d\\u0430\\u043b=\\u0420\\u041e\\u0417\\u041d\\u0418\\u0426\\u0410<br>\\u041d\\u043e\\u043c\\u0435\\u0440 \\u041c\\u0435\\u0441\\u044f\\u0446\\u0430=%{x}<br>\\u0424\\u0430\\u043a\\u0442 \\u0440\\u0443\\u0431=%{y}<br>\\u0424\\u0430\\u043a\\u0442 \\u0440\\u0443\\u0431_=%{text}\", \"legendgroup\": \"\\u041a\\u0430\\u043d\\u0430\\u043b=\\u0420\\u041e\\u0417\\u041d\\u0418\\u0426\\u0410\", \"marker\": {\"color\": \"#ab63fa\"}, \"name\": \"\\u041a\\u0430\\u043d\\u0430\\u043b=\\u0420\\u041e\\u0417\\u041d\\u0418\\u0426\\u0410\", \"offsetgroup\": \"\\u041a\\u0430\\u043d\\u0430\\u043b=\\u0420\\u041e\\u0417\\u041d\\u0418\\u0426\\u0410\", \"orientation\": \"v\", \"showlegend\": true, \"text\": [0.03, 0.07, 0.09, 0.11, 0.13], \"textangle\": 0, \"textposition\": \"outside\", \"type\": \"bar\", \"x\": [1, 2, 3, 4, 5], \"xaxis\": \"x\", \"y\": [0.03058524, 0.06541346, 0.08582796000000001, 0.11138455000000001, 0.13135617000000002], \"yaxis\": \"y\"}, {\"alignmentgroup\": \"True\", \"hoverlabel\": {\"namelength\": 0}, \"hovertemplate\": \"\\u041a\\u0430\\u043d\\u0430\\u043b=\\u0413\\u041e\\u0421\\u0417\\u0410\\u041a\\u0423\\u041f\\u041a\\u0418<br>\\u041d\\u043e\\u043c\\u0435\\u0440 \\u041c\\u0435\\u0441\\u044f\\u0446\\u0430=%{x}<br>\\u0424\\u0430\\u043a\\u0442 \\u0440\\u0443\\u0431=%{y}<br>\\u0424\\u0430\\u043a\\u0442 \\u0440\\u0443\\u0431_=%{text}\", \"legendgroup\": \"\\u041a\\u0430\\u043d\\u0430\\u043b=\\u0413\\u041e\\u0421\\u0417\\u0410\\u041a\\u0423\\u041f\\u041a\\u0418\", \"marker\": {\"color\": \"#FFA15A\"}, \"name\": \"\\u041a\\u0430\\u043d\\u0430\\u043b=\\u0413\\u041e\\u0421\\u0417\\u0410\\u041a\\u0423\\u041f\\u041a\\u0418\", \"offsetgroup\": \"\\u041a\\u0430\\u043d\\u0430\\u043b=\\u0413\\u041e\\u0421\\u0417\\u0410\\u041a\\u0423\\u041f\\u041a\\u0418\", \"orientation\": \"v\", \"showlegend\": true, \"text\": [3.38, 6.81, 11.45, 17.15, 22.33], \"textangle\": 0, \"textposition\": \"outside\", \"type\": \"bar\", \"x\": [1, 2, 3, 4, 5], \"xaxis\": \"x\", \"y\": [3.37585631, 6.812198260000001, 11.45402717, 17.15037715, 22.32553001], \"yaxis\": \"y\"}, {\"alignmentgroup\": \"True\", \"hoverlabel\": {\"namelength\": 0}, \"hovertemplate\": \"\\u041a\\u0430\\u043d\\u0430\\u043b=\\u041b\\u041a<br>\\u041d\\u043e\\u043c\\u0435\\u0440 \\u041c\\u0435\\u0441\\u044f\\u0446\\u0430=%{x}<br>\\u0424\\u0430\\u043a\\u0442 \\u0440\\u0443\\u0431=%{y}<br>\\u0424\\u0430\\u043a\\u0442 \\u0440\\u0443\\u0431_=%{text}\", \"legendgroup\": \"\\u041a\\u0430\\u043d\\u0430\\u043b=\\u041b\\u041a\", \"marker\": {\"color\": \"#19d3f3\"}, \"name\": \"\\u041a\\u0430\\u043d\\u0430\\u043b=\\u041b\\u041a\", \"offsetgroup\": \"\\u041a\\u0430\\u043d\\u0430\\u043b=\\u041b\\u041a\", \"orientation\": \"v\", \"showlegend\": true, \"text\": [11.78, 27.6, 52.9, 78.97, 103.24], \"textangle\": 0, \"textposition\": \"outside\", \"type\": \"bar\", \"x\": [1, 2, 3, 4, 5], \"xaxis\": \"x\", \"y\": [11.776932739999998, 27.604092899999998, 52.90493969, 78.97130788, 103.23699442], \"yaxis\": \"y\"}, {\"alignmentgroup\": \"True\", \"hoverlabel\": {\"namelength\": 0}, \"hovertemplate\": \"\\u041a\\u0430\\u043d\\u0430\\u043b=\\u0414\\u0418\\u0421\\u0422\\u0420\\u0418\\u0411\\u042c\\u042e\\u0422\\u041e\\u0420<br>\\u041d\\u043e\\u043c\\u0435\\u0440 \\u041c\\u0435\\u0441\\u044f\\u0446\\u0430=%{x}<br>\\u0424\\u0430\\u043a\\u0442 \\u0440\\u0443\\u0431=%{y}<br>\\u0424\\u0430\\u043a\\u0442 \\u0440\\u0443\\u0431_=%{text}\", \"legendgroup\": \"\\u041a\\u0430\\u043d\\u0430\\u043b=\\u0414\\u0418\\u0421\\u0422\\u0420\\u0418\\u0411\\u042c\\u042e\\u0422\\u041e\\u0420\", \"marker\": {\"color\": \"#FF6692\"}, \"name\": \"\\u041a\\u0430\\u043d\\u0430\\u043b=\\u0414\\u0418\\u0421\\u0422\\u0420\\u0418\\u0411\\u042c\\u042e\\u0422\\u041e\\u0420\", \"offsetgroup\": \"\\u041a\\u0430\\u043d\\u0430\\u043b=\\u0414\\u0418\\u0421\\u0422\\u0420\\u0418\\u0411\\u042c\\u042e\\u0422\\u041e\\u0420\", \"orientation\": \"v\", \"showlegend\": true, \"text\": [73.71, 183.26, 305.58, 451.82, 619.29], \"textangle\": 0, \"textposition\": \"outside\", \"type\": \"bar\", \"x\": [1, 2, 3, 4, 5], \"xaxis\": \"x\", \"y\": [73.70770230375302, 183.26256781505703, 305.5783524173831, 451.8168861552921, 619.2854503268321], \"yaxis\": \"y\"}, {\"alignmentgroup\": \"True\", \"hoverlabel\": {\"namelength\": 0}, \"hovertemplate\": \"\\u041a\\u0430\\u043d\\u0430\\u043b=\\u0424\\u041a<br>\\u041d\\u043e\\u043c\\u0435\\u0440 \\u041c\\u0435\\u0441\\u044f\\u0446\\u0430=%{x}<br>\\u0424\\u0430\\u043a\\u0442 \\u0440\\u0443\\u0431=%{y}<br>\\u0424\\u0430\\u043a\\u0442 \\u0440\\u0443\\u0431_=%{text}\", \"legendgroup\": \"\\u041a\\u0430\\u043d\\u0430\\u043b=\\u0424\\u041a\", \"marker\": {\"color\": \"#B6E880\"}, \"name\": \"\\u041a\\u0430\\u043d\\u0430\\u043b=\\u0424\\u041a\", \"offsetgroup\": \"\\u041a\\u0430\\u043d\\u0430\\u043b=\\u0424\\u041a\", \"orientation\": \"v\", \"showlegend\": true, \"text\": [80.0, 155.23, 248.56, 356.99, 482.81], \"textangle\": 0, \"textposition\": \"outside\", \"type\": \"bar\", \"x\": [1, 2, 3, 4, 5], \"xaxis\": \"x\", \"y\": [79.99705386000007, 155.2250839100001, 248.56378680000014, 356.99216443000023, 482.8060259100003], \"yaxis\": \"y\"}],\n",
              "                        {\"barmode\": \"stack\", \"legend\": {\"tracegroupgap\": 0}, \"template\": {\"data\": {\"bar\": [{\"error_x\": {\"color\": \"#2a3f5f\"}, \"error_y\": {\"color\": \"#2a3f5f\"}, \"marker\": {\"line\": {\"color\": \"#E5ECF6\", \"width\": 0.5}}, \"type\": \"bar\"}], \"barpolar\": [{\"marker\": {\"line\": {\"color\": \"#E5ECF6\", \"width\": 0.5}}, \"type\": \"barpolar\"}], \"carpet\": [{\"aaxis\": {\"endlinecolor\": \"#2a3f5f\", \"gridcolor\": \"white\", \"linecolor\": \"white\", \"minorgridcolor\": \"white\", \"startlinecolor\": \"#2a3f5f\"}, \"baxis\": {\"endlinecolor\": \"#2a3f5f\", \"gridcolor\": \"white\", \"linecolor\": \"white\", \"minorgridcolor\": \"white\", \"startlinecolor\": \"#2a3f5f\"}, \"type\": \"carpet\"}], \"choropleth\": [{\"colorbar\": {\"outlinewidth\": 0, \"ticks\": \"\"}, \"type\": \"choropleth\"}], \"contour\": [{\"colorbar\": {\"outlinewidth\": 0, \"ticks\": \"\"}, \"colorscale\": [[0.0, \"#0d0887\"], [0.1111111111111111, \"#46039f\"], [0.2222222222222222, \"#7201a8\"], [0.3333333333333333, \"#9c179e\"], [0.4444444444444444, \"#bd3786\"], [0.5555555555555556, \"#d8576b\"], [0.6666666666666666, \"#ed7953\"], [0.7777777777777778, \"#fb9f3a\"], [0.8888888888888888, \"#fdca26\"], [1.0, \"#f0f921\"]], \"type\": \"contour\"}], \"contourcarpet\": [{\"colorbar\": {\"outlinewidth\": 0, \"ticks\": \"\"}, \"type\": \"contourcarpet\"}], \"heatmap\": [{\"colorbar\": {\"outlinewidth\": 0, \"ticks\": \"\"}, \"colorscale\": [[0.0, \"#0d0887\"], [0.1111111111111111, \"#46039f\"], [0.2222222222222222, \"#7201a8\"], [0.3333333333333333, \"#9c179e\"], [0.4444444444444444, \"#bd3786\"], [0.5555555555555556, \"#d8576b\"], [0.6666666666666666, \"#ed7953\"], [0.7777777777777778, \"#fb9f3a\"], [0.8888888888888888, \"#fdca26\"], [1.0, \"#f0f921\"]], \"type\": \"heatmap\"}], \"heatmapgl\": [{\"colorbar\": {\"outlinewidth\": 0, \"ticks\": \"\"}, \"colorscale\": [[0.0, \"#0d0887\"], [0.1111111111111111, \"#46039f\"], [0.2222222222222222, \"#7201a8\"], [0.3333333333333333, \"#9c179e\"], [0.4444444444444444, \"#bd3786\"], [0.5555555555555556, \"#d8576b\"], [0.6666666666666666, \"#ed7953\"], [0.7777777777777778, \"#fb9f3a\"], [0.8888888888888888, \"#fdca26\"], [1.0, \"#f0f921\"]], \"type\": \"heatmapgl\"}], \"histogram\": [{\"marker\": {\"colorbar\": {\"outlinewidth\": 0, \"ticks\": \"\"}}, \"type\": \"histogram\"}], \"histogram2d\": [{\"colorbar\": {\"outlinewidth\": 0, \"ticks\": \"\"}, \"colorscale\": [[0.0, \"#0d0887\"], [0.1111111111111111, \"#46039f\"], [0.2222222222222222, \"#7201a8\"], [0.3333333333333333, \"#9c179e\"], [0.4444444444444444, \"#bd3786\"], [0.5555555555555556, \"#d8576b\"], [0.6666666666666666, \"#ed7953\"], [0.7777777777777778, \"#fb9f3a\"], [0.8888888888888888, \"#fdca26\"], [1.0, \"#f0f921\"]], \"type\": \"histogram2d\"}], \"histogram2dcontour\": [{\"colorbar\": {\"outlinewidth\": 0, \"ticks\": \"\"}, \"colorscale\": [[0.0, \"#0d0887\"], [0.1111111111111111, \"#46039f\"], [0.2222222222222222, \"#7201a8\"], [0.3333333333333333, \"#9c179e\"], [0.4444444444444444, \"#bd3786\"], [0.5555555555555556, \"#d8576b\"], [0.6666666666666666, \"#ed7953\"], [0.7777777777777778, \"#fb9f3a\"], [0.8888888888888888, \"#fdca26\"], [1.0, \"#f0f921\"]], \"type\": \"histogram2dcontour\"}], \"mesh3d\": [{\"colorbar\": {\"outlinewidth\": 0, \"ticks\": \"\"}, \"type\": \"mesh3d\"}], \"parcoords\": [{\"line\": {\"colorbar\": {\"outlinewidth\": 0, \"ticks\": \"\"}}, \"type\": \"parcoords\"}], \"pie\": [{\"automargin\": true, \"type\": \"pie\"}], \"scatter\": [{\"marker\": {\"colorbar\": {\"outlinewidth\": 0, \"ticks\": \"\"}}, \"type\": \"scatter\"}], \"scatter3d\": [{\"line\": {\"colorbar\": {\"outlinewidth\": 0, \"ticks\": \"\"}}, \"marker\": {\"colorbar\": {\"outlinewidth\": 0, \"ticks\": \"\"}}, \"type\": \"scatter3d\"}], \"scattercarpet\": [{\"marker\": {\"colorbar\": {\"outlinewidth\": 0, \"ticks\": \"\"}}, \"type\": \"scattercarpet\"}], \"scattergeo\": [{\"marker\": {\"colorbar\": {\"outlinewidth\": 0, \"ticks\": \"\"}}, \"type\": \"scattergeo\"}], \"scattergl\": [{\"marker\": {\"colorbar\": {\"outlinewidth\": 0, \"ticks\": \"\"}}, \"type\": \"scattergl\"}], \"scattermapbox\": [{\"marker\": {\"colorbar\": {\"outlinewidth\": 0, \"ticks\": \"\"}}, \"type\": \"scattermapbox\"}], \"scatterpolar\": [{\"marker\": {\"colorbar\": {\"outlinewidth\": 0, \"ticks\": \"\"}}, \"type\": \"scatterpolar\"}], \"scatterpolargl\": [{\"marker\": {\"colorbar\": {\"outlinewidth\": 0, \"ticks\": \"\"}}, \"type\": \"scatterpolargl\"}], \"scatterternary\": [{\"marker\": {\"colorbar\": {\"outlinewidth\": 0, \"ticks\": \"\"}}, \"type\": \"scatterternary\"}], \"surface\": [{\"colorbar\": {\"outlinewidth\": 0, \"ticks\": \"\"}, \"colorscale\": [[0.0, \"#0d0887\"], [0.1111111111111111, \"#46039f\"], [0.2222222222222222, \"#7201a8\"], [0.3333333333333333, \"#9c179e\"], [0.4444444444444444, \"#bd3786\"], [0.5555555555555556, \"#d8576b\"], [0.6666666666666666, \"#ed7953\"], [0.7777777777777778, \"#fb9f3a\"], [0.8888888888888888, \"#fdca26\"], [1.0, \"#f0f921\"]], \"type\": \"surface\"}], \"table\": [{\"cells\": {\"fill\": {\"color\": \"#EBF0F8\"}, \"line\": {\"color\": \"white\"}}, \"header\": {\"fill\": {\"color\": \"#C8D4E3\"}, \"line\": {\"color\": \"white\"}}, \"type\": \"table\"}]}, \"layout\": {\"annotationdefaults\": {\"arrowcolor\": \"#2a3f5f\", \"arrowhead\": 0, \"arrowwidth\": 1}, \"coloraxis\": {\"colorbar\": {\"outlinewidth\": 0, \"ticks\": \"\"}}, \"colorscale\": {\"diverging\": [[0, \"#8e0152\"], [0.1, \"#c51b7d\"], [0.2, \"#de77ae\"], [0.3, \"#f1b6da\"], [0.4, \"#fde0ef\"], [0.5, \"#f7f7f7\"], [0.6, \"#e6f5d0\"], [0.7, \"#b8e186\"], [0.8, \"#7fbc41\"], [0.9, \"#4d9221\"], [1, \"#276419\"]], \"sequential\": [[0.0, \"#0d0887\"], [0.1111111111111111, \"#46039f\"], [0.2222222222222222, \"#7201a8\"], [0.3333333333333333, \"#9c179e\"], [0.4444444444444444, \"#bd3786\"], [0.5555555555555556, \"#d8576b\"], [0.6666666666666666, \"#ed7953\"], [0.7777777777777778, \"#fb9f3a\"], [0.8888888888888888, \"#fdca26\"], [1.0, \"#f0f921\"]], \"sequentialminus\": [[0.0, \"#0d0887\"], [0.1111111111111111, \"#46039f\"], [0.2222222222222222, \"#7201a8\"], [0.3333333333333333, \"#9c179e\"], [0.4444444444444444, \"#bd3786\"], [0.5555555555555556, \"#d8576b\"], [0.6666666666666666, \"#ed7953\"], [0.7777777777777778, \"#fb9f3a\"], [0.8888888888888888, \"#fdca26\"], [1.0, \"#f0f921\"]]}, \"colorway\": [\"#636efa\", \"#EF553B\", \"#00cc96\", \"#ab63fa\", \"#FFA15A\", \"#19d3f3\", \"#FF6692\", \"#B6E880\", \"#FF97FF\", \"#FECB52\"], \"font\": {\"color\": \"#2a3f5f\"}, \"geo\": {\"bgcolor\": \"white\", \"lakecolor\": \"white\", \"landcolor\": \"#E5ECF6\", \"showlakes\": true, \"showland\": true, \"subunitcolor\": \"white\"}, \"hoverlabel\": {\"align\": \"left\"}, \"hovermode\": \"closest\", \"mapbox\": {\"style\": \"light\"}, \"paper_bgcolor\": \"white\", \"plot_bgcolor\": \"#E5ECF6\", \"polar\": {\"angularaxis\": {\"gridcolor\": \"white\", \"linecolor\": \"white\", \"ticks\": \"\"}, \"bgcolor\": \"#E5ECF6\", \"radialaxis\": {\"gridcolor\": \"white\", \"linecolor\": \"white\", \"ticks\": \"\"}}, \"scene\": {\"xaxis\": {\"backgroundcolor\": \"#E5ECF6\", \"gridcolor\": \"white\", \"gridwidth\": 2, \"linecolor\": \"white\", \"showbackground\": true, \"ticks\": \"\", \"zerolinecolor\": \"white\"}, \"yaxis\": {\"backgroundcolor\": \"#E5ECF6\", \"gridcolor\": \"white\", \"gridwidth\": 2, \"linecolor\": \"white\", \"showbackground\": true, \"ticks\": \"\", \"zerolinecolor\": \"white\"}, \"zaxis\": {\"backgroundcolor\": \"#E5ECF6\", \"gridcolor\": \"white\", \"gridwidth\": 2, \"linecolor\": \"white\", \"showbackground\": true, \"ticks\": \"\", \"zerolinecolor\": \"white\"}}, \"shapedefaults\": {\"line\": {\"color\": \"#2a3f5f\"}}, \"ternary\": {\"aaxis\": {\"gridcolor\": \"white\", \"linecolor\": \"white\", \"ticks\": \"\"}, \"baxis\": {\"gridcolor\": \"white\", \"linecolor\": \"white\", \"ticks\": \"\"}, \"bgcolor\": \"#E5ECF6\", \"caxis\": {\"gridcolor\": \"white\", \"linecolor\": \"white\", \"ticks\": \"\"}}, \"title\": {\"x\": 0.05}, \"xaxis\": {\"automargin\": true, \"gridcolor\": \"white\", \"linecolor\": \"white\", \"ticks\": \"\", \"title\": {\"standoff\": 15}, \"zerolinecolor\": \"white\", \"zerolinewidth\": 2}, \"yaxis\": {\"automargin\": true, \"gridcolor\": \"white\", \"linecolor\": \"white\", \"ticks\": \"\", \"title\": {\"standoff\": 15}, \"zerolinecolor\": \"white\", \"zerolinewidth\": 2}}}, \"title\": {\"font\": {\"family\": \"Times New Roman\"}, \"text\": \"\\u041d\\u0430\\u043a\\u043e\\u043f\\u0438\\u0442\\u0435\\u043b\\u044c\\u043d\\u044b\\u0435 \\u0444\\u0430\\u043a\\u0442\\u0438\\u0447\\u0435\\u0441\\u043a\\u0438\\u0435 \\u043f\\u0440\\u043e\\u0434\\u0430\\u0436\\u0438 \\u043f\\u043e \\u043a\\u0430\\u043d\\u0430\\u043b\\u0430\\u043c \\u0438 \\u043f\\u043e \\u043c\\u0435\\u0441\\u044f\\u0446\\u0430\\u043c, \\u043c\\u043b\\u043d \\u0440\\u0443\\u0431\"}, \"xaxis\": {\"anchor\": \"y\", \"domain\": [0.0, 1.0], \"tickangle\": 0, \"title\": {\"text\": \"\\u041d\\u043e\\u043c\\u0435\\u0440 \\u041c\\u0435\\u0441\\u044f\\u0446\\u0430\"}}, \"yaxis\": {\"anchor\": \"x\", \"domain\": [0.0, 1.0], \"title\": {\"text\": \"\\u0424\\u0430\\u043a\\u0442 \\u0440\\u0443\\u0431\"}}},\n",
              "                        {\"responsive\": true}\n",
              "                    ).then(function(){\n",
              "                            \n",
              "var gd = document.getElementById('102f4a48-b0b1-440d-a7e4-f174db93f1af');\n",
              "var x = new MutationObserver(function (mutations, observer) {{\n",
              "        var display = window.getComputedStyle(gd).display;\n",
              "        if (!display || display === 'none') {{\n",
              "            console.log([gd, 'removed!']);\n",
              "            Plotly.purge(gd);\n",
              "            observer.disconnect();\n",
              "        }}\n",
              "}});\n",
              "\n",
              "// Listen for the removal of the full notebook cells\n",
              "var notebookContainer = gd.closest('#notebook-container');\n",
              "if (notebookContainer) {{\n",
              "    x.observe(notebookContainer, {childList: true});\n",
              "}}\n",
              "\n",
              "// Listen for the clearing of the current output cell\n",
              "var outputEl = gd.closest('.output');\n",
              "if (outputEl) {{\n",
              "    x.observe(outputEl, {childList: true});\n",
              "}}\n",
              "\n",
              "                        })\n",
              "                };\n",
              "                \n",
              "            </script>\n",
              "        </div>\n",
              "</body>\n",
              "</html>"
            ]
          },
          "metadata": {
            "tags": []
          }
        }
      ]
    },
    {
      "cell_type": "markdown",
      "metadata": {
        "id": "8XMOdMl5eX7p"
      },
      "source": [
        "Краткий вывод\n",
        "1. Лидеры по каналам - Дистрибьютор, ФК и ЛК "
      ]
    },
    {
      "cell_type": "code",
      "metadata": {
        "id": "sTYJPihi7n7T"
      },
      "source": [
        "c = df.loc[df['Год'] == 2014,['Канал', 'month','Факт руб', 'План руб']]\n",
        "cc = c.groupby(['month', 'Канал']).sum().groupby('Канал').cumsum().reset_index()\n",
        "cc['Выполнение_плана'] = cc['Факт руб'] / cc['План руб'] - 1\n",
        "cc['Выполнение_плана'] = cc['Выполнение_плана'].round(2)"
      ],
      "execution_count": null,
      "outputs": []
    },
    {
      "cell_type": "code",
      "metadata": {
        "colab": {
          "base_uri": "https://localhost:8080/",
          "height": 542
        },
        "id": "OhyVApP1_Seo",
        "outputId": "7740ef25-a83e-47b1-febe-b7411d6870f4"
      },
      "source": [
        "fig = px.bar(cc.sort_values(by=['month', 'Факт руб']), x='month', y='Выполнение_плана', color='Канал',\\\n",
        "            title='Накопительное выполнение плана по каналам и по месяцам',\\\n",
        "             text ='Выполнение_плана',\n",
        "             labels={'month' : 'Номер Месяца'}\n",
        "            )\n",
        "fig.update_layout(barmode='group', xaxis_tickangle=0, title_font_family=\"Times New Roman\")\n",
        "fig.update_traces( textposition='outside', textangle=0)\n",
        "fig.show()"
      ],
      "execution_count": null,
      "outputs": [
        {
          "output_type": "display_data",
          "data": {
            "text/html": [
              "<html>\n",
              "<head><meta charset=\"utf-8\" /></head>\n",
              "<body>\n",
              "    <div>\n",
              "            <script src=\"https://cdnjs.cloudflare.com/ajax/libs/mathjax/2.7.5/MathJax.js?config=TeX-AMS-MML_SVG\"></script><script type=\"text/javascript\">if (window.MathJax) {MathJax.Hub.Config({SVG: {font: \"STIX-Web\"}});}</script>\n",
              "                <script type=\"text/javascript\">window.PlotlyConfig = {MathJaxConfig: 'local'};</script>\n",
              "        <script src=\"https://cdn.plot.ly/plotly-latest.min.js\"></script>    \n",
              "            <div id=\"b0c0cfd9-d096-433d-ac19-3a7dfb1e7e31\" class=\"plotly-graph-div\" style=\"height:525px; width:100%;\"></div>\n",
              "            <script type=\"text/javascript\">\n",
              "                \n",
              "                    window.PLOTLYENV=window.PLOTLYENV || {};\n",
              "                    \n",
              "                if (document.getElementById(\"b0c0cfd9-d096-433d-ac19-3a7dfb1e7e31\")) {\n",
              "                    Plotly.newPlot(\n",
              "                        'b0c0cfd9-d096-433d-ac19-3a7dfb1e7e31',\n",
              "                        [{\"alignmentgroup\": \"True\", \"hoverlabel\": {\"namelength\": 0}, \"hovertemplate\": \"\\u041a\\u0430\\u043d\\u0430\\u043b=HORECA<br>\\u041d\\u043e\\u043c\\u0435\\u0440 \\u041c\\u0435\\u0441\\u044f\\u0446\\u0430=%{x}<br>\\u0412\\u044b\\u043f\\u043e\\u043b\\u043d\\u0435\\u043d\\u0438\\u0435_\\u043f\\u043b\\u0430\\u043d\\u0430=%{text}\", \"legendgroup\": \"\\u041a\\u0430\\u043d\\u0430\\u043b=HORECA\", \"marker\": {\"color\": \"#636efa\"}, \"name\": \"\\u041a\\u0430\\u043d\\u0430\\u043b=HORECA\", \"offsetgroup\": \"\\u041a\\u0430\\u043d\\u0430\\u043b=HORECA\", \"orientation\": \"v\", \"showlegend\": true, \"text\": [-1.0, -1.0, -1.0, -1.0, 19.33], \"textangle\": 0, \"textposition\": \"outside\", \"type\": \"bar\", \"x\": [1, 2, 3, 4, 5], \"xaxis\": \"x\", \"y\": [-1.0, -1.0, -1.0, -1.0, 19.33], \"yaxis\": \"y\"}, {\"alignmentgroup\": \"True\", \"hoverlabel\": {\"namelength\": 0}, \"hovertemplate\": \"\\u041a\\u0430\\u043d\\u0430\\u043b=\\u041f\\u0420\\u041e\\u0427\\u0415\\u0415<br>\\u041d\\u043e\\u043c\\u0435\\u0440 \\u041c\\u0435\\u0441\\u044f\\u0446\\u0430=%{x}<br>\\u0412\\u044b\\u043f\\u043e\\u043b\\u043d\\u0435\\u043d\\u0438\\u0435_\\u043f\\u043b\\u0430\\u043d\\u0430=%{text}\", \"legendgroup\": \"\\u041a\\u0430\\u043d\\u0430\\u043b=\\u041f\\u0420\\u041e\\u0427\\u0415\\u0415\", \"marker\": {\"color\": \"#EF553B\"}, \"name\": \"\\u041a\\u0430\\u043d\\u0430\\u043b=\\u041f\\u0420\\u041e\\u0427\\u0415\\u0415\", \"offsetgroup\": \"\\u041a\\u0430\\u043d\\u0430\\u043b=\\u041f\\u0420\\u041e\\u0427\\u0415\\u0415\", \"orientation\": \"v\", \"showlegend\": true, \"text\": [null, null, null, null, null], \"textangle\": 0, \"textposition\": \"outside\", \"type\": \"bar\", \"x\": [1, 2, 3, 4, 5], \"xaxis\": \"x\", \"y\": [null, null, null, null, null], \"yaxis\": \"y\"}, {\"alignmentgroup\": \"True\", \"hoverlabel\": {\"namelength\": 0}, \"hovertemplate\": \"\\u041a\\u0430\\u043d\\u0430\\u043b=\\u0424\\u0418\\u0417\\u041b\\u0418\\u0426\\u041e<br>\\u041d\\u043e\\u043c\\u0435\\u0440 \\u041c\\u0435\\u0441\\u044f\\u0446\\u0430=%{x}<br>\\u0412\\u044b\\u043f\\u043e\\u043b\\u043d\\u0435\\u043d\\u0438\\u0435_\\u043f\\u043b\\u0430\\u043d\\u0430=%{text}\", \"legendgroup\": \"\\u041a\\u0430\\u043d\\u0430\\u043b=\\u0424\\u0418\\u0417\\u041b\\u0418\\u0426\\u041e\", \"marker\": {\"color\": \"#00cc96\"}, \"name\": \"\\u041a\\u0430\\u043d\\u0430\\u043b=\\u0424\\u0418\\u0417\\u041b\\u0418\\u0426\\u041e\", \"offsetgroup\": \"\\u041a\\u0430\\u043d\\u0430\\u043b=\\u0424\\u0418\\u0417\\u041b\\u0418\\u0426\\u041e\", \"orientation\": \"v\", \"showlegend\": true, \"text\": [null, null, null, null, null], \"textangle\": 0, \"textposition\": \"outside\", \"type\": \"bar\", \"x\": [1, 2, 3, 4, 5], \"xaxis\": \"x\", \"y\": [null, null, null, null, null], \"yaxis\": \"y\"}, {\"alignmentgroup\": \"True\", \"hoverlabel\": {\"namelength\": 0}, \"hovertemplate\": \"\\u041a\\u0430\\u043d\\u0430\\u043b=\\u0420\\u041e\\u0417\\u041d\\u0418\\u0426\\u0410<br>\\u041d\\u043e\\u043c\\u0435\\u0440 \\u041c\\u0435\\u0441\\u044f\\u0446\\u0430=%{x}<br>\\u0412\\u044b\\u043f\\u043e\\u043b\\u043d\\u0435\\u043d\\u0438\\u0435_\\u043f\\u043b\\u0430\\u043d\\u0430=%{text}\", \"legendgroup\": \"\\u041a\\u0430\\u043d\\u0430\\u043b=\\u0420\\u041e\\u0417\\u041d\\u0418\\u0426\\u0410\", \"marker\": {\"color\": \"#ab63fa\"}, \"name\": \"\\u041a\\u0430\\u043d\\u0430\\u043b=\\u0420\\u041e\\u0417\\u041d\\u0418\\u0426\\u0410\", \"offsetgroup\": \"\\u041a\\u0430\\u043d\\u0430\\u043b=\\u0420\\u041e\\u0417\\u041d\\u0418\\u0426\\u0410\", \"orientation\": \"v\", \"showlegend\": true, \"text\": [-0.12, -0.1, -0.25, -0.33, -0.34], \"textangle\": 0, \"textposition\": \"outside\", \"type\": \"bar\", \"x\": [1, 2, 3, 4, 5], \"xaxis\": \"x\", \"y\": [-0.12, -0.1, -0.25, -0.33, -0.34], \"yaxis\": \"y\"}, {\"alignmentgroup\": \"True\", \"hoverlabel\": {\"namelength\": 0}, \"hovertemplate\": \"\\u041a\\u0430\\u043d\\u0430\\u043b=\\u0413\\u041e\\u0421\\u0417\\u0410\\u041a\\u0423\\u041f\\u041a\\u0418<br>\\u041d\\u043e\\u043c\\u0435\\u0440 \\u041c\\u0435\\u0441\\u044f\\u0446\\u0430=%{x}<br>\\u0412\\u044b\\u043f\\u043e\\u043b\\u043d\\u0435\\u043d\\u0438\\u0435_\\u043f\\u043b\\u0430\\u043d\\u0430=%{text}\", \"legendgroup\": \"\\u041a\\u0430\\u043d\\u0430\\u043b=\\u0413\\u041e\\u0421\\u0417\\u0410\\u041a\\u0423\\u041f\\u041a\\u0418\", \"marker\": {\"color\": \"#FFA15A\"}, \"name\": \"\\u041a\\u0430\\u043d\\u0430\\u043b=\\u0413\\u041e\\u0421\\u0417\\u0410\\u041a\\u0423\\u041f\\u041a\\u0418\", \"offsetgroup\": \"\\u041a\\u0430\\u043d\\u0430\\u043b=\\u0413\\u041e\\u0421\\u0417\\u0410\\u041a\\u0423\\u041f\\u041a\\u0418\", \"orientation\": \"v\", \"showlegend\": true, \"text\": [-0.16, -0.11, -0.06, 0.04, 0.06], \"textangle\": 0, \"textposition\": \"outside\", \"type\": \"bar\", \"x\": [1, 2, 3, 4, 5], \"xaxis\": \"x\", \"y\": [-0.16, -0.11, -0.06, 0.04, 0.06], \"yaxis\": \"y\"}, {\"alignmentgroup\": \"True\", \"hoverlabel\": {\"namelength\": 0}, \"hovertemplate\": \"\\u041a\\u0430\\u043d\\u0430\\u043b=\\u041b\\u041a<br>\\u041d\\u043e\\u043c\\u0435\\u0440 \\u041c\\u0435\\u0441\\u044f\\u0446\\u0430=%{x}<br>\\u0412\\u044b\\u043f\\u043e\\u043b\\u043d\\u0435\\u043d\\u0438\\u0435_\\u043f\\u043b\\u0430\\u043d\\u0430=%{text}\", \"legendgroup\": \"\\u041a\\u0430\\u043d\\u0430\\u043b=\\u041b\\u041a\", \"marker\": {\"color\": \"#19d3f3\"}, \"name\": \"\\u041a\\u0430\\u043d\\u0430\\u043b=\\u041b\\u041a\", \"offsetgroup\": \"\\u041a\\u0430\\u043d\\u0430\\u043b=\\u041b\\u041a\", \"orientation\": \"v\", \"showlegend\": true, \"text\": [-0.18, -0.14, -0.05, -0.01, -0.04], \"textangle\": 0, \"textposition\": \"outside\", \"type\": \"bar\", \"x\": [1, 2, 3, 4, 5], \"xaxis\": \"x\", \"y\": [-0.18, -0.14, -0.05, -0.01, -0.04], \"yaxis\": \"y\"}, {\"alignmentgroup\": \"True\", \"hoverlabel\": {\"namelength\": 0}, \"hovertemplate\": \"\\u041a\\u0430\\u043d\\u0430\\u043b=\\u0414\\u0418\\u0421\\u0422\\u0420\\u0418\\u0411\\u042c\\u042e\\u0422\\u041e\\u0420<br>\\u041d\\u043e\\u043c\\u0435\\u0440 \\u041c\\u0435\\u0441\\u044f\\u0446\\u0430=%{x}<br>\\u0412\\u044b\\u043f\\u043e\\u043b\\u043d\\u0435\\u043d\\u0438\\u0435_\\u043f\\u043b\\u0430\\u043d\\u0430=%{text}\", \"legendgroup\": \"\\u041a\\u0430\\u043d\\u0430\\u043b=\\u0414\\u0418\\u0421\\u0422\\u0420\\u0418\\u0411\\u042c\\u042e\\u0422\\u041e\\u0420\", \"marker\": {\"color\": \"#FF6692\"}, \"name\": \"\\u041a\\u0430\\u043d\\u0430\\u043b=\\u0414\\u0418\\u0421\\u0422\\u0420\\u0418\\u0411\\u042c\\u042e\\u0422\\u041e\\u0420\", \"offsetgroup\": \"\\u041a\\u0430\\u043d\\u0430\\u043b=\\u0414\\u0418\\u0421\\u0422\\u0420\\u0418\\u0411\\u042c\\u042e\\u0422\\u041e\\u0420\", \"orientation\": \"v\", \"showlegend\": true, \"text\": [-0.22, -0.14, -0.14, -0.14, -0.15], \"textangle\": 0, \"textposition\": \"outside\", \"type\": \"bar\", \"x\": [1, 2, 3, 4, 5], \"xaxis\": \"x\", \"y\": [-0.22, -0.14, -0.14, -0.14, -0.15], \"yaxis\": \"y\"}, {\"alignmentgroup\": \"True\", \"hoverlabel\": {\"namelength\": 0}, \"hovertemplate\": \"\\u041a\\u0430\\u043d\\u0430\\u043b=\\u0424\\u041a<br>\\u041d\\u043e\\u043c\\u0435\\u0440 \\u041c\\u0435\\u0441\\u044f\\u0446\\u0430=%{x}<br>\\u0412\\u044b\\u043f\\u043e\\u043b\\u043d\\u0435\\u043d\\u0438\\u0435_\\u043f\\u043b\\u0430\\u043d\\u0430=%{text}\", \"legendgroup\": \"\\u041a\\u0430\\u043d\\u0430\\u043b=\\u0424\\u041a\", \"marker\": {\"color\": \"#B6E880\"}, \"name\": \"\\u041a\\u0430\\u043d\\u0430\\u043b=\\u0424\\u041a\", \"offsetgroup\": \"\\u041a\\u0430\\u043d\\u0430\\u043b=\\u0424\\u041a\", \"orientation\": \"v\", \"showlegend\": true, \"text\": [-0.02, -0.08, -0.07, -0.03, 0.01], \"textangle\": 0, \"textposition\": \"outside\", \"type\": \"bar\", \"x\": [1, 2, 3, 4, 5], \"xaxis\": \"x\", \"y\": [-0.02, -0.08, -0.07, -0.03, 0.01], \"yaxis\": \"y\"}],\n",
              "                        {\"barmode\": \"group\", \"legend\": {\"tracegroupgap\": 0}, \"template\": {\"data\": {\"bar\": [{\"error_x\": {\"color\": \"#2a3f5f\"}, \"error_y\": {\"color\": \"#2a3f5f\"}, \"marker\": {\"line\": {\"color\": \"#E5ECF6\", \"width\": 0.5}}, \"type\": \"bar\"}], \"barpolar\": [{\"marker\": {\"line\": {\"color\": \"#E5ECF6\", \"width\": 0.5}}, \"type\": \"barpolar\"}], \"carpet\": [{\"aaxis\": {\"endlinecolor\": \"#2a3f5f\", \"gridcolor\": \"white\", \"linecolor\": \"white\", \"minorgridcolor\": \"white\", \"startlinecolor\": \"#2a3f5f\"}, \"baxis\": {\"endlinecolor\": \"#2a3f5f\", \"gridcolor\": \"white\", \"linecolor\": \"white\", \"minorgridcolor\": \"white\", \"startlinecolor\": \"#2a3f5f\"}, \"type\": \"carpet\"}], \"choropleth\": [{\"colorbar\": {\"outlinewidth\": 0, \"ticks\": \"\"}, \"type\": \"choropleth\"}], \"contour\": [{\"colorbar\": {\"outlinewidth\": 0, \"ticks\": \"\"}, \"colorscale\": [[0.0, \"#0d0887\"], [0.1111111111111111, \"#46039f\"], [0.2222222222222222, \"#7201a8\"], [0.3333333333333333, \"#9c179e\"], [0.4444444444444444, \"#bd3786\"], [0.5555555555555556, \"#d8576b\"], [0.6666666666666666, \"#ed7953\"], [0.7777777777777778, \"#fb9f3a\"], [0.8888888888888888, \"#fdca26\"], [1.0, \"#f0f921\"]], \"type\": \"contour\"}], \"contourcarpet\": [{\"colorbar\": {\"outlinewidth\": 0, \"ticks\": \"\"}, \"type\": \"contourcarpet\"}], \"heatmap\": [{\"colorbar\": {\"outlinewidth\": 0, \"ticks\": \"\"}, \"colorscale\": [[0.0, \"#0d0887\"], [0.1111111111111111, \"#46039f\"], [0.2222222222222222, \"#7201a8\"], [0.3333333333333333, \"#9c179e\"], [0.4444444444444444, \"#bd3786\"], [0.5555555555555556, \"#d8576b\"], [0.6666666666666666, \"#ed7953\"], [0.7777777777777778, \"#fb9f3a\"], [0.8888888888888888, \"#fdca26\"], [1.0, \"#f0f921\"]], \"type\": \"heatmap\"}], \"heatmapgl\": [{\"colorbar\": {\"outlinewidth\": 0, \"ticks\": \"\"}, \"colorscale\": [[0.0, \"#0d0887\"], [0.1111111111111111, \"#46039f\"], [0.2222222222222222, \"#7201a8\"], [0.3333333333333333, \"#9c179e\"], [0.4444444444444444, \"#bd3786\"], [0.5555555555555556, \"#d8576b\"], [0.6666666666666666, \"#ed7953\"], [0.7777777777777778, \"#fb9f3a\"], [0.8888888888888888, \"#fdca26\"], [1.0, \"#f0f921\"]], \"type\": \"heatmapgl\"}], \"histogram\": [{\"marker\": {\"colorbar\": {\"outlinewidth\": 0, \"ticks\": \"\"}}, \"type\": \"histogram\"}], \"histogram2d\": [{\"colorbar\": {\"outlinewidth\": 0, \"ticks\": \"\"}, \"colorscale\": [[0.0, \"#0d0887\"], [0.1111111111111111, \"#46039f\"], [0.2222222222222222, \"#7201a8\"], [0.3333333333333333, \"#9c179e\"], [0.4444444444444444, \"#bd3786\"], [0.5555555555555556, \"#d8576b\"], [0.6666666666666666, \"#ed7953\"], [0.7777777777777778, \"#fb9f3a\"], [0.8888888888888888, \"#fdca26\"], [1.0, \"#f0f921\"]], \"type\": \"histogram2d\"}], \"histogram2dcontour\": [{\"colorbar\": {\"outlinewidth\": 0, \"ticks\": \"\"}, \"colorscale\": [[0.0, \"#0d0887\"], [0.1111111111111111, \"#46039f\"], [0.2222222222222222, \"#7201a8\"], [0.3333333333333333, \"#9c179e\"], [0.4444444444444444, \"#bd3786\"], [0.5555555555555556, \"#d8576b\"], [0.6666666666666666, \"#ed7953\"], [0.7777777777777778, \"#fb9f3a\"], [0.8888888888888888, \"#fdca26\"], [1.0, \"#f0f921\"]], \"type\": \"histogram2dcontour\"}], \"mesh3d\": [{\"colorbar\": {\"outlinewidth\": 0, \"ticks\": \"\"}, \"type\": \"mesh3d\"}], \"parcoords\": [{\"line\": {\"colorbar\": {\"outlinewidth\": 0, \"ticks\": \"\"}}, \"type\": \"parcoords\"}], \"pie\": [{\"automargin\": true, \"type\": \"pie\"}], \"scatter\": [{\"marker\": {\"colorbar\": {\"outlinewidth\": 0, \"ticks\": \"\"}}, \"type\": \"scatter\"}], \"scatter3d\": [{\"line\": {\"colorbar\": {\"outlinewidth\": 0, \"ticks\": \"\"}}, \"marker\": {\"colorbar\": {\"outlinewidth\": 0, \"ticks\": \"\"}}, \"type\": \"scatter3d\"}], \"scattercarpet\": [{\"marker\": {\"colorbar\": {\"outlinewidth\": 0, \"ticks\": \"\"}}, \"type\": \"scattercarpet\"}], \"scattergeo\": [{\"marker\": {\"colorbar\": {\"outlinewidth\": 0, \"ticks\": \"\"}}, \"type\": \"scattergeo\"}], \"scattergl\": [{\"marker\": {\"colorbar\": {\"outlinewidth\": 0, \"ticks\": \"\"}}, \"type\": \"scattergl\"}], \"scattermapbox\": [{\"marker\": {\"colorbar\": {\"outlinewidth\": 0, \"ticks\": \"\"}}, \"type\": \"scattermapbox\"}], \"scatterpolar\": [{\"marker\": {\"colorbar\": {\"outlinewidth\": 0, \"ticks\": \"\"}}, \"type\": \"scatterpolar\"}], \"scatterpolargl\": [{\"marker\": {\"colorbar\": {\"outlinewidth\": 0, \"ticks\": \"\"}}, \"type\": \"scatterpolargl\"}], \"scatterternary\": [{\"marker\": {\"colorbar\": {\"outlinewidth\": 0, \"ticks\": \"\"}}, \"type\": \"scatterternary\"}], \"surface\": [{\"colorbar\": {\"outlinewidth\": 0, \"ticks\": \"\"}, \"colorscale\": [[0.0, \"#0d0887\"], [0.1111111111111111, \"#46039f\"], [0.2222222222222222, \"#7201a8\"], [0.3333333333333333, \"#9c179e\"], [0.4444444444444444, \"#bd3786\"], [0.5555555555555556, \"#d8576b\"], [0.6666666666666666, \"#ed7953\"], [0.7777777777777778, \"#fb9f3a\"], [0.8888888888888888, \"#fdca26\"], [1.0, \"#f0f921\"]], \"type\": \"surface\"}], \"table\": [{\"cells\": {\"fill\": {\"color\": \"#EBF0F8\"}, \"line\": {\"color\": \"white\"}}, \"header\": {\"fill\": {\"color\": \"#C8D4E3\"}, \"line\": {\"color\": \"white\"}}, \"type\": \"table\"}]}, \"layout\": {\"annotationdefaults\": {\"arrowcolor\": \"#2a3f5f\", \"arrowhead\": 0, \"arrowwidth\": 1}, \"coloraxis\": {\"colorbar\": {\"outlinewidth\": 0, \"ticks\": \"\"}}, \"colorscale\": {\"diverging\": [[0, \"#8e0152\"], [0.1, \"#c51b7d\"], [0.2, \"#de77ae\"], [0.3, \"#f1b6da\"], [0.4, \"#fde0ef\"], [0.5, \"#f7f7f7\"], [0.6, \"#e6f5d0\"], [0.7, \"#b8e186\"], [0.8, \"#7fbc41\"], [0.9, \"#4d9221\"], [1, \"#276419\"]], \"sequential\": [[0.0, \"#0d0887\"], [0.1111111111111111, \"#46039f\"], [0.2222222222222222, \"#7201a8\"], [0.3333333333333333, \"#9c179e\"], [0.4444444444444444, \"#bd3786\"], [0.5555555555555556, \"#d8576b\"], [0.6666666666666666, \"#ed7953\"], [0.7777777777777778, \"#fb9f3a\"], [0.8888888888888888, \"#fdca26\"], [1.0, \"#f0f921\"]], \"sequentialminus\": [[0.0, \"#0d0887\"], [0.1111111111111111, \"#46039f\"], [0.2222222222222222, \"#7201a8\"], [0.3333333333333333, \"#9c179e\"], [0.4444444444444444, \"#bd3786\"], [0.5555555555555556, \"#d8576b\"], [0.6666666666666666, \"#ed7953\"], [0.7777777777777778, \"#fb9f3a\"], [0.8888888888888888, \"#fdca26\"], [1.0, \"#f0f921\"]]}, \"colorway\": [\"#636efa\", \"#EF553B\", \"#00cc96\", \"#ab63fa\", \"#FFA15A\", \"#19d3f3\", \"#FF6692\", \"#B6E880\", \"#FF97FF\", \"#FECB52\"], \"font\": {\"color\": \"#2a3f5f\"}, \"geo\": {\"bgcolor\": \"white\", \"lakecolor\": \"white\", \"landcolor\": \"#E5ECF6\", \"showlakes\": true, \"showland\": true, \"subunitcolor\": \"white\"}, \"hoverlabel\": {\"align\": \"left\"}, \"hovermode\": \"closest\", \"mapbox\": {\"style\": \"light\"}, \"paper_bgcolor\": \"white\", \"plot_bgcolor\": \"#E5ECF6\", \"polar\": {\"angularaxis\": {\"gridcolor\": \"white\", \"linecolor\": \"white\", \"ticks\": \"\"}, \"bgcolor\": \"#E5ECF6\", \"radialaxis\": {\"gridcolor\": \"white\", \"linecolor\": \"white\", \"ticks\": \"\"}}, \"scene\": {\"xaxis\": {\"backgroundcolor\": \"#E5ECF6\", \"gridcolor\": \"white\", \"gridwidth\": 2, \"linecolor\": \"white\", \"showbackground\": true, \"ticks\": \"\", \"zerolinecolor\": \"white\"}, \"yaxis\": {\"backgroundcolor\": \"#E5ECF6\", \"gridcolor\": \"white\", \"gridwidth\": 2, \"linecolor\": \"white\", \"showbackground\": true, \"ticks\": \"\", \"zerolinecolor\": \"white\"}, \"zaxis\": {\"backgroundcolor\": \"#E5ECF6\", \"gridcolor\": \"white\", \"gridwidth\": 2, \"linecolor\": \"white\", \"showbackground\": true, \"ticks\": \"\", \"zerolinecolor\": \"white\"}}, \"shapedefaults\": {\"line\": {\"color\": \"#2a3f5f\"}}, \"ternary\": {\"aaxis\": {\"gridcolor\": \"white\", \"linecolor\": \"white\", \"ticks\": \"\"}, \"baxis\": {\"gridcolor\": \"white\", \"linecolor\": \"white\", \"ticks\": \"\"}, \"bgcolor\": \"#E5ECF6\", \"caxis\": {\"gridcolor\": \"white\", \"linecolor\": \"white\", \"ticks\": \"\"}}, \"title\": {\"x\": 0.05}, \"xaxis\": {\"automargin\": true, \"gridcolor\": \"white\", \"linecolor\": \"white\", \"ticks\": \"\", \"title\": {\"standoff\": 15}, \"zerolinecolor\": \"white\", \"zerolinewidth\": 2}, \"yaxis\": {\"automargin\": true, \"gridcolor\": \"white\", \"linecolor\": \"white\", \"ticks\": \"\", \"title\": {\"standoff\": 15}, \"zerolinecolor\": \"white\", \"zerolinewidth\": 2}}}, \"title\": {\"font\": {\"family\": \"Times New Roman\"}, \"text\": \"\\u041d\\u0430\\u043a\\u043e\\u043f\\u0438\\u0442\\u0435\\u043b\\u044c\\u043d\\u043e\\u0435 \\u0432\\u044b\\u043f\\u043e\\u043b\\u043d\\u0435\\u043d\\u0438\\u0435 \\u043f\\u043b\\u0430\\u043d\\u0430 \\u043f\\u043e \\u043a\\u0430\\u043d\\u0430\\u043b\\u0430\\u043c \\u0438 \\u043f\\u043e \\u043c\\u0435\\u0441\\u044f\\u0446\\u0430\\u043c\"}, \"xaxis\": {\"anchor\": \"y\", \"domain\": [0.0, 1.0], \"tickangle\": 0, \"title\": {\"text\": \"\\u041d\\u043e\\u043c\\u0435\\u0440 \\u041c\\u0435\\u0441\\u044f\\u0446\\u0430\"}}, \"yaxis\": {\"anchor\": \"x\", \"domain\": [0.0, 1.0], \"title\": {\"text\": \"\\u0412\\u044b\\u043f\\u043e\\u043b\\u043d\\u0435\\u043d\\u0438\\u0435_\\u043f\\u043b\\u0430\\u043d\\u0430\"}}},\n",
              "                        {\"responsive\": true}\n",
              "                    ).then(function(){\n",
              "                            \n",
              "var gd = document.getElementById('b0c0cfd9-d096-433d-ac19-3a7dfb1e7e31');\n",
              "var x = new MutationObserver(function (mutations, observer) {{\n",
              "        var display = window.getComputedStyle(gd).display;\n",
              "        if (!display || display === 'none') {{\n",
              "            console.log([gd, 'removed!']);\n",
              "            Plotly.purge(gd);\n",
              "            observer.disconnect();\n",
              "        }}\n",
              "}});\n",
              "\n",
              "// Listen for the removal of the full notebook cells\n",
              "var notebookContainer = gd.closest('#notebook-container');\n",
              "if (notebookContainer) {{\n",
              "    x.observe(notebookContainer, {childList: true});\n",
              "}}\n",
              "\n",
              "// Listen for the clearing of the current output cell\n",
              "var outputEl = gd.closest('.output');\n",
              "if (outputEl) {{\n",
              "    x.observe(outputEl, {childList: true});\n",
              "}}\n",
              "\n",
              "                        })\n",
              "                };\n",
              "                \n",
              "            </script>\n",
              "        </div>\n",
              "</body>\n",
              "</html>"
            ]
          },
          "metadata": {
            "tags": []
          }
        }
      ]
    },
    {
      "cell_type": "markdown",
      "metadata": {
        "id": "EBChA5mVek8F"
      },
      "source": [
        "Краткий вывод\n",
        "1. Выполнение у каналов Horeca, Госзакупки и ФК\n",
        "2. Сильный провал в канале Розница, -34%"
      ]
    },
    {
      "cell_type": "code",
      "metadata": {
        "id": "IHx1iFNpBH6R"
      },
      "source": [
        "v = df.loc[df['Год'] == 2013,['Канал', 'month','Факт руб']]\n",
        "vv = v.groupby(['month', 'Канал']).sum().groupby('Канал').cumsum().reset_index()\n",
        "re = xx.merge(vv, on=['month', 'Канал'], how='outer')\n",
        "re['Прирост'] = re['Факт руб_x'] / re['Факт руб_y'] - 1\n",
        "re['Прирост'] = re['Прирост'].round(2)"
      ],
      "execution_count": null,
      "outputs": []
    },
    {
      "cell_type": "code",
      "metadata": {
        "colab": {
          "base_uri": "https://localhost:8080/",
          "height": 542
        },
        "id": "GmMu7oBJJxbh",
        "outputId": "d6207c4e-1a6f-4af8-c41c-03dd4c3db7eb"
      },
      "source": [
        "fig = px.bar(re, x='month', y='Прирост', color='Канал',\\\n",
        "            title='Прирост накопительных продаж к прошлому году по каналам',\\\n",
        "             text ='Прирост',\n",
        "             labels={'month' : 'Номер Месяца'}\n",
        "            )\n",
        "fig.update_layout(barmode='group', xaxis_tickangle=0, title_font_family=\"Times New Roman\")\n",
        "fig.update_traces( textposition='outside', textangle=0)\n",
        "fig.show()"
      ],
      "execution_count": null,
      "outputs": [
        {
          "output_type": "display_data",
          "data": {
            "text/html": [
              "<html>\n",
              "<head><meta charset=\"utf-8\" /></head>\n",
              "<body>\n",
              "    <div>\n",
              "            <script src=\"https://cdnjs.cloudflare.com/ajax/libs/mathjax/2.7.5/MathJax.js?config=TeX-AMS-MML_SVG\"></script><script type=\"text/javascript\">if (window.MathJax) {MathJax.Hub.Config({SVG: {font: \"STIX-Web\"}});}</script>\n",
              "                <script type=\"text/javascript\">window.PlotlyConfig = {MathJaxConfig: 'local'};</script>\n",
              "        <script src=\"https://cdn.plot.ly/plotly-latest.min.js\"></script>    \n",
              "            <div id=\"5bf9bc9e-e911-43cb-81a4-657e249a1f01\" class=\"plotly-graph-div\" style=\"height:525px; width:100%;\"></div>\n",
              "            <script type=\"text/javascript\">\n",
              "                \n",
              "                    window.PLOTLYENV=window.PLOTLYENV || {};\n",
              "                    \n",
              "                if (document.getElementById(\"5bf9bc9e-e911-43cb-81a4-657e249a1f01\")) {\n",
              "                    Plotly.newPlot(\n",
              "                        '5bf9bc9e-e911-43cb-81a4-657e249a1f01',\n",
              "                        [{\"alignmentgroup\": \"True\", \"hoverlabel\": {\"namelength\": 0}, \"hovertemplate\": \"\\u041a\\u0430\\u043d\\u0430\\u043b=HORECA<br>\\u041d\\u043e\\u043c\\u0435\\u0440 \\u041c\\u0435\\u0441\\u044f\\u0446\\u0430=%{x}<br>\\u041f\\u0440\\u0438\\u0440\\u043e\\u0441\\u0442=%{text}\", \"legendgroup\": \"\\u041a\\u0430\\u043d\\u0430\\u043b=HORECA\", \"marker\": {\"color\": \"#636efa\"}, \"name\": \"\\u041a\\u0430\\u043d\\u0430\\u043b=HORECA\", \"offsetgroup\": \"\\u041a\\u0430\\u043d\\u0430\\u043b=HORECA\", \"orientation\": \"v\", \"showlegend\": true, \"text\": [-1.0, -1.0, -1.0, -1.0, 0.24], \"textangle\": 0, \"textposition\": \"outside\", \"type\": \"bar\", \"x\": [1, 2, 3, 4, 5], \"xaxis\": \"x\", \"y\": [-1.0, -1.0, -1.0, -1.0, 0.24], \"yaxis\": \"y\"}, {\"alignmentgroup\": \"True\", \"hoverlabel\": {\"namelength\": 0}, \"hovertemplate\": \"\\u041a\\u0430\\u043d\\u0430\\u043b=\\u0413\\u041e\\u0421\\u0417\\u0410\\u041a\\u0423\\u041f\\u041a\\u0418<br>\\u041d\\u043e\\u043c\\u0435\\u0440 \\u041c\\u0435\\u0441\\u044f\\u0446\\u0430=%{x}<br>\\u041f\\u0440\\u0438\\u0440\\u043e\\u0441\\u0442=%{text}\", \"legendgroup\": \"\\u041a\\u0430\\u043d\\u0430\\u043b=\\u0413\\u041e\\u0421\\u0417\\u0410\\u041a\\u0423\\u041f\\u041a\\u0418\", \"marker\": {\"color\": \"#EF553B\"}, \"name\": \"\\u041a\\u0430\\u043d\\u0430\\u043b=\\u0413\\u041e\\u0421\\u0417\\u0410\\u041a\\u0423\\u041f\\u041a\\u0418\", \"offsetgroup\": \"\\u041a\\u0430\\u043d\\u0430\\u043b=\\u0413\\u041e\\u0421\\u0417\\u0410\\u041a\\u0423\\u041f\\u041a\\u0418\", \"orientation\": \"v\", \"showlegend\": true, \"text\": [-0.81, -0.8, -0.77, -0.75, -0.74], \"textangle\": 0, \"textposition\": \"outside\", \"type\": \"bar\", \"x\": [1, 2, 3, 4, 5], \"xaxis\": \"x\", \"y\": [-0.81, -0.8, -0.77, -0.75, -0.74], \"yaxis\": \"y\"}, {\"alignmentgroup\": \"True\", \"hoverlabel\": {\"namelength\": 0}, \"hovertemplate\": \"\\u041a\\u0430\\u043d\\u0430\\u043b=\\u0414\\u0418\\u0421\\u0422\\u0420\\u0418\\u0411\\u042c\\u042e\\u0422\\u041e\\u0420<br>\\u041d\\u043e\\u043c\\u0435\\u0440 \\u041c\\u0435\\u0441\\u044f\\u0446\\u0430=%{x}<br>\\u041f\\u0440\\u0438\\u0440\\u043e\\u0441\\u0442=%{text}\", \"legendgroup\": \"\\u041a\\u0430\\u043d\\u0430\\u043b=\\u0414\\u0418\\u0421\\u0422\\u0420\\u0418\\u0411\\u042c\\u042e\\u0422\\u041e\\u0420\", \"marker\": {\"color\": \"#00cc96\"}, \"name\": \"\\u041a\\u0430\\u043d\\u0430\\u043b=\\u0414\\u0418\\u0421\\u0422\\u0420\\u0418\\u0411\\u042c\\u042e\\u0422\\u041e\\u0420\", \"offsetgroup\": \"\\u041a\\u0430\\u043d\\u0430\\u043b=\\u0414\\u0418\\u0421\\u0422\\u0420\\u0418\\u0411\\u042c\\u042e\\u0422\\u041e\\u0420\", \"orientation\": \"v\", \"showlegend\": true, \"text\": [-0.12, -0.03, -0.0, 0.01, -0.01], \"textangle\": 0, \"textposition\": \"outside\", \"type\": \"bar\", \"x\": [1, 2, 3, 4, 5], \"xaxis\": \"x\", \"y\": [-0.12, -0.03, -0.0, 0.01, -0.01], \"yaxis\": \"y\"}, {\"alignmentgroup\": \"True\", \"hoverlabel\": {\"namelength\": 0}, \"hovertemplate\": \"\\u041a\\u0430\\u043d\\u0430\\u043b=\\u041b\\u041a<br>\\u041d\\u043e\\u043c\\u0435\\u0440 \\u041c\\u0435\\u0441\\u044f\\u0446\\u0430=%{x}<br>\\u041f\\u0440\\u0438\\u0440\\u043e\\u0441\\u0442=%{text}\", \"legendgroup\": \"\\u041a\\u0430\\u043d\\u0430\\u043b=\\u041b\\u041a\", \"marker\": {\"color\": \"#ab63fa\"}, \"name\": \"\\u041a\\u0430\\u043d\\u0430\\u043b=\\u041b\\u041a\", \"offsetgroup\": \"\\u041a\\u0430\\u043d\\u0430\\u043b=\\u041b\\u041a\", \"orientation\": \"v\", \"showlegend\": true, \"text\": [0.2, 0.36, 0.52, 0.61, 0.5], \"textangle\": 0, \"textposition\": \"outside\", \"type\": \"bar\", \"x\": [1, 2, 3, 4, 5], \"xaxis\": \"x\", \"y\": [0.2, 0.36, 0.52, 0.61, 0.5], \"yaxis\": \"y\"}, {\"alignmentgroup\": \"True\", \"hoverlabel\": {\"namelength\": 0}, \"hovertemplate\": \"\\u041a\\u0430\\u043d\\u0430\\u043b=\\u041f\\u0420\\u041e\\u0427\\u0415\\u0415<br>\\u041d\\u043e\\u043c\\u0435\\u0440 \\u041c\\u0435\\u0441\\u044f\\u0446\\u0430=%{x}<br>\\u041f\\u0440\\u0438\\u0440\\u043e\\u0441\\u0442=%{text}\", \"legendgroup\": \"\\u041a\\u0430\\u043d\\u0430\\u043b=\\u041f\\u0420\\u041e\\u0427\\u0415\\u0415\", \"marker\": {\"color\": \"#FFA15A\"}, \"name\": \"\\u041a\\u0430\\u043d\\u0430\\u043b=\\u041f\\u0420\\u041e\\u0427\\u0415\\u0415\", \"offsetgroup\": \"\\u041a\\u0430\\u043d\\u0430\\u043b=\\u041f\\u0420\\u041e\\u0427\\u0415\\u0415\", \"orientation\": \"v\", \"showlegend\": true, \"text\": [null, 0.81, 0.59, 0.3, 0.39], \"textangle\": 0, \"textposition\": \"outside\", \"type\": \"bar\", \"x\": [1, 2, 3, 4, 5], \"xaxis\": \"x\", \"y\": [null, 0.81, 0.59, 0.3, 0.39], \"yaxis\": \"y\"}, {\"alignmentgroup\": \"True\", \"hoverlabel\": {\"namelength\": 0}, \"hovertemplate\": \"\\u041a\\u0430\\u043d\\u0430\\u043b=\\u0420\\u041e\\u0417\\u041d\\u0418\\u0426\\u0410<br>\\u041d\\u043e\\u043c\\u0435\\u0440 \\u041c\\u0435\\u0441\\u044f\\u0446\\u0430=%{x}<br>\\u041f\\u0440\\u0438\\u0440\\u043e\\u0441\\u0442=%{text}\", \"legendgroup\": \"\\u041a\\u0430\\u043d\\u0430\\u043b=\\u0420\\u041e\\u0417\\u041d\\u0418\\u0426\\u0410\", \"marker\": {\"color\": \"#19d3f3\"}, \"name\": \"\\u041a\\u0430\\u043d\\u0430\\u043b=\\u0420\\u041e\\u0417\\u041d\\u0418\\u0426\\u0410\", \"offsetgroup\": \"\\u041a\\u0430\\u043d\\u0430\\u043b=\\u0420\\u041e\\u0417\\u041d\\u0418\\u0426\\u0410\", \"orientation\": \"v\", \"showlegend\": true, \"text\": [-0.94, -0.94, -0.95, -0.95, -0.96], \"textangle\": 0, \"textposition\": \"outside\", \"type\": \"bar\", \"x\": [1, 2, 3, 4, 5], \"xaxis\": \"x\", \"y\": [-0.94, -0.94, -0.95, -0.95, -0.96], \"yaxis\": \"y\"}, {\"alignmentgroup\": \"True\", \"hoverlabel\": {\"namelength\": 0}, \"hovertemplate\": \"\\u041a\\u0430\\u043d\\u0430\\u043b=\\u0424\\u0418\\u0417\\u041b\\u0418\\u0426\\u041e<br>\\u041d\\u043e\\u043c\\u0435\\u0440 \\u041c\\u0435\\u0441\\u044f\\u0446\\u0430=%{x}<br>\\u041f\\u0440\\u0438\\u0440\\u043e\\u0441\\u0442=%{text}\", \"legendgroup\": \"\\u041a\\u0430\\u043d\\u0430\\u043b=\\u0424\\u0418\\u0417\\u041b\\u0418\\u0426\\u041e\", \"marker\": {\"color\": \"#FF6692\"}, \"name\": \"\\u041a\\u0430\\u043d\\u0430\\u043b=\\u0424\\u0418\\u0417\\u041b\\u0418\\u0426\\u041e\", \"offsetgroup\": \"\\u041a\\u0430\\u043d\\u0430\\u043b=\\u0424\\u0418\\u0417\\u041b\\u0418\\u0426\\u041e\", \"orientation\": \"v\", \"showlegend\": true, \"text\": [0.84, 0.82, 1.04, 1.7, 2.2], \"textangle\": 0, \"textposition\": \"outside\", \"type\": \"bar\", \"x\": [1, 2, 3, 4, 5], \"xaxis\": \"x\", \"y\": [0.84, 0.82, 1.04, 1.7, 2.2], \"yaxis\": \"y\"}, {\"alignmentgroup\": \"True\", \"hoverlabel\": {\"namelength\": 0}, \"hovertemplate\": \"\\u041a\\u0430\\u043d\\u0430\\u043b=\\u0424\\u041a<br>\\u041d\\u043e\\u043c\\u0435\\u0440 \\u041c\\u0435\\u0441\\u044f\\u0446\\u0430=%{x}<br>\\u041f\\u0440\\u0438\\u0440\\u043e\\u0441\\u0442=%{text}\", \"legendgroup\": \"\\u041a\\u0430\\u043d\\u0430\\u043b=\\u0424\\u041a\", \"marker\": {\"color\": \"#B6E880\"}, \"name\": \"\\u041a\\u0430\\u043d\\u0430\\u043b=\\u0424\\u041a\", \"offsetgroup\": \"\\u041a\\u0430\\u043d\\u0430\\u043b=\\u0424\\u041a\", \"orientation\": \"v\", \"showlegend\": true, \"text\": [0.1, 0.14, 0.16, 0.12, 0.13], \"textangle\": 0, \"textposition\": \"outside\", \"type\": \"bar\", \"x\": [1, 2, 3, 4, 5], \"xaxis\": \"x\", \"y\": [0.1, 0.14, 0.16, 0.12, 0.13], \"yaxis\": \"y\"}],\n",
              "                        {\"barmode\": \"group\", \"legend\": {\"tracegroupgap\": 0}, \"template\": {\"data\": {\"bar\": [{\"error_x\": {\"color\": \"#2a3f5f\"}, \"error_y\": {\"color\": \"#2a3f5f\"}, \"marker\": {\"line\": {\"color\": \"#E5ECF6\", \"width\": 0.5}}, \"type\": \"bar\"}], \"barpolar\": [{\"marker\": {\"line\": {\"color\": \"#E5ECF6\", \"width\": 0.5}}, \"type\": \"barpolar\"}], \"carpet\": [{\"aaxis\": {\"endlinecolor\": \"#2a3f5f\", \"gridcolor\": \"white\", \"linecolor\": \"white\", \"minorgridcolor\": \"white\", \"startlinecolor\": \"#2a3f5f\"}, \"baxis\": {\"endlinecolor\": \"#2a3f5f\", \"gridcolor\": \"white\", \"linecolor\": \"white\", \"minorgridcolor\": \"white\", \"startlinecolor\": \"#2a3f5f\"}, \"type\": \"carpet\"}], \"choropleth\": [{\"colorbar\": {\"outlinewidth\": 0, \"ticks\": \"\"}, \"type\": \"choropleth\"}], \"contour\": [{\"colorbar\": {\"outlinewidth\": 0, \"ticks\": \"\"}, \"colorscale\": [[0.0, \"#0d0887\"], [0.1111111111111111, \"#46039f\"], [0.2222222222222222, \"#7201a8\"], [0.3333333333333333, \"#9c179e\"], [0.4444444444444444, \"#bd3786\"], [0.5555555555555556, \"#d8576b\"], [0.6666666666666666, \"#ed7953\"], [0.7777777777777778, \"#fb9f3a\"], [0.8888888888888888, \"#fdca26\"], [1.0, \"#f0f921\"]], \"type\": \"contour\"}], \"contourcarpet\": [{\"colorbar\": {\"outlinewidth\": 0, \"ticks\": \"\"}, \"type\": \"contourcarpet\"}], \"heatmap\": [{\"colorbar\": {\"outlinewidth\": 0, \"ticks\": \"\"}, \"colorscale\": [[0.0, \"#0d0887\"], [0.1111111111111111, \"#46039f\"], [0.2222222222222222, \"#7201a8\"], [0.3333333333333333, \"#9c179e\"], [0.4444444444444444, \"#bd3786\"], [0.5555555555555556, \"#d8576b\"], [0.6666666666666666, \"#ed7953\"], [0.7777777777777778, \"#fb9f3a\"], [0.8888888888888888, \"#fdca26\"], [1.0, \"#f0f921\"]], \"type\": \"heatmap\"}], \"heatmapgl\": [{\"colorbar\": {\"outlinewidth\": 0, \"ticks\": \"\"}, \"colorscale\": [[0.0, \"#0d0887\"], [0.1111111111111111, \"#46039f\"], [0.2222222222222222, \"#7201a8\"], [0.3333333333333333, \"#9c179e\"], [0.4444444444444444, \"#bd3786\"], [0.5555555555555556, \"#d8576b\"], [0.6666666666666666, \"#ed7953\"], [0.7777777777777778, \"#fb9f3a\"], [0.8888888888888888, \"#fdca26\"], [1.0, \"#f0f921\"]], \"type\": \"heatmapgl\"}], \"histogram\": [{\"marker\": {\"colorbar\": {\"outlinewidth\": 0, \"ticks\": \"\"}}, \"type\": \"histogram\"}], \"histogram2d\": [{\"colorbar\": {\"outlinewidth\": 0, \"ticks\": \"\"}, \"colorscale\": [[0.0, \"#0d0887\"], [0.1111111111111111, \"#46039f\"], [0.2222222222222222, \"#7201a8\"], [0.3333333333333333, \"#9c179e\"], [0.4444444444444444, \"#bd3786\"], [0.5555555555555556, \"#d8576b\"], [0.6666666666666666, \"#ed7953\"], [0.7777777777777778, \"#fb9f3a\"], [0.8888888888888888, \"#fdca26\"], [1.0, \"#f0f921\"]], \"type\": \"histogram2d\"}], \"histogram2dcontour\": [{\"colorbar\": {\"outlinewidth\": 0, \"ticks\": \"\"}, \"colorscale\": [[0.0, \"#0d0887\"], [0.1111111111111111, \"#46039f\"], [0.2222222222222222, \"#7201a8\"], [0.3333333333333333, \"#9c179e\"], [0.4444444444444444, \"#bd3786\"], [0.5555555555555556, \"#d8576b\"], [0.6666666666666666, \"#ed7953\"], [0.7777777777777778, \"#fb9f3a\"], [0.8888888888888888, \"#fdca26\"], [1.0, \"#f0f921\"]], \"type\": \"histogram2dcontour\"}], \"mesh3d\": [{\"colorbar\": {\"outlinewidth\": 0, \"ticks\": \"\"}, \"type\": \"mesh3d\"}], \"parcoords\": [{\"line\": {\"colorbar\": {\"outlinewidth\": 0, \"ticks\": \"\"}}, \"type\": \"parcoords\"}], \"pie\": [{\"automargin\": true, \"type\": \"pie\"}], \"scatter\": [{\"marker\": {\"colorbar\": {\"outlinewidth\": 0, \"ticks\": \"\"}}, \"type\": \"scatter\"}], \"scatter3d\": [{\"line\": {\"colorbar\": {\"outlinewidth\": 0, \"ticks\": \"\"}}, \"marker\": {\"colorbar\": {\"outlinewidth\": 0, \"ticks\": \"\"}}, \"type\": \"scatter3d\"}], \"scattercarpet\": [{\"marker\": {\"colorbar\": {\"outlinewidth\": 0, \"ticks\": \"\"}}, \"type\": \"scattercarpet\"}], \"scattergeo\": [{\"marker\": {\"colorbar\": {\"outlinewidth\": 0, \"ticks\": \"\"}}, \"type\": \"scattergeo\"}], \"scattergl\": [{\"marker\": {\"colorbar\": {\"outlinewidth\": 0, \"ticks\": \"\"}}, \"type\": \"scattergl\"}], \"scattermapbox\": [{\"marker\": {\"colorbar\": {\"outlinewidth\": 0, \"ticks\": \"\"}}, \"type\": \"scattermapbox\"}], \"scatterpolar\": [{\"marker\": {\"colorbar\": {\"outlinewidth\": 0, \"ticks\": \"\"}}, \"type\": \"scatterpolar\"}], \"scatterpolargl\": [{\"marker\": {\"colorbar\": {\"outlinewidth\": 0, \"ticks\": \"\"}}, \"type\": \"scatterpolargl\"}], \"scatterternary\": [{\"marker\": {\"colorbar\": {\"outlinewidth\": 0, \"ticks\": \"\"}}, \"type\": \"scatterternary\"}], \"surface\": [{\"colorbar\": {\"outlinewidth\": 0, \"ticks\": \"\"}, \"colorscale\": [[0.0, \"#0d0887\"], [0.1111111111111111, \"#46039f\"], [0.2222222222222222, \"#7201a8\"], [0.3333333333333333, \"#9c179e\"], [0.4444444444444444, \"#bd3786\"], [0.5555555555555556, \"#d8576b\"], [0.6666666666666666, \"#ed7953\"], [0.7777777777777778, \"#fb9f3a\"], [0.8888888888888888, \"#fdca26\"], [1.0, \"#f0f921\"]], \"type\": \"surface\"}], \"table\": [{\"cells\": {\"fill\": {\"color\": \"#EBF0F8\"}, \"line\": {\"color\": \"white\"}}, \"header\": {\"fill\": {\"color\": \"#C8D4E3\"}, \"line\": {\"color\": \"white\"}}, \"type\": \"table\"}]}, \"layout\": {\"annotationdefaults\": {\"arrowcolor\": \"#2a3f5f\", \"arrowhead\": 0, \"arrowwidth\": 1}, \"coloraxis\": {\"colorbar\": {\"outlinewidth\": 0, \"ticks\": \"\"}}, \"colorscale\": {\"diverging\": [[0, \"#8e0152\"], [0.1, \"#c51b7d\"], [0.2, \"#de77ae\"], [0.3, \"#f1b6da\"], [0.4, \"#fde0ef\"], [0.5, \"#f7f7f7\"], [0.6, \"#e6f5d0\"], [0.7, \"#b8e186\"], [0.8, \"#7fbc41\"], [0.9, \"#4d9221\"], [1, \"#276419\"]], \"sequential\": [[0.0, \"#0d0887\"], [0.1111111111111111, \"#46039f\"], [0.2222222222222222, \"#7201a8\"], [0.3333333333333333, \"#9c179e\"], [0.4444444444444444, \"#bd3786\"], [0.5555555555555556, \"#d8576b\"], [0.6666666666666666, \"#ed7953\"], [0.7777777777777778, \"#fb9f3a\"], [0.8888888888888888, \"#fdca26\"], [1.0, \"#f0f921\"]], \"sequentialminus\": [[0.0, \"#0d0887\"], [0.1111111111111111, \"#46039f\"], [0.2222222222222222, \"#7201a8\"], [0.3333333333333333, \"#9c179e\"], [0.4444444444444444, \"#bd3786\"], [0.5555555555555556, \"#d8576b\"], [0.6666666666666666, \"#ed7953\"], [0.7777777777777778, \"#fb9f3a\"], [0.8888888888888888, \"#fdca26\"], [1.0, \"#f0f921\"]]}, \"colorway\": [\"#636efa\", \"#EF553B\", \"#00cc96\", \"#ab63fa\", \"#FFA15A\", \"#19d3f3\", \"#FF6692\", \"#B6E880\", \"#FF97FF\", \"#FECB52\"], \"font\": {\"color\": \"#2a3f5f\"}, \"geo\": {\"bgcolor\": \"white\", \"lakecolor\": \"white\", \"landcolor\": \"#E5ECF6\", \"showlakes\": true, \"showland\": true, \"subunitcolor\": \"white\"}, \"hoverlabel\": {\"align\": \"left\"}, \"hovermode\": \"closest\", \"mapbox\": {\"style\": \"light\"}, \"paper_bgcolor\": \"white\", \"plot_bgcolor\": \"#E5ECF6\", \"polar\": {\"angularaxis\": {\"gridcolor\": \"white\", \"linecolor\": \"white\", \"ticks\": \"\"}, \"bgcolor\": \"#E5ECF6\", \"radialaxis\": {\"gridcolor\": \"white\", \"linecolor\": \"white\", \"ticks\": \"\"}}, \"scene\": {\"xaxis\": {\"backgroundcolor\": \"#E5ECF6\", \"gridcolor\": \"white\", \"gridwidth\": 2, \"linecolor\": \"white\", \"showbackground\": true, \"ticks\": \"\", \"zerolinecolor\": \"white\"}, \"yaxis\": {\"backgroundcolor\": \"#E5ECF6\", \"gridcolor\": \"white\", \"gridwidth\": 2, \"linecolor\": \"white\", \"showbackground\": true, \"ticks\": \"\", \"zerolinecolor\": \"white\"}, \"zaxis\": {\"backgroundcolor\": \"#E5ECF6\", \"gridcolor\": \"white\", \"gridwidth\": 2, \"linecolor\": \"white\", \"showbackground\": true, \"ticks\": \"\", \"zerolinecolor\": \"white\"}}, \"shapedefaults\": {\"line\": {\"color\": \"#2a3f5f\"}}, \"ternary\": {\"aaxis\": {\"gridcolor\": \"white\", \"linecolor\": \"white\", \"ticks\": \"\"}, \"baxis\": {\"gridcolor\": \"white\", \"linecolor\": \"white\", \"ticks\": \"\"}, \"bgcolor\": \"#E5ECF6\", \"caxis\": {\"gridcolor\": \"white\", \"linecolor\": \"white\", \"ticks\": \"\"}}, \"title\": {\"x\": 0.05}, \"xaxis\": {\"automargin\": true, \"gridcolor\": \"white\", \"linecolor\": \"white\", \"ticks\": \"\", \"title\": {\"standoff\": 15}, \"zerolinecolor\": \"white\", \"zerolinewidth\": 2}, \"yaxis\": {\"automargin\": true, \"gridcolor\": \"white\", \"linecolor\": \"white\", \"ticks\": \"\", \"title\": {\"standoff\": 15}, \"zerolinecolor\": \"white\", \"zerolinewidth\": 2}}}, \"title\": {\"font\": {\"family\": \"Times New Roman\"}, \"text\": \"\\u041f\\u0440\\u0438\\u0440\\u043e\\u0441\\u0442 \\u043d\\u0430\\u043a\\u043e\\u043f\\u0438\\u0442\\u0435\\u043b\\u044c\\u043d\\u044b\\u0445 \\u043f\\u0440\\u043e\\u0434\\u0430\\u0436 \\u043a \\u043f\\u0440\\u043e\\u0448\\u043b\\u043e\\u043c\\u0443 \\u0433\\u043e\\u0434\\u0443 \\u043f\\u043e \\u043a\\u0430\\u043d\\u0430\\u043b\\u0430\\u043c\"}, \"xaxis\": {\"anchor\": \"y\", \"domain\": [0.0, 1.0], \"tickangle\": 0, \"title\": {\"text\": \"\\u041d\\u043e\\u043c\\u0435\\u0440 \\u041c\\u0435\\u0441\\u044f\\u0446\\u0430\"}}, \"yaxis\": {\"anchor\": \"x\", \"domain\": [0.0, 1.0], \"title\": {\"text\": \"\\u041f\\u0440\\u0438\\u0440\\u043e\\u0441\\u0442\"}}},\n",
              "                        {\"responsive\": true}\n",
              "                    ).then(function(){\n",
              "                            \n",
              "var gd = document.getElementById('5bf9bc9e-e911-43cb-81a4-657e249a1f01');\n",
              "var x = new MutationObserver(function (mutations, observer) {{\n",
              "        var display = window.getComputedStyle(gd).display;\n",
              "        if (!display || display === 'none') {{\n",
              "            console.log([gd, 'removed!']);\n",
              "            Plotly.purge(gd);\n",
              "            observer.disconnect();\n",
              "        }}\n",
              "}});\n",
              "\n",
              "// Listen for the removal of the full notebook cells\n",
              "var notebookContainer = gd.closest('#notebook-container');\n",
              "if (notebookContainer) {{\n",
              "    x.observe(notebookContainer, {childList: true});\n",
              "}}\n",
              "\n",
              "// Listen for the clearing of the current output cell\n",
              "var outputEl = gd.closest('.output');\n",
              "if (outputEl) {{\n",
              "    x.observe(outputEl, {childList: true});\n",
              "}}\n",
              "\n",
              "                        })\n",
              "                };\n",
              "                \n",
              "            </script>\n",
              "        </div>\n",
              "</body>\n",
              "</html>"
            ]
          },
          "metadata": {
            "tags": []
          }
        }
      ]
    },
    {
      "cell_type": "markdown",
      "metadata": {
        "id": "sPAtU8kpe8Op"
      },
      "source": [
        "Краткий вывод\n",
        "1. Сильный прирост по каналам Физлицо, ЛК и ФК"
      ]
    },
    {
      "cell_type": "markdown",
      "metadata": {
        "id": "Z_4l1VYlgLVq"
      },
      "source": [
        "Общий вывод\n",
        "\n",
        "Бренды:\n",
        "1. Самые продаваемые бренды: \"Малыши\" и \"ЛБЮВЕТ5.0\" и показывают положительную динамику с 2013 годом\n",
        "2. Невыполнение плана по лидерам брендов около 10-12%\n",
        "\n",
        "Каналы:\n",
        "1. Самые продаваемые каналы: Дистрибьютор и ФК\n",
        "2. Сильное накопительное невыполнение по каналам Розница (-34%) и Дистрибьютор (-15%)\n",
        "3. Сильный прирост по сравнению с 2013 годом в каналах Физлицо (+220%), ЛК (+50%), Прочее (+39%), Horeca (+24%)\n",
        "4. Сильное падение к 2013 году по каналу Розница (-96%) и Госзакупки (-74%)\n"
      ]
    }
  ]
}