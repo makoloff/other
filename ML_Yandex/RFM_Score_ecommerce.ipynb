{
  "nbformat": 4,
  "nbformat_minor": 0,
  "metadata": {
    "colab": {
      "name": "rfm-score-ecommerce.ipynb",
      "provenance": [],
      "collapsed_sections": []
    },
    "kernelspec": {
      "display_name": "Python 3",
      "name": "python3"
    }
  },
  "cells": [
    {
      "cell_type": "markdown",
      "metadata": {
        "id": "4BYfbikHL9EI"
      },
      "source": [
        "# Заливка"
      ]
    },
    {
      "cell_type": "markdown",
      "metadata": {
        "id": "islIHvxzMv5s"
      },
      "source": [
        "Нужно обновить sqlite3, чтобы были доступны все функции, например оконные."
      ]
    },
    {
      "cell_type": "code",
      "metadata": {
        "colab": {
          "base_uri": "https://localhost:8080/"
        },
        "id": "xqOZqAlUMJ6t",
        "outputId": "ed6f3d1e-52a0-4812-e5fa-ffc027c6b840"
      },
      "source": [
        "!wget https://www.sqlite.org/src/tarball/sqlite.tar.gz?r=release -O sqlite.tar.gz\n",
        "!tar xzf sqlite.tar.gz\n",
        "%cd sqlite/\n",
        "!./configure\n",
        "!make sqlite3.c\n",
        "%cd /content\n",
        "!npx degit coleifer/pysqlite3 -f\n",
        "!cp sqlite/sqlite3.[ch] .\n",
        "!python setup.py build_static build\n",
        "!cp build/lib.linux-x86_64-3.6/pysqlite3/_sqlite3.cpython-36m-x86_64-linux-gnu.so \\\n",
        "    /usr/lib/python3.6/lib-dynload/_sqlite3.cpython-36m-x86_64-linux-gnu.so\n",
        "# then MENU: Runtime > Restart runtime ..."
      ],
      "execution_count": null,
      "outputs": [
        {
          "output_type": "stream",
          "text": [
            "--2020-11-26 06:37:30--  https://www.sqlite.org/src/tarball/sqlite.tar.gz?r=release\n",
            "Resolving www.sqlite.org (www.sqlite.org)... 45.33.6.223, 2600:3c00::f03c:91ff:fe96:b959\n",
            "Connecting to www.sqlite.org (www.sqlite.org)|45.33.6.223|:443... connected.\n",
            "HTTP request sent, awaiting response... 200 OK\n",
            "Length: 11075165 (11M) [application/x-compressed]\n",
            "Saving to: ‘sqlite.tar.gz’\n",
            "\n",
            "sqlite.tar.gz       100%[===================>]  10.56M  40.1MB/s    in 0.3s    \n",
            "\n",
            "2020-11-26 06:37:31 (40.1 MB/s) - ‘sqlite.tar.gz’ saved [11075165/11075165]\n",
            "\n",
            "/content/sqlite\n",
            "checking build system type... x86_64-pc-linux-gnu\n",
            "checking host system type... x86_64-pc-linux-gnu\n",
            "checking for gcc... gcc\n",
            "checking whether the C compiler works... yes\n",
            "checking for C compiler default output file name... a.out\n",
            "checking for suffix of executables... \n",
            "checking whether we are cross compiling... no\n",
            "checking for suffix of object files... o\n",
            "checking whether we are using the GNU C compiler... yes\n",
            "checking whether gcc accepts -g... yes\n",
            "checking for gcc option to accept ISO C89... none needed\n",
            "checking for a sed that does not truncate output... /bin/sed\n",
            "checking for grep that handles long lines and -e... /bin/grep\n",
            "checking for egrep... /bin/grep -E\n",
            "checking for fgrep... /bin/grep -F\n",
            "checking for ld used by gcc... /usr/bin/ld\n",
            "checking if the linker (/usr/bin/ld) is GNU ld... yes\n",
            "checking for BSD- or MS-compatible name lister (nm)... /usr/bin/nm -B\n",
            "checking the name lister (/usr/bin/nm -B) interface... BSD nm\n",
            "checking whether ln -s works... yes\n",
            "checking the maximum length of command line arguments... 1572864\n",
            "checking whether the shell understands some XSI constructs... yes\n",
            "checking whether the shell understands \"+=\"... yes\n",
            "checking for /usr/bin/ld option to reload object files... -r\n",
            "checking for objdump... objdump\n",
            "checking how to recognize dependent libraries... pass_all\n",
            "checking for ar... ar\n",
            "checking for strip... strip\n",
            "checking for ranlib... ranlib\n",
            "checking command to parse /usr/bin/nm -B output from gcc object... ok\n",
            "./configure: line 5195: /usr/bin/file: No such file or directory\n",
            "checking how to run the C preprocessor... gcc -E\n",
            "checking for ANSI C header files... yes\n",
            "checking for sys/types.h... yes\n",
            "checking for sys/stat.h... yes\n",
            "checking for stdlib.h... yes\n",
            "checking for string.h... yes\n",
            "checking for memory.h... yes\n",
            "checking for strings.h... yes\n",
            "checking for inttypes.h... yes\n",
            "checking for stdint.h... yes\n",
            "checking for unistd.h... yes\n",
            "checking for dlfcn.h... yes\n",
            "checking for objdir... .libs\n",
            "checking if gcc supports -fno-rtti -fno-exceptions... no\n",
            "checking for gcc option to produce PIC... -fPIC -DPIC\n",
            "checking if gcc PIC flag -fPIC -DPIC works... yes\n",
            "checking if gcc static flag -static works... yes\n",
            "checking if gcc supports -c -o file.o... yes\n",
            "checking if gcc supports -c -o file.o... (cached) yes\n",
            "checking whether the gcc linker (/usr/bin/ld) supports shared libraries... yes\n",
            "checking whether -lc should be explicitly linked in... no\n",
            "checking dynamic linker characteristics... GNU/Linux ld.so\n",
            "checking how to hardcode library paths into programs... immediate\n",
            "checking whether stripping libraries is possible... yes\n",
            "checking if libtool supports shared libraries... yes\n",
            "checking whether to build shared libraries... yes\n",
            "checking whether to build static libraries... yes\n",
            "checking for a BSD-compatible install... /usr/bin/install -c\n",
            "checking for special C compiler options needed for large files... no\n",
            "checking for _FILE_OFFSET_BITS value needed for large files... no\n",
            "checking for int8_t... yes\n",
            "checking for int16_t... yes\n",
            "checking for int32_t... yes\n",
            "checking for int64_t... yes\n",
            "checking for intptr_t... yes\n",
            "checking for uint8_t... yes\n",
            "checking for uint16_t... yes\n",
            "checking for uint32_t... yes\n",
            "checking for uint64_t... yes\n",
            "checking for uintptr_t... yes\n",
            "checking for sys/types.h... (cached) yes\n",
            "checking for stdlib.h... (cached) yes\n",
            "checking for stdint.h... (cached) yes\n",
            "checking for inttypes.h... (cached) yes\n",
            "checking malloc.h usability... yes\n",
            "checking malloc.h presence... yes\n",
            "checking for malloc.h... yes\n",
            "checking for fdatasync... yes\n",
            "checking for gmtime_r... yes\n",
            "checking for isnan... yes\n",
            "checking for localtime_r... yes\n",
            "checking for localtime_s... no\n",
            "checking for malloc_usable_size... yes\n",
            "checking for strchrnul... yes\n",
            "checking for usleep... yes\n",
            "checking for utime... yes\n",
            "checking for pread... yes\n",
            "checking for pread64... yes\n",
            "checking for pwrite... yes\n",
            "checking for pwrite64... yes\n",
            "checking for tclsh8.7... no\n",
            "checking for tclsh8.6... tclsh8.6\n",
            "configure: Version set to 3.33\n",
            "configure: Release set to 3.33.0\n",
            "configure: Version number set to 3033000\n",
            "checking whether to support threadsafe operation... yes\n",
            "checking for library containing pthread_create... -lpthread\n",
            "checking for library containing pthread_mutexattr_init... none required\n",
            "checking whether to support shared library linked as release mode or not... no\n",
            "checking whether to use an in-ram database for temporary tables... no\n",
            "checking if executables have the .exe suffix... unknown\n",
            "checking for Tcl configuration... found /usr/lib/tclConfig.sh\n",
            "checking for existence of /usr/lib/tclConfig.sh... loading\n",
            "checking for library containing readline... no\n",
            "checking for library containing tgetent... -lncurses\n",
            "checking for readline in -lreadline... yes\n",
            "checking readline.h usability... no\n",
            "checking readline.h presence... no\n",
            "checking for readline.h... no\n",
            "checking for /usr/include/readline.h... no\n",
            "checking for /usr/include/readline/readline.h... yes\n",
            "checking for library containing fdatasync... none required\n",
            "checking zlib.h usability... yes\n",
            "checking zlib.h presence... yes\n",
            "checking for zlib.h... yes\n",
            "checking for library containing deflate... -lz\n",
            "checking for library containing dlopen... -ldl\n",
            "checking whether to support MEMSYS5... no\n",
            "checking whether to support MEMSYS3... no\n",
            "configure: creating ./config.status\n",
            "config.status: creating Makefile\n",
            "config.status: creating sqlite3.pc\n",
            "config.status: creating config.h\n",
            "config.status: executing libtool commands\n",
            "gcc  -g -O2 -o mkkeywordhash   /content/sqlite/tool/mkkeywordhash.c\n",
            "./mkkeywordhash >keywordhash.h\n",
            "gcc  -g -O2 -o lemon /content/sqlite/tool/lemon.c\n",
            "cp /content/sqlite/tool/lempar.c .\n",
            "cp /content/sqlite/src/parse.y .\n",
            "./lemon   -S parse.y\n",
            "cat parse.h /content/sqlite/src/vdbe.c | tclsh8.6 /content/sqlite/tool/mkopcodeh.tcl >opcodes.h\n",
            "tclsh8.6 /content/sqlite/tool/mkopcodec.tcl opcodes.h >opcodes.c\n",
            "tclsh8.6 /content/sqlite/tool/mkshellc.tcl >shell.c\n",
            "gcc  -g -O2 -o mksourceid /content/sqlite/tool/mksourceid.c\n",
            "tclsh8.6 /content/sqlite/tool/mksqlite3h.tcl /content/sqlite >sqlite3.h\n",
            "cp /content/sqlite/ext/fts5/fts5parse.y .\n",
            "rm -f fts5parse.h\n",
            "./lemon  -S fts5parse.y\n",
            "tclsh8.6 /content/sqlite/ext/fts5/tool/mkfts5c.tcl\n",
            "cp /content/sqlite/ext/fts5/fts5.h .\n",
            "rm -rf tsrc\n",
            "mkdir tsrc\n",
            "cp -f /content/sqlite/src/alter.c /content/sqlite/src/analyze.c /content/sqlite/src/attach.c /content/sqlite/src/auth.c /content/sqlite/src/backup.c /content/sqlite/src/bitvec.c /content/sqlite/src/btmutex.c /content/sqlite/src/btree.c /content/sqlite/src/btree.h /content/sqlite/src/btreeInt.h /content/sqlite/src/build.c /content/sqlite/src/callback.c /content/sqlite/src/complete.c /content/sqlite/src/ctime.c /content/sqlite/src/date.c /content/sqlite/src/dbpage.c /content/sqlite/src/dbstat.c /content/sqlite/src/delete.c /content/sqlite/src/expr.c /content/sqlite/src/fault.c /content/sqlite/src/fkey.c /content/sqlite/src/func.c /content/sqlite/src/global.c /content/sqlite/src/hash.c /content/sqlite/src/hash.h /content/sqlite/src/hwtime.h /content/sqlite/src/insert.c /content/sqlite/src/legacy.c /content/sqlite/src/loadext.c /content/sqlite/src/main.c /content/sqlite/src/malloc.c /content/sqlite/src/mem0.c /content/sqlite/src/mem1.c /content/sqlite/src/mem2.c /content/sqlite/src/mem3.c /content/sqlite/src/mem5.c /content/sqlite/src/memdb.c /content/sqlite/src/memjournal.c /content/sqlite/src/msvc.h /content/sqlite/src/mutex.c /content/sqlite/src/mutex.h /content/sqlite/src/mutex_noop.c /content/sqlite/src/mutex_unix.c /content/sqlite/src/mutex_w32.c /content/sqlite/src/notify.c /content/sqlite/src/os.c /content/sqlite/src/os.h /content/sqlite/src/os_common.h /content/sqlite/src/os_setup.h /content/sqlite/src/os_unix.c /content/sqlite/src/os_win.c /content/sqlite/src/os_win.h /content/sqlite/src/pager.c /content/sqlite/src/pager.h /content/sqlite/src/parse.y /content/sqlite/src/pcache.c /content/sqlite/src/pcache.h /content/sqlite/src/pcache1.c /content/sqlite/src/pragma.c /content/sqlite/src/pragma.h /content/sqlite/src/prepare.c /content/sqlite/src/printf.c /content/sqlite/src/random.c /content/sqlite/src/resolve.c /content/sqlite/src/rowset.c /content/sqlite/src/select.c /content/sqlite/src/status.c /content/sqlite/src/shell.c.in /content/sqlite/src/sqlite.h.in /content/sqlite/src/sqlite3ext.h /content/sqlite/src/sqliteInt.h /content/sqlite/src/sqliteLimit.h /content/sqlite/src/table.c /content/sqlite/src/tclsqlite.c /content/sqlite/src/threads.c /content/sqlite/src/tokenize.c /content/sqlite/src/treeview.c /content/sqlite/src/trigger.c /content/sqlite/src/utf.c /content/sqlite/src/update.c /content/sqlite/src/upsert.c /content/sqlite/src/util.c /content/sqlite/src/vacuum.c /content/sqlite/src/vdbe.c /content/sqlite/src/vdbe.h /content/sqlite/src/vdbeapi.c /content/sqlite/src/vdbeaux.c /content/sqlite/src/vdbeblob.c /content/sqlite/src/vdbemem.c /content/sqlite/src/vdbesort.c /content/sqlite/src/vdbetrace.c /content/sqlite/src/vdbevtab.c /content/sqlite/src/vdbeInt.h /content/sqlite/src/vtab.c /content/sqlite/src/vxworks.h /content/sqlite/src/wal.c /content/sqlite/src/wal.h /content/sqlite/src/walker.c /content/sqlite/src/where.c /content/sqlite/src/wherecode.c /content/sqlite/src/whereexpr.c /content/sqlite/src/whereInt.h /content/sqlite/src/window.c /content/sqlite/ext/fts1/fts1.c /content/sqlite/ext/fts1/fts1.h /content/sqlite/ext/fts1/fts1_hash.c /content/sqlite/ext/fts1/fts1_hash.h /content/sqlite/ext/fts1/fts1_porter.c /content/sqlite/ext/fts1/fts1_tokenizer.h /content/sqlite/ext/fts1/fts1_tokenizer1.c /content/sqlite/ext/fts2/fts2.c /content/sqlite/ext/fts2/fts2.h /content/sqlite/ext/fts2/fts2_hash.c /content/sqlite/ext/fts2/fts2_hash.h /content/sqlite/ext/fts2/fts2_icu.c /content/sqlite/ext/fts2/fts2_porter.c /content/sqlite/ext/fts2/fts2_tokenizer.h /content/sqlite/ext/fts2/fts2_tokenizer.c /content/sqlite/ext/fts2/fts2_tokenizer1.c /content/sqlite/ext/fts3/fts3.c /content/sqlite/ext/fts3/fts3.h /content/sqlite/ext/fts3/fts3Int.h /content/sqlite/ext/fts3/fts3_aux.c /content/sqlite/ext/fts3/fts3_expr.c /content/sqlite/ext/fts3/fts3_hash.c /content/sqlite/ext/fts3/fts3_hash.h /content/sqlite/ext/fts3/fts3_icu.c /content/sqlite/ext/fts3/fts3_porter.c /content/sqlite/ext/fts3/fts3_snippet.c /content/sqlite/ext/fts3/fts3_tokenizer.h /content/sqlite/ext/fts3/fts3_tokenizer.c /content/sqlite/ext/fts3/fts3_tokenizer1.c /content/sqlite/ext/fts3/fts3_tokenize_vtab.c /content/sqlite/ext/fts3/fts3_unicode.c /content/sqlite/ext/fts3/fts3_unicode2.c /content/sqlite/ext/fts3/fts3_write.c /content/sqlite/ext/icu/sqliteicu.h /content/sqlite/ext/icu/icu.c /content/sqlite/ext/rtree/rtree.h /content/sqlite/ext/rtree/rtree.c /content/sqlite/ext/rtree/geopoly.c /content/sqlite/ext/session/sqlite3session.c /content/sqlite/ext/session/sqlite3session.h /content/sqlite/ext/userauth/userauth.c /content/sqlite/ext/userauth/sqlite3userauth.h /content/sqlite/ext/rbu/sqlite3rbu.h /content/sqlite/ext/rbu/sqlite3rbu.c /content/sqlite/ext/misc/json1.c /content/sqlite/ext/misc/stmt.c keywordhash.h opcodes.c opcodes.h parse.c parse.h config.h shell.c sqlite3.h tsrc\n",
            "rm tsrc/sqlite.h.in tsrc/parse.y\n",
            "tclsh8.6 /content/sqlite/tool/vdbe-compress.tcl  <tsrc/vdbe.c >vdbe.new\n",
            "mv vdbe.new tsrc/vdbe.c\n",
            "cp fts5.c fts5.h tsrc\n",
            "touch .target_source\n",
            "tclsh8.6 /content/sqlite/tool/mksqlite3c.tcl\n",
            "cp tsrc/sqlite3ext.h .\n",
            "cp /content/sqlite/ext/session/sqlite3session.h .\n",
            "/content\n",
            "\u001b[K\u001b[?25hnpx: installed 1 in 2.324s\n",
            "\u001b[36m> destination directory is not empty. Using --force, continuing\u001b[39m\n",
            "\u001b[36m> cloned \u001b[1mcoleifer/pysqlite3\u001b[22m#\u001b[1mmaster\u001b[22m\u001b[39m\n",
            "running build_static\n",
            "Builds a C extension using a sqlite3 amalgamation\n",
            "building 'pysqlite3._sqlite3' extension\n",
            "creating build\n",
            "creating build/temp.linux-x86_64-3.6\n",
            "creating build/temp.linux-x86_64-3.6/src\n",
            "x86_64-linux-gnu-gcc -pthread -DNDEBUG -g -fwrapv -O2 -Wall -g -fstack-protector-strong -Wformat -Werror=format-security -Wdate-time -D_FORTIFY_SOURCE=2 -fPIC -DMODULE_NAME=\"pysqlite3.dbapi2\" -DSQLITE_ALLOW_COVERING_INDEX_SCAN=1 -DSQLITE_ENABLE_FTS3=1 -DSQLITE_ENABLE_FTS3_PARENTHESIS=1 -DSQLITE_ENABLE_FTS4=1 -DSQLITE_ENABLE_FTS5=1 -DSQLITE_ENABLE_JSON1=1 -DSQLITE_ENABLE_LOAD_EXTENSION=1 -DSQLITE_ENABLE_RTREE=1 -DSQLITE_ENABLE_STAT4=1 -DSQLITE_ENABLE_UPDATE_DELETE_LIMIT=1 -DSQLITE_SOUNDEX=1 -DSQLITE_USE_URI=1 -DSQLITE_TEMP_STORE=3 -DSQLITE_MAX_VARIABLE_NUMBER=250000 -I. -I/usr/include/python3.6m -c src/module.c -o build/temp.linux-x86_64-3.6/src/module.o\n",
            "x86_64-linux-gnu-gcc -pthread -DNDEBUG -g -fwrapv -O2 -Wall -g -fstack-protector-strong -Wformat -Werror=format-security -Wdate-time -D_FORTIFY_SOURCE=2 -fPIC -DMODULE_NAME=\"pysqlite3.dbapi2\" -DSQLITE_ALLOW_COVERING_INDEX_SCAN=1 -DSQLITE_ENABLE_FTS3=1 -DSQLITE_ENABLE_FTS3_PARENTHESIS=1 -DSQLITE_ENABLE_FTS4=1 -DSQLITE_ENABLE_FTS5=1 -DSQLITE_ENABLE_JSON1=1 -DSQLITE_ENABLE_LOAD_EXTENSION=1 -DSQLITE_ENABLE_RTREE=1 -DSQLITE_ENABLE_STAT4=1 -DSQLITE_ENABLE_UPDATE_DELETE_LIMIT=1 -DSQLITE_SOUNDEX=1 -DSQLITE_USE_URI=1 -DSQLITE_TEMP_STORE=3 -DSQLITE_MAX_VARIABLE_NUMBER=250000 -I. -I/usr/include/python3.6m -c src/connection.c -o build/temp.linux-x86_64-3.6/src/connection.o\n",
            "x86_64-linux-gnu-gcc -pthread -DNDEBUG -g -fwrapv -O2 -Wall -g -fstack-protector-strong -Wformat -Werror=format-security -Wdate-time -D_FORTIFY_SOURCE=2 -fPIC -DMODULE_NAME=\"pysqlite3.dbapi2\" -DSQLITE_ALLOW_COVERING_INDEX_SCAN=1 -DSQLITE_ENABLE_FTS3=1 -DSQLITE_ENABLE_FTS3_PARENTHESIS=1 -DSQLITE_ENABLE_FTS4=1 -DSQLITE_ENABLE_FTS5=1 -DSQLITE_ENABLE_JSON1=1 -DSQLITE_ENABLE_LOAD_EXTENSION=1 -DSQLITE_ENABLE_RTREE=1 -DSQLITE_ENABLE_STAT4=1 -DSQLITE_ENABLE_UPDATE_DELETE_LIMIT=1 -DSQLITE_SOUNDEX=1 -DSQLITE_USE_URI=1 -DSQLITE_TEMP_STORE=3 -DSQLITE_MAX_VARIABLE_NUMBER=250000 -I. -I/usr/include/python3.6m -c src/cursor.c -o build/temp.linux-x86_64-3.6/src/cursor.o\n",
            "x86_64-linux-gnu-gcc -pthread -DNDEBUG -g -fwrapv -O2 -Wall -g -fstack-protector-strong -Wformat -Werror=format-security -Wdate-time -D_FORTIFY_SOURCE=2 -fPIC -DMODULE_NAME=\"pysqlite3.dbapi2\" -DSQLITE_ALLOW_COVERING_INDEX_SCAN=1 -DSQLITE_ENABLE_FTS3=1 -DSQLITE_ENABLE_FTS3_PARENTHESIS=1 -DSQLITE_ENABLE_FTS4=1 -DSQLITE_ENABLE_FTS5=1 -DSQLITE_ENABLE_JSON1=1 -DSQLITE_ENABLE_LOAD_EXTENSION=1 -DSQLITE_ENABLE_RTREE=1 -DSQLITE_ENABLE_STAT4=1 -DSQLITE_ENABLE_UPDATE_DELETE_LIMIT=1 -DSQLITE_SOUNDEX=1 -DSQLITE_USE_URI=1 -DSQLITE_TEMP_STORE=3 -DSQLITE_MAX_VARIABLE_NUMBER=250000 -I. -I/usr/include/python3.6m -c src/cache.c -o build/temp.linux-x86_64-3.6/src/cache.o\n",
            "x86_64-linux-gnu-gcc -pthread -DNDEBUG -g -fwrapv -O2 -Wall -g -fstack-protector-strong -Wformat -Werror=format-security -Wdate-time -D_FORTIFY_SOURCE=2 -fPIC -DMODULE_NAME=\"pysqlite3.dbapi2\" -DSQLITE_ALLOW_COVERING_INDEX_SCAN=1 -DSQLITE_ENABLE_FTS3=1 -DSQLITE_ENABLE_FTS3_PARENTHESIS=1 -DSQLITE_ENABLE_FTS4=1 -DSQLITE_ENABLE_FTS5=1 -DSQLITE_ENABLE_JSON1=1 -DSQLITE_ENABLE_LOAD_EXTENSION=1 -DSQLITE_ENABLE_RTREE=1 -DSQLITE_ENABLE_STAT4=1 -DSQLITE_ENABLE_UPDATE_DELETE_LIMIT=1 -DSQLITE_SOUNDEX=1 -DSQLITE_USE_URI=1 -DSQLITE_TEMP_STORE=3 -DSQLITE_MAX_VARIABLE_NUMBER=250000 -I. -I/usr/include/python3.6m -c src/microprotocols.c -o build/temp.linux-x86_64-3.6/src/microprotocols.o\n",
            "x86_64-linux-gnu-gcc -pthread -DNDEBUG -g -fwrapv -O2 -Wall -g -fstack-protector-strong -Wformat -Werror=format-security -Wdate-time -D_FORTIFY_SOURCE=2 -fPIC -DMODULE_NAME=\"pysqlite3.dbapi2\" -DSQLITE_ALLOW_COVERING_INDEX_SCAN=1 -DSQLITE_ENABLE_FTS3=1 -DSQLITE_ENABLE_FTS3_PARENTHESIS=1 -DSQLITE_ENABLE_FTS4=1 -DSQLITE_ENABLE_FTS5=1 -DSQLITE_ENABLE_JSON1=1 -DSQLITE_ENABLE_LOAD_EXTENSION=1 -DSQLITE_ENABLE_RTREE=1 -DSQLITE_ENABLE_STAT4=1 -DSQLITE_ENABLE_UPDATE_DELETE_LIMIT=1 -DSQLITE_SOUNDEX=1 -DSQLITE_USE_URI=1 -DSQLITE_TEMP_STORE=3 -DSQLITE_MAX_VARIABLE_NUMBER=250000 -I. -I/usr/include/python3.6m -c src/prepare_protocol.c -o build/temp.linux-x86_64-3.6/src/prepare_protocol.o\n",
            "x86_64-linux-gnu-gcc -pthread -DNDEBUG -g -fwrapv -O2 -Wall -g -fstack-protector-strong -Wformat -Werror=format-security -Wdate-time -D_FORTIFY_SOURCE=2 -fPIC -DMODULE_NAME=\"pysqlite3.dbapi2\" -DSQLITE_ALLOW_COVERING_INDEX_SCAN=1 -DSQLITE_ENABLE_FTS3=1 -DSQLITE_ENABLE_FTS3_PARENTHESIS=1 -DSQLITE_ENABLE_FTS4=1 -DSQLITE_ENABLE_FTS5=1 -DSQLITE_ENABLE_JSON1=1 -DSQLITE_ENABLE_LOAD_EXTENSION=1 -DSQLITE_ENABLE_RTREE=1 -DSQLITE_ENABLE_STAT4=1 -DSQLITE_ENABLE_UPDATE_DELETE_LIMIT=1 -DSQLITE_SOUNDEX=1 -DSQLITE_USE_URI=1 -DSQLITE_TEMP_STORE=3 -DSQLITE_MAX_VARIABLE_NUMBER=250000 -I. -I/usr/include/python3.6m -c src/statement.c -o build/temp.linux-x86_64-3.6/src/statement.o\n",
            "x86_64-linux-gnu-gcc -pthread -DNDEBUG -g -fwrapv -O2 -Wall -g -fstack-protector-strong -Wformat -Werror=format-security -Wdate-time -D_FORTIFY_SOURCE=2 -fPIC -DMODULE_NAME=\"pysqlite3.dbapi2\" -DSQLITE_ALLOW_COVERING_INDEX_SCAN=1 -DSQLITE_ENABLE_FTS3=1 -DSQLITE_ENABLE_FTS3_PARENTHESIS=1 -DSQLITE_ENABLE_FTS4=1 -DSQLITE_ENABLE_FTS5=1 -DSQLITE_ENABLE_JSON1=1 -DSQLITE_ENABLE_LOAD_EXTENSION=1 -DSQLITE_ENABLE_RTREE=1 -DSQLITE_ENABLE_STAT4=1 -DSQLITE_ENABLE_UPDATE_DELETE_LIMIT=1 -DSQLITE_SOUNDEX=1 -DSQLITE_USE_URI=1 -DSQLITE_TEMP_STORE=3 -DSQLITE_MAX_VARIABLE_NUMBER=250000 -I. -I/usr/include/python3.6m -c src/util.c -o build/temp.linux-x86_64-3.6/src/util.o\n",
            "x86_64-linux-gnu-gcc -pthread -DNDEBUG -g -fwrapv -O2 -Wall -g -fstack-protector-strong -Wformat -Werror=format-security -Wdate-time -D_FORTIFY_SOURCE=2 -fPIC -DMODULE_NAME=\"pysqlite3.dbapi2\" -DSQLITE_ALLOW_COVERING_INDEX_SCAN=1 -DSQLITE_ENABLE_FTS3=1 -DSQLITE_ENABLE_FTS3_PARENTHESIS=1 -DSQLITE_ENABLE_FTS4=1 -DSQLITE_ENABLE_FTS5=1 -DSQLITE_ENABLE_JSON1=1 -DSQLITE_ENABLE_LOAD_EXTENSION=1 -DSQLITE_ENABLE_RTREE=1 -DSQLITE_ENABLE_STAT4=1 -DSQLITE_ENABLE_UPDATE_DELETE_LIMIT=1 -DSQLITE_SOUNDEX=1 -DSQLITE_USE_URI=1 -DSQLITE_TEMP_STORE=3 -DSQLITE_MAX_VARIABLE_NUMBER=250000 -I. -I/usr/include/python3.6m -c src/row.c -o build/temp.linux-x86_64-3.6/src/row.o\n",
            "x86_64-linux-gnu-gcc -pthread -DNDEBUG -g -fwrapv -O2 -Wall -g -fstack-protector-strong -Wformat -Werror=format-security -Wdate-time -D_FORTIFY_SOURCE=2 -fPIC -DMODULE_NAME=\"pysqlite3.dbapi2\" -DSQLITE_ALLOW_COVERING_INDEX_SCAN=1 -DSQLITE_ENABLE_FTS3=1 -DSQLITE_ENABLE_FTS3_PARENTHESIS=1 -DSQLITE_ENABLE_FTS4=1 -DSQLITE_ENABLE_FTS5=1 -DSQLITE_ENABLE_JSON1=1 -DSQLITE_ENABLE_LOAD_EXTENSION=1 -DSQLITE_ENABLE_RTREE=1 -DSQLITE_ENABLE_STAT4=1 -DSQLITE_ENABLE_UPDATE_DELETE_LIMIT=1 -DSQLITE_SOUNDEX=1 -DSQLITE_USE_URI=1 -DSQLITE_TEMP_STORE=3 -DSQLITE_MAX_VARIABLE_NUMBER=250000 -I. -I/usr/include/python3.6m -c src/blob.c -o build/temp.linux-x86_64-3.6/src/blob.o\n",
            "x86_64-linux-gnu-gcc -pthread -DNDEBUG -g -fwrapv -O2 -Wall -g -fstack-protector-strong -Wformat -Werror=format-security -Wdate-time -D_FORTIFY_SOURCE=2 -fPIC -DMODULE_NAME=\"pysqlite3.dbapi2\" -DSQLITE_ALLOW_COVERING_INDEX_SCAN=1 -DSQLITE_ENABLE_FTS3=1 -DSQLITE_ENABLE_FTS3_PARENTHESIS=1 -DSQLITE_ENABLE_FTS4=1 -DSQLITE_ENABLE_FTS5=1 -DSQLITE_ENABLE_JSON1=1 -DSQLITE_ENABLE_LOAD_EXTENSION=1 -DSQLITE_ENABLE_RTREE=1 -DSQLITE_ENABLE_STAT4=1 -DSQLITE_ENABLE_UPDATE_DELETE_LIMIT=1 -DSQLITE_SOUNDEX=1 -DSQLITE_USE_URI=1 -DSQLITE_TEMP_STORE=3 -DSQLITE_MAX_VARIABLE_NUMBER=250000 -I. -I/usr/include/python3.6m -c ./sqlite3.c -o build/temp.linux-x86_64-3.6/./sqlite3.o\n",
            "creating build/lib.linux-x86_64-3.6\n",
            "creating build/lib.linux-x86_64-3.6/pysqlite3\n",
            "x86_64-linux-gnu-gcc -pthread -shared -Wl,-O1 -Wl,-Bsymbolic-functions -Wl,-Bsymbolic-functions -Wl,-z,relro -Wl,-Bsymbolic-functions -Wl,-z,relro -g -fstack-protector-strong -Wformat -Werror=format-security -Wdate-time -D_FORTIFY_SOURCE=2 build/temp.linux-x86_64-3.6/src/module.o build/temp.linux-x86_64-3.6/src/connection.o build/temp.linux-x86_64-3.6/src/cursor.o build/temp.linux-x86_64-3.6/src/cache.o build/temp.linux-x86_64-3.6/src/microprotocols.o build/temp.linux-x86_64-3.6/src/prepare_protocol.o build/temp.linux-x86_64-3.6/src/statement.o build/temp.linux-x86_64-3.6/src/util.o build/temp.linux-x86_64-3.6/src/row.o build/temp.linux-x86_64-3.6/src/blob.o build/temp.linux-x86_64-3.6/./sqlite3.o -o build/lib.linux-x86_64-3.6/pysqlite3/_sqlite3.cpython-36m-x86_64-linux-gnu.so -lm\n",
            "running build\n",
            "running build_py\n",
            "copying pysqlite3/__init__.py -> build/lib.linux-x86_64-3.6/pysqlite3\n",
            "copying pysqlite3/dbapi2.py -> build/lib.linux-x86_64-3.6/pysqlite3\n",
            "running build_ext\n",
            "Builds a C extension linking against libsqlite3 library\n"
          ],
          "name": "stdout"
        }
      ]
    },
    {
      "cell_type": "markdown",
      "metadata": {
        "id": "SkLX3wBnMnbG"
      },
      "source": [
        "## Теперь обязательно Runtime->Restart Runtime"
      ]
    },
    {
      "cell_type": "code",
      "metadata": {
        "id": "IfcqH38_MLIB"
      },
      "source": [
        "import sqlite3"
      ],
      "execution_count": null,
      "outputs": []
    },
    {
      "cell_type": "code",
      "metadata": {
        "colab": {
          "base_uri": "https://localhost:8080/",
          "height": 35
        },
        "id": "ooHiQH-fMitn",
        "outputId": "c8cac336-26e1-4217-a946-60371608133a"
      },
      "source": [
        "sqlite3.sqlite_version"
      ],
      "execution_count": null,
      "outputs": [
        {
          "output_type": "execute_result",
          "data": {
            "application/vnd.google.colaboratory.intrinsic+json": {
              "type": "string"
            },
            "text/plain": [
              "'3.33.0'"
            ]
          },
          "metadata": {
            "tags": []
          },
          "execution_count": 2
        }
      ]
    },
    {
      "cell_type": "markdown",
      "metadata": {
        "id": "Ok-BBys_MAdV"
      },
      "source": [
        "На текущий момент (2020-11) 3.33.0 это последний релиз. https://www.sqlite.org/news.html"
      ]
    },
    {
      "cell_type": "code",
      "metadata": {
        "id": "RPkhc3zlNQFl"
      },
      "source": [
        "import pandas as pd\n",
        "import numpy as np"
      ],
      "execution_count": null,
      "outputs": []
    },
    {
      "cell_type": "markdown",
      "metadata": {
        "id": "S58zenXJNXTa"
      },
      "source": [
        "У меня данные https://www.kaggle.com/carrie1/ecommerce-data лежат на Google Drive."
      ]
    },
    {
      "cell_type": "code",
      "metadata": {
        "colab": {
          "base_uri": "https://localhost:8080/"
        },
        "id": "YDDKZecDNmav",
        "outputId": "27637012-1026-49ad-f2df-7942b720941c"
      },
      "source": [
        "!ls 'drive/My Drive/data'"
      ],
      "execution_count": null,
      "outputs": [
        {
          "output_type": "stream",
          "text": [
            "afisha\t\t\t\t\t megaline\n",
            "bank.csv\t\t\t\t mf-accelerator\n",
            "bank_score.csv\t\t\t\t ml-20m\n",
            "credit_scoring_eng.csv\t\t\t mushrooms.csv\n",
            "credit_scoring_eng_processed.csv\t real_estate_data.csv\n",
            "datasets_32132_205932_telecom_churn.csv  real_estate_data_eng.csv\n",
            "ecommerce-data.zip\t\t\t rotten-tomatoes\n",
            "gold_recovery\t\t\t\t telecom_practicum\n"
          ],
          "name": "stdout"
        }
      ]
    },
    {
      "cell_type": "code",
      "metadata": {
        "id": "a7zRONxrNg92"
      },
      "source": [
        "df = pd.read_csv('drive/My Drive/data/ecommerce-data.zip',encoding='cp1252')"
      ],
      "execution_count": null,
      "outputs": []
    },
    {
      "cell_type": "code",
      "metadata": {
        "colab": {
          "base_uri": "https://localhost:8080/",
          "height": 204
        },
        "id": "w7lKKI4BN8mM",
        "outputId": "a79f124f-d71c-4138-f8eb-f57d91b449ef"
      },
      "source": [
        "df.head()"
      ],
      "execution_count": null,
      "outputs": [
        {
          "output_type": "execute_result",
          "data": {
            "text/html": [
              "<div>\n",
              "<style scoped>\n",
              "    .dataframe tbody tr th:only-of-type {\n",
              "        vertical-align: middle;\n",
              "    }\n",
              "\n",
              "    .dataframe tbody tr th {\n",
              "        vertical-align: top;\n",
              "    }\n",
              "\n",
              "    .dataframe thead th {\n",
              "        text-align: right;\n",
              "    }\n",
              "</style>\n",
              "<table border=\"1\" class=\"dataframe\">\n",
              "  <thead>\n",
              "    <tr style=\"text-align: right;\">\n",
              "      <th></th>\n",
              "      <th>InvoiceNo</th>\n",
              "      <th>StockCode</th>\n",
              "      <th>Description</th>\n",
              "      <th>Quantity</th>\n",
              "      <th>InvoiceDate</th>\n",
              "      <th>UnitPrice</th>\n",
              "      <th>CustomerID</th>\n",
              "      <th>Country</th>\n",
              "    </tr>\n",
              "  </thead>\n",
              "  <tbody>\n",
              "    <tr>\n",
              "      <th>0</th>\n",
              "      <td>536365</td>\n",
              "      <td>85123A</td>\n",
              "      <td>WHITE HANGING HEART T-LIGHT HOLDER</td>\n",
              "      <td>6</td>\n",
              "      <td>12/1/2010 8:26</td>\n",
              "      <td>2.55</td>\n",
              "      <td>17850.0</td>\n",
              "      <td>United Kingdom</td>\n",
              "    </tr>\n",
              "    <tr>\n",
              "      <th>1</th>\n",
              "      <td>536365</td>\n",
              "      <td>71053</td>\n",
              "      <td>WHITE METAL LANTERN</td>\n",
              "      <td>6</td>\n",
              "      <td>12/1/2010 8:26</td>\n",
              "      <td>3.39</td>\n",
              "      <td>17850.0</td>\n",
              "      <td>United Kingdom</td>\n",
              "    </tr>\n",
              "    <tr>\n",
              "      <th>2</th>\n",
              "      <td>536365</td>\n",
              "      <td>84406B</td>\n",
              "      <td>CREAM CUPID HEARTS COAT HANGER</td>\n",
              "      <td>8</td>\n",
              "      <td>12/1/2010 8:26</td>\n",
              "      <td>2.75</td>\n",
              "      <td>17850.0</td>\n",
              "      <td>United Kingdom</td>\n",
              "    </tr>\n",
              "    <tr>\n",
              "      <th>3</th>\n",
              "      <td>536365</td>\n",
              "      <td>84029G</td>\n",
              "      <td>KNITTED UNION FLAG HOT WATER BOTTLE</td>\n",
              "      <td>6</td>\n",
              "      <td>12/1/2010 8:26</td>\n",
              "      <td>3.39</td>\n",
              "      <td>17850.0</td>\n",
              "      <td>United Kingdom</td>\n",
              "    </tr>\n",
              "    <tr>\n",
              "      <th>4</th>\n",
              "      <td>536365</td>\n",
              "      <td>84029E</td>\n",
              "      <td>RED WOOLLY HOTTIE WHITE HEART.</td>\n",
              "      <td>6</td>\n",
              "      <td>12/1/2010 8:26</td>\n",
              "      <td>3.39</td>\n",
              "      <td>17850.0</td>\n",
              "      <td>United Kingdom</td>\n",
              "    </tr>\n",
              "  </tbody>\n",
              "</table>\n",
              "</div>"
            ],
            "text/plain": [
              "  InvoiceNo StockCode  ... CustomerID         Country\n",
              "0    536365    85123A  ...    17850.0  United Kingdom\n",
              "1    536365     71053  ...    17850.0  United Kingdom\n",
              "2    536365    84406B  ...    17850.0  United Kingdom\n",
              "3    536365    84029G  ...    17850.0  United Kingdom\n",
              "4    536365    84029E  ...    17850.0  United Kingdom\n",
              "\n",
              "[5 rows x 8 columns]"
            ]
          },
          "metadata": {
            "tags": []
          },
          "execution_count": 6
        }
      ]
    },
    {
      "cell_type": "markdown",
      "metadata": {
        "id": "zorTwGx_N-q6"
      },
      "source": [
        "Чтобы потом не гемориться переведем дату в тип дата здесь, в питоне. И в sqlite уже все будет ок."
      ]
    },
    {
      "cell_type": "code",
      "metadata": {
        "id": "xRWAOXHaOgBY"
      },
      "source": [
        "df['InvoiceDate'] = pd.to_datetime(df['InvoiceDate'],format='%m/%d/%Y %H:%M')"
      ],
      "execution_count": null,
      "outputs": []
    },
    {
      "cell_type": "markdown",
      "metadata": {
        "id": "5WhoKNDXOuMX"
      },
      "source": [
        "Теперь создадим 1) саму базу и подключкние к ней 2) курсор -- понадобится чтобы создавить таблички 3) функцию обертку для того чтобы быстро писать селекты"
      ]
    },
    {
      "cell_type": "code",
      "metadata": {
        "id": "IcaHTsR4PAke"
      },
      "source": [
        "conn = sqlite3.connect('db')\n",
        "cur = conn.cursor()"
      ],
      "execution_count": null,
      "outputs": []
    },
    {
      "cell_type": "code",
      "metadata": {
        "id": "bwL26S7pPHKW"
      },
      "source": [
        "def select(sql):\n",
        "  return pd.read_sql(sql,conn)"
      ],
      "execution_count": null,
      "outputs": []
    },
    {
      "cell_type": "markdown",
      "metadata": {
        "id": "uOsW79Q8PMG2"
      },
      "source": [
        "Теперь зальем таблу и проверим, что все ок"
      ]
    },
    {
      "cell_type": "code",
      "metadata": {
        "id": "ITydiaQ_PPpH"
      },
      "source": [
        "df.to_sql('ecommerce',conn,index=False,if_exists='replace')"
      ],
      "execution_count": null,
      "outputs": []
    },
    {
      "cell_type": "code",
      "metadata": {
        "id": "Gu7KDwNmPcNu"
      },
      "source": [
        "sql = '''select count(*) from ecommerce t'''"
      ],
      "execution_count": null,
      "outputs": []
    },
    {
      "cell_type": "code",
      "metadata": {
        "colab": {
          "base_uri": "https://localhost:8080/",
          "height": 80
        },
        "id": "YJK1pSCBPgh8",
        "outputId": "641f6e93-9cc8-44e9-99b3-365ec1064488"
      },
      "source": [
        "select(sql)"
      ],
      "execution_count": null,
      "outputs": [
        {
          "output_type": "execute_result",
          "data": {
            "text/html": [
              "<div>\n",
              "<style scoped>\n",
              "    .dataframe tbody tr th:only-of-type {\n",
              "        vertical-align: middle;\n",
              "    }\n",
              "\n",
              "    .dataframe tbody tr th {\n",
              "        vertical-align: top;\n",
              "    }\n",
              "\n",
              "    .dataframe thead th {\n",
              "        text-align: right;\n",
              "    }\n",
              "</style>\n",
              "<table border=\"1\" class=\"dataframe\">\n",
              "  <thead>\n",
              "    <tr style=\"text-align: right;\">\n",
              "      <th></th>\n",
              "      <th>count(*)</th>\n",
              "    </tr>\n",
              "  </thead>\n",
              "  <tbody>\n",
              "    <tr>\n",
              "      <th>0</th>\n",
              "      <td>541909</td>\n",
              "    </tr>\n",
              "  </tbody>\n",
              "</table>\n",
              "</div>"
            ],
            "text/plain": [
              "   count(*)\n",
              "0    541909"
            ]
          },
          "metadata": {
            "tags": []
          },
          "execution_count": 12
        }
      ]
    },
    {
      "cell_type": "code",
      "metadata": {
        "colab": {
          "base_uri": "https://localhost:8080/"
        },
        "id": "6TO33QVvPhNP",
        "outputId": "5880b97d-4464-4cb6-e4bc-a07028ca2389"
      },
      "source": [
        "len(df)"
      ],
      "execution_count": null,
      "outputs": [
        {
          "output_type": "execute_result",
          "data": {
            "text/plain": [
              "541909"
            ]
          },
          "metadata": {
            "tags": []
          },
          "execution_count": 13
        }
      ]
    },
    {
      "cell_type": "code",
      "metadata": {
        "id": "a7QE-xDwPpcM"
      },
      "source": [
        "sql = '''select * from ecommerce t limit 5'''"
      ],
      "execution_count": null,
      "outputs": []
    },
    {
      "cell_type": "code",
      "metadata": {
        "colab": {
          "base_uri": "https://localhost:8080/",
          "height": 204
        },
        "id": "0XYeWZVEPtiZ",
        "outputId": "f765f5ca-99d8-49e1-d51c-d14d5c5a5e53"
      },
      "source": [
        "select(sql)"
      ],
      "execution_count": null,
      "outputs": [
        {
          "output_type": "execute_result",
          "data": {
            "text/html": [
              "<div>\n",
              "<style scoped>\n",
              "    .dataframe tbody tr th:only-of-type {\n",
              "        vertical-align: middle;\n",
              "    }\n",
              "\n",
              "    .dataframe tbody tr th {\n",
              "        vertical-align: top;\n",
              "    }\n",
              "\n",
              "    .dataframe thead th {\n",
              "        text-align: right;\n",
              "    }\n",
              "</style>\n",
              "<table border=\"1\" class=\"dataframe\">\n",
              "  <thead>\n",
              "    <tr style=\"text-align: right;\">\n",
              "      <th></th>\n",
              "      <th>InvoiceNo</th>\n",
              "      <th>StockCode</th>\n",
              "      <th>Description</th>\n",
              "      <th>Quantity</th>\n",
              "      <th>InvoiceDate</th>\n",
              "      <th>UnitPrice</th>\n",
              "      <th>CustomerID</th>\n",
              "      <th>Country</th>\n",
              "    </tr>\n",
              "  </thead>\n",
              "  <tbody>\n",
              "    <tr>\n",
              "      <th>0</th>\n",
              "      <td>536365</td>\n",
              "      <td>85123A</td>\n",
              "      <td>WHITE HANGING HEART T-LIGHT HOLDER</td>\n",
              "      <td>6</td>\n",
              "      <td>2010-12-01 08:26:00</td>\n",
              "      <td>2.55</td>\n",
              "      <td>17850.0</td>\n",
              "      <td>United Kingdom</td>\n",
              "    </tr>\n",
              "    <tr>\n",
              "      <th>1</th>\n",
              "      <td>536365</td>\n",
              "      <td>71053</td>\n",
              "      <td>WHITE METAL LANTERN</td>\n",
              "      <td>6</td>\n",
              "      <td>2010-12-01 08:26:00</td>\n",
              "      <td>3.39</td>\n",
              "      <td>17850.0</td>\n",
              "      <td>United Kingdom</td>\n",
              "    </tr>\n",
              "    <tr>\n",
              "      <th>2</th>\n",
              "      <td>536365</td>\n",
              "      <td>84406B</td>\n",
              "      <td>CREAM CUPID HEARTS COAT HANGER</td>\n",
              "      <td>8</td>\n",
              "      <td>2010-12-01 08:26:00</td>\n",
              "      <td>2.75</td>\n",
              "      <td>17850.0</td>\n",
              "      <td>United Kingdom</td>\n",
              "    </tr>\n",
              "    <tr>\n",
              "      <th>3</th>\n",
              "      <td>536365</td>\n",
              "      <td>84029G</td>\n",
              "      <td>KNITTED UNION FLAG HOT WATER BOTTLE</td>\n",
              "      <td>6</td>\n",
              "      <td>2010-12-01 08:26:00</td>\n",
              "      <td>3.39</td>\n",
              "      <td>17850.0</td>\n",
              "      <td>United Kingdom</td>\n",
              "    </tr>\n",
              "    <tr>\n",
              "      <th>4</th>\n",
              "      <td>536365</td>\n",
              "      <td>84029E</td>\n",
              "      <td>RED WOOLLY HOTTIE WHITE HEART.</td>\n",
              "      <td>6</td>\n",
              "      <td>2010-12-01 08:26:00</td>\n",
              "      <td>3.39</td>\n",
              "      <td>17850.0</td>\n",
              "      <td>United Kingdom</td>\n",
              "    </tr>\n",
              "  </tbody>\n",
              "</table>\n",
              "</div>"
            ],
            "text/plain": [
              "  InvoiceNo StockCode  ... CustomerID         Country\n",
              "0    536365    85123A  ...    17850.0  United Kingdom\n",
              "1    536365     71053  ...    17850.0  United Kingdom\n",
              "2    536365    84406B  ...    17850.0  United Kingdom\n",
              "3    536365    84029G  ...    17850.0  United Kingdom\n",
              "4    536365    84029E  ...    17850.0  United Kingdom\n",
              "\n",
              "[5 rows x 8 columns]"
            ]
          },
          "metadata": {
            "tags": []
          },
          "execution_count": 15
        }
      ]
    },
    {
      "cell_type": "code",
      "metadata": {
        "colab": {
          "base_uri": "https://localhost:8080/"
        },
        "id": "SdBk4cq7PvKE",
        "outputId": "58cce324-45af-46c2-ec58-0f7ee749dcb5"
      },
      "source": [
        "select(sql).dtypes"
      ],
      "execution_count": null,
      "outputs": [
        {
          "output_type": "execute_result",
          "data": {
            "text/plain": [
              "InvoiceNo       object\n",
              "StockCode       object\n",
              "Description     object\n",
              "Quantity         int64\n",
              "InvoiceDate     object\n",
              "UnitPrice      float64\n",
              "CustomerID     float64\n",
              "Country         object\n",
              "dtype: object"
            ]
          },
          "metadata": {
            "tags": []
          },
          "execution_count": 16
        }
      ]
    },
    {
      "cell_type": "markdown",
      "metadata": {
        "id": "884v0j26PihI"
      },
      "source": [
        "Все четко, можно работать."
      ]
    },
    {
      "cell_type": "markdown",
      "metadata": {
        "id": "qN4BXs1WPl7U"
      },
      "source": [
        "# Анализ"
      ]
    },
    {
      "cell_type": "markdown",
      "metadata": {
        "id": "h0Vyri-RQC6j"
      },
      "source": [
        "recency frequency monetary  \n",
        "\n",
        "r (как давно что-то покупал? Чем более недавно, тем лучше) 1-4  \n",
        "f (как часто покупал ранее? Чем чаще, тем лучше) 1-4  \n",
        "m (как много денег потратил на нас? Чем больше, тем лучше) 1-4  \n",
        "\n",
        "rfm = (r + f + m) / 3\n",
        "\n",
        "111\n",
        "112"
      ]
    },
    {
      "cell_type": "code",
      "metadata": {
        "id": "SQ0aeoOSY_zL"
      },
      "source": [
        "sql = '''select\n",
        "\n",
        "date(t.InvoiceDate,'start of month'),\n",
        "count(*)\n",
        "\n",
        "from ecommerce t \n",
        "group by date(t.InvoiceDate,'start of month')\n",
        "order by date(t.InvoiceDate,'start of month')\n",
        "'''"
      ],
      "execution_count": null,
      "outputs": []
    },
    {
      "cell_type": "code",
      "metadata": {
        "colab": {
          "base_uri": "https://localhost:8080/",
          "height": 452
        },
        "id": "3ul9RoK1ZC83",
        "outputId": "84bb9eaa-2d0a-42a2-a9fd-cff6e9a5868d"
      },
      "source": [
        "select(sql)"
      ],
      "execution_count": null,
      "outputs": [
        {
          "output_type": "execute_result",
          "data": {
            "text/html": [
              "<div>\n",
              "<style scoped>\n",
              "    .dataframe tbody tr th:only-of-type {\n",
              "        vertical-align: middle;\n",
              "    }\n",
              "\n",
              "    .dataframe tbody tr th {\n",
              "        vertical-align: top;\n",
              "    }\n",
              "\n",
              "    .dataframe thead th {\n",
              "        text-align: right;\n",
              "    }\n",
              "</style>\n",
              "<table border=\"1\" class=\"dataframe\">\n",
              "  <thead>\n",
              "    <tr style=\"text-align: right;\">\n",
              "      <th></th>\n",
              "      <th>date(t.InvoiceDate,'start of month')</th>\n",
              "      <th>count(*)</th>\n",
              "    </tr>\n",
              "  </thead>\n",
              "  <tbody>\n",
              "    <tr>\n",
              "      <th>0</th>\n",
              "      <td>2010-12-01</td>\n",
              "      <td>42481</td>\n",
              "    </tr>\n",
              "    <tr>\n",
              "      <th>1</th>\n",
              "      <td>2011-01-01</td>\n",
              "      <td>35147</td>\n",
              "    </tr>\n",
              "    <tr>\n",
              "      <th>2</th>\n",
              "      <td>2011-02-01</td>\n",
              "      <td>27707</td>\n",
              "    </tr>\n",
              "    <tr>\n",
              "      <th>3</th>\n",
              "      <td>2011-03-01</td>\n",
              "      <td>36748</td>\n",
              "    </tr>\n",
              "    <tr>\n",
              "      <th>4</th>\n",
              "      <td>2011-04-01</td>\n",
              "      <td>29916</td>\n",
              "    </tr>\n",
              "    <tr>\n",
              "      <th>5</th>\n",
              "      <td>2011-05-01</td>\n",
              "      <td>37030</td>\n",
              "    </tr>\n",
              "    <tr>\n",
              "      <th>6</th>\n",
              "      <td>2011-06-01</td>\n",
              "      <td>36874</td>\n",
              "    </tr>\n",
              "    <tr>\n",
              "      <th>7</th>\n",
              "      <td>2011-07-01</td>\n",
              "      <td>39518</td>\n",
              "    </tr>\n",
              "    <tr>\n",
              "      <th>8</th>\n",
              "      <td>2011-08-01</td>\n",
              "      <td>35284</td>\n",
              "    </tr>\n",
              "    <tr>\n",
              "      <th>9</th>\n",
              "      <td>2011-09-01</td>\n",
              "      <td>50226</td>\n",
              "    </tr>\n",
              "    <tr>\n",
              "      <th>10</th>\n",
              "      <td>2011-10-01</td>\n",
              "      <td>60742</td>\n",
              "    </tr>\n",
              "    <tr>\n",
              "      <th>11</th>\n",
              "      <td>2011-11-01</td>\n",
              "      <td>84711</td>\n",
              "    </tr>\n",
              "    <tr>\n",
              "      <th>12</th>\n",
              "      <td>2011-12-01</td>\n",
              "      <td>25525</td>\n",
              "    </tr>\n",
              "  </tbody>\n",
              "</table>\n",
              "</div>"
            ],
            "text/plain": [
              "   date(t.InvoiceDate,'start of month')  count(*)\n",
              "0                            2010-12-01     42481\n",
              "1                            2011-01-01     35147\n",
              "2                            2011-02-01     27707\n",
              "3                            2011-03-01     36748\n",
              "4                            2011-04-01     29916\n",
              "5                            2011-05-01     37030\n",
              "6                            2011-06-01     36874\n",
              "7                            2011-07-01     39518\n",
              "8                            2011-08-01     35284\n",
              "9                            2011-09-01     50226\n",
              "10                           2011-10-01     60742\n",
              "11                           2011-11-01     84711\n",
              "12                           2011-12-01     25525"
            ]
          },
          "metadata": {
            "tags": []
          },
          "execution_count": 18
        }
      ]
    },
    {
      "cell_type": "code",
      "metadata": {
        "id": "vtsv7sg7g-6O"
      },
      "source": [
        "sql = '''select max(t.InvoiceDate) from ecommerce t'''"
      ],
      "execution_count": null,
      "outputs": []
    },
    {
      "cell_type": "code",
      "metadata": {
        "colab": {
          "base_uri": "https://localhost:8080/",
          "height": 80
        },
        "id": "gBAg4AE-hDUh",
        "outputId": "908677b7-73c6-4d2a-d9d8-f385628f72e5"
      },
      "source": [
        "select(sql)"
      ],
      "execution_count": null,
      "outputs": [
        {
          "output_type": "execute_result",
          "data": {
            "text/html": [
              "<div>\n",
              "<style scoped>\n",
              "    .dataframe tbody tr th:only-of-type {\n",
              "        vertical-align: middle;\n",
              "    }\n",
              "\n",
              "    .dataframe tbody tr th {\n",
              "        vertical-align: top;\n",
              "    }\n",
              "\n",
              "    .dataframe thead th {\n",
              "        text-align: right;\n",
              "    }\n",
              "</style>\n",
              "<table border=\"1\" class=\"dataframe\">\n",
              "  <thead>\n",
              "    <tr style=\"text-align: right;\">\n",
              "      <th></th>\n",
              "      <th>max(t.InvoiceDate)</th>\n",
              "    </tr>\n",
              "  </thead>\n",
              "  <tbody>\n",
              "    <tr>\n",
              "      <th>0</th>\n",
              "      <td>2011-12-09 12:50:00</td>\n",
              "    </tr>\n",
              "  </tbody>\n",
              "</table>\n",
              "</div>"
            ],
            "text/plain": [
              "    max(t.InvoiceDate)\n",
              "0  2011-12-09 12:50:00"
            ]
          },
          "metadata": {
            "tags": []
          },
          "execution_count": 20
        }
      ]
    },
    {
      "cell_type": "code",
      "metadata": {
        "id": "5gqZJz4vZDjc"
      },
      "source": [
        "sql = '''select\n",
        "\n",
        "t.CustomerID,\n",
        "min(t.InvoiceDate) as reg_date,\n",
        "sum(t.Quantity * t.UnitPrice) as revenue\n",
        "\n",
        "\n",
        "from ecommerce t \n",
        "where date(t.InvoiceDate,'start of month') <= '2011-10-01'\n",
        "and t.CustomerID is not null\n",
        "group by t.CustomerID\n",
        "'''"
      ],
      "execution_count": null,
      "outputs": []
    },
    {
      "cell_type": "code",
      "metadata": {
        "id": "1eVdpKD8cpWV"
      },
      "source": [
        "t = select(sql)"
      ],
      "execution_count": null,
      "outputs": []
    },
    {
      "cell_type": "code",
      "metadata": {
        "colab": {
          "base_uri": "https://localhost:8080/",
          "height": 419
        },
        "id": "h4malbLaefMp",
        "outputId": "0f286280-c732-4f96-e33e-685c68a87b99"
      },
      "source": [
        "t"
      ],
      "execution_count": null,
      "outputs": [
        {
          "output_type": "execute_result",
          "data": {
            "text/html": [
              "<div>\n",
              "<style scoped>\n",
              "    .dataframe tbody tr th:only-of-type {\n",
              "        vertical-align: middle;\n",
              "    }\n",
              "\n",
              "    .dataframe tbody tr th {\n",
              "        vertical-align: top;\n",
              "    }\n",
              "\n",
              "    .dataframe thead th {\n",
              "        text-align: right;\n",
              "    }\n",
              "</style>\n",
              "<table border=\"1\" class=\"dataframe\">\n",
              "  <thead>\n",
              "    <tr style=\"text-align: right;\">\n",
              "      <th></th>\n",
              "      <th>CustomerID</th>\n",
              "      <th>reg_date</th>\n",
              "      <th>revenue</th>\n",
              "    </tr>\n",
              "  </thead>\n",
              "  <tbody>\n",
              "    <tr>\n",
              "      <th>0</th>\n",
              "      <td>12346.0</td>\n",
              "      <td>2011-01-18 10:01:00</td>\n",
              "      <td>0.00</td>\n",
              "    </tr>\n",
              "    <tr>\n",
              "      <th>1</th>\n",
              "      <td>12347.0</td>\n",
              "      <td>2010-12-07 14:57:00</td>\n",
              "      <td>4085.18</td>\n",
              "    </tr>\n",
              "    <tr>\n",
              "      <th>2</th>\n",
              "      <td>12348.0</td>\n",
              "      <td>2010-12-16 19:09:00</td>\n",
              "      <td>1797.24</td>\n",
              "    </tr>\n",
              "    <tr>\n",
              "      <th>3</th>\n",
              "      <td>12350.0</td>\n",
              "      <td>2011-02-02 16:01:00</td>\n",
              "      <td>334.40</td>\n",
              "    </tr>\n",
              "    <tr>\n",
              "      <th>4</th>\n",
              "      <td>12352.0</td>\n",
              "      <td>2011-02-16 12:33:00</td>\n",
              "      <td>1233.68</td>\n",
              "    </tr>\n",
              "    <tr>\n",
              "      <th>...</th>\n",
              "      <td>...</td>\n",
              "      <td>...</td>\n",
              "      <td>...</td>\n",
              "    </tr>\n",
              "    <tr>\n",
              "      <th>4005</th>\n",
              "      <td>18280.0</td>\n",
              "      <td>2011-03-07 09:52:00</td>\n",
              "      <td>180.60</td>\n",
              "    </tr>\n",
              "    <tr>\n",
              "      <th>4006</th>\n",
              "      <td>18281.0</td>\n",
              "      <td>2011-06-12 10:53:00</td>\n",
              "      <td>80.82</td>\n",
              "    </tr>\n",
              "    <tr>\n",
              "      <th>4007</th>\n",
              "      <td>18282.0</td>\n",
              "      <td>2011-08-05 13:35:00</td>\n",
              "      <td>98.76</td>\n",
              "    </tr>\n",
              "    <tr>\n",
              "      <th>4008</th>\n",
              "      <td>18283.0</td>\n",
              "      <td>2011-01-06 14:14:00</td>\n",
              "      <td>1235.32</td>\n",
              "    </tr>\n",
              "    <tr>\n",
              "      <th>4009</th>\n",
              "      <td>18287.0</td>\n",
              "      <td>2011-05-22 10:39:00</td>\n",
              "      <td>1837.28</td>\n",
              "    </tr>\n",
              "  </tbody>\n",
              "</table>\n",
              "<p>4010 rows × 3 columns</p>\n",
              "</div>"
            ],
            "text/plain": [
              "      CustomerID             reg_date  revenue\n",
              "0        12346.0  2011-01-18 10:01:00     0.00\n",
              "1        12347.0  2010-12-07 14:57:00  4085.18\n",
              "2        12348.0  2010-12-16 19:09:00  1797.24\n",
              "3        12350.0  2011-02-02 16:01:00   334.40\n",
              "4        12352.0  2011-02-16 12:33:00  1233.68\n",
              "...          ...                  ...      ...\n",
              "4005     18280.0  2011-03-07 09:52:00   180.60\n",
              "4006     18281.0  2011-06-12 10:53:00    80.82\n",
              "4007     18282.0  2011-08-05 13:35:00    98.76\n",
              "4008     18283.0  2011-01-06 14:14:00  1235.32\n",
              "4009     18287.0  2011-05-22 10:39:00  1837.28\n",
              "\n",
              "[4010 rows x 3 columns]"
            ]
          },
          "metadata": {
            "tags": []
          },
          "execution_count": 23
        }
      ]
    },
    {
      "cell_type": "code",
      "metadata": {
        "colab": {
          "base_uri": "https://localhost:8080/",
          "height": 1000
        },
        "id": "c5C8xabHeuyY",
        "outputId": "43c79eb4-2420-45e4-d2d1-455884d63a72"
      },
      "source": [
        "t[t['revenue'] < 0]"
      ],
      "execution_count": null,
      "outputs": [
        {
          "output_type": "execute_result",
          "data": {
            "text/html": [
              "<div>\n",
              "<style scoped>\n",
              "    .dataframe tbody tr th:only-of-type {\n",
              "        vertical-align: middle;\n",
              "    }\n",
              "\n",
              "    .dataframe tbody tr th {\n",
              "        vertical-align: top;\n",
              "    }\n",
              "\n",
              "    .dataframe thead th {\n",
              "        text-align: right;\n",
              "    }\n",
              "</style>\n",
              "<table border=\"1\" class=\"dataframe\">\n",
              "  <thead>\n",
              "    <tr style=\"text-align: right;\">\n",
              "      <th></th>\n",
              "      <th>CustomerID</th>\n",
              "      <th>reg_date</th>\n",
              "      <th>revenue</th>\n",
              "    </tr>\n",
              "  </thead>\n",
              "  <tbody>\n",
              "    <tr>\n",
              "      <th>81</th>\n",
              "      <td>12454.0</td>\n",
              "      <td>2011-10-14 17:13:00</td>\n",
              "      <td>-5.684342e-14</td>\n",
              "    </tr>\n",
              "    <tr>\n",
              "      <th>114</th>\n",
              "      <td>12503.0</td>\n",
              "      <td>2011-01-06 11:51:00</td>\n",
              "      <td>-1.126000e+03</td>\n",
              "    </tr>\n",
              "    <tr>\n",
              "      <th>115</th>\n",
              "      <td>12505.0</td>\n",
              "      <td>2011-02-11 13:39:00</td>\n",
              "      <td>-4.500000e+00</td>\n",
              "    </tr>\n",
              "    <tr>\n",
              "      <th>176</th>\n",
              "      <td>12586.0</td>\n",
              "      <td>2010-12-06 09:31:00</td>\n",
              "      <td>-1.700000e+01</td>\n",
              "    </tr>\n",
              "    <tr>\n",
              "      <th>192</th>\n",
              "      <td>12605.0</td>\n",
              "      <td>2010-12-09 15:41:00</td>\n",
              "      <td>-7.500000e+00</td>\n",
              "    </tr>\n",
              "    <tr>\n",
              "      <th>237</th>\n",
              "      <td>12666.0</td>\n",
              "      <td>2010-12-15 14:42:00</td>\n",
              "      <td>-2.274400e+02</td>\n",
              "    </tr>\n",
              "    <tr>\n",
              "      <th>382</th>\n",
              "      <td>12870.0</td>\n",
              "      <td>2010-12-08 14:27:00</td>\n",
              "      <td>-1.490000e+01</td>\n",
              "    </tr>\n",
              "    <tr>\n",
              "      <th>429</th>\n",
              "      <td>12943.0</td>\n",
              "      <td>2011-02-11 15:13:00</td>\n",
              "      <td>-3.750000e+00</td>\n",
              "    </tr>\n",
              "    <tr>\n",
              "      <th>569</th>\n",
              "      <td>13154.0</td>\n",
              "      <td>2011-07-18 15:21:00</td>\n",
              "      <td>-6.118600e+02</td>\n",
              "    </tr>\n",
              "    <tr>\n",
              "      <th>918</th>\n",
              "      <td>13672.0</td>\n",
              "      <td>2011-01-10 12:02:00</td>\n",
              "      <td>-7.146000e+01</td>\n",
              "    </tr>\n",
              "    <tr>\n",
              "      <th>930</th>\n",
              "      <td>13693.0</td>\n",
              "      <td>2011-01-18 15:21:00</td>\n",
              "      <td>-3.200000e+01</td>\n",
              "    </tr>\n",
              "    <tr>\n",
              "      <th>1024</th>\n",
              "      <td>13829.0</td>\n",
              "      <td>2010-12-15 16:36:00</td>\n",
              "      <td>-1.020000e+02</td>\n",
              "    </tr>\n",
              "    <tr>\n",
              "      <th>1112</th>\n",
              "      <td>13958.0</td>\n",
              "      <td>2010-12-02 17:03:00</td>\n",
              "      <td>-1.024500e+02</td>\n",
              "    </tr>\n",
              "    <tr>\n",
              "      <th>1221</th>\n",
              "      <td>14119.0</td>\n",
              "      <td>2010-12-20 13:58:00</td>\n",
              "      <td>-1.990000e+01</td>\n",
              "    </tr>\n",
              "    <tr>\n",
              "      <th>1276</th>\n",
              "      <td>14205.0</td>\n",
              "      <td>2010-12-09 13:38:00</td>\n",
              "      <td>-1.530000e+01</td>\n",
              "    </tr>\n",
              "    <tr>\n",
              "      <th>1283</th>\n",
              "      <td>14213.0</td>\n",
              "      <td>2010-12-03 09:47:00</td>\n",
              "      <td>-1.192200e+03</td>\n",
              "    </tr>\n",
              "    <tr>\n",
              "      <th>1433</th>\n",
              "      <td>14437.0</td>\n",
              "      <td>2010-12-09 09:27:00</td>\n",
              "      <td>-4.340000e+01</td>\n",
              "    </tr>\n",
              "    <tr>\n",
              "      <th>1569</th>\n",
              "      <td>14627.0</td>\n",
              "      <td>2011-02-01 10:49:00</td>\n",
              "      <td>-2.185000e+01</td>\n",
              "    </tr>\n",
              "    <tr>\n",
              "      <th>1603</th>\n",
              "      <td>14679.0</td>\n",
              "      <td>2010-12-03 10:07:00</td>\n",
              "      <td>-2.550000e+00</td>\n",
              "    </tr>\n",
              "    <tr>\n",
              "      <th>1671</th>\n",
              "      <td>14777.0</td>\n",
              "      <td>2010-12-16 15:27:00</td>\n",
              "      <td>-1.450000e+01</td>\n",
              "    </tr>\n",
              "    <tr>\n",
              "      <th>2069</th>\n",
              "      <td>15369.0</td>\n",
              "      <td>2011-07-18 15:11:00</td>\n",
              "      <td>-1.592490e+03</td>\n",
              "    </tr>\n",
              "    <tr>\n",
              "      <th>2213</th>\n",
              "      <td>15590.0</td>\n",
              "      <td>2011-02-23 16:36:00</td>\n",
              "      <td>-3.019000e+01</td>\n",
              "    </tr>\n",
              "    <tr>\n",
              "      <th>2245</th>\n",
              "      <td>15638.0</td>\n",
              "      <td>2011-02-11 15:12:00</td>\n",
              "      <td>-9.400000e+01</td>\n",
              "    </tr>\n",
              "    <tr>\n",
              "      <th>2307</th>\n",
              "      <td>15728.0</td>\n",
              "      <td>2011-10-21 14:03:00</td>\n",
              "      <td>-1.348000e+02</td>\n",
              "    </tr>\n",
              "    <tr>\n",
              "      <th>2357</th>\n",
              "      <td>15802.0</td>\n",
              "      <td>2011-07-20 11:23:00</td>\n",
              "      <td>-4.514200e+02</td>\n",
              "    </tr>\n",
              "    <tr>\n",
              "      <th>2375</th>\n",
              "      <td>15823.0</td>\n",
              "      <td>2010-12-02 15:08:00</td>\n",
              "      <td>-8.407600e+02</td>\n",
              "    </tr>\n",
              "    <tr>\n",
              "      <th>2527</th>\n",
              "      <td>16061.0</td>\n",
              "      <td>2011-03-15 14:41:00</td>\n",
              "      <td>-2.995000e+01</td>\n",
              "    </tr>\n",
              "    <tr>\n",
              "      <th>2583</th>\n",
              "      <td>16138.0</td>\n",
              "      <td>2010-12-06 15:10:00</td>\n",
              "      <td>-7.950000e+00</td>\n",
              "    </tr>\n",
              "    <tr>\n",
              "      <th>2671</th>\n",
              "      <td>16252.0</td>\n",
              "      <td>2010-12-08 16:15:00</td>\n",
              "      <td>-2.950900e+02</td>\n",
              "    </tr>\n",
              "    <tr>\n",
              "      <th>2679</th>\n",
              "      <td>16262.0</td>\n",
              "      <td>2010-12-14 11:55:00</td>\n",
              "      <td>-3.165000e+01</td>\n",
              "    </tr>\n",
              "    <tr>\n",
              "      <th>2787</th>\n",
              "      <td>16428.0</td>\n",
              "      <td>2011-09-19 16:31:00</td>\n",
              "      <td>-2.950000e+00</td>\n",
              "    </tr>\n",
              "    <tr>\n",
              "      <th>2804</th>\n",
              "      <td>16454.0</td>\n",
              "      <td>2011-04-13 10:36:00</td>\n",
              "      <td>-8.150000e+00</td>\n",
              "    </tr>\n",
              "    <tr>\n",
              "      <th>2861</th>\n",
              "      <td>16546.0</td>\n",
              "      <td>2010-12-02 12:07:00</td>\n",
              "      <td>-9.593000e+01</td>\n",
              "    </tr>\n",
              "    <tr>\n",
              "      <th>2883</th>\n",
              "      <td>16579.0</td>\n",
              "      <td>2010-12-09 15:00:00</td>\n",
              "      <td>-3.060000e+01</td>\n",
              "    </tr>\n",
              "    <tr>\n",
              "      <th>3168</th>\n",
              "      <td>16995.0</td>\n",
              "      <td>2010-12-02 17:09:00</td>\n",
              "      <td>-1.250000e+00</td>\n",
              "    </tr>\n",
              "    <tr>\n",
              "      <th>3198</th>\n",
              "      <td>17044.0</td>\n",
              "      <td>2010-12-15 16:34:00</td>\n",
              "      <td>-3.510000e+01</td>\n",
              "    </tr>\n",
              "    <tr>\n",
              "      <th>3215</th>\n",
              "      <td>17065.0</td>\n",
              "      <td>2011-07-19 14:45:00</td>\n",
              "      <td>-1.123500e+02</td>\n",
              "    </tr>\n",
              "    <tr>\n",
              "      <th>3360</th>\n",
              "      <td>17307.0</td>\n",
              "      <td>2010-12-09 15:24:00</td>\n",
              "      <td>-1.526400e+02</td>\n",
              "    </tr>\n",
              "    <tr>\n",
              "      <th>3456</th>\n",
              "      <td>17448.0</td>\n",
              "      <td>2011-07-18 12:26:00</td>\n",
              "      <td>-4.287630e+03</td>\n",
              "    </tr>\n",
              "    <tr>\n",
              "      <th>3518</th>\n",
              "      <td>17547.0</td>\n",
              "      <td>2010-12-02 14:29:00</td>\n",
              "      <td>-1.180000e+01</td>\n",
              "    </tr>\n",
              "    <tr>\n",
              "      <th>3519</th>\n",
              "      <td>17548.0</td>\n",
              "      <td>2010-12-01 10:24:00</td>\n",
              "      <td>-1.414800e+02</td>\n",
              "    </tr>\n",
              "    <tr>\n",
              "      <th>3556</th>\n",
              "      <td>17603.0</td>\n",
              "      <td>2011-03-17 14:39:00</td>\n",
              "      <td>-1.165300e+03</td>\n",
              "    </tr>\n",
              "    <tr>\n",
              "      <th>3702</th>\n",
              "      <td>17820.0</td>\n",
              "      <td>2010-12-15 17:04:00</td>\n",
              "      <td>-2.405000e+01</td>\n",
              "    </tr>\n",
              "    <tr>\n",
              "      <th>3863</th>\n",
              "      <td>18072.0</td>\n",
              "      <td>2011-06-07 10:44:00</td>\n",
              "      <td>-5.506706e-14</td>\n",
              "    </tr>\n",
              "    <tr>\n",
              "      <th>3872</th>\n",
              "      <td>18084.0</td>\n",
              "      <td>2011-02-11 16:30:00</td>\n",
              "      <td>-2.950000e+00</td>\n",
              "    </tr>\n",
              "    <tr>\n",
              "      <th>3907</th>\n",
              "      <td>18141.0</td>\n",
              "      <td>2010-12-14 11:09:00</td>\n",
              "      <td>-3.540000e+01</td>\n",
              "    </tr>\n",
              "    <tr>\n",
              "      <th>3989</th>\n",
              "      <td>18256.0</td>\n",
              "      <td>2010-12-20 08:27:00</td>\n",
              "      <td>-5.010000e+01</td>\n",
              "    </tr>\n",
              "  </tbody>\n",
              "</table>\n",
              "</div>"
            ],
            "text/plain": [
              "      CustomerID             reg_date       revenue\n",
              "81       12454.0  2011-10-14 17:13:00 -5.684342e-14\n",
              "114      12503.0  2011-01-06 11:51:00 -1.126000e+03\n",
              "115      12505.0  2011-02-11 13:39:00 -4.500000e+00\n",
              "176      12586.0  2010-12-06 09:31:00 -1.700000e+01\n",
              "192      12605.0  2010-12-09 15:41:00 -7.500000e+00\n",
              "237      12666.0  2010-12-15 14:42:00 -2.274400e+02\n",
              "382      12870.0  2010-12-08 14:27:00 -1.490000e+01\n",
              "429      12943.0  2011-02-11 15:13:00 -3.750000e+00\n",
              "569      13154.0  2011-07-18 15:21:00 -6.118600e+02\n",
              "918      13672.0  2011-01-10 12:02:00 -7.146000e+01\n",
              "930      13693.0  2011-01-18 15:21:00 -3.200000e+01\n",
              "1024     13829.0  2010-12-15 16:36:00 -1.020000e+02\n",
              "1112     13958.0  2010-12-02 17:03:00 -1.024500e+02\n",
              "1221     14119.0  2010-12-20 13:58:00 -1.990000e+01\n",
              "1276     14205.0  2010-12-09 13:38:00 -1.530000e+01\n",
              "1283     14213.0  2010-12-03 09:47:00 -1.192200e+03\n",
              "1433     14437.0  2010-12-09 09:27:00 -4.340000e+01\n",
              "1569     14627.0  2011-02-01 10:49:00 -2.185000e+01\n",
              "1603     14679.0  2010-12-03 10:07:00 -2.550000e+00\n",
              "1671     14777.0  2010-12-16 15:27:00 -1.450000e+01\n",
              "2069     15369.0  2011-07-18 15:11:00 -1.592490e+03\n",
              "2213     15590.0  2011-02-23 16:36:00 -3.019000e+01\n",
              "2245     15638.0  2011-02-11 15:12:00 -9.400000e+01\n",
              "2307     15728.0  2011-10-21 14:03:00 -1.348000e+02\n",
              "2357     15802.0  2011-07-20 11:23:00 -4.514200e+02\n",
              "2375     15823.0  2010-12-02 15:08:00 -8.407600e+02\n",
              "2527     16061.0  2011-03-15 14:41:00 -2.995000e+01\n",
              "2583     16138.0  2010-12-06 15:10:00 -7.950000e+00\n",
              "2671     16252.0  2010-12-08 16:15:00 -2.950900e+02\n",
              "2679     16262.0  2010-12-14 11:55:00 -3.165000e+01\n",
              "2787     16428.0  2011-09-19 16:31:00 -2.950000e+00\n",
              "2804     16454.0  2011-04-13 10:36:00 -8.150000e+00\n",
              "2861     16546.0  2010-12-02 12:07:00 -9.593000e+01\n",
              "2883     16579.0  2010-12-09 15:00:00 -3.060000e+01\n",
              "3168     16995.0  2010-12-02 17:09:00 -1.250000e+00\n",
              "3198     17044.0  2010-12-15 16:34:00 -3.510000e+01\n",
              "3215     17065.0  2011-07-19 14:45:00 -1.123500e+02\n",
              "3360     17307.0  2010-12-09 15:24:00 -1.526400e+02\n",
              "3456     17448.0  2011-07-18 12:26:00 -4.287630e+03\n",
              "3518     17547.0  2010-12-02 14:29:00 -1.180000e+01\n",
              "3519     17548.0  2010-12-01 10:24:00 -1.414800e+02\n",
              "3556     17603.0  2011-03-17 14:39:00 -1.165300e+03\n",
              "3702     17820.0  2010-12-15 17:04:00 -2.405000e+01\n",
              "3863     18072.0  2011-06-07 10:44:00 -5.506706e-14\n",
              "3872     18084.0  2011-02-11 16:30:00 -2.950000e+00\n",
              "3907     18141.0  2010-12-14 11:09:00 -3.540000e+01\n",
              "3989     18256.0  2010-12-20 08:27:00 -5.010000e+01"
            ]
          },
          "metadata": {
            "tags": []
          },
          "execution_count": 24
        }
      ]
    },
    {
      "cell_type": "code",
      "metadata": {
        "colab": {
          "base_uri": "https://localhost:8080/",
          "height": 282
        },
        "id": "jHDjo5Nrcp_D",
        "outputId": "ee795a9b-6059-4a14-c9dd-679154086f3b"
      },
      "source": [
        "t[t['revenue']<10000]['revenue'].hist()"
      ],
      "execution_count": null,
      "outputs": [
        {
          "output_type": "execute_result",
          "data": {
            "text/plain": [
              "<matplotlib.axes._subplots.AxesSubplot at 0x7f81cf690cc0>"
            ]
          },
          "metadata": {
            "tags": []
          },
          "execution_count": 25
        },
        {
          "output_type": "display_data",
          "data": {
            "image/png": "[encoded data removed]",
            "text/plain": [
              "<Figure size 432x288 with 1 Axes>"
            ]
          },
          "metadata": {
            "tags": [],
            "needs_background": "light"
          }
        }
      ]
    },
    {
      "cell_type": "code",
      "metadata": {
        "colab": {
          "base_uri": "https://localhost:8080/"
        },
        "id": "QZ4q0QHTeZKK",
        "outputId": "b7eb9e1b-bc4c-4727-e163-22ce5f39d8f1"
      },
      "source": [
        "t[t['revenue']<50000].median()"
      ],
      "execution_count": null,
      "outputs": [
        {
          "output_type": "execute_result",
          "data": {
            "text/plain": [
              "CustomerID    15276.00\n",
              "revenue         602.09\n",
              "dtype: float64"
            ]
          },
          "metadata": {
            "tags": []
          },
          "execution_count": 26
        }
      ]
    },
    {
      "cell_type": "code",
      "metadata": {
        "colab": {
          "base_uri": "https://localhost:8080/"
        },
        "id": "HtHwLf5mfR3K",
        "outputId": "a7249b41-09fb-419a-9084-533164334fac"
      },
      "source": [
        "len(t[t['revenue']<10000]['revenue']) / len(t)"
      ],
      "execution_count": null,
      "outputs": [
        {
          "output_type": "execute_result",
          "data": {
            "text/plain": [
              "0.9812967581047382"
            ]
          },
          "metadata": {
            "tags": []
          },
          "execution_count": 27
        }
      ]
    },
    {
      "cell_type": "code",
      "metadata": {
        "id": "Ye57Nwj_fW_9"
      },
      "source": [
        "sql = '''\n",
        "\n",
        "drop table if exists customer;\n",
        "\n",
        "create table customer as\n",
        "\n",
        "select t.*,\n",
        "date('2011-11-01') as month,\n",
        "\n",
        "julianday(date('2011-11-01')) - julianday(t.last_purchase) as recency\n",
        "\n",
        "from\n",
        "\n",
        "(select\n",
        "\n",
        "t.CustomerID,\n",
        "min(t.InvoiceDate) as reg_date,\n",
        "max(t.InvoiceDate) as last_purchase,\n",
        "sum(t.Quantity * t.UnitPrice) as monetary,\n",
        "count(distinct t.InvoiceNo) as frequency\n",
        "\n",
        "\n",
        "\n",
        "from ecommerce t \n",
        "where date(t.InvoiceDate,'start of month') <= '2011-10-01'\n",
        "and t.CustomerID is not null\n",
        "group by t.CustomerID) t\n",
        "where t.monetary < 10000\n",
        "'''"
      ],
      "execution_count": null,
      "outputs": []
    },
    {
      "cell_type": "code",
      "metadata": {
        "colab": {
          "base_uri": "https://localhost:8080/"
        },
        "id": "-UUoc1lpgWF0",
        "outputId": "70921258-8a09-4b2e-a1c9-8c128193d8ed"
      },
      "source": [
        "cur.executescript(sql)"
      ],
      "execution_count": null,
      "outputs": [
        {
          "output_type": "execute_result",
          "data": {
            "text/plain": [
              "<pysqlite3.dbapi2.Cursor at 0x7f81d0459500>"
            ]
          },
          "metadata": {
            "tags": []
          },
          "execution_count": 29
        }
      ]
    },
    {
      "cell_type": "code",
      "metadata": {
        "id": "8Y_z7efoYMNc"
      },
      "source": [
        "sql = '''select t.CustomerID, sum(t.Quantity * t.UnitPrice) as target \n",
        "from ecommerce t\n",
        "where date(t.InvoiceDate,'start of month') == '2011-11-01'\n",
        "group by  t.CustomerID\n",
        "'''"
      ],
      "execution_count": null,
      "outputs": []
    },
    {
      "cell_type": "code",
      "metadata": {
        "colab": {
          "base_uri": "https://localhost:8080/",
          "height": 419
        },
        "id": "VL6hhUzOYRnj",
        "outputId": "3a124d77-5d5f-4bda-c175-211409e54327"
      },
      "source": [
        "select(sql)"
      ],
      "execution_count": null,
      "outputs": [
        {
          "output_type": "execute_result",
          "data": {
            "text/html": [
              "<div>\n",
              "<style scoped>\n",
              "    .dataframe tbody tr th:only-of-type {\n",
              "        vertical-align: middle;\n",
              "    }\n",
              "\n",
              "    .dataframe tbody tr th {\n",
              "        vertical-align: top;\n",
              "    }\n",
              "\n",
              "    .dataframe thead th {\n",
              "        text-align: right;\n",
              "    }\n",
              "</style>\n",
              "<table border=\"1\" class=\"dataframe\">\n",
              "  <thead>\n",
              "    <tr style=\"text-align: right;\">\n",
              "      <th></th>\n",
              "      <th>CustomerID</th>\n",
              "      <th>target</th>\n",
              "    </tr>\n",
              "  </thead>\n",
              "  <tbody>\n",
              "    <tr>\n",
              "      <th>0</th>\n",
              "      <td>NaN</td>\n",
              "      <td>3.293485e+05</td>\n",
              "    </tr>\n",
              "    <tr>\n",
              "      <th>1</th>\n",
              "      <td>12349.0</td>\n",
              "      <td>1.757550e+03</td>\n",
              "    </tr>\n",
              "    <tr>\n",
              "      <th>2</th>\n",
              "      <td>12352.0</td>\n",
              "      <td>3.117300e+02</td>\n",
              "    </tr>\n",
              "    <tr>\n",
              "      <th>3</th>\n",
              "      <td>12356.0</td>\n",
              "      <td>5.835000e+01</td>\n",
              "    </tr>\n",
              "    <tr>\n",
              "      <th>4</th>\n",
              "      <td>12357.0</td>\n",
              "      <td>6.207670e+03</td>\n",
              "    </tr>\n",
              "    <tr>\n",
              "      <th>...</th>\n",
              "      <td>...</td>\n",
              "      <td>...</td>\n",
              "    </tr>\n",
              "    <tr>\n",
              "      <th>1707</th>\n",
              "      <td>18263.0</td>\n",
              "      <td>3.996800e+02</td>\n",
              "    </tr>\n",
              "    <tr>\n",
              "      <th>1708</th>\n",
              "      <td>18270.0</td>\n",
              "      <td>1.712000e+02</td>\n",
              "    </tr>\n",
              "    <tr>\n",
              "      <th>1709</th>\n",
              "      <td>18274.0</td>\n",
              "      <td>1.243450e-14</td>\n",
              "    </tr>\n",
              "    <tr>\n",
              "      <th>1710</th>\n",
              "      <td>18276.0</td>\n",
              "      <td>-1.250000e+01</td>\n",
              "    </tr>\n",
              "    <tr>\n",
              "      <th>1711</th>\n",
              "      <td>18283.0</td>\n",
              "      <td>6.515600e+02</td>\n",
              "    </tr>\n",
              "  </tbody>\n",
              "</table>\n",
              "<p>1712 rows × 2 columns</p>\n",
              "</div>"
            ],
            "text/plain": [
              "      CustomerID        target\n",
              "0            NaN  3.293485e+05\n",
              "1        12349.0  1.757550e+03\n",
              "2        12352.0  3.117300e+02\n",
              "3        12356.0  5.835000e+01\n",
              "4        12357.0  6.207670e+03\n",
              "...          ...           ...\n",
              "1707     18263.0  3.996800e+02\n",
              "1708     18270.0  1.712000e+02\n",
              "1709     18274.0  1.243450e-14\n",
              "1710     18276.0 -1.250000e+01\n",
              "1711     18283.0  6.515600e+02\n",
              "\n",
              "[1712 rows x 2 columns]"
            ]
          },
          "metadata": {
            "tags": []
          },
          "execution_count": 75
        }
      ]
    },
    {
      "cell_type": "code",
      "metadata": {
        "id": "phSGfIofglaz"
      },
      "source": [
        "sql = '''select t.*, n.target from customer t\n",
        "left join (select t.CustomerID, sum(t.Quantity * t.UnitPrice) as target \n",
        "from ecommerce t\n",
        "where date(t.InvoiceDate,'start of month') == '2011-11-01'\n",
        "group by  t.CustomerID) n on t.CustomerID = n.CustomerID\n",
        "\n",
        "'''"
      ],
      "execution_count": null,
      "outputs": []
    },
    {
      "cell_type": "code",
      "metadata": {
        "colab": {
          "base_uri": "https://localhost:8080/",
          "height": 419
        },
        "id": "bzEjFrZIYEK1",
        "outputId": "d414c9ab-bf26-4b1d-8814-3808e5ebd7d4"
      },
      "source": [
        "select(sql)"
      ],
      "execution_count": null,
      "outputs": [
        {
          "output_type": "execute_result",
          "data": {
            "text/html": [
              "<div>\n",
              "<style scoped>\n",
              "    .dataframe tbody tr th:only-of-type {\n",
              "        vertical-align: middle;\n",
              "    }\n",
              "\n",
              "    .dataframe tbody tr th {\n",
              "        vertical-align: top;\n",
              "    }\n",
              "\n",
              "    .dataframe thead th {\n",
              "        text-align: right;\n",
              "    }\n",
              "</style>\n",
              "<table border=\"1\" class=\"dataframe\">\n",
              "  <thead>\n",
              "    <tr style=\"text-align: right;\">\n",
              "      <th></th>\n",
              "      <th>CustomerID</th>\n",
              "      <th>reg_date</th>\n",
              "      <th>last_purchase</th>\n",
              "      <th>monetary</th>\n",
              "      <th>frequency</th>\n",
              "      <th>month</th>\n",
              "      <th>recency</th>\n",
              "      <th>target</th>\n",
              "    </tr>\n",
              "  </thead>\n",
              "  <tbody>\n",
              "    <tr>\n",
              "      <th>0</th>\n",
              "      <td>12346.0</td>\n",
              "      <td>2011-01-18 10:01:00</td>\n",
              "      <td>2011-01-18 10:17:00</td>\n",
              "      <td>0.00</td>\n",
              "      <td>2</td>\n",
              "      <td>2011-11-01</td>\n",
              "      <td>286.571528</td>\n",
              "      <td>NaN</td>\n",
              "    </tr>\n",
              "    <tr>\n",
              "      <th>1</th>\n",
              "      <td>12347.0</td>\n",
              "      <td>2010-12-07 14:57:00</td>\n",
              "      <td>2011-10-31 12:25:00</td>\n",
              "      <td>4085.18</td>\n",
              "      <td>6</td>\n",
              "      <td>2011-11-01</td>\n",
              "      <td>0.482639</td>\n",
              "      <td>NaN</td>\n",
              "    </tr>\n",
              "    <tr>\n",
              "      <th>2</th>\n",
              "      <td>12348.0</td>\n",
              "      <td>2010-12-16 19:09:00</td>\n",
              "      <td>2011-09-25 13:13:00</td>\n",
              "      <td>1797.24</td>\n",
              "      <td>4</td>\n",
              "      <td>2011-11-01</td>\n",
              "      <td>36.449306</td>\n",
              "      <td>NaN</td>\n",
              "    </tr>\n",
              "    <tr>\n",
              "      <th>3</th>\n",
              "      <td>12350.0</td>\n",
              "      <td>2011-02-02 16:01:00</td>\n",
              "      <td>2011-02-02 16:01:00</td>\n",
              "      <td>334.40</td>\n",
              "      <td>1</td>\n",
              "      <td>2011-11-01</td>\n",
              "      <td>271.332639</td>\n",
              "      <td>NaN</td>\n",
              "    </tr>\n",
              "    <tr>\n",
              "      <th>4</th>\n",
              "      <td>12352.0</td>\n",
              "      <td>2011-02-16 12:33:00</td>\n",
              "      <td>2011-09-28 14:58:00</td>\n",
              "      <td>1233.68</td>\n",
              "      <td>10</td>\n",
              "      <td>2011-11-01</td>\n",
              "      <td>33.376389</td>\n",
              "      <td>311.73</td>\n",
              "    </tr>\n",
              "    <tr>\n",
              "      <th>...</th>\n",
              "      <td>...</td>\n",
              "      <td>...</td>\n",
              "      <td>...</td>\n",
              "      <td>...</td>\n",
              "      <td>...</td>\n",
              "      <td>...</td>\n",
              "      <td>...</td>\n",
              "      <td>...</td>\n",
              "    </tr>\n",
              "    <tr>\n",
              "      <th>3930</th>\n",
              "      <td>18280.0</td>\n",
              "      <td>2011-03-07 09:52:00</td>\n",
              "      <td>2011-03-07 09:52:00</td>\n",
              "      <td>180.60</td>\n",
              "      <td>1</td>\n",
              "      <td>2011-11-01</td>\n",
              "      <td>238.588889</td>\n",
              "      <td>NaN</td>\n",
              "    </tr>\n",
              "    <tr>\n",
              "      <th>3931</th>\n",
              "      <td>18281.0</td>\n",
              "      <td>2011-06-12 10:53:00</td>\n",
              "      <td>2011-06-12 10:53:00</td>\n",
              "      <td>80.82</td>\n",
              "      <td>1</td>\n",
              "      <td>2011-11-01</td>\n",
              "      <td>141.546528</td>\n",
              "      <td>NaN</td>\n",
              "    </tr>\n",
              "    <tr>\n",
              "      <th>3932</th>\n",
              "      <td>18282.0</td>\n",
              "      <td>2011-08-05 13:35:00</td>\n",
              "      <td>2011-08-09 15:10:00</td>\n",
              "      <td>98.76</td>\n",
              "      <td>2</td>\n",
              "      <td>2011-11-01</td>\n",
              "      <td>83.368056</td>\n",
              "      <td>NaN</td>\n",
              "    </tr>\n",
              "    <tr>\n",
              "      <th>3933</th>\n",
              "      <td>18283.0</td>\n",
              "      <td>2011-01-06 14:14:00</td>\n",
              "      <td>2011-10-27 14:38:00</td>\n",
              "      <td>1235.32</td>\n",
              "      <td>11</td>\n",
              "      <td>2011-11-01</td>\n",
              "      <td>4.390278</td>\n",
              "      <td>651.56</td>\n",
              "    </tr>\n",
              "    <tr>\n",
              "      <th>3934</th>\n",
              "      <td>18287.0</td>\n",
              "      <td>2011-05-22 10:39:00</td>\n",
              "      <td>2011-10-28 09:29:00</td>\n",
              "      <td>1837.28</td>\n",
              "      <td>3</td>\n",
              "      <td>2011-11-01</td>\n",
              "      <td>3.604861</td>\n",
              "      <td>NaN</td>\n",
              "    </tr>\n",
              "  </tbody>\n",
              "</table>\n",
              "<p>3935 rows × 8 columns</p>\n",
              "</div>"
            ],
            "text/plain": [
              "      CustomerID             reg_date  ...     recency  target\n",
              "0        12346.0  2011-01-18 10:01:00  ...  286.571528     NaN\n",
              "1        12347.0  2010-12-07 14:57:00  ...    0.482639     NaN\n",
              "2        12348.0  2010-12-16 19:09:00  ...   36.449306     NaN\n",
              "3        12350.0  2011-02-02 16:01:00  ...  271.332639     NaN\n",
              "4        12352.0  2011-02-16 12:33:00  ...   33.376389  311.73\n",
              "...          ...                  ...  ...         ...     ...\n",
              "3930     18280.0  2011-03-07 09:52:00  ...  238.588889     NaN\n",
              "3931     18281.0  2011-06-12 10:53:00  ...  141.546528     NaN\n",
              "3932     18282.0  2011-08-05 13:35:00  ...   83.368056     NaN\n",
              "3933     18283.0  2011-01-06 14:14:00  ...    4.390278  651.56\n",
              "3934     18287.0  2011-05-22 10:39:00  ...    3.604861     NaN\n",
              "\n",
              "[3935 rows x 8 columns]"
            ]
          },
          "metadata": {
            "tags": []
          },
          "execution_count": 77
        }
      ]
    },
    {
      "cell_type": "code",
      "metadata": {
        "id": "xLBmUYPsfzK7"
      },
      "source": [
        "t = select(sql)"
      ],
      "execution_count": null,
      "outputs": []
    },
    {
      "cell_type": "markdown",
      "metadata": {
        "id": "i3jgQtq6kVj0"
      },
      "source": [
        "recency frequency monetary  \n",
        "\n",
        "r (как давно что-то покупал? Чем более недавно, тем лучше) 1-4  \n",
        "f (как часто покупал ранее? Чем чаще, тем лучше) 1-4  \n",
        "m (как много денег потратил на нас? Чем больше, тем лучше) 1-4  "
      ]
    },
    {
      "cell_type": "code",
      "metadata": {
        "colab": {
          "base_uri": "https://localhost:8080/",
          "height": 419
        },
        "id": "eM6Y7dyef0hZ",
        "outputId": "69228714-7d35-43e7-f400-b60136c9ddf3"
      },
      "source": [
        "t"
      ],
      "execution_count": null,
      "outputs": [
        {
          "output_type": "execute_result",
          "data": {
            "text/html": [
              "<div>\n",
              "<style scoped>\n",
              "    .dataframe tbody tr th:only-of-type {\n",
              "        vertical-align: middle;\n",
              "    }\n",
              "\n",
              "    .dataframe tbody tr th {\n",
              "        vertical-align: top;\n",
              "    }\n",
              "\n",
              "    .dataframe thead th {\n",
              "        text-align: right;\n",
              "    }\n",
              "</style>\n",
              "<table border=\"1\" class=\"dataframe\">\n",
              "  <thead>\n",
              "    <tr style=\"text-align: right;\">\n",
              "      <th></th>\n",
              "      <th>CustomerID</th>\n",
              "      <th>reg_date</th>\n",
              "      <th>last_purchase</th>\n",
              "      <th>monetary</th>\n",
              "      <th>frequency</th>\n",
              "      <th>month</th>\n",
              "      <th>recency</th>\n",
              "      <th>target</th>\n",
              "    </tr>\n",
              "  </thead>\n",
              "  <tbody>\n",
              "    <tr>\n",
              "      <th>0</th>\n",
              "      <td>12346.0</td>\n",
              "      <td>2011-01-18 10:01:00</td>\n",
              "      <td>2011-01-18 10:17:00</td>\n",
              "      <td>0.00</td>\n",
              "      <td>2</td>\n",
              "      <td>2011-11-01</td>\n",
              "      <td>286.571528</td>\n",
              "      <td>NaN</td>\n",
              "    </tr>\n",
              "    <tr>\n",
              "      <th>1</th>\n",
              "      <td>12347.0</td>\n",
              "      <td>2010-12-07 14:57:00</td>\n",
              "      <td>2011-10-31 12:25:00</td>\n",
              "      <td>4085.18</td>\n",
              "      <td>6</td>\n",
              "      <td>2011-11-01</td>\n",
              "      <td>0.482639</td>\n",
              "      <td>NaN</td>\n",
              "    </tr>\n",
              "    <tr>\n",
              "      <th>2</th>\n",
              "      <td>12348.0</td>\n",
              "      <td>2010-12-16 19:09:00</td>\n",
              "      <td>2011-09-25 13:13:00</td>\n",
              "      <td>1797.24</td>\n",
              "      <td>4</td>\n",
              "      <td>2011-11-01</td>\n",
              "      <td>36.449306</td>\n",
              "      <td>NaN</td>\n",
              "    </tr>\n",
              "    <tr>\n",
              "      <th>3</th>\n",
              "      <td>12350.0</td>\n",
              "      <td>2011-02-02 16:01:00</td>\n",
              "      <td>2011-02-02 16:01:00</td>\n",
              "      <td>334.40</td>\n",
              "      <td>1</td>\n",
              "      <td>2011-11-01</td>\n",
              "      <td>271.332639</td>\n",
              "      <td>NaN</td>\n",
              "    </tr>\n",
              "    <tr>\n",
              "      <th>4</th>\n",
              "      <td>12352.0</td>\n",
              "      <td>2011-02-16 12:33:00</td>\n",
              "      <td>2011-09-28 14:58:00</td>\n",
              "      <td>1233.68</td>\n",
              "      <td>10</td>\n",
              "      <td>2011-11-01</td>\n",
              "      <td>33.376389</td>\n",
              "      <td>311.73</td>\n",
              "    </tr>\n",
              "    <tr>\n",
              "      <th>...</th>\n",
              "      <td>...</td>\n",
              "      <td>...</td>\n",
              "      <td>...</td>\n",
              "      <td>...</td>\n",
              "      <td>...</td>\n",
              "      <td>...</td>\n",
              "      <td>...</td>\n",
              "      <td>...</td>\n",
              "    </tr>\n",
              "    <tr>\n",
              "      <th>3930</th>\n",
              "      <td>18280.0</td>\n",
              "      <td>2011-03-07 09:52:00</td>\n",
              "      <td>2011-03-07 09:52:00</td>\n",
              "      <td>180.60</td>\n",
              "      <td>1</td>\n",
              "      <td>2011-11-01</td>\n",
              "      <td>238.588889</td>\n",
              "      <td>NaN</td>\n",
              "    </tr>\n",
              "    <tr>\n",
              "      <th>3931</th>\n",
              "      <td>18281.0</td>\n",
              "      <td>2011-06-12 10:53:00</td>\n",
              "      <td>2011-06-12 10:53:00</td>\n",
              "      <td>80.82</td>\n",
              "      <td>1</td>\n",
              "      <td>2011-11-01</td>\n",
              "      <td>141.546528</td>\n",
              "      <td>NaN</td>\n",
              "    </tr>\n",
              "    <tr>\n",
              "      <th>3932</th>\n",
              "      <td>18282.0</td>\n",
              "      <td>2011-08-05 13:35:00</td>\n",
              "      <td>2011-08-09 15:10:00</td>\n",
              "      <td>98.76</td>\n",
              "      <td>2</td>\n",
              "      <td>2011-11-01</td>\n",
              "      <td>83.368056</td>\n",
              "      <td>NaN</td>\n",
              "    </tr>\n",
              "    <tr>\n",
              "      <th>3933</th>\n",
              "      <td>18283.0</td>\n",
              "      <td>2011-01-06 14:14:00</td>\n",
              "      <td>2011-10-27 14:38:00</td>\n",
              "      <td>1235.32</td>\n",
              "      <td>11</td>\n",
              "      <td>2011-11-01</td>\n",
              "      <td>4.390278</td>\n",
              "      <td>651.56</td>\n",
              "    </tr>\n",
              "    <tr>\n",
              "      <th>3934</th>\n",
              "      <td>18287.0</td>\n",
              "      <td>2011-05-22 10:39:00</td>\n",
              "      <td>2011-10-28 09:29:00</td>\n",
              "      <td>1837.28</td>\n",
              "      <td>3</td>\n",
              "      <td>2011-11-01</td>\n",
              "      <td>3.604861</td>\n",
              "      <td>NaN</td>\n",
              "    </tr>\n",
              "  </tbody>\n",
              "</table>\n",
              "<p>3935 rows × 8 columns</p>\n",
              "</div>"
            ],
            "text/plain": [
              "      CustomerID             reg_date  ...     recency  target\n",
              "0        12346.0  2011-01-18 10:01:00  ...  286.571528     NaN\n",
              "1        12347.0  2010-12-07 14:57:00  ...    0.482639     NaN\n",
              "2        12348.0  2010-12-16 19:09:00  ...   36.449306     NaN\n",
              "3        12350.0  2011-02-02 16:01:00  ...  271.332639     NaN\n",
              "4        12352.0  2011-02-16 12:33:00  ...   33.376389  311.73\n",
              "...          ...                  ...  ...         ...     ...\n",
              "3930     18280.0  2011-03-07 09:52:00  ...  238.588889     NaN\n",
              "3931     18281.0  2011-06-12 10:53:00  ...  141.546528     NaN\n",
              "3932     18282.0  2011-08-05 13:35:00  ...   83.368056     NaN\n",
              "3933     18283.0  2011-01-06 14:14:00  ...    4.390278  651.56\n",
              "3934     18287.0  2011-05-22 10:39:00  ...    3.604861     NaN\n",
              "\n",
              "[3935 rows x 8 columns]"
            ]
          },
          "metadata": {
            "tags": []
          },
          "execution_count": 79
        }
      ]
    },
    {
      "cell_type": "code",
      "metadata": {
        "colab": {
          "base_uri": "https://localhost:8080/"
        },
        "id": "VrldU26kk5AQ",
        "outputId": "ef6868f8-0910-493c-e46b-4d9482f5b674"
      },
      "source": [
        "t['recency']"
      ],
      "execution_count": null,
      "outputs": [
        {
          "output_type": "execute_result",
          "data": {
            "text/plain": [
              "0       286.571528\n",
              "1         0.482639\n",
              "2        36.449306\n",
              "3       271.332639\n",
              "4        33.376389\n",
              "           ...    \n",
              "3930    238.588889\n",
              "3931    141.546528\n",
              "3932     83.368056\n",
              "3933      4.390278\n",
              "3934      3.604861\n",
              "Name: recency, Length: 3935, dtype: float64"
            ]
          },
          "metadata": {
            "tags": []
          },
          "execution_count": 80
        }
      ]
    },
    {
      "cell_type": "code",
      "metadata": {
        "id": "3p8mWsDJkCM4"
      },
      "source": [
        "t['r'] = 5 - (pd.qcut(t['recency'],4,labels=False) + 1)"
      ],
      "execution_count": null,
      "outputs": []
    },
    {
      "cell_type": "code",
      "metadata": {
        "colab": {
          "base_uri": "https://localhost:8080/",
          "height": 204
        },
        "id": "tzzYkVT0k_rv",
        "outputId": "91adc891-3308-4827-edfb-93cb15a5a1e8"
      },
      "source": [
        "t.groupby('r')['recency'].agg(['mean','count'])"
      ],
      "execution_count": null,
      "outputs": [
        {
          "output_type": "execute_result",
          "data": {
            "text/html": [
              "<div>\n",
              "<style scoped>\n",
              "    .dataframe tbody tr th:only-of-type {\n",
              "        vertical-align: middle;\n",
              "    }\n",
              "\n",
              "    .dataframe tbody tr th {\n",
              "        vertical-align: top;\n",
              "    }\n",
              "\n",
              "    .dataframe thead th {\n",
              "        text-align: right;\n",
              "    }\n",
              "</style>\n",
              "<table border=\"1\" class=\"dataframe\">\n",
              "  <thead>\n",
              "    <tr style=\"text-align: right;\">\n",
              "      <th></th>\n",
              "      <th>mean</th>\n",
              "      <th>count</th>\n",
              "    </tr>\n",
              "    <tr>\n",
              "      <th>r</th>\n",
              "      <th></th>\n",
              "      <th></th>\n",
              "    </tr>\n",
              "  </thead>\n",
              "  <tbody>\n",
              "    <tr>\n",
              "      <th>1</th>\n",
              "      <td>238.929315</td>\n",
              "      <td>984</td>\n",
              "    </tr>\n",
              "    <tr>\n",
              "      <th>2</th>\n",
              "      <td>97.578577</td>\n",
              "      <td>983</td>\n",
              "    </tr>\n",
              "    <tr>\n",
              "      <th>3</th>\n",
              "      <td>34.175226</td>\n",
              "      <td>984</td>\n",
              "    </tr>\n",
              "    <tr>\n",
              "      <th>4</th>\n",
              "      <td>9.272108</td>\n",
              "      <td>984</td>\n",
              "    </tr>\n",
              "  </tbody>\n",
              "</table>\n",
              "</div>"
            ],
            "text/plain": [
              "         mean  count\n",
              "r                   \n",
              "1  238.929315    984\n",
              "2   97.578577    983\n",
              "3   34.175226    984\n",
              "4    9.272108    984"
            ]
          },
          "metadata": {
            "tags": []
          },
          "execution_count": 82
        }
      ]
    },
    {
      "cell_type": "code",
      "metadata": {
        "id": "9VZtoysKlQeJ"
      },
      "source": [
        "t['f'] = pd.qcut(t['frequency'],4,labels=False,duplicates='drop') + 2"
      ],
      "execution_count": null,
      "outputs": []
    },
    {
      "cell_type": "code",
      "metadata": {
        "colab": {
          "base_uri": "https://localhost:8080/",
          "height": 173
        },
        "id": "c8Ihg915mUv3",
        "outputId": "483825fe-b986-4cc5-9ce8-be2ddfb2674b"
      },
      "source": [
        "t.groupby('f')['frequency'].agg(['mean','count'])"
      ],
      "execution_count": null,
      "outputs": [
        {
          "output_type": "execute_result",
          "data": {
            "text/html": [
              "<div>\n",
              "<style scoped>\n",
              "    .dataframe tbody tr th:only-of-type {\n",
              "        vertical-align: middle;\n",
              "    }\n",
              "\n",
              "    .dataframe tbody tr th {\n",
              "        vertical-align: top;\n",
              "    }\n",
              "\n",
              "    .dataframe thead th {\n",
              "        text-align: right;\n",
              "    }\n",
              "</style>\n",
              "<table border=\"1\" class=\"dataframe\">\n",
              "  <thead>\n",
              "    <tr style=\"text-align: right;\">\n",
              "      <th></th>\n",
              "      <th>mean</th>\n",
              "      <th>count</th>\n",
              "    </tr>\n",
              "    <tr>\n",
              "      <th>f</th>\n",
              "      <th></th>\n",
              "      <th></th>\n",
              "    </tr>\n",
              "  </thead>\n",
              "  <tbody>\n",
              "    <tr>\n",
              "      <th>2</th>\n",
              "      <td>1.367202</td>\n",
              "      <td>2116</td>\n",
              "    </tr>\n",
              "    <tr>\n",
              "      <th>3</th>\n",
              "      <td>3.808654</td>\n",
              "      <td>1040</td>\n",
              "    </tr>\n",
              "    <tr>\n",
              "      <th>4</th>\n",
              "      <td>10.928113</td>\n",
              "      <td>779</td>\n",
              "    </tr>\n",
              "  </tbody>\n",
              "</table>\n",
              "</div>"
            ],
            "text/plain": [
              "        mean  count\n",
              "f                  \n",
              "2   1.367202   2116\n",
              "3   3.808654   1040\n",
              "4  10.928113    779"
            ]
          },
          "metadata": {
            "tags": []
          },
          "execution_count": 84
        }
      ]
    },
    {
      "cell_type": "code",
      "metadata": {
        "colab": {
          "base_uri": "https://localhost:8080/"
        },
        "id": "VoEpOg8Tmhka",
        "outputId": "5155390a-70dc-4aa0-cc51-ee535de7a6ec"
      },
      "source": [
        "t.groupby('f')['frequency'].agg(set)"
      ],
      "execution_count": null,
      "outputs": [
        {
          "output_type": "execute_result",
          "data": {
            "text/plain": [
              "f\n",
              "2                                               {1, 2}\n",
              "3                                            {3, 4, 5}\n",
              "4    {6, 7, 8, 9, 10, 11, 12, 13, 14, 15, 16, 17, 1...\n",
              "Name: frequency, dtype: object"
            ]
          },
          "metadata": {
            "tags": []
          },
          "execution_count": 85
        }
      ]
    },
    {
      "cell_type": "code",
      "metadata": {
        "colab": {
          "base_uri": "https://localhost:8080/"
        },
        "id": "6fgvlDs0nfec",
        "outputId": "6b74712f-192d-4362-c3d2-21084c4f441c"
      },
      "source": [
        "t['frequency'].value_counts()"
      ],
      "execution_count": null,
      "outputs": [
        {
          "output_type": "execute_result",
          "data": {
            "text/plain": [
              "1     1339\n",
              "2      777\n",
              "3      461\n",
              "4      317\n",
              "5      262\n",
              "6      152\n",
              "7      115\n",
              "8       96\n",
              "9       66\n",
              "10      62\n",
              "11      55\n",
              "13      34\n",
              "12      33\n",
              "14      27\n",
              "15      21\n",
              "16      20\n",
              "17      13\n",
              "19      10\n",
              "20       9\n",
              "24       9\n",
              "21       8\n",
              "18       8\n",
              "25       7\n",
              "23       6\n",
              "22       5\n",
              "26       4\n",
              "28       3\n",
              "31       3\n",
              "35       2\n",
              "38       2\n",
              "40       2\n",
              "34       1\n",
              "36       1\n",
              "33       1\n",
              "76       1\n",
              "27       1\n",
              "29       1\n",
              "74       1\n",
              "Name: frequency, dtype: int64"
            ]
          },
          "metadata": {
            "tags": []
          },
          "execution_count": 86
        }
      ]
    },
    {
      "cell_type": "code",
      "metadata": {
        "id": "Que9MSRUnGQ-"
      },
      "source": [
        "def get_f(x):\n",
        "  if x == 1:\n",
        "    return 1\n",
        "  if x in [2,3]:\n",
        "    return 2\n",
        "  if x in [3,4,5,6]:\n",
        "    return 3\n",
        "  return 4 "
      ],
      "execution_count": null,
      "outputs": []
    },
    {
      "cell_type": "code",
      "metadata": {
        "id": "lfG9VtmkntVL"
      },
      "source": [
        "t['f'] = t['frequency'].apply(get_f)"
      ],
      "execution_count": null,
      "outputs": []
    },
    {
      "cell_type": "code",
      "metadata": {
        "colab": {
          "base_uri": "https://localhost:8080/",
          "height": 204
        },
        "id": "hAHVdtb9nw66",
        "outputId": "27019871-f7e6-45ff-bc3f-516f28e56f10"
      },
      "source": [
        "t.groupby('f')['frequency'].agg(['mean','count'])"
      ],
      "execution_count": null,
      "outputs": [
        {
          "output_type": "execute_result",
          "data": {
            "text/html": [
              "<div>\n",
              "<style scoped>\n",
              "    .dataframe tbody tr th:only-of-type {\n",
              "        vertical-align: middle;\n",
              "    }\n",
              "\n",
              "    .dataframe tbody tr th {\n",
              "        vertical-align: top;\n",
              "    }\n",
              "\n",
              "    .dataframe thead th {\n",
              "        text-align: right;\n",
              "    }\n",
              "</style>\n",
              "<table border=\"1\" class=\"dataframe\">\n",
              "  <thead>\n",
              "    <tr style=\"text-align: right;\">\n",
              "      <th></th>\n",
              "      <th>mean</th>\n",
              "      <th>count</th>\n",
              "    </tr>\n",
              "    <tr>\n",
              "      <th>f</th>\n",
              "      <th></th>\n",
              "      <th></th>\n",
              "    </tr>\n",
              "  </thead>\n",
              "  <tbody>\n",
              "    <tr>\n",
              "      <th>1</th>\n",
              "      <td>1.000000</td>\n",
              "      <td>1339</td>\n",
              "    </tr>\n",
              "    <tr>\n",
              "      <th>2</th>\n",
              "      <td>2.372375</td>\n",
              "      <td>1238</td>\n",
              "    </tr>\n",
              "    <tr>\n",
              "      <th>3</th>\n",
              "      <td>4.774282</td>\n",
              "      <td>731</td>\n",
              "    </tr>\n",
              "    <tr>\n",
              "      <th>4</th>\n",
              "      <td>12.122807</td>\n",
              "      <td>627</td>\n",
              "    </tr>\n",
              "  </tbody>\n",
              "</table>\n",
              "</div>"
            ],
            "text/plain": [
              "        mean  count\n",
              "f                  \n",
              "1   1.000000   1339\n",
              "2   2.372375   1238\n",
              "3   4.774282    731\n",
              "4  12.122807    627"
            ]
          },
          "metadata": {
            "tags": []
          },
          "execution_count": 89
        }
      ]
    },
    {
      "cell_type": "code",
      "metadata": {
        "id": "fre-_iePnzqL"
      },
      "source": [
        "t['m'] = pd.qcut(t['monetary'],4,labels=False) + 1"
      ],
      "execution_count": null,
      "outputs": []
    },
    {
      "cell_type": "code",
      "metadata": {
        "colab": {
          "base_uri": "https://localhost:8080/",
          "height": 204
        },
        "id": "yArK9YTbn9hJ",
        "outputId": "821cca41-b354-4754-b495-7542c2e8a5e3"
      },
      "source": [
        "t.groupby('m')['monetary'].agg(['mean','count'])"
      ],
      "execution_count": null,
      "outputs": [
        {
          "output_type": "execute_result",
          "data": {
            "text/html": [
              "<div>\n",
              "<style scoped>\n",
              "    .dataframe tbody tr th:only-of-type {\n",
              "        vertical-align: middle;\n",
              "    }\n",
              "\n",
              "    .dataframe tbody tr th {\n",
              "        vertical-align: top;\n",
              "    }\n",
              "\n",
              "    .dataframe thead th {\n",
              "        text-align: right;\n",
              "    }\n",
              "</style>\n",
              "<table border=\"1\" class=\"dataframe\">\n",
              "  <thead>\n",
              "    <tr style=\"text-align: right;\">\n",
              "      <th></th>\n",
              "      <th>mean</th>\n",
              "      <th>count</th>\n",
              "    </tr>\n",
              "    <tr>\n",
              "      <th>m</th>\n",
              "      <th></th>\n",
              "      <th></th>\n",
              "    </tr>\n",
              "  </thead>\n",
              "  <tbody>\n",
              "    <tr>\n",
              "      <th>1</th>\n",
              "      <td>138.807317</td>\n",
              "      <td>984</td>\n",
              "    </tr>\n",
              "    <tr>\n",
              "      <th>2</th>\n",
              "      <td>401.886477</td>\n",
              "      <td>984</td>\n",
              "    </tr>\n",
              "    <tr>\n",
              "      <th>3</th>\n",
              "      <td>894.042645</td>\n",
              "      <td>983</td>\n",
              "    </tr>\n",
              "    <tr>\n",
              "      <th>4</th>\n",
              "      <td>3012.871109</td>\n",
              "      <td>984</td>\n",
              "    </tr>\n",
              "  </tbody>\n",
              "</table>\n",
              "</div>"
            ],
            "text/plain": [
              "          mean  count\n",
              "m                    \n",
              "1   138.807317    984\n",
              "2   401.886477    984\n",
              "3   894.042645    983\n",
              "4  3012.871109    984"
            ]
          },
          "metadata": {
            "tags": []
          },
          "execution_count": 91
        }
      ]
    },
    {
      "cell_type": "code",
      "metadata": {
        "id": "gG0UDX5NoAng"
      },
      "source": [
        "t['rfm_score'] = (t['r'] + t['f'] + t['m']) / 3"
      ],
      "execution_count": null,
      "outputs": []
    },
    {
      "cell_type": "code",
      "metadata": {
        "colab": {
          "base_uri": "https://localhost:8080/",
          "height": 419
        },
        "id": "6X-DFmsnoN7l",
        "outputId": "ed70e317-325c-400d-e973-9fa91cee4c1e"
      },
      "source": [
        "t.sort_values('rfm_score',ascending=False)"
      ],
      "execution_count": null,
      "outputs": [
        {
          "output_type": "execute_result",
          "data": {
            "text/html": [
              "<div>\n",
              "<style scoped>\n",
              "    .dataframe tbody tr th:only-of-type {\n",
              "        vertical-align: middle;\n",
              "    }\n",
              "\n",
              "    .dataframe tbody tr th {\n",
              "        vertical-align: top;\n",
              "    }\n",
              "\n",
              "    .dataframe thead th {\n",
              "        text-align: right;\n",
              "    }\n",
              "</style>\n",
              "<table border=\"1\" class=\"dataframe\">\n",
              "  <thead>\n",
              "    <tr style=\"text-align: right;\">\n",
              "      <th></th>\n",
              "      <th>CustomerID</th>\n",
              "      <th>reg_date</th>\n",
              "      <th>last_purchase</th>\n",
              "      <th>monetary</th>\n",
              "      <th>frequency</th>\n",
              "      <th>month</th>\n",
              "      <th>recency</th>\n",
              "      <th>target</th>\n",
              "      <th>r</th>\n",
              "      <th>f</th>\n",
              "      <th>m</th>\n",
              "      <th>rfm_score</th>\n",
              "    </tr>\n",
              "  </thead>\n",
              "  <tbody>\n",
              "    <tr>\n",
              "      <th>1172</th>\n",
              "      <td>14085.0</td>\n",
              "      <td>2010-12-06 12:39:00</td>\n",
              "      <td>2011-10-25 16:20:00</td>\n",
              "      <td>3525.98</td>\n",
              "      <td>15</td>\n",
              "      <td>2011-11-01</td>\n",
              "      <td>6.319444</td>\n",
              "      <td>278.82</td>\n",
              "      <td>4</td>\n",
              "      <td>4</td>\n",
              "      <td>4</td>\n",
              "      <td>4.0</td>\n",
              "    </tr>\n",
              "    <tr>\n",
              "      <th>1187</th>\n",
              "      <td>14112.0</td>\n",
              "      <td>2011-03-09 11:28:00</td>\n",
              "      <td>2011-10-30 16:00:00</td>\n",
              "      <td>2613.15</td>\n",
              "      <td>10</td>\n",
              "      <td>2011-11-01</td>\n",
              "      <td>1.333333</td>\n",
              "      <td>161.02</td>\n",
              "      <td>4</td>\n",
              "      <td>4</td>\n",
              "      <td>4</td>\n",
              "      <td>4.0</td>\n",
              "    </tr>\n",
              "    <tr>\n",
              "      <th>2113</th>\n",
              "      <td>15505.0</td>\n",
              "      <td>2011-07-07 13:33:00</td>\n",
              "      <td>2011-10-18 07:56:00</td>\n",
              "      <td>3497.14</td>\n",
              "      <td>7</td>\n",
              "      <td>2011-11-01</td>\n",
              "      <td>13.669444</td>\n",
              "      <td>NaN</td>\n",
              "      <td>4</td>\n",
              "      <td>4</td>\n",
              "      <td>4</td>\n",
              "      <td>4.0</td>\n",
              "    </tr>\n",
              "    <tr>\n",
              "      <th>2098</th>\n",
              "      <td>15482.0</td>\n",
              "      <td>2010-12-16 10:08:00</td>\n",
              "      <td>2011-10-25 17:32:00</td>\n",
              "      <td>2503.50</td>\n",
              "      <td>8</td>\n",
              "      <td>2011-11-01</td>\n",
              "      <td>6.269444</td>\n",
              "      <td>4065.22</td>\n",
              "      <td>4</td>\n",
              "      <td>4</td>\n",
              "      <td>4</td>\n",
              "      <td>4.0</td>\n",
              "    </tr>\n",
              "    <tr>\n",
              "      <th>3337</th>\n",
              "      <td>17365.0</td>\n",
              "      <td>2011-01-11 12:11:00</td>\n",
              "      <td>2011-10-20 12:07:00</td>\n",
              "      <td>4375.19</td>\n",
              "      <td>7</td>\n",
              "      <td>2011-11-01</td>\n",
              "      <td>11.495139</td>\n",
              "      <td>426.37</td>\n",
              "      <td>4</td>\n",
              "      <td>4</td>\n",
              "      <td>4</td>\n",
              "      <td>4.0</td>\n",
              "    </tr>\n",
              "    <tr>\n",
              "      <th>...</th>\n",
              "      <td>...</td>\n",
              "      <td>...</td>\n",
              "      <td>...</td>\n",
              "      <td>...</td>\n",
              "      <td>...</td>\n",
              "      <td>...</td>\n",
              "      <td>...</td>\n",
              "      <td>...</td>\n",
              "      <td>...</td>\n",
              "      <td>...</td>\n",
              "      <td>...</td>\n",
              "      <td>...</td>\n",
              "    </tr>\n",
              "    <tr>\n",
              "      <th>2475</th>\n",
              "      <td>16061.0</td>\n",
              "      <td>2011-03-15 14:41:00</td>\n",
              "      <td>2011-03-15 14:41:00</td>\n",
              "      <td>-29.95</td>\n",
              "      <td>1</td>\n",
              "      <td>2011-11-01</td>\n",
              "      <td>230.388194</td>\n",
              "      <td>NaN</td>\n",
              "      <td>1</td>\n",
              "      <td>1</td>\n",
              "      <td>1</td>\n",
              "      <td>1.0</td>\n",
              "    </tr>\n",
              "    <tr>\n",
              "      <th>3533</th>\n",
              "      <td>17670.0</td>\n",
              "      <td>2011-04-26 09:12:00</td>\n",
              "      <td>2011-04-26 09:12:00</td>\n",
              "      <td>205.70</td>\n",
              "      <td>1</td>\n",
              "      <td>2011-11-01</td>\n",
              "      <td>188.616667</td>\n",
              "      <td>NaN</td>\n",
              "      <td>1</td>\n",
              "      <td>1</td>\n",
              "      <td>1</td>\n",
              "      <td>1.0</td>\n",
              "    </tr>\n",
              "    <tr>\n",
              "      <th>2484</th>\n",
              "      <td>16078.0</td>\n",
              "      <td>2011-03-01 09:47:00</td>\n",
              "      <td>2011-03-01 09:47:00</td>\n",
              "      <td>79.20</td>\n",
              "      <td>1</td>\n",
              "      <td>2011-11-01</td>\n",
              "      <td>244.592361</td>\n",
              "      <td>NaN</td>\n",
              "      <td>1</td>\n",
              "      <td>1</td>\n",
              "      <td>1</td>\n",
              "      <td>1.0</td>\n",
              "    </tr>\n",
              "    <tr>\n",
              "      <th>2497</th>\n",
              "      <td>16097.0</td>\n",
              "      <td>2011-04-13 13:47:00</td>\n",
              "      <td>2011-04-13 13:47:00</td>\n",
              "      <td>185.05</td>\n",
              "      <td>1</td>\n",
              "      <td>2011-11-01</td>\n",
              "      <td>201.425694</td>\n",
              "      <td>NaN</td>\n",
              "      <td>1</td>\n",
              "      <td>1</td>\n",
              "      <td>1</td>\n",
              "      <td>1.0</td>\n",
              "    </tr>\n",
              "    <tr>\n",
              "      <th>1536</th>\n",
              "      <td>14627.0</td>\n",
              "      <td>2011-02-01 10:49:00</td>\n",
              "      <td>2011-02-01 10:49:00</td>\n",
              "      <td>-21.85</td>\n",
              "      <td>1</td>\n",
              "      <td>2011-11-01</td>\n",
              "      <td>272.549306</td>\n",
              "      <td>NaN</td>\n",
              "      <td>1</td>\n",
              "      <td>1</td>\n",
              "      <td>1</td>\n",
              "      <td>1.0</td>\n",
              "    </tr>\n",
              "  </tbody>\n",
              "</table>\n",
              "<p>3935 rows × 12 columns</p>\n",
              "</div>"
            ],
            "text/plain": [
              "      CustomerID             reg_date        last_purchase  ...  f  m rfm_score\n",
              "1172     14085.0  2010-12-06 12:39:00  2011-10-25 16:20:00  ...  4  4       4.0\n",
              "1187     14112.0  2011-03-09 11:28:00  2011-10-30 16:00:00  ...  4  4       4.0\n",
              "2113     15505.0  2011-07-07 13:33:00  2011-10-18 07:56:00  ...  4  4       4.0\n",
              "2098     15482.0  2010-12-16 10:08:00  2011-10-25 17:32:00  ...  4  4       4.0\n",
              "3337     17365.0  2011-01-11 12:11:00  2011-10-20 12:07:00  ...  4  4       4.0\n",
              "...          ...                  ...                  ...  ... .. ..       ...\n",
              "2475     16061.0  2011-03-15 14:41:00  2011-03-15 14:41:00  ...  1  1       1.0\n",
              "3533     17670.0  2011-04-26 09:12:00  2011-04-26 09:12:00  ...  1  1       1.0\n",
              "2484     16078.0  2011-03-01 09:47:00  2011-03-01 09:47:00  ...  1  1       1.0\n",
              "2497     16097.0  2011-04-13 13:47:00  2011-04-13 13:47:00  ...  1  1       1.0\n",
              "1536     14627.0  2011-02-01 10:49:00  2011-02-01 10:49:00  ...  1  1       1.0\n",
              "\n",
              "[3935 rows x 12 columns]"
            ]
          },
          "metadata": {
            "tags": []
          },
          "execution_count": 93
        }
      ]
    },
    {
      "cell_type": "markdown",
      "metadata": {
        "id": "ZLZEcwoophcZ"
      },
      "source": [
        "https://towardsdatascience.com/recency-frequency-monetary-model-with-python-and-how-sephora-uses-it-to-optimize-their-google-d6a0707c5f17"
      ]
    },
    {
      "cell_type": "code",
      "metadata": {
        "id": "peaSunf5oR-7"
      },
      "source": [
        "def rfm_level(df):\n",
        "    if df['RFM_Score'] >= 9:\n",
        "        return 'Can\\'t Loose Them'\n",
        "    elif ((df['RFM_Score'] >= 8) and (df['RFM_Score'] < 9)):\n",
        "        return 'Champions'\n",
        "    elif ((df['RFM_Score'] >= 7) and (df['RFM_Score'] < 8)):\n",
        "        return 'Loyal'\n",
        "    elif ((df['RFM_Score'] >= 6) and (df['RFM_Score'] < 7)):\n",
        "        return 'Potential'\n",
        "    elif ((df['RFM_Score'] >= 5) and (df['RFM_Score'] < 6)):\n",
        "        return 'Promising'\n",
        "    elif ((df['RFM_Score'] >= 4) and (df['RFM_Score'] < 5)):\n",
        "        return 'Needs Attention'\n",
        "    else:\n",
        "        return 'Require Activation'"
      ],
      "execution_count": null,
      "outputs": []
    },
    {
      "cell_type": "code",
      "metadata": {
        "id": "aTu_iKnmpC2Y"
      },
      "source": [
        "t['RFM_Score'] = (t['r'] + t['f'] + t['m'])"
      ],
      "execution_count": null,
      "outputs": []
    },
    {
      "cell_type": "code",
      "metadata": {
        "id": "RFMehUMMpKyM"
      },
      "source": [
        "t['segment'] = t.apply(rfm_level,axis=1)"
      ],
      "execution_count": null,
      "outputs": []
    },
    {
      "cell_type": "code",
      "metadata": {
        "colab": {
          "base_uri": "https://localhost:8080/",
          "height": 297
        },
        "id": "Xrtxyg_epPDr",
        "outputId": "4c8588a8-472c-4ed5-92d9-8441e546b534"
      },
      "source": [
        "t.groupby('segment')['monetary'].agg(['mean','count'])"
      ],
      "execution_count": null,
      "outputs": [
        {
          "output_type": "execute_result",
          "data": {
            "text/html": [
              "<div>\n",
              "<style scoped>\n",
              "    .dataframe tbody tr th:only-of-type {\n",
              "        vertical-align: middle;\n",
              "    }\n",
              "\n",
              "    .dataframe tbody tr th {\n",
              "        vertical-align: top;\n",
              "    }\n",
              "\n",
              "    .dataframe thead th {\n",
              "        text-align: right;\n",
              "    }\n",
              "</style>\n",
              "<table border=\"1\" class=\"dataframe\">\n",
              "  <thead>\n",
              "    <tr style=\"text-align: right;\">\n",
              "      <th></th>\n",
              "      <th>mean</th>\n",
              "      <th>count</th>\n",
              "    </tr>\n",
              "    <tr>\n",
              "      <th>segment</th>\n",
              "      <th></th>\n",
              "      <th></th>\n",
              "    </tr>\n",
              "  </thead>\n",
              "  <tbody>\n",
              "    <tr>\n",
              "      <th>Can't Loose Them</th>\n",
              "      <td>2399.799870</td>\n",
              "      <td>1307</td>\n",
              "    </tr>\n",
              "    <tr>\n",
              "      <th>Champions</th>\n",
              "      <td>979.344811</td>\n",
              "      <td>418</td>\n",
              "    </tr>\n",
              "    <tr>\n",
              "      <th>Loyal</th>\n",
              "      <td>656.788071</td>\n",
              "      <td>476</td>\n",
              "    </tr>\n",
              "    <tr>\n",
              "      <th>Needs Attention</th>\n",
              "      <td>230.661849</td>\n",
              "      <td>438</td>\n",
              "    </tr>\n",
              "    <tr>\n",
              "      <th>Potential</th>\n",
              "      <td>456.758162</td>\n",
              "      <td>500</td>\n",
              "    </tr>\n",
              "    <tr>\n",
              "      <th>Promising</th>\n",
              "      <td>332.846186</td>\n",
              "      <td>409</td>\n",
              "    </tr>\n",
              "    <tr>\n",
              "      <th>Require Activation</th>\n",
              "      <td>133.005271</td>\n",
              "      <td>387</td>\n",
              "    </tr>\n",
              "  </tbody>\n",
              "</table>\n",
              "</div>"
            ],
            "text/plain": [
              "                           mean  count\n",
              "segment                               \n",
              "Can't Loose Them    2399.799870   1307\n",
              "Champions            979.344811    418\n",
              "Loyal                656.788071    476\n",
              "Needs Attention      230.661849    438\n",
              "Potential            456.758162    500\n",
              "Promising            332.846186    409\n",
              "Require Activation   133.005271    387"
            ]
          },
          "metadata": {
            "tags": []
          },
          "execution_count": 99
        }
      ]
    },
    {
      "cell_type": "markdown",
      "metadata": {
        "id": "7i2Q2KqnpYBr"
      },
      "source": [
        "recency frequency monetary  \n",
        "\n",
        "r (как давно что-то покупал? Чем более недавно, тем лучше) 1-4  \n",
        "f (как часто покупал ранее? Чем чаще, тем лучше) 1-4  \n",
        "m (как много денег потратил на нас? Чем больше, тем лучше) 1-4  "
      ]
    },
    {
      "cell_type": "code",
      "metadata": {
        "colab": {
          "base_uri": "https://localhost:8080/"
        },
        "id": "K3hYYNklqOwk",
        "outputId": "1d5fe66f-2531-4a7e-8bed-5aab15734da4"
      },
      "source": [
        "t['recency'].rank(pct=True,ascending=False)"
      ],
      "execution_count": null,
      "outputs": [
        {
          "output_type": "execute_result",
          "data": {
            "text/plain": [
              "0       0.055909\n",
              "1       0.992630\n",
              "2       0.593393\n",
              "3       0.077510\n",
              "4       0.628208\n",
              "          ...   \n",
              "3930    0.113850\n",
              "3931    0.275476\n",
              "3932    0.400508\n",
              "3933    0.940661\n",
              "3934    0.952732\n",
              "Name: recency, Length: 3935, dtype: float64"
            ]
          },
          "metadata": {
            "tags": []
          },
          "execution_count": 100
        }
      ]
    },
    {
      "cell_type": "code",
      "metadata": {
        "id": "ok5C6A4qqI2C"
      },
      "source": [
        "d = pd.DataFrame([1,2,3,4,4,4,5,6])"
      ],
      "execution_count": null,
      "outputs": []
    },
    {
      "cell_type": "code",
      "metadata": {
        "id": "moLxm5ETrW4H"
      },
      "source": [
        "d['rnk'] = d[0].rank(method='max')"
      ],
      "execution_count": null,
      "outputs": []
    },
    {
      "cell_type": "code",
      "metadata": {
        "colab": {
          "base_uri": "https://localhost:8080/",
          "height": 297
        },
        "id": "masl2BAOrZxb",
        "outputId": "9948e012-2d22-4823-df75-5c6f0acf7b5d"
      },
      "source": [
        "d"
      ],
      "execution_count": null,
      "outputs": [
        {
          "output_type": "execute_result",
          "data": {
            "text/html": [
              "<div>\n",
              "<style scoped>\n",
              "    .dataframe tbody tr th:only-of-type {\n",
              "        vertical-align: middle;\n",
              "    }\n",
              "\n",
              "    .dataframe tbody tr th {\n",
              "        vertical-align: top;\n",
              "    }\n",
              "\n",
              "    .dataframe thead th {\n",
              "        text-align: right;\n",
              "    }\n",
              "</style>\n",
              "<table border=\"1\" class=\"dataframe\">\n",
              "  <thead>\n",
              "    <tr style=\"text-align: right;\">\n",
              "      <th></th>\n",
              "      <th>0</th>\n",
              "      <th>rnk</th>\n",
              "    </tr>\n",
              "  </thead>\n",
              "  <tbody>\n",
              "    <tr>\n",
              "      <th>0</th>\n",
              "      <td>1</td>\n",
              "      <td>1.0</td>\n",
              "    </tr>\n",
              "    <tr>\n",
              "      <th>1</th>\n",
              "      <td>2</td>\n",
              "      <td>2.0</td>\n",
              "    </tr>\n",
              "    <tr>\n",
              "      <th>2</th>\n",
              "      <td>3</td>\n",
              "      <td>3.0</td>\n",
              "    </tr>\n",
              "    <tr>\n",
              "      <th>3</th>\n",
              "      <td>4</td>\n",
              "      <td>6.0</td>\n",
              "    </tr>\n",
              "    <tr>\n",
              "      <th>4</th>\n",
              "      <td>4</td>\n",
              "      <td>6.0</td>\n",
              "    </tr>\n",
              "    <tr>\n",
              "      <th>5</th>\n",
              "      <td>4</td>\n",
              "      <td>6.0</td>\n",
              "    </tr>\n",
              "    <tr>\n",
              "      <th>6</th>\n",
              "      <td>5</td>\n",
              "      <td>7.0</td>\n",
              "    </tr>\n",
              "    <tr>\n",
              "      <th>7</th>\n",
              "      <td>6</td>\n",
              "      <td>8.0</td>\n",
              "    </tr>\n",
              "  </tbody>\n",
              "</table>\n",
              "</div>"
            ],
            "text/plain": [
              "   0  rnk\n",
              "0  1  1.0\n",
              "1  2  2.0\n",
              "2  3  3.0\n",
              "3  4  6.0\n",
              "4  4  6.0\n",
              "5  4  6.0\n",
              "6  5  7.0\n",
              "7  6  8.0"
            ]
          },
          "metadata": {
            "tags": []
          },
          "execution_count": 103
        }
      ]
    },
    {
      "cell_type": "code",
      "metadata": {
        "id": "Ub_cmy_HrcX5"
      },
      "source": [
        "t['r_pct'] = t['recency'].rank(pct=True,ascending=False)\n",
        "t['f_pct'] = t['frequency'].rank(pct=True)\n",
        "t['m_pct'] = t['monetary'].rank(pct=True)"
      ],
      "execution_count": null,
      "outputs": []
    },
    {
      "cell_type": "code",
      "metadata": {
        "id": "z-vmiVNUr5Nn"
      },
      "source": [
        "t['rfm_pct'] = t[['r_pct','f_pct','m_pct']].sum(axis=1)"
      ],
      "execution_count": null,
      "outputs": []
    },
    {
      "cell_type": "code",
      "metadata": {
        "colab": {
          "base_uri": "https://localhost:8080/",
          "height": 779
        },
        "id": "T2qCZocUr7p8",
        "outputId": "7325bec9-5930-4652-b651-84b9f05ea202"
      },
      "source": [
        "t"
      ],
      "execution_count": null,
      "outputs": [
        {
          "output_type": "execute_result",
          "data": {
            "text/html": [
              "<div>\n",
              "<style scoped>\n",
              "    .dataframe tbody tr th:only-of-type {\n",
              "        vertical-align: middle;\n",
              "    }\n",
              "\n",
              "    .dataframe tbody tr th {\n",
              "        vertical-align: top;\n",
              "    }\n",
              "\n",
              "    .dataframe thead th {\n",
              "        text-align: right;\n",
              "    }\n",
              "</style>\n",
              "<table border=\"1\" class=\"dataframe\">\n",
              "  <thead>\n",
              "    <tr style=\"text-align: right;\">\n",
              "      <th></th>\n",
              "      <th>CustomerID</th>\n",
              "      <th>reg_date</th>\n",
              "      <th>last_purchase</th>\n",
              "      <th>monetary</th>\n",
              "      <th>frequency</th>\n",
              "      <th>month</th>\n",
              "      <th>recency</th>\n",
              "      <th>target</th>\n",
              "      <th>r</th>\n",
              "      <th>f</th>\n",
              "      <th>m</th>\n",
              "      <th>rfm_score</th>\n",
              "      <th>RFM_Score</th>\n",
              "      <th>segment</th>\n",
              "      <th>r_pct</th>\n",
              "      <th>f_pct</th>\n",
              "      <th>m_pct</th>\n",
              "      <th>rfm_pct</th>\n",
              "    </tr>\n",
              "  </thead>\n",
              "  <tbody>\n",
              "    <tr>\n",
              "      <th>0</th>\n",
              "      <td>12346.0</td>\n",
              "      <td>2011-01-18 10:01:00</td>\n",
              "      <td>2011-01-18 10:17:00</td>\n",
              "      <td>0.00</td>\n",
              "      <td>2</td>\n",
              "      <td>2011-11-01</td>\n",
              "      <td>286.571528</td>\n",
              "      <td>NaN</td>\n",
              "      <td>1</td>\n",
              "      <td>2</td>\n",
              "      <td>1</td>\n",
              "      <td>1.333333</td>\n",
              "      <td>4</td>\n",
              "      <td>Needs Attention</td>\n",
              "      <td>0.055909</td>\n",
              "      <td>0.439136</td>\n",
              "      <td>0.012706</td>\n",
              "      <td>0.507751</td>\n",
              "    </tr>\n",
              "    <tr>\n",
              "      <th>1</th>\n",
              "      <td>12347.0</td>\n",
              "      <td>2010-12-07 14:57:00</td>\n",
              "      <td>2011-10-31 12:25:00</td>\n",
              "      <td>4085.18</td>\n",
              "      <td>6</td>\n",
              "      <td>2011-11-01</td>\n",
              "      <td>0.482639</td>\n",
              "      <td>NaN</td>\n",
              "      <td>4</td>\n",
              "      <td>3</td>\n",
              "      <td>4</td>\n",
              "      <td>3.666667</td>\n",
              "      <td>11</td>\n",
              "      <td>Can't Loose Them</td>\n",
              "      <td>0.992630</td>\n",
              "      <td>0.821474</td>\n",
              "      <td>0.950445</td>\n",
              "      <td>2.764549</td>\n",
              "    </tr>\n",
              "    <tr>\n",
              "      <th>2</th>\n",
              "      <td>12348.0</td>\n",
              "      <td>2010-12-16 19:09:00</td>\n",
              "      <td>2011-09-25 13:13:00</td>\n",
              "      <td>1797.24</td>\n",
              "      <td>4</td>\n",
              "      <td>2011-11-01</td>\n",
              "      <td>36.449306</td>\n",
              "      <td>NaN</td>\n",
              "      <td>3</td>\n",
              "      <td>3</td>\n",
              "      <td>4</td>\n",
              "      <td>3.333333</td>\n",
              "      <td>10</td>\n",
              "      <td>Can't Loose Them</td>\n",
              "      <td>0.593393</td>\n",
              "      <td>0.695299</td>\n",
              "      <td>0.816773</td>\n",
              "      <td>2.105464</td>\n",
              "    </tr>\n",
              "    <tr>\n",
              "      <th>3</th>\n",
              "      <td>12350.0</td>\n",
              "      <td>2011-02-02 16:01:00</td>\n",
              "      <td>2011-02-02 16:01:00</td>\n",
              "      <td>334.40</td>\n",
              "      <td>1</td>\n",
              "      <td>2011-11-01</td>\n",
              "      <td>271.332639</td>\n",
              "      <td>NaN</td>\n",
              "      <td>1</td>\n",
              "      <td>1</td>\n",
              "      <td>2</td>\n",
              "      <td>1.333333</td>\n",
              "      <td>4</td>\n",
              "      <td>Needs Attention</td>\n",
              "      <td>0.077510</td>\n",
              "      <td>0.170267</td>\n",
              "      <td>0.326048</td>\n",
              "      <td>0.573825</td>\n",
              "    </tr>\n",
              "    <tr>\n",
              "      <th>4</th>\n",
              "      <td>12352.0</td>\n",
              "      <td>2011-02-16 12:33:00</td>\n",
              "      <td>2011-09-28 14:58:00</td>\n",
              "      <td>1233.68</td>\n",
              "      <td>10</td>\n",
              "      <td>2011-11-01</td>\n",
              "      <td>33.376389</td>\n",
              "      <td>311.73</td>\n",
              "      <td>3</td>\n",
              "      <td>4</td>\n",
              "      <td>3</td>\n",
              "      <td>3.333333</td>\n",
              "      <td>10</td>\n",
              "      <td>Can't Loose Them</td>\n",
              "      <td>0.628208</td>\n",
              "      <td>0.919060</td>\n",
              "      <td>0.723761</td>\n",
              "      <td>2.271029</td>\n",
              "    </tr>\n",
              "    <tr>\n",
              "      <th>...</th>\n",
              "      <td>...</td>\n",
              "      <td>...</td>\n",
              "      <td>...</td>\n",
              "      <td>...</td>\n",
              "      <td>...</td>\n",
              "      <td>...</td>\n",
              "      <td>...</td>\n",
              "      <td>...</td>\n",
              "      <td>...</td>\n",
              "      <td>...</td>\n",
              "      <td>...</td>\n",
              "      <td>...</td>\n",
              "      <td>...</td>\n",
              "      <td>...</td>\n",
              "      <td>...</td>\n",
              "      <td>...</td>\n",
              "      <td>...</td>\n",
              "      <td>...</td>\n",
              "    </tr>\n",
              "    <tr>\n",
              "      <th>3930</th>\n",
              "      <td>18280.0</td>\n",
              "      <td>2011-03-07 09:52:00</td>\n",
              "      <td>2011-03-07 09:52:00</td>\n",
              "      <td>180.60</td>\n",
              "      <td>1</td>\n",
              "      <td>2011-11-01</td>\n",
              "      <td>238.588889</td>\n",
              "      <td>NaN</td>\n",
              "      <td>1</td>\n",
              "      <td>1</td>\n",
              "      <td>1</td>\n",
              "      <td>1.000000</td>\n",
              "      <td>3</td>\n",
              "      <td>Require Activation</td>\n",
              "      <td>0.113850</td>\n",
              "      <td>0.170267</td>\n",
              "      <td>0.155527</td>\n",
              "      <td>0.439644</td>\n",
              "    </tr>\n",
              "    <tr>\n",
              "      <th>3931</th>\n",
              "      <td>18281.0</td>\n",
              "      <td>2011-06-12 10:53:00</td>\n",
              "      <td>2011-06-12 10:53:00</td>\n",
              "      <td>80.82</td>\n",
              "      <td>1</td>\n",
              "      <td>2011-11-01</td>\n",
              "      <td>141.546528</td>\n",
              "      <td>NaN</td>\n",
              "      <td>2</td>\n",
              "      <td>1</td>\n",
              "      <td>1</td>\n",
              "      <td>1.333333</td>\n",
              "      <td>4</td>\n",
              "      <td>Needs Attention</td>\n",
              "      <td>0.275476</td>\n",
              "      <td>0.170267</td>\n",
              "      <td>0.039898</td>\n",
              "      <td>0.485642</td>\n",
              "    </tr>\n",
              "    <tr>\n",
              "      <th>3932</th>\n",
              "      <td>18282.0</td>\n",
              "      <td>2011-08-05 13:35:00</td>\n",
              "      <td>2011-08-09 15:10:00</td>\n",
              "      <td>98.76</td>\n",
              "      <td>2</td>\n",
              "      <td>2011-11-01</td>\n",
              "      <td>83.368056</td>\n",
              "      <td>NaN</td>\n",
              "      <td>2</td>\n",
              "      <td>2</td>\n",
              "      <td>1</td>\n",
              "      <td>1.666667</td>\n",
              "      <td>5</td>\n",
              "      <td>Promising</td>\n",
              "      <td>0.400508</td>\n",
              "      <td>0.439136</td>\n",
              "      <td>0.052605</td>\n",
              "      <td>0.892249</td>\n",
              "    </tr>\n",
              "    <tr>\n",
              "      <th>3933</th>\n",
              "      <td>18283.0</td>\n",
              "      <td>2011-01-06 14:14:00</td>\n",
              "      <td>2011-10-27 14:38:00</td>\n",
              "      <td>1235.32</td>\n",
              "      <td>11</td>\n",
              "      <td>2011-11-01</td>\n",
              "      <td>4.390278</td>\n",
              "      <td>651.56</td>\n",
              "      <td>4</td>\n",
              "      <td>4</td>\n",
              "      <td>3</td>\n",
              "      <td>3.666667</td>\n",
              "      <td>11</td>\n",
              "      <td>Can't Loose Them</td>\n",
              "      <td>0.940661</td>\n",
              "      <td>0.933926</td>\n",
              "      <td>0.724269</td>\n",
              "      <td>2.598856</td>\n",
              "    </tr>\n",
              "    <tr>\n",
              "      <th>3934</th>\n",
              "      <td>18287.0</td>\n",
              "      <td>2011-05-22 10:39:00</td>\n",
              "      <td>2011-10-28 09:29:00</td>\n",
              "      <td>1837.28</td>\n",
              "      <td>3</td>\n",
              "      <td>2011-11-01</td>\n",
              "      <td>3.604861</td>\n",
              "      <td>NaN</td>\n",
              "      <td>4</td>\n",
              "      <td>2</td>\n",
              "      <td>4</td>\n",
              "      <td>3.333333</td>\n",
              "      <td>10</td>\n",
              "      <td>Can't Loose Them</td>\n",
              "      <td>0.952732</td>\n",
              "      <td>0.596442</td>\n",
              "      <td>0.820839</td>\n",
              "      <td>2.370013</td>\n",
              "    </tr>\n",
              "  </tbody>\n",
              "</table>\n",
              "<p>3935 rows × 18 columns</p>\n",
              "</div>"
            ],
            "text/plain": [
              "      CustomerID             reg_date  ...     m_pct   rfm_pct\n",
              "0        12346.0  2011-01-18 10:01:00  ...  0.012706  0.507751\n",
              "1        12347.0  2010-12-07 14:57:00  ...  0.950445  2.764549\n",
              "2        12348.0  2010-12-16 19:09:00  ...  0.816773  2.105464\n",
              "3        12350.0  2011-02-02 16:01:00  ...  0.326048  0.573825\n",
              "4        12352.0  2011-02-16 12:33:00  ...  0.723761  2.271029\n",
              "...          ...                  ...  ...       ...       ...\n",
              "3930     18280.0  2011-03-07 09:52:00  ...  0.155527  0.439644\n",
              "3931     18281.0  2011-06-12 10:53:00  ...  0.039898  0.485642\n",
              "3932     18282.0  2011-08-05 13:35:00  ...  0.052605  0.892249\n",
              "3933     18283.0  2011-01-06 14:14:00  ...  0.724269  2.598856\n",
              "3934     18287.0  2011-05-22 10:39:00  ...  0.820839  2.370013\n",
              "\n",
              "[3935 rows x 18 columns]"
            ]
          },
          "metadata": {
            "tags": []
          },
          "execution_count": 106
        }
      ]
    },
    {
      "cell_type": "code",
      "metadata": {
        "id": "BYPB2ts4sNQf"
      },
      "source": [
        "sql = '''\n",
        "select t.r,count(1) from\n",
        "\n",
        "(select t.*,\n",
        "\n",
        "ntile(4) over (order by t.recency desc) as r\n",
        "\n",
        "\n",
        " from customer t) t\n",
        " group by t.r\n",
        " \n",
        " '''"
      ],
      "execution_count": null,
      "outputs": []
    },
    {
      "cell_type": "code",
      "metadata": {
        "colab": {
          "base_uri": "https://localhost:8080/",
          "height": 173
        },
        "id": "lFs0aDkVsjX3",
        "outputId": "3934077a-3d30-4480-8057-1bd57b05f3af"
      },
      "source": [
        "select(sql)"
      ],
      "execution_count": null,
      "outputs": [
        {
          "output_type": "execute_result",
          "data": {
            "text/html": [
              "<div>\n",
              "<style scoped>\n",
              "    .dataframe tbody tr th:only-of-type {\n",
              "        vertical-align: middle;\n",
              "    }\n",
              "\n",
              "    .dataframe tbody tr th {\n",
              "        vertical-align: top;\n",
              "    }\n",
              "\n",
              "    .dataframe thead th {\n",
              "        text-align: right;\n",
              "    }\n",
              "</style>\n",
              "<table border=\"1\" class=\"dataframe\">\n",
              "  <thead>\n",
              "    <tr style=\"text-align: right;\">\n",
              "      <th></th>\n",
              "      <th>r</th>\n",
              "      <th>count(1)</th>\n",
              "    </tr>\n",
              "  </thead>\n",
              "  <tbody>\n",
              "    <tr>\n",
              "      <th>0</th>\n",
              "      <td>1</td>\n",
              "      <td>984</td>\n",
              "    </tr>\n",
              "    <tr>\n",
              "      <th>1</th>\n",
              "      <td>2</td>\n",
              "      <td>984</td>\n",
              "    </tr>\n",
              "    <tr>\n",
              "      <th>2</th>\n",
              "      <td>3</td>\n",
              "      <td>984</td>\n",
              "    </tr>\n",
              "    <tr>\n",
              "      <th>3</th>\n",
              "      <td>4</td>\n",
              "      <td>983</td>\n",
              "    </tr>\n",
              "  </tbody>\n",
              "</table>\n",
              "</div>"
            ],
            "text/plain": [
              "   r  count(1)\n",
              "0  1       984\n",
              "1  2       984\n",
              "2  3       984\n",
              "3  4       983"
            ]
          },
          "metadata": {
            "tags": []
          },
          "execution_count": 108
        }
      ]
    },
    {
      "cell_type": "code",
      "metadata": {
        "id": "Sq-diPq1skE7"
      },
      "source": [
        "sql = '''\n",
        "select t.f,count(1),\n",
        "group_concat(distinct t.frequency)\n",
        "\n",
        " from\n",
        "\n",
        "(select t.*,\n",
        "\n",
        "ntile(4) over (order by t.frequency) as f\n",
        "\n",
        "\n",
        " from customer t) t\n",
        " group by t.f\n",
        " \n",
        " '''"
      ],
      "execution_count": null,
      "outputs": []
    },
    {
      "cell_type": "code",
      "metadata": {
        "colab": {
          "base_uri": "https://localhost:8080/",
          "height": 173
        },
        "id": "5g9y9WQztOQr",
        "outputId": "f3fbbbcc-0cd6-42d4-aa7c-ad983e109a16"
      },
      "source": [
        "select(sql)"
      ],
      "execution_count": null,
      "outputs": [
        {
          "output_type": "execute_result",
          "data": {
            "text/html": [
              "<div>\n",
              "<style scoped>\n",
              "    .dataframe tbody tr th:only-of-type {\n",
              "        vertical-align: middle;\n",
              "    }\n",
              "\n",
              "    .dataframe tbody tr th {\n",
              "        vertical-align: top;\n",
              "    }\n",
              "\n",
              "    .dataframe thead th {\n",
              "        text-align: right;\n",
              "    }\n",
              "</style>\n",
              "<table border=\"1\" class=\"dataframe\">\n",
              "  <thead>\n",
              "    <tr style=\"text-align: right;\">\n",
              "      <th></th>\n",
              "      <th>f</th>\n",
              "      <th>count(1)</th>\n",
              "      <th>group_concat(distinct t.frequency)</th>\n",
              "    </tr>\n",
              "  </thead>\n",
              "  <tbody>\n",
              "    <tr>\n",
              "      <th>0</th>\n",
              "      <td>1</td>\n",
              "      <td>984</td>\n",
              "      <td>1</td>\n",
              "    </tr>\n",
              "    <tr>\n",
              "      <th>1</th>\n",
              "      <td>2</td>\n",
              "      <td>984</td>\n",
              "      <td>1,2</td>\n",
              "    </tr>\n",
              "    <tr>\n",
              "      <th>2</th>\n",
              "      <td>3</td>\n",
              "      <td>984</td>\n",
              "      <td>2,3,4,5</td>\n",
              "    </tr>\n",
              "    <tr>\n",
              "      <th>3</th>\n",
              "      <td>4</td>\n",
              "      <td>983</td>\n",
              "      <td>5,6,7,8,9,10,11,12,13,14,15,16,17,18,19,20,21,...</td>\n",
              "    </tr>\n",
              "  </tbody>\n",
              "</table>\n",
              "</div>"
            ],
            "text/plain": [
              "   f  count(1)                 group_concat(distinct t.frequency)\n",
              "0  1       984                                                  1\n",
              "1  2       984                                                1,2\n",
              "2  3       984                                            2,3,4,5\n",
              "3  4       983  5,6,7,8,9,10,11,12,13,14,15,16,17,18,19,20,21,..."
            ]
          },
          "metadata": {
            "tags": []
          },
          "execution_count": 110
        }
      ]
    },
    {
      "cell_type": "code",
      "metadata": {
        "colab": {
          "base_uri": "https://localhost:8080/",
          "height": 779
        },
        "id": "2eGmghELTruW",
        "outputId": "827e2479-70b0-4afa-f66e-92631d68ca79"
      },
      "source": [
        "t"
      ],
      "execution_count": null,
      "outputs": [
        {
          "output_type": "execute_result",
          "data": {
            "text/html": [
              "<div>\n",
              "<style scoped>\n",
              "    .dataframe tbody tr th:only-of-type {\n",
              "        vertical-align: middle;\n",
              "    }\n",
              "\n",
              "    .dataframe tbody tr th {\n",
              "        vertical-align: top;\n",
              "    }\n",
              "\n",
              "    .dataframe thead th {\n",
              "        text-align: right;\n",
              "    }\n",
              "</style>\n",
              "<table border=\"1\" class=\"dataframe\">\n",
              "  <thead>\n",
              "    <tr style=\"text-align: right;\">\n",
              "      <th></th>\n",
              "      <th>CustomerID</th>\n",
              "      <th>reg_date</th>\n",
              "      <th>last_purchase</th>\n",
              "      <th>monetary</th>\n",
              "      <th>frequency</th>\n",
              "      <th>month</th>\n",
              "      <th>recency</th>\n",
              "      <th>target</th>\n",
              "      <th>r</th>\n",
              "      <th>f</th>\n",
              "      <th>m</th>\n",
              "      <th>rfm_score</th>\n",
              "      <th>RFM_Score</th>\n",
              "      <th>segment</th>\n",
              "      <th>r_pct</th>\n",
              "      <th>f_pct</th>\n",
              "      <th>m_pct</th>\n",
              "      <th>rfm_pct</th>\n",
              "    </tr>\n",
              "  </thead>\n",
              "  <tbody>\n",
              "    <tr>\n",
              "      <th>0</th>\n",
              "      <td>12346.0</td>\n",
              "      <td>2011-01-18 10:01:00</td>\n",
              "      <td>2011-01-18 10:17:00</td>\n",
              "      <td>0.00</td>\n",
              "      <td>2</td>\n",
              "      <td>2011-11-01</td>\n",
              "      <td>286.571528</td>\n",
              "      <td>NaN</td>\n",
              "      <td>1</td>\n",
              "      <td>2</td>\n",
              "      <td>1</td>\n",
              "      <td>1.333333</td>\n",
              "      <td>4</td>\n",
              "      <td>Needs Attention</td>\n",
              "      <td>0.055909</td>\n",
              "      <td>0.439136</td>\n",
              "      <td>0.012706</td>\n",
              "      <td>0.507751</td>\n",
              "    </tr>\n",
              "    <tr>\n",
              "      <th>1</th>\n",
              "      <td>12347.0</td>\n",
              "      <td>2010-12-07 14:57:00</td>\n",
              "      <td>2011-10-31 12:25:00</td>\n",
              "      <td>4085.18</td>\n",
              "      <td>6</td>\n",
              "      <td>2011-11-01</td>\n",
              "      <td>0.482639</td>\n",
              "      <td>NaN</td>\n",
              "      <td>4</td>\n",
              "      <td>3</td>\n",
              "      <td>4</td>\n",
              "      <td>3.666667</td>\n",
              "      <td>11</td>\n",
              "      <td>Can't Loose Them</td>\n",
              "      <td>0.992630</td>\n",
              "      <td>0.821474</td>\n",
              "      <td>0.950445</td>\n",
              "      <td>2.764549</td>\n",
              "    </tr>\n",
              "    <tr>\n",
              "      <th>2</th>\n",
              "      <td>12348.0</td>\n",
              "      <td>2010-12-16 19:09:00</td>\n",
              "      <td>2011-09-25 13:13:00</td>\n",
              "      <td>1797.24</td>\n",
              "      <td>4</td>\n",
              "      <td>2011-11-01</td>\n",
              "      <td>36.449306</td>\n",
              "      <td>NaN</td>\n",
              "      <td>3</td>\n",
              "      <td>3</td>\n",
              "      <td>4</td>\n",
              "      <td>3.333333</td>\n",
              "      <td>10</td>\n",
              "      <td>Can't Loose Them</td>\n",
              "      <td>0.593393</td>\n",
              "      <td>0.695299</td>\n",
              "      <td>0.816773</td>\n",
              "      <td>2.105464</td>\n",
              "    </tr>\n",
              "    <tr>\n",
              "      <th>3</th>\n",
              "      <td>12350.0</td>\n",
              "      <td>2011-02-02 16:01:00</td>\n",
              "      <td>2011-02-02 16:01:00</td>\n",
              "      <td>334.40</td>\n",
              "      <td>1</td>\n",
              "      <td>2011-11-01</td>\n",
              "      <td>271.332639</td>\n",
              "      <td>NaN</td>\n",
              "      <td>1</td>\n",
              "      <td>1</td>\n",
              "      <td>2</td>\n",
              "      <td>1.333333</td>\n",
              "      <td>4</td>\n",
              "      <td>Needs Attention</td>\n",
              "      <td>0.077510</td>\n",
              "      <td>0.170267</td>\n",
              "      <td>0.326048</td>\n",
              "      <td>0.573825</td>\n",
              "    </tr>\n",
              "    <tr>\n",
              "      <th>4</th>\n",
              "      <td>12352.0</td>\n",
              "      <td>2011-02-16 12:33:00</td>\n",
              "      <td>2011-09-28 14:58:00</td>\n",
              "      <td>1233.68</td>\n",
              "      <td>10</td>\n",
              "      <td>2011-11-01</td>\n",
              "      <td>33.376389</td>\n",
              "      <td>311.73</td>\n",
              "      <td>3</td>\n",
              "      <td>4</td>\n",
              "      <td>3</td>\n",
              "      <td>3.333333</td>\n",
              "      <td>10</td>\n",
              "      <td>Can't Loose Them</td>\n",
              "      <td>0.628208</td>\n",
              "      <td>0.919060</td>\n",
              "      <td>0.723761</td>\n",
              "      <td>2.271029</td>\n",
              "    </tr>\n",
              "    <tr>\n",
              "      <th>...</th>\n",
              "      <td>...</td>\n",
              "      <td>...</td>\n",
              "      <td>...</td>\n",
              "      <td>...</td>\n",
              "      <td>...</td>\n",
              "      <td>...</td>\n",
              "      <td>...</td>\n",
              "      <td>...</td>\n",
              "      <td>...</td>\n",
              "      <td>...</td>\n",
              "      <td>...</td>\n",
              "      <td>...</td>\n",
              "      <td>...</td>\n",
              "      <td>...</td>\n",
              "      <td>...</td>\n",
              "      <td>...</td>\n",
              "      <td>...</td>\n",
              "      <td>...</td>\n",
              "    </tr>\n",
              "    <tr>\n",
              "      <th>3930</th>\n",
              "      <td>18280.0</td>\n",
              "      <td>2011-03-07 09:52:00</td>\n",
              "      <td>2011-03-07 09:52:00</td>\n",
              "      <td>180.60</td>\n",
              "      <td>1</td>\n",
              "      <td>2011-11-01</td>\n",
              "      <td>238.588889</td>\n",
              "      <td>NaN</td>\n",
              "      <td>1</td>\n",
              "      <td>1</td>\n",
              "      <td>1</td>\n",
              "      <td>1.000000</td>\n",
              "      <td>3</td>\n",
              "      <td>Require Activation</td>\n",
              "      <td>0.113850</td>\n",
              "      <td>0.170267</td>\n",
              "      <td>0.155527</td>\n",
              "      <td>0.439644</td>\n",
              "    </tr>\n",
              "    <tr>\n",
              "      <th>3931</th>\n",
              "      <td>18281.0</td>\n",
              "      <td>2011-06-12 10:53:00</td>\n",
              "      <td>2011-06-12 10:53:00</td>\n",
              "      <td>80.82</td>\n",
              "      <td>1</td>\n",
              "      <td>2011-11-01</td>\n",
              "      <td>141.546528</td>\n",
              "      <td>NaN</td>\n",
              "      <td>2</td>\n",
              "      <td>1</td>\n",
              "      <td>1</td>\n",
              "      <td>1.333333</td>\n",
              "      <td>4</td>\n",
              "      <td>Needs Attention</td>\n",
              "      <td>0.275476</td>\n",
              "      <td>0.170267</td>\n",
              "      <td>0.039898</td>\n",
              "      <td>0.485642</td>\n",
              "    </tr>\n",
              "    <tr>\n",
              "      <th>3932</th>\n",
              "      <td>18282.0</td>\n",
              "      <td>2011-08-05 13:35:00</td>\n",
              "      <td>2011-08-09 15:10:00</td>\n",
              "      <td>98.76</td>\n",
              "      <td>2</td>\n",
              "      <td>2011-11-01</td>\n",
              "      <td>83.368056</td>\n",
              "      <td>NaN</td>\n",
              "      <td>2</td>\n",
              "      <td>2</td>\n",
              "      <td>1</td>\n",
              "      <td>1.666667</td>\n",
              "      <td>5</td>\n",
              "      <td>Promising</td>\n",
              "      <td>0.400508</td>\n",
              "      <td>0.439136</td>\n",
              "      <td>0.052605</td>\n",
              "      <td>0.892249</td>\n",
              "    </tr>\n",
              "    <tr>\n",
              "      <th>3933</th>\n",
              "      <td>18283.0</td>\n",
              "      <td>2011-01-06 14:14:00</td>\n",
              "      <td>2011-10-27 14:38:00</td>\n",
              "      <td>1235.32</td>\n",
              "      <td>11</td>\n",
              "      <td>2011-11-01</td>\n",
              "      <td>4.390278</td>\n",
              "      <td>651.56</td>\n",
              "      <td>4</td>\n",
              "      <td>4</td>\n",
              "      <td>3</td>\n",
              "      <td>3.666667</td>\n",
              "      <td>11</td>\n",
              "      <td>Can't Loose Them</td>\n",
              "      <td>0.940661</td>\n",
              "      <td>0.933926</td>\n",
              "      <td>0.724269</td>\n",
              "      <td>2.598856</td>\n",
              "    </tr>\n",
              "    <tr>\n",
              "      <th>3934</th>\n",
              "      <td>18287.0</td>\n",
              "      <td>2011-05-22 10:39:00</td>\n",
              "      <td>2011-10-28 09:29:00</td>\n",
              "      <td>1837.28</td>\n",
              "      <td>3</td>\n",
              "      <td>2011-11-01</td>\n",
              "      <td>3.604861</td>\n",
              "      <td>NaN</td>\n",
              "      <td>4</td>\n",
              "      <td>2</td>\n",
              "      <td>4</td>\n",
              "      <td>3.333333</td>\n",
              "      <td>10</td>\n",
              "      <td>Can't Loose Them</td>\n",
              "      <td>0.952732</td>\n",
              "      <td>0.596442</td>\n",
              "      <td>0.820839</td>\n",
              "      <td>2.370013</td>\n",
              "    </tr>\n",
              "  </tbody>\n",
              "</table>\n",
              "<p>3935 rows × 18 columns</p>\n",
              "</div>"
            ],
            "text/plain": [
              "      CustomerID             reg_date  ...     m_pct   rfm_pct\n",
              "0        12346.0  2011-01-18 10:01:00  ...  0.012706  0.507751\n",
              "1        12347.0  2010-12-07 14:57:00  ...  0.950445  2.764549\n",
              "2        12348.0  2010-12-16 19:09:00  ...  0.816773  2.105464\n",
              "3        12350.0  2011-02-02 16:01:00  ...  0.326048  0.573825\n",
              "4        12352.0  2011-02-16 12:33:00  ...  0.723761  2.271029\n",
              "...          ...                  ...  ...       ...       ...\n",
              "3930     18280.0  2011-03-07 09:52:00  ...  0.155527  0.439644\n",
              "3931     18281.0  2011-06-12 10:53:00  ...  0.039898  0.485642\n",
              "3932     18282.0  2011-08-05 13:35:00  ...  0.052605  0.892249\n",
              "3933     18283.0  2011-01-06 14:14:00  ...  0.724269  2.598856\n",
              "3934     18287.0  2011-05-22 10:39:00  ...  0.820839  2.370013\n",
              "\n",
              "[3935 rows x 18 columns]"
            ]
          },
          "metadata": {
            "tags": []
          },
          "execution_count": 111
        }
      ]
    },
    {
      "cell_type": "code",
      "metadata": {
        "colab": {
          "base_uri": "https://localhost:8080/",
          "height": 204
        },
        "id": "6m0u89mjZvcS",
        "outputId": "25c37301-7b59-4b82-993c-da32eecd4cc8"
      },
      "source": [
        "t.pivot_table(index='f',columns='r',values='monetary',aggfunc='sum')"
      ],
      "execution_count": null,
      "outputs": [
        {
          "output_type": "execute_result",
          "data": {
            "text/html": [
              "<div>\n",
              "<style scoped>\n",
              "    .dataframe tbody tr th:only-of-type {\n",
              "        vertical-align: middle;\n",
              "    }\n",
              "\n",
              "    .dataframe tbody tr th {\n",
              "        vertical-align: top;\n",
              "    }\n",
              "\n",
              "    .dataframe thead th {\n",
              "        text-align: right;\n",
              "    }\n",
              "</style>\n",
              "<table border=\"1\" class=\"dataframe\">\n",
              "  <thead>\n",
              "    <tr style=\"text-align: right;\">\n",
              "      <th>r</th>\n",
              "      <th>1</th>\n",
              "      <th>2</th>\n",
              "      <th>3</th>\n",
              "      <th>4</th>\n",
              "    </tr>\n",
              "    <tr>\n",
              "      <th>f</th>\n",
              "      <th></th>\n",
              "      <th></th>\n",
              "      <th></th>\n",
              "      <th></th>\n",
              "    </tr>\n",
              "  </thead>\n",
              "  <tbody>\n",
              "    <tr>\n",
              "      <th>1</th>\n",
              "      <td>173455.080</td>\n",
              "      <td>93840.87</td>\n",
              "      <td>103849.131</td>\n",
              "      <td>71046.26</td>\n",
              "    </tr>\n",
              "    <tr>\n",
              "      <th>2</th>\n",
              "      <td>149795.381</td>\n",
              "      <td>266158.92</td>\n",
              "      <td>234848.141</td>\n",
              "      <td>201137.25</td>\n",
              "    </tr>\n",
              "    <tr>\n",
              "      <th>3</th>\n",
              "      <td>63802.860</td>\n",
              "      <td>287989.92</td>\n",
              "      <td>386605.081</td>\n",
              "      <td>346290.83</td>\n",
              "    </tr>\n",
              "    <tr>\n",
              "      <th>4</th>\n",
              "      <td>27635.610</td>\n",
              "      <td>230306.10</td>\n",
              "      <td>639572.730</td>\n",
              "      <td>1099217.62</td>\n",
              "    </tr>\n",
              "  </tbody>\n",
              "</table>\n",
              "</div>"
            ],
            "text/plain": [
              "r           1          2           3           4\n",
              "f                                               \n",
              "1  173455.080   93840.87  103849.131    71046.26\n",
              "2  149795.381  266158.92  234848.141   201137.25\n",
              "3   63802.860  287989.92  386605.081   346290.83\n",
              "4   27635.610  230306.10  639572.730  1099217.62"
            ]
          },
          "metadata": {
            "tags": []
          },
          "execution_count": 112
        }
      ]
    },
    {
      "cell_type": "code",
      "metadata": {
        "colab": {
          "base_uri": "https://localhost:8080/",
          "height": 545
        },
        "id": "yX5jvUeCaktH",
        "outputId": "60026e4c-9c09-4bf1-955d-c8f7ec3636de"
      },
      "source": [
        "t.groupby(['f','r'])['monetary'].sum().reset_index()"
      ],
      "execution_count": null,
      "outputs": [
        {
          "output_type": "execute_result",
          "data": {
            "text/html": [
              "<div>\n",
              "<style scoped>\n",
              "    .dataframe tbody tr th:only-of-type {\n",
              "        vertical-align: middle;\n",
              "    }\n",
              "\n",
              "    .dataframe tbody tr th {\n",
              "        vertical-align: top;\n",
              "    }\n",
              "\n",
              "    .dataframe thead th {\n",
              "        text-align: right;\n",
              "    }\n",
              "</style>\n",
              "<table border=\"1\" class=\"dataframe\">\n",
              "  <thead>\n",
              "    <tr style=\"text-align: right;\">\n",
              "      <th></th>\n",
              "      <th>f</th>\n",
              "      <th>r</th>\n",
              "      <th>monetary</th>\n",
              "    </tr>\n",
              "  </thead>\n",
              "  <tbody>\n",
              "    <tr>\n",
              "      <th>0</th>\n",
              "      <td>1</td>\n",
              "      <td>1</td>\n",
              "      <td>173455.080</td>\n",
              "    </tr>\n",
              "    <tr>\n",
              "      <th>1</th>\n",
              "      <td>1</td>\n",
              "      <td>2</td>\n",
              "      <td>93840.870</td>\n",
              "    </tr>\n",
              "    <tr>\n",
              "      <th>2</th>\n",
              "      <td>1</td>\n",
              "      <td>3</td>\n",
              "      <td>103849.131</td>\n",
              "    </tr>\n",
              "    <tr>\n",
              "      <th>3</th>\n",
              "      <td>1</td>\n",
              "      <td>4</td>\n",
              "      <td>71046.260</td>\n",
              "    </tr>\n",
              "    <tr>\n",
              "      <th>4</th>\n",
              "      <td>2</td>\n",
              "      <td>1</td>\n",
              "      <td>149795.381</td>\n",
              "    </tr>\n",
              "    <tr>\n",
              "      <th>5</th>\n",
              "      <td>2</td>\n",
              "      <td>2</td>\n",
              "      <td>266158.920</td>\n",
              "    </tr>\n",
              "    <tr>\n",
              "      <th>6</th>\n",
              "      <td>2</td>\n",
              "      <td>3</td>\n",
              "      <td>234848.141</td>\n",
              "    </tr>\n",
              "    <tr>\n",
              "      <th>7</th>\n",
              "      <td>2</td>\n",
              "      <td>4</td>\n",
              "      <td>201137.250</td>\n",
              "    </tr>\n",
              "    <tr>\n",
              "      <th>8</th>\n",
              "      <td>3</td>\n",
              "      <td>1</td>\n",
              "      <td>63802.860</td>\n",
              "    </tr>\n",
              "    <tr>\n",
              "      <th>9</th>\n",
              "      <td>3</td>\n",
              "      <td>2</td>\n",
              "      <td>287989.920</td>\n",
              "    </tr>\n",
              "    <tr>\n",
              "      <th>10</th>\n",
              "      <td>3</td>\n",
              "      <td>3</td>\n",
              "      <td>386605.081</td>\n",
              "    </tr>\n",
              "    <tr>\n",
              "      <th>11</th>\n",
              "      <td>3</td>\n",
              "      <td>4</td>\n",
              "      <td>346290.830</td>\n",
              "    </tr>\n",
              "    <tr>\n",
              "      <th>12</th>\n",
              "      <td>4</td>\n",
              "      <td>1</td>\n",
              "      <td>27635.610</td>\n",
              "    </tr>\n",
              "    <tr>\n",
              "      <th>13</th>\n",
              "      <td>4</td>\n",
              "      <td>2</td>\n",
              "      <td>230306.100</td>\n",
              "    </tr>\n",
              "    <tr>\n",
              "      <th>14</th>\n",
              "      <td>4</td>\n",
              "      <td>3</td>\n",
              "      <td>639572.730</td>\n",
              "    </tr>\n",
              "    <tr>\n",
              "      <th>15</th>\n",
              "      <td>4</td>\n",
              "      <td>4</td>\n",
              "      <td>1099217.620</td>\n",
              "    </tr>\n",
              "  </tbody>\n",
              "</table>\n",
              "</div>"
            ],
            "text/plain": [
              "    f  r     monetary\n",
              "0   1  1   173455.080\n",
              "1   1  2    93840.870\n",
              "2   1  3   103849.131\n",
              "3   1  4    71046.260\n",
              "4   2  1   149795.381\n",
              "5   2  2   266158.920\n",
              "6   2  3   234848.141\n",
              "7   2  4   201137.250\n",
              "8   3  1    63802.860\n",
              "9   3  2   287989.920\n",
              "10  3  3   386605.081\n",
              "11  3  4   346290.830\n",
              "12  4  1    27635.610\n",
              "13  4  2   230306.100\n",
              "14  4  3   639572.730\n",
              "15  4  4  1099217.620"
            ]
          },
          "metadata": {
            "tags": []
          },
          "execution_count": 114
        }
      ]
    },
    {
      "cell_type": "code",
      "metadata": {
        "id": "27XRGsB-af3M"
      },
      "source": [
        "t.pivot_table(index='f',columns='r',values='monetary',aggfunc='sum')"
      ],
      "execution_count": null,
      "outputs": []
    },
    {
      "cell_type": "code",
      "metadata": {
        "colab": {
          "base_uri": "https://localhost:8080/",
          "height": 265
        },
        "id": "J3NrQP4aaz__",
        "outputId": "6e7cefe8-7874-4517-f901-a5cad6c538e9"
      },
      "source": [
        "import numpy as np; np.random.seed(0)\n",
        "import seaborn as sns\n",
        "uniform_data = np.random.rand(10, 12)\n",
        "ax = sns.heatmap(uniform_data)"
      ],
      "execution_count": null,
      "outputs": [
        {
          "output_type": "display_data",
          "data": {
            "image/png": "[encoded data removed]",
            "text/plain": [
              "<Figure size 432x288 with 2 Axes>"
            ]
          },
          "metadata": {
            "tags": [],
            "needs_background": "light"
          }
        }
      ]
    },
    {
      "cell_type": "code",
      "metadata": {
        "colab": {
          "base_uri": "https://localhost:8080/",
          "height": 307
        },
        "id": "hN8GtNMPa268",
        "outputId": "41ed6b02-8709-406d-e040-15fbc0e4f9fd"
      },
      "source": [
        "sns.heatmap(t.pivot_table(index='f',columns='r',values='monetary',aggfunc='sum'))"
      ],
      "execution_count": null,
      "outputs": [
        {
          "output_type": "execute_result",
          "data": {
            "text/plain": [
              "<matplotlib.axes._subplots.AxesSubplot at 0x7f81cc385a58>"
            ]
          },
          "metadata": {
            "tags": []
          },
          "execution_count": 116
        },
        {
          "output_type": "display_data",
          "data": {
            "image/png": "[encoded data removed]",
            "text/plain": [
              "<Figure size 432x288 with 2 Axes>"
            ]
          },
          "metadata": {
            "tags": [],
            "needs_background": "light"
          }
        }
      ]
    },
    {
      "cell_type": "code",
      "metadata": {
        "colab": {
          "base_uri": "https://localhost:8080/",
          "height": 298
        },
        "id": "gZgnS4NIa8CF",
        "outputId": "15b11029-10fc-43a3-cf98-79ca9ef8bea0"
      },
      "source": [
        "sns.heatmap(t.pivot_table(index='f',columns='r',values='target',aggfunc='sum'))"
      ],
      "execution_count": null,
      "outputs": [
        {
          "output_type": "execute_result",
          "data": {
            "text/plain": [
              "<matplotlib.axes._subplots.AxesSubplot at 0x7f81cc3750b8>"
            ]
          },
          "metadata": {
            "tags": []
          },
          "execution_count": 117
        },
        {
          "output_type": "display_data",
          "data": {
            "image/png": "[encoded data removed]",
            "text/plain": [
              "<Figure size 432x288 with 2 Axes>"
            ]
          },
          "metadata": {
            "tags": [],
            "needs_background": "light"
          }
        }
      ]
    },
    {
      "cell_type": "code",
      "metadata": {
        "id": "05_nZtcCbSkd"
      },
      "source": [
        "t['has_purchase'] = (t['target'] > 0) * 1"
      ],
      "execution_count": null,
      "outputs": []
    },
    {
      "cell_type": "code",
      "metadata": {
        "colab": {
          "base_uri": "https://localhost:8080/"
        },
        "id": "ZV3lRdu7bome",
        "outputId": "3699baf9-b76d-4461-d198-bf5dd62e0e08"
      },
      "source": [
        "t['has_purchase'].mean()"
      ],
      "execution_count": null,
      "outputs": [
        {
          "output_type": "execute_result",
          "data": {
            "text/plain": [
              "0.3232528589580686"
            ]
          },
          "metadata": {
            "tags": []
          },
          "execution_count": 120
        }
      ]
    },
    {
      "cell_type": "code",
      "metadata": {
        "colab": {
          "base_uri": "https://localhost:8080/",
          "height": 296
        },
        "id": "yPggATWRb8z4",
        "outputId": "11925cbe-2596-4fbe-f1ea-1621483f6706"
      },
      "source": [
        "sns.heatmap(t.pivot_table(index='f',columns='r',values='has_purchase',aggfunc='mean'))"
      ],
      "execution_count": null,
      "outputs": [
        {
          "output_type": "execute_result",
          "data": {
            "text/plain": [
              "<matplotlib.axes._subplots.AxesSubplot at 0x7f81b75e3f28>"
            ]
          },
          "metadata": {
            "tags": []
          },
          "execution_count": 121
        },
        {
          "output_type": "display_data",
          "data": {
            "image/png": "[encoded data removed]",
            "text/plain": [
              "<Figure size 432x288 with 2 Axes>"
            ]
          },
          "metadata": {
            "tags": [],
            "needs_background": "light"
          }
        }
      ]
    },
    {
      "cell_type": "code",
      "metadata": {
        "colab": {
          "base_uri": "https://localhost:8080/",
          "height": 204
        },
        "id": "34qGJjgGcMnY",
        "outputId": "64abe22e-74b2-40bb-d4b2-e45d373eeeb5"
      },
      "source": [
        "t.pivot_table(index='f',columns='r',values='has_purchase',aggfunc='mean')"
      ],
      "execution_count": null,
      "outputs": [
        {
          "output_type": "execute_result",
          "data": {
            "text/html": [
              "<div>\n",
              "<style scoped>\n",
              "    .dataframe tbody tr th:only-of-type {\n",
              "        vertical-align: middle;\n",
              "    }\n",
              "\n",
              "    .dataframe tbody tr th {\n",
              "        vertical-align: top;\n",
              "    }\n",
              "\n",
              "    .dataframe thead th {\n",
              "        text-align: right;\n",
              "    }\n",
              "</style>\n",
              "<table border=\"1\" class=\"dataframe\">\n",
              "  <thead>\n",
              "    <tr style=\"text-align: right;\">\n",
              "      <th>r</th>\n",
              "      <th>1</th>\n",
              "      <th>2</th>\n",
              "      <th>3</th>\n",
              "      <th>4</th>\n",
              "    </tr>\n",
              "    <tr>\n",
              "      <th>f</th>\n",
              "      <th></th>\n",
              "      <th></th>\n",
              "      <th></th>\n",
              "      <th></th>\n",
              "    </tr>\n",
              "  </thead>\n",
              "  <tbody>\n",
              "    <tr>\n",
              "      <th>1</th>\n",
              "      <td>0.139647</td>\n",
              "      <td>0.175258</td>\n",
              "      <td>0.173729</td>\n",
              "      <td>0.222222</td>\n",
              "    </tr>\n",
              "    <tr>\n",
              "      <th>2</th>\n",
              "      <td>0.175862</td>\n",
              "      <td>0.225131</td>\n",
              "      <td>0.367893</td>\n",
              "      <td>0.363296</td>\n",
              "    </tr>\n",
              "    <tr>\n",
              "      <th>3</th>\n",
              "      <td>0.305085</td>\n",
              "      <td>0.334884</td>\n",
              "      <td>0.474359</td>\n",
              "      <td>0.417040</td>\n",
              "    </tr>\n",
              "    <tr>\n",
              "      <th>4</th>\n",
              "      <td>0.166667</td>\n",
              "      <td>0.621053</td>\n",
              "      <td>0.683721</td>\n",
              "      <td>0.672131</td>\n",
              "    </tr>\n",
              "  </tbody>\n",
              "</table>\n",
              "</div>"
            ],
            "text/plain": [
              "r         1         2         3         4\n",
              "f                                        \n",
              "1  0.139647  0.175258  0.173729  0.222222\n",
              "2  0.175862  0.225131  0.367893  0.363296\n",
              "3  0.305085  0.334884  0.474359  0.417040\n",
              "4  0.166667  0.621053  0.683721  0.672131"
            ]
          },
          "metadata": {
            "tags": []
          },
          "execution_count": 122
        }
      ]
    },
    {
      "cell_type": "code",
      "metadata": {
        "colab": {
          "base_uri": "https://localhost:8080/",
          "height": 779
        },
        "id": "VLBeIE5VcS6S",
        "outputId": "0c098497-8095-44da-db91-6ad305c93faa"
      },
      "source": [
        "t"
      ],
      "execution_count": null,
      "outputs": [
        {
          "output_type": "execute_result",
          "data": {
            "text/html": [
              "<div>\n",
              "<style scoped>\n",
              "    .dataframe tbody tr th:only-of-type {\n",
              "        vertical-align: middle;\n",
              "    }\n",
              "\n",
              "    .dataframe tbody tr th {\n",
              "        vertical-align: top;\n",
              "    }\n",
              "\n",
              "    .dataframe thead th {\n",
              "        text-align: right;\n",
              "    }\n",
              "</style>\n",
              "<table border=\"1\" class=\"dataframe\">\n",
              "  <thead>\n",
              "    <tr style=\"text-align: right;\">\n",
              "      <th></th>\n",
              "      <th>CustomerID</th>\n",
              "      <th>reg_date</th>\n",
              "      <th>last_purchase</th>\n",
              "      <th>monetary</th>\n",
              "      <th>frequency</th>\n",
              "      <th>month</th>\n",
              "      <th>recency</th>\n",
              "      <th>target</th>\n",
              "      <th>r</th>\n",
              "      <th>f</th>\n",
              "      <th>m</th>\n",
              "      <th>rfm_score</th>\n",
              "      <th>RFM_Score</th>\n",
              "      <th>segment</th>\n",
              "      <th>r_pct</th>\n",
              "      <th>f_pct</th>\n",
              "      <th>m_pct</th>\n",
              "      <th>rfm_pct</th>\n",
              "      <th>has_purchase</th>\n",
              "    </tr>\n",
              "  </thead>\n",
              "  <tbody>\n",
              "    <tr>\n",
              "      <th>0</th>\n",
              "      <td>12346.0</td>\n",
              "      <td>2011-01-18 10:01:00</td>\n",
              "      <td>2011-01-18 10:17:00</td>\n",
              "      <td>0.00</td>\n",
              "      <td>2</td>\n",
              "      <td>2011-11-01</td>\n",
              "      <td>286.571528</td>\n",
              "      <td>NaN</td>\n",
              "      <td>1</td>\n",
              "      <td>2</td>\n",
              "      <td>1</td>\n",
              "      <td>1.333333</td>\n",
              "      <td>4</td>\n",
              "      <td>Needs Attention</td>\n",
              "      <td>0.055909</td>\n",
              "      <td>0.439136</td>\n",
              "      <td>0.012706</td>\n",
              "      <td>0.507751</td>\n",
              "      <td>0</td>\n",
              "    </tr>\n",
              "    <tr>\n",
              "      <th>1</th>\n",
              "      <td>12347.0</td>\n",
              "      <td>2010-12-07 14:57:00</td>\n",
              "      <td>2011-10-31 12:25:00</td>\n",
              "      <td>4085.18</td>\n",
              "      <td>6</td>\n",
              "      <td>2011-11-01</td>\n",
              "      <td>0.482639</td>\n",
              "      <td>NaN</td>\n",
              "      <td>4</td>\n",
              "      <td>3</td>\n",
              "      <td>4</td>\n",
              "      <td>3.666667</td>\n",
              "      <td>11</td>\n",
              "      <td>Can't Loose Them</td>\n",
              "      <td>0.992630</td>\n",
              "      <td>0.821474</td>\n",
              "      <td>0.950445</td>\n",
              "      <td>2.764549</td>\n",
              "      <td>0</td>\n",
              "    </tr>\n",
              "    <tr>\n",
              "      <th>2</th>\n",
              "      <td>12348.0</td>\n",
              "      <td>2010-12-16 19:09:00</td>\n",
              "      <td>2011-09-25 13:13:00</td>\n",
              "      <td>1797.24</td>\n",
              "      <td>4</td>\n",
              "      <td>2011-11-01</td>\n",
              "      <td>36.449306</td>\n",
              "      <td>NaN</td>\n",
              "      <td>3</td>\n",
              "      <td>3</td>\n",
              "      <td>4</td>\n",
              "      <td>3.333333</td>\n",
              "      <td>10</td>\n",
              "      <td>Can't Loose Them</td>\n",
              "      <td>0.593393</td>\n",
              "      <td>0.695299</td>\n",
              "      <td>0.816773</td>\n",
              "      <td>2.105464</td>\n",
              "      <td>0</td>\n",
              "    </tr>\n",
              "    <tr>\n",
              "      <th>3</th>\n",
              "      <td>12350.0</td>\n",
              "      <td>2011-02-02 16:01:00</td>\n",
              "      <td>2011-02-02 16:01:00</td>\n",
              "      <td>334.40</td>\n",
              "      <td>1</td>\n",
              "      <td>2011-11-01</td>\n",
              "      <td>271.332639</td>\n",
              "      <td>NaN</td>\n",
              "      <td>1</td>\n",
              "      <td>1</td>\n",
              "      <td>2</td>\n",
              "      <td>1.333333</td>\n",
              "      <td>4</td>\n",
              "      <td>Needs Attention</td>\n",
              "      <td>0.077510</td>\n",
              "      <td>0.170267</td>\n",
              "      <td>0.326048</td>\n",
              "      <td>0.573825</td>\n",
              "      <td>0</td>\n",
              "    </tr>\n",
              "    <tr>\n",
              "      <th>4</th>\n",
              "      <td>12352.0</td>\n",
              "      <td>2011-02-16 12:33:00</td>\n",
              "      <td>2011-09-28 14:58:00</td>\n",
              "      <td>1233.68</td>\n",
              "      <td>10</td>\n",
              "      <td>2011-11-01</td>\n",
              "      <td>33.376389</td>\n",
              "      <td>311.73</td>\n",
              "      <td>3</td>\n",
              "      <td>4</td>\n",
              "      <td>3</td>\n",
              "      <td>3.333333</td>\n",
              "      <td>10</td>\n",
              "      <td>Can't Loose Them</td>\n",
              "      <td>0.628208</td>\n",
              "      <td>0.919060</td>\n",
              "      <td>0.723761</td>\n",
              "      <td>2.271029</td>\n",
              "      <td>1</td>\n",
              "    </tr>\n",
              "    <tr>\n",
              "      <th>...</th>\n",
              "      <td>...</td>\n",
              "      <td>...</td>\n",
              "      <td>...</td>\n",
              "      <td>...</td>\n",
              "      <td>...</td>\n",
              "      <td>...</td>\n",
              "      <td>...</td>\n",
              "      <td>...</td>\n",
              "      <td>...</td>\n",
              "      <td>...</td>\n",
              "      <td>...</td>\n",
              "      <td>...</td>\n",
              "      <td>...</td>\n",
              "      <td>...</td>\n",
              "      <td>...</td>\n",
              "      <td>...</td>\n",
              "      <td>...</td>\n",
              "      <td>...</td>\n",
              "      <td>...</td>\n",
              "    </tr>\n",
              "    <tr>\n",
              "      <th>3930</th>\n",
              "      <td>18280.0</td>\n",
              "      <td>2011-03-07 09:52:00</td>\n",
              "      <td>2011-03-07 09:52:00</td>\n",
              "      <td>180.60</td>\n",
              "      <td>1</td>\n",
              "      <td>2011-11-01</td>\n",
              "      <td>238.588889</td>\n",
              "      <td>NaN</td>\n",
              "      <td>1</td>\n",
              "      <td>1</td>\n",
              "      <td>1</td>\n",
              "      <td>1.000000</td>\n",
              "      <td>3</td>\n",
              "      <td>Require Activation</td>\n",
              "      <td>0.113850</td>\n",
              "      <td>0.170267</td>\n",
              "      <td>0.155527</td>\n",
              "      <td>0.439644</td>\n",
              "      <td>0</td>\n",
              "    </tr>\n",
              "    <tr>\n",
              "      <th>3931</th>\n",
              "      <td>18281.0</td>\n",
              "      <td>2011-06-12 10:53:00</td>\n",
              "      <td>2011-06-12 10:53:00</td>\n",
              "      <td>80.82</td>\n",
              "      <td>1</td>\n",
              "      <td>2011-11-01</td>\n",
              "      <td>141.546528</td>\n",
              "      <td>NaN</td>\n",
              "      <td>2</td>\n",
              "      <td>1</td>\n",
              "      <td>1</td>\n",
              "      <td>1.333333</td>\n",
              "      <td>4</td>\n",
              "      <td>Needs Attention</td>\n",
              "      <td>0.275476</td>\n",
              "      <td>0.170267</td>\n",
              "      <td>0.039898</td>\n",
              "      <td>0.485642</td>\n",
              "      <td>0</td>\n",
              "    </tr>\n",
              "    <tr>\n",
              "      <th>3932</th>\n",
              "      <td>18282.0</td>\n",
              "      <td>2011-08-05 13:35:00</td>\n",
              "      <td>2011-08-09 15:10:00</td>\n",
              "      <td>98.76</td>\n",
              "      <td>2</td>\n",
              "      <td>2011-11-01</td>\n",
              "      <td>83.368056</td>\n",
              "      <td>NaN</td>\n",
              "      <td>2</td>\n",
              "      <td>2</td>\n",
              "      <td>1</td>\n",
              "      <td>1.666667</td>\n",
              "      <td>5</td>\n",
              "      <td>Promising</td>\n",
              "      <td>0.400508</td>\n",
              "      <td>0.439136</td>\n",
              "      <td>0.052605</td>\n",
              "      <td>0.892249</td>\n",
              "      <td>0</td>\n",
              "    </tr>\n",
              "    <tr>\n",
              "      <th>3933</th>\n",
              "      <td>18283.0</td>\n",
              "      <td>2011-01-06 14:14:00</td>\n",
              "      <td>2011-10-27 14:38:00</td>\n",
              "      <td>1235.32</td>\n",
              "      <td>11</td>\n",
              "      <td>2011-11-01</td>\n",
              "      <td>4.390278</td>\n",
              "      <td>651.56</td>\n",
              "      <td>4</td>\n",
              "      <td>4</td>\n",
              "      <td>3</td>\n",
              "      <td>3.666667</td>\n",
              "      <td>11</td>\n",
              "      <td>Can't Loose Them</td>\n",
              "      <td>0.940661</td>\n",
              "      <td>0.933926</td>\n",
              "      <td>0.724269</td>\n",
              "      <td>2.598856</td>\n",
              "      <td>1</td>\n",
              "    </tr>\n",
              "    <tr>\n",
              "      <th>3934</th>\n",
              "      <td>18287.0</td>\n",
              "      <td>2011-05-22 10:39:00</td>\n",
              "      <td>2011-10-28 09:29:00</td>\n",
              "      <td>1837.28</td>\n",
              "      <td>3</td>\n",
              "      <td>2011-11-01</td>\n",
              "      <td>3.604861</td>\n",
              "      <td>NaN</td>\n",
              "      <td>4</td>\n",
              "      <td>2</td>\n",
              "      <td>4</td>\n",
              "      <td>3.333333</td>\n",
              "      <td>10</td>\n",
              "      <td>Can't Loose Them</td>\n",
              "      <td>0.952732</td>\n",
              "      <td>0.596442</td>\n",
              "      <td>0.820839</td>\n",
              "      <td>2.370013</td>\n",
              "      <td>0</td>\n",
              "    </tr>\n",
              "  </tbody>\n",
              "</table>\n",
              "<p>3935 rows × 19 columns</p>\n",
              "</div>"
            ],
            "text/plain": [
              "      CustomerID             reg_date  ...   rfm_pct  has_purchase\n",
              "0        12346.0  2011-01-18 10:01:00  ...  0.507751             0\n",
              "1        12347.0  2010-12-07 14:57:00  ...  2.764549             0\n",
              "2        12348.0  2010-12-16 19:09:00  ...  2.105464             0\n",
              "3        12350.0  2011-02-02 16:01:00  ...  0.573825             0\n",
              "4        12352.0  2011-02-16 12:33:00  ...  2.271029             1\n",
              "...          ...                  ...  ...       ...           ...\n",
              "3930     18280.0  2011-03-07 09:52:00  ...  0.439644             0\n",
              "3931     18281.0  2011-06-12 10:53:00  ...  0.485642             0\n",
              "3932     18282.0  2011-08-05 13:35:00  ...  0.892249             0\n",
              "3933     18283.0  2011-01-06 14:14:00  ...  2.598856             1\n",
              "3934     18287.0  2011-05-22 10:39:00  ...  2.370013             0\n",
              "\n",
              "[3935 rows x 19 columns]"
            ]
          },
          "metadata": {
            "tags": []
          },
          "execution_count": 123
        }
      ]
    },
    {
      "cell_type": "code",
      "metadata": {
        "colab": {
          "base_uri": "https://localhost:8080/"
        },
        "id": "YO7DQKLkctMQ",
        "outputId": "e0c0f818-c6e3-4db4-a8ea-9619e8f4f256"
      },
      "source": [
        "t['has_purchase'].sum()"
      ],
      "execution_count": null,
      "outputs": [
        {
          "output_type": "execute_result",
          "data": {
            "text/plain": [
              "1272"
            ]
          },
          "metadata": {
            "tags": []
          },
          "execution_count": 126
        }
      ]
    },
    {
      "cell_type": "code",
      "metadata": {
        "colab": {
          "base_uri": "https://localhost:8080/"
        },
        "id": "3BPeKOCvdetk",
        "outputId": "b9dfe02b-ea16-4d30-9615-af77ad626f36"
      },
      "source": [
        "len(t)"
      ],
      "execution_count": null,
      "outputs": [
        {
          "output_type": "execute_result",
          "data": {
            "text/plain": [
              "3935"
            ]
          },
          "metadata": {
            "tags": []
          },
          "execution_count": 127
        }
      ]
    },
    {
      "cell_type": "code",
      "metadata": {
        "colab": {
          "base_uri": "https://localhost:8080/"
        },
        "id": "qT_C5Cq1dpxv",
        "outputId": "83ef118d-ed85-4ee1-d043-dfcf2cd3afa5"
      },
      "source": [
        "t.sample(frac=0.2)['has_purchase'].sum()/t['has_purchase'].sum()"
      ],
      "execution_count": null,
      "outputs": [
        {
          "output_type": "execute_result",
          "data": {
            "text/plain": [
              "0.18396226415094338"
            ]
          },
          "metadata": {
            "tags": []
          },
          "execution_count": 145
        }
      ]
    },
    {
      "cell_type": "code",
      "metadata": {
        "id": "iXk9hpzRdtR2"
      },
      "source": [
        "t.sort_values('rfm_score',ascending=False,inplace=True)"
      ],
      "execution_count": null,
      "outputs": []
    },
    {
      "cell_type": "code",
      "metadata": {
        "colab": {
          "base_uri": "https://localhost:8080/",
          "height": 779
        },
        "id": "JkIAQMuKeZBI",
        "outputId": "530a49dc-11b0-41bb-d355-6dfd7ff67d26"
      },
      "source": [
        "t"
      ],
      "execution_count": null,
      "outputs": [
        {
          "output_type": "execute_result",
          "data": {
            "text/html": [
              "<div>\n",
              "<style scoped>\n",
              "    .dataframe tbody tr th:only-of-type {\n",
              "        vertical-align: middle;\n",
              "    }\n",
              "\n",
              "    .dataframe tbody tr th {\n",
              "        vertical-align: top;\n",
              "    }\n",
              "\n",
              "    .dataframe thead th {\n",
              "        text-align: right;\n",
              "    }\n",
              "</style>\n",
              "<table border=\"1\" class=\"dataframe\">\n",
              "  <thead>\n",
              "    <tr style=\"text-align: right;\">\n",
              "      <th></th>\n",
              "      <th>CustomerID</th>\n",
              "      <th>reg_date</th>\n",
              "      <th>last_purchase</th>\n",
              "      <th>monetary</th>\n",
              "      <th>frequency</th>\n",
              "      <th>month</th>\n",
              "      <th>recency</th>\n",
              "      <th>target</th>\n",
              "      <th>r</th>\n",
              "      <th>f</th>\n",
              "      <th>m</th>\n",
              "      <th>rfm_score</th>\n",
              "      <th>RFM_Score</th>\n",
              "      <th>segment</th>\n",
              "      <th>r_pct</th>\n",
              "      <th>f_pct</th>\n",
              "      <th>m_pct</th>\n",
              "      <th>rfm_pct</th>\n",
              "      <th>has_purchase</th>\n",
              "    </tr>\n",
              "  </thead>\n",
              "  <tbody>\n",
              "    <tr>\n",
              "      <th>1172</th>\n",
              "      <td>14085.0</td>\n",
              "      <td>2010-12-06 12:39:00</td>\n",
              "      <td>2011-10-25 16:20:00</td>\n",
              "      <td>3525.98</td>\n",
              "      <td>15</td>\n",
              "      <td>2011-11-01</td>\n",
              "      <td>6.319444</td>\n",
              "      <td>278.82</td>\n",
              "      <td>4</td>\n",
              "      <td>4</td>\n",
              "      <td>4</td>\n",
              "      <td>4.0</td>\n",
              "      <td>12</td>\n",
              "      <td>Can't Loose Them</td>\n",
              "      <td>0.908259</td>\n",
              "      <td>0.967471</td>\n",
              "      <td>0.934435</td>\n",
              "      <td>2.810165</td>\n",
              "      <td>1</td>\n",
              "    </tr>\n",
              "    <tr>\n",
              "      <th>1187</th>\n",
              "      <td>14112.0</td>\n",
              "      <td>2011-03-09 11:28:00</td>\n",
              "      <td>2011-10-30 16:00:00</td>\n",
              "      <td>2613.15</td>\n",
              "      <td>10</td>\n",
              "      <td>2011-11-01</td>\n",
              "      <td>1.333333</td>\n",
              "      <td>161.02</td>\n",
              "      <td>4</td>\n",
              "      <td>4</td>\n",
              "      <td>4</td>\n",
              "      <td>4.0</td>\n",
              "      <td>12</td>\n",
              "      <td>Can't Loose Them</td>\n",
              "      <td>0.984244</td>\n",
              "      <td>0.919060</td>\n",
              "      <td>0.889962</td>\n",
              "      <td>2.793266</td>\n",
              "      <td>1</td>\n",
              "    </tr>\n",
              "    <tr>\n",
              "      <th>2113</th>\n",
              "      <td>15505.0</td>\n",
              "      <td>2011-07-07 13:33:00</td>\n",
              "      <td>2011-10-18 07:56:00</td>\n",
              "      <td>3497.14</td>\n",
              "      <td>7</td>\n",
              "      <td>2011-11-01</td>\n",
              "      <td>13.669444</td>\n",
              "      <td>NaN</td>\n",
              "      <td>4</td>\n",
              "      <td>4</td>\n",
              "      <td>4</td>\n",
              "      <td>4.0</td>\n",
              "      <td>12</td>\n",
              "      <td>Can't Loose Them</td>\n",
              "      <td>0.809911</td>\n",
              "      <td>0.855400</td>\n",
              "      <td>0.933418</td>\n",
              "      <td>2.598729</td>\n",
              "      <td>0</td>\n",
              "    </tr>\n",
              "    <tr>\n",
              "      <th>2098</th>\n",
              "      <td>15482.0</td>\n",
              "      <td>2010-12-16 10:08:00</td>\n",
              "      <td>2011-10-25 17:32:00</td>\n",
              "      <td>2503.50</td>\n",
              "      <td>8</td>\n",
              "      <td>2011-11-01</td>\n",
              "      <td>6.269444</td>\n",
              "      <td>4065.22</td>\n",
              "      <td>4</td>\n",
              "      <td>4</td>\n",
              "      <td>4</td>\n",
              "      <td>4.0</td>\n",
              "      <td>12</td>\n",
              "      <td>Can't Loose Them</td>\n",
              "      <td>0.909530</td>\n",
              "      <td>0.882211</td>\n",
              "      <td>0.883100</td>\n",
              "      <td>2.674841</td>\n",
              "      <td>1</td>\n",
              "    </tr>\n",
              "    <tr>\n",
              "      <th>3337</th>\n",
              "      <td>17365.0</td>\n",
              "      <td>2011-01-11 12:11:00</td>\n",
              "      <td>2011-10-20 12:07:00</td>\n",
              "      <td>4375.19</td>\n",
              "      <td>7</td>\n",
              "      <td>2011-11-01</td>\n",
              "      <td>11.495139</td>\n",
              "      <td>426.37</td>\n",
              "      <td>4</td>\n",
              "      <td>4</td>\n",
              "      <td>4</td>\n",
              "      <td>4.0</td>\n",
              "      <td>12</td>\n",
              "      <td>Can't Loose Them</td>\n",
              "      <td>0.844473</td>\n",
              "      <td>0.855400</td>\n",
              "      <td>0.957814</td>\n",
              "      <td>2.657687</td>\n",
              "      <td>1</td>\n",
              "    </tr>\n",
              "    <tr>\n",
              "      <th>...</th>\n",
              "      <td>...</td>\n",
              "      <td>...</td>\n",
              "      <td>...</td>\n",
              "      <td>...</td>\n",
              "      <td>...</td>\n",
              "      <td>...</td>\n",
              "      <td>...</td>\n",
              "      <td>...</td>\n",
              "      <td>...</td>\n",
              "      <td>...</td>\n",
              "      <td>...</td>\n",
              "      <td>...</td>\n",
              "      <td>...</td>\n",
              "      <td>...</td>\n",
              "      <td>...</td>\n",
              "      <td>...</td>\n",
              "      <td>...</td>\n",
              "      <td>...</td>\n",
              "      <td>...</td>\n",
              "    </tr>\n",
              "    <tr>\n",
              "      <th>2475</th>\n",
              "      <td>16061.0</td>\n",
              "      <td>2011-03-15 14:41:00</td>\n",
              "      <td>2011-03-15 14:41:00</td>\n",
              "      <td>-29.95</td>\n",
              "      <td>1</td>\n",
              "      <td>2011-11-01</td>\n",
              "      <td>230.388194</td>\n",
              "      <td>NaN</td>\n",
              "      <td>1</td>\n",
              "      <td>1</td>\n",
              "      <td>1</td>\n",
              "      <td>1.0</td>\n",
              "      <td>3</td>\n",
              "      <td>Require Activation</td>\n",
              "      <td>0.125794</td>\n",
              "      <td>0.170267</td>\n",
              "      <td>0.007116</td>\n",
              "      <td>0.303177</td>\n",
              "      <td>0</td>\n",
              "    </tr>\n",
              "    <tr>\n",
              "      <th>3533</th>\n",
              "      <td>17670.0</td>\n",
              "      <td>2011-04-26 09:12:00</td>\n",
              "      <td>2011-04-26 09:12:00</td>\n",
              "      <td>205.70</td>\n",
              "      <td>1</td>\n",
              "      <td>2011-11-01</td>\n",
              "      <td>188.616667</td>\n",
              "      <td>NaN</td>\n",
              "      <td>1</td>\n",
              "      <td>1</td>\n",
              "      <td>1</td>\n",
              "      <td>1.0</td>\n",
              "      <td>3</td>\n",
              "      <td>Require Activation</td>\n",
              "      <td>0.191105</td>\n",
              "      <td>0.170267</td>\n",
              "      <td>0.181703</td>\n",
              "      <td>0.543075</td>\n",
              "      <td>0</td>\n",
              "    </tr>\n",
              "    <tr>\n",
              "      <th>2484</th>\n",
              "      <td>16078.0</td>\n",
              "      <td>2011-03-01 09:47:00</td>\n",
              "      <td>2011-03-01 09:47:00</td>\n",
              "      <td>79.20</td>\n",
              "      <td>1</td>\n",
              "      <td>2011-11-01</td>\n",
              "      <td>244.592361</td>\n",
              "      <td>NaN</td>\n",
              "      <td>1</td>\n",
              "      <td>1</td>\n",
              "      <td>1</td>\n",
              "      <td>1.0</td>\n",
              "      <td>3</td>\n",
              "      <td>Require Activation</td>\n",
              "      <td>0.104956</td>\n",
              "      <td>0.170267</td>\n",
              "      <td>0.038374</td>\n",
              "      <td>0.313596</td>\n",
              "      <td>0</td>\n",
              "    </tr>\n",
              "    <tr>\n",
              "      <th>2497</th>\n",
              "      <td>16097.0</td>\n",
              "      <td>2011-04-13 13:47:00</td>\n",
              "      <td>2011-04-13 13:47:00</td>\n",
              "      <td>185.05</td>\n",
              "      <td>1</td>\n",
              "      <td>2011-11-01</td>\n",
              "      <td>201.425694</td>\n",
              "      <td>NaN</td>\n",
              "      <td>1</td>\n",
              "      <td>1</td>\n",
              "      <td>1</td>\n",
              "      <td>1.0</td>\n",
              "      <td>3</td>\n",
              "      <td>Require Activation</td>\n",
              "      <td>0.174079</td>\n",
              "      <td>0.170267</td>\n",
              "      <td>0.159085</td>\n",
              "      <td>0.503431</td>\n",
              "      <td>0</td>\n",
              "    </tr>\n",
              "    <tr>\n",
              "      <th>1536</th>\n",
              "      <td>14627.0</td>\n",
              "      <td>2011-02-01 10:49:00</td>\n",
              "      <td>2011-02-01 10:49:00</td>\n",
              "      <td>-21.85</td>\n",
              "      <td>1</td>\n",
              "      <td>2011-11-01</td>\n",
              "      <td>272.549306</td>\n",
              "      <td>NaN</td>\n",
              "      <td>1</td>\n",
              "      <td>1</td>\n",
              "      <td>1</td>\n",
              "      <td>1.0</td>\n",
              "      <td>3</td>\n",
              "      <td>Require Activation</td>\n",
              "      <td>0.073698</td>\n",
              "      <td>0.170267</td>\n",
              "      <td>0.007624</td>\n",
              "      <td>0.251588</td>\n",
              "      <td>0</td>\n",
              "    </tr>\n",
              "  </tbody>\n",
              "</table>\n",
              "<p>3935 rows × 19 columns</p>\n",
              "</div>"
            ],
            "text/plain": [
              "      CustomerID             reg_date  ...   rfm_pct  has_purchase\n",
              "1172     14085.0  2010-12-06 12:39:00  ...  2.810165             1\n",
              "1187     14112.0  2011-03-09 11:28:00  ...  2.793266             1\n",
              "2113     15505.0  2011-07-07 13:33:00  ...  2.598729             0\n",
              "2098     15482.0  2010-12-16 10:08:00  ...  2.674841             1\n",
              "3337     17365.0  2011-01-11 12:11:00  ...  2.657687             1\n",
              "...          ...                  ...  ...       ...           ...\n",
              "2475     16061.0  2011-03-15 14:41:00  ...  0.303177             0\n",
              "3533     17670.0  2011-04-26 09:12:00  ...  0.543075             0\n",
              "2484     16078.0  2011-03-01 09:47:00  ...  0.313596             0\n",
              "2497     16097.0  2011-04-13 13:47:00  ...  0.503431             0\n",
              "1536     14627.0  2011-02-01 10:49:00  ...  0.251588             0\n",
              "\n",
              "[3935 rows x 19 columns]"
            ]
          },
          "metadata": {
            "tags": []
          },
          "execution_count": 147
        }
      ]
    },
    {
      "cell_type": "code",
      "metadata": {
        "colab": {
          "base_uri": "https://localhost:8080/"
        },
        "id": "BcMMbXbIefUe",
        "outputId": "cf6af6b9-2bbc-4516-d9a5-628247e2a035"
      },
      "source": [
        "0.2 * len(t)"
      ],
      "execution_count": null,
      "outputs": [
        {
          "output_type": "execute_result",
          "data": {
            "text/plain": [
              "787.0"
            ]
          },
          "metadata": {
            "tags": []
          },
          "execution_count": 149
        }
      ]
    },
    {
      "cell_type": "code",
      "metadata": {
        "colab": {
          "base_uri": "https://localhost:8080/"
        },
        "id": "K3eRe0D0eaEA",
        "outputId": "0b1bf552-8219-4cb7-e92b-afa1fd9c9776"
      },
      "source": [
        "t.head(round(0.2 * len(t)))['has_purchase'].sum()/t['has_purchase'].sum()"
      ],
      "execution_count": null,
      "outputs": [
        {
          "output_type": "execute_result",
          "data": {
            "text/plain": [
              "0.375"
            ]
          },
          "metadata": {
            "tags": []
          },
          "execution_count": 152
        }
      ]
    },
    {
      "cell_type": "code",
      "metadata": {
        "colab": {
          "base_uri": "https://localhost:8080/"
        },
        "id": "wQIiVua_edmJ",
        "outputId": "595f68f2-f5a8-444b-8a23-b7041e666696"
      },
      "source": [
        "t.head(round(0.2 * len(t)))['has_purchase'].sum()/t['has_purchase'].sum() / 0.2"
      ],
      "execution_count": null,
      "outputs": [
        {
          "output_type": "execute_result",
          "data": {
            "text/plain": [
              "1.875"
            ]
          },
          "metadata": {
            "tags": []
          },
          "execution_count": 153
        }
      ]
    },
    {
      "cell_type": "code",
      "metadata": {
        "colab": {
          "base_uri": "https://localhost:8080/"
        },
        "id": "lX_7Vihpe4-x",
        "outputId": "15e39d98-ab40-4f0a-90dc-5647c2fbb6e0"
      },
      "source": [
        "!pip install scikit-plot"
      ],
      "execution_count": null,
      "outputs": [
        {
          "output_type": "stream",
          "text": [
            "Collecting scikit-plot\n",
            "  Downloading https://files.pythonhosted.org/packages/7c/47/32520e259340c140a4ad27c1b97050dd3254fdc517b1d59974d47037510e/scikit_plot-0.3.7-py3-none-any.whl\n",
            "Requirement already satisfied: joblib>=0.10 in /usr/local/lib/python3.6/dist-packages (from scikit-plot) (0.17.0)\n",
            "Requirement already satisfied: matplotlib>=1.4.0 in /usr/local/lib/python3.6/dist-packages (from scikit-plot) (3.2.2)\n",
            "Requirement already satisfied: scikit-learn>=0.18 in /usr/local/lib/python3.6/dist-packages (from scikit-plot) (0.22.2.post1)\n",
            "Requirement already satisfied: scipy>=0.9 in /usr/local/lib/python3.6/dist-packages (from scikit-plot) (1.4.1)\n",
            "Requirement already satisfied: python-dateutil>=2.1 in /usr/local/lib/python3.6/dist-packages (from matplotlib>=1.4.0->scikit-plot) (2.8.1)\n",
            "Requirement already satisfied: kiwisolver>=1.0.1 in /usr/local/lib/python3.6/dist-packages (from matplotlib>=1.4.0->scikit-plot) (1.3.1)\n",
            "Requirement already satisfied: numpy>=1.11 in /usr/local/lib/python3.6/dist-packages (from matplotlib>=1.4.0->scikit-plot) (1.18.5)\n",
            "Requirement already satisfied: cycler>=0.10 in /usr/local/lib/python3.6/dist-packages (from matplotlib>=1.4.0->scikit-plot) (0.10.0)\n",
            "Requirement already satisfied: pyparsing!=2.0.4,!=2.1.2,!=2.1.6,>=2.0.1 in /usr/local/lib/python3.6/dist-packages (from matplotlib>=1.4.0->scikit-plot) (2.4.7)\n",
            "Requirement already satisfied: six>=1.5 in /usr/local/lib/python3.6/dist-packages (from python-dateutil>=2.1->matplotlib>=1.4.0->scikit-plot) (1.15.0)\n",
            "Installing collected packages: scikit-plot\n",
            "Successfully installed scikit-plot-0.3.7\n"
          ],
          "name": "stdout"
        }
      ]
    },
    {
      "cell_type": "code",
      "metadata": {
        "id": "iJ9-Y5Zdfb0z"
      },
      "source": [
        "from scikitplot.helpers import cumulative_gain_curve"
      ],
      "execution_count": null,
      "outputs": []
    },
    {
      "cell_type": "code",
      "metadata": {
        "id": "JZrzRAySfkz7"
      },
      "source": [
        "per, gain = cumulative_gain_curve(t['has_purchase'],t['rfm_score'])\n",
        "lc = pd.DataFrame({'per':per,'gain':gain})\n",
        "lc['random'] = lc['per']\n",
        "_, ideal = cumulative_gain_curve(t['has_purchase'],t['has_purchase'])\n",
        "lc['ideal'] = ideal"
      ],
      "execution_count": null,
      "outputs": []
    },
    {
      "cell_type": "code",
      "metadata": {
        "colab": {
          "base_uri": "https://localhost:8080/",
          "height": 405
        },
        "id": "QebWlrnDf_Wq",
        "outputId": "5b7ee32c-bcb5-4bbb-8e77-a7f3457975f4"
      },
      "source": [
        "lc.plot(x='per',y=['gain','random','ideal'],figsize=(6,6),grid=True)"
      ],
      "execution_count": null,
      "outputs": [
        {
          "output_type": "execute_result",
          "data": {
            "text/plain": [
              "<matplotlib.axes._subplots.AxesSubplot at 0x7f81b37bdb70>"
            ]
          },
          "metadata": {
            "tags": []
          },
          "execution_count": 169
        },
        {
          "output_type": "display_data",
          "data": {
            "image/png": "[encoded data removed]",
            "text/plain": [
              "<Figure size 432x432 with 1 Axes>"
            ]
          },
          "metadata": {
            "tags": [],
            "needs_background": "light"
          }
        }
      ]
    },
    {
      "cell_type": "code",
      "metadata": {
        "colab": {
          "base_uri": "https://localhost:8080/"
        },
        "id": "ievPrrlwf_3-",
        "outputId": "84754596-f35e-4981-b6ef-6a6834fa70b2"
      },
      "source": [
        "t['has_purchase'].mean()"
      ],
      "execution_count": null,
      "outputs": [
        {
          "output_type": "execute_result",
          "data": {
            "text/plain": [
              "0.3232528589580686"
            ]
          },
          "metadata": {
            "tags": []
          },
          "execution_count": 166
        }
      ]
    },
    {
      "cell_type": "code",
      "metadata": {
        "id": "d9RpYmkpgyaU"
      },
      "source": [
        "from sklearn.metrics import auc"
      ],
      "execution_count": null,
      "outputs": []
    },
    {
      "cell_type": "code",
      "metadata": {
        "id": "KtgjsU0FiFFj"
      },
      "source": [
        "model_auc = auc(lc['per'],lc['gain']) - 0.5\n",
        "ideal_auc = auc(lc['per'],lc['ideal']) - 0.5\n",
        "gini = model_auc / ideal_auc"
      ],
      "execution_count": null,
      "outputs": []
    },
    {
      "cell_type": "code",
      "metadata": {
        "colab": {
          "base_uri": "https://localhost:8080/"
        },
        "id": "3LIgyzQ4i7XC",
        "outputId": "7abae523-7b20-43bd-afbc-8510fb927b3c"
      },
      "source": [
        "gini"
      ],
      "execution_count": null,
      "outputs": [
        {
          "output_type": "execute_result",
          "data": {
            "text/plain": [
              "0.43762413885129803"
            ]
          },
          "metadata": {
            "tags": []
          },
          "execution_count": 180
        }
      ]
    },
    {
      "cell_type": "code",
      "metadata": {
        "id": "R3TSprJIincA"
      },
      "source": [
        "from sklearn.metrics import roc_auc_score"
      ],
      "execution_count": null,
      "outputs": []
    },
    {
      "cell_type": "code",
      "metadata": {
        "id": "1X9qcBIsiycp"
      },
      "source": [
        "rocuac = roc_auc_score(t['has_purchase'],t['rfm_score'])"
      ],
      "execution_count": null,
      "outputs": []
    },
    {
      "cell_type": "code",
      "metadata": {
        "colab": {
          "base_uri": "https://localhost:8080/"
        },
        "id": "Sp7ORXUli4p-",
        "outputId": "28a755c3-a1b2-427e-be54-a1f851721b2b"
      },
      "source": [
        "2 * rocuac - 1"
      ],
      "execution_count": null,
      "outputs": [
        {
          "output_type": "execute_result",
          "data": {
            "text/plain": [
              "0.43442457435577686"
            ]
          },
          "metadata": {
            "tags": []
          },
          "execution_count": 184
        }
      ]
    },
    {
      "cell_type": "code",
      "metadata": {
        "colab": {
          "base_uri": "https://localhost:8080/"
        },
        "id": "SPxqp7JpjEa4",
        "outputId": "67cc39c7-d965-4b17-ba1d-a78f1f926741"
      },
      "source": [
        "gini"
      ],
      "execution_count": null,
      "outputs": [
        {
          "output_type": "execute_result",
          "data": {
            "text/plain": [
              "0.43762413885129803"
            ]
          },
          "metadata": {
            "tags": []
          },
          "execution_count": 185
        }
      ]
    },
    {
      "cell_type": "markdown",
      "metadata": {
        "id": "073vY4gkoJ4P"
      },
      "source": [
        "Не совпадает потому что скоры не уникальные. Можно добавить шум, и увидеть, что все работает."
      ]
    },
    {
      "cell_type": "code",
      "metadata": {
        "colab": {
          "base_uri": "https://localhost:8080/"
        },
        "id": "dLW-DpSFjGcz",
        "outputId": "5e516a4f-992c-451b-d0c3-d7e5d605d75a"
      },
      "source": [
        "t['rfm_score'].value_counts()"
      ],
      "execution_count": null,
      "outputs": [
        {
          "output_type": "execute_result",
          "data": {
            "text/plain": [
              "2.000000    500\n",
              "2.333333    476\n",
              "1.333333    438\n",
              "2.666667    418\n",
              "1.666667    409\n",
              "1.000000    387\n",
              "3.000000    374\n",
              "3.333333    348\n",
              "3.666667    309\n",
              "4.000000    276\n",
              "Name: rfm_score, dtype: int64"
            ]
          },
          "metadata": {
            "tags": []
          },
          "execution_count": 186
        }
      ]
    },
    {
      "cell_type": "code",
      "metadata": {
        "colab": {
          "base_uri": "https://localhost:8080/"
        },
        "id": "Bps8EYeIkYVk",
        "outputId": "0c4dd7fc-b194-4578-fe0d-a1f224397a40"
      },
      "source": [
        "np.random.uniform(size=len(t)) / 10000000"
      ],
      "execution_count": null,
      "outputs": [
        {
          "output_type": "execute_result",
          "data": {
            "text/plain": [
              "array([5.04684497e-09, 4.50937988e-08, 3.21117495e-08, ...,\n",
              "       6.66324515e-08, 9.94100140e-08, 3.51277707e-08])"
            ]
          },
          "metadata": {
            "tags": []
          },
          "execution_count": 193
        }
      ]
    },
    {
      "cell_type": "code",
      "metadata": {
        "id": "zySOOKU_kT39"
      },
      "source": [
        "t['rfm_score_noise'] = t['rfm_score'] + (np.random.uniform(size=len(t)) / 10000000)"
      ],
      "execution_count": null,
      "outputs": []
    },
    {
      "cell_type": "code",
      "metadata": {
        "id": "OhclWFgSjiIl"
      },
      "source": [
        "per, gain = cumulative_gain_curve(t['has_purchase'],t['rfm_score_noise'])\n",
        "lc = pd.DataFrame({'per':per,'gain':gain})\n",
        "lc['random'] = lc['per']\n",
        "_, ideal = cumulative_gain_curve(t['has_purchase'],t['has_purchase'])\n",
        "lc['ideal'] = ideal"
      ],
      "execution_count": null,
      "outputs": []
    },
    {
      "cell_type": "code",
      "metadata": {
        "id": "RKhPYT3SkyXo"
      },
      "source": [
        "model_auc = auc(lc['per'],lc['gain']) - 0.5\n",
        "ideal_auc = auc(lc['per'],lc['ideal']) - 0.5\n",
        "gini = model_auc / ideal_auc"
      ],
      "execution_count": null,
      "outputs": []
    },
    {
      "cell_type": "code",
      "metadata": {
        "colab": {
          "base_uri": "https://localhost:8080/"
        },
        "id": "SCVPN6OJk3BW",
        "outputId": "3809757a-a521-487a-f8e9-8404633c56bd"
      },
      "source": [
        "gini"
      ],
      "execution_count": null,
      "outputs": [
        {
          "output_type": "execute_result",
          "data": {
            "text/plain": [
              "0.4358770431985489"
            ]
          },
          "metadata": {
            "tags": []
          },
          "execution_count": 198
        }
      ]
    },
    {
      "cell_type": "code",
      "metadata": {
        "id": "z8ejqXMrk3qf"
      },
      "source": [
        "rocuac = roc_auc_score(t['has_purchase'],t['rfm_score_noise'])"
      ],
      "execution_count": null,
      "outputs": []
    },
    {
      "cell_type": "code",
      "metadata": {
        "colab": {
          "base_uri": "https://localhost:8080/"
        },
        "id": "hQDQpgzyk7ln",
        "outputId": "bddaa361-c650-4b9a-d640-dc3b956e34a1"
      },
      "source": [
        "2 * rocuac - 1"
      ],
      "execution_count": null,
      "outputs": [
        {
          "output_type": "execute_result",
          "data": {
            "text/plain": [
              "0.43587704319854903"
            ]
          },
          "metadata": {
            "tags": []
          },
          "execution_count": 200
        }
      ]
    },
    {
      "cell_type": "code",
      "metadata": {
        "id": "EioHgtnIk-LD"
      },
      "source": [
        ""
      ],
      "execution_count": null,
      "outputs": []
    }
  ]
}